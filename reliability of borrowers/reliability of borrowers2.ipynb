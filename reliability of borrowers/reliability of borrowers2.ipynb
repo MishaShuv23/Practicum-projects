{
 "cells": [
  {
   "cell_type": "markdown",
   "id": "649e2dc4",
   "metadata": {
    "deletable": false,
    "editable": false,
    "id": "c81daeeb"
   },
   "source": [
    "# Исследование надежности заемщиков\n"
   ]
  },
  {
   "cell_type": "markdown",
   "id": "9212f1c4",
   "metadata": {
    "deletable": false,
    "editable": false,
    "id": "827c20bf"
   },
   "source": [
    "Во второй части проекта вы выполните шаги 3 и 4. Их вручную проверит ревьюер.\n",
    "Чтобы вам не пришлось писать код заново для шагов 1 и 2, мы добавили авторские решения в ячейки с кодом. \n",
    "\n"
   ]
  },
  {
   "cell_type": "markdown",
   "id": "ba0db3cd",
   "metadata": {
    "deletable": false,
    "editable": false,
    "id": "744d7639"
   },
   "source": [
    "## Откройте таблицу и изучите общую информацию о данных"
   ]
  },
  {
   "cell_type": "markdown",
   "id": "95fb0d17",
   "metadata": {
    "deletable": false,
    "editable": false,
    "id": "e7a14c31"
   },
   "source": [
    "**Задание 1. Импортируйте библиотеку pandas. Считайте данные из csv-файла в датафрейм и сохраните в переменную `data`. Путь к файлу:**\n",
    "\n",
    "`/datasets/data.csv`"
   ]
  },
  {
   "cell_type": "code",
   "execution_count": 1,
   "id": "c71a0c76",
   "metadata": {
    "deletable": false,
    "id": "7bcf75c9"
   },
   "outputs": [],
   "source": [
    "import pandas as pd\n",
    "\n",
    "try:\n",
    "    data = pd.read_csv('/datasets/data.csv')\n",
    "except:\n",
    "    data = pd.read_csv('https://code.s3.yandex.net/datasets/data.csv')"
   ]
  },
  {
   "cell_type": "markdown",
   "id": "e01548c2",
   "metadata": {
    "deletable": false,
    "editable": false,
    "id": "b8038fe3"
   },
   "source": [
    "**Задание 2. Выведите первые 20 строчек датафрейма `data` на экран.**"
   ]
  },
  {
   "cell_type": "code",
   "execution_count": 2,
   "id": "ddae042f",
   "metadata": {
    "deletable": false,
    "id": "2a7cab99",
    "outputId": "1a8f3ef2-d323-4ec2-ddf7-89670b5944c4"
   },
   "outputs": [
    {
     "data": {
      "text/html": [
       "<div>\n",
       "<style scoped>\n",
       "    .dataframe tbody tr th:only-of-type {\n",
       "        vertical-align: middle;\n",
       "    }\n",
       "\n",
       "    .dataframe tbody tr th {\n",
       "        vertical-align: top;\n",
       "    }\n",
       "\n",
       "    .dataframe thead th {\n",
       "        text-align: right;\n",
       "    }\n",
       "</style>\n",
       "<table border=\"1\" class=\"dataframe\">\n",
       "  <thead>\n",
       "    <tr style=\"text-align: right;\">\n",
       "      <th></th>\n",
       "      <th>children</th>\n",
       "      <th>days_employed</th>\n",
       "      <th>dob_years</th>\n",
       "      <th>education</th>\n",
       "      <th>education_id</th>\n",
       "      <th>family_status</th>\n",
       "      <th>family_status_id</th>\n",
       "      <th>gender</th>\n",
       "      <th>income_type</th>\n",
       "      <th>debt</th>\n",
       "      <th>total_income</th>\n",
       "      <th>purpose</th>\n",
       "    </tr>\n",
       "  </thead>\n",
       "  <tbody>\n",
       "    <tr>\n",
       "      <th>0</th>\n",
       "      <td>1</td>\n",
       "      <td>-8437.673028</td>\n",
       "      <td>42</td>\n",
       "      <td>высшее</td>\n",
       "      <td>0</td>\n",
       "      <td>женат / замужем</td>\n",
       "      <td>0</td>\n",
       "      <td>F</td>\n",
       "      <td>сотрудник</td>\n",
       "      <td>0</td>\n",
       "      <td>253875.639453</td>\n",
       "      <td>покупка жилья</td>\n",
       "    </tr>\n",
       "    <tr>\n",
       "      <th>1</th>\n",
       "      <td>1</td>\n",
       "      <td>-4024.803754</td>\n",
       "      <td>36</td>\n",
       "      <td>среднее</td>\n",
       "      <td>1</td>\n",
       "      <td>женат / замужем</td>\n",
       "      <td>0</td>\n",
       "      <td>F</td>\n",
       "      <td>сотрудник</td>\n",
       "      <td>0</td>\n",
       "      <td>112080.014102</td>\n",
       "      <td>приобретение автомобиля</td>\n",
       "    </tr>\n",
       "    <tr>\n",
       "      <th>2</th>\n",
       "      <td>0</td>\n",
       "      <td>-5623.422610</td>\n",
       "      <td>33</td>\n",
       "      <td>Среднее</td>\n",
       "      <td>1</td>\n",
       "      <td>женат / замужем</td>\n",
       "      <td>0</td>\n",
       "      <td>M</td>\n",
       "      <td>сотрудник</td>\n",
       "      <td>0</td>\n",
       "      <td>145885.952297</td>\n",
       "      <td>покупка жилья</td>\n",
       "    </tr>\n",
       "    <tr>\n",
       "      <th>3</th>\n",
       "      <td>3</td>\n",
       "      <td>-4124.747207</td>\n",
       "      <td>32</td>\n",
       "      <td>среднее</td>\n",
       "      <td>1</td>\n",
       "      <td>женат / замужем</td>\n",
       "      <td>0</td>\n",
       "      <td>M</td>\n",
       "      <td>сотрудник</td>\n",
       "      <td>0</td>\n",
       "      <td>267628.550329</td>\n",
       "      <td>дополнительное образование</td>\n",
       "    </tr>\n",
       "    <tr>\n",
       "      <th>4</th>\n",
       "      <td>0</td>\n",
       "      <td>340266.072047</td>\n",
       "      <td>53</td>\n",
       "      <td>среднее</td>\n",
       "      <td>1</td>\n",
       "      <td>гражданский брак</td>\n",
       "      <td>1</td>\n",
       "      <td>F</td>\n",
       "      <td>пенсионер</td>\n",
       "      <td>0</td>\n",
       "      <td>158616.077870</td>\n",
       "      <td>сыграть свадьбу</td>\n",
       "    </tr>\n",
       "    <tr>\n",
       "      <th>5</th>\n",
       "      <td>0</td>\n",
       "      <td>-926.185831</td>\n",
       "      <td>27</td>\n",
       "      <td>высшее</td>\n",
       "      <td>0</td>\n",
       "      <td>гражданский брак</td>\n",
       "      <td>1</td>\n",
       "      <td>M</td>\n",
       "      <td>компаньон</td>\n",
       "      <td>0</td>\n",
       "      <td>255763.565419</td>\n",
       "      <td>покупка жилья</td>\n",
       "    </tr>\n",
       "    <tr>\n",
       "      <th>6</th>\n",
       "      <td>0</td>\n",
       "      <td>-2879.202052</td>\n",
       "      <td>43</td>\n",
       "      <td>высшее</td>\n",
       "      <td>0</td>\n",
       "      <td>женат / замужем</td>\n",
       "      <td>0</td>\n",
       "      <td>F</td>\n",
       "      <td>компаньон</td>\n",
       "      <td>0</td>\n",
       "      <td>240525.971920</td>\n",
       "      <td>операции с жильем</td>\n",
       "    </tr>\n",
       "    <tr>\n",
       "      <th>7</th>\n",
       "      <td>0</td>\n",
       "      <td>-152.779569</td>\n",
       "      <td>50</td>\n",
       "      <td>СРЕДНЕЕ</td>\n",
       "      <td>1</td>\n",
       "      <td>женат / замужем</td>\n",
       "      <td>0</td>\n",
       "      <td>M</td>\n",
       "      <td>сотрудник</td>\n",
       "      <td>0</td>\n",
       "      <td>135823.934197</td>\n",
       "      <td>образование</td>\n",
       "    </tr>\n",
       "    <tr>\n",
       "      <th>8</th>\n",
       "      <td>2</td>\n",
       "      <td>-6929.865299</td>\n",
       "      <td>35</td>\n",
       "      <td>ВЫСШЕЕ</td>\n",
       "      <td>0</td>\n",
       "      <td>гражданский брак</td>\n",
       "      <td>1</td>\n",
       "      <td>F</td>\n",
       "      <td>сотрудник</td>\n",
       "      <td>0</td>\n",
       "      <td>95856.832424</td>\n",
       "      <td>на проведение свадьбы</td>\n",
       "    </tr>\n",
       "    <tr>\n",
       "      <th>9</th>\n",
       "      <td>0</td>\n",
       "      <td>-2188.756445</td>\n",
       "      <td>41</td>\n",
       "      <td>среднее</td>\n",
       "      <td>1</td>\n",
       "      <td>женат / замужем</td>\n",
       "      <td>0</td>\n",
       "      <td>M</td>\n",
       "      <td>сотрудник</td>\n",
       "      <td>0</td>\n",
       "      <td>144425.938277</td>\n",
       "      <td>покупка жилья для семьи</td>\n",
       "    </tr>\n",
       "    <tr>\n",
       "      <th>10</th>\n",
       "      <td>2</td>\n",
       "      <td>-4171.483647</td>\n",
       "      <td>36</td>\n",
       "      <td>высшее</td>\n",
       "      <td>0</td>\n",
       "      <td>женат / замужем</td>\n",
       "      <td>0</td>\n",
       "      <td>M</td>\n",
       "      <td>компаньон</td>\n",
       "      <td>0</td>\n",
       "      <td>113943.491460</td>\n",
       "      <td>покупка недвижимости</td>\n",
       "    </tr>\n",
       "    <tr>\n",
       "      <th>11</th>\n",
       "      <td>0</td>\n",
       "      <td>-792.701887</td>\n",
       "      <td>40</td>\n",
       "      <td>среднее</td>\n",
       "      <td>1</td>\n",
       "      <td>женат / замужем</td>\n",
       "      <td>0</td>\n",
       "      <td>F</td>\n",
       "      <td>сотрудник</td>\n",
       "      <td>0</td>\n",
       "      <td>77069.234271</td>\n",
       "      <td>покупка коммерческой недвижимости</td>\n",
       "    </tr>\n",
       "    <tr>\n",
       "      <th>12</th>\n",
       "      <td>0</td>\n",
       "      <td>NaN</td>\n",
       "      <td>65</td>\n",
       "      <td>среднее</td>\n",
       "      <td>1</td>\n",
       "      <td>гражданский брак</td>\n",
       "      <td>1</td>\n",
       "      <td>M</td>\n",
       "      <td>пенсионер</td>\n",
       "      <td>0</td>\n",
       "      <td>NaN</td>\n",
       "      <td>сыграть свадьбу</td>\n",
       "    </tr>\n",
       "    <tr>\n",
       "      <th>13</th>\n",
       "      <td>0</td>\n",
       "      <td>-1846.641941</td>\n",
       "      <td>54</td>\n",
       "      <td>неоконченное высшее</td>\n",
       "      <td>2</td>\n",
       "      <td>женат / замужем</td>\n",
       "      <td>0</td>\n",
       "      <td>F</td>\n",
       "      <td>сотрудник</td>\n",
       "      <td>0</td>\n",
       "      <td>130458.228857</td>\n",
       "      <td>приобретение автомобиля</td>\n",
       "    </tr>\n",
       "    <tr>\n",
       "      <th>14</th>\n",
       "      <td>0</td>\n",
       "      <td>-1844.956182</td>\n",
       "      <td>56</td>\n",
       "      <td>высшее</td>\n",
       "      <td>0</td>\n",
       "      <td>гражданский брак</td>\n",
       "      <td>1</td>\n",
       "      <td>F</td>\n",
       "      <td>компаньон</td>\n",
       "      <td>1</td>\n",
       "      <td>165127.911772</td>\n",
       "      <td>покупка жилой недвижимости</td>\n",
       "    </tr>\n",
       "    <tr>\n",
       "      <th>15</th>\n",
       "      <td>1</td>\n",
       "      <td>-972.364419</td>\n",
       "      <td>26</td>\n",
       "      <td>среднее</td>\n",
       "      <td>1</td>\n",
       "      <td>женат / замужем</td>\n",
       "      <td>0</td>\n",
       "      <td>F</td>\n",
       "      <td>сотрудник</td>\n",
       "      <td>0</td>\n",
       "      <td>116820.904450</td>\n",
       "      <td>строительство собственной недвижимости</td>\n",
       "    </tr>\n",
       "    <tr>\n",
       "      <th>16</th>\n",
       "      <td>0</td>\n",
       "      <td>-1719.934226</td>\n",
       "      <td>35</td>\n",
       "      <td>среднее</td>\n",
       "      <td>1</td>\n",
       "      <td>женат / замужем</td>\n",
       "      <td>0</td>\n",
       "      <td>F</td>\n",
       "      <td>сотрудник</td>\n",
       "      <td>0</td>\n",
       "      <td>289202.704229</td>\n",
       "      <td>недвижимость</td>\n",
       "    </tr>\n",
       "    <tr>\n",
       "      <th>17</th>\n",
       "      <td>0</td>\n",
       "      <td>-2369.999720</td>\n",
       "      <td>33</td>\n",
       "      <td>высшее</td>\n",
       "      <td>0</td>\n",
       "      <td>гражданский брак</td>\n",
       "      <td>1</td>\n",
       "      <td>M</td>\n",
       "      <td>сотрудник</td>\n",
       "      <td>0</td>\n",
       "      <td>90410.586745</td>\n",
       "      <td>строительство недвижимости</td>\n",
       "    </tr>\n",
       "    <tr>\n",
       "      <th>18</th>\n",
       "      <td>0</td>\n",
       "      <td>400281.136913</td>\n",
       "      <td>53</td>\n",
       "      <td>среднее</td>\n",
       "      <td>1</td>\n",
       "      <td>вдовец / вдова</td>\n",
       "      <td>2</td>\n",
       "      <td>F</td>\n",
       "      <td>пенсионер</td>\n",
       "      <td>0</td>\n",
       "      <td>56823.777243</td>\n",
       "      <td>на покупку подержанного автомобиля</td>\n",
       "    </tr>\n",
       "    <tr>\n",
       "      <th>19</th>\n",
       "      <td>0</td>\n",
       "      <td>-10038.818549</td>\n",
       "      <td>48</td>\n",
       "      <td>СРЕДНЕЕ</td>\n",
       "      <td>1</td>\n",
       "      <td>в разводе</td>\n",
       "      <td>3</td>\n",
       "      <td>F</td>\n",
       "      <td>сотрудник</td>\n",
       "      <td>0</td>\n",
       "      <td>242831.107982</td>\n",
       "      <td>на покупку своего автомобиля</td>\n",
       "    </tr>\n",
       "  </tbody>\n",
       "</table>\n",
       "</div>"
      ],
      "text/plain": [
       "    children  days_employed  dob_years            education  education_id  \\\n",
       "0          1   -8437.673028         42               высшее             0   \n",
       "1          1   -4024.803754         36              среднее             1   \n",
       "2          0   -5623.422610         33              Среднее             1   \n",
       "3          3   -4124.747207         32              среднее             1   \n",
       "4          0  340266.072047         53              среднее             1   \n",
       "5          0    -926.185831         27               высшее             0   \n",
       "6          0   -2879.202052         43               высшее             0   \n",
       "7          0    -152.779569         50              СРЕДНЕЕ             1   \n",
       "8          2   -6929.865299         35               ВЫСШЕЕ             0   \n",
       "9          0   -2188.756445         41              среднее             1   \n",
       "10         2   -4171.483647         36               высшее             0   \n",
       "11         0    -792.701887         40              среднее             1   \n",
       "12         0            NaN         65              среднее             1   \n",
       "13         0   -1846.641941         54  неоконченное высшее             2   \n",
       "14         0   -1844.956182         56               высшее             0   \n",
       "15         1    -972.364419         26              среднее             1   \n",
       "16         0   -1719.934226         35              среднее             1   \n",
       "17         0   -2369.999720         33               высшее             0   \n",
       "18         0  400281.136913         53              среднее             1   \n",
       "19         0  -10038.818549         48              СРЕДНЕЕ             1   \n",
       "\n",
       "       family_status  family_status_id gender income_type  debt  \\\n",
       "0    женат / замужем                 0      F   сотрудник     0   \n",
       "1    женат / замужем                 0      F   сотрудник     0   \n",
       "2    женат / замужем                 0      M   сотрудник     0   \n",
       "3    женат / замужем                 0      M   сотрудник     0   \n",
       "4   гражданский брак                 1      F   пенсионер     0   \n",
       "5   гражданский брак                 1      M   компаньон     0   \n",
       "6    женат / замужем                 0      F   компаньон     0   \n",
       "7    женат / замужем                 0      M   сотрудник     0   \n",
       "8   гражданский брак                 1      F   сотрудник     0   \n",
       "9    женат / замужем                 0      M   сотрудник     0   \n",
       "10   женат / замужем                 0      M   компаньон     0   \n",
       "11   женат / замужем                 0      F   сотрудник     0   \n",
       "12  гражданский брак                 1      M   пенсионер     0   \n",
       "13   женат / замужем                 0      F   сотрудник     0   \n",
       "14  гражданский брак                 1      F   компаньон     1   \n",
       "15   женат / замужем                 0      F   сотрудник     0   \n",
       "16   женат / замужем                 0      F   сотрудник     0   \n",
       "17  гражданский брак                 1      M   сотрудник     0   \n",
       "18    вдовец / вдова                 2      F   пенсионер     0   \n",
       "19         в разводе                 3      F   сотрудник     0   \n",
       "\n",
       "     total_income                                 purpose  \n",
       "0   253875.639453                           покупка жилья  \n",
       "1   112080.014102                 приобретение автомобиля  \n",
       "2   145885.952297                           покупка жилья  \n",
       "3   267628.550329              дополнительное образование  \n",
       "4   158616.077870                         сыграть свадьбу  \n",
       "5   255763.565419                           покупка жилья  \n",
       "6   240525.971920                       операции с жильем  \n",
       "7   135823.934197                             образование  \n",
       "8    95856.832424                   на проведение свадьбы  \n",
       "9   144425.938277                 покупка жилья для семьи  \n",
       "10  113943.491460                    покупка недвижимости  \n",
       "11   77069.234271       покупка коммерческой недвижимости  \n",
       "12            NaN                         сыграть свадьбу  \n",
       "13  130458.228857                 приобретение автомобиля  \n",
       "14  165127.911772              покупка жилой недвижимости  \n",
       "15  116820.904450  строительство собственной недвижимости  \n",
       "16  289202.704229                            недвижимость  \n",
       "17   90410.586745              строительство недвижимости  \n",
       "18   56823.777243      на покупку подержанного автомобиля  \n",
       "19  242831.107982            на покупку своего автомобиля  "
      ]
     },
     "execution_count": 2,
     "metadata": {},
     "output_type": "execute_result"
    }
   ],
   "source": [
    "data.head(20)"
   ]
  },
  {
   "cell_type": "markdown",
   "id": "9cccc7cb",
   "metadata": {
    "deletable": false,
    "editable": false,
    "id": "1c12e233"
   },
   "source": [
    "**Задание 3. Выведите основную информацию о датафрейме с помощью метода `info()`.**"
   ]
  },
  {
   "cell_type": "code",
   "execution_count": 3,
   "id": "ab37924f",
   "metadata": {
    "deletable": false,
    "id": "2b757bca",
    "outputId": "15376089-8dad-46c9-b520-c05248d43158"
   },
   "outputs": [
    {
     "name": "stdout",
     "output_type": "stream",
     "text": [
      "<class 'pandas.core.frame.DataFrame'>\n",
      "RangeIndex: 21525 entries, 0 to 21524\n",
      "Data columns (total 12 columns):\n",
      " #   Column            Non-Null Count  Dtype  \n",
      "---  ------            --------------  -----  \n",
      " 0   children          21525 non-null  int64  \n",
      " 1   days_employed     19351 non-null  float64\n",
      " 2   dob_years         21525 non-null  int64  \n",
      " 3   education         21525 non-null  object \n",
      " 4   education_id      21525 non-null  int64  \n",
      " 5   family_status     21525 non-null  object \n",
      " 6   family_status_id  21525 non-null  int64  \n",
      " 7   gender            21525 non-null  object \n",
      " 8   income_type       21525 non-null  object \n",
      " 9   debt              21525 non-null  int64  \n",
      " 10  total_income      19351 non-null  float64\n",
      " 11  purpose           21525 non-null  object \n",
      "dtypes: float64(2), int64(5), object(5)\n",
      "memory usage: 2.0+ MB\n"
     ]
    }
   ],
   "source": [
    "data.info()"
   ]
  },
  {
   "cell_type": "markdown",
   "id": "30334bf9",
   "metadata": {
    "deletable": false,
    "editable": false,
    "id": "333ec665"
   },
   "source": [
    "## Предобработка данных"
   ]
  },
  {
   "cell_type": "markdown",
   "id": "eeae8dc9",
   "metadata": {
    "deletable": false,
    "editable": false,
    "id": "02d92d53"
   },
   "source": [
    "### Удаление пропусков"
   ]
  },
  {
   "cell_type": "markdown",
   "id": "1442d903",
   "metadata": {
    "deletable": false,
    "editable": false,
    "id": "cd84967c"
   },
   "source": [
    "**Задание 4. Выведите количество пропущенных значений для каждого столбца. Используйте комбинацию двух методов.**"
   ]
  },
  {
   "cell_type": "code",
   "execution_count": 4,
   "id": "4477d45f",
   "metadata": {
    "deletable": false,
    "id": "7f9b2309",
    "outputId": "81f4d817-781c-465c-ed15-91ce4446810d"
   },
   "outputs": [
    {
     "data": {
      "text/plain": [
       "children               0\n",
       "days_employed       2174\n",
       "dob_years              0\n",
       "education              0\n",
       "education_id           0\n",
       "family_status          0\n",
       "family_status_id       0\n",
       "gender                 0\n",
       "income_type            0\n",
       "debt                   0\n",
       "total_income        2174\n",
       "purpose                0\n",
       "dtype: int64"
      ]
     },
     "execution_count": 4,
     "metadata": {},
     "output_type": "execute_result"
    }
   ],
   "source": [
    "data.isna().sum()"
   ]
  },
  {
   "cell_type": "markdown",
   "id": "f2cdad76",
   "metadata": {
    "deletable": false,
    "editable": false,
    "id": "db86e27b"
   },
   "source": [
    "**Задание 5. В двух столбцах есть пропущенные значения. Один из них — `days_employed`. Пропуски в этом столбце вы обработаете на следующем этапе. Другой столбец с пропущенными значениями — `total_income` — хранит данные о доходах. На сумму дохода сильнее всего влияет тип занятости, поэтому заполнить пропуски в этом столбце нужно медианным значением по каждому типу из столбца `income_type`. Например, у человека с типом занятости `сотрудник` пропуск в столбце `total_income` должен быть заполнен медианным доходом среди всех записей с тем же типом.**"
   ]
  },
  {
   "cell_type": "code",
   "execution_count": 5,
   "id": "a165c318",
   "metadata": {
    "deletable": false,
    "id": "42006a93"
   },
   "outputs": [],
   "source": [
    "for t in data['income_type'].unique():\n",
    "    data.loc[(data['income_type'] == t) & (data['total_income'].isna()), 'total_income'] = \\\n",
    "    data.loc[(data['income_type'] == t), 'total_income'].median()"
   ]
  },
  {
   "cell_type": "markdown",
   "id": "b00f1b96",
   "metadata": {
    "deletable": false,
    "editable": false,
    "id": "89da5ece"
   },
   "source": [
    "### Обработка аномальных значений"
   ]
  },
  {
   "cell_type": "markdown",
   "id": "c74a1251",
   "metadata": {
    "deletable": false,
    "editable": false,
    "id": "57964554"
   },
   "source": [
    "**Задание 6. В данных могут встречаться артефакты (аномалии) — значения, которые не отражают действительность и появились по какой-то ошибке. таким артефактом будет отрицательное количество дней трудового стажа в столбце `days_employed`. Для реальных данных это нормально. Обработайте значения в этом столбце: замените все отрицательные значения положительными с помощью метода `abs()`.**"
   ]
  },
  {
   "cell_type": "code",
   "execution_count": 6,
   "id": "6f512008",
   "metadata": {
    "deletable": false,
    "id": "f6f055bf"
   },
   "outputs": [],
   "source": [
    "data['days_employed'] = data['days_employed'].abs()"
   ]
  },
  {
   "cell_type": "markdown",
   "id": "fbd91179",
   "metadata": {
    "deletable": false,
    "editable": false,
    "id": "6107dd2f"
   },
   "source": [
    "**Задание 7. Для каждого типа занятости выведите медианное значение трудового стажа `days_employed` в днях.**"
   ]
  },
  {
   "cell_type": "code",
   "execution_count": 7,
   "id": "2934c4c5",
   "metadata": {
    "deletable": false,
    "id": "85a5faf6",
    "outputId": "801ef80e-522b-4668-f34e-565af7432bcf"
   },
   "outputs": [
    {
     "data": {
      "text/plain": [
       "income_type\n",
       "безработный        366413.652744\n",
       "в декрете            3296.759962\n",
       "госслужащий          2689.368353\n",
       "компаньон            1547.382223\n",
       "пенсионер          365213.306266\n",
       "предприниматель       520.848083\n",
       "сотрудник            1574.202821\n",
       "студент               578.751554\n",
       "Name: days_employed, dtype: float64"
      ]
     },
     "execution_count": 7,
     "metadata": {},
     "output_type": "execute_result"
    }
   ],
   "source": [
    "data.groupby('income_type')['days_employed'].agg('median')"
   ]
  },
  {
   "cell_type": "markdown",
   "id": "112c7d64",
   "metadata": {
    "deletable": false,
    "editable": false,
    "id": "38d1a030"
   },
   "source": [
    "У двух типов (безработные и пенсионеры) получатся аномально большие значения. Исправить такие значения сложно, поэтому оставьте их как есть. Тем более этот столбец не понадобится вам для исследования."
   ]
  },
  {
   "cell_type": "markdown",
   "id": "297fc786",
   "metadata": {
    "deletable": false,
    "editable": false,
    "id": "d8a9f147"
   },
   "source": [
    "**Задание 8. Выведите перечень уникальных значений столбца `children`.**"
   ]
  },
  {
   "cell_type": "code",
   "execution_count": 8,
   "id": "3c9fb7b3",
   "metadata": {
    "deletable": false,
    "id": "ef5056eb",
    "outputId": "6975b15c-7f95-4697-d16d-a0c79b657b03"
   },
   "outputs": [
    {
     "data": {
      "text/plain": [
       "array([ 1,  0,  3,  2, -1,  4, 20,  5])"
      ]
     },
     "execution_count": 8,
     "metadata": {},
     "output_type": "execute_result"
    }
   ],
   "source": [
    "data['children'].unique()"
   ]
  },
  {
   "cell_type": "markdown",
   "id": "2625aadd",
   "metadata": {
    "deletable": false,
    "editable": false,
    "id": "40b9ebf2"
   },
   "source": [
    "**Задание 9. В столбце `children` есть два аномальных значения. Удалите строки, в которых встречаются такие аномальные значения из датафрейма `data`.**"
   ]
  },
  {
   "cell_type": "code",
   "execution_count": 9,
   "id": "0db73651",
   "metadata": {
    "deletable": false,
    "id": "3ff9801d"
   },
   "outputs": [],
   "source": [
    "data = data[(data['children'] != -1) & (data['children'] != 20)]"
   ]
  },
  {
   "cell_type": "markdown",
   "id": "919b6e5c",
   "metadata": {
    "deletable": false,
    "editable": false,
    "id": "bbc4d0ce"
   },
   "source": [
    "**Задание 10. Ещё раз выведите перечень уникальных значений столбца `children`, чтобы убедиться, что артефакты удалены.**"
   ]
  },
  {
   "cell_type": "code",
   "execution_count": 10,
   "id": "86201d10",
   "metadata": {
    "deletable": false,
    "id": "ad4fa8b7",
    "outputId": "b2097101-d49d-44d9-901b-32a65c9463d1"
   },
   "outputs": [
    {
     "data": {
      "text/plain": [
       "array([1, 0, 3, 2, 4, 5])"
      ]
     },
     "execution_count": 10,
     "metadata": {},
     "output_type": "execute_result"
    }
   ],
   "source": [
    "data['children'].unique()"
   ]
  },
  {
   "cell_type": "markdown",
   "id": "334b418d",
   "metadata": {
    "deletable": false,
    "editable": false,
    "id": "75440b63"
   },
   "source": [
    "### Удаление пропусков (продолжение)"
   ]
  },
  {
   "cell_type": "markdown",
   "id": "9d8d614d",
   "metadata": {
    "deletable": false,
    "editable": false,
    "id": "f4ea573f"
   },
   "source": [
    "**Задание 11. Заполните пропуски в столбце `days_employed` медианными значениями по каждого типа занятости `income_type`.**"
   ]
  },
  {
   "cell_type": "code",
   "execution_count": 11,
   "id": "98b72e79",
   "metadata": {
    "deletable": false,
    "id": "af6b1a7e"
   },
   "outputs": [],
   "source": [
    "for t in data['income_type'].unique():\n",
    "    data.loc[(data['income_type'] == t) & (data['days_employed'].isna()), 'days_employed'] = \\\n",
    "    data.loc[(data['income_type'] == t), 'days_employed'].median()"
   ]
  },
  {
   "cell_type": "markdown",
   "id": "2b109d2e",
   "metadata": {
    "deletable": false,
    "editable": false,
    "id": "2753f40d"
   },
   "source": [
    "**Задание 12. Убедитесь, что все пропуски заполнены. Проверьте себя и ещё раз выведите количество пропущенных значений для каждого столбца с помощью двух методов.**"
   ]
  },
  {
   "cell_type": "code",
   "execution_count": 12,
   "id": "4f5650bd",
   "metadata": {
    "deletable": false,
    "id": "55f78bc2",
    "outputId": "8da1e4e1-358e-4e87-98c9-f261bce0a7b2"
   },
   "outputs": [
    {
     "data": {
      "text/plain": [
       "children            0\n",
       "days_employed       0\n",
       "dob_years           0\n",
       "education           0\n",
       "education_id        0\n",
       "family_status       0\n",
       "family_status_id    0\n",
       "gender              0\n",
       "income_type         0\n",
       "debt                0\n",
       "total_income        0\n",
       "purpose             0\n",
       "dtype: int64"
      ]
     },
     "execution_count": 12,
     "metadata": {},
     "output_type": "execute_result"
    }
   ],
   "source": [
    "data.isna().sum()"
   ]
  },
  {
   "cell_type": "markdown",
   "id": "f496ab83",
   "metadata": {
    "deletable": false,
    "editable": false,
    "id": "ddc81e43"
   },
   "source": [
    "### Изменение типов данных"
   ]
  },
  {
   "cell_type": "markdown",
   "id": "045c55e8",
   "metadata": {
    "deletable": false,
    "editable": false,
    "id": "42d19d24"
   },
   "source": [
    "**Задание 13. Замените вещественный тип данных в столбце `total_income` на целочисленный с помощью метода `astype()`.**"
   ]
  },
  {
   "cell_type": "code",
   "execution_count": 13,
   "id": "3ab5ab94",
   "metadata": {
    "deletable": false,
    "id": "920b65ad"
   },
   "outputs": [],
   "source": [
    "data['total_income'] = data['total_income'].astype(int)"
   ]
  },
  {
   "cell_type": "markdown",
   "id": "63b889b6",
   "metadata": {
    "deletable": false,
    "editable": false,
    "id": "80c420ba"
   },
   "source": [
    "### Обработка дубликатов"
   ]
  },
  {
   "cell_type": "markdown",
   "id": "be9ed65a",
   "metadata": {
    "deletable": false,
    "editable": false
   },
   "source": [
    "**Задание 14. Обработайте неявные дубликаты в столбце `education`. В этом столбце есть одни и те же значения, но записанные по-разному: с использованием заглавных и строчных букв. Приведите их к нижнему регистру. Проверьте остальные столбцы.**"
   ]
  },
  {
   "cell_type": "code",
   "execution_count": 14,
   "id": "10d65a97",
   "metadata": {
    "deletable": false
   },
   "outputs": [],
   "source": [
    "data['education'] = data['education'].str.lower()"
   ]
  },
  {
   "cell_type": "markdown",
   "id": "190ee8a3",
   "metadata": {
    "deletable": false,
    "editable": false,
    "id": "dc587695"
   },
   "source": [
    "**Задание 15. Выведите на экран количество строк-дубликатов в данных. Если такие строки присутствуют, удалите их.**"
   ]
  },
  {
   "cell_type": "code",
   "execution_count": 15,
   "id": "68d3cf49",
   "metadata": {
    "deletable": false,
    "id": "3ee445e4",
    "outputId": "9684deba-1934-42d1-99e1-cda61740f822"
   },
   "outputs": [
    {
     "data": {
      "text/plain": [
       "71"
      ]
     },
     "execution_count": 15,
     "metadata": {},
     "output_type": "execute_result"
    }
   ],
   "source": [
    "data.duplicated().sum()"
   ]
  },
  {
   "cell_type": "code",
   "execution_count": 16,
   "id": "5d4b7ebc",
   "metadata": {
    "deletable": false,
    "id": "8575fe05"
   },
   "outputs": [],
   "source": [
    "data = data.drop_duplicates()"
   ]
  },
  {
   "cell_type": "markdown",
   "id": "91760c62",
   "metadata": {
    "deletable": false,
    "editable": false,
    "id": "9904cf55"
   },
   "source": [
    "### Категоризация данных"
   ]
  },
  {
   "cell_type": "markdown",
   "id": "c8a3f685",
   "metadata": {
    "deletable": false,
    "editable": false,
    "id": "72fcc8a2"
   },
   "source": [
    "**Задание 16. На основании диапазонов, указанных ниже, создайте в датафрейме `data` столбец `total_income_category` с категориями:**\n",
    "\n",
    "- 0–30000 — `'E'`;\n",
    "- 30001–50000 — `'D'`;\n",
    "- 50001–200000 — `'C'`;\n",
    "- 200001–1000000 — `'B'`;\n",
    "- 1000001 и выше — `'A'`.\n",
    "\n",
    "\n",
    "**Например, кредитополучателю с доходом 25000 нужно назначить категорию `'E'`, а клиенту, получающему 235000, — `'B'`. Используйте собственную функцию с именем `categorize_income()` и метод `apply()`.**"
   ]
  },
  {
   "cell_type": "code",
   "execution_count": 17,
   "id": "ffac2278",
   "metadata": {
    "deletable": false,
    "id": "e1771346"
   },
   "outputs": [],
   "source": [
    "def categorize_income(income):\n",
    "    try:\n",
    "        if 0 <= income <= 30000:\n",
    "            return 'E'\n",
    "        elif 30001 <= income <= 50000:\n",
    "            return 'D'\n",
    "        elif 50001 <= income <= 200000:\n",
    "            return 'C'\n",
    "        elif 200001 <= income <= 1000000:\n",
    "            return 'B'\n",
    "        elif income >= 1000001:\n",
    "            return 'A'\n",
    "    except:\n",
    "        pass"
   ]
  },
  {
   "cell_type": "code",
   "execution_count": 18,
   "id": "861dcd53",
   "metadata": {
    "deletable": false,
    "id": "d5f3586d"
   },
   "outputs": [],
   "source": [
    "data['total_income_category'] = data['total_income'].apply(categorize_income)"
   ]
  },
  {
   "cell_type": "markdown",
   "id": "436182c7",
   "metadata": {
    "deletable": false,
    "editable": false,
    "id": "dde49b5c"
   },
   "source": [
    "**Задание 17. Выведите на экран перечень уникальных целей взятия кредита из столбца `purpose`.**"
   ]
  },
  {
   "cell_type": "code",
   "execution_count": 19,
   "id": "bcad70da",
   "metadata": {
    "deletable": false,
    "id": "f67ce9b3",
    "outputId": "673c12d9-7d7e-4ae0-9812-c622c89dd244"
   },
   "outputs": [
    {
     "data": {
      "text/plain": [
       "array(['покупка жилья', 'приобретение автомобиля',\n",
       "       'дополнительное образование', 'сыграть свадьбу',\n",
       "       'операции с жильем', 'образование', 'на проведение свадьбы',\n",
       "       'покупка жилья для семьи', 'покупка недвижимости',\n",
       "       'покупка коммерческой недвижимости', 'покупка жилой недвижимости',\n",
       "       'строительство собственной недвижимости', 'недвижимость',\n",
       "       'строительство недвижимости', 'на покупку подержанного автомобиля',\n",
       "       'на покупку своего автомобиля',\n",
       "       'операции с коммерческой недвижимостью',\n",
       "       'строительство жилой недвижимости', 'жилье',\n",
       "       'операции со своей недвижимостью', 'автомобили',\n",
       "       'заняться образованием', 'сделка с подержанным автомобилем',\n",
       "       'получение образования', 'автомобиль', 'свадьба',\n",
       "       'получение дополнительного образования', 'покупка своего жилья',\n",
       "       'операции с недвижимостью', 'получение высшего образования',\n",
       "       'свой автомобиль', 'сделка с автомобилем',\n",
       "       'профильное образование', 'высшее образование',\n",
       "       'покупка жилья для сдачи', 'на покупку автомобиля', 'ремонт жилью',\n",
       "       'заняться высшим образованием'], dtype=object)"
      ]
     },
     "execution_count": 19,
     "metadata": {},
     "output_type": "execute_result"
    }
   ],
   "source": [
    "data['purpose'].unique()"
   ]
  },
  {
   "cell_type": "markdown",
   "id": "908df9f4",
   "metadata": {
    "deletable": false,
    "editable": false,
    "id": "85d0aef0"
   },
   "source": [
    "**Задание 18. Создайте функцию, которая на основании данных из столбца `purpose` сформирует новый столбец `purpose_category`, в который войдут следующие категории:**\n",
    "\n",
    "- `'операции с автомобилем'`,\n",
    "- `'операции с недвижимостью'`,\n",
    "- `'проведение свадьбы'`,\n",
    "- `'получение образования'`.\n",
    "\n",
    "**Например, если в столбце `purpose` находится подстрока `'на покупку автомобиля'`, то в столбце `purpose_category` должна появиться строка `'операции с автомобилем'`.**\n",
    "\n",
    "**Используйте собственную функцию с именем `categorize_purpose()` и метод `apply()`. Изучите данные в столбце `purpose` и определите, какие подстроки помогут вам правильно определить категорию.**"
   ]
  },
  {
   "cell_type": "code",
   "execution_count": 20,
   "id": "a5f45552",
   "metadata": {
    "deletable": false,
    "id": "e149fab4"
   },
   "outputs": [],
   "source": [
    "def categorize_purpose(row):\n",
    "    try:\n",
    "        if 'автом' in row:\n",
    "            return 'операции с автомобилем'\n",
    "        elif 'жил' in row or 'недвиж' in row:\n",
    "            return 'операции с недвижимостью'\n",
    "        elif 'свад' in row:\n",
    "            return 'проведение свадьбы'\n",
    "        elif 'образов' in row:\n",
    "            return 'получение образования'\n",
    "    except:\n",
    "        return 'нет категории'"
   ]
  },
  {
   "cell_type": "code",
   "execution_count": 21,
   "id": "e62fd02b",
   "metadata": {
    "deletable": false,
    "id": "bf36e69b"
   },
   "outputs": [
    {
     "data": {
      "text/html": [
       "<div>\n",
       "<style scoped>\n",
       "    .dataframe tbody tr th:only-of-type {\n",
       "        vertical-align: middle;\n",
       "    }\n",
       "\n",
       "    .dataframe tbody tr th {\n",
       "        vertical-align: top;\n",
       "    }\n",
       "\n",
       "    .dataframe thead th {\n",
       "        text-align: right;\n",
       "    }\n",
       "</style>\n",
       "<table border=\"1\" class=\"dataframe\">\n",
       "  <thead>\n",
       "    <tr style=\"text-align: right;\">\n",
       "      <th></th>\n",
       "      <th>children</th>\n",
       "      <th>days_employed</th>\n",
       "      <th>dob_years</th>\n",
       "      <th>education</th>\n",
       "      <th>education_id</th>\n",
       "      <th>family_status</th>\n",
       "      <th>family_status_id</th>\n",
       "      <th>gender</th>\n",
       "      <th>income_type</th>\n",
       "      <th>debt</th>\n",
       "      <th>total_income</th>\n",
       "      <th>purpose</th>\n",
       "      <th>total_income_category</th>\n",
       "      <th>purpose_category</th>\n",
       "    </tr>\n",
       "  </thead>\n",
       "  <tbody>\n",
       "    <tr>\n",
       "      <th>0</th>\n",
       "      <td>1</td>\n",
       "      <td>8437.673028</td>\n",
       "      <td>42</td>\n",
       "      <td>высшее</td>\n",
       "      <td>0</td>\n",
       "      <td>женат / замужем</td>\n",
       "      <td>0</td>\n",
       "      <td>F</td>\n",
       "      <td>сотрудник</td>\n",
       "      <td>0</td>\n",
       "      <td>253875</td>\n",
       "      <td>покупка жилья</td>\n",
       "      <td>B</td>\n",
       "      <td>операции с недвижимостью</td>\n",
       "    </tr>\n",
       "    <tr>\n",
       "      <th>1</th>\n",
       "      <td>1</td>\n",
       "      <td>4024.803754</td>\n",
       "      <td>36</td>\n",
       "      <td>среднее</td>\n",
       "      <td>1</td>\n",
       "      <td>женат / замужем</td>\n",
       "      <td>0</td>\n",
       "      <td>F</td>\n",
       "      <td>сотрудник</td>\n",
       "      <td>0</td>\n",
       "      <td>112080</td>\n",
       "      <td>приобретение автомобиля</td>\n",
       "      <td>C</td>\n",
       "      <td>операции с автомобилем</td>\n",
       "    </tr>\n",
       "    <tr>\n",
       "      <th>2</th>\n",
       "      <td>0</td>\n",
       "      <td>5623.422610</td>\n",
       "      <td>33</td>\n",
       "      <td>среднее</td>\n",
       "      <td>1</td>\n",
       "      <td>женат / замужем</td>\n",
       "      <td>0</td>\n",
       "      <td>M</td>\n",
       "      <td>сотрудник</td>\n",
       "      <td>0</td>\n",
       "      <td>145885</td>\n",
       "      <td>покупка жилья</td>\n",
       "      <td>C</td>\n",
       "      <td>операции с недвижимостью</td>\n",
       "    </tr>\n",
       "    <tr>\n",
       "      <th>3</th>\n",
       "      <td>3</td>\n",
       "      <td>4124.747207</td>\n",
       "      <td>32</td>\n",
       "      <td>среднее</td>\n",
       "      <td>1</td>\n",
       "      <td>женат / замужем</td>\n",
       "      <td>0</td>\n",
       "      <td>M</td>\n",
       "      <td>сотрудник</td>\n",
       "      <td>0</td>\n",
       "      <td>267628</td>\n",
       "      <td>дополнительное образование</td>\n",
       "      <td>B</td>\n",
       "      <td>получение образования</td>\n",
       "    </tr>\n",
       "    <tr>\n",
       "      <th>4</th>\n",
       "      <td>0</td>\n",
       "      <td>340266.072047</td>\n",
       "      <td>53</td>\n",
       "      <td>среднее</td>\n",
       "      <td>1</td>\n",
       "      <td>гражданский брак</td>\n",
       "      <td>1</td>\n",
       "      <td>F</td>\n",
       "      <td>пенсионер</td>\n",
       "      <td>0</td>\n",
       "      <td>158616</td>\n",
       "      <td>сыграть свадьбу</td>\n",
       "      <td>C</td>\n",
       "      <td>проведение свадьбы</td>\n",
       "    </tr>\n",
       "    <tr>\n",
       "      <th>...</th>\n",
       "      <td>...</td>\n",
       "      <td>...</td>\n",
       "      <td>...</td>\n",
       "      <td>...</td>\n",
       "      <td>...</td>\n",
       "      <td>...</td>\n",
       "      <td>...</td>\n",
       "      <td>...</td>\n",
       "      <td>...</td>\n",
       "      <td>...</td>\n",
       "      <td>...</td>\n",
       "      <td>...</td>\n",
       "      <td>...</td>\n",
       "      <td>...</td>\n",
       "    </tr>\n",
       "    <tr>\n",
       "      <th>21520</th>\n",
       "      <td>1</td>\n",
       "      <td>4529.316663</td>\n",
       "      <td>43</td>\n",
       "      <td>среднее</td>\n",
       "      <td>1</td>\n",
       "      <td>гражданский брак</td>\n",
       "      <td>1</td>\n",
       "      <td>F</td>\n",
       "      <td>компаньон</td>\n",
       "      <td>0</td>\n",
       "      <td>224791</td>\n",
       "      <td>операции с жильем</td>\n",
       "      <td>B</td>\n",
       "      <td>операции с недвижимостью</td>\n",
       "    </tr>\n",
       "    <tr>\n",
       "      <th>21521</th>\n",
       "      <td>0</td>\n",
       "      <td>343937.404131</td>\n",
       "      <td>67</td>\n",
       "      <td>среднее</td>\n",
       "      <td>1</td>\n",
       "      <td>женат / замужем</td>\n",
       "      <td>0</td>\n",
       "      <td>F</td>\n",
       "      <td>пенсионер</td>\n",
       "      <td>0</td>\n",
       "      <td>155999</td>\n",
       "      <td>сделка с автомобилем</td>\n",
       "      <td>C</td>\n",
       "      <td>операции с автомобилем</td>\n",
       "    </tr>\n",
       "    <tr>\n",
       "      <th>21522</th>\n",
       "      <td>1</td>\n",
       "      <td>2113.346888</td>\n",
       "      <td>38</td>\n",
       "      <td>среднее</td>\n",
       "      <td>1</td>\n",
       "      <td>гражданский брак</td>\n",
       "      <td>1</td>\n",
       "      <td>M</td>\n",
       "      <td>сотрудник</td>\n",
       "      <td>1</td>\n",
       "      <td>89672</td>\n",
       "      <td>недвижимость</td>\n",
       "      <td>C</td>\n",
       "      <td>операции с недвижимостью</td>\n",
       "    </tr>\n",
       "    <tr>\n",
       "      <th>21523</th>\n",
       "      <td>3</td>\n",
       "      <td>3112.481705</td>\n",
       "      <td>38</td>\n",
       "      <td>среднее</td>\n",
       "      <td>1</td>\n",
       "      <td>женат / замужем</td>\n",
       "      <td>0</td>\n",
       "      <td>M</td>\n",
       "      <td>сотрудник</td>\n",
       "      <td>1</td>\n",
       "      <td>244093</td>\n",
       "      <td>на покупку своего автомобиля</td>\n",
       "      <td>B</td>\n",
       "      <td>операции с автомобилем</td>\n",
       "    </tr>\n",
       "    <tr>\n",
       "      <th>21524</th>\n",
       "      <td>2</td>\n",
       "      <td>1984.507589</td>\n",
       "      <td>40</td>\n",
       "      <td>среднее</td>\n",
       "      <td>1</td>\n",
       "      <td>женат / замужем</td>\n",
       "      <td>0</td>\n",
       "      <td>F</td>\n",
       "      <td>сотрудник</td>\n",
       "      <td>0</td>\n",
       "      <td>82047</td>\n",
       "      <td>на покупку автомобиля</td>\n",
       "      <td>C</td>\n",
       "      <td>операции с автомобилем</td>\n",
       "    </tr>\n",
       "  </tbody>\n",
       "</table>\n",
       "<p>21331 rows × 14 columns</p>\n",
       "</div>"
      ],
      "text/plain": [
       "       children  days_employed  dob_years education  education_id  \\\n",
       "0             1    8437.673028         42    высшее             0   \n",
       "1             1    4024.803754         36   среднее             1   \n",
       "2             0    5623.422610         33   среднее             1   \n",
       "3             3    4124.747207         32   среднее             1   \n",
       "4             0  340266.072047         53   среднее             1   \n",
       "...         ...            ...        ...       ...           ...   \n",
       "21520         1    4529.316663         43   среднее             1   \n",
       "21521         0  343937.404131         67   среднее             1   \n",
       "21522         1    2113.346888         38   среднее             1   \n",
       "21523         3    3112.481705         38   среднее             1   \n",
       "21524         2    1984.507589         40   среднее             1   \n",
       "\n",
       "          family_status  family_status_id gender income_type  debt  \\\n",
       "0       женат / замужем                 0      F   сотрудник     0   \n",
       "1       женат / замужем                 0      F   сотрудник     0   \n",
       "2       женат / замужем                 0      M   сотрудник     0   \n",
       "3       женат / замужем                 0      M   сотрудник     0   \n",
       "4      гражданский брак                 1      F   пенсионер     0   \n",
       "...                 ...               ...    ...         ...   ...   \n",
       "21520  гражданский брак                 1      F   компаньон     0   \n",
       "21521   женат / замужем                 0      F   пенсионер     0   \n",
       "21522  гражданский брак                 1      M   сотрудник     1   \n",
       "21523   женат / замужем                 0      M   сотрудник     1   \n",
       "21524   женат / замужем                 0      F   сотрудник     0   \n",
       "\n",
       "       total_income                       purpose total_income_category  \\\n",
       "0            253875                 покупка жилья                     B   \n",
       "1            112080       приобретение автомобиля                     C   \n",
       "2            145885                 покупка жилья                     C   \n",
       "3            267628    дополнительное образование                     B   \n",
       "4            158616               сыграть свадьбу                     C   \n",
       "...             ...                           ...                   ...   \n",
       "21520        224791             операции с жильем                     B   \n",
       "21521        155999          сделка с автомобилем                     C   \n",
       "21522         89672                  недвижимость                     C   \n",
       "21523        244093  на покупку своего автомобиля                     B   \n",
       "21524         82047         на покупку автомобиля                     C   \n",
       "\n",
       "               purpose_category  \n",
       "0      операции с недвижимостью  \n",
       "1        операции с автомобилем  \n",
       "2      операции с недвижимостью  \n",
       "3         получение образования  \n",
       "4            проведение свадьбы  \n",
       "...                         ...  \n",
       "21520  операции с недвижимостью  \n",
       "21521    операции с автомобилем  \n",
       "21522  операции с недвижимостью  \n",
       "21523    операции с автомобилем  \n",
       "21524    операции с автомобилем  \n",
       "\n",
       "[21331 rows x 14 columns]"
      ]
     },
     "execution_count": 21,
     "metadata": {},
     "output_type": "execute_result"
    }
   ],
   "source": [
    "data['purpose_category'] = data['purpose'].apply(categorize_purpose)\n",
    "data"
   ]
  },
  {
   "cell_type": "markdown",
   "id": "b301e9a0",
   "metadata": {
    "deletable": false,
    "editable": false,
    "id": "09b242bf"
   },
   "source": [
    "### Шаг 3. Исследуйте данные и ответьте на вопросы"
   ]
  },
  {
   "cell_type": "markdown",
   "id": "94535488",
   "metadata": {
    "deletable": false,
    "editable": false,
    "id": "c5d66278"
   },
   "source": [
    "#### 3.1 Есть ли зависимость между количеством детей и возвратом кредита в срок?"
   ]
  },
  {
   "cell_type": "code",
   "execution_count": 32,
   "id": "eba1d653",
   "metadata": {
    "deletable": false,
    "id": "2cacfc4a"
   },
   "outputs": [
    {
     "data": {
      "text/html": [
       "<div>\n",
       "<style scoped>\n",
       "    .dataframe tbody tr th:only-of-type {\n",
       "        vertical-align: middle;\n",
       "    }\n",
       "\n",
       "    .dataframe tbody tr th {\n",
       "        vertical-align: top;\n",
       "    }\n",
       "\n",
       "    .dataframe thead tr th {\n",
       "        text-align: left;\n",
       "    }\n",
       "\n",
       "    .dataframe thead tr:last-of-type th {\n",
       "        text-align: right;\n",
       "    }\n",
       "</style>\n",
       "<table border=\"1\" class=\"dataframe\">\n",
       "  <thead>\n",
       "    <tr>\n",
       "      <th></th>\n",
       "      <th colspan=\"2\" halign=\"left\">debt</th>\n",
       "      <th>return_percent</th>\n",
       "    </tr>\n",
       "    <tr>\n",
       "      <th></th>\n",
       "      <th>sum</th>\n",
       "      <th>count</th>\n",
       "      <th></th>\n",
       "    </tr>\n",
       "    <tr>\n",
       "      <th>children</th>\n",
       "      <th></th>\n",
       "      <th></th>\n",
       "      <th></th>\n",
       "    </tr>\n",
       "  </thead>\n",
       "  <tbody>\n",
       "    <tr>\n",
       "      <th>0</th>\n",
       "      <td>1063</td>\n",
       "      <td>14091</td>\n",
       "      <td>7.543822</td>\n",
       "    </tr>\n",
       "    <tr>\n",
       "      <th>1</th>\n",
       "      <td>444</td>\n",
       "      <td>4808</td>\n",
       "      <td>9.234609</td>\n",
       "    </tr>\n",
       "    <tr>\n",
       "      <th>2</th>\n",
       "      <td>194</td>\n",
       "      <td>2052</td>\n",
       "      <td>9.454191</td>\n",
       "    </tr>\n",
       "    <tr>\n",
       "      <th>3</th>\n",
       "      <td>27</td>\n",
       "      <td>330</td>\n",
       "      <td>8.181818</td>\n",
       "    </tr>\n",
       "    <tr>\n",
       "      <th>4</th>\n",
       "      <td>4</td>\n",
       "      <td>41</td>\n",
       "      <td>9.756098</td>\n",
       "    </tr>\n",
       "    <tr>\n",
       "      <th>5</th>\n",
       "      <td>0</td>\n",
       "      <td>9</td>\n",
       "      <td>0.000000</td>\n",
       "    </tr>\n",
       "  </tbody>\n",
       "</table>\n",
       "</div>"
      ],
      "text/plain": [
       "          debt        return_percent\n",
       "           sum  count               \n",
       "children                            \n",
       "0         1063  14091       7.543822\n",
       "1          444   4808       9.234609\n",
       "2          194   2052       9.454191\n",
       "3           27    330       8.181818\n",
       "4            4     41       9.756098\n",
       "5            0      9       0.000000"
      ]
     },
     "execution_count": 32,
     "metadata": {},
     "output_type": "execute_result"
    }
   ],
   "source": [
    "data_children_debt = data[['children', 'debt']]\n",
    "data_children_debt.head(10) \n",
    "data_children_debt.sort_values(by='children', ascending = False).head(20)\n",
    "\n",
    "\n",
    "data_children_debt_group = data_children_debt.groupby('children').agg(['sum', 'count'])\n",
    "data_children_debt_group \n",
    "\n",
    "data_children_debt_group['return_percent'] = data_children_debt_group['debt']['sum'] / data_children_debt_group['debt']['count']*100\n",
    "data_children_debt_group"
   ]
  },
  {
   "cell_type": "markdown",
   "id": "9391e05b",
   "metadata": {},
   "source": [
    "Люди с 5 детьми оценке не подлежат из-за малого количтва данных. Самый высокий процент людей имеющих задолженность у людей, имеющих 4 детей, наименьший у бездетных клиентов"
   ]
  },
  {
   "cell_type": "markdown",
   "id": "269d19ac",
   "metadata": {
    "deletable": false,
    "id": "3a6b99ec"
   },
   "source": [
    "**Вывод:** Датафрейм показывает, что чаще возвращают кредит в срок люди без детей, клиенты с детьми чаще имеют задолженность, причем по восходящей тенденции, за исключением клиентов с 3 детьми "
   ]
  },
  {
   "cell_type": "markdown",
   "id": "fcc7341c",
   "metadata": {
    "deletable": false,
    "editable": false,
    "id": "97be82ca"
   },
   "source": [
    "#### 3.2 Есть ли зависимость между семейным положением и возвратом кредита в срок?"
   ]
  },
  {
   "cell_type": "code",
   "execution_count": 23,
   "id": "1cc8cdd9",
   "metadata": {
    "deletable": false,
    "id": "dc3f7ee8"
   },
   "outputs": [
    {
     "data": {
      "text/html": [
       "<div>\n",
       "<style scoped>\n",
       "    .dataframe tbody tr th:only-of-type {\n",
       "        vertical-align: middle;\n",
       "    }\n",
       "\n",
       "    .dataframe tbody tr th {\n",
       "        vertical-align: top;\n",
       "    }\n",
       "\n",
       "    .dataframe thead tr th {\n",
       "        text-align: left;\n",
       "    }\n",
       "\n",
       "    .dataframe thead tr:last-of-type th {\n",
       "        text-align: right;\n",
       "    }\n",
       "</style>\n",
       "<table border=\"1\" class=\"dataframe\">\n",
       "  <thead>\n",
       "    <tr>\n",
       "      <th></th>\n",
       "      <th colspan=\"2\" halign=\"left\">debt</th>\n",
       "      <th>return_percent</th>\n",
       "    </tr>\n",
       "    <tr>\n",
       "      <th></th>\n",
       "      <th>sum</th>\n",
       "      <th>count</th>\n",
       "      <th></th>\n",
       "    </tr>\n",
       "    <tr>\n",
       "      <th>family_status</th>\n",
       "      <th></th>\n",
       "      <th></th>\n",
       "      <th></th>\n",
       "    </tr>\n",
       "  </thead>\n",
       "  <tbody>\n",
       "    <tr>\n",
       "      <th>Не женат / не замужем</th>\n",
       "      <td>273</td>\n",
       "      <td>2796</td>\n",
       "      <td>10.241758</td>\n",
       "    </tr>\n",
       "    <tr>\n",
       "      <th>в разводе</th>\n",
       "      <td>84</td>\n",
       "      <td>1189</td>\n",
       "      <td>14.154762</td>\n",
       "    </tr>\n",
       "    <tr>\n",
       "      <th>вдовец / вдова</th>\n",
       "      <td>63</td>\n",
       "      <td>951</td>\n",
       "      <td>15.095238</td>\n",
       "    </tr>\n",
       "    <tr>\n",
       "      <th>гражданский брак</th>\n",
       "      <td>385</td>\n",
       "      <td>4134</td>\n",
       "      <td>10.737662</td>\n",
       "    </tr>\n",
       "    <tr>\n",
       "      <th>женат / замужем</th>\n",
       "      <td>927</td>\n",
       "      <td>12261</td>\n",
       "      <td>13.226537</td>\n",
       "    </tr>\n",
       "  </tbody>\n",
       "</table>\n",
       "</div>"
      ],
      "text/plain": [
       "                      debt        return_percent\n",
       "                       sum  count               \n",
       "family_status                                   \n",
       "Не женат / не замужем  273   2796      10.241758\n",
       "в разводе               84   1189      14.154762\n",
       "вдовец / вдова          63    951      15.095238\n",
       "гражданский брак       385   4134      10.737662\n",
       "женат / замужем        927  12261      13.226537"
      ]
     },
     "execution_count": 23,
     "metadata": {},
     "output_type": "execute_result"
    }
   ],
   "source": [
    "data['family_status'].unique() \n",
    "\n",
    "status_debt = data[['family_status', 'debt']]\n",
    "status_debt\n",
    "\n",
    "status_debt_group = status_debt.groupby('family_status').agg(['sum', 'count'])\n",
    "status_debt_group\n",
    "\n",
    "status_debt_group['return_percent'] = status_debt_group['debt']['count'] / status_debt_group['debt']['sum']\n",
    "status_debt_group"
   ]
  },
  {
   "cell_type": "markdown",
   "id": "1900b3f6",
   "metadata": {
    "deletable": false,
    "id": "1cef7837"
   },
   "source": [
    "**Вывод:** Хуже всех кредиты взвращает группа \"вдовец / вдова\", на втором месте по тенденции к задолженности идет группа людей \"в разводе\". Группа \"женат / замужем\" находится на 3 месте по тенденции к задолженности. Группы \"гражданский брак\" и \"Не женат / не замужем\" чаще остальных возвращают кредиты в срок. Возможно, неожиданная потеря супруга/супруги вляиет на появление тендеции к задолженности."
   ]
  },
  {
   "cell_type": "markdown",
   "id": "986c7516",
   "metadata": {
    "deletable": false,
    "editable": false,
    "id": "1e8b2fca"
   },
   "source": [
    "#### 3.3 Есть ли зависимость между уровнем дохода и возвратом кредита в срок?"
   ]
  },
  {
   "cell_type": "code",
   "execution_count": 24,
   "id": "7254bcd5",
   "metadata": {
    "deletable": false,
    "id": "cd7e3720"
   },
   "outputs": [
    {
     "name": "stderr",
     "output_type": "stream",
     "text": [
      "/tmp/ipykernel_63/3488839430.py:19: SettingWithCopyWarning: \n",
      "A value is trying to be set on a copy of a slice from a DataFrame.\n",
      "Try using .loc[row_indexer,col_indexer] = value instead\n",
      "\n",
      "See the caveats in the documentation: https://pandas.pydata.org/pandas-docs/stable/user_guide/indexing.html#returning-a-view-versus-a-copy\n",
      "  income_debt['income_group'] = income_debt['total_income'].apply(income_group)\n"
     ]
    },
    {
     "data": {
      "text/html": [
       "<div>\n",
       "<style scoped>\n",
       "    .dataframe tbody tr th:only-of-type {\n",
       "        vertical-align: middle;\n",
       "    }\n",
       "\n",
       "    .dataframe tbody tr th {\n",
       "        vertical-align: top;\n",
       "    }\n",
       "\n",
       "    .dataframe thead tr th {\n",
       "        text-align: left;\n",
       "    }\n",
       "\n",
       "    .dataframe thead tr:last-of-type th {\n",
       "        text-align: right;\n",
       "    }\n",
       "</style>\n",
       "<table border=\"1\" class=\"dataframe\">\n",
       "  <thead>\n",
       "    <tr>\n",
       "      <th></th>\n",
       "      <th colspan=\"2\" halign=\"left\">debt</th>\n",
       "      <th>return_percent</th>\n",
       "    </tr>\n",
       "    <tr>\n",
       "      <th></th>\n",
       "      <th>sum</th>\n",
       "      <th>count</th>\n",
       "      <th></th>\n",
       "    </tr>\n",
       "    <tr>\n",
       "      <th>income_group</th>\n",
       "      <th></th>\n",
       "      <th></th>\n",
       "      <th></th>\n",
       "    </tr>\n",
       "  </thead>\n",
       "  <tbody>\n",
       "    <tr>\n",
       "      <th>высокий доход</th>\n",
       "      <td>12</td>\n",
       "      <td>197</td>\n",
       "      <td>16.416667</td>\n",
       "    </tr>\n",
       "    <tr>\n",
       "      <th>минимальный доход</th>\n",
       "      <td>354</td>\n",
       "      <td>4444</td>\n",
       "      <td>12.553672</td>\n",
       "    </tr>\n",
       "    <tr>\n",
       "      <th>очень высокий доход</th>\n",
       "      <td>2</td>\n",
       "      <td>25</td>\n",
       "      <td>12.500000</td>\n",
       "    </tr>\n",
       "    <tr>\n",
       "      <th>средний доход</th>\n",
       "      <td>1364</td>\n",
       "      <td>16665</td>\n",
       "      <td>12.217742</td>\n",
       "    </tr>\n",
       "  </tbody>\n",
       "</table>\n",
       "</div>"
      ],
      "text/plain": [
       "                     debt        return_percent\n",
       "                      sum  count               \n",
       "income_group                                   \n",
       "высокий доход          12    197      16.416667\n",
       "минимальный доход     354   4444      12.553672\n",
       "очень высокий доход     2     25      12.500000\n",
       "средний доход        1364  16665      12.217742"
      ]
     },
     "execution_count": 24,
     "metadata": {},
     "output_type": "execute_result"
    }
   ],
   "source": [
    "income_debt = data[['total_income', 'debt']]\n",
    "income_debt\n",
    "\n",
    "data['total_income'].min() #минимальное значение столбца 'total_income' 20667\n",
    "data['total_income'].max() #максимальное значение столбца 'total_income' 2265604\n",
    "# выделим 4 группы доходов: 20667-100000; 100001-500000; 500001-1000000; 1000001-2265604\n",
    "\n",
    "def income_group(income):\n",
    "    if 20667 <= income <= 100000:\n",
    "        return 'минимальный доход'\n",
    "    elif 100001 <= income <= 500000:\n",
    "        return 'средний доход'\n",
    "    elif 500001 <= income <= 1000000:\n",
    "        return 'высокий доход'\n",
    "    elif 1000001 <= income <= 2265604:\n",
    "        return 'очень высокий доход'\n",
    "    # с помощью функции выделим группы по доходам (забыл, что уже выделяли в первой части проекта)\n",
    "    \n",
    "income_debt['income_group'] = income_debt['total_income'].apply(income_group)\n",
    "income_debt\n",
    "income_debt= income_debt[['income_group', 'debt']]\n",
    "income_debt\n",
    "# добавим новый столбец с грппировкой дохода, и создадим новый удобный датафрейм\n",
    "\n",
    "income_debt_group = income_debt.groupby('income_group').agg(['sum', 'count'])\n",
    "income_debt_group.head(10)\n",
    "\n",
    "income_debt_group['return_percent'] = income_debt_group['debt']['count'] / income_debt_group['debt']['sum']\n",
    "income_debt_group #(не могу отсортировать по двум столбцам, у которых есть иерархия, то есть по столбцу sum, которых входит в debt)"
   ]
  },
  {
   "cell_type": "markdown",
   "id": "d627129a",
   "metadata": {
    "deletable": false,
    "id": "e8593def"
   },
   "source": [
    "**Вывод:** Из нового датафрейма видно, что заисимости между уровнем дохода и степенью возврата кредита в срок нет. Например, люди с максимальным доходом имеют задолжность так же часто, как и люди с минимальным доходом"
   ]
  },
  {
   "cell_type": "markdown",
   "id": "eab02fb4",
   "metadata": {
    "deletable": false,
    "editable": false,
    "id": "99ecbd1f"
   },
   "source": [
    "#### 3.4 Как разные цели кредита влияют на его возврат в срок?"
   ]
  },
  {
   "cell_type": "code",
   "execution_count": 25,
   "id": "d194823d",
   "metadata": {
    "deletable": false,
    "id": "2b687290"
   },
   "outputs": [
    {
     "data": {
      "text/html": [
       "<div>\n",
       "<style scoped>\n",
       "    .dataframe tbody tr th:only-of-type {\n",
       "        vertical-align: middle;\n",
       "    }\n",
       "\n",
       "    .dataframe tbody tr th {\n",
       "        vertical-align: top;\n",
       "    }\n",
       "\n",
       "    .dataframe thead tr th {\n",
       "        text-align: left;\n",
       "    }\n",
       "\n",
       "    .dataframe thead tr:last-of-type th {\n",
       "        text-align: right;\n",
       "    }\n",
       "</style>\n",
       "<table border=\"1\" class=\"dataframe\">\n",
       "  <thead>\n",
       "    <tr>\n",
       "      <th></th>\n",
       "      <th colspan=\"2\" halign=\"left\">debt</th>\n",
       "      <th>return_percent</th>\n",
       "    </tr>\n",
       "    <tr>\n",
       "      <th></th>\n",
       "      <th>sum</th>\n",
       "      <th>count</th>\n",
       "      <th></th>\n",
       "    </tr>\n",
       "    <tr>\n",
       "      <th>purpose_category</th>\n",
       "      <th></th>\n",
       "      <th></th>\n",
       "      <th></th>\n",
       "    </tr>\n",
       "  </thead>\n",
       "  <tbody>\n",
       "    <tr>\n",
       "      <th>операции с автомобилем</th>\n",
       "      <td>400</td>\n",
       "      <td>4279</td>\n",
       "      <td>10.697500</td>\n",
       "    </tr>\n",
       "    <tr>\n",
       "      <th>операции с недвижимостью</th>\n",
       "      <td>780</td>\n",
       "      <td>10751</td>\n",
       "      <td>13.783333</td>\n",
       "    </tr>\n",
       "    <tr>\n",
       "      <th>получение образования</th>\n",
       "      <td>369</td>\n",
       "      <td>3988</td>\n",
       "      <td>10.807588</td>\n",
       "    </tr>\n",
       "    <tr>\n",
       "      <th>проведение свадьбы</th>\n",
       "      <td>183</td>\n",
       "      <td>2313</td>\n",
       "      <td>12.639344</td>\n",
       "    </tr>\n",
       "  </tbody>\n",
       "</table>\n",
       "</div>"
      ],
      "text/plain": [
       "                         debt        return_percent\n",
       "                          sum  count               \n",
       "purpose_category                                   \n",
       "операции с автомобилем    400   4279      10.697500\n",
       "операции с недвижимостью  780  10751      13.783333\n",
       "получение образования     369   3988      10.807588\n",
       "проведение свадьбы        183   2313      12.639344"
      ]
     },
     "execution_count": 25,
     "metadata": {},
     "output_type": "execute_result"
    }
   ],
   "source": [
    "purpose_category_debt = data[['purpose_category', 'debt']]\n",
    "purpose_category_debt.head(15) #создадим новый датафрейм с интересующими нас данными\n",
    "\n",
    "purpose_category_debt_group = purpose_category_debt.groupby('purpose_category').agg(['sum', 'count'])\n",
    "purpose_category_debt_group\n",
    "\n",
    "purpose_category_debt_group['return_percent'] = purpose_category_debt_group['debt']['count'] / purpose_category_debt_group['debt']['sum']\n",
    "purpose_category_debt_group \n"
   ]
  },
  {
   "cell_type": "markdown",
   "id": "4c365773",
   "metadata": {
    "deletable": false,
    "id": "b4bb2ce6"
   },
   "source": [
    "**Вывод:** Чаще всего клиенты задалживают по кредитам, связанными с недвижимостью, на втором месте - долги за проведение свадьбы, процент возврата кредита за образование и автомобили примерно равен и больше каждой из предыдущих категорий."
   ]
  },
  {
   "cell_type": "markdown",
   "id": "92581feb",
   "metadata": {
    "deletable": false,
    "editable": false,
    "id": "09c3ac4c"
   },
   "source": [
    "#### 3.5 Приведите возможные причины появления пропусков в исходных данных."
   ]
  },
  {
   "cell_type": "markdown",
   "id": "d9222110",
   "metadata": {
    "deletable": false,
    "id": "9da2ceda"
   },
   "source": [
    "*Ответ:* Количество пропусков в столбце ежемесячного дохода равно количеству прпусков в столбце трудового стажа. Возможно, сам клиент намеренно или случайно не указал эти данные. Также возможен какой-либо технический сбой."
   ]
  },
  {
   "cell_type": "markdown",
   "id": "9b489e88",
   "metadata": {
    "deletable": false,
    "editable": false,
    "id": "7b0487d6"
   },
   "source": [
    "#### 3.6 Объясните, почему заполнить пропуски медианным значением — лучшее решение для количественных переменных."
   ]
  },
  {
   "cell_type": "markdown",
   "id": "d338305b",
   "metadata": {
    "deletable": false,
    "id": "7ecf2b8e"
   },
   "source": [
    "*Ответ:* Количественные значения могут сильно разниться и поэтому среднее арифметическое может выдать некоректное (слишком большое или слишком маленкое) значение. Медиана заполнит пропуски средним, наиболее подходящим значением для всего перечня чисел, и итоговый резудьтат вычислений с участием количественных переменных не будет существенно изменен. "
   ]
  },
  {
   "cell_type": "markdown",
   "id": "4c54e82b",
   "metadata": {
    "deletable": false,
    "editable": false,
    "id": "6db5255a"
   },
   "source": [
    "### Шаг 4: общий вывод."
   ]
  },
  {
   "cell_type": "markdown",
   "id": "8dbc4cec",
   "metadata": {
    "deletable": false,
    "id": "bad65432"
   },
   "source": [
    "Результаты анализа данных о клиентах банка показали, что на возврат кредита в срок влияют количество детей клиента, семейное положение и цель взятия этого кредита. Уровень дохода напрямую не влияют на процент возврата кредита в срок. При построении модели кредитного скоринга стоит учитывать наличие и количество детей клиента,так как люди без детей отдают кредит в срок чаще, и их надежночть в среднем выше на 2%. Говоря о семейном положении клиента, можно сделать вывод, что люди, состоящие в гражданском браке, и неженатые/незамужние клиенты чаще остальных возвращают кредиты, в среднем на 4%, хуже всех по этому показателю - разведненные клиенты, а также вдовцы и вдовы. Помиомо этого, важно отметить, что кредит, взятый на операции с недвижимостью, чаще отдают не в срок по сравнению с другими целями кредита, на втором месте - долги за проведение свадьбы, процент возврата кредита за образование и автомобили примерно равен и больше каждой из предыдущих категорий в среднем на 2%. Например, многодетный клиент, находящийся в разводе и берущий кредит на покупку квартиры, будет крайне не надежным клиентом по показателю возврата кредита в срок.\n"
   ]
  }
 ],
 "metadata": {
  "ExecuteTimeLog": [
   {
    "duration": 3,
    "start_time": "2022-11-21T19:52:36.482Z"
   },
   {
    "duration": 492,
    "start_time": "2022-11-21T19:52:44.352Z"
   },
   {
    "duration": 22,
    "start_time": "2022-11-21T19:52:44.846Z"
   },
   {
    "duration": 14,
    "start_time": "2022-11-21T19:52:44.870Z"
   },
   {
    "duration": 8,
    "start_time": "2022-11-21T19:52:44.886Z"
   },
   {
    "duration": 33,
    "start_time": "2022-11-21T19:52:44.897Z"
   },
   {
    "duration": 4,
    "start_time": "2022-11-21T19:52:44.932Z"
   },
   {
    "duration": 13,
    "start_time": "2022-11-21T19:52:44.938Z"
   },
   {
    "duration": 26,
    "start_time": "2022-11-21T19:52:44.953Z"
   },
   {
    "duration": 8,
    "start_time": "2022-11-21T19:52:44.981Z"
   },
   {
    "duration": 6,
    "start_time": "2022-11-21T19:52:44.990Z"
   },
   {
    "duration": 41,
    "start_time": "2022-11-21T19:52:44.998Z"
   },
   {
    "duration": 9,
    "start_time": "2022-11-21T19:52:45.041Z"
   },
   {
    "duration": 29,
    "start_time": "2022-11-21T19:52:45.052Z"
   },
   {
    "duration": 12,
    "start_time": "2022-11-21T19:52:45.085Z"
   },
   {
    "duration": 20,
    "start_time": "2022-11-21T19:52:45.098Z"
   },
   {
    "duration": 17,
    "start_time": "2022-11-21T19:52:45.120Z"
   },
   {
    "duration": 3,
    "start_time": "2022-11-21T19:52:45.139Z"
   },
   {
    "duration": 39,
    "start_time": "2022-11-21T19:52:45.144Z"
   },
   {
    "duration": 9,
    "start_time": "2022-11-21T19:52:45.184Z"
   },
   {
    "duration": 4,
    "start_time": "2022-11-21T19:52:45.194Z"
   },
   {
    "duration": 13,
    "start_time": "2022-11-21T19:52:45.199Z"
   },
   {
    "duration": 2,
    "start_time": "2022-11-21T19:52:45.214Z"
   },
   {
    "duration": 9,
    "start_time": "2022-11-21T19:52:45.218Z"
   },
   {
    "duration": 8,
    "start_time": "2022-11-21T19:52:45.229Z"
   },
   {
    "duration": 6,
    "start_time": "2022-11-21T19:52:45.239Z"
   },
   {
    "duration": 1180,
    "start_time": "2022-11-21T20:05:14.739Z"
   },
   {
    "duration": 7,
    "start_time": "2022-11-21T20:08:18.596Z"
   },
   {
    "duration": 29,
    "start_time": "2022-11-21T20:08:30.445Z"
   },
   {
    "duration": 476,
    "start_time": "2022-11-21T20:08:49.040Z"
   },
   {
    "duration": 24,
    "start_time": "2022-11-21T20:08:49.519Z"
   },
   {
    "duration": 19,
    "start_time": "2022-11-21T20:08:49.545Z"
   },
   {
    "duration": 32,
    "start_time": "2022-11-21T20:08:49.565Z"
   },
   {
    "duration": 34,
    "start_time": "2022-11-21T20:08:49.599Z"
   },
   {
    "duration": 4,
    "start_time": "2022-11-21T20:08:49.635Z"
   },
   {
    "duration": 21,
    "start_time": "2022-11-21T20:08:49.641Z"
   },
   {
    "duration": 16,
    "start_time": "2022-11-21T20:08:49.664Z"
   },
   {
    "duration": 14,
    "start_time": "2022-11-21T20:08:49.682Z"
   },
   {
    "duration": 33,
    "start_time": "2022-11-21T20:08:49.697Z"
   },
   {
    "duration": 43,
    "start_time": "2022-11-21T20:08:49.732Z"
   },
   {
    "duration": 9,
    "start_time": "2022-11-21T20:08:49.777Z"
   },
   {
    "duration": 23,
    "start_time": "2022-11-21T20:08:49.788Z"
   },
   {
    "duration": 29,
    "start_time": "2022-11-21T20:08:49.814Z"
   },
   {
    "duration": 48,
    "start_time": "2022-11-21T20:08:49.845Z"
   },
   {
    "duration": 17,
    "start_time": "2022-11-21T20:08:49.894Z"
   },
   {
    "duration": 7,
    "start_time": "2022-11-21T20:08:49.913Z"
   },
   {
    "duration": 24,
    "start_time": "2022-11-21T20:08:49.922Z"
   },
   {
    "duration": 29,
    "start_time": "2022-11-21T20:08:49.948Z"
   },
   {
    "duration": 11,
    "start_time": "2022-11-21T20:08:49.978Z"
   },
   {
    "duration": 20,
    "start_time": "2022-11-21T20:08:49.991Z"
   },
   {
    "duration": 56,
    "start_time": "2022-11-21T20:08:50.012Z"
   },
   {
    "duration": 3,
    "start_time": "2022-11-21T20:08:50.069Z"
   },
   {
    "duration": 8,
    "start_time": "2022-11-21T20:08:50.073Z"
   },
   {
    "duration": 41,
    "start_time": "2022-11-21T20:08:50.082Z"
   },
   {
    "duration": 10,
    "start_time": "2022-11-21T20:13:53.531Z"
   },
   {
    "duration": 8,
    "start_time": "2022-11-21T20:14:11.294Z"
   },
   {
    "duration": 7,
    "start_time": "2022-11-21T20:17:39.694Z"
   },
   {
    "duration": 463,
    "start_time": "2022-11-21T20:17:59.797Z"
   },
   {
    "duration": 24,
    "start_time": "2022-11-21T20:18:00.262Z"
   },
   {
    "duration": 15,
    "start_time": "2022-11-21T20:18:00.287Z"
   },
   {
    "duration": 30,
    "start_time": "2022-11-21T20:18:00.305Z"
   },
   {
    "duration": 48,
    "start_time": "2022-11-21T20:18:00.338Z"
   },
   {
    "duration": 4,
    "start_time": "2022-11-21T20:18:00.388Z"
   },
   {
    "duration": 40,
    "start_time": "2022-11-21T20:18:00.394Z"
   },
   {
    "duration": 23,
    "start_time": "2022-11-21T20:18:00.436Z"
   },
   {
    "duration": 25,
    "start_time": "2022-11-21T20:18:00.460Z"
   },
   {
    "duration": 28,
    "start_time": "2022-11-21T20:18:00.486Z"
   },
   {
    "duration": 48,
    "start_time": "2022-11-21T20:18:00.516Z"
   },
   {
    "duration": 22,
    "start_time": "2022-11-21T20:18:00.566Z"
   },
   {
    "duration": 28,
    "start_time": "2022-11-21T20:18:00.590Z"
   },
   {
    "duration": 46,
    "start_time": "2022-11-21T20:18:00.621Z"
   },
   {
    "duration": 49,
    "start_time": "2022-11-21T20:18:00.669Z"
   },
   {
    "duration": 35,
    "start_time": "2022-11-21T20:18:00.720Z"
   },
   {
    "duration": 29,
    "start_time": "2022-11-21T20:18:00.757Z"
   },
   {
    "duration": 57,
    "start_time": "2022-11-21T20:18:00.787Z"
   },
   {
    "duration": 22,
    "start_time": "2022-11-21T20:18:00.846Z"
   },
   {
    "duration": 31,
    "start_time": "2022-11-21T20:18:00.870Z"
   },
   {
    "duration": 31,
    "start_time": "2022-11-21T20:18:00.903Z"
   },
   {
    "duration": 28,
    "start_time": "2022-11-21T20:18:00.937Z"
   },
   {
    "duration": 27,
    "start_time": "2022-11-21T20:18:00.967Z"
   },
   {
    "duration": 41,
    "start_time": "2022-11-21T20:18:00.996Z"
   },
   {
    "duration": 39,
    "start_time": "2022-11-21T20:18:01.038Z"
   },
   {
    "duration": 6,
    "start_time": "2022-11-21T20:18:04.111Z"
   },
   {
    "duration": 13,
    "start_time": "2022-11-21T20:18:25.143Z"
   },
   {
    "duration": 69,
    "start_time": "2022-11-21T20:19:02.740Z"
   },
   {
    "duration": 13,
    "start_time": "2022-11-21T20:19:15.717Z"
   },
   {
    "duration": 11,
    "start_time": "2022-11-21T20:23:09.128Z"
   },
   {
    "duration": 10,
    "start_time": "2022-11-21T20:23:35.095Z"
   },
   {
    "duration": 10,
    "start_time": "2022-11-21T20:23:42.958Z"
   },
   {
    "duration": 14,
    "start_time": "2022-11-21T20:24:02.900Z"
   },
   {
    "duration": 11,
    "start_time": "2022-11-21T20:24:12.636Z"
   },
   {
    "duration": 9,
    "start_time": "2022-11-21T20:28:13.229Z"
   },
   {
    "duration": 14,
    "start_time": "2022-11-21T20:28:27.419Z"
   },
   {
    "duration": 13,
    "start_time": "2022-11-21T20:28:44.196Z"
   },
   {
    "duration": 14,
    "start_time": "2022-11-21T20:28:53.352Z"
   },
   {
    "duration": 11,
    "start_time": "2022-11-21T20:31:49.352Z"
   },
   {
    "duration": 11,
    "start_time": "2022-11-21T20:32:06.708Z"
   },
   {
    "duration": 14,
    "start_time": "2022-11-21T20:37:53.345Z"
   },
   {
    "duration": 10,
    "start_time": "2022-11-21T20:38:03.009Z"
   },
   {
    "duration": 13,
    "start_time": "2022-11-21T20:38:11.550Z"
   },
   {
    "duration": 15,
    "start_time": "2022-11-21T20:40:25.114Z"
   },
   {
    "duration": 11,
    "start_time": "2022-11-21T20:40:59.033Z"
   },
   {
    "duration": 11,
    "start_time": "2022-11-21T20:44:02.808Z"
   },
   {
    "duration": 13,
    "start_time": "2022-11-21T20:44:20.559Z"
   },
   {
    "duration": 14,
    "start_time": "2022-11-21T20:45:07.916Z"
   },
   {
    "duration": 11,
    "start_time": "2022-11-21T20:45:12.552Z"
   },
   {
    "duration": 14,
    "start_time": "2022-11-21T20:45:43.291Z"
   },
   {
    "duration": 13,
    "start_time": "2022-11-21T20:47:14.520Z"
   },
   {
    "duration": 22,
    "start_time": "2022-11-21T20:47:27.074Z"
   },
   {
    "duration": 15,
    "start_time": "2022-11-21T20:47:36.379Z"
   },
   {
    "duration": 12,
    "start_time": "2022-11-21T20:48:01.983Z"
   },
   {
    "duration": 24,
    "start_time": "2022-11-21T20:57:18.426Z"
   },
   {
    "duration": 11,
    "start_time": "2022-11-21T20:57:34.662Z"
   },
   {
    "duration": 15,
    "start_time": "2022-11-21T21:00:39.564Z"
   },
   {
    "duration": 13,
    "start_time": "2022-11-21T21:00:51.005Z"
   },
   {
    "duration": 17,
    "start_time": "2022-11-21T21:07:40.969Z"
   },
   {
    "duration": 1173,
    "start_time": "2022-11-21T21:10:30.373Z"
   },
   {
    "duration": 14,
    "start_time": "2022-11-21T21:10:49.373Z"
   },
   {
    "duration": 11,
    "start_time": "2022-11-21T21:11:26.645Z"
   },
   {
    "duration": 17,
    "start_time": "2022-11-21T21:11:37.731Z"
   },
   {
    "duration": 17,
    "start_time": "2022-11-21T21:20:39.754Z"
   },
   {
    "duration": 46,
    "start_time": "2022-11-22T10:26:16.422Z"
   },
   {
    "duration": 524,
    "start_time": "2022-11-22T10:26:23.046Z"
   },
   {
    "duration": 21,
    "start_time": "2022-11-22T10:26:23.572Z"
   },
   {
    "duration": 13,
    "start_time": "2022-11-22T10:26:23.595Z"
   },
   {
    "duration": 10,
    "start_time": "2022-11-22T10:26:23.610Z"
   },
   {
    "duration": 38,
    "start_time": "2022-11-22T10:26:23.622Z"
   },
   {
    "duration": 4,
    "start_time": "2022-11-22T10:26:23.662Z"
   },
   {
    "duration": 11,
    "start_time": "2022-11-22T10:26:23.667Z"
   },
   {
    "duration": 4,
    "start_time": "2022-11-22T10:26:23.680Z"
   },
   {
    "duration": 10,
    "start_time": "2022-11-22T10:26:23.686Z"
   },
   {
    "duration": 4,
    "start_time": "2022-11-22T10:26:23.697Z"
   },
   {
    "duration": 61,
    "start_time": "2022-11-22T10:26:23.703Z"
   },
   {
    "duration": 11,
    "start_time": "2022-11-22T10:26:23.765Z"
   },
   {
    "duration": 4,
    "start_time": "2022-11-22T10:26:23.778Z"
   },
   {
    "duration": 11,
    "start_time": "2022-11-22T10:26:23.785Z"
   },
   {
    "duration": 21,
    "start_time": "2022-11-22T10:26:23.797Z"
   },
   {
    "duration": 42,
    "start_time": "2022-11-22T10:26:23.820Z"
   },
   {
    "duration": 4,
    "start_time": "2022-11-22T10:26:23.864Z"
   },
   {
    "duration": 15,
    "start_time": "2022-11-22T10:26:23.869Z"
   },
   {
    "duration": 8,
    "start_time": "2022-11-22T10:26:23.885Z"
   },
   {
    "duration": 6,
    "start_time": "2022-11-22T10:26:23.895Z"
   },
   {
    "duration": 10,
    "start_time": "2022-11-22T10:26:23.903Z"
   },
   {
    "duration": 90,
    "start_time": "2022-11-22T10:26:23.914Z"
   },
   {
    "duration": 0,
    "start_time": "2022-11-22T10:26:24.005Z"
   },
   {
    "duration": 0,
    "start_time": "2022-11-22T10:26:24.007Z"
   },
   {
    "duration": 0,
    "start_time": "2022-11-22T10:26:24.008Z"
   },
   {
    "duration": 18,
    "start_time": "2022-11-22T10:26:35.233Z"
   },
   {
    "duration": 18,
    "start_time": "2022-11-22T10:28:11.051Z"
   },
   {
    "duration": 6,
    "start_time": "2022-11-22T17:55:28.199Z"
   },
   {
    "duration": 21,
    "start_time": "2022-11-22T17:58:24.007Z"
   },
   {
    "duration": 11,
    "start_time": "2022-11-22T17:59:25.730Z"
   },
   {
    "duration": 24,
    "start_time": "2022-11-22T18:01:25.796Z"
   },
   {
    "duration": 19,
    "start_time": "2022-11-22T18:01:36.444Z"
   },
   {
    "duration": 522,
    "start_time": "2022-11-22T18:01:40.673Z"
   },
   {
    "duration": 34,
    "start_time": "2022-11-22T18:01:41.199Z"
   },
   {
    "duration": 18,
    "start_time": "2022-11-22T18:01:41.235Z"
   },
   {
    "duration": 11,
    "start_time": "2022-11-22T18:01:41.255Z"
   },
   {
    "duration": 54,
    "start_time": "2022-11-22T18:01:41.269Z"
   },
   {
    "duration": 29,
    "start_time": "2022-11-22T18:01:41.325Z"
   },
   {
    "duration": 12,
    "start_time": "2022-11-22T18:01:41.357Z"
   },
   {
    "duration": 9,
    "start_time": "2022-11-22T18:01:41.371Z"
   },
   {
    "duration": 17,
    "start_time": "2022-11-22T18:01:41.383Z"
   },
   {
    "duration": 5,
    "start_time": "2022-11-22T18:01:41.402Z"
   },
   {
    "duration": 64,
    "start_time": "2022-11-22T18:01:41.409Z"
   },
   {
    "duration": 11,
    "start_time": "2022-11-22T18:01:41.475Z"
   },
   {
    "duration": 9,
    "start_time": "2022-11-22T18:01:41.488Z"
   },
   {
    "duration": 14,
    "start_time": "2022-11-22T18:01:41.500Z"
   },
   {
    "duration": 50,
    "start_time": "2022-11-22T18:01:41.516Z"
   },
   {
    "duration": 31,
    "start_time": "2022-11-22T18:01:41.569Z"
   },
   {
    "duration": 5,
    "start_time": "2022-11-22T18:01:41.603Z"
   },
   {
    "duration": 17,
    "start_time": "2022-11-22T18:01:41.610Z"
   },
   {
    "duration": 27,
    "start_time": "2022-11-22T18:01:41.629Z"
   },
   {
    "duration": 6,
    "start_time": "2022-11-22T18:01:41.658Z"
   },
   {
    "duration": 13,
    "start_time": "2022-11-22T18:01:41.666Z"
   },
   {
    "duration": 79,
    "start_time": "2022-11-22T18:01:41.682Z"
   },
   {
    "duration": 160,
    "start_time": "2022-11-22T18:01:41.764Z"
   },
   {
    "duration": 0,
    "start_time": "2022-11-22T18:01:41.927Z"
   },
   {
    "duration": 0,
    "start_time": "2022-11-22T18:01:41.928Z"
   },
   {
    "duration": 19,
    "start_time": "2022-11-22T18:01:53.128Z"
   },
   {
    "duration": 26,
    "start_time": "2022-11-22T18:04:25.903Z"
   },
   {
    "duration": 13,
    "start_time": "2022-11-22T18:15:22.442Z"
   },
   {
    "duration": 15,
    "start_time": "2022-11-22T18:16:32.631Z"
   },
   {
    "duration": 8,
    "start_time": "2022-11-22T18:16:42.848Z"
   },
   {
    "duration": 8,
    "start_time": "2022-11-22T18:17:41.906Z"
   },
   {
    "duration": 24,
    "start_time": "2022-11-22T18:37:43.640Z"
   },
   {
    "duration": 24,
    "start_time": "2022-11-22T18:38:00.070Z"
   },
   {
    "duration": 23,
    "start_time": "2022-11-22T18:40:02.266Z"
   },
   {
    "duration": 14,
    "start_time": "2022-11-22T18:40:26.682Z"
   },
   {
    "duration": 23,
    "start_time": "2022-11-22T18:40:35.128Z"
   },
   {
    "duration": 17,
    "start_time": "2022-11-22T18:40:58.116Z"
   },
   {
    "duration": 30,
    "start_time": "2022-11-22T18:41:05.956Z"
   },
   {
    "duration": 1559,
    "start_time": "2022-11-22T18:44:01.348Z"
   },
   {
    "duration": 25,
    "start_time": "2022-11-22T18:44:33.034Z"
   },
   {
    "duration": 24,
    "start_time": "2022-11-22T18:45:12.422Z"
   },
   {
    "duration": 16,
    "start_time": "2022-11-22T18:49:07.938Z"
   },
   {
    "duration": 24,
    "start_time": "2022-11-22T18:49:25.303Z"
   },
   {
    "duration": 22,
    "start_time": "2022-11-22T18:50:48.782Z"
   },
   {
    "duration": 20,
    "start_time": "2022-11-22T18:54:30.598Z"
   },
   {
    "duration": 32,
    "start_time": "2022-11-22T18:54:53.484Z"
   },
   {
    "duration": 23,
    "start_time": "2022-11-22T18:55:11.412Z"
   },
   {
    "duration": 23,
    "start_time": "2022-11-22T18:55:31.510Z"
   },
   {
    "duration": 25,
    "start_time": "2022-11-22T18:56:34.885Z"
   },
   {
    "duration": 31,
    "start_time": "2022-11-22T18:57:07.031Z"
   },
   {
    "duration": 41,
    "start_time": "2022-11-22T18:59:13.846Z"
   },
   {
    "duration": 38,
    "start_time": "2022-11-22T18:59:40.747Z"
   },
   {
    "duration": 45,
    "start_time": "2022-11-22T18:59:57.372Z"
   },
   {
    "duration": 103,
    "start_time": "2022-11-22T19:00:06.615Z"
   },
   {
    "duration": 28,
    "start_time": "2022-11-22T19:00:23.393Z"
   },
   {
    "duration": 21,
    "start_time": "2022-11-22T19:00:40.952Z"
   },
   {
    "duration": 8,
    "start_time": "2022-11-22T19:00:51.954Z"
   },
   {
    "duration": 26,
    "start_time": "2022-11-22T19:01:00.680Z"
   },
   {
    "duration": 32,
    "start_time": "2022-11-22T19:01:10.610Z"
   },
   {
    "duration": 27,
    "start_time": "2022-11-22T19:01:22.780Z"
   },
   {
    "duration": 34,
    "start_time": "2022-11-22T19:01:27.148Z"
   },
   {
    "duration": 27,
    "start_time": "2022-11-22T19:01:30.084Z"
   },
   {
    "duration": 27,
    "start_time": "2022-11-22T19:01:34.779Z"
   },
   {
    "duration": 97,
    "start_time": "2022-11-22T19:05:04.889Z"
   },
   {
    "duration": 27,
    "start_time": "2022-11-22T19:05:36.384Z"
   },
   {
    "duration": 41,
    "start_time": "2022-11-22T19:06:13.375Z"
   },
   {
    "duration": 25,
    "start_time": "2022-11-22T19:12:24.781Z"
   },
   {
    "duration": 4,
    "start_time": "2022-11-22T19:21:48.711Z"
   },
   {
    "duration": 10,
    "start_time": "2022-11-22T19:21:59.908Z"
   },
   {
    "duration": 8,
    "start_time": "2022-11-22T19:22:13.839Z"
   },
   {
    "duration": 10,
    "start_time": "2022-11-22T19:23:51.979Z"
   },
   {
    "duration": 14,
    "start_time": "2022-11-22T19:23:59.003Z"
   },
   {
    "duration": 18,
    "start_time": "2022-11-22T19:24:53.949Z"
   },
   {
    "duration": 742,
    "start_time": "2022-11-23T16:30:13.198Z"
   },
   {
    "duration": 24,
    "start_time": "2022-11-23T16:30:13.942Z"
   },
   {
    "duration": 15,
    "start_time": "2022-11-23T16:30:13.968Z"
   },
   {
    "duration": 20,
    "start_time": "2022-11-23T16:30:13.985Z"
   },
   {
    "duration": 36,
    "start_time": "2022-11-23T16:30:14.007Z"
   },
   {
    "duration": 3,
    "start_time": "2022-11-23T16:30:14.045Z"
   },
   {
    "duration": 24,
    "start_time": "2022-11-23T16:30:14.050Z"
   },
   {
    "duration": 5,
    "start_time": "2022-11-23T16:30:14.076Z"
   },
   {
    "duration": 9,
    "start_time": "2022-11-23T16:30:14.083Z"
   },
   {
    "duration": 19,
    "start_time": "2022-11-23T16:30:14.096Z"
   },
   {
    "duration": 38,
    "start_time": "2022-11-23T16:30:14.117Z"
   },
   {
    "duration": 9,
    "start_time": "2022-11-23T16:30:14.157Z"
   },
   {
    "duration": 5,
    "start_time": "2022-11-23T16:30:14.168Z"
   },
   {
    "duration": 15,
    "start_time": "2022-11-23T16:30:14.175Z"
   },
   {
    "duration": 27,
    "start_time": "2022-11-23T16:30:14.212Z"
   },
   {
    "duration": 18,
    "start_time": "2022-11-23T16:30:14.241Z"
   },
   {
    "duration": 4,
    "start_time": "2022-11-23T16:30:14.260Z"
   },
   {
    "duration": 12,
    "start_time": "2022-11-23T16:30:14.265Z"
   },
   {
    "duration": 9,
    "start_time": "2022-11-23T16:30:14.279Z"
   },
   {
    "duration": 26,
    "start_time": "2022-11-23T16:30:14.289Z"
   },
   {
    "duration": 30,
    "start_time": "2022-11-23T16:30:14.316Z"
   },
   {
    "duration": 23,
    "start_time": "2022-11-23T16:30:14.347Z"
   },
   {
    "duration": 42,
    "start_time": "2022-11-23T16:30:14.371Z"
   },
   {
    "duration": 28,
    "start_time": "2022-11-23T16:30:14.415Z"
   },
   {
    "duration": 19,
    "start_time": "2022-11-23T16:30:14.445Z"
   },
   {
    "duration": 11,
    "start_time": "2022-11-23T16:30:42.164Z"
   },
   {
    "duration": 10,
    "start_time": "2022-11-23T16:30:44.132Z"
   },
   {
    "duration": 14,
    "start_time": "2022-11-23T16:30:57.027Z"
   },
   {
    "duration": 5,
    "start_time": "2022-11-23T16:31:49.788Z"
   },
   {
    "duration": 5,
    "start_time": "2022-11-23T16:32:00.390Z"
   },
   {
    "duration": 806,
    "start_time": "2022-11-23T16:32:17.880Z"
   },
   {
    "duration": 19,
    "start_time": "2022-11-23T16:32:58.452Z"
   },
   {
    "duration": 41,
    "start_time": "2022-11-23T16:35:24.075Z"
   }
  ],
  "colab": {
   "name": "dpp_template_part2.ipynb",
   "provenance": []
  },
  "kernelspec": {
   "display_name": "Python 3 (ipykernel)",
   "language": "python",
   "name": "python3"
  },
  "language_info": {
   "codemirror_mode": {
    "name": "ipython",
    "version": 3
   },
   "file_extension": ".py",
   "mimetype": "text/x-python",
   "name": "python",
   "nbconvert_exporter": "python",
   "pygments_lexer": "ipython3",
   "version": "3.9.5"
  },
  "toc": {
   "base_numbering": 1,
   "nav_menu": {},
   "number_sections": true,
   "sideBar": true,
   "skip_h1_title": true,
   "title_cell": "Table of Contents",
   "title_sidebar": "Contents",
   "toc_cell": false,
   "toc_position": {},
   "toc_section_display": true,
   "toc_window_display": false
  }
 },
 "nbformat": 4,
 "nbformat_minor": 5
}
