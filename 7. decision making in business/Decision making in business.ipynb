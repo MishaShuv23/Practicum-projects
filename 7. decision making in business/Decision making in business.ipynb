{
 "cells": [
  {
   "cell_type": "markdown",
   "metadata": {},
   "source": [
    "# Принятие решений в бизнесе. Приоритизация гипотез."
   ]
  },
  {
   "cell_type": "markdown",
   "metadata": {},
   "source": [
    "В роли аналитика крупного интернет-магазина следует проанализировать список гипотез для увеличения выручки.\n",
    "В 1 части нужно приоритизировать гипотезы, а во 2 части требуется запустить A/B-тест и проанализировать результаты. "
   ]
  },
  {
   "cell_type": "code",
   "execution_count": 2,
   "metadata": {},
   "outputs": [],
   "source": [
    "import pandas as pd\n",
    "import pandas as pd\n",
    "import numpy as np\n",
    "import datetime as dt\n",
    "import matplotlib.pyplot as plt\n",
    "from pandas.plotting import register_matplotlib_converters\n",
    "import warnings\n",
    "import scipy.stats as stats\n",
    "data = pd.read_csv('/datasets/hypothesis.csv')"
   ]
  },
  {
   "cell_type": "code",
   "execution_count": 3,
   "metadata": {},
   "outputs": [
    {
     "name": "stdout",
     "output_type": "stream",
     "text": [
      "                                          Hypothesis  Reach  Impact  \\\n",
      "0  Добавить два новых канала привлечения трафика,...      3      10   \n",
      "1  Запустить собственную службу доставки, что сок...      2       5   \n",
      "2  Добавить блоки рекомендаций товаров на сайт ин...      8       3   \n",
      "3  Изменить структура категорий, что увеличит кон...      8       3   \n",
      "4  Изменить цвет фона главной страницы, чтобы уве...      3       1   \n",
      "5  Добавить страницу отзывов клиентов о магазине,...      3       2   \n",
      "6  Показать на главной странице баннеры с актуаль...      5       3   \n",
      "7  Добавить форму подписки на все основные страни...     10       7   \n",
      "8  Запустить акцию, дающую скидку на товар в день...      1       9   \n",
      "\n",
      "   Confidence  Efforts  \n",
      "0           8        6  \n",
      "1           4       10  \n",
      "2           7        3  \n",
      "3           3        8  \n",
      "4           1        1  \n",
      "5           2        3  \n",
      "6           8        3  \n",
      "7           8        5  \n",
      "8           9        5  \n"
     ]
    }
   ],
   "source": [
    "print(data.head(10)) "
   ]
  },
  {
   "cell_type": "markdown",
   "metadata": {},
   "source": [
    "Получили датафрейм, состоящий из 5 столбцов и 9 строк. В нем преиводятся гипотезы и показатели указанных параметров "
   ]
  },
  {
   "cell_type": "code",
   "execution_count": 4,
   "metadata": {},
   "outputs": [
    {
     "data": {
      "text/html": [
       "<div>\n",
       "<style scoped>\n",
       "    .dataframe tbody tr th:only-of-type {\n",
       "        vertical-align: middle;\n",
       "    }\n",
       "\n",
       "    .dataframe tbody tr th {\n",
       "        vertical-align: top;\n",
       "    }\n",
       "\n",
       "    .dataframe thead th {\n",
       "        text-align: right;\n",
       "    }\n",
       "</style>\n",
       "<table border=\"1\" class=\"dataframe\">\n",
       "  <thead>\n",
       "    <tr style=\"text-align: right;\">\n",
       "      <th></th>\n",
       "      <th>Hypothesis</th>\n",
       "      <th>Reach</th>\n",
       "      <th>Impact</th>\n",
       "      <th>Confidence</th>\n",
       "      <th>Efforts</th>\n",
       "    </tr>\n",
       "  </thead>\n",
       "  <tbody>\n",
       "    <tr>\n",
       "      <th>0</th>\n",
       "      <td>Добавить два новых канала привлечения трафика,...</td>\n",
       "      <td>3</td>\n",
       "      <td>10</td>\n",
       "      <td>8</td>\n",
       "      <td>6</td>\n",
       "    </tr>\n",
       "    <tr>\n",
       "      <th>1</th>\n",
       "      <td>Запустить собственную службу доставки, что сок...</td>\n",
       "      <td>2</td>\n",
       "      <td>5</td>\n",
       "      <td>4</td>\n",
       "      <td>10</td>\n",
       "    </tr>\n",
       "    <tr>\n",
       "      <th>2</th>\n",
       "      <td>Добавить блоки рекомендаций товаров на сайт ин...</td>\n",
       "      <td>8</td>\n",
       "      <td>3</td>\n",
       "      <td>7</td>\n",
       "      <td>3</td>\n",
       "    </tr>\n",
       "    <tr>\n",
       "      <th>3</th>\n",
       "      <td>Изменить структура категорий, что увеличит кон...</td>\n",
       "      <td>8</td>\n",
       "      <td>3</td>\n",
       "      <td>3</td>\n",
       "      <td>8</td>\n",
       "    </tr>\n",
       "    <tr>\n",
       "      <th>4</th>\n",
       "      <td>Изменить цвет фона главной страницы, чтобы уве...</td>\n",
       "      <td>3</td>\n",
       "      <td>1</td>\n",
       "      <td>1</td>\n",
       "      <td>1</td>\n",
       "    </tr>\n",
       "    <tr>\n",
       "      <th>5</th>\n",
       "      <td>Добавить страницу отзывов клиентов о магазине,...</td>\n",
       "      <td>3</td>\n",
       "      <td>2</td>\n",
       "      <td>2</td>\n",
       "      <td>3</td>\n",
       "    </tr>\n",
       "    <tr>\n",
       "      <th>6</th>\n",
       "      <td>Показать на главной странице баннеры с актуаль...</td>\n",
       "      <td>5</td>\n",
       "      <td>3</td>\n",
       "      <td>8</td>\n",
       "      <td>3</td>\n",
       "    </tr>\n",
       "    <tr>\n",
       "      <th>7</th>\n",
       "      <td>Добавить форму подписки на все основные страни...</td>\n",
       "      <td>10</td>\n",
       "      <td>7</td>\n",
       "      <td>8</td>\n",
       "      <td>5</td>\n",
       "    </tr>\n",
       "    <tr>\n",
       "      <th>8</th>\n",
       "      <td>Запустить акцию, дающую скидку на товар в день...</td>\n",
       "      <td>1</td>\n",
       "      <td>9</td>\n",
       "      <td>9</td>\n",
       "      <td>5</td>\n",
       "    </tr>\n",
       "  </tbody>\n",
       "</table>\n",
       "</div>"
      ],
      "text/plain": [
       "                                          Hypothesis  Reach  Impact  \\\n",
       "0  Добавить два новых канала привлечения трафика,...      3      10   \n",
       "1  Запустить собственную службу доставки, что сок...      2       5   \n",
       "2  Добавить блоки рекомендаций товаров на сайт ин...      8       3   \n",
       "3  Изменить структура категорий, что увеличит кон...      8       3   \n",
       "4  Изменить цвет фона главной страницы, чтобы уве...      3       1   \n",
       "5  Добавить страницу отзывов клиентов о магазине,...      3       2   \n",
       "6  Показать на главной странице баннеры с актуаль...      5       3   \n",
       "7  Добавить форму подписки на все основные страни...     10       7   \n",
       "8  Запустить акцию, дающую скидку на товар в день...      1       9   \n",
       "\n",
       "   Confidence  Efforts  \n",
       "0           8        6  \n",
       "1           4       10  \n",
       "2           7        3  \n",
       "3           3        8  \n",
       "4           1        1  \n",
       "5           2        3  \n",
       "6           8        3  \n",
       "7           8        5  \n",
       "8           9        5  "
      ]
     },
     "metadata": {},
     "output_type": "display_data"
    }
   ],
   "source": [
    "display(data.head(10)) "
   ]
  },
  {
   "cell_type": "code",
   "execution_count": 5,
   "metadata": {},
   "outputs": [
    {
     "name": "stdout",
     "output_type": "stream",
     "text": [
      "<class 'pandas.core.frame.DataFrame'>\n",
      "RangeIndex: 9 entries, 0 to 8\n",
      "Data columns (total 5 columns):\n",
      " #   Column      Non-Null Count  Dtype \n",
      "---  ------      --------------  ----- \n",
      " 0   Hypothesis  9 non-null      object\n",
      " 1   Reach       9 non-null      int64 \n",
      " 2   Impact      9 non-null      int64 \n",
      " 3   Confidence  9 non-null      int64 \n",
      " 4   Efforts     9 non-null      int64 \n",
      "dtypes: int64(4), object(1)\n",
      "memory usage: 488.0+ bytes\n"
     ]
    }
   ],
   "source": [
    "data.info()"
   ]
  },
  {
   "cell_type": "code",
   "execution_count": 6,
   "metadata": {},
   "outputs": [],
   "source": [
    "data.columns = data.columns.str.lower() "
   ]
  },
  {
   "cell_type": "markdown",
   "metadata": {},
   "source": [
    "# Часть 1. Приоритизация гипотез"
   ]
  },
  {
   "cell_type": "markdown",
   "metadata": {},
   "source": [
    "Примените фреймворк ICE для приоритизации гипотез. Отсортируйте их по убыванию приоритета."
   ]
  },
  {
   "cell_type": "code",
   "execution_count": 7,
   "metadata": {},
   "outputs": [
    {
     "data": {
      "text/html": [
       "<div>\n",
       "<style scoped>\n",
       "    .dataframe tbody tr th:only-of-type {\n",
       "        vertical-align: middle;\n",
       "    }\n",
       "\n",
       "    .dataframe tbody tr th {\n",
       "        vertical-align: top;\n",
       "    }\n",
       "\n",
       "    .dataframe thead th {\n",
       "        text-align: right;\n",
       "    }\n",
       "</style>\n",
       "<table border=\"1\" class=\"dataframe\">\n",
       "  <thead>\n",
       "    <tr style=\"text-align: right;\">\n",
       "      <th></th>\n",
       "      <th>hypothesis</th>\n",
       "      <th>reach</th>\n",
       "      <th>impact</th>\n",
       "      <th>confidence</th>\n",
       "      <th>efforts</th>\n",
       "      <th>ICE</th>\n",
       "    </tr>\n",
       "  </thead>\n",
       "  <tbody>\n",
       "    <tr>\n",
       "      <th>8</th>\n",
       "      <td>Запустить акцию, дающую скидку на товар в день...</td>\n",
       "      <td>1</td>\n",
       "      <td>9</td>\n",
       "      <td>9</td>\n",
       "      <td>5</td>\n",
       "      <td>16.20</td>\n",
       "    </tr>\n",
       "    <tr>\n",
       "      <th>0</th>\n",
       "      <td>Добавить два новых канала привлечения трафика,...</td>\n",
       "      <td>3</td>\n",
       "      <td>10</td>\n",
       "      <td>8</td>\n",
       "      <td>6</td>\n",
       "      <td>13.33</td>\n",
       "    </tr>\n",
       "    <tr>\n",
       "      <th>7</th>\n",
       "      <td>Добавить форму подписки на все основные страни...</td>\n",
       "      <td>10</td>\n",
       "      <td>7</td>\n",
       "      <td>8</td>\n",
       "      <td>5</td>\n",
       "      <td>11.20</td>\n",
       "    </tr>\n",
       "    <tr>\n",
       "      <th>6</th>\n",
       "      <td>Показать на главной странице баннеры с актуаль...</td>\n",
       "      <td>5</td>\n",
       "      <td>3</td>\n",
       "      <td>8</td>\n",
       "      <td>3</td>\n",
       "      <td>8.00</td>\n",
       "    </tr>\n",
       "    <tr>\n",
       "      <th>2</th>\n",
       "      <td>Добавить блоки рекомендаций товаров на сайт ин...</td>\n",
       "      <td>8</td>\n",
       "      <td>3</td>\n",
       "      <td>7</td>\n",
       "      <td>3</td>\n",
       "      <td>7.00</td>\n",
       "    </tr>\n",
       "    <tr>\n",
       "      <th>1</th>\n",
       "      <td>Запустить собственную службу доставки, что сок...</td>\n",
       "      <td>2</td>\n",
       "      <td>5</td>\n",
       "      <td>4</td>\n",
       "      <td>10</td>\n",
       "      <td>2.00</td>\n",
       "    </tr>\n",
       "    <tr>\n",
       "      <th>5</th>\n",
       "      <td>Добавить страницу отзывов клиентов о магазине,...</td>\n",
       "      <td>3</td>\n",
       "      <td>2</td>\n",
       "      <td>2</td>\n",
       "      <td>3</td>\n",
       "      <td>1.33</td>\n",
       "    </tr>\n",
       "    <tr>\n",
       "      <th>3</th>\n",
       "      <td>Изменить структура категорий, что увеличит кон...</td>\n",
       "      <td>8</td>\n",
       "      <td>3</td>\n",
       "      <td>3</td>\n",
       "      <td>8</td>\n",
       "      <td>1.12</td>\n",
       "    </tr>\n",
       "    <tr>\n",
       "      <th>4</th>\n",
       "      <td>Изменить цвет фона главной страницы, чтобы уве...</td>\n",
       "      <td>3</td>\n",
       "      <td>1</td>\n",
       "      <td>1</td>\n",
       "      <td>1</td>\n",
       "      <td>1.00</td>\n",
       "    </tr>\n",
       "  </tbody>\n",
       "</table>\n",
       "</div>"
      ],
      "text/plain": [
       "                                          hypothesis  reach  impact  \\\n",
       "8  Запустить акцию, дающую скидку на товар в день...      1       9   \n",
       "0  Добавить два новых канала привлечения трафика,...      3      10   \n",
       "7  Добавить форму подписки на все основные страни...     10       7   \n",
       "6  Показать на главной странице баннеры с актуаль...      5       3   \n",
       "2  Добавить блоки рекомендаций товаров на сайт ин...      8       3   \n",
       "1  Запустить собственную службу доставки, что сок...      2       5   \n",
       "5  Добавить страницу отзывов клиентов о магазине,...      3       2   \n",
       "3  Изменить структура категорий, что увеличит кон...      8       3   \n",
       "4  Изменить цвет фона главной страницы, чтобы уве...      3       1   \n",
       "\n",
       "   confidence  efforts    ICE  \n",
       "8           9        5  16.20  \n",
       "0           8        6  13.33  \n",
       "7           8        5  11.20  \n",
       "6           8        3   8.00  \n",
       "2           7        3   7.00  \n",
       "1           4       10   2.00  \n",
       "5           2        3   1.33  \n",
       "3           3        8   1.12  \n",
       "4           1        1   1.00  "
      ]
     },
     "execution_count": 7,
     "metadata": {},
     "output_type": "execute_result"
    }
   ],
   "source": [
    "data['ICE'] =  data['impact'] * data['confidence'] / data['efforts']\n",
    "round(data.sort_values(by='ICE', ascending = False), 2)"
   ]
  },
  {
   "cell_type": "code",
   "execution_count": 8,
   "metadata": {},
   "outputs": [
    {
     "data": {
      "text/html": [
       "<div>\n",
       "<style scoped>\n",
       "    .dataframe tbody tr th:only-of-type {\n",
       "        vertical-align: middle;\n",
       "    }\n",
       "\n",
       "    .dataframe tbody tr th {\n",
       "        vertical-align: top;\n",
       "    }\n",
       "\n",
       "    .dataframe thead th {\n",
       "        text-align: right;\n",
       "    }\n",
       "</style>\n",
       "<table border=\"1\" class=\"dataframe\">\n",
       "  <thead>\n",
       "    <tr style=\"text-align: right;\">\n",
       "      <th></th>\n",
       "      <th>hypothesis</th>\n",
       "      <th>reach</th>\n",
       "      <th>impact</th>\n",
       "      <th>confidence</th>\n",
       "      <th>efforts</th>\n",
       "      <th>ICE</th>\n",
       "      <th>RICE</th>\n",
       "    </tr>\n",
       "  </thead>\n",
       "  <tbody>\n",
       "    <tr>\n",
       "      <th>7</th>\n",
       "      <td>Добавить форму подписки на все основные страни...</td>\n",
       "      <td>10</td>\n",
       "      <td>7</td>\n",
       "      <td>8</td>\n",
       "      <td>5</td>\n",
       "      <td>11.20</td>\n",
       "      <td>112.0</td>\n",
       "    </tr>\n",
       "    <tr>\n",
       "      <th>2</th>\n",
       "      <td>Добавить блоки рекомендаций товаров на сайт ин...</td>\n",
       "      <td>8</td>\n",
       "      <td>3</td>\n",
       "      <td>7</td>\n",
       "      <td>3</td>\n",
       "      <td>7.00</td>\n",
       "      <td>56.0</td>\n",
       "    </tr>\n",
       "    <tr>\n",
       "      <th>0</th>\n",
       "      <td>Добавить два новых канала привлечения трафика,...</td>\n",
       "      <td>3</td>\n",
       "      <td>10</td>\n",
       "      <td>8</td>\n",
       "      <td>6</td>\n",
       "      <td>13.33</td>\n",
       "      <td>40.0</td>\n",
       "    </tr>\n",
       "    <tr>\n",
       "      <th>6</th>\n",
       "      <td>Показать на главной странице баннеры с актуаль...</td>\n",
       "      <td>5</td>\n",
       "      <td>3</td>\n",
       "      <td>8</td>\n",
       "      <td>3</td>\n",
       "      <td>8.00</td>\n",
       "      <td>40.0</td>\n",
       "    </tr>\n",
       "    <tr>\n",
       "      <th>8</th>\n",
       "      <td>Запустить акцию, дающую скидку на товар в день...</td>\n",
       "      <td>1</td>\n",
       "      <td>9</td>\n",
       "      <td>9</td>\n",
       "      <td>5</td>\n",
       "      <td>16.20</td>\n",
       "      <td>16.2</td>\n",
       "    </tr>\n",
       "    <tr>\n",
       "      <th>3</th>\n",
       "      <td>Изменить структура категорий, что увеличит кон...</td>\n",
       "      <td>8</td>\n",
       "      <td>3</td>\n",
       "      <td>3</td>\n",
       "      <td>8</td>\n",
       "      <td>1.12</td>\n",
       "      <td>9.0</td>\n",
       "    </tr>\n",
       "    <tr>\n",
       "      <th>1</th>\n",
       "      <td>Запустить собственную службу доставки, что сок...</td>\n",
       "      <td>2</td>\n",
       "      <td>5</td>\n",
       "      <td>4</td>\n",
       "      <td>10</td>\n",
       "      <td>2.00</td>\n",
       "      <td>4.0</td>\n",
       "    </tr>\n",
       "    <tr>\n",
       "      <th>5</th>\n",
       "      <td>Добавить страницу отзывов клиентов о магазине,...</td>\n",
       "      <td>3</td>\n",
       "      <td>2</td>\n",
       "      <td>2</td>\n",
       "      <td>3</td>\n",
       "      <td>1.33</td>\n",
       "      <td>4.0</td>\n",
       "    </tr>\n",
       "    <tr>\n",
       "      <th>4</th>\n",
       "      <td>Изменить цвет фона главной страницы, чтобы уве...</td>\n",
       "      <td>3</td>\n",
       "      <td>1</td>\n",
       "      <td>1</td>\n",
       "      <td>1</td>\n",
       "      <td>1.00</td>\n",
       "      <td>3.0</td>\n",
       "    </tr>\n",
       "  </tbody>\n",
       "</table>\n",
       "</div>"
      ],
      "text/plain": [
       "                                          hypothesis  reach  impact  \\\n",
       "7  Добавить форму подписки на все основные страни...     10       7   \n",
       "2  Добавить блоки рекомендаций товаров на сайт ин...      8       3   \n",
       "0  Добавить два новых канала привлечения трафика,...      3      10   \n",
       "6  Показать на главной странице баннеры с актуаль...      5       3   \n",
       "8  Запустить акцию, дающую скидку на товар в день...      1       9   \n",
       "3  Изменить структура категорий, что увеличит кон...      8       3   \n",
       "1  Запустить собственную службу доставки, что сок...      2       5   \n",
       "5  Добавить страницу отзывов клиентов о магазине,...      3       2   \n",
       "4  Изменить цвет фона главной страницы, чтобы уве...      3       1   \n",
       "\n",
       "   confidence  efforts    ICE   RICE  \n",
       "7           8        5  11.20  112.0  \n",
       "2           7        3   7.00   56.0  \n",
       "0           8        6  13.33   40.0  \n",
       "6           8        3   8.00   40.0  \n",
       "8           9        5  16.20   16.2  \n",
       "3           3        8   1.12    9.0  \n",
       "1           4       10   2.00    4.0  \n",
       "5           2        3   1.33    4.0  \n",
       "4           1        1   1.00    3.0  "
      ]
     },
     "execution_count": 8,
     "metadata": {},
     "output_type": "execute_result"
    }
   ],
   "source": [
    "data['RICE'] =  data['reach'] * data['impact'] * data['confidence'] / data['efforts'] \n",
    "\n",
    "round(data.sort_values(by='RICE',ascending=False ), 2)"
   ]
  },
  {
   "cell_type": "markdown",
   "metadata": {},
   "source": [
    "В зависимости от выбора варианта приоритизации гипотез, они распределяются по-разному\n",
    "Хотя стоит отметить, что в целом тенденции сохраняются и при ICE, и при RICE\n",
    "Например, в обоих вариантах 4-ая гипотеза занимает последнее место,а гипотезы 0, 2, 6, 7, 8 находятся в первой пятерки и там, и там\n",
    "На различия влияет показатель количества пользователей, которых затронет изменение"
   ]
  },
  {
   "cell_type": "markdown",
   "metadata": {},
   "source": [
    "# Часть 2. Анализ A/B-теста"
   ]
  },
  {
   "cell_type": "markdown",
   "metadata": {},
   "source": [
    "Постройте график кумулятивной выручки по группам. Сделайте выводы и предположения."
   ]
  },
  {
   "cell_type": "code",
   "execution_count": 9,
   "metadata": {},
   "outputs": [
    {
     "name": "stdout",
     "output_type": "stream",
     "text": [
      "   transactionId   visitorId        date  revenue group\n",
      "0     3667963787  3312258926  2019-08-15     1650     B\n",
      "1     2804400009  3642806036  2019-08-15      730     B\n",
      "2     2961555356  4069496402  2019-08-15      400     A\n",
      "3     3797467345  1196621759  2019-08-15     9759     B\n",
      "4     2282983706  2322279887  2019-08-15     2308     B\n",
      "         date group  visitors\n",
      "0  2019-08-01     A       719\n",
      "1  2019-08-02     A       619\n",
      "2  2019-08-03     A       507\n",
      "3  2019-08-04     A       717\n",
      "4  2019-08-05     A       756\n"
     ]
    }
   ],
   "source": [
    "orders = pd.read_csv('/datasets/orders.csv')\n",
    "\n",
    "\n",
    "visitors = pd.read_csv('/datasets/visitors.csv')\n",
    "\n",
    "\n",
    "print(orders.head(5))\n",
    "print(visitors.head(5))\n"
   ]
  },
  {
   "cell_type": "code",
   "execution_count": 10,
   "metadata": {},
   "outputs": [
    {
     "name": "stdout",
     "output_type": "stream",
     "text": [
      "<class 'pandas.core.frame.DataFrame'>\n",
      "RangeIndex: 1197 entries, 0 to 1196\n",
      "Data columns (total 5 columns):\n",
      " #   Column         Non-Null Count  Dtype \n",
      "---  ------         --------------  ----- \n",
      " 0   transactionId  1197 non-null   int64 \n",
      " 1   visitorId      1197 non-null   int64 \n",
      " 2   date           1197 non-null   object\n",
      " 3   revenue        1197 non-null   int64 \n",
      " 4   group          1197 non-null   object\n",
      "dtypes: int64(3), object(2)\n",
      "memory usage: 46.9+ KB\n"
     ]
    }
   ],
   "source": [
    "orders.info()"
   ]
  },
  {
   "cell_type": "code",
   "execution_count": 11,
   "metadata": {},
   "outputs": [
    {
     "name": "stdout",
     "output_type": "stream",
     "text": [
      "<class 'pandas.core.frame.DataFrame'>\n",
      "RangeIndex: 1197 entries, 0 to 1196\n",
      "Data columns (total 5 columns):\n",
      " #   Column         Non-Null Count  Dtype         \n",
      "---  ------         --------------  -----         \n",
      " 0   transactionId  1197 non-null   int64         \n",
      " 1   visitorId      1197 non-null   int64         \n",
      " 2   date           1197 non-null   datetime64[ns]\n",
      " 3   revenue        1197 non-null   int64         \n",
      " 4   group          1197 non-null   object        \n",
      "dtypes: datetime64[ns](1), int64(3), object(1)\n",
      "memory usage: 46.9+ KB\n"
     ]
    }
   ],
   "source": [
    "orders['date']= pd.to_datetime(orders['date'])\n",
    "orders.info()"
   ]
  },
  {
   "cell_type": "code",
   "execution_count": 12,
   "metadata": {},
   "outputs": [
    {
     "data": {
      "text/plain": [
       "0"
      ]
     },
     "execution_count": 12,
     "metadata": {},
     "output_type": "execute_result"
    }
   ],
   "source": [
    "orders.duplicated().sum()"
   ]
  },
  {
   "cell_type": "code",
   "execution_count": 13,
   "metadata": {},
   "outputs": [
    {
     "name": "stdout",
     "output_type": "stream",
     "text": [
      "<class 'pandas.core.frame.DataFrame'>\n",
      "RangeIndex: 62 entries, 0 to 61\n",
      "Data columns (total 3 columns):\n",
      " #   Column    Non-Null Count  Dtype \n",
      "---  ------    --------------  ----- \n",
      " 0   date      62 non-null     object\n",
      " 1   group     62 non-null     object\n",
      " 2   visitors  62 non-null     int64 \n",
      "dtypes: int64(1), object(2)\n",
      "memory usage: 1.6+ KB\n"
     ]
    }
   ],
   "source": [
    "visitors.info()"
   ]
  },
  {
   "cell_type": "code",
   "execution_count": 14,
   "metadata": {},
   "outputs": [
    {
     "name": "stdout",
     "output_type": "stream",
     "text": [
      "<class 'pandas.core.frame.DataFrame'>\n",
      "RangeIndex: 62 entries, 0 to 61\n",
      "Data columns (total 3 columns):\n",
      " #   Column    Non-Null Count  Dtype         \n",
      "---  ------    --------------  -----         \n",
      " 0   date      62 non-null     datetime64[ns]\n",
      " 1   group     62 non-null     object        \n",
      " 2   visitors  62 non-null     int64         \n",
      "dtypes: datetime64[ns](1), int64(1), object(1)\n",
      "memory usage: 1.6+ KB\n"
     ]
    }
   ],
   "source": [
    "visitors['date']= pd.to_datetime(visitors['date'])\n",
    "visitors.info()"
   ]
  },
  {
   "cell_type": "code",
   "execution_count": 15,
   "metadata": {},
   "outputs": [
    {
     "data": {
      "text/plain": [
       "0"
      ]
     },
     "execution_count": 15,
     "metadata": {},
     "output_type": "execute_result"
    }
   ],
   "source": [
    "visitors.duplicated().sum()"
   ]
  },
  {
   "cell_type": "markdown",
   "metadata": {},
   "source": [
    "Предобработка проведена, теперь можно корректно делить пользователей на 2 группы"
   ]
  },
  {
   "cell_type": "code",
   "execution_count": 16,
   "metadata": {},
   "outputs": [
    {
     "name": "stdout",
     "output_type": "stream",
     "text": [
      "        date group  orders  buyers  revenue  visitors\n",
      "0 2019-08-01     A      24      20   148579       719\n",
      "1 2019-08-01     B      21      20   101217       713\n",
      "2 2019-08-02     A      44      38   242401      1338\n",
      "3 2019-08-02     B      45      43   266748      1294\n",
      "4 2019-08-03     A      68      62   354874      1845\n"
     ]
    }
   ],
   "source": [
    "datesGroups = orders[['date','group']].drop_duplicates() \n",
    "\n",
    "ordersAggregated = datesGroups.apply(lambda x: orders[np.logical_and(orders['date'] <= x['date'], orders['group'] == x['group'])]\\\n",
    ".agg({'date' : 'max', 'group' : 'max', 'transactionId' : 'nunique', 'visitorId' : 'nunique', 'revenue' : 'sum'}), axis=1).sort_values(by=['date','group'])\n",
    "\n",
    "visitorsAggregated = datesGroups.apply(lambda x: visitors[np.logical_and(visitors['date'] <= x['date'], visitors['group'] == x['group'])].agg({'date' : 'max', 'group' : 'max', 'visitors' : 'sum'}), axis=1).sort_values(by=['date','group']) \n",
    "\n",
    "cumulativeData = ordersAggregated.merge(visitorsAggregated, left_on=['date', 'group'], right_on=['date', 'group'])\n",
    "cumulativeData.columns = ['date', 'group', 'orders', 'buyers', 'revenue', 'visitors']\n",
    "\n",
    "print(cumulativeData.head(5)) "
   ]
  },
  {
   "cell_type": "code",
   "execution_count": 17,
   "metadata": {},
   "outputs": [
    {
     "data": {
      "text/plain": [
       "<matplotlib.legend.Legend at 0x7f1965076ee0>"
      ]
     },
     "execution_count": 17,
     "metadata": {},
     "output_type": "execute_result"
    },
    {
     "data": {
      "image/png": "[encoded data removed]",
      "text/plain": [
       "<Figure size 720x360 with 1 Axes>"
      ]
     },
     "metadata": {
      "needs_background": "light"
     },
     "output_type": "display_data"
    }
   ],
   "source": [
    "\n",
    "register_matplotlib_converters()\n",
    "\n",
    "\n",
    "cumulativeRevenueA = cumulativeData[cumulativeData['group']=='A'][['date','revenue', 'orders']]\n",
    "\n",
    "cumulativeRevenueB = cumulativeData[cumulativeData['group']=='B'][['date','revenue', 'orders']]\n",
    "\n",
    "plt.figure(figsize=(10,5))\n",
    "\n",
    "plt.title('График кумулятивной выручки по группам')\n",
    "plt.xlabel('Дата')\n",
    "plt.ylabel('Выручка')\n",
    "\n",
    "plt.xticks(rotation=90)\n",
    "# Строим график выручки группы А\n",
    "plt.plot(cumulativeRevenueA['date'], cumulativeRevenueA['revenue'], label='A')\n",
    "\n",
    "# Строим график выручки группы B\n",
    "plt.plot(cumulativeRevenueB['date'], cumulativeRevenueB['revenue'], label='B')\n",
    "\n",
    "plt.legend() \n"
   ]
  },
  {
   "cell_type": "markdown",
   "metadata": {},
   "source": [
    "Группа B лидирует в течение всего времени, особенно выделяется резкий \"взлет\" примерно 18 августа. \n",
    "Возможно это связано с анамально большой суммой заказа"
   ]
  },
  {
   "cell_type": "code",
   "execution_count": 18,
   "metadata": {},
   "outputs": [
    {
     "data": {
      "text/plain": [
       "<matplotlib.legend.Legend at 0x7f1964c6adf0>"
      ]
     },
     "execution_count": 18,
     "metadata": {},
     "output_type": "execute_result"
    },
    {
     "data": {
      "image/png": "[encoded data removed]",
      "text/plain": [
       "<Figure size 720x360 with 1 Axes>"
      ]
     },
     "metadata": {
      "needs_background": "light"
     },
     "output_type": "display_data"
    }
   ],
   "source": [
    "cumulativeData = ordersAggregated.merge(\n",
    "    visitorsAggregated, left_on=['date', 'group'], right_on=['date', 'group']\n",
    ")\n",
    "cumulativeData.columns = [\n",
    "    'date',\n",
    "    'group',\n",
    "    'orders',\n",
    "    'buyers',\n",
    "    'revenue',\n",
    "    'visitors',\n",
    "]\n",
    "\n",
    "cumulativeRevenueA = cumulativeData[cumulativeData['group'] == 'A'][\n",
    "    ['date', 'revenue', 'orders']\n",
    "]\n",
    "cumulativeRevenueB = cumulativeData[cumulativeData['group'] == 'B'][\n",
    "    ['date', 'revenue', 'orders']\n",
    "]\n",
    "\n",
    "\n",
    "\n",
    "plt.figure(figsize=(10,5)) \n",
    "plt.title('График кумулятивного среднего чека по группам')\n",
    "plt.xlabel('Дата')\n",
    "plt.ylabel('Средний чек')\n",
    "\n",
    "plt.xticks(rotation=90) \n",
    "plt.plot(cumulativeRevenueA['date'], cumulativeRevenueA['revenue']/cumulativeRevenueA['orders'], label='A')\n",
    "plt.plot(cumulativeRevenueB['date'], cumulativeRevenueB['revenue']/cumulativeRevenueB['orders'], label='B')\n",
    "plt.legend() "
   ]
  },
  {
   "cell_type": "markdown",
   "metadata": {},
   "source": [
    "Значения кумулятивного среднего чека сильно колеблются, но к концу теста стабилизируются в обеих группах. Выделяется аномальный рост среднего чека 18-19 августа в группе В, за счет этого группа В вырвалась вперед. Возможно, в группу B в первой половине теста попали аномально большие заказы. График группы А более равномерен. Следует провести доплонительный анализ."
   ]
  },
  {
   "cell_type": "code",
   "execution_count": 19,
   "metadata": {},
   "outputs": [
    {
     "data": {
      "text/plain": [
       "<matplotlib.lines.Line2D at 0x7f1964c5c4c0>"
      ]
     },
     "execution_count": 19,
     "metadata": {},
     "output_type": "execute_result"
    },
    {
     "data": {
      "image/png": "[encoded data removed]",
      "text/plain": [
       "<Figure size 720x360 with 1 Axes>"
      ]
     },
     "metadata": {
      "needs_background": "light"
     },
     "output_type": "display_data"
    }
   ],
   "source": [
    "mergedCumulativeRevenue = cumulativeRevenueA.merge(cumulativeRevenueB, left_on='date', right_on='date', how='left', suffixes=['A', 'B'])\n",
    "\n",
    "plt.figure(figsize=(10,5))\n",
    "\n",
    "plt.title('График относительного изменения кумулятивного среднего чека группы B к группе A')\n",
    "plt.xlabel('Дата')\n",
    "plt.ylabel('Средний чек')\n",
    "\n",
    "plt.xticks(rotation=90) \n",
    "\n",
    "# cтроим отношение средних чеков\n",
    "plt.plot(mergedCumulativeRevenue['date'], (mergedCumulativeRevenue['revenueB']/mergedCumulativeRevenue['ordersB'])/(mergedCumulativeRevenue['revenueA']/mergedCumulativeRevenue['ordersA'])-1)\n",
    "\n",
    "# добавляем ось X\n",
    "plt.axhline(y=0, color='black', linestyle='--') "
   ]
  },
  {
   "cell_type": "markdown",
   "metadata": {},
   "source": [
    "Значения сильно меняются, скорее всего, из-за аномальных значений "
   ]
  },
  {
   "cell_type": "code",
   "execution_count": 20,
   "metadata": {},
   "outputs": [
    {
     "data": {
      "text/plain": [
       "(18109.0, 18140.0, 0.0, 0.05)"
      ]
     },
     "execution_count": 20,
     "metadata": {},
     "output_type": "execute_result"
    },
    {
     "data": {
      "image/png": "[encoded data removed]",
      "text/plain": [
       "<Figure size 720x360 with 1 Axes>"
      ]
     },
     "metadata": {
      "needs_background": "light"
     },
     "output_type": "display_data"
    }
   ],
   "source": [
    "cumulativeData['conversion'] = cumulativeData['orders']/cumulativeData['visitors']\n",
    "\n",
    "# отделяем данные по группе A\n",
    "cumulativeDataA = cumulativeData[cumulativeData['group']=='A']\n",
    "\n",
    "# отделяем данные по группе B\n",
    "cumulativeDataB = cumulativeData[cumulativeData['group']=='B']\n",
    "\n",
    "# строим графики\n",
    "plt.figure(figsize=(10,5))\n",
    "\n",
    "plt.title('График кумулятивного среднего количества заказов на посетителя по группам')\n",
    "plt.xlabel('Дата')\n",
    "plt.ylabel('Средний чек')\n",
    "\n",
    "plt.xticks(rotation=90) \n",
    "\n",
    "plt.plot(cumulativeDataA['date'], cumulativeDataA['conversion'], label='A')\n",
    "plt.plot(cumulativeDataB['date'], cumulativeDataB['conversion'], label='B')\n",
    "plt.legend()\n",
    "\n",
    "# задаем масштаб осей\n",
    "plt.axis([dt.datetime(2019, 8, 1), dt.datetime(2019, 9, 1), 0, 0.05])"
   ]
  },
  {
   "cell_type": "markdown",
   "metadata": {},
   "source": [
    "После 5 авгута B обгоняет по среднему количеству заказов на посетителя и фиксируется"
   ]
  },
  {
   "cell_type": "code",
   "execution_count": 21,
   "metadata": {},
   "outputs": [
    {
     "data": {
      "text/plain": [
       "(18109.0, 18140.0, -0.5, 0.5)"
      ]
     },
     "execution_count": 21,
     "metadata": {},
     "output_type": "execute_result"
    },
    {
     "data": {
      "image/png": "[encoded data removed]",
      "text/plain": [
       "<Figure size 720x360 with 1 Axes>"
      ]
     },
     "metadata": {
      "needs_background": "light"
     },
     "output_type": "display_data"
    }
   ],
   "source": [
    "cumulativeData['conversion'] = (\n",
    "    cumulativeData['orders'] / cumulativeData['visitors']\n",
    ")\n",
    "\n",
    "cumulativeDataA = cumulativeData[cumulativeData['group'] == 'A']\n",
    "cumulativeDataB = cumulativeData[cumulativeData['group'] == 'B']\n",
    "\n",
    "mergedCumulativeConversions = cumulativeDataA[['date','conversion']].merge(cumulativeDataB[['date','conversion']], left_on='date', right_on='date', how='left', suffixes=['A', 'B'])\n",
    "plt.figure(figsize=(10,5))\n",
    "\n",
    "plt.title('График относительного изменения кумулятивного среднего количества заказов на посетителя группы B к группе A')\n",
    "plt.xlabel('Дата')\n",
    "plt.ylabel('Средний чек')\n",
    "\n",
    "plt.xticks(rotation=90) \n",
    "\n",
    "plt.plot(mergedCumulativeConversions['date'], mergedCumulativeConversions['conversionB']/mergedCumulativeConversions['conversionA']-1, label=\"Относительный прирост конверсии группы B относительно группы A\")\n",
    "plt.legend()\n",
    "\n",
    "plt.axhline(y=0, color='black', linestyle='--')\n",
    "plt.axhline(y= 0.2, color='grey', linestyle='--')\n",
    "plt.axis([\"2019-08-01\", '2019-09-01', -0.5, 0.5])"
   ]
  },
  {
   "cell_type": "markdown",
   "metadata": {},
   "source": [
    "В целом конверсия группы B становится лучше относительно группы A"
   ]
  },
  {
   "cell_type": "code",
   "execution_count": 22,
   "metadata": {},
   "outputs": [
    {
     "data": {
      "text/html": [
       "<div>\n",
       "<style scoped>\n",
       "    .dataframe tbody tr th:only-of-type {\n",
       "        vertical-align: middle;\n",
       "    }\n",
       "\n",
       "    .dataframe tbody tr th {\n",
       "        vertical-align: top;\n",
       "    }\n",
       "\n",
       "    .dataframe thead th {\n",
       "        text-align: right;\n",
       "    }\n",
       "</style>\n",
       "<table border=\"1\" class=\"dataframe\">\n",
       "  <thead>\n",
       "    <tr style=\"text-align: right;\">\n",
       "      <th></th>\n",
       "      <th>transactionId</th>\n",
       "      <th>visitorId</th>\n",
       "      <th>date</th>\n",
       "      <th>revenue</th>\n",
       "      <th>group</th>\n",
       "    </tr>\n",
       "  </thead>\n",
       "  <tbody>\n",
       "    <tr>\n",
       "      <th>0</th>\n",
       "      <td>3667963787</td>\n",
       "      <td>3312258926</td>\n",
       "      <td>2019-08-15</td>\n",
       "      <td>1650</td>\n",
       "      <td>B</td>\n",
       "    </tr>\n",
       "    <tr>\n",
       "      <th>1</th>\n",
       "      <td>2804400009</td>\n",
       "      <td>3642806036</td>\n",
       "      <td>2019-08-15</td>\n",
       "      <td>730</td>\n",
       "      <td>B</td>\n",
       "    </tr>\n",
       "    <tr>\n",
       "      <th>2</th>\n",
       "      <td>2961555356</td>\n",
       "      <td>4069496402</td>\n",
       "      <td>2019-08-15</td>\n",
       "      <td>400</td>\n",
       "      <td>A</td>\n",
       "    </tr>\n",
       "    <tr>\n",
       "      <th>3</th>\n",
       "      <td>3797467345</td>\n",
       "      <td>1196621759</td>\n",
       "      <td>2019-08-15</td>\n",
       "      <td>9759</td>\n",
       "      <td>B</td>\n",
       "    </tr>\n",
       "    <tr>\n",
       "      <th>4</th>\n",
       "      <td>2282983706</td>\n",
       "      <td>2322279887</td>\n",
       "      <td>2019-08-15</td>\n",
       "      <td>2308</td>\n",
       "      <td>B</td>\n",
       "    </tr>\n",
       "    <tr>\n",
       "      <th>...</th>\n",
       "      <td>...</td>\n",
       "      <td>...</td>\n",
       "      <td>...</td>\n",
       "      <td>...</td>\n",
       "      <td>...</td>\n",
       "    </tr>\n",
       "    <tr>\n",
       "      <th>1192</th>\n",
       "      <td>2662137336</td>\n",
       "      <td>3733762160</td>\n",
       "      <td>2019-08-14</td>\n",
       "      <td>6490</td>\n",
       "      <td>B</td>\n",
       "    </tr>\n",
       "    <tr>\n",
       "      <th>1193</th>\n",
       "      <td>2203539145</td>\n",
       "      <td>370388673</td>\n",
       "      <td>2019-08-14</td>\n",
       "      <td>3190</td>\n",
       "      <td>A</td>\n",
       "    </tr>\n",
       "    <tr>\n",
       "      <th>1194</th>\n",
       "      <td>1807773912</td>\n",
       "      <td>573423106</td>\n",
       "      <td>2019-08-14</td>\n",
       "      <td>10550</td>\n",
       "      <td>A</td>\n",
       "    </tr>\n",
       "    <tr>\n",
       "      <th>1195</th>\n",
       "      <td>1947021204</td>\n",
       "      <td>1614305549</td>\n",
       "      <td>2019-08-14</td>\n",
       "      <td>100</td>\n",
       "      <td>A</td>\n",
       "    </tr>\n",
       "    <tr>\n",
       "      <th>1196</th>\n",
       "      <td>3936777065</td>\n",
       "      <td>2108080724</td>\n",
       "      <td>2019-08-15</td>\n",
       "      <td>202740</td>\n",
       "      <td>B</td>\n",
       "    </tr>\n",
       "  </tbody>\n",
       "</table>\n",
       "<p>1197 rows × 5 columns</p>\n",
       "</div>"
      ],
      "text/plain": [
       "      transactionId   visitorId       date  revenue group\n",
       "0        3667963787  3312258926 2019-08-15     1650     B\n",
       "1        2804400009  3642806036 2019-08-15      730     B\n",
       "2        2961555356  4069496402 2019-08-15      400     A\n",
       "3        3797467345  1196621759 2019-08-15     9759     B\n",
       "4        2282983706  2322279887 2019-08-15     2308     B\n",
       "...             ...         ...        ...      ...   ...\n",
       "1192     2662137336  3733762160 2019-08-14     6490     B\n",
       "1193     2203539145   370388673 2019-08-14     3190     A\n",
       "1194     1807773912   573423106 2019-08-14    10550     A\n",
       "1195     1947021204  1614305549 2019-08-14      100     A\n",
       "1196     3936777065  2108080724 2019-08-15   202740     B\n",
       "\n",
       "[1197 rows x 5 columns]"
      ]
     },
     "execution_count": 22,
     "metadata": {},
     "output_type": "execute_result"
    }
   ],
   "source": [
    "orders"
   ]
  },
  {
   "cell_type": "code",
   "execution_count": 23,
   "metadata": {},
   "outputs": [
    {
     "name": "stdout",
     "output_type": "stream",
     "text": [
      "          userId  orders\n",
      "1023  4256040402      11\n",
      "591   2458001652      11\n",
      "569   2378935119       9\n",
      "487   2038680547       8\n",
      "44     199603092       5\n",
      "744   3062433592       5\n",
      "55     237748145       5\n",
      "917   3803269165       5\n",
      "299   1230306981       5\n",
      "897   3717692402       5\n"
     ]
    },
    {
     "data": {
      "text/plain": [
       "(array([-200.,    0.,  200.,  400.,  600.,  800., 1000., 1200.]),\n",
       " [Text(0, 0, ''),\n",
       "  Text(0, 0, ''),\n",
       "  Text(0, 0, ''),\n",
       "  Text(0, 0, ''),\n",
       "  Text(0, 0, ''),\n",
       "  Text(0, 0, ''),\n",
       "  Text(0, 0, ''),\n",
       "  Text(0, 0, '')])"
      ]
     },
     "execution_count": 23,
     "metadata": {},
     "output_type": "execute_result"
    },
    {
     "data": {
      "image/png": "[encoded data removed]",
      "text/plain": [
       "<Figure size 432x288 with 1 Axes>"
      ]
     },
     "metadata": {
      "needs_background": "light"
     },
     "output_type": "display_data"
    }
   ],
   "source": [
    "ordersByUsers = (\n",
    "    orders.groupby('visitorId', as_index=False)\n",
    "    .agg({'transactionId': 'nunique'})\n",
    ")\n",
    "ordersByUsers.columns = ['userId', 'orders']\n",
    "\n",
    "print(ordersByUsers.sort_values(by='orders', ascending=False).head(10))\n",
    "\n",
    "# серия из чисел от 0 до количества наблюдений в ordersByUsers\n",
    "x_values = pd.Series(range(0, len(ordersByUsers)))\n",
    "\n",
    "\n",
    "plt.scatter(x_values, ordersByUsers['orders']) \n",
    "\n",
    "plt.title('График количества заказов по пользователям')\n",
    "plt.xlabel('Пользователи')\n",
    "plt.ylabel('Заказы')\n",
    "\n",
    "plt.xticks(rotation=90)"
   ]
  },
  {
   "cell_type": "markdown",
   "metadata": {},
   "source": [
    "Довольно мало пользователей, которые делали заказ более 4 раз"
   ]
  },
  {
   "cell_type": "markdown",
   "metadata": {},
   "source": [
    "Посчитайте 95-й и 99-й перцентили количества заказов на пользователя. Выберите границу для определения аномальных пользователей."
   ]
  },
  {
   "cell_type": "code",
   "execution_count": 24,
   "metadata": {},
   "outputs": [
    {
     "name": "stdout",
     "output_type": "stream",
     "text": [
      "          userId  orders\n",
      "1023  4256040402      11\n",
      "591   2458001652      11\n",
      "569   2378935119       9\n",
      "487   2038680547       8\n",
      "44     199603092       5\n",
      "744   3062433592       5\n",
      "55     237748145       5\n",
      "917   3803269165       5\n",
      "299   1230306981       5\n",
      "897   3717692402       5\n",
      "[2. 4.]\n"
     ]
    }
   ],
   "source": [
    "print(ordersByUsers.sort_values(by='orders', ascending=False).head(10))\n",
    "\n",
    "print(np.percentile(ordersByUsers['orders'], [95, 99]))"
   ]
  },
  {
   "cell_type": "markdown",
   "metadata": {},
   "source": [
    "Не более 5% совершали более 2 заказов и не более 1% совершали больше 4 заказов. 2 заказа будут является границей, более 2-ух заказов - это уже аномалии"
   ]
  },
  {
   "cell_type": "code",
   "execution_count": 25,
   "metadata": {},
   "outputs": [
    {
     "name": "stdout",
     "output_type": "stream",
     "text": [
      "      transactionId   visitorId       date  revenue group\n",
      "425       590470918  1920142716 2019-08-19  1294500     B\n",
      "1196     3936777065  2108080724 2019-08-15   202740     B\n",
      "858       192721366  1316129916 2019-08-27    93940     A\n",
      "1136      666610489  1307669133 2019-08-13    92550     A\n",
      "744      3668308183   888512513 2019-08-27    86620     B\n",
      "682      1216533772  4266935830 2019-08-29    78990     B\n",
      "662      1811671147  4266935830 2019-08-29    78990     A\n",
      "743      3603576309  4133034833 2019-08-09    67990     A\n",
      "1103     1348774318  1164614297 2019-08-12    66350     A\n",
      "1099      316924019   148427295 2019-08-12    65710     A\n"
     ]
    },
    {
     "data": {
      "text/plain": [
       "(array([-200.,    0.,  200.,  400.,  600.,  800., 1000., 1200., 1400.]),\n",
       " [Text(0, 0, ''),\n",
       "  Text(0, 0, ''),\n",
       "  Text(0, 0, ''),\n",
       "  Text(0, 0, ''),\n",
       "  Text(0, 0, ''),\n",
       "  Text(0, 0, ''),\n",
       "  Text(0, 0, ''),\n",
       "  Text(0, 0, ''),\n",
       "  Text(0, 0, '')])"
      ]
     },
     "execution_count": 25,
     "metadata": {},
     "output_type": "execute_result"
    },
    {
     "data": {
      "image/png": "[encoded data removed]",
      "text/plain": [
       "<Figure size 432x288 with 1 Axes>"
      ]
     },
     "metadata": {
      "needs_background": "light"
     },
     "output_type": "display_data"
    }
   ],
   "source": [
    "print(orders.sort_values(by='revenue', ascending=False).head(10))\n",
    "\n",
    "x_values = pd.Series(range(0, len(orders['revenue'])))\n",
    "\n",
    "plt.scatter(x_values, orders['revenue'])\n",
    "\n",
    "plt.title('График стоимостей заказов')\n",
    "plt.xlabel('Пользователи')\n",
    "plt.ylabel('Стоимость заказа')\n",
    "\n",
    "plt.xticks(rotation=90)"
   ]
  },
  {
   "cell_type": "code",
   "execution_count": 26,
   "metadata": {},
   "outputs": [
    {
     "data": {
      "text/plain": [
       "(array([-200.,    0.,  200.,  400.,  600.,  800., 1000., 1200., 1400.]),\n",
       " [Text(0, 0, ''),\n",
       "  Text(0, 0, ''),\n",
       "  Text(0, 0, ''),\n",
       "  Text(0, 0, ''),\n",
       "  Text(0, 0, ''),\n",
       "  Text(0, 0, ''),\n",
       "  Text(0, 0, ''),\n",
       "  Text(0, 0, ''),\n",
       "  Text(0, 0, '')])"
      ]
     },
     "execution_count": 26,
     "metadata": {},
     "output_type": "execute_result"
    },
    {
     "data": {
      "image/png": "[encoded data removed]",
      "text/plain": [
       "<Figure size 1080x720 with 1 Axes>"
      ]
     },
     "metadata": {
      "needs_background": "light"
     },
     "output_type": "display_data"
    }
   ],
   "source": [
    "\n",
    "x_values = pd.Series(range(0, len(orders['revenue'])))\n",
    "\n",
    "plt.figure(figsize=(15,10))\n",
    "\n",
    "plt.scatter(x_values, orders['revenue'])\n",
    "\n",
    "\n",
    "plt.title('График стоимостей заказов')\n",
    "plt.xlabel('Пользователи')\n",
    "plt.ylabel('Стоимость заказа')\n",
    "\n",
    "plt.xticks(rotation=90)"
   ]
  },
  {
   "cell_type": "markdown",
   "metadata": {},
   "source": [
    "Есть 2 выброса: слишком аномальный в районе 1,25 и менеее аномальный в районе 0,2. Средняя сумма заказа лежит в районе 0.05"
   ]
  },
  {
   "cell_type": "code",
   "execution_count": 27,
   "metadata": {},
   "outputs": [
    {
     "name": "stdout",
     "output_type": "stream",
     "text": [
      "[28000.  58233.2]\n"
     ]
    }
   ],
   "source": [
    "print(np.percentile(orders['revenue'], [95, 99])) "
   ]
  },
  {
   "cell_type": "markdown",
   "metadata": {},
   "source": [
    "Не более чем ц 5% заказов общая сумма более 28000, и не более чем у 1% заказов сумма больше 58233.2. Границей будет являться 28000"
   ]
  },
  {
   "cell_type": "markdown",
   "metadata": {},
   "source": [
    "--------------------"
   ]
  },
  {
   "cell_type": "markdown",
   "metadata": {},
   "source": [
    "Нулевая гипотеза: в количестве заказов между группой В и группой А по \"сырым\" данным нет статистически значимых\n",
    "различий; Альтернативная гипотеза: в количестве заказов между группой В и группой А по \"сырым\" данным есть статистически значимые\n",
    "различия.\n"
   ]
  },
  {
   "cell_type": "code",
   "execution_count": 28,
   "metadata": {},
   "outputs": [
    {
     "name": "stdout",
     "output_type": "stream",
     "text": [
      "0.01679\n",
      "0.138\n"
     ]
    }
   ],
   "source": [
    "visitorsADaily = visitors[visitors['group'] == 'A'][['date', 'visitors']]\n",
    "visitorsADaily.columns = ['date', 'visitorsPerDateA']\n",
    "\n",
    "visitorsACummulative = visitorsADaily.apply(\n",
    "    lambda x: visitorsADaily[visitorsADaily['date'] <= x['date']].agg(\n",
    "        {'date': 'max', 'visitorsPerDateA': 'sum'}\n",
    "    ),\n",
    "    axis=1,\n",
    ")\n",
    "visitorsACummulative.columns = ['date', 'visitorsCummulativeA']\n",
    "\n",
    "visitorsBDaily = visitors[visitors['group'] == 'B'][['date', 'visitors']]\n",
    "visitorsBDaily.columns = ['date', 'visitorsPerDateB']\n",
    "\n",
    "visitorsBCummulative = visitorsBDaily.apply(\n",
    "    lambda x: visitorsBDaily[visitorsBDaily['date'] <= x['date']].agg(\n",
    "        {'date': 'max', 'visitorsPerDateB': 'sum'}\n",
    "    ),\n",
    "    axis=1,\n",
    ")\n",
    "visitorsBCummulative.columns = ['date', 'visitorsCummulativeB']\n",
    "\n",
    "ordersADaily = (\n",
    "    orders[orders['group'] == 'A'][['date', 'transactionId', 'visitorId', 'revenue']]\n",
    "    .groupby('date', as_index=False)\n",
    "    .agg({'transactionId': pd.Series.nunique, 'revenue': 'sum'})\n",
    ")\n",
    "ordersADaily.columns = ['date', 'ordersPerDateA', 'revenuePerDateA']\n",
    "\n",
    "ordersACummulative = ordersADaily.apply(\n",
    "    lambda x: ordersADaily[ordersADaily['date'] <= x['date']].agg(\n",
    "        {'date': 'max', 'ordersPerDateA': 'sum', 'revenuePerDateA': 'sum'}\n",
    "    ),\n",
    "    axis=1,\n",
    ").sort_values(by=['date'])\n",
    "ordersACummulative.columns = [\n",
    "    'date',\n",
    "    'ordersCummulativeA',\n",
    "    'revenueCummulativeA',\n",
    "]\n",
    "\n",
    "ordersBDaily = (\n",
    "    orders[orders['group'] == 'B'][['date', 'transactionId', 'visitorId', 'revenue']]\n",
    "    .groupby('date', as_index=False)\n",
    "    .agg({'transactionId': pd.Series.nunique, 'revenue': 'sum'})\n",
    ")\n",
    "ordersBDaily.columns = ['date', 'ordersPerDateB', 'revenuePerDateB']\n",
    "\n",
    "ordersBCummulative = ordersBDaily.apply(\n",
    "    lambda x: ordersBDaily[ordersBDaily['date'] <= x['date']].agg(\n",
    "        {'date': 'max', 'ordersPerDateB': 'sum', 'revenuePerDateB': 'sum'}\n",
    "    ),\n",
    "    axis=1,\n",
    ").sort_values(by=['date'])\n",
    "ordersBCummulative.columns = [\n",
    "    'date',\n",
    "    'ordersCummulativeB',\n",
    "    'revenueCummulativeB',\n",
    "]\n",
    "\n",
    "data = (\n",
    "    ordersADaily.merge(\n",
    "        ordersBDaily, left_on='date', right_on='date', how='left'\n",
    "    )\n",
    "    .merge(ordersACummulative, left_on='date', right_on='date', how='left')\n",
    "    .merge(ordersBCummulative, left_on='date', right_on='date', how='left')\n",
    "    .merge(visitorsADaily, left_on='date', right_on='date', how='left')\n",
    "    .merge(visitorsBDaily, left_on='date', right_on='date', how='left')\n",
    "    .merge(visitorsACummulative, left_on='date', right_on='date', how='left')\n",
    "    .merge(visitorsBCummulative, left_on='date', right_on='date', how='left')\n",
    ")\n",
    "\n",
    "\n",
    "ordersByUsersA = (\n",
    "    orders[orders['group'] == 'A']\n",
    "    .groupby('visitorId', as_index=False)\n",
    "    .agg({'transactionId': pd.Series.nunique})\n",
    ")\n",
    "ordersByUsersA.columns = ['visitorId', 'orders']\n",
    "\n",
    "ordersByUsersB = (\n",
    "    orders[orders['group'] == 'B']\n",
    "    .groupby('visitorId', as_index=False)\n",
    "    .agg({'transactionId': pd.Series.nunique})\n",
    ")\n",
    "ordersByUsersB.columns = ['visitorId', 'orders'] \n",
    "pd.Series(0, index=np.arange(data['visitorsPerDateA'].sum() - len(ordersByUsersA['orders'])), name='orders')\n",
    "[ordersByUsersA['orders'],pd.Series(0, index=np.arange(data['visitorsPerDateA'].sum() - len(ordersByUsersA['orders'])), name='orders')]\n",
    "\n",
    "sampleA = pd.concat([ordersByUsersA['orders'],pd.Series(0, index=np.arange(data['visitorsPerDateA'].sum() - len(ordersByUsersA['orders'])), name='orders')],axis=0)\n",
    "\n",
    "sampleB = pd.concat([ordersByUsersB['orders'],pd.Series(0, index=np.arange(data['visitorsPerDateB'].sum() - len(ordersByUsersB['orders'])), name='orders')],axis=0)\n",
    "\n",
    "ordersByUsersA = (\n",
    "    orders[orders['group'] == 'A']\n",
    "    .groupby('visitorId', as_index=False)\n",
    "    .agg({'transactionId': pd.Series.nunique})\n",
    ")\n",
    "ordersByUsersA.columns = ['visitorId', 'orders']\n",
    "\n",
    "ordersByUsersB = (\n",
    "    orders[orders['group'] == 'B']\n",
    "    .groupby('visitorId', as_index=False)\n",
    "    .agg({'transactionId': pd.Series.nunique})\n",
    ")\n",
    "ordersByUsersB.columns = ['visitorId', 'orders']\n",
    "\n",
    "sampleA = pd.concat(\n",
    "    [\n",
    "        ordersByUsersA['orders'],\n",
    "        pd.Series(\n",
    "            0,\n",
    "            index=np.arange(\n",
    "                data['visitorsPerDateA'].sum() - len(ordersByUsersA['orders'])\n",
    "            ),\n",
    "            name='orders',\n",
    "        ),\n",
    "    ],\n",
    "    axis=0,\n",
    ")\n",
    "\n",
    "sampleB = pd.concat(\n",
    "    [\n",
    "        ordersByUsersB['orders'],\n",
    "        pd.Series(\n",
    "            0,\n",
    "            index=np.arange(\n",
    "                data['visitorsPerDateB'].sum() - len(ordersByUsersB['orders'])\n",
    "            ),\n",
    "            name='orders',\n",
    "        ),\n",
    "    ],\n",
    "    axis=0,\n",
    ")\n",
    "\n",
    "print(\"{0:.5f}\".format(stats.mannwhitneyu(sampleA, sampleB)[1]))\n",
    "\n",
    "\n",
    " \n",
    "print(\"{0:.3f}\".format((data['ordersPerDateB'].sum()/data['visitorsPerDateB'].sum())/(data['ordersPerDateA'].sum()/data['visitorsPerDateA'].sum())-1))"
   ]
  },
  {
   "cell_type": "markdown",
   "metadata": {},
   "source": [
    "P-value меньше 0.05, поэтому отвергаем нулевую гипотезу, относительный прирост среднего составляет 13.8%."
   ]
  },
  {
   "cell_type": "markdown",
   "metadata": {},
   "source": [
    "-----------------"
   ]
  },
  {
   "cell_type": "markdown",
   "metadata": {},
   "source": [
    "Нулевая гипотеза: Средние чеки групп A и B равны, статистически значимых отличий нет. Альтернативная гипотеза: Средние чеки групп A и B различны, статистически значимые отличия есть"
   ]
  },
  {
   "cell_type": "code",
   "execution_count": 29,
   "metadata": {},
   "outputs": [
    {
     "name": "stdout",
     "output_type": "stream",
     "text": [
      "0.729\n",
      "0.259\n"
     ]
    }
   ],
   "source": [
    "print('{0:.3f}'.format(stats.mannwhitneyu(orders[orders['group']=='A']['revenue'], orders[orders['group']=='B']['revenue'])[1]))\n",
    "print('{0:.3f}'.format(orders[orders['group']=='B']['revenue'].mean()/orders[orders['group']=='A']['revenue'].mean()-1))"
   ]
  },
  {
   "cell_type": "markdown",
   "metadata": {},
   "source": [
    "P-value больше 0.05, поэтому отвергнуть нулевую гипотезу нельзя, статистически значимых отличий нет\n",
    "Относительное различие между чеками равно почти 26%"
   ]
  },
  {
   "cell_type": "markdown",
   "metadata": {},
   "source": [
    "----------"
   ]
  },
  {
   "cell_type": "markdown",
   "metadata": {},
   "source": [
    "Нулевая гипотеза: Количество заказов групп A и B равны, статистически значимых отличий нет. Альтернативная гипотеза: Количество заказов A и B различны, статистически значимые отличия есть"
   ]
  },
  {
   "cell_type": "markdown",
   "metadata": {},
   "source": [
    "Создадим своеобразные фильты для того, чтобы убрать аномальные значения "
   ]
  },
  {
   "cell_type": "code",
   "execution_count": 30,
   "metadata": {},
   "outputs": [
    {
     "name": "stdout",
     "output_type": "stream",
     "text": [
      "0.00896\n",
      "0.205\n"
     ]
    }
   ],
   "source": [
    "usersWithManyOrders = pd.concat(\n",
    "    [\n",
    "        ordersByUsersA[ordersByUsersA['orders'] > 2]['visitorId'],\n",
    "        ordersByUsersB[ordersByUsersB['orders'] > 2]['visitorId'],\n",
    "    ],\n",
    "    axis=0,\n",
    ")\n",
    "usersWithExpensiveOrders = orders[orders['revenue'] > 10000]['visitorId']\n",
    "abnormalUsers = (\n",
    "    pd.concat([usersWithManyOrders, usersWithExpensiveOrders], axis=0)\n",
    "    .drop_duplicates()\n",
    "    .sort_values()\n",
    ")\n",
    "\n",
    "sampleAFiltered = pd.concat(\n",
    "    [\n",
    "        ordersByUsersA[\n",
    "            np.logical_not(ordersByUsersA['visitorId'].isin(abnormalUsers))\n",
    "        ]['orders'],\n",
    "        pd.Series(\n",
    "            0,\n",
    "            index=np.arange(\n",
    "                data['visitorsPerDateA'].sum() - len(ordersByUsersA['orders'])\n",
    "            ),\n",
    "            name='orders',\n",
    "        ),\n",
    "    ],\n",
    "    axis=0,\n",
    ")\n",
    "\n",
    "sampleBFiltered = pd.concat(\n",
    "    [\n",
    "        ordersByUsersB[\n",
    "            np.logical_not(ordersByUsersB['visitorId'].isin(abnormalUsers))\n",
    "        ]['orders'],\n",
    "        pd.Series(\n",
    "            0,\n",
    "            index=np.arange(\n",
    "                data['visitorsPerDateB'].sum() - len(ordersByUsersB['orders'])\n",
    "            ),\n",
    "            name='orders',\n",
    "        ),\n",
    "    ],\n",
    "    axis=0,\n",
    ") \n",
    "\n",
    "print('{0:.5f}'.format(stats.mannwhitneyu(sampleAFiltered, sampleBFiltered)[1]))\n",
    "print('{0:.3f}'.format(sampleBFiltered.mean()/sampleAFiltered.mean()-1)) "
   ]
  },
  {
   "cell_type": "markdown",
   "metadata": {},
   "source": [
    "P-value меньше 0.05, поэтому мы можем отвергнуть нулевую гипотезу. Относительное различие между чеками равно примерно 20%. Сегмент В лучше сегмента А, статистическая значимость достигнута. С сырыми данными вывод оказался таким же"
   ]
  },
  {
   "cell_type": "markdown",
   "metadata": {},
   "source": [
    "------------------"
   ]
  },
  {
   "cell_type": "markdown",
   "metadata": {},
   "source": [
    "Нулевая гипотеза: в значениях среднего чека между группой В и группой А по очищенным данным нет\n",
    "статистически значимых различий; Альтернативная гипотеза: в значениях среднего чека между группой В и группой А по очищенным данным есть статистически значимые различия."
   ]
  },
  {
   "cell_type": "code",
   "execution_count": 31,
   "metadata": {},
   "outputs": [
    {
     "name": "stdout",
     "output_type": "stream",
     "text": [
      "0.965\n",
      "0.002\n"
     ]
    }
   ],
   "source": [
    "print(\n",
    "    '{0:.3f}'.format(\n",
    "        stats.mannwhitneyu(\n",
    "            orders[\n",
    "                np.logical_and(\n",
    "                    orders['group'] == 'A',\n",
    "                    np.logical_not(orders['visitorId'].isin(abnormalUsers)),\n",
    "                )\n",
    "            ]['revenue'],\n",
    "            orders[\n",
    "                np.logical_and(\n",
    "                    orders['group'] == 'B',\n",
    "                    np.logical_not(orders['visitorId'].isin(abnormalUsers)),\n",
    "                )\n",
    "            ]['revenue'],\n",
    "        )[1]\n",
    "    )\n",
    ")\n",
    "\n",
    "print(\n",
    "    \"{0:.3f}\".format(\n",
    "        orders[\n",
    "            np.logical_and(\n",
    "                orders['group'] == 'B',\n",
    "                np.logical_not(orders['visitorId'].isin(abnormalUsers)),\n",
    "            )\n",
    "        ]['revenue'].mean()\n",
    "        / orders[\n",
    "            np.logical_and(\n",
    "                orders['group'] == 'A',\n",
    "                np.logical_not(orders['visitorId'].isin(abnormalUsers)),\n",
    "            )\n",
    "        ]['revenue'].mean()\n",
    "        - 1\n",
    "    )\n",
    ") "
   ]
  },
  {
   "cell_type": "markdown",
   "metadata": {},
   "source": [
    "P-value стало статистически значимым\n",
    "Различие очень небольшое - меньше четверти процента.\n",
    "P-value больше 0.05, поэтому отвергнуть нулевую гипотезу нельзя"
   ]
  },
  {
   "cell_type": "markdown",
   "metadata": {},
   "source": [
    "**Примите решение по результатам теста и объясните его.**\n",
    "\n",
    "Варианты решений:\n",
    "1. Остановить тест, зафиксировать победу одной из групп.\n",
    "2. Остановить тест, зафиксировать отсутствие различий между группами.\n",
    "3. Продолжить тест."
   ]
  },
  {
   "cell_type": "markdown",
   "metadata": {},
   "source": [
    "3. Остановить тест и признать победу группы B"
   ]
  },
  {
   "cell_type": "markdown",
   "metadata": {},
   "source": [
    "Даже не смотря на то, что в значениях среднего чека между группой В и группой А по очищенным данным нет статистически значимых различий, тест следует остановить и признать его успешным в части увеличения количества заказов в целевой группе B. Значения кумулятивной выручки группы В выше. Значения количества заказов у группы В также выше и стабилизировались после повышения. Нельзя однозначно утверждать, что какая-либо из групп имеет преимущество над другой по показателям среднего чека. При продолжении теста показатели вряд ли изменятся"
   ]
  }
 ],
 "metadata": {
  "ExecuteTimeLog": [
   {
    "duration": 83,
    "start_time": "2023-03-07T18:27:09.572Z"
   },
   {
    "duration": 481,
    "start_time": "2023-03-07T18:27:24.041Z"
   },
   {
    "duration": 7,
    "start_time": "2023-03-07T18:27:49.328Z"
   },
   {
    "duration": 12,
    "start_time": "2023-03-07T18:30:04.764Z"
   },
   {
    "duration": 3,
    "start_time": "2023-03-07T18:32:30.329Z"
   },
   {
    "duration": 13,
    "start_time": "2023-03-07T18:32:34.018Z"
   },
   {
    "duration": 14,
    "start_time": "2023-03-07T18:39:34.118Z"
   },
   {
    "duration": 13,
    "start_time": "2023-03-07T18:42:18.161Z"
   },
   {
    "duration": 13,
    "start_time": "2023-03-07T18:48:03.943Z"
   },
   {
    "duration": 15,
    "start_time": "2023-03-07T18:58:15.877Z"
   },
   {
    "duration": 860,
    "start_time": "2023-03-08T09:42:55.275Z"
   },
   {
    "duration": 455,
    "start_time": "2023-03-08T09:43:00.702Z"
   },
   {
    "duration": 6,
    "start_time": "2023-03-08T09:43:01.160Z"
   },
   {
    "duration": 65,
    "start_time": "2023-03-08T09:43:01.168Z"
   },
   {
    "duration": 53,
    "start_time": "2023-03-08T09:43:01.235Z"
   },
   {
    "duration": 43,
    "start_time": "2023-03-08T09:43:01.289Z"
   },
   {
    "duration": 44,
    "start_time": "2023-03-08T09:43:01.333Z"
   },
   {
    "duration": 38,
    "start_time": "2023-03-08T09:43:01.378Z"
   },
   {
    "duration": 452,
    "start_time": "2023-03-08T09:43:01.417Z"
   },
   {
    "duration": 345,
    "start_time": "2023-03-08T09:43:41.104Z"
   },
   {
    "duration": 106,
    "start_time": "2023-03-08T09:44:03.155Z"
   },
   {
    "duration": 11,
    "start_time": "2023-03-08T09:44:17.732Z"
   },
   {
    "duration": 10,
    "start_time": "2023-03-08T09:44:32.444Z"
   },
   {
    "duration": 6,
    "start_time": "2023-03-08T09:48:17.988Z"
   },
   {
    "duration": 14,
    "start_time": "2023-03-08T09:48:25.220Z"
   },
   {
    "duration": 12,
    "start_time": "2023-03-08T09:49:19.437Z"
   },
   {
    "duration": 30,
    "start_time": "2023-03-08T10:17:29.594Z"
   },
   {
    "duration": 305,
    "start_time": "2023-03-08T10:18:38.428Z"
   },
   {
    "duration": 70,
    "start_time": "2023-03-08T10:19:32.215Z"
   },
   {
    "duration": 17,
    "start_time": "2023-03-08T10:19:33.786Z"
   },
   {
    "duration": 14,
    "start_time": "2023-03-08T10:19:35.444Z"
   },
   {
    "duration": 12,
    "start_time": "2023-03-08T10:19:35.738Z"
   },
   {
    "duration": 12,
    "start_time": "2023-03-08T10:19:36.251Z"
   },
   {
    "duration": 329,
    "start_time": "2023-03-08T10:19:36.691Z"
   },
   {
    "duration": 1363,
    "start_time": "2023-03-08T10:19:38.894Z"
   },
   {
    "duration": 272,
    "start_time": "2023-03-08T10:20:39.741Z"
   },
   {
    "duration": 207,
    "start_time": "2023-03-08T10:20:52.303Z"
   },
   {
    "duration": 506,
    "start_time": "2023-03-08T10:21:49.454Z"
   },
   {
    "duration": 7,
    "start_time": "2023-03-08T10:21:49.962Z"
   },
   {
    "duration": 25,
    "start_time": "2023-03-08T10:21:49.971Z"
   },
   {
    "duration": 10,
    "start_time": "2023-03-08T10:21:49.998Z"
   },
   {
    "duration": 27,
    "start_time": "2023-03-08T10:21:50.011Z"
   },
   {
    "duration": 19,
    "start_time": "2023-03-08T10:21:50.040Z"
   },
   {
    "duration": 12,
    "start_time": "2023-03-08T10:21:50.061Z"
   },
   {
    "duration": 84,
    "start_time": "2023-03-08T10:21:50.075Z"
   },
   {
    "duration": 16,
    "start_time": "2023-03-08T10:21:50.161Z"
   },
   {
    "duration": 17,
    "start_time": "2023-03-08T10:21:50.179Z"
   },
   {
    "duration": 14,
    "start_time": "2023-03-08T10:21:50.197Z"
   },
   {
    "duration": 17,
    "start_time": "2023-03-08T10:21:50.213Z"
   },
   {
    "duration": 417,
    "start_time": "2023-03-08T10:21:50.232Z"
   },
   {
    "duration": 581,
    "start_time": "2023-03-08T10:21:50.652Z"
   },
   {
    "duration": 209,
    "start_time": "2023-03-08T10:23:18.602Z"
   },
   {
    "duration": 226,
    "start_time": "2023-03-08T10:23:26.847Z"
   },
   {
    "duration": 277,
    "start_time": "2023-03-08T10:23:31.893Z"
   },
   {
    "duration": 239,
    "start_time": "2023-03-08T10:25:03.747Z"
   },
   {
    "duration": 234,
    "start_time": "2023-03-08T10:25:15.226Z"
   },
   {
    "duration": 227,
    "start_time": "2023-03-08T10:25:20.851Z"
   },
   {
    "duration": 233,
    "start_time": "2023-03-08T10:25:25.592Z"
   },
   {
    "duration": 474,
    "start_time": "2023-03-08T19:02:41.998Z"
   },
   {
    "duration": 9,
    "start_time": "2023-03-08T19:02:42.476Z"
   },
   {
    "duration": 17,
    "start_time": "2023-03-08T19:02:42.487Z"
   },
   {
    "duration": 10,
    "start_time": "2023-03-08T19:02:42.506Z"
   },
   {
    "duration": 25,
    "start_time": "2023-03-08T19:02:42.519Z"
   },
   {
    "duration": 25,
    "start_time": "2023-03-08T19:02:42.546Z"
   },
   {
    "duration": 3,
    "start_time": "2023-03-08T19:02:42.574Z"
   },
   {
    "duration": 169,
    "start_time": "2023-03-08T19:02:42.578Z"
   },
   {
    "duration": 14,
    "start_time": "2023-03-08T19:02:42.748Z"
   },
   {
    "duration": 17,
    "start_time": "2023-03-08T19:02:42.764Z"
   },
   {
    "duration": 12,
    "start_time": "2023-03-08T19:02:42.782Z"
   },
   {
    "duration": 15,
    "start_time": "2023-03-08T19:02:42.796Z"
   },
   {
    "duration": 290,
    "start_time": "2023-03-08T19:02:42.813Z"
   },
   {
    "duration": 684,
    "start_time": "2023-03-08T19:02:43.106Z"
   },
   {
    "duration": 3,
    "start_time": "2023-03-08T19:02:43.792Z"
   },
   {
    "duration": 216,
    "start_time": "2023-03-08T19:02:43.797Z"
   },
   {
    "duration": 213,
    "start_time": "2023-03-08T19:04:17.944Z"
   },
   {
    "duration": 2,
    "start_time": "2023-03-08T19:07:39.410Z"
   },
   {
    "duration": 373,
    "start_time": "2023-03-08T19:08:53.441Z"
   },
   {
    "duration": 316,
    "start_time": "2023-03-08T19:09:57.407Z"
   },
   {
    "duration": 3,
    "start_time": "2023-03-08T19:11:50.808Z"
   },
   {
    "duration": 165,
    "start_time": "2023-03-08T19:20:07.811Z"
   },
   {
    "duration": 178,
    "start_time": "2023-03-08T19:21:14.848Z"
   },
   {
    "duration": 204,
    "start_time": "2023-03-08T19:21:34.118Z"
   },
   {
    "duration": 326,
    "start_time": "2023-03-08T19:27:12.487Z"
   },
   {
    "duration": 313,
    "start_time": "2023-03-08T19:27:41.998Z"
   },
   {
    "duration": 3,
    "start_time": "2023-03-08T19:35:08.318Z"
   },
   {
    "duration": 478,
    "start_time": "2023-03-09T18:23:39.070Z"
   },
   {
    "duration": 7,
    "start_time": "2023-03-09T18:23:39.550Z"
   },
   {
    "duration": 17,
    "start_time": "2023-03-09T18:23:39.559Z"
   },
   {
    "duration": 7,
    "start_time": "2023-03-09T18:23:39.578Z"
   },
   {
    "duration": 24,
    "start_time": "2023-03-09T18:23:39.588Z"
   },
   {
    "duration": 17,
    "start_time": "2023-03-09T18:23:39.614Z"
   },
   {
    "duration": 21,
    "start_time": "2023-03-09T18:23:39.633Z"
   },
   {
    "duration": 132,
    "start_time": "2023-03-09T18:23:39.656Z"
   },
   {
    "duration": 13,
    "start_time": "2023-03-09T18:23:39.790Z"
   },
   {
    "duration": 22,
    "start_time": "2023-03-09T18:23:39.805Z"
   },
   {
    "duration": 11,
    "start_time": "2023-03-09T18:23:39.829Z"
   },
   {
    "duration": 19,
    "start_time": "2023-03-09T18:23:39.842Z"
   },
   {
    "duration": 310,
    "start_time": "2023-03-09T18:23:39.863Z"
   },
   {
    "duration": 740,
    "start_time": "2023-03-09T18:23:40.176Z"
   },
   {
    "duration": 3,
    "start_time": "2023-03-09T18:23:40.918Z"
   },
   {
    "duration": 215,
    "start_time": "2023-03-09T18:23:40.922Z"
   },
   {
    "duration": 2,
    "start_time": "2023-03-09T18:23:41.139Z"
   },
   {
    "duration": 342,
    "start_time": "2023-03-09T18:23:41.154Z"
   },
   {
    "duration": 2,
    "start_time": "2023-03-09T18:23:41.498Z"
   },
   {
    "duration": 305,
    "start_time": "2023-03-09T18:23:41.502Z"
   },
   {
    "duration": 3,
    "start_time": "2023-03-09T18:23:41.809Z"
   },
   {
    "duration": 340,
    "start_time": "2023-03-09T18:23:41.813Z"
   },
   {
    "duration": 3,
    "start_time": "2023-03-09T18:23:42.155Z"
   },
   {
    "duration": 91,
    "start_time": "2023-03-09T18:27:56.222Z"
   },
   {
    "duration": 13,
    "start_time": "2023-03-09T18:28:12.123Z"
   },
   {
    "duration": 11,
    "start_time": "2023-03-09T18:29:56.498Z"
   },
   {
    "duration": 11,
    "start_time": "2023-03-09T18:30:08.512Z"
   },
   {
    "duration": 14,
    "start_time": "2023-03-09T18:31:00.467Z"
   },
   {
    "duration": 139,
    "start_time": "2023-03-09T18:31:34.199Z"
   },
   {
    "duration": 7,
    "start_time": "2023-03-09T18:41:15.553Z"
   },
   {
    "duration": 8,
    "start_time": "2023-03-09T18:41:22.012Z"
   },
   {
    "duration": 81,
    "start_time": "2023-03-09T18:49:29.709Z"
   },
   {
    "duration": 1827,
    "start_time": "2023-03-09T18:49:42.731Z"
   },
   {
    "duration": 149,
    "start_time": "2023-03-09T18:50:08.161Z"
   },
   {
    "duration": 6,
    "start_time": "2023-03-09T18:54:48.089Z"
   },
   {
    "duration": 12,
    "start_time": "2023-03-09T19:01:53.826Z"
   },
   {
    "duration": 20,
    "start_time": "2023-03-09T19:02:49.349Z"
   },
   {
    "duration": 1869,
    "start_time": "2023-03-09T19:03:58.385Z"
   },
   {
    "duration": 29,
    "start_time": "2023-03-09T19:04:41.738Z"
   },
   {
    "duration": 1863,
    "start_time": "2023-03-09T19:05:36.048Z"
   },
   {
    "duration": 120,
    "start_time": "2023-03-09T19:09:28.242Z"
   },
   {
    "duration": 600,
    "start_time": "2023-03-09T19:14:13.828Z"
   },
   {
    "duration": 1022,
    "start_time": "2023-03-09T19:14:46.947Z"
   },
   {
    "duration": 14,
    "start_time": "2023-03-09T19:22:28.093Z"
   },
   {
    "duration": 11,
    "start_time": "2023-03-09T19:28:25.030Z"
   },
   {
    "duration": 34,
    "start_time": "2023-03-09T19:30:04.536Z"
   },
   {
    "duration": 17,
    "start_time": "2023-03-09T20:08:28.668Z"
   },
   {
    "duration": 428,
    "start_time": "2023-03-09T23:35:58.087Z"
   },
   {
    "duration": 7,
    "start_time": "2023-03-09T23:35:58.518Z"
   },
   {
    "duration": 35,
    "start_time": "2023-03-09T23:35:58.526Z"
   },
   {
    "duration": 11,
    "start_time": "2023-03-09T23:35:58.563Z"
   },
   {
    "duration": 24,
    "start_time": "2023-03-09T23:35:58.576Z"
   },
   {
    "duration": 15,
    "start_time": "2023-03-09T23:35:58.602Z"
   },
   {
    "duration": 15,
    "start_time": "2023-03-09T23:35:58.619Z"
   },
   {
    "duration": 152,
    "start_time": "2023-03-09T23:35:58.636Z"
   },
   {
    "duration": 12,
    "start_time": "2023-03-09T23:35:58.790Z"
   },
   {
    "duration": 27,
    "start_time": "2023-03-09T23:35:58.804Z"
   },
   {
    "duration": 33,
    "start_time": "2023-03-09T23:35:58.835Z"
   },
   {
    "duration": 27,
    "start_time": "2023-03-09T23:35:58.870Z"
   },
   {
    "duration": 357,
    "start_time": "2023-03-09T23:35:58.898Z"
   },
   {
    "duration": 720,
    "start_time": "2023-03-09T23:35:59.259Z"
   },
   {
    "duration": 2,
    "start_time": "2023-03-09T23:35:59.981Z"
   },
   {
    "duration": 216,
    "start_time": "2023-03-09T23:35:59.984Z"
   },
   {
    "duration": 3,
    "start_time": "2023-03-09T23:36:00.201Z"
   },
   {
    "duration": 372,
    "start_time": "2023-03-09T23:36:00.205Z"
   },
   {
    "duration": 3,
    "start_time": "2023-03-09T23:36:00.579Z"
   },
   {
    "duration": 289,
    "start_time": "2023-03-09T23:36:00.583Z"
   },
   {
    "duration": 3,
    "start_time": "2023-03-09T23:36:00.874Z"
   },
   {
    "duration": 357,
    "start_time": "2023-03-09T23:36:00.878Z"
   },
   {
    "duration": 3,
    "start_time": "2023-03-09T23:36:01.237Z"
   },
   {
    "duration": 42,
    "start_time": "2023-03-09T23:36:01.245Z"
   },
   {
    "duration": 145,
    "start_time": "2023-03-09T23:36:01.288Z"
   },
   {
    "duration": 3,
    "start_time": "2023-03-09T23:36:01.435Z"
   },
   {
    "duration": 118,
    "start_time": "2023-03-09T23:36:01.440Z"
   },
   {
    "duration": 93,
    "start_time": "2023-03-09T23:36:01.560Z"
   },
   {
    "duration": 244,
    "start_time": "2023-03-09T23:36:01.655Z"
   },
   {
    "duration": 74,
    "start_time": "2023-03-09T23:36:01.900Z"
   },
   {
    "duration": 96,
    "start_time": "2023-03-09T23:36:01.975Z"
   },
   {
    "duration": 25,
    "start_time": "2023-03-09T23:36:02.073Z"
   },
   {
    "duration": 985,
    "start_time": "2023-03-09T23:36:02.101Z"
   },
   {
    "duration": 2,
    "start_time": "2023-03-09T23:36:03.089Z"
   },
   {
    "duration": 33,
    "start_time": "2023-03-09T23:36:03.093Z"
   },
   {
    "duration": 17,
    "start_time": "2023-03-09T23:36:03.128Z"
   },
   {
    "duration": 13,
    "start_time": "2023-03-09T23:36:03.148Z"
   },
   {
    "duration": 30,
    "start_time": "2023-03-09T23:36:03.163Z"
   },
   {
    "duration": 60,
    "start_time": "2023-03-09T23:36:03.196Z"
   },
   {
    "duration": 16,
    "start_time": "2023-03-09T23:36:03.257Z"
   },
   {
    "duration": 21,
    "start_time": "2023-03-09T23:36:03.276Z"
   },
   {
    "duration": 20,
    "start_time": "2023-03-09T23:36:03.298Z"
   },
   {
    "duration": 51,
    "start_time": "2023-03-10T19:54:41.768Z"
   },
   {
    "duration": 488,
    "start_time": "2023-03-10T19:54:47.769Z"
   },
   {
    "duration": 7,
    "start_time": "2023-03-10T19:54:48.259Z"
   },
   {
    "duration": 17,
    "start_time": "2023-03-10T19:54:48.268Z"
   },
   {
    "duration": 12,
    "start_time": "2023-03-10T19:54:48.288Z"
   },
   {
    "duration": 15,
    "start_time": "2023-03-10T19:54:48.302Z"
   },
   {
    "duration": 19,
    "start_time": "2023-03-10T19:54:48.319Z"
   },
   {
    "duration": 25,
    "start_time": "2023-03-10T19:54:48.340Z"
   },
   {
    "duration": 5,
    "start_time": "2023-03-10T19:54:48.367Z"
   },
   {
    "duration": 146,
    "start_time": "2023-03-10T19:54:48.373Z"
   },
   {
    "duration": 10,
    "start_time": "2023-03-10T19:54:48.523Z"
   },
   {
    "duration": 16,
    "start_time": "2023-03-10T19:54:48.534Z"
   },
   {
    "duration": 11,
    "start_time": "2023-03-10T19:54:48.552Z"
   },
   {
    "duration": 12,
    "start_time": "2023-03-10T19:54:48.566Z"
   },
   {
    "duration": 285,
    "start_time": "2023-03-10T19:54:48.580Z"
   },
   {
    "duration": 688,
    "start_time": "2023-03-10T19:54:48.867Z"
   },
   {
    "duration": 8,
    "start_time": "2023-03-10T19:54:49.556Z"
   },
   {
    "duration": 213,
    "start_time": "2023-03-10T19:54:49.566Z"
   },
   {
    "duration": 3,
    "start_time": "2023-03-10T19:54:49.781Z"
   },
   {
    "duration": 338,
    "start_time": "2023-03-10T19:54:49.786Z"
   },
   {
    "duration": 3,
    "start_time": "2023-03-10T19:54:50.126Z"
   },
   {
    "duration": 275,
    "start_time": "2023-03-10T19:54:50.130Z"
   },
   {
    "duration": 3,
    "start_time": "2023-03-10T19:54:50.407Z"
   },
   {
    "duration": 301,
    "start_time": "2023-03-10T19:54:50.412Z"
   },
   {
    "duration": 3,
    "start_time": "2023-03-10T19:54:50.714Z"
   },
   {
    "duration": 41,
    "start_time": "2023-03-10T19:54:50.719Z"
   },
   {
    "duration": 141,
    "start_time": "2023-03-10T19:54:50.762Z"
   },
   {
    "duration": 3,
    "start_time": "2023-03-10T19:54:50.905Z"
   },
   {
    "duration": 10,
    "start_time": "2023-03-10T19:54:50.911Z"
   },
   {
    "duration": 9,
    "start_time": "2023-03-10T19:54:50.922Z"
   },
   {
    "duration": 164,
    "start_time": "2023-03-10T19:54:50.933Z"
   },
   {
    "duration": 3,
    "start_time": "2023-03-10T19:54:51.100Z"
   },
   {
    "duration": 12,
    "start_time": "2023-03-10T19:54:51.105Z"
   },
   {
    "duration": 20,
    "start_time": "2023-03-10T19:54:51.119Z"
   },
   {
    "duration": 959,
    "start_time": "2023-03-10T19:54:51.141Z"
   },
   {
    "duration": 2,
    "start_time": "2023-03-10T19:54:52.102Z"
   },
   {
    "duration": 23,
    "start_time": "2023-03-10T19:54:52.106Z"
   },
   {
    "duration": 3,
    "start_time": "2023-03-10T19:54:52.131Z"
   },
   {
    "duration": 5,
    "start_time": "2023-03-10T19:54:52.136Z"
   },
   {
    "duration": 29,
    "start_time": "2023-03-10T19:54:52.142Z"
   },
   {
    "duration": 36,
    "start_time": "2023-03-10T19:54:52.173Z"
   },
   {
    "duration": 3,
    "start_time": "2023-03-10T19:54:52.211Z"
   },
   {
    "duration": 18,
    "start_time": "2023-03-10T19:54:52.216Z"
   },
   {
    "duration": 2,
    "start_time": "2023-03-10T19:54:52.236Z"
   },
   {
    "duration": 52,
    "start_time": "2023-03-12T10:49:33.733Z"
   },
   {
    "duration": 426,
    "start_time": "2023-03-12T10:49:39.111Z"
   },
   {
    "duration": 7,
    "start_time": "2023-03-12T10:49:39.539Z"
   },
   {
    "duration": 19,
    "start_time": "2023-03-12T10:49:39.547Z"
   },
   {
    "duration": 9,
    "start_time": "2023-03-12T10:49:39.568Z"
   },
   {
    "duration": 3,
    "start_time": "2023-03-12T10:49:39.579Z"
   },
   {
    "duration": 12,
    "start_time": "2023-03-12T10:49:39.583Z"
   },
   {
    "duration": 13,
    "start_time": "2023-03-12T10:49:39.597Z"
   },
   {
    "duration": 153,
    "start_time": "2023-03-12T10:49:39.611Z"
   },
   {
    "duration": 10,
    "start_time": "2023-03-12T10:49:39.766Z"
   },
   {
    "duration": 11,
    "start_time": "2023-03-12T10:49:39.777Z"
   },
   {
    "duration": 8,
    "start_time": "2023-03-12T10:49:39.789Z"
   },
   {
    "duration": 9,
    "start_time": "2023-03-12T10:49:39.798Z"
   },
   {
    "duration": 5,
    "start_time": "2023-03-12T10:49:39.808Z"
   },
   {
    "duration": 285,
    "start_time": "2023-03-12T10:49:39.816Z"
   },
   {
    "duration": 694,
    "start_time": "2023-03-12T10:49:40.102Z"
   },
   {
    "duration": 191,
    "start_time": "2023-03-12T10:49:40.798Z"
   },
   {
    "duration": 282,
    "start_time": "2023-03-12T10:49:40.991Z"
   },
   {
    "duration": 225,
    "start_time": "2023-03-12T10:49:41.274Z"
   },
   {
    "duration": 283,
    "start_time": "2023-03-12T10:49:41.501Z"
   },
   {
    "duration": 12,
    "start_time": "2023-03-12T10:49:41.785Z"
   },
   {
    "duration": 121,
    "start_time": "2023-03-12T10:49:41.799Z"
   },
   {
    "duration": 5,
    "start_time": "2023-03-12T10:49:41.922Z"
   },
   {
    "duration": 139,
    "start_time": "2023-03-12T10:49:41.929Z"
   },
   {
    "duration": 4,
    "start_time": "2023-03-12T10:49:42.069Z"
   },
   {
    "duration": 832,
    "start_time": "2023-03-12T10:49:42.075Z"
   },
   {
    "duration": 8,
    "start_time": "2023-03-12T10:49:42.908Z"
   },
   {
    "duration": 7,
    "start_time": "2023-03-12T10:49:42.918Z"
   },
   {
    "duration": 52,
    "start_time": "2023-03-12T10:49:42.926Z"
   },
   {
    "duration": 12,
    "start_time": "2023-03-12T10:49:42.980Z"
   },
   {
    "duration": 5,
    "start_time": "2023-03-12T10:49:53.945Z"
   },
   {
    "duration": 7,
    "start_time": "2023-03-12T10:51:01.505Z"
   },
   {
    "duration": 6,
    "start_time": "2023-03-12T10:51:22.869Z"
   },
   {
    "duration": 5,
    "start_time": "2023-03-12T10:51:29.938Z"
   },
   {
    "duration": 256,
    "start_time": "2023-03-12T11:06:57.843Z"
   },
   {
    "duration": 203,
    "start_time": "2023-03-12T11:08:28.395Z"
   },
   {
    "duration": 217,
    "start_time": "2023-03-12T11:08:36.174Z"
   },
   {
    "duration": 336,
    "start_time": "2023-03-12T11:09:40.410Z"
   },
   {
    "duration": 301,
    "start_time": "2023-03-12T11:10:04.075Z"
   },
   {
    "duration": 271,
    "start_time": "2023-03-12T11:23:57.276Z"
   },
   {
    "duration": 306,
    "start_time": "2023-03-12T11:24:38.032Z"
   },
   {
    "duration": 188,
    "start_time": "2023-03-12T11:25:18.699Z"
   },
   {
    "duration": 320,
    "start_time": "2023-03-12T11:25:52.067Z"
   },
   {
    "duration": 127,
    "start_time": "2023-03-12T11:26:42.069Z"
   },
   {
    "duration": 121,
    "start_time": "2023-03-12T11:27:22.925Z"
   },
   {
    "duration": 139,
    "start_time": "2023-03-12T11:29:33.744Z"
   },
   {
    "duration": 124,
    "start_time": "2023-03-12T11:36:38.381Z"
   },
   {
    "duration": 197,
    "start_time": "2023-03-12T11:37:08.947Z"
   },
   {
    "duration": 145,
    "start_time": "2023-03-12T11:37:40.386Z"
   },
   {
    "duration": 134,
    "start_time": "2023-03-12T11:37:48.832Z"
   },
   {
    "duration": 130,
    "start_time": "2023-03-12T11:38:28.955Z"
   },
   {
    "duration": 149,
    "start_time": "2023-03-12T11:38:37.649Z"
   },
   {
    "duration": 121,
    "start_time": "2023-03-12T11:40:40.669Z"
   },
   {
    "duration": 129,
    "start_time": "2023-03-12T11:40:50.179Z"
   },
   {
    "duration": 124,
    "start_time": "2023-03-12T11:40:58.781Z"
   },
   {
    "duration": 130,
    "start_time": "2023-03-12T11:41:03.450Z"
   },
   {
    "duration": 120,
    "start_time": "2023-03-12T11:41:09.491Z"
   },
   {
    "duration": 124,
    "start_time": "2023-03-12T11:41:17.941Z"
   },
   {
    "duration": 145,
    "start_time": "2023-03-12T11:41:23.240Z"
   },
   {
    "duration": 118,
    "start_time": "2023-03-12T11:41:26.396Z"
   },
   {
    "duration": 133,
    "start_time": "2023-03-12T11:41:31.060Z"
   },
   {
    "duration": 165,
    "start_time": "2023-03-12T11:41:42.599Z"
   },
   {
    "duration": 229,
    "start_time": "2023-03-12T11:46:03.654Z"
   },
   {
    "duration": 224,
    "start_time": "2023-03-12T11:46:18.000Z"
   },
   {
    "duration": 174,
    "start_time": "2023-03-12T11:46:24.696Z"
   },
   {
    "duration": 182,
    "start_time": "2023-03-12T11:46:35.089Z"
   },
   {
    "duration": 177,
    "start_time": "2023-03-12T11:47:03.841Z"
   },
   {
    "duration": 169,
    "start_time": "2023-03-12T11:47:16.132Z"
   },
   {
    "duration": 168,
    "start_time": "2023-03-12T11:47:20.194Z"
   },
   {
    "duration": 176,
    "start_time": "2023-03-12T11:47:24.094Z"
   },
   {
    "duration": 168,
    "start_time": "2023-03-12T11:47:30.769Z"
   },
   {
    "duration": 177,
    "start_time": "2023-03-12T11:47:37.080Z"
   },
   {
    "duration": 163,
    "start_time": "2023-03-12T11:47:48.077Z"
   },
   {
    "duration": 169,
    "start_time": "2023-03-12T11:47:54.769Z"
   },
   {
    "duration": 168,
    "start_time": "2023-03-12T11:47:59.235Z"
   },
   {
    "duration": 158,
    "start_time": "2023-03-12T11:48:06.836Z"
   },
   {
    "duration": 169,
    "start_time": "2023-03-12T11:48:18.358Z"
   },
   {
    "duration": 177,
    "start_time": "2023-03-12T11:48:27.925Z"
   },
   {
    "duration": 192,
    "start_time": "2023-03-12T11:50:55.438Z"
   },
   {
    "duration": 109,
    "start_time": "2023-03-12T11:51:25.883Z"
   },
   {
    "duration": 209,
    "start_time": "2023-03-12T11:51:38.255Z"
   },
   {
    "duration": 172,
    "start_time": "2023-03-12T11:51:48.966Z"
   },
   {
    "duration": 179,
    "start_time": "2023-03-12T11:51:55.872Z"
   },
   {
    "duration": 191,
    "start_time": "2023-03-12T11:52:00.586Z"
   },
   {
    "duration": 415,
    "start_time": "2023-03-12T11:52:06.565Z"
   },
   {
    "duration": 7,
    "start_time": "2023-03-12T11:52:06.982Z"
   },
   {
    "duration": 14,
    "start_time": "2023-03-12T11:52:06.991Z"
   },
   {
    "duration": 10,
    "start_time": "2023-03-12T11:52:07.007Z"
   },
   {
    "duration": 4,
    "start_time": "2023-03-12T11:52:07.019Z"
   },
   {
    "duration": 34,
    "start_time": "2023-03-12T11:52:07.025Z"
   },
   {
    "duration": 12,
    "start_time": "2023-03-12T11:52:07.060Z"
   },
   {
    "duration": 51,
    "start_time": "2023-03-12T11:52:07.074Z"
   },
   {
    "duration": 10,
    "start_time": "2023-03-12T11:52:07.126Z"
   },
   {
    "duration": 11,
    "start_time": "2023-03-12T11:52:07.138Z"
   },
   {
    "duration": 4,
    "start_time": "2023-03-12T11:52:07.151Z"
   },
   {
    "duration": 9,
    "start_time": "2023-03-12T11:52:07.156Z"
   },
   {
    "duration": 9,
    "start_time": "2023-03-12T11:52:07.167Z"
   },
   {
    "duration": 4,
    "start_time": "2023-03-12T11:52:07.178Z"
   },
   {
    "duration": 278,
    "start_time": "2023-03-12T11:52:07.183Z"
   },
   {
    "duration": 510,
    "start_time": "2023-03-12T11:52:07.463Z"
   },
   {
    "duration": 197,
    "start_time": "2023-03-12T11:52:07.974Z"
   },
   {
    "duration": 284,
    "start_time": "2023-03-12T11:52:08.173Z"
   },
   {
    "duration": 229,
    "start_time": "2023-03-12T11:52:08.458Z"
   },
   {
    "duration": 293,
    "start_time": "2023-03-12T11:52:08.688Z"
   },
   {
    "duration": 12,
    "start_time": "2023-03-12T11:52:08.983Z"
   },
   {
    "duration": 130,
    "start_time": "2023-03-12T11:52:08.996Z"
   },
   {
    "duration": 5,
    "start_time": "2023-03-12T11:52:09.128Z"
   },
   {
    "duration": 149,
    "start_time": "2023-03-12T11:52:09.135Z"
   },
   {
    "duration": 188,
    "start_time": "2023-03-12T11:52:09.285Z"
   },
   {
    "duration": 4,
    "start_time": "2023-03-12T11:52:09.474Z"
   },
   {
    "duration": 920,
    "start_time": "2023-03-12T11:52:09.479Z"
   },
   {
    "duration": 8,
    "start_time": "2023-03-12T11:52:10.401Z"
   },
   {
    "duration": 8,
    "start_time": "2023-03-12T11:52:10.410Z"
   },
   {
    "duration": 45,
    "start_time": "2023-03-12T11:52:10.419Z"
   },
   {
    "duration": 11,
    "start_time": "2023-03-12T11:52:10.466Z"
   },
   {
    "duration": 163,
    "start_time": "2023-03-12T11:52:32.207Z"
   },
   {
    "duration": 375,
    "start_time": "2023-03-12T11:52:37.395Z"
   },
   {
    "duration": 6,
    "start_time": "2023-03-12T11:52:37.771Z"
   },
   {
    "duration": 13,
    "start_time": "2023-03-12T11:52:37.778Z"
   },
   {
    "duration": 10,
    "start_time": "2023-03-12T11:52:37.792Z"
   },
   {
    "duration": 3,
    "start_time": "2023-03-12T11:52:37.803Z"
   },
   {
    "duration": 13,
    "start_time": "2023-03-12T11:52:37.807Z"
   },
   {
    "duration": 12,
    "start_time": "2023-03-12T11:52:37.821Z"
   },
   {
    "duration": 50,
    "start_time": "2023-03-12T11:52:37.835Z"
   },
   {
    "duration": 11,
    "start_time": "2023-03-12T11:52:37.886Z"
   },
   {
    "duration": 11,
    "start_time": "2023-03-12T11:52:37.902Z"
   },
   {
    "duration": 6,
    "start_time": "2023-03-12T11:52:37.915Z"
   },
   {
    "duration": 9,
    "start_time": "2023-03-12T11:52:37.922Z"
   },
   {
    "duration": 9,
    "start_time": "2023-03-12T11:52:37.932Z"
   },
   {
    "duration": 12,
    "start_time": "2023-03-12T11:52:37.943Z"
   },
   {
    "duration": 271,
    "start_time": "2023-03-12T11:52:37.957Z"
   },
   {
    "duration": 499,
    "start_time": "2023-03-12T11:52:38.229Z"
   },
   {
    "duration": 195,
    "start_time": "2023-03-12T11:52:38.729Z"
   },
   {
    "duration": 317,
    "start_time": "2023-03-12T11:52:38.925Z"
   },
   {
    "duration": 236,
    "start_time": "2023-03-12T11:52:39.243Z"
   },
   {
    "duration": 292,
    "start_time": "2023-03-12T11:52:39.481Z"
   },
   {
    "duration": 11,
    "start_time": "2023-03-12T11:52:39.774Z"
   },
   {
    "duration": 134,
    "start_time": "2023-03-12T11:52:39.787Z"
   },
   {
    "duration": 6,
    "start_time": "2023-03-12T11:52:39.923Z"
   },
   {
    "duration": 148,
    "start_time": "2023-03-12T11:52:39.930Z"
   },
   {
    "duration": 191,
    "start_time": "2023-03-12T11:52:40.079Z"
   },
   {
    "duration": 4,
    "start_time": "2023-03-12T11:52:40.271Z"
   },
   {
    "duration": 917,
    "start_time": "2023-03-12T11:52:40.277Z"
   },
   {
    "duration": 8,
    "start_time": "2023-03-12T11:52:41.197Z"
   },
   {
    "duration": 8,
    "start_time": "2023-03-12T11:52:41.206Z"
   },
   {
    "duration": 45,
    "start_time": "2023-03-12T11:52:41.216Z"
   },
   {
    "duration": 12,
    "start_time": "2023-03-12T11:52:41.262Z"
   },
   {
    "duration": 175,
    "start_time": "2023-03-12T11:52:59.018Z"
   },
   {
    "duration": 164,
    "start_time": "2023-03-12T11:53:05.876Z"
   },
   {
    "duration": 377,
    "start_time": "2023-03-12T11:53:15.892Z"
   },
   {
    "duration": 6,
    "start_time": "2023-03-12T11:53:16.271Z"
   },
   {
    "duration": 12,
    "start_time": "2023-03-12T11:53:16.279Z"
   },
   {
    "duration": 9,
    "start_time": "2023-03-12T11:53:16.293Z"
   },
   {
    "duration": 6,
    "start_time": "2023-03-12T11:53:16.304Z"
   },
   {
    "duration": 13,
    "start_time": "2023-03-12T11:53:16.311Z"
   },
   {
    "duration": 15,
    "start_time": "2023-03-12T11:53:16.326Z"
   },
   {
    "duration": 51,
    "start_time": "2023-03-12T11:53:16.355Z"
   },
   {
    "duration": 10,
    "start_time": "2023-03-12T11:53:16.408Z"
   },
   {
    "duration": 12,
    "start_time": "2023-03-12T11:53:16.420Z"
   },
   {
    "duration": 5,
    "start_time": "2023-03-12T11:53:16.434Z"
   },
   {
    "duration": 9,
    "start_time": "2023-03-12T11:53:16.441Z"
   },
   {
    "duration": 18,
    "start_time": "2023-03-12T11:53:16.452Z"
   },
   {
    "duration": 5,
    "start_time": "2023-03-12T11:53:16.473Z"
   },
   {
    "duration": 352,
    "start_time": "2023-03-12T11:53:16.479Z"
   },
   {
    "duration": 517,
    "start_time": "2023-03-12T11:53:16.833Z"
   },
   {
    "duration": 209,
    "start_time": "2023-03-12T11:53:17.352Z"
   },
   {
    "duration": 313,
    "start_time": "2023-03-12T11:53:17.562Z"
   },
   {
    "duration": 233,
    "start_time": "2023-03-12T11:53:17.878Z"
   },
   {
    "duration": 345,
    "start_time": "2023-03-12T11:53:18.113Z"
   },
   {
    "duration": 12,
    "start_time": "2023-03-12T11:53:18.460Z"
   },
   {
    "duration": 143,
    "start_time": "2023-03-12T11:53:18.474Z"
   },
   {
    "duration": 7,
    "start_time": "2023-03-12T11:53:18.619Z"
   },
   {
    "duration": 150,
    "start_time": "2023-03-12T11:53:18.627Z"
   },
   {
    "duration": 182,
    "start_time": "2023-03-12T11:53:18.778Z"
   },
   {
    "duration": 4,
    "start_time": "2023-03-12T11:53:18.962Z"
   },
   {
    "duration": 916,
    "start_time": "2023-03-12T11:53:18.967Z"
   },
   {
    "duration": 10,
    "start_time": "2023-03-12T11:53:19.885Z"
   },
   {
    "duration": 9,
    "start_time": "2023-03-12T11:53:19.897Z"
   },
   {
    "duration": 58,
    "start_time": "2023-03-12T11:53:19.908Z"
   },
   {
    "duration": 13,
    "start_time": "2023-03-12T11:53:19.968Z"
   },
   {
    "duration": 303,
    "start_time": "2023-03-12T12:26:27.270Z"
   },
   {
    "duration": 8,
    "start_time": "2023-03-12T12:26:27.576Z"
   },
   {
    "duration": 30,
    "start_time": "2023-03-12T12:26:27.586Z"
   },
   {
    "duration": 12,
    "start_time": "2023-03-12T12:26:27.621Z"
   },
   {
    "duration": 3,
    "start_time": "2023-03-12T12:26:27.636Z"
   },
   {
    "duration": 19,
    "start_time": "2023-03-12T12:26:27.641Z"
   },
   {
    "duration": 18,
    "start_time": "2023-03-12T12:26:27.661Z"
   },
   {
    "duration": 59,
    "start_time": "2023-03-12T12:26:27.682Z"
   },
   {
    "duration": 11,
    "start_time": "2023-03-12T12:26:27.742Z"
   },
   {
    "duration": 13,
    "start_time": "2023-03-12T12:26:27.755Z"
   },
   {
    "duration": 7,
    "start_time": "2023-03-12T12:26:27.769Z"
   },
   {
    "duration": 12,
    "start_time": "2023-03-12T12:26:27.778Z"
   },
   {
    "duration": 13,
    "start_time": "2023-03-12T12:26:27.792Z"
   },
   {
    "duration": 7,
    "start_time": "2023-03-12T12:26:27.807Z"
   },
   {
    "duration": 450,
    "start_time": "2023-03-12T12:26:27.816Z"
   },
   {
    "duration": 670,
    "start_time": "2023-03-12T12:26:28.268Z"
   },
   {
    "duration": 316,
    "start_time": "2023-03-12T12:26:28.940Z"
   },
   {
    "duration": 385,
    "start_time": "2023-03-12T12:26:29.258Z"
   },
   {
    "duration": 249,
    "start_time": "2023-03-12T12:26:29.645Z"
   },
   {
    "duration": 387,
    "start_time": "2023-03-12T12:26:29.896Z"
   },
   {
    "duration": 13,
    "start_time": "2023-03-12T12:26:30.285Z"
   },
   {
    "duration": 157,
    "start_time": "2023-03-12T12:26:30.300Z"
   },
   {
    "duration": 7,
    "start_time": "2023-03-12T12:26:30.459Z"
   },
   {
    "duration": 174,
    "start_time": "2023-03-12T12:26:30.468Z"
   },
   {
    "duration": 249,
    "start_time": "2023-03-12T12:26:30.644Z"
   },
   {
    "duration": 4,
    "start_time": "2023-03-12T12:26:30.895Z"
   },
   {
    "duration": 603,
    "start_time": "2023-03-12T12:26:30.901Z"
   },
   {
    "duration": 13,
    "start_time": "2023-03-12T12:26:31.507Z"
   },
   {
    "duration": 50,
    "start_time": "2023-03-12T12:26:31.522Z"
   },
   {
    "duration": 19,
    "start_time": "2023-03-12T12:26:31.574Z"
   }
  ],
  "kernelspec": {
   "display_name": "Python 3 (ipykernel)",
   "language": "python",
   "name": "python3"
  },
  "language_info": {
   "codemirror_mode": {
    "name": "ipython",
    "version": 3
   },
   "file_extension": ".py",
   "mimetype": "text/x-python",
   "name": "python",
   "nbconvert_exporter": "python",
   "pygments_lexer": "ipython3",
   "version": "3.9.5"
  },
  "toc": {
   "base_numbering": 1,
   "nav_menu": {},
   "number_sections": true,
   "sideBar": true,
   "skip_h1_title": true,
   "title_cell": "Table of Contents",
   "title_sidebar": "Contents",
   "toc_cell": false,
   "toc_position": {},
   "toc_section_display": true,
   "toc_window_display": false
  }
 },
 "nbformat": 4,
 "nbformat_minor": 2
}
