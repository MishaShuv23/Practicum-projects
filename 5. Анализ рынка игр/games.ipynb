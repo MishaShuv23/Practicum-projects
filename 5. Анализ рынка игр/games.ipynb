{
 "cells": [
  {
   "cell_type": "markdown",
   "metadata": {},
   "source": [
    "# Изучение закономерностей, определяющих успешность игр"
   ]
  },
  {
   "cell_type": "markdown",
   "metadata": {},
   "source": [
    "В качестве аналитика интернет-магазина «Стримчик», который продаёт по всему миру компьютерные игры, необходимо проанализировать исторические данные о продажах игр, оценки пользователей и экспертов, жанры и платформы (например, Xbox или PlayStation). Также нужно выявить определяющие успешность игры закономерности. Это позволит сделать ставку на потенциально популярный продукт и спланировать рекламные кампании."
   ]
  },
  {
   "cell_type": "markdown",
   "metadata": {},
   "source": [
    "Исходя из данных о продаже игр до 2016 года следует определить закономерности, определябщие успех той или иной игры, для определения успешного продукта и проведения эффективной рекламной кампании."
   ]
  },
  {
   "cell_type": "code",
   "execution_count": 1,
   "metadata": {},
   "outputs": [
    {
     "data": {
      "text/html": [
       "<div>\n",
       "<style scoped>\n",
       "    .dataframe tbody tr th:only-of-type {\n",
       "        vertical-align: middle;\n",
       "    }\n",
       "\n",
       "    .dataframe tbody tr th {\n",
       "        vertical-align: top;\n",
       "    }\n",
       "\n",
       "    .dataframe thead th {\n",
       "        text-align: right;\n",
       "    }\n",
       "</style>\n",
       "<table border=\"1\" class=\"dataframe\">\n",
       "  <thead>\n",
       "    <tr style=\"text-align: right;\">\n",
       "      <th></th>\n",
       "      <th>Name</th>\n",
       "      <th>Platform</th>\n",
       "      <th>Year_of_Release</th>\n",
       "      <th>Genre</th>\n",
       "      <th>NA_sales</th>\n",
       "      <th>EU_sales</th>\n",
       "      <th>JP_sales</th>\n",
       "      <th>Other_sales</th>\n",
       "      <th>Critic_Score</th>\n",
       "      <th>User_Score</th>\n",
       "      <th>Rating</th>\n",
       "    </tr>\n",
       "  </thead>\n",
       "  <tbody>\n",
       "    <tr>\n",
       "      <th>0</th>\n",
       "      <td>Wii Sports</td>\n",
       "      <td>Wii</td>\n",
       "      <td>2006.0</td>\n",
       "      <td>Sports</td>\n",
       "      <td>41.36</td>\n",
       "      <td>28.96</td>\n",
       "      <td>3.77</td>\n",
       "      <td>8.45</td>\n",
       "      <td>76.0</td>\n",
       "      <td>8</td>\n",
       "      <td>E</td>\n",
       "    </tr>\n",
       "    <tr>\n",
       "      <th>1</th>\n",
       "      <td>Super Mario Bros.</td>\n",
       "      <td>NES</td>\n",
       "      <td>1985.0</td>\n",
       "      <td>Platform</td>\n",
       "      <td>29.08</td>\n",
       "      <td>3.58</td>\n",
       "      <td>6.81</td>\n",
       "      <td>0.77</td>\n",
       "      <td>NaN</td>\n",
       "      <td>NaN</td>\n",
       "      <td>NaN</td>\n",
       "    </tr>\n",
       "    <tr>\n",
       "      <th>2</th>\n",
       "      <td>Mario Kart Wii</td>\n",
       "      <td>Wii</td>\n",
       "      <td>2008.0</td>\n",
       "      <td>Racing</td>\n",
       "      <td>15.68</td>\n",
       "      <td>12.76</td>\n",
       "      <td>3.79</td>\n",
       "      <td>3.29</td>\n",
       "      <td>82.0</td>\n",
       "      <td>8.3</td>\n",
       "      <td>E</td>\n",
       "    </tr>\n",
       "    <tr>\n",
       "      <th>3</th>\n",
       "      <td>Wii Sports Resort</td>\n",
       "      <td>Wii</td>\n",
       "      <td>2009.0</td>\n",
       "      <td>Sports</td>\n",
       "      <td>15.61</td>\n",
       "      <td>10.93</td>\n",
       "      <td>3.28</td>\n",
       "      <td>2.95</td>\n",
       "      <td>80.0</td>\n",
       "      <td>8</td>\n",
       "      <td>E</td>\n",
       "    </tr>\n",
       "    <tr>\n",
       "      <th>4</th>\n",
       "      <td>Pokemon Red/Pokemon Blue</td>\n",
       "      <td>GB</td>\n",
       "      <td>1996.0</td>\n",
       "      <td>Role-Playing</td>\n",
       "      <td>11.27</td>\n",
       "      <td>8.89</td>\n",
       "      <td>10.22</td>\n",
       "      <td>1.00</td>\n",
       "      <td>NaN</td>\n",
       "      <td>NaN</td>\n",
       "      <td>NaN</td>\n",
       "    </tr>\n",
       "    <tr>\n",
       "      <th>5</th>\n",
       "      <td>Tetris</td>\n",
       "      <td>GB</td>\n",
       "      <td>1989.0</td>\n",
       "      <td>Puzzle</td>\n",
       "      <td>23.20</td>\n",
       "      <td>2.26</td>\n",
       "      <td>4.22</td>\n",
       "      <td>0.58</td>\n",
       "      <td>NaN</td>\n",
       "      <td>NaN</td>\n",
       "      <td>NaN</td>\n",
       "    </tr>\n",
       "    <tr>\n",
       "      <th>6</th>\n",
       "      <td>New Super Mario Bros.</td>\n",
       "      <td>DS</td>\n",
       "      <td>2006.0</td>\n",
       "      <td>Platform</td>\n",
       "      <td>11.28</td>\n",
       "      <td>9.14</td>\n",
       "      <td>6.50</td>\n",
       "      <td>2.88</td>\n",
       "      <td>89.0</td>\n",
       "      <td>8.5</td>\n",
       "      <td>E</td>\n",
       "    </tr>\n",
       "    <tr>\n",
       "      <th>7</th>\n",
       "      <td>Wii Play</td>\n",
       "      <td>Wii</td>\n",
       "      <td>2006.0</td>\n",
       "      <td>Misc</td>\n",
       "      <td>13.96</td>\n",
       "      <td>9.18</td>\n",
       "      <td>2.93</td>\n",
       "      <td>2.84</td>\n",
       "      <td>58.0</td>\n",
       "      <td>6.6</td>\n",
       "      <td>E</td>\n",
       "    </tr>\n",
       "    <tr>\n",
       "      <th>8</th>\n",
       "      <td>New Super Mario Bros. Wii</td>\n",
       "      <td>Wii</td>\n",
       "      <td>2009.0</td>\n",
       "      <td>Platform</td>\n",
       "      <td>14.44</td>\n",
       "      <td>6.94</td>\n",
       "      <td>4.70</td>\n",
       "      <td>2.24</td>\n",
       "      <td>87.0</td>\n",
       "      <td>8.4</td>\n",
       "      <td>E</td>\n",
       "    </tr>\n",
       "    <tr>\n",
       "      <th>9</th>\n",
       "      <td>Duck Hunt</td>\n",
       "      <td>NES</td>\n",
       "      <td>1984.0</td>\n",
       "      <td>Shooter</td>\n",
       "      <td>26.93</td>\n",
       "      <td>0.63</td>\n",
       "      <td>0.28</td>\n",
       "      <td>0.47</td>\n",
       "      <td>NaN</td>\n",
       "      <td>NaN</td>\n",
       "      <td>NaN</td>\n",
       "    </tr>\n",
       "  </tbody>\n",
       "</table>\n",
       "</div>"
      ],
      "text/plain": [
       "                        Name Platform  Year_of_Release         Genre  \\\n",
       "0                 Wii Sports      Wii           2006.0        Sports   \n",
       "1          Super Mario Bros.      NES           1985.0      Platform   \n",
       "2             Mario Kart Wii      Wii           2008.0        Racing   \n",
       "3          Wii Sports Resort      Wii           2009.0        Sports   \n",
       "4   Pokemon Red/Pokemon Blue       GB           1996.0  Role-Playing   \n",
       "5                     Tetris       GB           1989.0        Puzzle   \n",
       "6      New Super Mario Bros.       DS           2006.0      Platform   \n",
       "7                   Wii Play      Wii           2006.0          Misc   \n",
       "8  New Super Mario Bros. Wii      Wii           2009.0      Platform   \n",
       "9                  Duck Hunt      NES           1984.0       Shooter   \n",
       "\n",
       "   NA_sales  EU_sales  JP_sales  Other_sales  Critic_Score User_Score Rating  \n",
       "0     41.36     28.96      3.77         8.45          76.0          8      E  \n",
       "1     29.08      3.58      6.81         0.77           NaN        NaN    NaN  \n",
       "2     15.68     12.76      3.79         3.29          82.0        8.3      E  \n",
       "3     15.61     10.93      3.28         2.95          80.0          8      E  \n",
       "4     11.27      8.89     10.22         1.00           NaN        NaN    NaN  \n",
       "5     23.20      2.26      4.22         0.58           NaN        NaN    NaN  \n",
       "6     11.28      9.14      6.50         2.88          89.0        8.5      E  \n",
       "7     13.96      9.18      2.93         2.84          58.0        6.6      E  \n",
       "8     14.44      6.94      4.70         2.24          87.0        8.4      E  \n",
       "9     26.93      0.63      0.28         0.47           NaN        NaN    NaN  "
      ]
     },
     "execution_count": 1,
     "metadata": {},
     "output_type": "execute_result"
    }
   ],
   "source": [
    "import pandas as pd \n",
    "import numpy as np\n",
    "import matplotlib.pyplot as plt\n",
    "\n",
    "data = pd.read_csv('/datasets/games.csv')\n",
    "\n",
    "data.head(10) #предварительно ознакамливаемся с данными\n"
   ]
  },
  {
   "cell_type": "markdown",
   "metadata": {},
   "source": [
    "Датасет состоит из 11 столбцов и 16715 строк. Следует приветси названия колонок к нижнему регистру, изменить тип данных, устранить пропуски там, где это возможно."
   ]
  },
  {
   "cell_type": "markdown",
   "metadata": {},
   "source": [
    "## Предобработка данных"
   ]
  },
  {
   "cell_type": "code",
   "execution_count": 2,
   "metadata": {},
   "outputs": [
    {
     "name": "stdout",
     "output_type": "stream",
     "text": [
      "<class 'pandas.core.frame.DataFrame'>\n",
      "RangeIndex: 16715 entries, 0 to 16714\n",
      "Data columns (total 11 columns):\n",
      " #   Column           Non-Null Count  Dtype  \n",
      "---  ------           --------------  -----  \n",
      " 0   Name             16713 non-null  object \n",
      " 1   Platform         16715 non-null  object \n",
      " 2   Year_of_Release  16446 non-null  float64\n",
      " 3   Genre            16713 non-null  object \n",
      " 4   NA_sales         16715 non-null  float64\n",
      " 5   EU_sales         16715 non-null  float64\n",
      " 6   JP_sales         16715 non-null  float64\n",
      " 7   Other_sales      16715 non-null  float64\n",
      " 8   Critic_Score     8137 non-null   float64\n",
      " 9   User_Score       10014 non-null  object \n",
      " 10  Rating           9949 non-null   object \n",
      "dtypes: float64(6), object(5)\n",
      "memory usage: 1.4+ MB\n"
     ]
    },
    {
     "data": {
      "text/plain": [
       "Index(['Name', 'Platform', 'Year_of_Release', 'Genre', 'NA_sales', 'EU_sales',\n",
       "       'JP_sales', 'Other_sales', 'Critic_Score', 'User_Score', 'Rating'],\n",
       "      dtype='object')"
      ]
     },
     "execution_count": 2,
     "metadata": {},
     "output_type": "execute_result"
    }
   ],
   "source": [
    "data.info()\n",
    "\n",
    "data.columns"
   ]
  },
  {
   "cell_type": "code",
   "execution_count": 3,
   "metadata": {},
   "outputs": [
    {
     "data": {
      "text/html": [
       "<div>\n",
       "<style scoped>\n",
       "    .dataframe tbody tr th:only-of-type {\n",
       "        vertical-align: middle;\n",
       "    }\n",
       "\n",
       "    .dataframe tbody tr th {\n",
       "        vertical-align: top;\n",
       "    }\n",
       "\n",
       "    .dataframe thead th {\n",
       "        text-align: right;\n",
       "    }\n",
       "</style>\n",
       "<table border=\"1\" class=\"dataframe\">\n",
       "  <thead>\n",
       "    <tr style=\"text-align: right;\">\n",
       "      <th></th>\n",
       "      <th>name</th>\n",
       "      <th>platform</th>\n",
       "      <th>year_of_release</th>\n",
       "      <th>genre</th>\n",
       "      <th>na_sales</th>\n",
       "      <th>eu_sales</th>\n",
       "      <th>jp_sales</th>\n",
       "      <th>other_sales</th>\n",
       "      <th>critic_score</th>\n",
       "      <th>user_score</th>\n",
       "      <th>rating</th>\n",
       "    </tr>\n",
       "  </thead>\n",
       "  <tbody>\n",
       "    <tr>\n",
       "      <th>0</th>\n",
       "      <td>Wii Sports</td>\n",
       "      <td>Wii</td>\n",
       "      <td>2006.0</td>\n",
       "      <td>Sports</td>\n",
       "      <td>41.36</td>\n",
       "      <td>28.96</td>\n",
       "      <td>3.77</td>\n",
       "      <td>8.45</td>\n",
       "      <td>76.0</td>\n",
       "      <td>8</td>\n",
       "      <td>E</td>\n",
       "    </tr>\n",
       "    <tr>\n",
       "      <th>1</th>\n",
       "      <td>Super Mario Bros.</td>\n",
       "      <td>NES</td>\n",
       "      <td>1985.0</td>\n",
       "      <td>Platform</td>\n",
       "      <td>29.08</td>\n",
       "      <td>3.58</td>\n",
       "      <td>6.81</td>\n",
       "      <td>0.77</td>\n",
       "      <td>NaN</td>\n",
       "      <td>NaN</td>\n",
       "      <td>NaN</td>\n",
       "    </tr>\n",
       "    <tr>\n",
       "      <th>2</th>\n",
       "      <td>Mario Kart Wii</td>\n",
       "      <td>Wii</td>\n",
       "      <td>2008.0</td>\n",
       "      <td>Racing</td>\n",
       "      <td>15.68</td>\n",
       "      <td>12.76</td>\n",
       "      <td>3.79</td>\n",
       "      <td>3.29</td>\n",
       "      <td>82.0</td>\n",
       "      <td>8.3</td>\n",
       "      <td>E</td>\n",
       "    </tr>\n",
       "    <tr>\n",
       "      <th>3</th>\n",
       "      <td>Wii Sports Resort</td>\n",
       "      <td>Wii</td>\n",
       "      <td>2009.0</td>\n",
       "      <td>Sports</td>\n",
       "      <td>15.61</td>\n",
       "      <td>10.93</td>\n",
       "      <td>3.28</td>\n",
       "      <td>2.95</td>\n",
       "      <td>80.0</td>\n",
       "      <td>8</td>\n",
       "      <td>E</td>\n",
       "    </tr>\n",
       "    <tr>\n",
       "      <th>4</th>\n",
       "      <td>Pokemon Red/Pokemon Blue</td>\n",
       "      <td>GB</td>\n",
       "      <td>1996.0</td>\n",
       "      <td>Role-Playing</td>\n",
       "      <td>11.27</td>\n",
       "      <td>8.89</td>\n",
       "      <td>10.22</td>\n",
       "      <td>1.00</td>\n",
       "      <td>NaN</td>\n",
       "      <td>NaN</td>\n",
       "      <td>NaN</td>\n",
       "    </tr>\n",
       "    <tr>\n",
       "      <th>...</th>\n",
       "      <td>...</td>\n",
       "      <td>...</td>\n",
       "      <td>...</td>\n",
       "      <td>...</td>\n",
       "      <td>...</td>\n",
       "      <td>...</td>\n",
       "      <td>...</td>\n",
       "      <td>...</td>\n",
       "      <td>...</td>\n",
       "      <td>...</td>\n",
       "      <td>...</td>\n",
       "    </tr>\n",
       "    <tr>\n",
       "      <th>16710</th>\n",
       "      <td>Samurai Warriors: Sanada Maru</td>\n",
       "      <td>PS3</td>\n",
       "      <td>2016.0</td>\n",
       "      <td>Action</td>\n",
       "      <td>0.00</td>\n",
       "      <td>0.00</td>\n",
       "      <td>0.01</td>\n",
       "      <td>0.00</td>\n",
       "      <td>NaN</td>\n",
       "      <td>NaN</td>\n",
       "      <td>NaN</td>\n",
       "    </tr>\n",
       "    <tr>\n",
       "      <th>16711</th>\n",
       "      <td>LMA Manager 2007</td>\n",
       "      <td>X360</td>\n",
       "      <td>2006.0</td>\n",
       "      <td>Sports</td>\n",
       "      <td>0.00</td>\n",
       "      <td>0.01</td>\n",
       "      <td>0.00</td>\n",
       "      <td>0.00</td>\n",
       "      <td>NaN</td>\n",
       "      <td>NaN</td>\n",
       "      <td>NaN</td>\n",
       "    </tr>\n",
       "    <tr>\n",
       "      <th>16712</th>\n",
       "      <td>Haitaka no Psychedelica</td>\n",
       "      <td>PSV</td>\n",
       "      <td>2016.0</td>\n",
       "      <td>Adventure</td>\n",
       "      <td>0.00</td>\n",
       "      <td>0.00</td>\n",
       "      <td>0.01</td>\n",
       "      <td>0.00</td>\n",
       "      <td>NaN</td>\n",
       "      <td>NaN</td>\n",
       "      <td>NaN</td>\n",
       "    </tr>\n",
       "    <tr>\n",
       "      <th>16713</th>\n",
       "      <td>Spirits &amp; Spells</td>\n",
       "      <td>GBA</td>\n",
       "      <td>2003.0</td>\n",
       "      <td>Platform</td>\n",
       "      <td>0.01</td>\n",
       "      <td>0.00</td>\n",
       "      <td>0.00</td>\n",
       "      <td>0.00</td>\n",
       "      <td>NaN</td>\n",
       "      <td>NaN</td>\n",
       "      <td>NaN</td>\n",
       "    </tr>\n",
       "    <tr>\n",
       "      <th>16714</th>\n",
       "      <td>Winning Post 8 2016</td>\n",
       "      <td>PSV</td>\n",
       "      <td>2016.0</td>\n",
       "      <td>Simulation</td>\n",
       "      <td>0.00</td>\n",
       "      <td>0.00</td>\n",
       "      <td>0.01</td>\n",
       "      <td>0.00</td>\n",
       "      <td>NaN</td>\n",
       "      <td>NaN</td>\n",
       "      <td>NaN</td>\n",
       "    </tr>\n",
       "  </tbody>\n",
       "</table>\n",
       "<p>16715 rows × 11 columns</p>\n",
       "</div>"
      ],
      "text/plain": [
       "                                name platform  year_of_release         genre  \\\n",
       "0                         Wii Sports      Wii           2006.0        Sports   \n",
       "1                  Super Mario Bros.      NES           1985.0      Platform   \n",
       "2                     Mario Kart Wii      Wii           2008.0        Racing   \n",
       "3                  Wii Sports Resort      Wii           2009.0        Sports   \n",
       "4           Pokemon Red/Pokemon Blue       GB           1996.0  Role-Playing   \n",
       "...                              ...      ...              ...           ...   \n",
       "16710  Samurai Warriors: Sanada Maru      PS3           2016.0        Action   \n",
       "16711               LMA Manager 2007     X360           2006.0        Sports   \n",
       "16712        Haitaka no Psychedelica      PSV           2016.0     Adventure   \n",
       "16713               Spirits & Spells      GBA           2003.0      Platform   \n",
       "16714            Winning Post 8 2016      PSV           2016.0    Simulation   \n",
       "\n",
       "       na_sales  eu_sales  jp_sales  other_sales  critic_score user_score  \\\n",
       "0         41.36     28.96      3.77         8.45          76.0          8   \n",
       "1         29.08      3.58      6.81         0.77           NaN        NaN   \n",
       "2         15.68     12.76      3.79         3.29          82.0        8.3   \n",
       "3         15.61     10.93      3.28         2.95          80.0          8   \n",
       "4         11.27      8.89     10.22         1.00           NaN        NaN   \n",
       "...         ...       ...       ...          ...           ...        ...   \n",
       "16710      0.00      0.00      0.01         0.00           NaN        NaN   \n",
       "16711      0.00      0.01      0.00         0.00           NaN        NaN   \n",
       "16712      0.00      0.00      0.01         0.00           NaN        NaN   \n",
       "16713      0.01      0.00      0.00         0.00           NaN        NaN   \n",
       "16714      0.00      0.00      0.01         0.00           NaN        NaN   \n",
       "\n",
       "      rating  \n",
       "0          E  \n",
       "1        NaN  \n",
       "2          E  \n",
       "3          E  \n",
       "4        NaN  \n",
       "...      ...  \n",
       "16710    NaN  \n",
       "16711    NaN  \n",
       "16712    NaN  \n",
       "16713    NaN  \n",
       "16714    NaN  \n",
       "\n",
       "[16715 rows x 11 columns]"
      ]
     },
     "execution_count": 3,
     "metadata": {},
     "output_type": "execute_result"
    }
   ],
   "source": [
    "data.columns = data.columns.str.lower()\n",
    "data\n",
    "#приводим название всех столбцов к нижнему регистру"
   ]
  },
  {
   "cell_type": "code",
   "execution_count": 4,
   "metadata": {},
   "outputs": [
    {
     "data": {
      "text/plain": [
       "array([2006., 1985., 2008., 2009., 1996., 1989., 1984., 2005., 1999.,\n",
       "       2007., 2010., 2013., 2004., 1990., 1988., 2002., 2001., 2011.,\n",
       "       1998., 2015., 2012., 2014., 1992., 1997., 1993., 1994., 1982.,\n",
       "       2016., 2003., 1986., 2000., 1995., 1991., 1981., 1987., 1980.,\n",
       "       1983.])"
      ]
     },
     "execution_count": 4,
     "metadata": {},
     "output_type": "execute_result"
    }
   ],
   "source": [
    "data['year_of_release'].unique()\n",
    "data = data.dropna(subset = ['year_of_release'])\n",
    "data['year_of_release'].unique()"
   ]
  },
  {
   "cell_type": "code",
   "execution_count": 5,
   "metadata": {},
   "outputs": [
    {
     "name": "stderr",
     "output_type": "stream",
     "text": [
      "/opt/conda/lib/python3.9/site-packages/pandas/core/indexing.py:1720: SettingWithCopyWarning: \n",
      "A value is trying to be set on a copy of a slice from a DataFrame.\n",
      "Try using .loc[row_indexer,col_indexer] = value instead\n",
      "\n",
      "See the caveats in the documentation: https://pandas.pydata.org/pandas-docs/stable/user_guide/indexing.html#returning-a-view-versus-a-copy\n",
      "  self._setitem_single_column(loc, value, pi)\n",
      "/tmp/ipykernel_116/3849135232.py:7: SettingWithCopyWarning: \n",
      "A value is trying to be set on a copy of a slice from a DataFrame.\n",
      "Try using .loc[row_indexer,col_indexer] = value instead\n",
      "\n",
      "See the caveats in the documentation: https://pandas.pydata.org/pandas-docs/stable/user_guide/indexing.html#returning-a-view-versus-a-copy\n",
      "  data['user_score'] = data['user_score'].astype('float')\n",
      "/tmp/ipykernel_116/3849135232.py:8: SettingWithCopyWarning: \n",
      "A value is trying to be set on a copy of a slice from a DataFrame.\n",
      "Try using .loc[row_indexer,col_indexer] = value instead\n",
      "\n",
      "See the caveats in the documentation: https://pandas.pydata.org/pandas-docs/stable/user_guide/indexing.html#returning-a-view-versus-a-copy\n",
      "  data['user_score'] = data['user_score'].fillna(0)\n"
     ]
    },
    {
     "data": {
      "text/plain": [
       "<bound method NDFrame.describe of 0        8.0\n",
       "1        0.0\n",
       "2        8.3\n",
       "3        8.0\n",
       "4        0.0\n",
       "        ... \n",
       "16710    0.0\n",
       "16711    0.0\n",
       "16712    0.0\n",
       "16713    0.0\n",
       "16714    0.0\n",
       "Name: user_score, Length: 16446, dtype: float64>"
      ]
     },
     "execution_count": 5,
     "metadata": {},
     "output_type": "execute_result"
    }
   ],
   "source": [
    "data['user_score'].unique()\n",
    " \n",
    "data.loc[data['user_score'] == 'tbd', 'user_score'] = np.NaN\n",
    "\n",
    "data['user_score'].unique()\n",
    "\n",
    "data['user_score'] = data['user_score'].astype('float')\n",
    "data['user_score'] = data['user_score'].fillna(0)\n",
    "data['user_score'].describe\n",
    "#термин tbd означает to be determined, то есть соответсвует Nan"
   ]
  },
  {
   "cell_type": "code",
   "execution_count": 6,
   "metadata": {},
   "outputs": [
    {
     "name": "stderr",
     "output_type": "stream",
     "text": [
      "/tmp/ipykernel_116/4233443537.py:1: SettingWithCopyWarning: \n",
      "A value is trying to be set on a copy of a slice from a DataFrame.\n",
      "Try using .loc[row_indexer,col_indexer] = value instead\n",
      "\n",
      "See the caveats in the documentation: https://pandas.pydata.org/pandas-docs/stable/user_guide/indexing.html#returning-a-view-versus-a-copy\n",
      "  data['name'] = data['name'].dropna() #удаляем пропуски, так как их очень мало\n",
      "/tmp/ipykernel_116/4233443537.py:2: SettingWithCopyWarning: \n",
      "A value is trying to be set on a copy of a slice from a DataFrame.\n",
      "Try using .loc[row_indexer,col_indexer] = value instead\n",
      "\n",
      "See the caveats in the documentation: https://pandas.pydata.org/pandas-docs/stable/user_guide/indexing.html#returning-a-view-versus-a-copy\n",
      "  data['year_of_release'] = data['year_of_release'].dropna() #удаляем пропуски, так как их очень мало\n"
     ]
    }
   ],
   "source": [
    "data['name'] = data['name'].dropna() #удаляем пропуски, так как их очень мало\n",
    "data['year_of_release'] = data['year_of_release'].dropna() #удаляем пропуски, так как их очень мало"
   ]
  },
  {
   "cell_type": "code",
   "execution_count": 7,
   "metadata": {},
   "outputs": [
    {
     "name": "stderr",
     "output_type": "stream",
     "text": [
      "/tmp/ipykernel_116/471098759.py:1: SettingWithCopyWarning: \n",
      "A value is trying to be set on a copy of a slice from a DataFrame.\n",
      "Try using .loc[row_indexer,col_indexer] = value instead\n",
      "\n",
      "See the caveats in the documentation: https://pandas.pydata.org/pandas-docs/stable/user_guide/indexing.html#returning-a-view-versus-a-copy\n",
      "  data['all_sales'] = data['na_sales'] + data['eu_sales'] + data['jp_sales'] + data['other_sales']\n"
     ]
    }
   ],
   "source": [
    "data['all_sales'] = data['na_sales'] + data['eu_sales'] + data['jp_sales'] + data['other_sales']\n",
    "#создадим столбец с суммой продаж во всех регионах"
   ]
  },
  {
   "cell_type": "code",
   "execution_count": 8,
   "metadata": {},
   "outputs": [
    {
     "data": {
      "text/plain": [
       "0"
      ]
     },
     "execution_count": 8,
     "metadata": {},
     "output_type": "execute_result"
    }
   ],
   "source": [
    "data.duplicated().sum()"
   ]
  },
  {
   "cell_type": "code",
   "execution_count": 9,
   "metadata": {},
   "outputs": [
    {
     "data": {
      "text/html": [
       "<div>\n",
       "<style scoped>\n",
       "    .dataframe tbody tr th:only-of-type {\n",
       "        vertical-align: middle;\n",
       "    }\n",
       "\n",
       "    .dataframe tbody tr th {\n",
       "        vertical-align: top;\n",
       "    }\n",
       "\n",
       "    .dataframe thead th {\n",
       "        text-align: right;\n",
       "    }\n",
       "</style>\n",
       "<table border=\"1\" class=\"dataframe\">\n",
       "  <thead>\n",
       "    <tr style=\"text-align: right;\">\n",
       "      <th></th>\n",
       "      <th>name</th>\n",
       "      <th>platform</th>\n",
       "      <th>year_of_release</th>\n",
       "      <th>genre</th>\n",
       "      <th>na_sales</th>\n",
       "      <th>eu_sales</th>\n",
       "      <th>jp_sales</th>\n",
       "      <th>other_sales</th>\n",
       "      <th>critic_score</th>\n",
       "      <th>user_score</th>\n",
       "      <th>rating</th>\n",
       "      <th>all_sales</th>\n",
       "    </tr>\n",
       "  </thead>\n",
       "  <tbody>\n",
       "    <tr>\n",
       "      <th>0</th>\n",
       "      <td>Wii Sports</td>\n",
       "      <td>Wii</td>\n",
       "      <td>2006.0</td>\n",
       "      <td>Sports</td>\n",
       "      <td>41.36</td>\n",
       "      <td>28.96</td>\n",
       "      <td>3.77</td>\n",
       "      <td>8.45</td>\n",
       "      <td>76.0</td>\n",
       "      <td>8.0</td>\n",
       "      <td>E</td>\n",
       "      <td>82.54</td>\n",
       "    </tr>\n",
       "    <tr>\n",
       "      <th>1</th>\n",
       "      <td>Super Mario Bros.</td>\n",
       "      <td>NES</td>\n",
       "      <td>1985.0</td>\n",
       "      <td>Platform</td>\n",
       "      <td>29.08</td>\n",
       "      <td>3.58</td>\n",
       "      <td>6.81</td>\n",
       "      <td>0.77</td>\n",
       "      <td>NaN</td>\n",
       "      <td>0.0</td>\n",
       "      <td>NaN</td>\n",
       "      <td>40.24</td>\n",
       "    </tr>\n",
       "    <tr>\n",
       "      <th>2</th>\n",
       "      <td>Mario Kart Wii</td>\n",
       "      <td>Wii</td>\n",
       "      <td>2008.0</td>\n",
       "      <td>Racing</td>\n",
       "      <td>15.68</td>\n",
       "      <td>12.76</td>\n",
       "      <td>3.79</td>\n",
       "      <td>3.29</td>\n",
       "      <td>82.0</td>\n",
       "      <td>8.3</td>\n",
       "      <td>E</td>\n",
       "      <td>35.52</td>\n",
       "    </tr>\n",
       "    <tr>\n",
       "      <th>3</th>\n",
       "      <td>Wii Sports Resort</td>\n",
       "      <td>Wii</td>\n",
       "      <td>2009.0</td>\n",
       "      <td>Sports</td>\n",
       "      <td>15.61</td>\n",
       "      <td>10.93</td>\n",
       "      <td>3.28</td>\n",
       "      <td>2.95</td>\n",
       "      <td>80.0</td>\n",
       "      <td>8.0</td>\n",
       "      <td>E</td>\n",
       "      <td>32.77</td>\n",
       "    </tr>\n",
       "    <tr>\n",
       "      <th>4</th>\n",
       "      <td>Pokemon Red/Pokemon Blue</td>\n",
       "      <td>GB</td>\n",
       "      <td>1996.0</td>\n",
       "      <td>Role-Playing</td>\n",
       "      <td>11.27</td>\n",
       "      <td>8.89</td>\n",
       "      <td>10.22</td>\n",
       "      <td>1.00</td>\n",
       "      <td>NaN</td>\n",
       "      <td>0.0</td>\n",
       "      <td>NaN</td>\n",
       "      <td>31.38</td>\n",
       "    </tr>\n",
       "  </tbody>\n",
       "</table>\n",
       "</div>"
      ],
      "text/plain": [
       "                       name platform  year_of_release         genre  na_sales  \\\n",
       "0                Wii Sports      Wii           2006.0        Sports     41.36   \n",
       "1         Super Mario Bros.      NES           1985.0      Platform     29.08   \n",
       "2            Mario Kart Wii      Wii           2008.0        Racing     15.68   \n",
       "3         Wii Sports Resort      Wii           2009.0        Sports     15.61   \n",
       "4  Pokemon Red/Pokemon Blue       GB           1996.0  Role-Playing     11.27   \n",
       "\n",
       "   eu_sales  jp_sales  other_sales  critic_score  user_score rating  all_sales  \n",
       "0     28.96      3.77         8.45          76.0         8.0      E      82.54  \n",
       "1      3.58      6.81         0.77           NaN         0.0    NaN      40.24  \n",
       "2     12.76      3.79         3.29          82.0         8.3      E      35.52  \n",
       "3     10.93      3.28         2.95          80.0         8.0      E      32.77  \n",
       "4      8.89     10.22         1.00           NaN         0.0    NaN      31.38  "
      ]
     },
     "execution_count": 9,
     "metadata": {},
     "output_type": "execute_result"
    }
   ],
   "source": [
    "data.head()"
   ]
  },
  {
   "cell_type": "markdown",
   "metadata": {},
   "source": [
    "## Исследовательский анализ данных"
   ]
  },
  {
   "cell_type": "code",
   "execution_count": 10,
   "metadata": {},
   "outputs": [
    {
     "name": "stderr",
     "output_type": "stream",
     "text": [
      "/tmp/ipykernel_116/3547640017.py:2: SettingWithCopyWarning: \n",
      "A value is trying to be set on a copy of a slice from a DataFrame.\n",
      "Try using .loc[row_indexer,col_indexer] = value instead\n",
      "\n",
      "See the caveats in the documentation: https://pandas.pydata.org/pandas-docs/stable/user_guide/indexing.html#returning-a-view-versus-a-copy\n",
      "  data['year_of_release'] = data.loc[data['year_of_release'] != 0, 'year_of_release']\n"
     ]
    },
    {
     "data": {
      "text/plain": [
       "<AxesSubplot:title={'center':'Выход игр по годам'}, xlabel='year_of_release'>"
      ]
     },
     "execution_count": 10,
     "metadata": {},
     "output_type": "execute_result"
    },
    {
     "data": {
      "image/png": "[encoded data removed]",
      "text/plain": [
       "<Figure size 1440x360 with 1 Axes>"
      ]
     },
     "metadata": {
      "needs_background": "light"
     },
     "output_type": "display_data"
    }
   ],
   "source": [
    "data['year_of_release'].unique()\n",
    "data['year_of_release'] = data.loc[data['year_of_release'] != 0, 'year_of_release']\n",
    "data['year_of_release'].unique()\n",
    "data.groupby('year_of_release')['name'].count()\n",
    "data.groupby('year_of_release')['name'].count().plot(figsize = (20,5), grid=True, title = 'Выход игр по годам')"
   ]
  },
  {
   "cell_type": "markdown",
   "metadata": {},
   "source": [
    "Значений до 1994 года слишком мало по сравнению с последующими годами. Резкий \"взлет\" начался с приходом нового века, а в 2008 году наблюдался пик."
   ]
  },
  {
   "cell_type": "code",
   "execution_count": 11,
   "metadata": {},
   "outputs": [
    {
     "data": {
      "text/plain": [
       "<AxesSubplot:title={'center':'Продажи игр по платформам'}, xlabel='platform'>"
      ]
     },
     "execution_count": 11,
     "metadata": {},
     "output_type": "execute_result"
    },
    {
     "data": {
      "image/png": "[encoded data removed]",
      "text/plain": [
       "<Figure size 432x288 with 1 Axes>"
      ]
     },
     "metadata": {
      "needs_background": "light"
     },
     "output_type": "display_data"
    }
   ],
   "source": [
    "data['platform'].unique()\n",
    "platform_pivot = data.pivot_table(index='platform', values = 'all_sales', aggfunc='sum')\n",
    "platform_pivot.sort_values(by = 'all_sales', ascending = False)\n",
    "\n",
    "platform_pivot = platform_pivot.loc[platform_pivot['all_sales'] > 100] \n",
    "platform_pivot.sort_values(by = 'all_sales', ascending = False).plot(kind = 'bar', title = 'Продажи игр по платформам')\n",
    "\n"
   ]
  },
  {
   "cell_type": "code",
   "execution_count": 12,
   "metadata": {},
   "outputs": [
    {
     "data": {
      "text/html": [
       "<div>\n",
       "<style scoped>\n",
       "    .dataframe tbody tr th:only-of-type {\n",
       "        vertical-align: middle;\n",
       "    }\n",
       "\n",
       "    .dataframe tbody tr th {\n",
       "        vertical-align: top;\n",
       "    }\n",
       "\n",
       "    .dataframe thead th {\n",
       "        text-align: right;\n",
       "    }\n",
       "</style>\n",
       "<table border=\"1\" class=\"dataframe\">\n",
       "  <thead>\n",
       "    <tr style=\"text-align: right;\">\n",
       "      <th></th>\n",
       "      <th></th>\n",
       "      <th>all_sales</th>\n",
       "    </tr>\n",
       "    <tr>\n",
       "      <th>year_of_release</th>\n",
       "      <th>platform</th>\n",
       "      <th></th>\n",
       "    </tr>\n",
       "  </thead>\n",
       "  <tbody>\n",
       "    <tr>\n",
       "      <th rowspan=\"5\" valign=\"top\">2016.0</th>\n",
       "      <th>PS4</th>\n",
       "      <td>69.25</td>\n",
       "    </tr>\n",
       "    <tr>\n",
       "      <th>XOne</th>\n",
       "      <td>26.15</td>\n",
       "    </tr>\n",
       "    <tr>\n",
       "      <th>3DS</th>\n",
       "      <td>15.14</td>\n",
       "    </tr>\n",
       "    <tr>\n",
       "      <th>PC</th>\n",
       "      <td>5.25</td>\n",
       "    </tr>\n",
       "    <tr>\n",
       "      <th>WiiU</th>\n",
       "      <td>4.60</td>\n",
       "    </tr>\n",
       "    <tr>\n",
       "      <th>...</th>\n",
       "      <th>...</th>\n",
       "      <td>...</td>\n",
       "    </tr>\n",
       "    <tr>\n",
       "      <th rowspan=\"2\" valign=\"top\">1983.0</th>\n",
       "      <th>NES</th>\n",
       "      <td>10.96</td>\n",
       "    </tr>\n",
       "    <tr>\n",
       "      <th>2600</th>\n",
       "      <td>5.84</td>\n",
       "    </tr>\n",
       "    <tr>\n",
       "      <th>1982.0</th>\n",
       "      <th>2600</th>\n",
       "      <td>28.88</td>\n",
       "    </tr>\n",
       "    <tr>\n",
       "      <th>1981.0</th>\n",
       "      <th>2600</th>\n",
       "      <td>35.68</td>\n",
       "    </tr>\n",
       "    <tr>\n",
       "      <th>1980.0</th>\n",
       "      <th>2600</th>\n",
       "      <td>11.38</td>\n",
       "    </tr>\n",
       "  </tbody>\n",
       "</table>\n",
       "<p>238 rows × 1 columns</p>\n",
       "</div>"
      ],
      "text/plain": [
       "                          all_sales\n",
       "year_of_release platform           \n",
       "2016.0          PS4           69.25\n",
       "                XOne          26.15\n",
       "                3DS           15.14\n",
       "                PC             5.25\n",
       "                WiiU           4.60\n",
       "...                             ...\n",
       "1983.0          NES           10.96\n",
       "                2600           5.84\n",
       "1982.0          2600          28.88\n",
       "1981.0          2600          35.68\n",
       "1980.0          2600          11.38\n",
       "\n",
       "[238 rows x 1 columns]"
      ]
     },
     "execution_count": 12,
     "metadata": {},
     "output_type": "execute_result"
    }
   ],
   "source": [
    "data_platform = data[['platform', 'year_of_release', 'all_sales']]\n",
    "data_platform = data_platform.groupby(['year_of_release', 'platform']).sum()\n",
    "data_platform = data_platform.sort_values(by = ['year_of_release', 'all_sales'], ascending = False)\n",
    "data_platform"
   ]
  },
  {
   "cell_type": "code",
   "execution_count": 13,
   "metadata": {},
   "outputs": [
    {
     "data": {
      "text/html": [
       "<div>\n",
       "<style scoped>\n",
       "    .dataframe tbody tr th:only-of-type {\n",
       "        vertical-align: middle;\n",
       "    }\n",
       "\n",
       "    .dataframe tbody tr th {\n",
       "        vertical-align: top;\n",
       "    }\n",
       "\n",
       "    .dataframe thead th {\n",
       "        text-align: right;\n",
       "    }\n",
       "</style>\n",
       "<table border=\"1\" class=\"dataframe\">\n",
       "  <thead>\n",
       "    <tr style=\"text-align: right;\">\n",
       "      <th></th>\n",
       "      <th>platform</th>\n",
       "    </tr>\n",
       "    <tr>\n",
       "      <th>year_of_release</th>\n",
       "      <th></th>\n",
       "    </tr>\n",
       "  </thead>\n",
       "  <tbody>\n",
       "    <tr>\n",
       "      <th>1980.0</th>\n",
       "      <td>2600</td>\n",
       "    </tr>\n",
       "    <tr>\n",
       "      <th>1981.0</th>\n",
       "      <td>2600</td>\n",
       "    </tr>\n",
       "    <tr>\n",
       "      <th>1982.0</th>\n",
       "      <td>2600</td>\n",
       "    </tr>\n",
       "    <tr>\n",
       "      <th>1983.0</th>\n",
       "      <td>NES</td>\n",
       "    </tr>\n",
       "    <tr>\n",
       "      <th>1984.0</th>\n",
       "      <td>NES</td>\n",
       "    </tr>\n",
       "    <tr>\n",
       "      <th>1985.0</th>\n",
       "      <td>PC</td>\n",
       "    </tr>\n",
       "    <tr>\n",
       "      <th>1986.0</th>\n",
       "      <td>NES</td>\n",
       "    </tr>\n",
       "    <tr>\n",
       "      <th>1987.0</th>\n",
       "      <td>NES</td>\n",
       "    </tr>\n",
       "    <tr>\n",
       "      <th>1988.0</th>\n",
       "      <td>PC</td>\n",
       "    </tr>\n",
       "    <tr>\n",
       "      <th>1989.0</th>\n",
       "      <td>NES</td>\n",
       "    </tr>\n",
       "    <tr>\n",
       "      <th>1990.0</th>\n",
       "      <td>SNES</td>\n",
       "    </tr>\n",
       "    <tr>\n",
       "      <th>1991.0</th>\n",
       "      <td>SNES</td>\n",
       "    </tr>\n",
       "    <tr>\n",
       "      <th>1992.0</th>\n",
       "      <td>SNES</td>\n",
       "    </tr>\n",
       "    <tr>\n",
       "      <th>1993.0</th>\n",
       "      <td>SNES</td>\n",
       "    </tr>\n",
       "    <tr>\n",
       "      <th>1994.0</th>\n",
       "      <td>SNES</td>\n",
       "    </tr>\n",
       "    <tr>\n",
       "      <th>1995.0</th>\n",
       "      <td>TG16</td>\n",
       "    </tr>\n",
       "    <tr>\n",
       "      <th>1996.0</th>\n",
       "      <td>SNES</td>\n",
       "    </tr>\n",
       "    <tr>\n",
       "      <th>1997.0</th>\n",
       "      <td>SNES</td>\n",
       "    </tr>\n",
       "    <tr>\n",
       "      <th>1998.0</th>\n",
       "      <td>SNES</td>\n",
       "    </tr>\n",
       "    <tr>\n",
       "      <th>1999.0</th>\n",
       "      <td>WS</td>\n",
       "    </tr>\n",
       "    <tr>\n",
       "      <th>2000.0</th>\n",
       "      <td>XB</td>\n",
       "    </tr>\n",
       "    <tr>\n",
       "      <th>2001.0</th>\n",
       "      <td>XB</td>\n",
       "    </tr>\n",
       "    <tr>\n",
       "      <th>2002.0</th>\n",
       "      <td>XB</td>\n",
       "    </tr>\n",
       "    <tr>\n",
       "      <th>2003.0</th>\n",
       "      <td>XB</td>\n",
       "    </tr>\n",
       "    <tr>\n",
       "      <th>2004.0</th>\n",
       "      <td>XB</td>\n",
       "    </tr>\n",
       "    <tr>\n",
       "      <th>2005.0</th>\n",
       "      <td>XB</td>\n",
       "    </tr>\n",
       "    <tr>\n",
       "      <th>2006.0</th>\n",
       "      <td>XB</td>\n",
       "    </tr>\n",
       "    <tr>\n",
       "      <th>2007.0</th>\n",
       "      <td>XB</td>\n",
       "    </tr>\n",
       "    <tr>\n",
       "      <th>2008.0</th>\n",
       "      <td>XB</td>\n",
       "    </tr>\n",
       "    <tr>\n",
       "      <th>2009.0</th>\n",
       "      <td>X360</td>\n",
       "    </tr>\n",
       "    <tr>\n",
       "      <th>2010.0</th>\n",
       "      <td>X360</td>\n",
       "    </tr>\n",
       "    <tr>\n",
       "      <th>2011.0</th>\n",
       "      <td>X360</td>\n",
       "    </tr>\n",
       "    <tr>\n",
       "      <th>2012.0</th>\n",
       "      <td>X360</td>\n",
       "    </tr>\n",
       "    <tr>\n",
       "      <th>2013.0</th>\n",
       "      <td>XOne</td>\n",
       "    </tr>\n",
       "    <tr>\n",
       "      <th>2014.0</th>\n",
       "      <td>XOne</td>\n",
       "    </tr>\n",
       "    <tr>\n",
       "      <th>2015.0</th>\n",
       "      <td>XOne</td>\n",
       "    </tr>\n",
       "    <tr>\n",
       "      <th>2016.0</th>\n",
       "      <td>XOne</td>\n",
       "    </tr>\n",
       "  </tbody>\n",
       "</table>\n",
       "</div>"
      ],
      "text/plain": [
       "                platform\n",
       "year_of_release         \n",
       "1980.0              2600\n",
       "1981.0              2600\n",
       "1982.0              2600\n",
       "1983.0               NES\n",
       "1984.0               NES\n",
       "1985.0                PC\n",
       "1986.0               NES\n",
       "1987.0               NES\n",
       "1988.0                PC\n",
       "1989.0               NES\n",
       "1990.0              SNES\n",
       "1991.0              SNES\n",
       "1992.0              SNES\n",
       "1993.0              SNES\n",
       "1994.0              SNES\n",
       "1995.0              TG16\n",
       "1996.0              SNES\n",
       "1997.0              SNES\n",
       "1998.0              SNES\n",
       "1999.0                WS\n",
       "2000.0                XB\n",
       "2001.0                XB\n",
       "2002.0                XB\n",
       "2003.0                XB\n",
       "2004.0                XB\n",
       "2005.0                XB\n",
       "2006.0                XB\n",
       "2007.0                XB\n",
       "2008.0                XB\n",
       "2009.0              X360\n",
       "2010.0              X360\n",
       "2011.0              X360\n",
       "2012.0              X360\n",
       "2013.0              XOne\n",
       "2014.0              XOne\n",
       "2015.0              XOne\n",
       "2016.0              XOne"
      ]
     },
     "execution_count": 13,
     "metadata": {},
     "output_type": "execute_result"
    }
   ],
   "source": [
    "year_platforms_pivot = data.pivot_table(index = 'year_of_release', values = 'platform', aggfunc = 'max')\n",
    "year_platforms_pivot.sort_values(by ='year_of_release') #самые популярные платформы по годам"
   ]
  },
  {
   "cell_type": "markdown",
   "metadata": {},
   "source": [
    "Последние годы (2013-2016) самой популярной приставкой считается XOne."
   ]
  },
  {
   "cell_type": "markdown",
   "metadata": {},
   "source": [
    "Актуальными данными для составления прогноза на 2017 год будут являться данные начиная с 2013 года. В этот период появились новые поколеняе игровых платформ, а количество выпускаемых игр ежегодно в этот период было примерно равным"
   ]
  },
  {
   "cell_type": "code",
   "execution_count": 14,
   "metadata": {},
   "outputs": [],
   "source": [
    "data2=data.loc[data['year_of_release'] > 2012]\n",
    "data2 = data2.reset_index()\n",
    "#оставим в датасете только нужные данные"
   ]
  },
  {
   "cell_type": "code",
   "execution_count": 15,
   "metadata": {},
   "outputs": [
    {
     "data": {
      "text/html": [
       "<div>\n",
       "<style scoped>\n",
       "    .dataframe tbody tr th:only-of-type {\n",
       "        vertical-align: middle;\n",
       "    }\n",
       "\n",
       "    .dataframe tbody tr th {\n",
       "        vertical-align: top;\n",
       "    }\n",
       "\n",
       "    .dataframe thead th {\n",
       "        text-align: right;\n",
       "    }\n",
       "</style>\n",
       "<table border=\"1\" class=\"dataframe\">\n",
       "  <thead>\n",
       "    <tr style=\"text-align: right;\">\n",
       "      <th></th>\n",
       "      <th>index</th>\n",
       "      <th>name</th>\n",
       "      <th>platform</th>\n",
       "      <th>year_of_release</th>\n",
       "      <th>genre</th>\n",
       "      <th>na_sales</th>\n",
       "      <th>eu_sales</th>\n",
       "      <th>jp_sales</th>\n",
       "      <th>other_sales</th>\n",
       "      <th>critic_score</th>\n",
       "      <th>user_score</th>\n",
       "      <th>rating</th>\n",
       "      <th>all_sales</th>\n",
       "    </tr>\n",
       "  </thead>\n",
       "  <tbody>\n",
       "    <tr>\n",
       "      <th>0</th>\n",
       "      <td>16</td>\n",
       "      <td>Grand Theft Auto V</td>\n",
       "      <td>PS3</td>\n",
       "      <td>2013.0</td>\n",
       "      <td>Action</td>\n",
       "      <td>7.02</td>\n",
       "      <td>9.09</td>\n",
       "      <td>0.98</td>\n",
       "      <td>3.96</td>\n",
       "      <td>97.0</td>\n",
       "      <td>8.2</td>\n",
       "      <td>M</td>\n",
       "      <td>21.05</td>\n",
       "    </tr>\n",
       "    <tr>\n",
       "      <th>1</th>\n",
       "      <td>23</td>\n",
       "      <td>Grand Theft Auto V</td>\n",
       "      <td>X360</td>\n",
       "      <td>2013.0</td>\n",
       "      <td>Action</td>\n",
       "      <td>9.66</td>\n",
       "      <td>5.14</td>\n",
       "      <td>0.06</td>\n",
       "      <td>1.41</td>\n",
       "      <td>97.0</td>\n",
       "      <td>8.1</td>\n",
       "      <td>M</td>\n",
       "      <td>16.27</td>\n",
       "    </tr>\n",
       "    <tr>\n",
       "      <th>2</th>\n",
       "      <td>31</td>\n",
       "      <td>Call of Duty: Black Ops 3</td>\n",
       "      <td>PS4</td>\n",
       "      <td>2015.0</td>\n",
       "      <td>Shooter</td>\n",
       "      <td>6.03</td>\n",
       "      <td>5.86</td>\n",
       "      <td>0.36</td>\n",
       "      <td>2.38</td>\n",
       "      <td>NaN</td>\n",
       "      <td>0.0</td>\n",
       "      <td>NaN</td>\n",
       "      <td>14.63</td>\n",
       "    </tr>\n",
       "    <tr>\n",
       "      <th>3</th>\n",
       "      <td>33</td>\n",
       "      <td>Pokemon X/Pokemon Y</td>\n",
       "      <td>3DS</td>\n",
       "      <td>2013.0</td>\n",
       "      <td>Role-Playing</td>\n",
       "      <td>5.28</td>\n",
       "      <td>4.19</td>\n",
       "      <td>4.35</td>\n",
       "      <td>0.78</td>\n",
       "      <td>NaN</td>\n",
       "      <td>0.0</td>\n",
       "      <td>NaN</td>\n",
       "      <td>14.60</td>\n",
       "    </tr>\n",
       "    <tr>\n",
       "      <th>4</th>\n",
       "      <td>42</td>\n",
       "      <td>Grand Theft Auto V</td>\n",
       "      <td>PS4</td>\n",
       "      <td>2014.0</td>\n",
       "      <td>Action</td>\n",
       "      <td>3.96</td>\n",
       "      <td>6.31</td>\n",
       "      <td>0.38</td>\n",
       "      <td>1.97</td>\n",
       "      <td>97.0</td>\n",
       "      <td>8.3</td>\n",
       "      <td>M</td>\n",
       "      <td>12.62</td>\n",
       "    </tr>\n",
       "    <tr>\n",
       "      <th>...</th>\n",
       "      <td>...</td>\n",
       "      <td>...</td>\n",
       "      <td>...</td>\n",
       "      <td>...</td>\n",
       "      <td>...</td>\n",
       "      <td>...</td>\n",
       "      <td>...</td>\n",
       "      <td>...</td>\n",
       "      <td>...</td>\n",
       "      <td>...</td>\n",
       "      <td>...</td>\n",
       "      <td>...</td>\n",
       "      <td>...</td>\n",
       "    </tr>\n",
       "    <tr>\n",
       "      <th>2228</th>\n",
       "      <td>16703</td>\n",
       "      <td>Strawberry Nauts</td>\n",
       "      <td>PSV</td>\n",
       "      <td>2016.0</td>\n",
       "      <td>Adventure</td>\n",
       "      <td>0.00</td>\n",
       "      <td>0.00</td>\n",
       "      <td>0.01</td>\n",
       "      <td>0.00</td>\n",
       "      <td>NaN</td>\n",
       "      <td>0.0</td>\n",
       "      <td>NaN</td>\n",
       "      <td>0.01</td>\n",
       "    </tr>\n",
       "    <tr>\n",
       "      <th>2229</th>\n",
       "      <td>16707</td>\n",
       "      <td>Aiyoku no Eustia</td>\n",
       "      <td>PSV</td>\n",
       "      <td>2014.0</td>\n",
       "      <td>Misc</td>\n",
       "      <td>0.00</td>\n",
       "      <td>0.00</td>\n",
       "      <td>0.01</td>\n",
       "      <td>0.00</td>\n",
       "      <td>NaN</td>\n",
       "      <td>0.0</td>\n",
       "      <td>NaN</td>\n",
       "      <td>0.01</td>\n",
       "    </tr>\n",
       "    <tr>\n",
       "      <th>2230</th>\n",
       "      <td>16710</td>\n",
       "      <td>Samurai Warriors: Sanada Maru</td>\n",
       "      <td>PS3</td>\n",
       "      <td>2016.0</td>\n",
       "      <td>Action</td>\n",
       "      <td>0.00</td>\n",
       "      <td>0.00</td>\n",
       "      <td>0.01</td>\n",
       "      <td>0.00</td>\n",
       "      <td>NaN</td>\n",
       "      <td>0.0</td>\n",
       "      <td>NaN</td>\n",
       "      <td>0.01</td>\n",
       "    </tr>\n",
       "    <tr>\n",
       "      <th>2231</th>\n",
       "      <td>16712</td>\n",
       "      <td>Haitaka no Psychedelica</td>\n",
       "      <td>PSV</td>\n",
       "      <td>2016.0</td>\n",
       "      <td>Adventure</td>\n",
       "      <td>0.00</td>\n",
       "      <td>0.00</td>\n",
       "      <td>0.01</td>\n",
       "      <td>0.00</td>\n",
       "      <td>NaN</td>\n",
       "      <td>0.0</td>\n",
       "      <td>NaN</td>\n",
       "      <td>0.01</td>\n",
       "    </tr>\n",
       "    <tr>\n",
       "      <th>2232</th>\n",
       "      <td>16714</td>\n",
       "      <td>Winning Post 8 2016</td>\n",
       "      <td>PSV</td>\n",
       "      <td>2016.0</td>\n",
       "      <td>Simulation</td>\n",
       "      <td>0.00</td>\n",
       "      <td>0.00</td>\n",
       "      <td>0.01</td>\n",
       "      <td>0.00</td>\n",
       "      <td>NaN</td>\n",
       "      <td>0.0</td>\n",
       "      <td>NaN</td>\n",
       "      <td>0.01</td>\n",
       "    </tr>\n",
       "  </tbody>\n",
       "</table>\n",
       "<p>2233 rows × 13 columns</p>\n",
       "</div>"
      ],
      "text/plain": [
       "      index                           name platform  year_of_release  \\\n",
       "0        16             Grand Theft Auto V      PS3           2013.0   \n",
       "1        23             Grand Theft Auto V     X360           2013.0   \n",
       "2        31      Call of Duty: Black Ops 3      PS4           2015.0   \n",
       "3        33            Pokemon X/Pokemon Y      3DS           2013.0   \n",
       "4        42             Grand Theft Auto V      PS4           2014.0   \n",
       "...     ...                            ...      ...              ...   \n",
       "2228  16703               Strawberry Nauts      PSV           2016.0   \n",
       "2229  16707               Aiyoku no Eustia      PSV           2014.0   \n",
       "2230  16710  Samurai Warriors: Sanada Maru      PS3           2016.0   \n",
       "2231  16712        Haitaka no Psychedelica      PSV           2016.0   \n",
       "2232  16714            Winning Post 8 2016      PSV           2016.0   \n",
       "\n",
       "             genre  na_sales  eu_sales  jp_sales  other_sales  critic_score  \\\n",
       "0           Action      7.02      9.09      0.98         3.96          97.0   \n",
       "1           Action      9.66      5.14      0.06         1.41          97.0   \n",
       "2          Shooter      6.03      5.86      0.36         2.38           NaN   \n",
       "3     Role-Playing      5.28      4.19      4.35         0.78           NaN   \n",
       "4           Action      3.96      6.31      0.38         1.97          97.0   \n",
       "...            ...       ...       ...       ...          ...           ...   \n",
       "2228     Adventure      0.00      0.00      0.01         0.00           NaN   \n",
       "2229          Misc      0.00      0.00      0.01         0.00           NaN   \n",
       "2230        Action      0.00      0.00      0.01         0.00           NaN   \n",
       "2231     Adventure      0.00      0.00      0.01         0.00           NaN   \n",
       "2232    Simulation      0.00      0.00      0.01         0.00           NaN   \n",
       "\n",
       "      user_score rating  all_sales  \n",
       "0            8.2      M      21.05  \n",
       "1            8.1      M      16.27  \n",
       "2            0.0    NaN      14.63  \n",
       "3            0.0    NaN      14.60  \n",
       "4            8.3      M      12.62  \n",
       "...          ...    ...        ...  \n",
       "2228         0.0    NaN       0.01  \n",
       "2229         0.0    NaN       0.01  \n",
       "2230         0.0    NaN       0.01  \n",
       "2231         0.0    NaN       0.01  \n",
       "2232         0.0    NaN       0.01  \n",
       "\n",
       "[2233 rows x 13 columns]"
      ]
     },
     "execution_count": 15,
     "metadata": {},
     "output_type": "execute_result"
    }
   ],
   "source": [
    "data2"
   ]
  },
  {
   "cell_type": "code",
   "execution_count": 16,
   "metadata": {},
   "outputs": [],
   "source": [
    "data2_pivot_all_sales = data2.pivot_table(index = 'platform', values = 'all_sales', aggfunc = 'sum').sort_values(by = 'all_sales', ascending = False)"
   ]
  },
  {
   "cell_type": "markdown",
   "metadata": {},
   "source": [
    "Наиолее популярная платформа PS4, наименее популярна DS"
   ]
  },
  {
   "cell_type": "code",
   "execution_count": 17,
   "metadata": {},
   "outputs": [
    {
     "data": {
      "text/html": [
       "<div>\n",
       "<style scoped>\n",
       "    .dataframe tbody tr th:only-of-type {\n",
       "        vertical-align: middle;\n",
       "    }\n",
       "\n",
       "    .dataframe tbody tr th {\n",
       "        vertical-align: top;\n",
       "    }\n",
       "\n",
       "    .dataframe thead th {\n",
       "        text-align: right;\n",
       "    }\n",
       "</style>\n",
       "<table border=\"1\" class=\"dataframe\">\n",
       "  <thead>\n",
       "    <tr style=\"text-align: right;\">\n",
       "      <th></th>\n",
       "      <th></th>\n",
       "      <th>all_sales</th>\n",
       "    </tr>\n",
       "    <tr>\n",
       "      <th>year_of_release</th>\n",
       "      <th>platform</th>\n",
       "      <th></th>\n",
       "    </tr>\n",
       "  </thead>\n",
       "  <tbody>\n",
       "    <tr>\n",
       "      <th rowspan=\"5\" valign=\"top\">2013.0</th>\n",
       "      <th>3DS</th>\n",
       "      <td>56.57</td>\n",
       "    </tr>\n",
       "    <tr>\n",
       "      <th>PS3</th>\n",
       "      <td>113.25</td>\n",
       "    </tr>\n",
       "    <tr>\n",
       "      <th>PS4</th>\n",
       "      <td>25.99</td>\n",
       "    </tr>\n",
       "    <tr>\n",
       "      <th>WiiU</th>\n",
       "      <td>21.65</td>\n",
       "    </tr>\n",
       "    <tr>\n",
       "      <th>X360</th>\n",
       "      <td>88.58</td>\n",
       "    </tr>\n",
       "    <tr>\n",
       "      <th rowspan=\"6\" valign=\"top\">2014.0</th>\n",
       "      <th>3DS</th>\n",
       "      <td>43.76</td>\n",
       "    </tr>\n",
       "    <tr>\n",
       "      <th>PS3</th>\n",
       "      <td>47.76</td>\n",
       "    </tr>\n",
       "    <tr>\n",
       "      <th>PS4</th>\n",
       "      <td>100.00</td>\n",
       "    </tr>\n",
       "    <tr>\n",
       "      <th>WiiU</th>\n",
       "      <td>22.03</td>\n",
       "    </tr>\n",
       "    <tr>\n",
       "      <th>X360</th>\n",
       "      <td>34.74</td>\n",
       "    </tr>\n",
       "    <tr>\n",
       "      <th>XOne</th>\n",
       "      <td>54.07</td>\n",
       "    </tr>\n",
       "    <tr>\n",
       "      <th rowspan=\"3\" valign=\"top\">2015.0</th>\n",
       "      <th>3DS</th>\n",
       "      <td>27.78</td>\n",
       "    </tr>\n",
       "    <tr>\n",
       "      <th>PS4</th>\n",
       "      <td>118.90</td>\n",
       "    </tr>\n",
       "    <tr>\n",
       "      <th>XOne</th>\n",
       "      <td>60.14</td>\n",
       "    </tr>\n",
       "    <tr>\n",
       "      <th rowspan=\"2\" valign=\"top\">2016.0</th>\n",
       "      <th>PS4</th>\n",
       "      <td>69.25</td>\n",
       "    </tr>\n",
       "    <tr>\n",
       "      <th>XOne</th>\n",
       "      <td>26.15</td>\n",
       "    </tr>\n",
       "  </tbody>\n",
       "</table>\n",
       "</div>"
      ],
      "text/plain": [
       "                          all_sales\n",
       "year_of_release platform           \n",
       "2013.0          3DS           56.57\n",
       "                PS3          113.25\n",
       "                PS4           25.99\n",
       "                WiiU          21.65\n",
       "                X360          88.58\n",
       "2014.0          3DS           43.76\n",
       "                PS3           47.76\n",
       "                PS4          100.00\n",
       "                WiiU          22.03\n",
       "                X360          34.74\n",
       "                XOne          54.07\n",
       "2015.0          3DS           27.78\n",
       "                PS4          118.90\n",
       "                XOne          60.14\n",
       "2016.0          PS4           69.25\n",
       "                XOne          26.15"
      ]
     },
     "execution_count": 17,
     "metadata": {},
     "output_type": "execute_result"
    }
   ],
   "source": [
    "data2_pivot_years = data2.pivot_table(index = ['year_of_release', 'platform'], values = 'all_sales', aggfunc = 'sum')\n",
    "data2_pivot_years.loc[data2_pivot_years['all_sales'] > 20]"
   ]
  },
  {
   "cell_type": "markdown",
   "metadata": {},
   "source": [
    "3DS теряет свою популярность на протяжении преиодна 2013-2016 так же, как и PS3. В последние годы наблюдается рост популярности у новых платформ XOne и PS4, они будут являться потенциально прибыльными"
   ]
  },
  {
   "cell_type": "code",
   "execution_count": 18,
   "metadata": {},
   "outputs": [
    {
     "data": {
      "text/html": [
       "<div>\n",
       "<style scoped>\n",
       "    .dataframe tbody tr th:only-of-type {\n",
       "        vertical-align: middle;\n",
       "    }\n",
       "\n",
       "    .dataframe tbody tr th {\n",
       "        vertical-align: top;\n",
       "    }\n",
       "\n",
       "    .dataframe thead th {\n",
       "        text-align: right;\n",
       "    }\n",
       "</style>\n",
       "<table border=\"1\" class=\"dataframe\">\n",
       "  <thead>\n",
       "    <tr style=\"text-align: right;\">\n",
       "      <th>platform</th>\n",
       "      <th>3DS</th>\n",
       "      <th>DS</th>\n",
       "      <th>PC</th>\n",
       "      <th>PS3</th>\n",
       "      <th>PS4</th>\n",
       "      <th>PSP</th>\n",
       "      <th>PSV</th>\n",
       "      <th>Wii</th>\n",
       "      <th>WiiU</th>\n",
       "      <th>X360</th>\n",
       "      <th>XOne</th>\n",
       "    </tr>\n",
       "    <tr>\n",
       "      <th>year_of_release</th>\n",
       "      <th></th>\n",
       "      <th></th>\n",
       "      <th></th>\n",
       "      <th></th>\n",
       "      <th></th>\n",
       "      <th></th>\n",
       "      <th></th>\n",
       "      <th></th>\n",
       "      <th></th>\n",
       "      <th></th>\n",
       "      <th></th>\n",
       "    </tr>\n",
       "  </thead>\n",
       "  <tbody>\n",
       "    <tr>\n",
       "      <th>2013.0</th>\n",
       "      <td>56.57</td>\n",
       "      <td>1.54</td>\n",
       "      <td>12.38</td>\n",
       "      <td>113.25</td>\n",
       "      <td>25.99</td>\n",
       "      <td>3.14</td>\n",
       "      <td>10.59</td>\n",
       "      <td>8.59</td>\n",
       "      <td>21.65</td>\n",
       "      <td>88.58</td>\n",
       "      <td>18.96</td>\n",
       "    </tr>\n",
       "    <tr>\n",
       "      <th>2014.0</th>\n",
       "      <td>43.76</td>\n",
       "      <td>NaN</td>\n",
       "      <td>13.28</td>\n",
       "      <td>47.76</td>\n",
       "      <td>100.00</td>\n",
       "      <td>0.24</td>\n",
       "      <td>11.90</td>\n",
       "      <td>3.75</td>\n",
       "      <td>22.03</td>\n",
       "      <td>34.74</td>\n",
       "      <td>54.07</td>\n",
       "    </tr>\n",
       "    <tr>\n",
       "      <th>2015.0</th>\n",
       "      <td>27.78</td>\n",
       "      <td>NaN</td>\n",
       "      <td>8.52</td>\n",
       "      <td>16.82</td>\n",
       "      <td>118.90</td>\n",
       "      <td>0.12</td>\n",
       "      <td>6.25</td>\n",
       "      <td>1.14</td>\n",
       "      <td>16.35</td>\n",
       "      <td>11.96</td>\n",
       "      <td>60.14</td>\n",
       "    </tr>\n",
       "    <tr>\n",
       "      <th>2016.0</th>\n",
       "      <td>15.14</td>\n",
       "      <td>NaN</td>\n",
       "      <td>5.25</td>\n",
       "      <td>3.60</td>\n",
       "      <td>69.25</td>\n",
       "      <td>NaN</td>\n",
       "      <td>4.25</td>\n",
       "      <td>0.18</td>\n",
       "      <td>4.60</td>\n",
       "      <td>1.52</td>\n",
       "      <td>26.15</td>\n",
       "    </tr>\n",
       "  </tbody>\n",
       "</table>\n",
       "</div>"
      ],
      "text/plain": [
       "platform           3DS    DS     PC     PS3     PS4   PSP    PSV   Wii   WiiU  \\\n",
       "year_of_release                                                                 \n",
       "2013.0           56.57  1.54  12.38  113.25   25.99  3.14  10.59  8.59  21.65   \n",
       "2014.0           43.76   NaN  13.28   47.76  100.00  0.24  11.90  3.75  22.03   \n",
       "2015.0           27.78   NaN   8.52   16.82  118.90  0.12   6.25  1.14  16.35   \n",
       "2016.0           15.14   NaN   5.25    3.60   69.25   NaN   4.25  0.18   4.60   \n",
       "\n",
       "platform          X360   XOne  \n",
       "year_of_release                \n",
       "2013.0           88.58  18.96  \n",
       "2014.0           34.74  54.07  \n",
       "2015.0           11.96  60.14  \n",
       "2016.0            1.52  26.15  "
      ]
     },
     "execution_count": 18,
     "metadata": {},
     "output_type": "execute_result"
    }
   ],
   "source": [
    "data2_pivot_years = data2.pivot_table(index = 'year_of_release', columns = 'platform', values = 'all_sales', aggfunc = 'sum')\n",
    "data2_pivot_years"
   ]
  },
  {
   "cell_type": "code",
   "execution_count": 19,
   "metadata": {},
   "outputs": [
    {
     "data": {
      "text/plain": [
       "<AxesSubplot:title={'center':'all_sales'}, xlabel='platform'>"
      ]
     },
     "execution_count": 19,
     "metadata": {},
     "output_type": "execute_result"
    },
    {
     "data": {
      "image/png": "[encoded data removed]",
      "text/plain": [
       "<Figure size 1440x504 with 1 Axes>"
      ]
     },
     "metadata": {
      "needs_background": "light"
     },
     "output_type": "display_data"
    }
   ],
   "source": [
    "data2.boxplot(column='all_sales', by='platform', figsize = (20,7))"
   ]
  },
  {
   "cell_type": "code",
   "execution_count": 20,
   "metadata": {},
   "outputs": [
    {
     "data": {
      "text/plain": [
       "(0.0, 1.75)"
      ]
     },
     "execution_count": 20,
     "metadata": {},
     "output_type": "execute_result"
    },
    {
     "data": {
      "image/png": "[encoded data removed]",
      "text/plain": [
       "<Figure size 1440x504 with 1 Axes>"
      ]
     },
     "metadata": {
      "needs_background": "light"
     },
     "output_type": "display_data"
    }
   ],
   "source": [
    "data2.boxplot(column='all_sales', by='platform', figsize = (20,7))\n",
    "plt.ylim(0,1.75)"
   ]
  },
  {
   "cell_type": "markdown",
   "metadata": {},
   "source": [
    "У платформ 3DS, PS3, PS4, X360 наблюдаются явные большие, но редкие выбросы, у многих других платформ наблюдаются, небольшие но частые выбросы. Размеры язиков подтверждают популярность определенных платформ."
   ]
  },
  {
   "cell_type": "code",
   "execution_count": 21,
   "metadata": {},
   "outputs": [
    {
     "data": {
      "text/plain": [
       "0.40656790206178095"
      ]
     },
     "execution_count": 21,
     "metadata": {},
     "output_type": "execute_result"
    }
   ],
   "source": [
    "#за популярную платформу возьмем PS4\n",
    "data_PS4 = data2[['platform', 'critic_score', 'user_score', 'all_sales']]\n",
    "data_PS4 = data_PS4.loc[data_PS4['platform'] == 'PS4']\n",
    "\n",
    "data_PS4['critic_score'].corr(data_PS4['all_sales'])\n",
    "#слабая корреляция"
   ]
  },
  {
   "cell_type": "code",
   "execution_count": 22,
   "metadata": {},
   "outputs": [
    {
     "data": {
      "text/plain": [
       "<AxesSubplot:title={'center':'Продажи исходя из оценки критиков для PS4'}, xlabel='critic_score'>"
      ]
     },
     "execution_count": 22,
     "metadata": {},
     "output_type": "execute_result"
    },
    {
     "data": {
      "image/png": "[encoded data removed]",
      "text/plain": [
       "<Figure size 432x288 with 1 Axes>"
      ]
     },
     "metadata": {
      "needs_background": "light"
     },
     "output_type": "display_data"
    }
   ],
   "source": [
    "data_PS4.plot(x = 'critic_score', y = 'all_sales', style = 'o', title = 'Продажи исходя из оценки критиков для PS4')"
   ]
  },
  {
   "cell_type": "code",
   "execution_count": 23,
   "metadata": {},
   "outputs": [
    {
     "data": {
      "text/plain": [
       "0.11311562450852881"
      ]
     },
     "execution_count": 23,
     "metadata": {},
     "output_type": "execute_result"
    }
   ],
   "source": [
    "data_PS4['user_score'].corr(data_PS4['all_sales'])\n",
    "#очень слабая корреляция"
   ]
  },
  {
   "cell_type": "code",
   "execution_count": 24,
   "metadata": {},
   "outputs": [
    {
     "data": {
      "text/plain": [
       "<AxesSubplot:title={'center':'Продажи исходя из оценки пользователей для PS4'}, xlabel='user_score'>"
      ]
     },
     "execution_count": 24,
     "metadata": {},
     "output_type": "execute_result"
    },
    {
     "data": {
      "image/png": "[encoded data removed]",
      "text/plain": [
       "<Figure size 432x288 with 1 Axes>"
      ]
     },
     "metadata": {
      "needs_background": "light"
     },
     "output_type": "display_data"
    }
   ],
   "source": [
    "data_PS4.plot(x = 'user_score', y = 'all_sales', style = 'o', xlim = 0.1,  title = 'Продажи исходя из оценки пользователей для PS4')"
   ]
  },
  {
   "cell_type": "markdown",
   "metadata": {},
   "source": [
    "Зависимости между оценками и продажами практически нет"
   ]
  },
  {
   "cell_type": "markdown",
   "metadata": {},
   "source": [
    "Корреляция между оценкой пользователей и продажами крайне мала, а та же зависимость с оценками критиков значительно выше,и эту зависимость нужно учитывать"
   ]
  },
  {
   "cell_type": "code",
   "execution_count": 25,
   "metadata": {},
   "outputs": [
    {
     "data": {
      "text/plain": [
       "0.3342853393371919"
      ]
     },
     "execution_count": 25,
     "metadata": {},
     "output_type": "execute_result"
    }
   ],
   "source": [
    "data_PS3 = data2[['platform', 'critic_score', 'user_score', 'all_sales']]\n",
    "data_PS3 = data_PS3.loc[data_PS3['platform'] == 'PS3']\n",
    "\n",
    "data_PS3['critic_score'].corr(data_PS3['all_sales'])"
   ]
  },
  {
   "cell_type": "code",
   "execution_count": 26,
   "metadata": {},
   "outputs": [
    {
     "data": {
      "text/plain": [
       "<AxesSubplot:title={'center':'Продажи исходя из оценки критиков для PS3'}, xlabel='critic_score'>"
      ]
     },
     "execution_count": 26,
     "metadata": {},
     "output_type": "execute_result"
    },
    {
     "data": {
      "image/png": "[encoded data removed]",
      "text/plain": [
       "<Figure size 432x288 with 1 Axes>"
      ]
     },
     "metadata": {
      "needs_background": "light"
     },
     "output_type": "display_data"
    }
   ],
   "source": [
    "data_PS3.plot(x = 'critic_score', y = 'all_sales', style = 'o', title = 'Продажи исходя из оценки критиков для PS3')"
   ]
  },
  {
   "cell_type": "code",
   "execution_count": 27,
   "metadata": {},
   "outputs": [
    {
     "data": {
      "text/plain": [
       "0.20209116183305123"
      ]
     },
     "execution_count": 27,
     "metadata": {},
     "output_type": "execute_result"
    }
   ],
   "source": [
    "data_PS3['user_score'].corr(data_PS3['all_sales'])"
   ]
  },
  {
   "cell_type": "code",
   "execution_count": 28,
   "metadata": {},
   "outputs": [
    {
     "data": {
      "text/plain": [
       "<AxesSubplot:title={'center':'Продажи исходя из оценки пользователей для PS3'}, xlabel='user_score'>"
      ]
     },
     "execution_count": 28,
     "metadata": {},
     "output_type": "execute_result"
    },
    {
     "data": {
      "image/png": "[encoded data removed]",
      "text/plain": [
       "<Figure size 432x288 with 1 Axes>"
      ]
     },
     "metadata": {
      "needs_background": "light"
     },
     "output_type": "display_data"
    }
   ],
   "source": [
    "data_PS3.plot(x = 'user_score', y = 'all_sales', style = 'o', title = 'Продажи исходя из оценки пользователей для PS3')"
   ]
  },
  {
   "cell_type": "code",
   "execution_count": 29,
   "metadata": {},
   "outputs": [
    {
     "data": {
      "text/plain": [
       "0.19603028294369382"
      ]
     },
     "execution_count": 29,
     "metadata": {},
     "output_type": "execute_result"
    }
   ],
   "source": [
    "data_PC = data2[['platform', 'critic_score', 'user_score', 'all_sales']]\n",
    "data_PC = data_PC.loc[data_PC['platform'] == 'PC']\n",
    "\n",
    "data_PC['critic_score'].corr(data_PC['all_sales'])"
   ]
  },
  {
   "cell_type": "code",
   "execution_count": 30,
   "metadata": {},
   "outputs": [
    {
     "data": {
      "text/plain": [
       "<AxesSubplot:title={'center':'Продажи исходя из оценки критиков для PC'}, xlabel='critic_score'>"
      ]
     },
     "execution_count": 30,
     "metadata": {},
     "output_type": "execute_result"
    },
    {
     "data": {
      "image/png": "[encoded data removed]",
      "text/plain": [
       "<Figure size 432x288 with 1 Axes>"
      ]
     },
     "metadata": {
      "needs_background": "light"
     },
     "output_type": "display_data"
    }
   ],
   "source": [
    "data_PC.plot(x = 'critic_score', y = 'all_sales', style = 'o', title = 'Продажи исходя из оценки критиков для PC')"
   ]
  },
  {
   "cell_type": "code",
   "execution_count": 31,
   "metadata": {},
   "outputs": [
    {
     "data": {
      "text/plain": [
       "0.04088688502136773"
      ]
     },
     "execution_count": 31,
     "metadata": {},
     "output_type": "execute_result"
    }
   ],
   "source": [
    "data_PC['user_score'].corr(data_PC['all_sales'])"
   ]
  },
  {
   "cell_type": "code",
   "execution_count": 32,
   "metadata": {},
   "outputs": [
    {
     "data": {
      "text/plain": [
       "<AxesSubplot:title={'center':'Продажи исходя из оценки пользователей для PC'}, xlabel='user_score'>"
      ]
     },
     "execution_count": 32,
     "metadata": {},
     "output_type": "execute_result"
    },
    {
     "data": {
      "image/png": "[encoded data removed]",
      "text/plain": [
       "<Figure size 432x288 with 1 Axes>"
      ]
     },
     "metadata": {
      "needs_background": "light"
     },
     "output_type": "display_data"
    }
   ],
   "source": [
    "data_PC.plot(x = 'user_score', y = 'all_sales', style = 'o', title = 'Продажи исходя из оценки пользователей для PC')"
   ]
  },
  {
   "cell_type": "code",
   "execution_count": 33,
   "metadata": {},
   "outputs": [
    {
     "data": {
      "text/plain": [
       "0.2547423503068656"
      ]
     },
     "execution_count": 33,
     "metadata": {},
     "output_type": "execute_result"
    }
   ],
   "source": [
    "data_PSV = data2[['platform', 'critic_score', 'user_score', 'all_sales']]\n",
    "data_PSV = data_PSV.loc[data_PSV['platform'] == 'PSV']\n",
    "\n",
    "data_PSV['critic_score'].corr(data_PSV['all_sales'])"
   ]
  },
  {
   "cell_type": "code",
   "execution_count": 34,
   "metadata": {},
   "outputs": [
    {
     "data": {
      "text/plain": [
       "<AxesSubplot:title={'center':'Продажи исходя из оценки критиков для PSV'}, xlabel='critic_score'>"
      ]
     },
     "execution_count": 34,
     "metadata": {},
     "output_type": "execute_result"
    },
    {
     "data": {
      "image/png": "[encoded data removed]",
      "text/plain": [
       "<Figure size 432x288 with 1 Axes>"
      ]
     },
     "metadata": {
      "needs_background": "light"
     },
     "output_type": "display_data"
    }
   ],
   "source": [
    "data_PSV.plot(x = 'critic_score', y = 'all_sales', style = 'o', title = 'Продажи исходя из оценки критиков для PSV')"
   ]
  },
  {
   "cell_type": "code",
   "execution_count": 35,
   "metadata": {},
   "outputs": [
    {
     "data": {
      "text/plain": [
       "0.3249644552761793"
      ]
     },
     "execution_count": 35,
     "metadata": {},
     "output_type": "execute_result"
    }
   ],
   "source": [
    "data_PSV['user_score'].corr(data_PSV['all_sales'])"
   ]
  },
  {
   "cell_type": "code",
   "execution_count": 36,
   "metadata": {},
   "outputs": [
    {
     "data": {
      "text/plain": [
       "<AxesSubplot:title={'center':'Продажи исходя из оценки пользователей для PSV'}, xlabel='user_score'>"
      ]
     },
     "execution_count": 36,
     "metadata": {},
     "output_type": "execute_result"
    },
    {
     "data": {
      "image/png": "[encoded data removed]",
      "text/plain": [
       "<Figure size 432x288 with 1 Axes>"
      ]
     },
     "metadata": {
      "needs_background": "light"
     },
     "output_type": "display_data"
    }
   ],
   "source": [
    "data_PSV.plot(x = 'user_score', y = 'all_sales', style = 'o', title = 'Продажи исходя из оценки пользователей для PSV')"
   ]
  },
  {
   "cell_type": "markdown",
   "metadata": {},
   "source": [
    "У PS4 самая сильная зависимость между оценкой критиков и продажами, зависимость между оценками пользователеей и продажами значительно меньше. Такая же тенденция характерна и для PS3, и для PC. У PSV напротив наблюдается бОлбша зависимость между оценками пользователеей и продажами."
   ]
  },
  {
   "cell_type": "markdown",
   "metadata": {},
   "source": [
    "Можно выделить впечатляющие результаты по продажам игр для следующих платформ: PS2, DS, PS, GBA, PSP. Это может объясняться действительно революционными нововведениями, что обеспечило большие продажи"
   ]
  },
  {
   "cell_type": "markdown",
   "metadata": {},
   "source": [
    "Топ 5 платформ по продажам - PS4, PS3, XOne, 3DS, X360. Рассматривая даиграмму размаха, можно заметить большое количество выьрасов, что, возможно, означает повышенный интерес к той или иной игре\n"
   ]
  },
  {
   "cell_type": "code",
   "execution_count": 37,
   "metadata": {},
   "outputs": [
    {
     "data": {
      "text/html": [
       "<div>\n",
       "<style scoped>\n",
       "    .dataframe tbody tr th:only-of-type {\n",
       "        vertical-align: middle;\n",
       "    }\n",
       "\n",
       "    .dataframe tbody tr th {\n",
       "        vertical-align: top;\n",
       "    }\n",
       "\n",
       "    .dataframe thead th {\n",
       "        text-align: right;\n",
       "    }\n",
       "</style>\n",
       "<table border=\"1\" class=\"dataframe\">\n",
       "  <thead>\n",
       "    <tr style=\"text-align: right;\">\n",
       "      <th></th>\n",
       "      <th>all_sales</th>\n",
       "    </tr>\n",
       "    <tr>\n",
       "      <th>genre</th>\n",
       "      <th></th>\n",
       "    </tr>\n",
       "  </thead>\n",
       "  <tbody>\n",
       "    <tr>\n",
       "      <th>Action</th>\n",
       "      <td>321.87</td>\n",
       "    </tr>\n",
       "    <tr>\n",
       "      <th>Shooter</th>\n",
       "      <td>232.98</td>\n",
       "    </tr>\n",
       "    <tr>\n",
       "      <th>Sports</th>\n",
       "      <td>150.65</td>\n",
       "    </tr>\n",
       "    <tr>\n",
       "      <th>Role-Playing</th>\n",
       "      <td>145.89</td>\n",
       "    </tr>\n",
       "    <tr>\n",
       "      <th>Misc</th>\n",
       "      <td>62.82</td>\n",
       "    </tr>\n",
       "    <tr>\n",
       "      <th>Platform</th>\n",
       "      <td>42.63</td>\n",
       "    </tr>\n",
       "    <tr>\n",
       "      <th>Racing</th>\n",
       "      <td>39.89</td>\n",
       "    </tr>\n",
       "    <tr>\n",
       "      <th>Fighting</th>\n",
       "      <td>35.31</td>\n",
       "    </tr>\n",
       "    <tr>\n",
       "      <th>Adventure</th>\n",
       "      <td>23.64</td>\n",
       "    </tr>\n",
       "    <tr>\n",
       "      <th>Simulation</th>\n",
       "      <td>21.76</td>\n",
       "    </tr>\n",
       "    <tr>\n",
       "      <th>Strategy</th>\n",
       "      <td>10.08</td>\n",
       "    </tr>\n",
       "    <tr>\n",
       "      <th>Puzzle</th>\n",
       "      <td>3.17</td>\n",
       "    </tr>\n",
       "  </tbody>\n",
       "</table>\n",
       "</div>"
      ],
      "text/plain": [
       "              all_sales\n",
       "genre                  \n",
       "Action           321.87\n",
       "Shooter          232.98\n",
       "Sports           150.65\n",
       "Role-Playing     145.89\n",
       "Misc              62.82\n",
       "Platform          42.63\n",
       "Racing            39.89\n",
       "Fighting          35.31\n",
       "Adventure         23.64\n",
       "Simulation        21.76\n",
       "Strategy          10.08\n",
       "Puzzle             3.17"
      ]
     },
     "execution_count": 37,
     "metadata": {},
     "output_type": "execute_result"
    }
   ],
   "source": [
    "data2[['genre', 'all_sales']].groupby('genre').sum().sort_values(by='all_sales', ascending = False)"
   ]
  },
  {
   "cell_type": "markdown",
   "metadata": {},
   "source": [
    "Продажи по данным отображены в талице, но это может быть связано с количеством игр определенных жанров"
   ]
  },
  {
   "cell_type": "code",
   "execution_count": 38,
   "metadata": {},
   "outputs": [
    {
     "data": {
      "text/plain": [
       "Action          766\n",
       "Role-Playing    292\n",
       "Adventure       245\n",
       "Sports          214\n",
       "Shooter         187\n",
       "Misc            155\n",
       "Racing           85\n",
       "Fighting         80\n",
       "Platform         74\n",
       "Simulation       62\n",
       "Strategy         56\n",
       "Puzzle           17\n",
       "Name: genre, dtype: int64"
      ]
     },
     "execution_count": 38,
     "metadata": {},
     "output_type": "execute_result"
    }
   ],
   "source": [
    "data2['genre'].value_counts()"
   ]
  },
  {
   "cell_type": "code",
   "execution_count": 39,
   "metadata": {},
   "outputs": [
    {
     "data": {
      "text/plain": [
       "<AxesSubplot:title={'center':'Популярные жанры игр'}, xlabel='genre'>"
      ]
     },
     "execution_count": 39,
     "metadata": {},
     "output_type": "execute_result"
    },
    {
     "data": {
      "image/png": "[encoded data removed]",
      "text/plain": [
       "<Figure size 1440x360 with 1 Axes>"
      ]
     },
     "metadata": {
      "needs_background": "light"
     },
     "output_type": "display_data"
    }
   ],
   "source": [
    "data2.pivot_table(index = 'genre', values = 'all_sales', aggfunc = 'median').plot(figsize=(20, 5), title = 'Популярные жанры игр')"
   ]
  },
  {
   "cell_type": "markdown",
   "metadata": {},
   "source": [
    "Самые прибыльные жанры - Shooter, Sports, Platform"
   ]
  },
  {
   "cell_type": "markdown",
   "metadata": {},
   "source": [
    "### Портрет пользователя каждого региона"
   ]
  },
  {
   "cell_type": "code",
   "execution_count": 40,
   "metadata": {},
   "outputs": [
    {
     "data": {
      "text/html": [
       "<div>\n",
       "<style scoped>\n",
       "    .dataframe tbody tr th:only-of-type {\n",
       "        vertical-align: middle;\n",
       "    }\n",
       "\n",
       "    .dataframe tbody tr th {\n",
       "        vertical-align: top;\n",
       "    }\n",
       "\n",
       "    .dataframe thead th {\n",
       "        text-align: right;\n",
       "    }\n",
       "</style>\n",
       "<table border=\"1\" class=\"dataframe\">\n",
       "  <thead>\n",
       "    <tr style=\"text-align: right;\">\n",
       "      <th></th>\n",
       "      <th>platform</th>\n",
       "      <th>genre</th>\n",
       "      <th>na_sales</th>\n",
       "      <th>eu_sales</th>\n",
       "      <th>jp_sales</th>\n",
       "      <th>other_sales</th>\n",
       "      <th>rating</th>\n",
       "    </tr>\n",
       "  </thead>\n",
       "  <tbody>\n",
       "    <tr>\n",
       "      <th>0</th>\n",
       "      <td>PS3</td>\n",
       "      <td>Action</td>\n",
       "      <td>7.02</td>\n",
       "      <td>9.09</td>\n",
       "      <td>0.98</td>\n",
       "      <td>3.96</td>\n",
       "      <td>M</td>\n",
       "    </tr>\n",
       "    <tr>\n",
       "      <th>1</th>\n",
       "      <td>X360</td>\n",
       "      <td>Action</td>\n",
       "      <td>9.66</td>\n",
       "      <td>5.14</td>\n",
       "      <td>0.06</td>\n",
       "      <td>1.41</td>\n",
       "      <td>M</td>\n",
       "    </tr>\n",
       "    <tr>\n",
       "      <th>2</th>\n",
       "      <td>PS4</td>\n",
       "      <td>Shooter</td>\n",
       "      <td>6.03</td>\n",
       "      <td>5.86</td>\n",
       "      <td>0.36</td>\n",
       "      <td>2.38</td>\n",
       "      <td>NaN</td>\n",
       "    </tr>\n",
       "    <tr>\n",
       "      <th>3</th>\n",
       "      <td>3DS</td>\n",
       "      <td>Role-Playing</td>\n",
       "      <td>5.28</td>\n",
       "      <td>4.19</td>\n",
       "      <td>4.35</td>\n",
       "      <td>0.78</td>\n",
       "      <td>NaN</td>\n",
       "    </tr>\n",
       "    <tr>\n",
       "      <th>4</th>\n",
       "      <td>PS4</td>\n",
       "      <td>Action</td>\n",
       "      <td>3.96</td>\n",
       "      <td>6.31</td>\n",
       "      <td>0.38</td>\n",
       "      <td>1.97</td>\n",
       "      <td>M</td>\n",
       "    </tr>\n",
       "    <tr>\n",
       "      <th>...</th>\n",
       "      <td>...</td>\n",
       "      <td>...</td>\n",
       "      <td>...</td>\n",
       "      <td>...</td>\n",
       "      <td>...</td>\n",
       "      <td>...</td>\n",
       "      <td>...</td>\n",
       "    </tr>\n",
       "    <tr>\n",
       "      <th>2228</th>\n",
       "      <td>PSV</td>\n",
       "      <td>Adventure</td>\n",
       "      <td>0.00</td>\n",
       "      <td>0.00</td>\n",
       "      <td>0.01</td>\n",
       "      <td>0.00</td>\n",
       "      <td>NaN</td>\n",
       "    </tr>\n",
       "    <tr>\n",
       "      <th>2229</th>\n",
       "      <td>PSV</td>\n",
       "      <td>Misc</td>\n",
       "      <td>0.00</td>\n",
       "      <td>0.00</td>\n",
       "      <td>0.01</td>\n",
       "      <td>0.00</td>\n",
       "      <td>NaN</td>\n",
       "    </tr>\n",
       "    <tr>\n",
       "      <th>2230</th>\n",
       "      <td>PS3</td>\n",
       "      <td>Action</td>\n",
       "      <td>0.00</td>\n",
       "      <td>0.00</td>\n",
       "      <td>0.01</td>\n",
       "      <td>0.00</td>\n",
       "      <td>NaN</td>\n",
       "    </tr>\n",
       "    <tr>\n",
       "      <th>2231</th>\n",
       "      <td>PSV</td>\n",
       "      <td>Adventure</td>\n",
       "      <td>0.00</td>\n",
       "      <td>0.00</td>\n",
       "      <td>0.01</td>\n",
       "      <td>0.00</td>\n",
       "      <td>NaN</td>\n",
       "    </tr>\n",
       "    <tr>\n",
       "      <th>2232</th>\n",
       "      <td>PSV</td>\n",
       "      <td>Simulation</td>\n",
       "      <td>0.00</td>\n",
       "      <td>0.00</td>\n",
       "      <td>0.01</td>\n",
       "      <td>0.00</td>\n",
       "      <td>NaN</td>\n",
       "    </tr>\n",
       "  </tbody>\n",
       "</table>\n",
       "<p>2233 rows × 7 columns</p>\n",
       "</div>"
      ],
      "text/plain": [
       "     platform         genre  na_sales  eu_sales  jp_sales  other_sales rating\n",
       "0         PS3        Action      7.02      9.09      0.98         3.96      M\n",
       "1        X360        Action      9.66      5.14      0.06         1.41      M\n",
       "2         PS4       Shooter      6.03      5.86      0.36         2.38    NaN\n",
       "3         3DS  Role-Playing      5.28      4.19      4.35         0.78    NaN\n",
       "4         PS4        Action      3.96      6.31      0.38         1.97      M\n",
       "...       ...           ...       ...       ...       ...          ...    ...\n",
       "2228      PSV     Adventure      0.00      0.00      0.01         0.00    NaN\n",
       "2229      PSV          Misc      0.00      0.00      0.01         0.00    NaN\n",
       "2230      PS3        Action      0.00      0.00      0.01         0.00    NaN\n",
       "2231      PSV     Adventure      0.00      0.00      0.01         0.00    NaN\n",
       "2232      PSV    Simulation      0.00      0.00      0.01         0.00    NaN\n",
       "\n",
       "[2233 rows x 7 columns]"
      ]
     },
     "execution_count": 40,
     "metadata": {},
     "output_type": "execute_result"
    }
   ],
   "source": [
    "data3 = data2[['platform', 'genre', 'na_sales', 'eu_sales', 'jp_sales', 'other_sales', 'rating']]\n",
    "data3"
   ]
  },
  {
   "cell_type": "code",
   "execution_count": 41,
   "metadata": {},
   "outputs": [
    {
     "data": {
      "text/plain": [
       "platform\n",
       "PS4     108.74\n",
       "XOne     93.12\n",
       "X360     81.66\n",
       "PS3      63.50\n",
       "3DS      38.20\n",
       "WiiU     29.21\n",
       "PC       11.11\n",
       "Wii       6.56\n",
       "PSV       5.04\n",
       "DS        0.57\n",
       "PSP       0.00\n",
       "Name: na_sales, dtype: float64"
      ]
     },
     "execution_count": 41,
     "metadata": {},
     "output_type": "execute_result"
    }
   ],
   "source": [
    "data3.groupby('platform')['na_sales'].sum().sort_values(ascending = False)"
   ]
  },
  {
   "cell_type": "markdown",
   "metadata": {},
   "source": [
    "Самые популярные платформы в NA - PS4, XOne, X360, PS3, 3DS"
   ]
  },
  {
   "cell_type": "code",
   "execution_count": 42,
   "metadata": {},
   "outputs": [
    {
     "data": {
      "text/plain": [
       "platform\n",
       "PS4     141.09\n",
       "PS3      67.81\n",
       "XOne     51.59\n",
       "X360     42.52\n",
       "3DS      30.96\n",
       "PC       25.36\n",
       "WiiU     19.85\n",
       "PSV       6.10\n",
       "Wii       5.93\n",
       "DS        0.85\n",
       "PSP       0.17\n",
       "Name: eu_sales, dtype: float64"
      ]
     },
     "execution_count": 42,
     "metadata": {},
     "output_type": "execute_result"
    }
   ],
   "source": [
    "data3.groupby('platform')['eu_sales'].sum().sort_values(ascending = False)"
   ]
  },
  {
   "cell_type": "markdown",
   "metadata": {},
   "source": [
    "Самые популярные платформы в EU - PS4, PS3, XOne, X360, 3DS"
   ]
  },
  {
   "cell_type": "code",
   "execution_count": 43,
   "metadata": {},
   "outputs": [
    {
     "data": {
      "text/plain": [
       "platform\n",
       "3DS     67.81\n",
       "PS3     23.35\n",
       "PSV     18.59\n",
       "PS4     15.96\n",
       "WiiU    10.88\n",
       "PSP      3.29\n",
       "X360     0.51\n",
       "XOne     0.34\n",
       "Wii      0.05\n",
       "DS       0.00\n",
       "PC       0.00\n",
       "Name: jp_sales, dtype: float64"
      ]
     },
     "execution_count": 43,
     "metadata": {},
     "output_type": "execute_result"
    }
   ],
   "source": [
    "data3.groupby('platform')['jp_sales'].sum().sort_values(ascending = False)"
   ]
  },
  {
   "cell_type": "markdown",
   "metadata": {},
   "source": [
    "Самые популярные платформы в JP - 3DS, PS3, PSV, PS4, WiiU"
   ]
  },
  {
   "cell_type": "code",
   "execution_count": 44,
   "metadata": {},
   "outputs": [
    {
     "data": {
      "text/plain": [
       "platform\n",
       "PS4     48.35\n",
       "PS3     26.77\n",
       "XOne    14.27\n",
       "X360    12.11\n",
       "3DS      6.28\n",
       "WiiU     4.69\n",
       "PSV      3.26\n",
       "PC       2.96\n",
       "Wii      1.12\n",
       "DS       0.12\n",
       "PSP      0.04\n",
       "Name: other_sales, dtype: float64"
      ]
     },
     "execution_count": 44,
     "metadata": {},
     "output_type": "execute_result"
    }
   ],
   "source": [
    "data3.groupby('platform')['other_sales'].sum().sort_values(ascending = False)"
   ]
  },
  {
   "cell_type": "markdown",
   "metadata": {},
   "source": [
    "Самые популярные платформы в других регионах - PS4, PS3, XOne, X360, 3DS"
   ]
  },
  {
   "cell_type": "markdown",
   "metadata": {},
   "source": [
    "Различия обусловлены страной-производителем платформы, культурой страны и популярностью приставки в целом. Например:\n",
    "1. 3DS - японская платформа, поэтому она так распространена в JP\n",
    "2. XOne, X360 - платформа американской компании Microsoft, поэтому они популярны в NA\n",
    "3. PS - большая и популярная компания с большим количеством экскоюзивных игр, поэтому она популярна по всему миру\n"
   ]
  },
  {
   "cell_type": "code",
   "execution_count": 45,
   "metadata": {},
   "outputs": [
    {
     "data": {
      "text/plain": [
       "genre\n",
       "Action          126.05\n",
       "Shooter         109.74\n",
       "Sports           65.27\n",
       "Role-Playing     46.40\n",
       "Misc             27.49\n",
       "Platform         18.14\n",
       "Fighting         15.55\n",
       "Racing           12.96\n",
       "Adventure         7.14\n",
       "Simulation        4.86\n",
       "Strategy          3.28\n",
       "Puzzle            0.83\n",
       "Name: na_sales, dtype: float64"
      ]
     },
     "execution_count": 45,
     "metadata": {},
     "output_type": "execute_result"
    }
   ],
   "source": [
    "data3.groupby('genre')['na_sales'].sum().sort_values(ascending = False)"
   ]
  },
  {
   "cell_type": "markdown",
   "metadata": {},
   "source": [
    "Самые популярные жанры в NA - Action, Shooter, Sports, Role-Playing, Misc"
   ]
  },
  {
   "cell_type": "code",
   "execution_count": 46,
   "metadata": {},
   "outputs": [
    {
     "data": {
      "text/plain": [
       "genre\n",
       "Action          118.13\n",
       "Shooter          87.86\n",
       "Sports           60.52\n",
       "Role-Playing     36.97\n",
       "Racing           20.19\n",
       "Misc             20.04\n",
       "Platform         15.58\n",
       "Simulation       10.92\n",
       "Fighting          8.55\n",
       "Adventure         8.25\n",
       "Strategy          4.22\n",
       "Puzzle            1.00\n",
       "Name: eu_sales, dtype: float64"
      ]
     },
     "execution_count": 46,
     "metadata": {},
     "output_type": "execute_result"
    }
   ],
   "source": [
    "data3.groupby('genre')['eu_sales'].sum().sort_values(ascending = False)"
   ]
  },
  {
   "cell_type": "markdown",
   "metadata": {},
   "source": [
    "Самые популярные жанры в EU - Action, Shooter, Sports, Role-Playing, Racing"
   ]
  },
  {
   "cell_type": "code",
   "execution_count": 47,
   "metadata": {},
   "outputs": [
    {
     "data": {
      "text/plain": [
       "genre\n",
       "Role-Playing    51.04\n",
       "Action          40.49\n",
       "Misc             9.20\n",
       "Fighting         7.65\n",
       "Shooter          6.61\n",
       "Adventure        5.82\n",
       "Sports           5.41\n",
       "Platform         4.79\n",
       "Simulation       4.52\n",
       "Racing           2.30\n",
       "Strategy         1.77\n",
       "Puzzle           1.18\n",
       "Name: jp_sales, dtype: float64"
      ]
     },
     "execution_count": 47,
     "metadata": {},
     "output_type": "execute_result"
    }
   ],
   "source": [
    "data3.groupby('genre')['jp_sales'].sum().sort_values(ascending = False)"
   ]
  },
  {
   "cell_type": "code",
   "execution_count": 48,
   "metadata": {},
   "outputs": [
    {
     "ename": "SyntaxError",
     "evalue": "invalid syntax (3225959765.py, line 1)",
     "output_type": "error",
     "traceback": [
      "\u001b[0;36m  File \u001b[0;32m\"/tmp/ipykernel_116/3225959765.py\"\u001b[0;36m, line \u001b[0;32m1\u001b[0m\n\u001b[0;31m    Самые популярные жанры в EU - Role-Playing, Action, Misc, Fighting, Shooter\u001b[0m\n\u001b[0m          ^\u001b[0m\n\u001b[0;31mSyntaxError\u001b[0m\u001b[0;31m:\u001b[0m invalid syntax\n"
     ]
    }
   ],
   "source": [
    "Самые популярные жанры в EU - Role-Playing, Action, Misc, Fighting, Shooter"
   ]
  },
  {
   "cell_type": "code",
   "execution_count": null,
   "metadata": {},
   "outputs": [],
   "source": [
    "data3.groupby('genre')['other_sales'].sum().sort_values(ascending = False)"
   ]
  },
  {
   "cell_type": "markdown",
   "metadata": {},
   "source": [
    "Самые популярные жанры в EU - Action, Shooter, Sports, Role-Playing, Misc"
   ]
  },
  {
   "cell_type": "markdown",
   "metadata": {},
   "source": [
    "Разница жанров по регионам обуславливается, вероятнее всего, культурой регионов и деятельностью местных разработчиков. Вкусы в Америке и Европе схожи, а в Японии отличаются"
   ]
  },
  {
   "cell_type": "code",
   "execution_count": null,
   "metadata": {},
   "outputs": [],
   "source": [
    "data3['rating'] = data3['rating'].fillna('Unknown')\n",
    "data3['rating'].unique()\n",
    "#обозначим не обозначеннный рейтинг как Unknown"
   ]
  },
  {
   "cell_type": "code",
   "execution_count": null,
   "metadata": {},
   "outputs": [],
   "source": [
    "data3.groupby('rating')['na_sales'].sum().sort_values(ascending = False)"
   ]
  },
  {
   "cell_type": "code",
   "execution_count": null,
   "metadata": {},
   "outputs": [],
   "source": [
    "data3.groupby('rating')['eu_sales'].sum().sort_values(ascending = False)"
   ]
  },
  {
   "cell_type": "code",
   "execution_count": null,
   "metadata": {},
   "outputs": [],
   "source": [
    "data3.groupby('rating')['jp_sales'].sum().sort_values(ascending = False)"
   ]
  },
  {
   "cell_type": "code",
   "execution_count": null,
   "metadata": {},
   "outputs": [],
   "source": [
    "data3.groupby('rating')['other_sales'].sum().sort_values(ascending = False)"
   ]
  },
  {
   "cell_type": "markdown",
   "metadata": {},
   "source": [
    "Игры с рейтингом 18+ востребованы в большинстве регионов, также продается значительное количество игр без рейтинга. Это можно объяснить тем, что рейтинг ESRB предназначен для маркировки игр в США и Канаде. Многие популярные игры могут быть без рейтинга, так как они выпущены не в Северной Америке"
   ]
  },
  {
   "cell_type": "markdown",
   "metadata": {},
   "source": [
    "## Проверка гипотез"
   ]
  },
  {
   "cell_type": "code",
   "execution_count": null,
   "metadata": {},
   "outputs": [],
   "source": [
    "data_user_score_PCXbox = data2[['platform', 'user_score']]\n",
    "data_user_score_PC = data_user_score_PCXbox.loc[data_user_score_PCXbox['platform'] == 'PC'] \n",
    "data_user_score_X = data_user_score_PCXbox.loc[data_user_score_PCXbox['platform'] == 'XOne']"
   ]
  },
  {
   "cell_type": "code",
   "execution_count": null,
   "metadata": {},
   "outputs": [],
   "source": [
    "data_user_score_PC"
   ]
  },
  {
   "cell_type": "code",
   "execution_count": null,
   "metadata": {},
   "outputs": [],
   "source": [
    "data_user_score_X"
   ]
  },
  {
   "cell_type": "markdown",
   "metadata": {},
   "source": [
    "гипотезы\n",
    "1. H0: средние оценки по обеим платформам одинаковые\n",
    "2. H1: средние оценки по обеим платформам разные"
   ]
  },
  {
   "cell_type": "code",
   "execution_count": null,
   "metadata": {},
   "outputs": [],
   "source": [
    "from scipy import stats as st\n",
    "\n",
    "xbox = data_user_score_X.loc[data_user_score_X['user_score'] != 0, 'user_score']\n",
    "pc = data_user_score_PC.loc[data_user_score_PC['user_score'] != 0, 'user_score']\n",
    "alpha = .05 \n",
    "\n",
    "results = st.ttest_ind(xbox, pc)\n",
    "print('p-значение:', results.pvalue)\n",
    "if (results.pvalue < alpha):\n",
    "    print(\"Отвергаем нулевую гипотезу\")\n",
    "else:\n",
    "    print(\"Не получилось отвергнуть нулевую гипотезу\")"
   ]
  },
  {
   "cell_type": "markdown",
   "metadata": {},
   "source": [
    "Мы не можем отвергнуть гипотезу о том, что средние оценки по обеим платформам одинаковые. Возможно, оценки дейтвительно одинаковые."
   ]
  },
  {
   "cell_type": "code",
   "execution_count": null,
   "metadata": {},
   "outputs": [],
   "source": [
    "data_user_genre_AS = data2[['genre', 'user_score']]\n",
    "data_user_genre_A = data_user_genre_AS.loc[data_user_genre_AS['genre'] == 'Action'] \n",
    "data_user_genre_S = data_user_genre_AS.loc[data_user_genre_AS['genre'] == 'Sports']\n",
    "data_user_genre_A"
   ]
  },
  {
   "cell_type": "code",
   "execution_count": null,
   "metadata": {},
   "outputs": [],
   "source": [
    "data_user_genre_S"
   ]
  },
  {
   "cell_type": "markdown",
   "metadata": {},
   "source": [
    "гипотезы\n",
    "1. H0: средние оценки по обеим жанрам разные\n",
    "2. H1: средние оценки по обеим жанрам одинаковые"
   ]
  },
  {
   "cell_type": "code",
   "execution_count": null,
   "metadata": {},
   "outputs": [],
   "source": [
    "action = data_user_genre_A.loc[data_user_genre_A['user_score'] != 0, 'user_score']\n",
    "sports = data_user_genre_S.loc[data_user_genre_S['user_score'] != 0, 'user_score']\n",
    "alpha = .05 \n",
    "\n",
    "results = st.ttest_ind(action, sports)\n",
    "print('p-значение:', results.pvalue)\n",
    "if (results.pvalue < alpha):\n",
    "    print(\"Отвергаем нулевую гипотезу\")\n",
    "else:\n",
    "    print(\"Не получилось отвергнуть нулевую гипотезу\")"
   ]
  },
  {
   "cell_type": "markdown",
   "metadata": {},
   "source": [
    "Отвергаем гипотезу о том, что средние оценки по обеим жанрам разные. Возможно, оценки одинаковые"
   ]
  },
  {
   "cell_type": "markdown",
   "metadata": {},
   "source": [
    "# Вывод\n",
    "Исходя из результатов исследования можно сделать некоторые прогнозы для кампании 2017 года. Наиболее популярные платформы для игр - PS4, PS3, XOne, 3DS, X360. Особенно популярны игры в жанра Shooter, Sports, Platform. Однако всегда стоит делать поправку на конкретный регион. Так, например, в Японии самаой востребованой стала платформа 3DS. В основном на рынке востребованы игры с рейтингом 18+ (M), также продается значительное количество игр без указанного рейтинга.\n",
    "Вероятнее всего, в следующем году будут востребованы игры на PS4 в жанре shooter с рейтингом M."
   ]
  }
 ],
 "metadata": {
  "ExecuteTimeLog": [
   {
    "duration": 550,
    "start_time": "2022-12-26T20:20:14.663Z"
   },
   {
    "duration": 189,
    "start_time": "2022-12-26T20:20:19.246Z"
   },
   {
    "duration": 98,
    "start_time": "2022-12-26T20:20:38.842Z"
   },
   {
    "duration": 14,
    "start_time": "2022-12-26T20:22:16.713Z"
   },
   {
    "duration": 9,
    "start_time": "2022-12-26T20:24:25.372Z"
   },
   {
    "duration": 3,
    "start_time": "2022-12-26T20:25:35.894Z"
   },
   {
    "duration": 21,
    "start_time": "2022-12-26T20:25:40.487Z"
   },
   {
    "duration": 1163,
    "start_time": "2022-12-26T20:26:09.466Z"
   },
   {
    "duration": 7,
    "start_time": "2022-12-26T20:26:20.344Z"
   },
   {
    "duration": 23,
    "start_time": "2022-12-26T20:26:32.252Z"
   },
   {
    "duration": 18,
    "start_time": "2022-12-26T20:30:23.071Z"
   },
   {
    "duration": 11,
    "start_time": "2022-12-26T20:34:31.473Z"
   },
   {
    "duration": 11,
    "start_time": "2022-12-26T20:35:35.579Z"
   },
   {
    "duration": 5,
    "start_time": "2022-12-26T20:35:41.133Z"
   },
   {
    "duration": 64,
    "start_time": "2022-12-26T20:35:53.935Z"
   },
   {
    "duration": 3,
    "start_time": "2022-12-26T20:44:36.306Z"
   },
   {
    "duration": 9,
    "start_time": "2022-12-26T20:44:44.276Z"
   },
   {
    "duration": 12,
    "start_time": "2022-12-26T20:44:49.899Z"
   },
   {
    "duration": 20,
    "start_time": "2022-12-26T20:44:56.569Z"
   },
   {
    "duration": 16,
    "start_time": "2022-12-26T20:45:27.491Z"
   },
   {
    "duration": 22,
    "start_time": "2022-12-26T20:49:48.751Z"
   },
   {
    "duration": 39,
    "start_time": "2022-12-26T20:57:10.668Z"
   },
   {
    "duration": 0,
    "start_time": "2022-12-26T21:06:16.326Z"
   },
   {
    "duration": 76,
    "start_time": "2022-12-26T21:06:37.734Z"
   },
   {
    "duration": 100,
    "start_time": "2022-12-26T21:06:41.627Z"
   },
   {
    "duration": 429,
    "start_time": "2022-12-26T21:06:48.514Z"
   },
   {
    "duration": 22,
    "start_time": "2022-12-26T21:06:48.945Z"
   },
   {
    "duration": 34,
    "start_time": "2022-12-26T21:06:48.969Z"
   },
   {
    "duration": 16,
    "start_time": "2022-12-26T21:06:49.004Z"
   },
   {
    "duration": 100,
    "start_time": "2022-12-26T21:06:49.022Z"
   },
   {
    "duration": 457,
    "start_time": "2022-12-26T21:08:00.378Z"
   },
   {
    "duration": 14,
    "start_time": "2022-12-26T21:08:00.836Z"
   },
   {
    "duration": 52,
    "start_time": "2022-12-26T21:08:00.852Z"
   },
   {
    "duration": 38,
    "start_time": "2022-12-26T21:08:00.905Z"
   },
   {
    "duration": 89,
    "start_time": "2022-12-26T21:08:00.944Z"
   },
   {
    "duration": 99,
    "start_time": "2022-12-26T21:08:12.371Z"
   },
   {
    "duration": 73,
    "start_time": "2022-12-26T21:09:51.373Z"
   },
   {
    "duration": 11,
    "start_time": "2022-12-26T21:13:01.348Z"
   },
   {
    "duration": 6,
    "start_time": "2022-12-26T21:13:14.928Z"
   },
   {
    "duration": 59,
    "start_time": "2022-12-27T09:15:19.345Z"
   },
   {
    "duration": 477,
    "start_time": "2022-12-27T09:15:24.430Z"
   },
   {
    "duration": 15,
    "start_time": "2022-12-27T09:15:24.909Z"
   },
   {
    "duration": 26,
    "start_time": "2022-12-27T09:15:24.926Z"
   },
   {
    "duration": 21,
    "start_time": "2022-12-27T09:15:24.954Z"
   },
   {
    "duration": 5,
    "start_time": "2022-12-27T09:15:24.976Z"
   },
   {
    "duration": 7,
    "start_time": "2022-12-27T09:15:24.982Z"
   },
   {
    "duration": 49,
    "start_time": "2022-12-27T09:15:24.991Z"
   },
   {
    "duration": 5,
    "start_time": "2022-12-27T09:22:06.635Z"
   },
   {
    "duration": 8,
    "start_time": "2022-12-27T09:22:15.214Z"
   },
   {
    "duration": 8,
    "start_time": "2022-12-27T09:22:23.554Z"
   },
   {
    "duration": 7,
    "start_time": "2022-12-27T09:22:27.456Z"
   },
   {
    "duration": 504,
    "start_time": "2022-12-27T09:25:04.961Z"
   },
   {
    "duration": 15,
    "start_time": "2022-12-27T09:25:05.467Z"
   },
   {
    "duration": 44,
    "start_time": "2022-12-27T09:25:05.486Z"
   },
   {
    "duration": 24,
    "start_time": "2022-12-27T09:25:05.532Z"
   },
   {
    "duration": 12,
    "start_time": "2022-12-27T09:25:05.558Z"
   },
   {
    "duration": 13,
    "start_time": "2022-12-27T09:25:05.571Z"
   },
   {
    "duration": 47,
    "start_time": "2022-12-27T09:25:05.586Z"
   },
   {
    "duration": 67,
    "start_time": "2022-12-27T09:25:23.010Z"
   },
   {
    "duration": 8,
    "start_time": "2022-12-27T09:25:40.807Z"
   },
   {
    "duration": 469,
    "start_time": "2022-12-27T09:26:01.677Z"
   },
   {
    "duration": 15,
    "start_time": "2022-12-27T09:26:02.148Z"
   },
   {
    "duration": 68,
    "start_time": "2022-12-27T09:26:02.165Z"
   },
   {
    "duration": 39,
    "start_time": "2022-12-27T09:26:02.235Z"
   },
   {
    "duration": 15,
    "start_time": "2022-12-27T09:26:02.276Z"
   },
   {
    "duration": 12,
    "start_time": "2022-12-27T09:26:02.292Z"
   },
   {
    "duration": 99,
    "start_time": "2022-12-27T09:26:02.305Z"
   },
   {
    "duration": 12,
    "start_time": "2022-12-27T09:34:58.190Z"
   },
   {
    "duration": 470,
    "start_time": "2022-12-27T09:36:07.132Z"
   },
   {
    "duration": 17,
    "start_time": "2022-12-27T09:36:07.604Z"
   },
   {
    "duration": 21,
    "start_time": "2022-12-27T09:36:07.623Z"
   },
   {
    "duration": 48,
    "start_time": "2022-12-27T09:36:07.647Z"
   },
   {
    "duration": 11,
    "start_time": "2022-12-27T09:36:07.697Z"
   },
   {
    "duration": 9,
    "start_time": "2022-12-27T09:36:07.710Z"
   },
   {
    "duration": 13,
    "start_time": "2022-12-27T09:36:07.721Z"
   },
   {
    "duration": 15,
    "start_time": "2022-12-27T09:57:43.374Z"
   },
   {
    "duration": 18,
    "start_time": "2022-12-27T09:58:30.089Z"
   },
   {
    "duration": 19,
    "start_time": "2022-12-27T09:58:47.500Z"
   },
   {
    "duration": 14,
    "start_time": "2022-12-27T09:58:56.633Z"
   },
   {
    "duration": 15,
    "start_time": "2022-12-27T09:59:04.458Z"
   },
   {
    "duration": 101,
    "start_time": "2022-12-27T10:00:51.290Z"
   },
   {
    "duration": 11,
    "start_time": "2022-12-27T10:02:10.419Z"
   },
   {
    "duration": 30,
    "start_time": "2022-12-27T10:02:44.143Z"
   },
   {
    "duration": 36,
    "start_time": "2022-12-27T10:04:02.148Z"
   },
   {
    "duration": 442,
    "start_time": "2022-12-27T10:04:07.419Z"
   },
   {
    "duration": 23,
    "start_time": "2022-12-27T10:04:07.863Z"
   },
   {
    "duration": 29,
    "start_time": "2022-12-27T10:04:07.891Z"
   },
   {
    "duration": 17,
    "start_time": "2022-12-27T10:04:07.922Z"
   },
   {
    "duration": 10,
    "start_time": "2022-12-27T10:04:07.941Z"
   },
   {
    "duration": 14,
    "start_time": "2022-12-27T10:04:07.952Z"
   },
   {
    "duration": 94,
    "start_time": "2022-12-27T10:04:07.967Z"
   },
   {
    "duration": 16,
    "start_time": "2022-12-27T10:04:32.056Z"
   },
   {
    "duration": 27,
    "start_time": "2022-12-27T10:04:37.994Z"
   },
   {
    "duration": 23,
    "start_time": "2022-12-27T10:05:09.430Z"
   },
   {
    "duration": 459,
    "start_time": "2022-12-27T10:06:06.508Z"
   },
   {
    "duration": 20,
    "start_time": "2022-12-27T10:06:06.969Z"
   },
   {
    "duration": 19,
    "start_time": "2022-12-27T10:06:06.994Z"
   },
   {
    "duration": 25,
    "start_time": "2022-12-27T10:06:07.015Z"
   },
   {
    "duration": 9,
    "start_time": "2022-12-27T10:06:07.041Z"
   },
   {
    "duration": 12,
    "start_time": "2022-12-27T10:06:07.052Z"
   },
   {
    "duration": 34,
    "start_time": "2022-12-27T10:06:07.065Z"
   },
   {
    "duration": 76,
    "start_time": "2022-12-27T10:06:28.715Z"
   },
   {
    "duration": 14,
    "start_time": "2022-12-27T10:06:34.048Z"
   },
   {
    "duration": 12,
    "start_time": "2022-12-27T10:06:42.729Z"
   },
   {
    "duration": 24,
    "start_time": "2022-12-27T10:07:10.069Z"
   },
   {
    "duration": 475,
    "start_time": "2022-12-27T10:07:39.590Z"
   },
   {
    "duration": 24,
    "start_time": "2022-12-27T10:07:40.067Z"
   },
   {
    "duration": 47,
    "start_time": "2022-12-27T10:07:40.094Z"
   },
   {
    "duration": 35,
    "start_time": "2022-12-27T10:07:40.143Z"
   },
   {
    "duration": 23,
    "start_time": "2022-12-27T10:07:40.183Z"
   },
   {
    "duration": 17,
    "start_time": "2022-12-27T10:07:40.208Z"
   },
   {
    "duration": 35,
    "start_time": "2022-12-27T10:07:40.227Z"
   },
   {
    "duration": 15,
    "start_time": "2022-12-27T10:07:56.250Z"
   },
   {
    "duration": 17,
    "start_time": "2022-12-27T10:08:17.610Z"
   },
   {
    "duration": 20,
    "start_time": "2022-12-27T10:15:41.399Z"
   },
   {
    "duration": 6,
    "start_time": "2022-12-27T10:17:08.440Z"
   },
   {
    "duration": 15,
    "start_time": "2022-12-27T10:17:20.806Z"
   },
   {
    "duration": 525,
    "start_time": "2022-12-27T10:18:02.505Z"
   },
   {
    "duration": 23,
    "start_time": "2022-12-27T10:18:03.032Z"
   },
   {
    "duration": 61,
    "start_time": "2022-12-27T10:18:03.056Z"
   },
   {
    "duration": 25,
    "start_time": "2022-12-27T10:18:03.120Z"
   },
   {
    "duration": 13,
    "start_time": "2022-12-27T10:18:03.148Z"
   },
   {
    "duration": 8,
    "start_time": "2022-12-27T10:18:03.163Z"
   },
   {
    "duration": 50,
    "start_time": "2022-12-27T10:18:03.173Z"
   },
   {
    "duration": 20,
    "start_time": "2022-12-27T10:18:03.226Z"
   },
   {
    "duration": 77,
    "start_time": "2022-12-27T10:18:03.247Z"
   },
   {
    "duration": 5,
    "start_time": "2022-12-27T10:24:15.061Z"
   },
   {
    "duration": 24,
    "start_time": "2022-12-27T10:24:47.388Z"
   },
   {
    "duration": 438,
    "start_time": "2022-12-27T10:25:49.035Z"
   },
   {
    "duration": 15,
    "start_time": "2022-12-27T10:25:49.475Z"
   },
   {
    "duration": 20,
    "start_time": "2022-12-27T10:25:49.492Z"
   },
   {
    "duration": 16,
    "start_time": "2022-12-27T10:25:49.515Z"
   },
   {
    "duration": 47,
    "start_time": "2022-12-27T10:25:49.533Z"
   },
   {
    "duration": 8,
    "start_time": "2022-12-27T10:25:49.581Z"
   },
   {
    "duration": 20,
    "start_time": "2022-12-27T10:25:49.590Z"
   },
   {
    "duration": 6,
    "start_time": "2022-12-27T10:25:49.612Z"
   },
   {
    "duration": 23,
    "start_time": "2022-12-27T10:25:49.620Z"
   },
   {
    "duration": 116,
    "start_time": "2022-12-27T10:25:49.646Z"
   },
   {
    "duration": 502,
    "start_time": "2022-12-27T10:32:20.483Z"
   },
   {
    "duration": 25,
    "start_time": "2022-12-27T10:32:20.988Z"
   },
   {
    "duration": 33,
    "start_time": "2022-12-27T10:32:21.015Z"
   },
   {
    "duration": 33,
    "start_time": "2022-12-27T10:32:21.076Z"
   },
   {
    "duration": 49,
    "start_time": "2022-12-27T10:32:21.111Z"
   },
   {
    "duration": 9,
    "start_time": "2022-12-27T10:32:21.163Z"
   },
   {
    "duration": 32,
    "start_time": "2022-12-27T10:32:21.175Z"
   },
   {
    "duration": 8,
    "start_time": "2022-12-27T10:32:21.209Z"
   },
   {
    "duration": 43,
    "start_time": "2022-12-27T10:32:21.219Z"
   },
   {
    "duration": 104,
    "start_time": "2022-12-27T10:32:21.265Z"
   },
   {
    "duration": 505,
    "start_time": "2022-12-27T10:34:49.269Z"
   },
   {
    "duration": 23,
    "start_time": "2022-12-27T10:34:49.777Z"
   },
   {
    "duration": 23,
    "start_time": "2022-12-27T10:34:49.802Z"
   },
   {
    "duration": 26,
    "start_time": "2022-12-27T10:34:49.827Z"
   },
   {
    "duration": 13,
    "start_time": "2022-12-27T10:34:49.878Z"
   },
   {
    "duration": 12,
    "start_time": "2022-12-27T10:34:49.893Z"
   },
   {
    "duration": 18,
    "start_time": "2022-12-27T10:34:49.907Z"
   },
   {
    "duration": 6,
    "start_time": "2022-12-27T10:34:49.927Z"
   },
   {
    "duration": 50,
    "start_time": "2022-12-27T10:34:49.935Z"
   },
   {
    "duration": 106,
    "start_time": "2022-12-27T10:34:49.987Z"
   },
   {
    "duration": 519,
    "start_time": "2022-12-27T10:36:55.186Z"
   },
   {
    "duration": 18,
    "start_time": "2022-12-27T10:36:55.708Z"
   },
   {
    "duration": 23,
    "start_time": "2022-12-27T10:36:55.728Z"
   },
   {
    "duration": 26,
    "start_time": "2022-12-27T10:36:55.777Z"
   },
   {
    "duration": 19,
    "start_time": "2022-12-27T10:36:55.806Z"
   },
   {
    "duration": 11,
    "start_time": "2022-12-27T10:36:55.827Z"
   },
   {
    "duration": 46,
    "start_time": "2022-12-27T10:36:55.840Z"
   },
   {
    "duration": 13,
    "start_time": "2022-12-27T10:36:55.889Z"
   },
   {
    "duration": 19,
    "start_time": "2022-12-27T10:36:55.905Z"
   },
   {
    "duration": 128,
    "start_time": "2022-12-27T10:36:55.926Z"
   },
   {
    "duration": 505,
    "start_time": "2022-12-27T10:37:34.099Z"
   },
   {
    "duration": 20,
    "start_time": "2022-12-27T10:37:34.606Z"
   },
   {
    "duration": 26,
    "start_time": "2022-12-27T10:37:34.628Z"
   },
   {
    "duration": 37,
    "start_time": "2022-12-27T10:37:34.656Z"
   },
   {
    "duration": 13,
    "start_time": "2022-12-27T10:37:34.695Z"
   },
   {
    "duration": 9,
    "start_time": "2022-12-27T10:37:34.710Z"
   },
   {
    "duration": 42,
    "start_time": "2022-12-27T10:37:34.721Z"
   },
   {
    "duration": 40,
    "start_time": "2022-12-27T10:37:34.765Z"
   },
   {
    "duration": 35,
    "start_time": "2022-12-27T10:37:34.807Z"
   },
   {
    "duration": 100,
    "start_time": "2022-12-27T10:37:34.844Z"
   },
   {
    "duration": 16,
    "start_time": "2022-12-27T10:37:54.126Z"
   },
   {
    "duration": 510,
    "start_time": "2022-12-27T10:39:55.202Z"
   },
   {
    "duration": 17,
    "start_time": "2022-12-27T10:39:55.715Z"
   },
   {
    "duration": 42,
    "start_time": "2022-12-27T10:39:55.734Z"
   },
   {
    "duration": 28,
    "start_time": "2022-12-27T10:39:55.778Z"
   },
   {
    "duration": 16,
    "start_time": "2022-12-27T10:39:55.809Z"
   },
   {
    "duration": 12,
    "start_time": "2022-12-27T10:39:55.827Z"
   },
   {
    "duration": 38,
    "start_time": "2022-12-27T10:39:55.841Z"
   },
   {
    "duration": 11,
    "start_time": "2022-12-27T10:39:55.881Z"
   },
   {
    "duration": 20,
    "start_time": "2022-12-27T10:39:55.894Z"
   },
   {
    "duration": 96,
    "start_time": "2022-12-27T10:39:55.917Z"
   },
   {
    "duration": 66,
    "start_time": "2022-12-27T10:41:04.395Z"
   },
   {
    "duration": 447,
    "start_time": "2022-12-27T10:41:31.240Z"
   },
   {
    "duration": 14,
    "start_time": "2022-12-27T10:41:31.689Z"
   },
   {
    "duration": 22,
    "start_time": "2022-12-27T10:41:31.704Z"
   },
   {
    "duration": 84,
    "start_time": "2022-12-27T10:41:31.728Z"
   },
   {
    "duration": 0,
    "start_time": "2022-12-27T10:41:31.814Z"
   },
   {
    "duration": 0,
    "start_time": "2022-12-27T10:41:31.815Z"
   },
   {
    "duration": 0,
    "start_time": "2022-12-27T10:41:31.816Z"
   },
   {
    "duration": 0,
    "start_time": "2022-12-27T10:41:31.817Z"
   },
   {
    "duration": 0,
    "start_time": "2022-12-27T10:41:31.818Z"
   },
   {
    "duration": 0,
    "start_time": "2022-12-27T10:41:31.819Z"
   },
   {
    "duration": 563,
    "start_time": "2022-12-27T10:42:19.545Z"
   },
   {
    "duration": 15,
    "start_time": "2022-12-27T10:42:20.110Z"
   },
   {
    "duration": 28,
    "start_time": "2022-12-27T10:42:20.127Z"
   },
   {
    "duration": 80,
    "start_time": "2022-12-27T10:42:20.157Z"
   },
   {
    "duration": 0,
    "start_time": "2022-12-27T10:42:20.238Z"
   },
   {
    "duration": 0,
    "start_time": "2022-12-27T10:42:20.240Z"
   },
   {
    "duration": 0,
    "start_time": "2022-12-27T10:42:20.241Z"
   },
   {
    "duration": 0,
    "start_time": "2022-12-27T10:42:20.242Z"
   },
   {
    "duration": 0,
    "start_time": "2022-12-27T10:42:20.243Z"
   },
   {
    "duration": 0,
    "start_time": "2022-12-27T10:42:20.244Z"
   },
   {
    "duration": 503,
    "start_time": "2022-12-27T10:43:16.865Z"
   },
   {
    "duration": 17,
    "start_time": "2022-12-27T10:43:17.371Z"
   },
   {
    "duration": 22,
    "start_time": "2022-12-27T10:43:17.389Z"
   },
   {
    "duration": 92,
    "start_time": "2022-12-27T10:43:17.413Z"
   },
   {
    "duration": 0,
    "start_time": "2022-12-27T10:43:17.507Z"
   },
   {
    "duration": 0,
    "start_time": "2022-12-27T10:43:17.509Z"
   },
   {
    "duration": 0,
    "start_time": "2022-12-27T10:43:17.510Z"
   },
   {
    "duration": 0,
    "start_time": "2022-12-27T10:43:17.511Z"
   },
   {
    "duration": 0,
    "start_time": "2022-12-27T10:43:17.512Z"
   },
   {
    "duration": 0,
    "start_time": "2022-12-27T10:43:17.513Z"
   },
   {
    "duration": 505,
    "start_time": "2022-12-27T10:43:38.475Z"
   },
   {
    "duration": 17,
    "start_time": "2022-12-27T10:43:38.982Z"
   },
   {
    "duration": 22,
    "start_time": "2022-12-27T10:43:39.001Z"
   },
   {
    "duration": 19,
    "start_time": "2022-12-27T10:43:39.025Z"
   },
   {
    "duration": 41,
    "start_time": "2022-12-27T10:43:39.046Z"
   },
   {
    "duration": 11,
    "start_time": "2022-12-27T10:43:39.089Z"
   },
   {
    "duration": 41,
    "start_time": "2022-12-27T10:43:39.102Z"
   },
   {
    "duration": 8,
    "start_time": "2022-12-27T10:43:39.145Z"
   },
   {
    "duration": 24,
    "start_time": "2022-12-27T10:43:39.155Z"
   },
   {
    "duration": 77,
    "start_time": "2022-12-27T10:43:39.182Z"
   },
   {
    "duration": 5,
    "start_time": "2022-12-27T10:44:36.640Z"
   },
   {
    "duration": 43,
    "start_time": "2022-12-27T11:04:08.362Z"
   },
   {
    "duration": 559,
    "start_time": "2022-12-27T11:04:17.643Z"
   },
   {
    "duration": 14,
    "start_time": "2022-12-27T11:04:18.203Z"
   },
   {
    "duration": 19,
    "start_time": "2022-12-27T11:04:18.219Z"
   },
   {
    "duration": 17,
    "start_time": "2022-12-27T11:04:18.240Z"
   },
   {
    "duration": 12,
    "start_time": "2022-12-27T11:04:18.259Z"
   },
   {
    "duration": 8,
    "start_time": "2022-12-27T11:04:18.272Z"
   },
   {
    "duration": 35,
    "start_time": "2022-12-27T11:04:18.281Z"
   },
   {
    "duration": 5,
    "start_time": "2022-12-27T11:04:18.318Z"
   },
   {
    "duration": 19,
    "start_time": "2022-12-27T11:04:18.324Z"
   },
   {
    "duration": 12,
    "start_time": "2022-12-27T11:04:18.345Z"
   },
   {
    "duration": 17,
    "start_time": "2022-12-27T11:05:02.552Z"
   },
   {
    "duration": 21,
    "start_time": "2022-12-27T11:05:14.167Z"
   },
   {
    "duration": 11,
    "start_time": "2022-12-27T11:05:34.334Z"
   },
   {
    "duration": 428,
    "start_time": "2022-12-27T11:05:49.960Z"
   },
   {
    "duration": 14,
    "start_time": "2022-12-27T11:05:50.390Z"
   },
   {
    "duration": 19,
    "start_time": "2022-12-27T11:05:50.405Z"
   },
   {
    "duration": 14,
    "start_time": "2022-12-27T11:05:50.425Z"
   },
   {
    "duration": 10,
    "start_time": "2022-12-27T11:05:50.441Z"
   },
   {
    "duration": 5,
    "start_time": "2022-12-27T11:05:50.453Z"
   },
   {
    "duration": 14,
    "start_time": "2022-12-27T11:05:50.459Z"
   },
   {
    "duration": 5,
    "start_time": "2022-12-27T11:05:50.474Z"
   },
   {
    "duration": 37,
    "start_time": "2022-12-27T11:05:50.480Z"
   },
   {
    "duration": 10,
    "start_time": "2022-12-27T11:05:50.519Z"
   },
   {
    "duration": 6,
    "start_time": "2022-12-27T11:06:38.583Z"
   },
   {
    "duration": 9,
    "start_time": "2022-12-27T11:14:18.067Z"
   },
   {
    "duration": 502,
    "start_time": "2022-12-27T11:14:43.889Z"
   },
   {
    "duration": 10,
    "start_time": "2022-12-27T11:14:53.282Z"
   },
   {
    "duration": 148,
    "start_time": "2022-12-27T11:15:23.853Z"
   },
   {
    "duration": 9,
    "start_time": "2022-12-27T11:15:34.308Z"
   },
   {
    "duration": 61,
    "start_time": "2022-12-27T21:19:25.739Z"
   },
   {
    "duration": 646,
    "start_time": "2022-12-27T21:19:32.274Z"
   },
   {
    "duration": 20,
    "start_time": "2022-12-27T21:19:32.923Z"
   },
   {
    "duration": 34,
    "start_time": "2022-12-27T21:19:32.946Z"
   },
   {
    "duration": 21,
    "start_time": "2022-12-27T21:19:32.982Z"
   },
   {
    "duration": 15,
    "start_time": "2022-12-27T21:19:33.005Z"
   },
   {
    "duration": 34,
    "start_time": "2022-12-27T21:19:33.022Z"
   },
   {
    "duration": 19,
    "start_time": "2022-12-27T21:19:33.058Z"
   },
   {
    "duration": 6,
    "start_time": "2022-12-27T21:19:33.080Z"
   },
   {
    "duration": 29,
    "start_time": "2022-12-27T21:19:33.088Z"
   },
   {
    "duration": 36,
    "start_time": "2022-12-27T21:19:33.120Z"
   },
   {
    "duration": 6,
    "start_time": "2022-12-27T21:19:33.157Z"
   },
   {
    "duration": 9,
    "start_time": "2022-12-27T21:20:52.841Z"
   },
   {
    "duration": 39,
    "start_time": "2022-12-27T21:21:47.219Z"
   },
   {
    "duration": 26,
    "start_time": "2022-12-27T21:22:01.501Z"
   },
   {
    "duration": 12,
    "start_time": "2022-12-27T21:22:12.147Z"
   },
   {
    "duration": 88,
    "start_time": "2022-12-27T21:23:39.629Z"
   },
   {
    "duration": 70,
    "start_time": "2022-12-27T21:26:32.055Z"
   },
   {
    "duration": 8,
    "start_time": "2022-12-27T21:30:02.824Z"
   },
   {
    "duration": 543,
    "start_time": "2022-12-27T21:30:11.551Z"
   },
   {
    "duration": 19,
    "start_time": "2022-12-27T21:30:12.097Z"
   },
   {
    "duration": 40,
    "start_time": "2022-12-27T21:30:12.118Z"
   },
   {
    "duration": 25,
    "start_time": "2022-12-27T21:30:12.160Z"
   },
   {
    "duration": 21,
    "start_time": "2022-12-27T21:30:12.188Z"
   },
   {
    "duration": 9,
    "start_time": "2022-12-27T21:30:12.211Z"
   },
   {
    "duration": 26,
    "start_time": "2022-12-27T21:30:12.252Z"
   },
   {
    "duration": 7,
    "start_time": "2022-12-27T21:30:12.280Z"
   },
   {
    "duration": 23,
    "start_time": "2022-12-27T21:30:12.289Z"
   },
   {
    "duration": 38,
    "start_time": "2022-12-27T21:30:12.314Z"
   },
   {
    "duration": 19,
    "start_time": "2022-12-27T21:30:12.354Z"
   },
   {
    "duration": 18,
    "start_time": "2022-12-27T21:31:06.768Z"
   },
   {
    "duration": 18,
    "start_time": "2022-12-27T21:31:18.775Z"
   },
   {
    "duration": 18,
    "start_time": "2022-12-27T21:33:35.360Z"
   },
   {
    "duration": 583,
    "start_time": "2022-12-27T21:34:28.904Z"
   },
   {
    "duration": 100,
    "start_time": "2022-12-27T21:35:41.100Z"
   },
   {
    "duration": 146,
    "start_time": "2022-12-27T21:35:47.418Z"
   },
   {
    "duration": 137,
    "start_time": "2022-12-27T21:35:55.240Z"
   },
   {
    "duration": 141,
    "start_time": "2022-12-27T21:36:05.626Z"
   },
   {
    "duration": 321,
    "start_time": "2022-12-27T21:36:23.485Z"
   },
   {
    "duration": 134,
    "start_time": "2022-12-27T21:36:37.371Z"
   },
   {
    "duration": 156,
    "start_time": "2022-12-27T21:36:45.675Z"
   },
   {
    "duration": 143,
    "start_time": "2022-12-27T21:36:56.398Z"
   },
   {
    "duration": 143,
    "start_time": "2022-12-27T21:40:33.962Z"
   },
   {
    "duration": 145,
    "start_time": "2022-12-27T21:40:41.842Z"
   },
   {
    "duration": 141,
    "start_time": "2022-12-27T21:41:41.669Z"
   },
   {
    "duration": 238,
    "start_time": "2022-12-27T21:41:50.928Z"
   },
   {
    "duration": 17,
    "start_time": "2022-12-27T21:49:07.799Z"
   },
   {
    "duration": 25,
    "start_time": "2022-12-27T21:49:30.403Z"
   },
   {
    "duration": 24,
    "start_time": "2022-12-27T21:49:40.015Z"
   },
   {
    "duration": 157,
    "start_time": "2022-12-27T21:50:14.863Z"
   },
   {
    "duration": 15,
    "start_time": "2022-12-27T21:53:22.836Z"
   },
   {
    "duration": 24,
    "start_time": "2022-12-27T21:53:41.496Z"
   },
   {
    "duration": 31,
    "start_time": "2022-12-27T21:54:39.643Z"
   },
   {
    "duration": 152,
    "start_time": "2022-12-27T22:04:39.991Z"
   },
   {
    "duration": 134,
    "start_time": "2022-12-27T22:05:14.916Z"
   },
   {
    "duration": 23,
    "start_time": "2022-12-27T22:05:23.786Z"
   },
   {
    "duration": 196,
    "start_time": "2022-12-27T22:05:42.246Z"
   },
   {
    "duration": 23,
    "start_time": "2022-12-27T22:06:10.439Z"
   },
   {
    "duration": 22,
    "start_time": "2022-12-27T22:06:35.566Z"
   },
   {
    "duration": 18,
    "start_time": "2022-12-27T22:07:34.426Z"
   },
   {
    "duration": 23,
    "start_time": "2022-12-27T22:08:04.663Z"
   },
   {
    "duration": 23,
    "start_time": "2022-12-27T22:08:14.812Z"
   },
   {
    "duration": 27,
    "start_time": "2022-12-27T22:08:33.282Z"
   },
   {
    "duration": 23,
    "start_time": "2022-12-27T22:08:45.889Z"
   },
   {
    "duration": 32,
    "start_time": "2022-12-27T22:08:56.216Z"
   },
   {
    "duration": 647,
    "start_time": "2022-12-28T08:58:17.734Z"
   },
   {
    "duration": 18,
    "start_time": "2022-12-28T08:58:18.383Z"
   },
   {
    "duration": 23,
    "start_time": "2022-12-28T08:58:18.403Z"
   },
   {
    "duration": 35,
    "start_time": "2022-12-28T08:58:18.428Z"
   },
   {
    "duration": 14,
    "start_time": "2022-12-28T08:58:18.465Z"
   },
   {
    "duration": 7,
    "start_time": "2022-12-28T08:58:18.480Z"
   },
   {
    "duration": 18,
    "start_time": "2022-12-28T08:58:18.488Z"
   },
   {
    "duration": 6,
    "start_time": "2022-12-28T08:58:18.508Z"
   },
   {
    "duration": 46,
    "start_time": "2022-12-28T08:58:18.516Z"
   },
   {
    "duration": 17,
    "start_time": "2022-12-28T08:58:18.564Z"
   },
   {
    "duration": 570,
    "start_time": "2022-12-28T08:58:18.583Z"
   },
   {
    "duration": 33,
    "start_time": "2022-12-28T08:58:19.160Z"
   },
   {
    "duration": 15,
    "start_time": "2022-12-28T08:58:19.195Z"
   },
   {
    "duration": 18,
    "start_time": "2022-12-28T08:58:34.200Z"
   },
   {
    "duration": 81,
    "start_time": "2022-12-28T08:59:52.536Z"
   },
   {
    "duration": 19,
    "start_time": "2022-12-28T09:00:03.326Z"
   },
   {
    "duration": 47,
    "start_time": "2022-12-28T15:00:00.577Z"
   },
   {
    "duration": 558,
    "start_time": "2022-12-28T15:00:05.429Z"
   },
   {
    "duration": 15,
    "start_time": "2022-12-28T15:00:05.990Z"
   },
   {
    "duration": 168,
    "start_time": "2022-12-28T15:00:06.008Z"
   },
   {
    "duration": 57,
    "start_time": "2022-12-28T15:00:06.178Z"
   },
   {
    "duration": 16,
    "start_time": "2022-12-28T15:00:06.237Z"
   },
   {
    "duration": 28,
    "start_time": "2022-12-28T15:00:06.255Z"
   },
   {
    "duration": 31,
    "start_time": "2022-12-28T15:00:06.285Z"
   },
   {
    "duration": 9,
    "start_time": "2022-12-28T15:00:06.318Z"
   },
   {
    "duration": 26,
    "start_time": "2022-12-28T15:00:06.328Z"
   },
   {
    "duration": 13,
    "start_time": "2022-12-28T15:00:06.356Z"
   },
   {
    "duration": 560,
    "start_time": "2022-12-28T15:00:06.370Z"
   },
   {
    "duration": 23,
    "start_time": "2022-12-28T15:00:06.932Z"
   },
   {
    "duration": 30,
    "start_time": "2022-12-28T15:00:06.958Z"
   },
   {
    "duration": 16,
    "start_time": "2022-12-28T15:00:06.990Z"
   },
   {
    "duration": 47,
    "start_time": "2022-12-28T15:10:47.078Z"
   },
   {
    "duration": 17,
    "start_time": "2022-12-28T15:10:55.084Z"
   },
   {
    "duration": 7,
    "start_time": "2022-12-28T15:11:29.633Z"
   },
   {
    "duration": 4,
    "start_time": "2022-12-28T15:12:19.002Z"
   },
   {
    "duration": 6,
    "start_time": "2022-12-28T15:12:25.494Z"
   },
   {
    "duration": 6,
    "start_time": "2022-12-28T15:13:23.638Z"
   },
   {
    "duration": 17,
    "start_time": "2022-12-28T15:17:01.370Z"
   },
   {
    "duration": 140,
    "start_time": "2022-12-28T15:23:29.867Z"
   },
   {
    "duration": 19,
    "start_time": "2022-12-28T15:23:54.499Z"
   },
   {
    "duration": 26,
    "start_time": "2022-12-28T15:24:14.960Z"
   },
   {
    "duration": 133,
    "start_time": "2022-12-28T15:24:39.923Z"
   },
   {
    "duration": 45,
    "start_time": "2022-12-28T15:25:51.421Z"
   },
   {
    "duration": 798,
    "start_time": "2022-12-28T15:26:22.090Z"
   },
   {
    "duration": 123,
    "start_time": "2022-12-28T15:26:40.210Z"
   },
   {
    "duration": 233,
    "start_time": "2022-12-28T15:30:00.965Z"
   },
   {
    "duration": 691,
    "start_time": "2022-12-28T15:31:52.098Z"
   },
   {
    "duration": 719,
    "start_time": "2022-12-28T15:32:42.599Z"
   },
   {
    "duration": 520,
    "start_time": "2022-12-28T15:33:29.470Z"
   },
   {
    "duration": 15,
    "start_time": "2022-12-28T15:33:29.992Z"
   },
   {
    "duration": 21,
    "start_time": "2022-12-28T15:33:30.008Z"
   },
   {
    "duration": 34,
    "start_time": "2022-12-28T15:33:30.030Z"
   },
   {
    "duration": 14,
    "start_time": "2022-12-28T15:33:30.067Z"
   },
   {
    "duration": 13,
    "start_time": "2022-12-28T15:33:30.083Z"
   },
   {
    "duration": 34,
    "start_time": "2022-12-28T15:33:30.098Z"
   },
   {
    "duration": 27,
    "start_time": "2022-12-28T15:33:30.133Z"
   },
   {
    "duration": 27,
    "start_time": "2022-12-28T15:33:30.162Z"
   },
   {
    "duration": 29,
    "start_time": "2022-12-28T15:33:30.191Z"
   },
   {
    "duration": 369,
    "start_time": "2022-12-28T15:33:30.222Z"
   },
   {
    "duration": 794,
    "start_time": "2022-12-28T15:33:30.593Z"
   },
   {
    "duration": 0,
    "start_time": "2022-12-28T15:33:31.389Z"
   },
   {
    "duration": 0,
    "start_time": "2022-12-28T15:33:31.391Z"
   },
   {
    "duration": 676,
    "start_time": "2022-12-28T15:34:58.865Z"
   },
   {
    "duration": 696,
    "start_time": "2022-12-28T15:35:36.081Z"
   },
   {
    "duration": 14,
    "start_time": "2022-12-28T15:35:48.576Z"
   },
   {
    "duration": 16,
    "start_time": "2022-12-28T15:36:04.487Z"
   },
   {
    "duration": 23,
    "start_time": "2022-12-28T15:36:48.032Z"
   },
   {
    "duration": 17,
    "start_time": "2022-12-28T15:37:11.182Z"
   },
   {
    "duration": 16,
    "start_time": "2022-12-28T15:37:29.970Z"
   },
   {
    "duration": 26,
    "start_time": "2022-12-28T15:37:49.878Z"
   },
   {
    "duration": 19,
    "start_time": "2022-12-28T15:38:39.736Z"
   },
   {
    "duration": 716,
    "start_time": "2022-12-28T15:41:46.813Z"
   },
   {
    "duration": 148,
    "start_time": "2022-12-28T15:42:06.888Z"
   },
   {
    "duration": 20,
    "start_time": "2022-12-28T15:42:17.913Z"
   },
   {
    "duration": 20,
    "start_time": "2022-12-28T15:42:35.202Z"
   },
   {
    "duration": 10,
    "start_time": "2022-12-28T15:42:38.997Z"
   },
   {
    "duration": 19,
    "start_time": "2022-12-28T15:43:18.546Z"
   },
   {
    "duration": 9,
    "start_time": "2022-12-28T15:51:57.551Z"
   },
   {
    "duration": 455,
    "start_time": "2022-12-28T15:52:03.089Z"
   },
   {
    "duration": 18,
    "start_time": "2022-12-28T15:52:03.547Z"
   },
   {
    "duration": 25,
    "start_time": "2022-12-28T15:52:03.569Z"
   },
   {
    "duration": 21,
    "start_time": "2022-12-28T15:52:03.596Z"
   },
   {
    "duration": 14,
    "start_time": "2022-12-28T15:52:03.619Z"
   },
   {
    "duration": 8,
    "start_time": "2022-12-28T15:52:03.635Z"
   },
   {
    "duration": 49,
    "start_time": "2022-12-28T15:52:03.645Z"
   },
   {
    "duration": 7,
    "start_time": "2022-12-28T15:52:03.696Z"
   },
   {
    "duration": 24,
    "start_time": "2022-12-28T15:52:03.705Z"
   },
   {
    "duration": 16,
    "start_time": "2022-12-28T15:52:03.731Z"
   },
   {
    "duration": 387,
    "start_time": "2022-12-28T15:52:03.775Z"
   },
   {
    "duration": 16,
    "start_time": "2022-12-28T15:52:04.165Z"
   },
   {
    "duration": 31,
    "start_time": "2022-12-28T15:52:04.184Z"
   },
   {
    "duration": 17,
    "start_time": "2022-12-28T15:52:04.217Z"
   },
   {
    "duration": 46,
    "start_time": "2022-12-28T15:52:04.235Z"
   },
   {
    "duration": 423,
    "start_time": "2022-12-28T15:52:27.932Z"
   },
   {
    "duration": 16,
    "start_time": "2022-12-28T15:52:28.357Z"
   },
   {
    "duration": 20,
    "start_time": "2022-12-28T15:52:28.374Z"
   },
   {
    "duration": 16,
    "start_time": "2022-12-28T15:52:28.396Z"
   },
   {
    "duration": 13,
    "start_time": "2022-12-28T15:52:28.414Z"
   },
   {
    "duration": 6,
    "start_time": "2022-12-28T15:52:28.428Z"
   },
   {
    "duration": 41,
    "start_time": "2022-12-28T15:52:28.436Z"
   },
   {
    "duration": 6,
    "start_time": "2022-12-28T15:52:28.478Z"
   },
   {
    "duration": 13,
    "start_time": "2022-12-28T15:52:28.485Z"
   },
   {
    "duration": 11,
    "start_time": "2022-12-28T15:52:28.500Z"
   },
   {
    "duration": 389,
    "start_time": "2022-12-28T15:52:28.513Z"
   },
   {
    "duration": 10,
    "start_time": "2022-12-28T15:52:28.904Z"
   },
   {
    "duration": 27,
    "start_time": "2022-12-28T15:52:28.915Z"
   },
   {
    "duration": 5,
    "start_time": "2022-12-28T15:52:28.945Z"
   },
   {
    "duration": 37,
    "start_time": "2022-12-28T15:52:28.951Z"
   },
   {
    "duration": 24,
    "start_time": "2022-12-28T15:54:37.847Z"
   },
   {
    "duration": 665,
    "start_time": "2022-12-28T15:55:02.275Z"
   },
   {
    "duration": 34,
    "start_time": "2022-12-28T15:55:02.942Z"
   },
   {
    "duration": 32,
    "start_time": "2022-12-28T15:55:02.978Z"
   },
   {
    "duration": 24,
    "start_time": "2022-12-28T15:55:03.012Z"
   },
   {
    "duration": 39,
    "start_time": "2022-12-28T15:55:03.039Z"
   },
   {
    "duration": 8,
    "start_time": "2022-12-28T15:55:03.080Z"
   },
   {
    "duration": 27,
    "start_time": "2022-12-28T15:55:03.090Z"
   },
   {
    "duration": 5,
    "start_time": "2022-12-28T15:55:03.119Z"
   },
   {
    "duration": 53,
    "start_time": "2022-12-28T15:55:03.126Z"
   },
   {
    "duration": 15,
    "start_time": "2022-12-28T15:55:03.181Z"
   },
   {
    "duration": 539,
    "start_time": "2022-12-28T15:55:03.198Z"
   },
   {
    "duration": 14,
    "start_time": "2022-12-28T15:55:03.739Z"
   },
   {
    "duration": 51,
    "start_time": "2022-12-28T15:55:03.755Z"
   },
   {
    "duration": 6,
    "start_time": "2022-12-28T15:55:03.810Z"
   },
   {
    "duration": 33,
    "start_time": "2022-12-28T15:55:03.818Z"
   },
   {
    "duration": 43,
    "start_time": "2022-12-28T15:55:03.853Z"
   },
   {
    "duration": 34,
    "start_time": "2022-12-28T15:55:33.509Z"
   },
   {
    "duration": 98,
    "start_time": "2022-12-28T15:56:29.914Z"
   },
   {
    "duration": 15,
    "start_time": "2022-12-28T15:56:45.836Z"
   },
   {
    "duration": 21,
    "start_time": "2022-12-28T15:57:05.952Z"
   },
   {
    "duration": 19,
    "start_time": "2022-12-28T16:00:54.677Z"
   },
   {
    "duration": 28,
    "start_time": "2022-12-28T16:02:44.612Z"
   },
   {
    "duration": 35,
    "start_time": "2022-12-28T16:03:24.183Z"
   },
   {
    "duration": 24,
    "start_time": "2022-12-28T16:03:53.757Z"
   },
   {
    "duration": 18,
    "start_time": "2022-12-28T16:05:03.207Z"
   },
   {
    "duration": 13,
    "start_time": "2022-12-28T16:11:51.438Z"
   },
   {
    "duration": 528,
    "start_time": "2022-12-28T16:11:58.532Z"
   },
   {
    "duration": 28,
    "start_time": "2022-12-28T16:11:59.063Z"
   },
   {
    "duration": 23,
    "start_time": "2022-12-28T16:11:59.097Z"
   },
   {
    "duration": 22,
    "start_time": "2022-12-28T16:11:59.122Z"
   },
   {
    "duration": 16,
    "start_time": "2022-12-28T16:11:59.146Z"
   },
   {
    "duration": 15,
    "start_time": "2022-12-28T16:11:59.164Z"
   },
   {
    "duration": 31,
    "start_time": "2022-12-28T16:11:59.186Z"
   },
   {
    "duration": 7,
    "start_time": "2022-12-28T16:11:59.218Z"
   },
   {
    "duration": 19,
    "start_time": "2022-12-28T16:11:59.226Z"
   },
   {
    "duration": 18,
    "start_time": "2022-12-28T16:11:59.247Z"
   },
   {
    "duration": 497,
    "start_time": "2022-12-28T16:11:59.267Z"
   },
   {
    "duration": 22,
    "start_time": "2022-12-28T16:11:59.766Z"
   },
   {
    "duration": 56,
    "start_time": "2022-12-28T16:11:59.796Z"
   },
   {
    "duration": 5,
    "start_time": "2022-12-28T16:11:59.855Z"
   },
   {
    "duration": 65,
    "start_time": "2022-12-28T16:11:59.862Z"
   },
   {
    "duration": 10,
    "start_time": "2022-12-28T16:11:59.929Z"
   },
   {
    "duration": 19,
    "start_time": "2022-12-28T16:11:59.941Z"
   },
   {
    "duration": 48,
    "start_time": "2022-12-28T16:12:07.574Z"
   },
   {
    "duration": 115,
    "start_time": "2022-12-28T16:17:21.208Z"
   },
   {
    "duration": 157,
    "start_time": "2022-12-28T16:32:12.363Z"
   },
   {
    "duration": 84,
    "start_time": "2022-12-28T16:46:11.827Z"
   },
   {
    "duration": 18,
    "start_time": "2022-12-28T16:46:27.294Z"
   },
   {
    "duration": 111,
    "start_time": "2022-12-28T16:46:33.506Z"
   },
   {
    "duration": 141,
    "start_time": "2022-12-28T16:47:24.462Z"
   },
   {
    "duration": 12,
    "start_time": "2022-12-28T16:49:26.014Z"
   },
   {
    "duration": 22,
    "start_time": "2022-12-28T16:49:35.502Z"
   },
   {
    "duration": 822,
    "start_time": "2022-12-28T16:49:57.233Z"
   },
   {
    "duration": 20,
    "start_time": "2022-12-28T16:50:11.020Z"
   },
   {
    "duration": 20,
    "start_time": "2022-12-28T16:51:02.597Z"
   },
   {
    "duration": 784,
    "start_time": "2022-12-28T16:51:24.440Z"
   },
   {
    "duration": 61,
    "start_time": "2022-12-28T16:51:37.393Z"
   },
   {
    "duration": 141,
    "start_time": "2022-12-28T16:52:04.653Z"
   },
   {
    "duration": 31,
    "start_time": "2022-12-28T16:53:23.890Z"
   },
   {
    "duration": 218,
    "start_time": "2022-12-28T16:53:28.554Z"
   },
   {
    "duration": 230,
    "start_time": "2022-12-28T16:56:35.237Z"
   },
   {
    "duration": 223,
    "start_time": "2022-12-28T18:04:07.845Z"
   },
   {
    "duration": 12,
    "start_time": "2022-12-28T18:08:15.205Z"
   },
   {
    "duration": 14,
    "start_time": "2022-12-28T18:09:22.522Z"
   },
   {
    "duration": 9,
    "start_time": "2022-12-28T18:09:38.915Z"
   },
   {
    "duration": 18,
    "start_time": "2022-12-28T18:09:44.909Z"
   },
   {
    "duration": 15,
    "start_time": "2022-12-28T18:10:32.834Z"
   },
   {
    "duration": 26,
    "start_time": "2022-12-28T18:20:30.776Z"
   },
   {
    "duration": 15,
    "start_time": "2022-12-28T18:22:22.222Z"
   },
   {
    "duration": 15,
    "start_time": "2022-12-28T18:22:57.740Z"
   },
   {
    "duration": 16,
    "start_time": "2022-12-28T18:25:22.407Z"
   },
   {
    "duration": 15,
    "start_time": "2022-12-28T18:26:22.694Z"
   },
   {
    "duration": 12,
    "start_time": "2022-12-28T18:26:38.855Z"
   },
   {
    "duration": 18,
    "start_time": "2022-12-28T18:28:53.220Z"
   },
   {
    "duration": 9,
    "start_time": "2022-12-28T18:30:33.400Z"
   },
   {
    "duration": 10,
    "start_time": "2022-12-28T18:31:05.027Z"
   },
   {
    "duration": 7,
    "start_time": "2022-12-28T18:31:10.515Z"
   },
   {
    "duration": 4,
    "start_time": "2022-12-28T18:31:23.038Z"
   },
   {
    "duration": 8,
    "start_time": "2022-12-28T18:31:26.813Z"
   },
   {
    "duration": 8,
    "start_time": "2022-12-28T18:31:29.392Z"
   },
   {
    "duration": 17,
    "start_time": "2022-12-28T18:31:30.433Z"
   },
   {
    "duration": 184,
    "start_time": "2022-12-28T18:33:23.945Z"
   },
   {
    "duration": 141,
    "start_time": "2022-12-28T18:34:02.193Z"
   },
   {
    "duration": 210,
    "start_time": "2022-12-28T18:34:34.275Z"
   },
   {
    "duration": 7,
    "start_time": "2022-12-28T18:35:53.552Z"
   },
   {
    "duration": 130,
    "start_time": "2022-12-28T18:35:59.312Z"
   },
   {
    "duration": 210,
    "start_time": "2022-12-28T18:36:59.500Z"
   },
   {
    "duration": 13,
    "start_time": "2022-12-28T18:48:04.160Z"
   },
   {
    "duration": 113,
    "start_time": "2022-12-28T18:48:14.025Z"
   },
   {
    "duration": 212,
    "start_time": "2022-12-28T18:48:32.314Z"
   },
   {
    "duration": 266,
    "start_time": "2022-12-28T18:49:29.523Z"
   },
   {
    "duration": 124,
    "start_time": "2022-12-28T18:50:16.069Z"
   },
   {
    "duration": 216,
    "start_time": "2022-12-28T18:50:26.194Z"
   },
   {
    "duration": 208,
    "start_time": "2022-12-28T18:50:48.602Z"
   },
   {
    "duration": 327,
    "start_time": "2022-12-28T18:51:18.332Z"
   },
   {
    "duration": 224,
    "start_time": "2022-12-28T18:51:26.269Z"
   },
   {
    "duration": 268,
    "start_time": "2022-12-28T18:51:31.398Z"
   },
   {
    "duration": 314,
    "start_time": "2022-12-28T18:51:36.411Z"
   },
   {
    "duration": 282,
    "start_time": "2022-12-28T18:51:47.153Z"
   },
   {
    "duration": 356,
    "start_time": "2022-12-28T18:52:12.769Z"
   },
   {
    "duration": 304,
    "start_time": "2022-12-28T18:52:38.443Z"
   },
   {
    "duration": 11,
    "start_time": "2022-12-28T18:57:39.863Z"
   },
   {
    "duration": 10,
    "start_time": "2022-12-28T18:58:08.438Z"
   },
   {
    "duration": 13,
    "start_time": "2022-12-28T18:59:04.560Z"
   },
   {
    "duration": 11,
    "start_time": "2022-12-28T19:08:56.639Z"
   },
   {
    "duration": 6,
    "start_time": "2022-12-28T19:10:39.721Z"
   },
   {
    "duration": 9,
    "start_time": "2022-12-28T19:13:54.924Z"
   },
   {
    "duration": 275,
    "start_time": "2022-12-28T19:14:03.049Z"
   },
   {
    "duration": 13,
    "start_time": "2022-12-28T19:15:48.830Z"
   },
   {
    "duration": 122,
    "start_time": "2022-12-28T19:16:01.489Z"
   },
   {
    "duration": 741,
    "start_time": "2022-12-28T19:16:28.060Z"
   },
   {
    "duration": 126,
    "start_time": "2022-12-28T19:16:35.493Z"
   },
   {
    "duration": 19,
    "start_time": "2022-12-28T19:17:44.471Z"
   },
   {
    "duration": 122,
    "start_time": "2022-12-28T19:17:59.029Z"
   },
   {
    "duration": 145,
    "start_time": "2022-12-28T19:19:33.590Z"
   },
   {
    "duration": 152,
    "start_time": "2022-12-28T19:19:42.238Z"
   },
   {
    "duration": 170,
    "start_time": "2022-12-28T19:22:17.428Z"
   },
   {
    "duration": 166,
    "start_time": "2022-12-28T19:22:24.176Z"
   },
   {
    "duration": 172,
    "start_time": "2022-12-28T19:22:30.144Z"
   },
   {
    "duration": 171,
    "start_time": "2022-12-28T19:23:29.952Z"
   },
   {
    "duration": 172,
    "start_time": "2022-12-28T19:23:38.010Z"
   },
   {
    "duration": 165,
    "start_time": "2022-12-28T19:25:10.955Z"
   },
   {
    "duration": 150,
    "start_time": "2022-12-28T19:25:20.223Z"
   },
   {
    "duration": 25,
    "start_time": "2022-12-28T19:43:13.506Z"
   },
   {
    "duration": 7,
    "start_time": "2022-12-28T19:47:33.156Z"
   },
   {
    "duration": 13,
    "start_time": "2022-12-28T19:47:40.063Z"
   },
   {
    "duration": 22,
    "start_time": "2022-12-28T19:49:26.646Z"
   },
   {
    "duration": 18,
    "start_time": "2022-12-28T19:50:35.946Z"
   },
   {
    "duration": 15,
    "start_time": "2022-12-28T19:51:05.638Z"
   },
   {
    "duration": 9,
    "start_time": "2022-12-28T19:53:13.824Z"
   },
   {
    "duration": 12,
    "start_time": "2022-12-28T19:53:57.193Z"
   },
   {
    "duration": 13,
    "start_time": "2022-12-28T19:56:59.688Z"
   },
   {
    "duration": 14,
    "start_time": "2022-12-28T19:57:10.433Z"
   },
   {
    "duration": 12,
    "start_time": "2022-12-28T19:58:00.890Z"
   },
   {
    "duration": 12,
    "start_time": "2022-12-28T19:58:11.250Z"
   },
   {
    "duration": 7,
    "start_time": "2022-12-28T19:58:33.947Z"
   },
   {
    "duration": 9,
    "start_time": "2022-12-28T19:59:02.599Z"
   },
   {
    "duration": 8,
    "start_time": "2022-12-28T19:59:08.214Z"
   },
   {
    "duration": 10,
    "start_time": "2022-12-28T19:59:30.427Z"
   },
   {
    "duration": 220,
    "start_time": "2022-12-28T19:59:44.520Z"
   },
   {
    "duration": 148,
    "start_time": "2022-12-28T19:59:57.219Z"
   },
   {
    "duration": 8,
    "start_time": "2022-12-28T20:00:03.491Z"
   },
   {
    "duration": 9,
    "start_time": "2022-12-28T20:01:50.808Z"
   },
   {
    "duration": 11,
    "start_time": "2022-12-28T20:01:52.755Z"
   },
   {
    "duration": 7,
    "start_time": "2022-12-28T20:01:55.693Z"
   },
   {
    "duration": 7,
    "start_time": "2022-12-28T20:01:57.988Z"
   },
   {
    "duration": 10,
    "start_time": "2022-12-28T20:11:15.543Z"
   },
   {
    "duration": 11,
    "start_time": "2022-12-28T20:11:34.770Z"
   },
   {
    "duration": 8,
    "start_time": "2022-12-28T20:11:51.240Z"
   },
   {
    "duration": 11,
    "start_time": "2022-12-28T20:12:07.697Z"
   },
   {
    "duration": 7,
    "start_time": "2022-12-28T20:12:13.086Z"
   },
   {
    "duration": 6,
    "start_time": "2022-12-28T20:20:13.193Z"
   },
   {
    "duration": 7,
    "start_time": "2022-12-28T20:20:41.510Z"
   },
   {
    "duration": 9,
    "start_time": "2022-12-28T20:20:52.678Z"
   },
   {
    "duration": 7,
    "start_time": "2022-12-28T20:21:01.939Z"
   },
   {
    "duration": 7,
    "start_time": "2022-12-28T20:21:14.015Z"
   },
   {
    "duration": 10,
    "start_time": "2022-12-28T20:33:50.341Z"
   },
   {
    "duration": 4,
    "start_time": "2022-12-28T20:34:36.551Z"
   },
   {
    "duration": 53,
    "start_time": "2022-12-28T20:35:52.917Z"
   },
   {
    "duration": 56,
    "start_time": "2022-12-28T20:36:04.905Z"
   },
   {
    "duration": 44,
    "start_time": "2022-12-28T20:37:52.803Z"
   },
   {
    "duration": 44,
    "start_time": "2022-12-28T20:38:02.308Z"
   },
   {
    "duration": 5,
    "start_time": "2022-12-28T20:38:09.101Z"
   },
   {
    "duration": 8,
    "start_time": "2022-12-28T20:38:27.542Z"
   },
   {
    "duration": 15,
    "start_time": "2022-12-28T20:38:56.578Z"
   },
   {
    "duration": 19,
    "start_time": "2022-12-28T20:40:17.362Z"
   },
   {
    "duration": 19,
    "start_time": "2022-12-28T20:40:42.444Z"
   },
   {
    "duration": 10,
    "start_time": "2022-12-28T20:41:00.160Z"
   },
   {
    "duration": 6,
    "start_time": "2022-12-28T20:41:07.666Z"
   },
   {
    "duration": 10,
    "start_time": "2022-12-28T20:41:09.020Z"
   },
   {
    "duration": 8,
    "start_time": "2022-12-28T20:42:50.893Z"
   },
   {
    "duration": 20,
    "start_time": "2022-12-28T20:42:58.996Z"
   },
   {
    "duration": 5,
    "start_time": "2022-12-28T20:43:12.302Z"
   },
   {
    "duration": 6,
    "start_time": "2022-12-28T20:43:53.345Z"
   },
   {
    "duration": 13,
    "start_time": "2022-12-28T20:43:54.750Z"
   },
   {
    "duration": 11,
    "start_time": "2022-12-28T20:43:57.824Z"
   },
   {
    "duration": 48,
    "start_time": "2022-12-28T20:47:19.857Z"
   },
   {
    "duration": 521,
    "start_time": "2022-12-28T20:47:40.474Z"
   },
   {
    "duration": 16,
    "start_time": "2022-12-28T20:47:40.997Z"
   },
   {
    "duration": 22,
    "start_time": "2022-12-28T20:47:41.014Z"
   },
   {
    "duration": 49,
    "start_time": "2022-12-28T20:47:41.039Z"
   },
   {
    "duration": 15,
    "start_time": "2022-12-28T20:47:41.090Z"
   },
   {
    "duration": 5,
    "start_time": "2022-12-28T20:47:41.107Z"
   },
   {
    "duration": 18,
    "start_time": "2022-12-28T20:47:41.113Z"
   },
   {
    "duration": 6,
    "start_time": "2022-12-28T20:47:41.132Z"
   },
   {
    "duration": 40,
    "start_time": "2022-12-28T20:47:41.140Z"
   },
   {
    "duration": 11,
    "start_time": "2022-12-28T20:47:41.183Z"
   },
   {
    "duration": 370,
    "start_time": "2022-12-28T20:47:41.196Z"
   },
   {
    "duration": 25,
    "start_time": "2022-12-28T20:47:41.568Z"
   },
   {
    "duration": 29,
    "start_time": "2022-12-28T20:47:41.595Z"
   },
   {
    "duration": 8,
    "start_time": "2022-12-28T20:47:41.626Z"
   },
   {
    "duration": 49,
    "start_time": "2022-12-28T20:47:41.636Z"
   },
   {
    "duration": 10,
    "start_time": "2022-12-28T20:47:41.687Z"
   },
   {
    "duration": 18,
    "start_time": "2022-12-28T20:47:41.698Z"
   },
   {
    "duration": 22,
    "start_time": "2022-12-28T20:47:41.717Z"
   },
   {
    "duration": 235,
    "start_time": "2022-12-28T20:47:41.741Z"
   },
   {
    "duration": 7,
    "start_time": "2022-12-28T20:47:41.977Z"
   },
   {
    "duration": 170,
    "start_time": "2022-12-28T20:47:41.986Z"
   },
   {
    "duration": 5,
    "start_time": "2022-12-28T20:47:42.158Z"
   },
   {
    "duration": 140,
    "start_time": "2022-12-28T20:47:42.175Z"
   },
   {
    "duration": 3,
    "start_time": "2022-12-28T20:47:42.317Z"
   },
   {
    "duration": 378,
    "start_time": "2022-12-28T20:47:42.322Z"
   },
   {
    "duration": 11,
    "start_time": "2022-12-28T20:47:42.701Z"
   },
   {
    "duration": 6,
    "start_time": "2022-12-28T20:47:42.713Z"
   },
   {
    "duration": 12,
    "start_time": "2022-12-28T20:47:42.723Z"
   },
   {
    "duration": 5,
    "start_time": "2022-12-28T20:47:42.736Z"
   },
   {
    "duration": 195,
    "start_time": "2022-12-28T20:47:42.742Z"
   },
   {
    "duration": 2,
    "start_time": "2022-12-28T20:47:42.939Z"
   },
   {
    "duration": 19,
    "start_time": "2022-12-28T20:47:42.942Z"
   },
   {
    "duration": 6,
    "start_time": "2022-12-28T20:47:42.977Z"
   },
   {
    "duration": 9,
    "start_time": "2022-12-28T20:47:42.984Z"
   },
   {
    "duration": 8,
    "start_time": "2022-12-28T20:47:42.995Z"
   },
   {
    "duration": 7,
    "start_time": "2022-12-28T20:47:43.005Z"
   },
   {
    "duration": 14,
    "start_time": "2022-12-28T20:47:43.013Z"
   },
   {
    "duration": 9,
    "start_time": "2022-12-28T20:47:43.028Z"
   },
   {
    "duration": 7,
    "start_time": "2022-12-28T20:47:43.039Z"
   },
   {
    "duration": 33,
    "start_time": "2022-12-28T20:47:43.047Z"
   },
   {
    "duration": 8,
    "start_time": "2022-12-28T20:47:43.081Z"
   },
   {
    "duration": 6,
    "start_time": "2022-12-28T20:47:43.091Z"
   },
   {
    "duration": 13,
    "start_time": "2022-12-28T20:47:43.099Z"
   },
   {
    "duration": 6,
    "start_time": "2022-12-28T20:47:43.113Z"
   },
   {
    "duration": 6,
    "start_time": "2022-12-28T20:47:43.121Z"
   },
   {
    "duration": 5,
    "start_time": "2022-12-28T20:47:43.129Z"
   },
   {
    "duration": 2,
    "start_time": "2022-12-28T20:47:43.136Z"
   },
   {
    "duration": 6,
    "start_time": "2022-12-28T20:47:43.140Z"
   },
   {
    "duration": 37,
    "start_time": "2022-12-28T20:47:43.148Z"
   },
   {
    "duration": 9,
    "start_time": "2022-12-28T20:47:43.186Z"
   },
   {
    "duration": 48,
    "start_time": "2022-12-28T20:47:43.197Z"
   },
   {
    "duration": 71,
    "start_time": "2022-12-28T20:48:04.451Z"
   },
   {
    "duration": 448,
    "start_time": "2022-12-28T20:48:38.139Z"
   },
   {
    "duration": 34,
    "start_time": "2022-12-28T21:00:48.137Z"
   },
   {
    "duration": 18,
    "start_time": "2022-12-28T21:01:04.294Z"
   },
   {
    "duration": 13,
    "start_time": "2022-12-28T21:01:06.202Z"
   },
   {
    "duration": 6,
    "start_time": "2022-12-28T21:04:16.205Z"
   },
   {
    "duration": 595,
    "start_time": "2022-12-29T08:04:11.299Z"
   },
   {
    "duration": 15,
    "start_time": "2022-12-29T08:04:11.895Z"
   },
   {
    "duration": 30,
    "start_time": "2022-12-29T08:04:11.911Z"
   },
   {
    "duration": 14,
    "start_time": "2022-12-29T08:04:11.943Z"
   },
   {
    "duration": 11,
    "start_time": "2022-12-29T08:04:11.958Z"
   },
   {
    "duration": 6,
    "start_time": "2022-12-29T08:04:11.971Z"
   },
   {
    "duration": 16,
    "start_time": "2022-12-29T08:04:11.978Z"
   },
   {
    "duration": 18,
    "start_time": "2022-12-29T08:04:11.995Z"
   },
   {
    "duration": 14,
    "start_time": "2022-12-29T08:04:12.014Z"
   },
   {
    "duration": 12,
    "start_time": "2022-12-29T08:04:12.030Z"
   },
   {
    "duration": 386,
    "start_time": "2022-12-29T08:04:12.044Z"
   },
   {
    "duration": 19,
    "start_time": "2022-12-29T08:04:12.432Z"
   },
   {
    "duration": 21,
    "start_time": "2022-12-29T08:04:12.453Z"
   },
   {
    "duration": 12,
    "start_time": "2022-12-29T08:04:12.476Z"
   },
   {
    "duration": 42,
    "start_time": "2022-12-29T08:04:12.490Z"
   },
   {
    "duration": 25,
    "start_time": "2022-12-29T08:04:12.533Z"
   },
   {
    "duration": 47,
    "start_time": "2022-12-29T08:04:12.560Z"
   },
   {
    "duration": 48,
    "start_time": "2022-12-29T08:04:12.609Z"
   },
   {
    "duration": 217,
    "start_time": "2022-12-29T08:04:12.658Z"
   },
   {
    "duration": 8,
    "start_time": "2022-12-29T08:04:12.876Z"
   },
   {
    "duration": 164,
    "start_time": "2022-12-29T08:04:12.885Z"
   },
   {
    "duration": 5,
    "start_time": "2022-12-29T08:04:13.051Z"
   },
   {
    "duration": 154,
    "start_time": "2022-12-29T08:04:13.057Z"
   },
   {
    "duration": 2,
    "start_time": "2022-12-29T08:04:13.213Z"
   },
   {
    "duration": 389,
    "start_time": "2022-12-29T08:04:13.217Z"
   },
   {
    "duration": 11,
    "start_time": "2022-12-29T08:04:13.608Z"
   },
   {
    "duration": 12,
    "start_time": "2022-12-29T08:04:13.620Z"
   },
   {
    "duration": 22,
    "start_time": "2022-12-29T08:04:13.636Z"
   },
   {
    "duration": 23,
    "start_time": "2022-12-29T08:04:13.660Z"
   },
   {
    "duration": 172,
    "start_time": "2022-12-29T08:04:13.684Z"
   },
   {
    "duration": 2,
    "start_time": "2022-12-29T08:04:13.858Z"
   },
   {
    "duration": 47,
    "start_time": "2022-12-29T08:04:13.862Z"
   },
   {
    "duration": 32,
    "start_time": "2022-12-29T08:04:13.911Z"
   },
   {
    "duration": 33,
    "start_time": "2022-12-29T08:04:13.945Z"
   },
   {
    "duration": 31,
    "start_time": "2022-12-29T08:04:13.980Z"
   },
   {
    "duration": 30,
    "start_time": "2022-12-29T08:04:14.013Z"
   },
   {
    "duration": 19,
    "start_time": "2022-12-29T08:04:14.044Z"
   },
   {
    "duration": 22,
    "start_time": "2022-12-29T08:04:14.064Z"
   },
   {
    "duration": 37,
    "start_time": "2022-12-29T08:04:14.087Z"
   },
   {
    "duration": 22,
    "start_time": "2022-12-29T08:04:14.126Z"
   },
   {
    "duration": 31,
    "start_time": "2022-12-29T08:04:14.150Z"
   },
   {
    "duration": 8,
    "start_time": "2022-12-29T08:04:14.183Z"
   },
   {
    "duration": 19,
    "start_time": "2022-12-29T08:04:14.193Z"
   },
   {
    "duration": 25,
    "start_time": "2022-12-29T08:04:14.213Z"
   },
   {
    "duration": 13,
    "start_time": "2022-12-29T08:04:14.240Z"
   },
   {
    "duration": 27,
    "start_time": "2022-12-29T08:04:14.255Z"
   },
   {
    "duration": 18,
    "start_time": "2022-12-29T08:04:14.283Z"
   },
   {
    "duration": 18,
    "start_time": "2022-12-29T08:04:14.303Z"
   },
   {
    "duration": 29,
    "start_time": "2022-12-29T08:04:14.322Z"
   },
   {
    "duration": 22,
    "start_time": "2022-12-29T08:04:14.353Z"
   },
   {
    "duration": 11,
    "start_time": "2022-12-29T08:04:14.376Z"
   },
   {
    "duration": 445,
    "start_time": "2022-12-29T08:04:14.388Z"
   },
   {
    "duration": 15,
    "start_time": "2022-12-29T08:04:14.834Z"
   },
   {
    "duration": 22,
    "start_time": "2022-12-29T08:04:14.850Z"
   },
   {
    "duration": 28,
    "start_time": "2022-12-29T08:04:14.875Z"
   },
   {
    "duration": 17,
    "start_time": "2022-12-29T08:04:14.905Z"
   },
   {
    "duration": 12,
    "start_time": "2022-12-29T08:20:57.198Z"
   },
   {
    "duration": 461,
    "start_time": "2022-12-29T08:21:06.518Z"
   },
   {
    "duration": 15,
    "start_time": "2022-12-29T08:21:06.981Z"
   },
   {
    "duration": 20,
    "start_time": "2022-12-29T08:21:06.998Z"
   },
   {
    "duration": 18,
    "start_time": "2022-12-29T08:21:07.020Z"
   },
   {
    "duration": 12,
    "start_time": "2022-12-29T08:21:07.039Z"
   },
   {
    "duration": 6,
    "start_time": "2022-12-29T08:21:07.052Z"
   },
   {
    "duration": 16,
    "start_time": "2022-12-29T08:21:07.059Z"
   },
   {
    "duration": 5,
    "start_time": "2022-12-29T08:21:07.077Z"
   },
   {
    "duration": 38,
    "start_time": "2022-12-29T08:21:07.083Z"
   },
   {
    "duration": 14,
    "start_time": "2022-12-29T08:21:07.124Z"
   },
   {
    "duration": 9,
    "start_time": "2022-12-29T08:21:07.140Z"
   },
   {
    "duration": 373,
    "start_time": "2022-12-29T08:21:07.151Z"
   },
   {
    "duration": 19,
    "start_time": "2022-12-29T08:21:07.526Z"
   },
   {
    "duration": 19,
    "start_time": "2022-12-29T08:21:07.547Z"
   },
   {
    "duration": 5,
    "start_time": "2022-12-29T08:21:07.568Z"
   },
   {
    "duration": 46,
    "start_time": "2022-12-29T08:21:07.574Z"
   },
   {
    "duration": 9,
    "start_time": "2022-12-29T08:21:07.622Z"
   },
   {
    "duration": 18,
    "start_time": "2022-12-29T08:21:07.633Z"
   },
   {
    "duration": 23,
    "start_time": "2022-12-29T08:21:07.653Z"
   },
   {
    "duration": 207,
    "start_time": "2022-12-29T08:21:07.678Z"
   },
   {
    "duration": 7,
    "start_time": "2022-12-29T08:21:07.888Z"
   },
   {
    "duration": 154,
    "start_time": "2022-12-29T08:21:07.897Z"
   },
   {
    "duration": 6,
    "start_time": "2022-12-29T08:21:08.053Z"
   },
   {
    "duration": 139,
    "start_time": "2022-12-29T08:21:08.061Z"
   },
   {
    "duration": 2,
    "start_time": "2022-12-29T08:21:08.202Z"
   },
   {
    "duration": 336,
    "start_time": "2022-12-29T08:21:08.212Z"
   },
   {
    "duration": 11,
    "start_time": "2022-12-29T08:21:08.550Z"
   },
   {
    "duration": 2,
    "start_time": "2022-12-29T08:21:08.564Z"
   },
   {
    "duration": 15,
    "start_time": "2022-12-29T08:21:08.567Z"
   },
   {
    "duration": 5,
    "start_time": "2022-12-29T08:21:08.584Z"
   },
   {
    "duration": 162,
    "start_time": "2022-12-29T08:21:08.590Z"
   },
   {
    "duration": 2,
    "start_time": "2022-12-29T08:21:08.754Z"
   },
   {
    "duration": 21,
    "start_time": "2022-12-29T08:21:08.757Z"
   },
   {
    "duration": 7,
    "start_time": "2022-12-29T08:21:08.779Z"
   },
   {
    "duration": 7,
    "start_time": "2022-12-29T08:21:08.788Z"
   },
   {
    "duration": 20,
    "start_time": "2022-12-29T08:21:08.796Z"
   },
   {
    "duration": 8,
    "start_time": "2022-12-29T08:21:08.818Z"
   },
   {
    "duration": 5,
    "start_time": "2022-12-29T08:21:08.827Z"
   },
   {
    "duration": 9,
    "start_time": "2022-12-29T08:21:08.833Z"
   },
   {
    "duration": 8,
    "start_time": "2022-12-29T08:21:08.843Z"
   },
   {
    "duration": 13,
    "start_time": "2022-12-29T08:21:08.853Z"
   },
   {
    "duration": 12,
    "start_time": "2022-12-29T08:21:08.867Z"
   },
   {
    "duration": 2,
    "start_time": "2022-12-29T08:21:08.881Z"
   },
   {
    "duration": 30,
    "start_time": "2022-12-29T08:21:08.885Z"
   },
   {
    "duration": 11,
    "start_time": "2022-12-29T08:21:08.916Z"
   },
   {
    "duration": 12,
    "start_time": "2022-12-29T08:21:08.929Z"
   },
   {
    "duration": 8,
    "start_time": "2022-12-29T08:21:08.943Z"
   },
   {
    "duration": 5,
    "start_time": "2022-12-29T08:21:08.952Z"
   },
   {
    "duration": 12,
    "start_time": "2022-12-29T08:21:08.959Z"
   },
   {
    "duration": 22,
    "start_time": "2022-12-29T08:21:08.972Z"
   },
   {
    "duration": 24,
    "start_time": "2022-12-29T08:21:08.995Z"
   },
   {
    "duration": 5,
    "start_time": "2022-12-29T08:21:09.020Z"
   },
   {
    "duration": 379,
    "start_time": "2022-12-29T08:21:09.026Z"
   },
   {
    "duration": 22,
    "start_time": "2022-12-29T08:21:09.407Z"
   },
   {
    "duration": 9,
    "start_time": "2022-12-29T08:21:09.430Z"
   },
   {
    "duration": 6,
    "start_time": "2022-12-29T08:21:09.441Z"
   },
   {
    "duration": 8,
    "start_time": "2022-12-29T08:21:09.448Z"
   },
   {
    "duration": 6,
    "start_time": "2022-12-29T08:29:51.851Z"
   },
   {
    "duration": 463,
    "start_time": "2022-12-29T08:29:56.438Z"
   },
   {
    "duration": 16,
    "start_time": "2022-12-29T08:29:56.903Z"
   },
   {
    "duration": 24,
    "start_time": "2022-12-29T08:29:56.921Z"
   },
   {
    "duration": 23,
    "start_time": "2022-12-29T08:29:56.947Z"
   },
   {
    "duration": 41,
    "start_time": "2022-12-29T08:29:56.973Z"
   },
   {
    "duration": 6,
    "start_time": "2022-12-29T08:29:57.015Z"
   },
   {
    "duration": 19,
    "start_time": "2022-12-29T08:29:57.023Z"
   },
   {
    "duration": 5,
    "start_time": "2022-12-29T08:29:57.043Z"
   },
   {
    "duration": 18,
    "start_time": "2022-12-29T08:29:57.050Z"
   },
   {
    "duration": 14,
    "start_time": "2022-12-29T08:29:57.070Z"
   },
   {
    "duration": 398,
    "start_time": "2022-12-29T08:29:57.086Z"
   },
   {
    "duration": 27,
    "start_time": "2022-12-29T08:29:57.486Z"
   },
   {
    "duration": 22,
    "start_time": "2022-12-29T08:29:57.514Z"
   },
   {
    "duration": 5,
    "start_time": "2022-12-29T08:29:57.537Z"
   },
   {
    "duration": 23,
    "start_time": "2022-12-29T08:29:57.544Z"
   },
   {
    "duration": 18,
    "start_time": "2022-12-29T08:29:57.569Z"
   },
   {
    "duration": 36,
    "start_time": "2022-12-29T08:29:57.588Z"
   },
   {
    "duration": 22,
    "start_time": "2022-12-29T08:29:57.626Z"
   },
   {
    "duration": 217,
    "start_time": "2022-12-29T08:29:57.649Z"
   },
   {
    "duration": 8,
    "start_time": "2022-12-29T08:29:57.867Z"
   },
   {
    "duration": 174,
    "start_time": "2022-12-29T08:29:57.876Z"
   },
   {
    "duration": 4,
    "start_time": "2022-12-29T08:29:58.052Z"
   },
   {
    "duration": 141,
    "start_time": "2022-12-29T08:29:58.058Z"
   },
   {
    "duration": 2,
    "start_time": "2022-12-29T08:29:58.201Z"
   },
   {
    "duration": 342,
    "start_time": "2022-12-29T08:29:58.212Z"
   },
   {
    "duration": 12,
    "start_time": "2022-12-29T08:29:58.555Z"
   },
   {
    "duration": 5,
    "start_time": "2022-12-29T08:29:58.569Z"
   },
   {
    "duration": 12,
    "start_time": "2022-12-29T08:29:58.578Z"
   },
   {
    "duration": 26,
    "start_time": "2022-12-29T08:29:58.591Z"
   },
   {
    "duration": 160,
    "start_time": "2022-12-29T08:29:58.618Z"
   },
   {
    "duration": 2,
    "start_time": "2022-12-29T08:29:58.780Z"
   },
   {
    "duration": 28,
    "start_time": "2022-12-29T08:29:58.784Z"
   },
   {
    "duration": 10,
    "start_time": "2022-12-29T08:29:58.814Z"
   },
   {
    "duration": 11,
    "start_time": "2022-12-29T08:29:58.825Z"
   },
   {
    "duration": 8,
    "start_time": "2022-12-29T08:29:58.837Z"
   },
   {
    "duration": 8,
    "start_time": "2022-12-29T08:29:58.847Z"
   },
   {
    "duration": 4,
    "start_time": "2022-12-29T08:29:58.857Z"
   },
   {
    "duration": 10,
    "start_time": "2022-12-29T08:29:58.862Z"
   },
   {
    "duration": 10,
    "start_time": "2022-12-29T08:29:58.873Z"
   },
   {
    "duration": 9,
    "start_time": "2022-12-29T08:29:58.913Z"
   },
   {
    "duration": 14,
    "start_time": "2022-12-29T08:29:58.924Z"
   },
   {
    "duration": 14,
    "start_time": "2022-12-29T08:29:58.940Z"
   },
   {
    "duration": 14,
    "start_time": "2022-12-29T08:29:58.955Z"
   },
   {
    "duration": 9,
    "start_time": "2022-12-29T08:29:58.971Z"
   },
   {
    "duration": 8,
    "start_time": "2022-12-29T08:29:58.982Z"
   },
   {
    "duration": 24,
    "start_time": "2022-12-29T08:29:58.992Z"
   },
   {
    "duration": 2,
    "start_time": "2022-12-29T08:29:59.018Z"
   },
   {
    "duration": 9,
    "start_time": "2022-12-29T08:29:59.022Z"
   },
   {
    "duration": 8,
    "start_time": "2022-12-29T08:29:59.033Z"
   },
   {
    "duration": 15,
    "start_time": "2022-12-29T08:29:59.042Z"
   },
   {
    "duration": 11,
    "start_time": "2022-12-29T08:29:59.058Z"
   },
   {
    "duration": 4,
    "start_time": "2022-12-29T08:29:59.071Z"
   },
   {
    "duration": 434,
    "start_time": "2022-12-29T08:29:59.077Z"
   },
   {
    "duration": 15,
    "start_time": "2022-12-29T08:29:59.513Z"
   },
   {
    "duration": 20,
    "start_time": "2022-12-29T08:29:59.530Z"
   },
   {
    "duration": 6,
    "start_time": "2022-12-29T08:29:59.552Z"
   },
   {
    "duration": 8,
    "start_time": "2022-12-29T08:29:59.559Z"
   },
   {
    "duration": 428,
    "start_time": "2022-12-29T08:31:04.954Z"
   },
   {
    "duration": 14,
    "start_time": "2022-12-29T08:31:05.384Z"
   },
   {
    "duration": 26,
    "start_time": "2022-12-29T08:31:05.400Z"
   },
   {
    "duration": 15,
    "start_time": "2022-12-29T08:31:05.427Z"
   },
   {
    "duration": 16,
    "start_time": "2022-12-29T08:31:05.444Z"
   },
   {
    "duration": 11,
    "start_time": "2022-12-29T08:31:05.461Z"
   },
   {
    "duration": 14,
    "start_time": "2022-12-29T08:31:05.474Z"
   },
   {
    "duration": 23,
    "start_time": "2022-12-29T08:31:05.490Z"
   },
   {
    "duration": 22,
    "start_time": "2022-12-29T08:31:05.515Z"
   },
   {
    "duration": 16,
    "start_time": "2022-12-29T08:31:05.539Z"
   },
   {
    "duration": 422,
    "start_time": "2022-12-29T08:31:05.558Z"
   },
   {
    "duration": 34,
    "start_time": "2022-12-29T08:31:05.982Z"
   },
   {
    "duration": 24,
    "start_time": "2022-12-29T08:31:06.018Z"
   },
   {
    "duration": 6,
    "start_time": "2022-12-29T08:31:06.047Z"
   },
   {
    "duration": 29,
    "start_time": "2022-12-29T08:31:06.055Z"
   },
   {
    "duration": 31,
    "start_time": "2022-12-29T08:31:06.086Z"
   },
   {
    "duration": 17,
    "start_time": "2022-12-29T08:31:06.119Z"
   },
   {
    "duration": 28,
    "start_time": "2022-12-29T08:31:06.138Z"
   },
   {
    "duration": 215,
    "start_time": "2022-12-29T08:31:06.168Z"
   },
   {
    "duration": 7,
    "start_time": "2022-12-29T08:31:06.385Z"
   },
   {
    "duration": 152,
    "start_time": "2022-12-29T08:31:06.394Z"
   },
   {
    "duration": 5,
    "start_time": "2022-12-29T08:31:06.548Z"
   },
   {
    "duration": 138,
    "start_time": "2022-12-29T08:31:06.555Z"
   },
   {
    "duration": 3,
    "start_time": "2022-12-29T08:31:06.695Z"
   },
   {
    "duration": 408,
    "start_time": "2022-12-29T08:31:06.700Z"
   },
   {
    "duration": 15,
    "start_time": "2022-12-29T08:31:07.110Z"
   },
   {
    "duration": 2,
    "start_time": "2022-12-29T08:31:07.127Z"
   },
   {
    "duration": 20,
    "start_time": "2022-12-29T08:31:07.131Z"
   },
   {
    "duration": 8,
    "start_time": "2022-12-29T08:31:07.153Z"
   },
   {
    "duration": 199,
    "start_time": "2022-12-29T08:31:07.163Z"
   },
   {
    "duration": 2,
    "start_time": "2022-12-29T08:31:07.364Z"
   },
   {
    "duration": 18,
    "start_time": "2022-12-29T08:31:07.368Z"
   },
   {
    "duration": 6,
    "start_time": "2022-12-29T08:31:07.388Z"
   },
   {
    "duration": 7,
    "start_time": "2022-12-29T08:31:07.413Z"
   },
   {
    "duration": 9,
    "start_time": "2022-12-29T08:31:07.422Z"
   },
   {
    "duration": 11,
    "start_time": "2022-12-29T08:31:07.432Z"
   },
   {
    "duration": 5,
    "start_time": "2022-12-29T08:31:07.444Z"
   },
   {
    "duration": 12,
    "start_time": "2022-12-29T08:31:07.450Z"
   },
   {
    "duration": 8,
    "start_time": "2022-12-29T08:31:07.463Z"
   },
   {
    "duration": 8,
    "start_time": "2022-12-29T08:31:07.473Z"
   },
   {
    "duration": 7,
    "start_time": "2022-12-29T08:31:07.514Z"
   },
   {
    "duration": 5,
    "start_time": "2022-12-29T08:31:07.523Z"
   },
   {
    "duration": 11,
    "start_time": "2022-12-29T08:31:07.530Z"
   },
   {
    "duration": 9,
    "start_time": "2022-12-29T08:31:07.543Z"
   },
   {
    "duration": 8,
    "start_time": "2022-12-29T08:31:07.554Z"
   },
   {
    "duration": 8,
    "start_time": "2022-12-29T08:31:07.564Z"
   },
   {
    "duration": 3,
    "start_time": "2022-12-29T08:31:07.574Z"
   },
   {
    "duration": 34,
    "start_time": "2022-12-29T08:31:07.579Z"
   },
   {
    "duration": 6,
    "start_time": "2022-12-29T08:31:07.615Z"
   },
   {
    "duration": 11,
    "start_time": "2022-12-29T08:31:07.622Z"
   },
   {
    "duration": 12,
    "start_time": "2022-12-29T08:31:07.634Z"
   },
   {
    "duration": 6,
    "start_time": "2022-12-29T08:31:07.648Z"
   },
   {
    "duration": 416,
    "start_time": "2022-12-29T08:31:07.655Z"
   },
   {
    "duration": 12,
    "start_time": "2022-12-29T08:31:08.073Z"
   },
   {
    "duration": 13,
    "start_time": "2022-12-29T08:31:08.087Z"
   },
   {
    "duration": 17,
    "start_time": "2022-12-29T08:31:08.102Z"
   },
   {
    "duration": 9,
    "start_time": "2022-12-29T08:31:08.121Z"
   },
   {
    "duration": 476,
    "start_time": "2022-12-29T08:31:26.287Z"
   },
   {
    "duration": 14,
    "start_time": "2022-12-29T08:31:26.765Z"
   },
   {
    "duration": 38,
    "start_time": "2022-12-29T08:31:26.781Z"
   },
   {
    "duration": 28,
    "start_time": "2022-12-29T08:31:26.821Z"
   },
   {
    "duration": 24,
    "start_time": "2022-12-29T08:31:26.850Z"
   },
   {
    "duration": 6,
    "start_time": "2022-12-29T08:31:26.876Z"
   },
   {
    "duration": 18,
    "start_time": "2022-12-29T08:31:26.884Z"
   },
   {
    "duration": 5,
    "start_time": "2022-12-29T08:31:26.904Z"
   },
   {
    "duration": 16,
    "start_time": "2022-12-29T08:31:26.911Z"
   },
   {
    "duration": 12,
    "start_time": "2022-12-29T08:31:26.930Z"
   },
   {
    "duration": 369,
    "start_time": "2022-12-29T08:31:26.944Z"
   },
   {
    "duration": 22,
    "start_time": "2022-12-29T08:31:27.314Z"
   },
   {
    "duration": 23,
    "start_time": "2022-12-29T08:31:27.338Z"
   },
   {
    "duration": 7,
    "start_time": "2022-12-29T08:31:27.363Z"
   },
   {
    "duration": 51,
    "start_time": "2022-12-29T08:31:27.371Z"
   },
   {
    "duration": 9,
    "start_time": "2022-12-29T08:31:27.424Z"
   },
   {
    "duration": 20,
    "start_time": "2022-12-29T08:31:27.435Z"
   },
   {
    "duration": 24,
    "start_time": "2022-12-29T08:31:27.456Z"
   },
   {
    "duration": 219,
    "start_time": "2022-12-29T08:31:27.481Z"
   },
   {
    "duration": 12,
    "start_time": "2022-12-29T08:31:27.702Z"
   },
   {
    "duration": 153,
    "start_time": "2022-12-29T08:31:27.716Z"
   },
   {
    "duration": 5,
    "start_time": "2022-12-29T08:31:27.870Z"
   },
   {
    "duration": 168,
    "start_time": "2022-12-29T08:31:27.876Z"
   },
   {
    "duration": 2,
    "start_time": "2022-12-29T08:31:28.046Z"
   },
   {
    "duration": 346,
    "start_time": "2022-12-29T08:31:28.049Z"
   },
   {
    "duration": 16,
    "start_time": "2022-12-29T08:31:28.397Z"
   },
   {
    "duration": 24,
    "start_time": "2022-12-29T08:31:28.415Z"
   },
   {
    "duration": 53,
    "start_time": "2022-12-29T08:31:28.442Z"
   },
   {
    "duration": 18,
    "start_time": "2022-12-29T08:31:28.496Z"
   },
   {
    "duration": 187,
    "start_time": "2022-12-29T08:31:28.515Z"
   },
   {
    "duration": 8,
    "start_time": "2022-12-29T08:31:28.704Z"
   },
   {
    "duration": 46,
    "start_time": "2022-12-29T08:31:28.714Z"
   },
   {
    "duration": 43,
    "start_time": "2022-12-29T08:31:28.762Z"
   },
   {
    "duration": 37,
    "start_time": "2022-12-29T08:31:28.806Z"
   },
   {
    "duration": 48,
    "start_time": "2022-12-29T08:31:28.845Z"
   },
   {
    "duration": 39,
    "start_time": "2022-12-29T08:31:28.895Z"
   },
   {
    "duration": 31,
    "start_time": "2022-12-29T08:31:28.936Z"
   },
   {
    "duration": 41,
    "start_time": "2022-12-29T08:31:28.969Z"
   },
   {
    "duration": 25,
    "start_time": "2022-12-29T08:31:29.012Z"
   },
   {
    "duration": 54,
    "start_time": "2022-12-29T08:31:29.038Z"
   },
   {
    "duration": 24,
    "start_time": "2022-12-29T08:31:29.094Z"
   },
   {
    "duration": 53,
    "start_time": "2022-12-29T08:31:29.120Z"
   },
   {
    "duration": 31,
    "start_time": "2022-12-29T08:31:29.175Z"
   },
   {
    "duration": 16,
    "start_time": "2022-12-29T08:31:29.208Z"
   },
   {
    "duration": 51,
    "start_time": "2022-12-29T08:31:29.226Z"
   },
   {
    "duration": 29,
    "start_time": "2022-12-29T08:31:29.279Z"
   },
   {
    "duration": 50,
    "start_time": "2022-12-29T08:31:29.309Z"
   },
   {
    "duration": 18,
    "start_time": "2022-12-29T08:31:29.360Z"
   },
   {
    "duration": 47,
    "start_time": "2022-12-29T08:31:29.381Z"
   },
   {
    "duration": 24,
    "start_time": "2022-12-29T08:31:29.430Z"
   },
   {
    "duration": 25,
    "start_time": "2022-12-29T08:31:29.455Z"
   },
   {
    "duration": 5,
    "start_time": "2022-12-29T08:31:29.482Z"
   },
   {
    "duration": 415,
    "start_time": "2022-12-29T08:31:29.488Z"
   },
   {
    "duration": 20,
    "start_time": "2022-12-29T08:31:29.904Z"
   },
   {
    "duration": 11,
    "start_time": "2022-12-29T08:31:29.925Z"
   },
   {
    "duration": 5,
    "start_time": "2022-12-29T08:31:29.937Z"
   },
   {
    "duration": 11,
    "start_time": "2022-12-29T08:31:29.943Z"
   },
   {
    "duration": 8,
    "start_time": "2022-12-29T08:32:46.994Z"
   },
   {
    "duration": 485,
    "start_time": "2022-12-29T08:32:51.194Z"
   },
   {
    "duration": 16,
    "start_time": "2022-12-29T08:32:51.681Z"
   },
   {
    "duration": 29,
    "start_time": "2022-12-29T08:32:51.699Z"
   },
   {
    "duration": 16,
    "start_time": "2022-12-29T08:32:51.731Z"
   },
   {
    "duration": 12,
    "start_time": "2022-12-29T08:32:51.750Z"
   },
   {
    "duration": 31,
    "start_time": "2022-12-29T08:32:51.765Z"
   },
   {
    "duration": 25,
    "start_time": "2022-12-29T08:32:51.798Z"
   },
   {
    "duration": 7,
    "start_time": "2022-12-29T08:32:51.825Z"
   },
   {
    "duration": 31,
    "start_time": "2022-12-29T08:32:51.834Z"
   },
   {
    "duration": 19,
    "start_time": "2022-12-29T08:32:51.868Z"
   },
   {
    "duration": 407,
    "start_time": "2022-12-29T08:32:51.888Z"
   },
   {
    "duration": 29,
    "start_time": "2022-12-29T08:32:52.297Z"
   },
   {
    "duration": 25,
    "start_time": "2022-12-29T08:32:52.328Z"
   },
   {
    "duration": 7,
    "start_time": "2022-12-29T08:32:52.355Z"
   },
   {
    "duration": 27,
    "start_time": "2022-12-29T08:32:52.364Z"
   },
   {
    "duration": 29,
    "start_time": "2022-12-29T08:32:52.393Z"
   },
   {
    "duration": 50,
    "start_time": "2022-12-29T08:32:52.424Z"
   },
   {
    "duration": 24,
    "start_time": "2022-12-29T08:32:52.476Z"
   },
   {
    "duration": 188,
    "start_time": "2022-12-29T08:32:52.502Z"
   },
   {
    "duration": 8,
    "start_time": "2022-12-29T08:32:52.693Z"
   },
   {
    "duration": 146,
    "start_time": "2022-12-29T08:32:52.713Z"
   },
   {
    "duration": 5,
    "start_time": "2022-12-29T08:32:52.860Z"
   },
   {
    "duration": 156,
    "start_time": "2022-12-29T08:32:52.867Z"
   },
   {
    "duration": 2,
    "start_time": "2022-12-29T08:32:53.025Z"
   },
   {
    "duration": 348,
    "start_time": "2022-12-29T08:32:53.029Z"
   },
   {
    "duration": 13,
    "start_time": "2022-12-29T08:32:53.379Z"
   },
   {
    "duration": 54,
    "start_time": "2022-12-29T08:32:53.394Z"
   },
   {
    "duration": 38,
    "start_time": "2022-12-29T08:32:53.453Z"
   },
   {
    "duration": 25,
    "start_time": "2022-12-29T08:32:53.492Z"
   },
   {
    "duration": 182,
    "start_time": "2022-12-29T08:32:53.518Z"
   },
   {
    "duration": 2,
    "start_time": "2022-12-29T08:32:53.701Z"
   },
   {
    "duration": 47,
    "start_time": "2022-12-29T08:32:53.712Z"
   },
   {
    "duration": 31,
    "start_time": "2022-12-29T08:32:53.761Z"
   },
   {
    "duration": 39,
    "start_time": "2022-12-29T08:32:53.793Z"
   },
   {
    "duration": 12,
    "start_time": "2022-12-29T08:32:53.833Z"
   },
   {
    "duration": 34,
    "start_time": "2022-12-29T08:32:53.846Z"
   },
   {
    "duration": 33,
    "start_time": "2022-12-29T08:32:53.881Z"
   },
   {
    "duration": 29,
    "start_time": "2022-12-29T08:32:53.915Z"
   },
   {
    "duration": 28,
    "start_time": "2022-12-29T08:32:53.945Z"
   },
   {
    "duration": 45,
    "start_time": "2022-12-29T08:32:53.974Z"
   },
   {
    "duration": 14,
    "start_time": "2022-12-29T08:32:54.021Z"
   },
   {
    "duration": 33,
    "start_time": "2022-12-29T08:32:54.036Z"
   },
   {
    "duration": 41,
    "start_time": "2022-12-29T08:32:54.070Z"
   },
   {
    "duration": 20,
    "start_time": "2022-12-29T08:32:54.113Z"
   },
   {
    "duration": 41,
    "start_time": "2022-12-29T08:32:54.135Z"
   },
   {
    "duration": 27,
    "start_time": "2022-12-29T08:32:54.178Z"
   },
   {
    "duration": 26,
    "start_time": "2022-12-29T08:32:54.208Z"
   },
   {
    "duration": 39,
    "start_time": "2022-12-29T08:32:54.236Z"
   },
   {
    "duration": 24,
    "start_time": "2022-12-29T08:32:54.277Z"
   },
   {
    "duration": 47,
    "start_time": "2022-12-29T08:32:54.303Z"
   },
   {
    "duration": 43,
    "start_time": "2022-12-29T08:32:54.351Z"
   },
   {
    "duration": 30,
    "start_time": "2022-12-29T08:32:54.397Z"
   },
   {
    "duration": 474,
    "start_time": "2022-12-29T08:32:54.429Z"
   },
   {
    "duration": 19,
    "start_time": "2022-12-29T08:32:54.905Z"
   },
   {
    "duration": 29,
    "start_time": "2022-12-29T08:32:54.926Z"
   },
   {
    "duration": 28,
    "start_time": "2022-12-29T08:32:54.956Z"
   },
   {
    "duration": 28,
    "start_time": "2022-12-29T08:32:54.986Z"
   },
   {
    "duration": 508,
    "start_time": "2023-01-03T16:47:49.473Z"
   },
   {
    "duration": 20,
    "start_time": "2023-01-03T16:47:49.983Z"
   },
   {
    "duration": 24,
    "start_time": "2023-01-03T16:47:50.005Z"
   },
   {
    "duration": 20,
    "start_time": "2023-01-03T16:47:50.031Z"
   },
   {
    "duration": 13,
    "start_time": "2023-01-03T16:47:50.054Z"
   },
   {
    "duration": 17,
    "start_time": "2023-01-03T16:47:50.068Z"
   },
   {
    "duration": 16,
    "start_time": "2023-01-03T16:47:50.087Z"
   },
   {
    "duration": 5,
    "start_time": "2023-01-03T16:47:50.105Z"
   },
   {
    "duration": 35,
    "start_time": "2023-01-03T16:47:50.111Z"
   },
   {
    "duration": 14,
    "start_time": "2023-01-03T16:47:50.148Z"
   },
   {
    "duration": 521,
    "start_time": "2023-01-03T16:47:50.164Z"
   },
   {
    "duration": 22,
    "start_time": "2023-01-03T16:47:50.687Z"
   },
   {
    "duration": 37,
    "start_time": "2023-01-03T16:47:50.710Z"
   },
   {
    "duration": 5,
    "start_time": "2023-01-03T16:47:50.750Z"
   },
   {
    "duration": 24,
    "start_time": "2023-01-03T16:47:50.757Z"
   },
   {
    "duration": 9,
    "start_time": "2023-01-03T16:47:50.783Z"
   },
   {
    "duration": 17,
    "start_time": "2023-01-03T16:47:50.794Z"
   },
   {
    "duration": 44,
    "start_time": "2023-01-03T16:47:50.812Z"
   },
   {
    "duration": 225,
    "start_time": "2023-01-03T16:47:50.858Z"
   },
   {
    "duration": 8,
    "start_time": "2023-01-03T16:47:51.085Z"
   },
   {
    "duration": 168,
    "start_time": "2023-01-03T16:47:51.094Z"
   },
   {
    "duration": 5,
    "start_time": "2023-01-03T16:47:51.263Z"
   },
   {
    "duration": 210,
    "start_time": "2023-01-03T16:47:51.270Z"
   },
   {
    "duration": 3,
    "start_time": "2023-01-03T16:47:51.482Z"
   },
   {
    "duration": 324,
    "start_time": "2023-01-03T16:47:51.486Z"
   },
   {
    "duration": 12,
    "start_time": "2023-01-03T16:47:51.811Z"
   },
   {
    "duration": 2,
    "start_time": "2023-01-03T16:47:51.836Z"
   },
   {
    "duration": 30,
    "start_time": "2023-01-03T16:47:51.840Z"
   },
   {
    "duration": 14,
    "start_time": "2023-01-03T16:47:51.872Z"
   },
   {
    "duration": 170,
    "start_time": "2023-01-03T16:47:51.888Z"
   },
   {
    "duration": 2,
    "start_time": "2023-01-03T16:47:52.061Z"
   },
   {
    "duration": 27,
    "start_time": "2023-01-03T16:47:52.065Z"
   },
   {
    "duration": 26,
    "start_time": "2023-01-03T16:47:52.094Z"
   },
   {
    "duration": 17,
    "start_time": "2023-01-03T16:47:52.122Z"
   },
   {
    "duration": 16,
    "start_time": "2023-01-03T16:47:52.140Z"
   },
   {
    "duration": 13,
    "start_time": "2023-01-03T16:47:52.158Z"
   },
   {
    "duration": 13,
    "start_time": "2023-01-03T16:47:52.173Z"
   },
   {
    "duration": 21,
    "start_time": "2023-01-03T16:47:52.187Z"
   },
   {
    "duration": 9,
    "start_time": "2023-01-03T16:47:52.210Z"
   },
   {
    "duration": 23,
    "start_time": "2023-01-03T16:47:52.221Z"
   },
   {
    "duration": 12,
    "start_time": "2023-01-03T16:47:52.248Z"
   },
   {
    "duration": 9,
    "start_time": "2023-01-03T16:47:52.261Z"
   },
   {
    "duration": 24,
    "start_time": "2023-01-03T16:47:52.272Z"
   },
   {
    "duration": 9,
    "start_time": "2023-01-03T16:47:52.298Z"
   },
   {
    "duration": 12,
    "start_time": "2023-01-03T16:47:52.309Z"
   },
   {
    "duration": 14,
    "start_time": "2023-01-03T16:47:52.322Z"
   },
   {
    "duration": 12,
    "start_time": "2023-01-03T16:47:52.337Z"
   },
   {
    "duration": 18,
    "start_time": "2023-01-03T16:47:52.350Z"
   },
   {
    "duration": 23,
    "start_time": "2023-01-03T16:47:52.370Z"
   },
   {
    "duration": 20,
    "start_time": "2023-01-03T16:47:52.397Z"
   },
   {
    "duration": 18,
    "start_time": "2023-01-03T16:47:52.419Z"
   },
   {
    "duration": 461,
    "start_time": "2023-01-03T16:47:52.439Z"
   },
   {
    "duration": 14,
    "start_time": "2023-01-03T16:47:52.902Z"
   },
   {
    "duration": 31,
    "start_time": "2023-01-03T16:47:52.917Z"
   },
   {
    "duration": 19,
    "start_time": "2023-01-03T16:47:52.950Z"
   },
   {
    "duration": 23,
    "start_time": "2023-01-03T16:47:52.971Z"
   },
   {
    "duration": 65,
    "start_time": "2023-01-03T16:48:12.714Z"
   },
   {
    "duration": 806,
    "start_time": "2023-01-03T16:51:57.488Z"
   },
   {
    "duration": 460,
    "start_time": "2023-01-03T16:52:05.576Z"
   },
   {
    "duration": 16,
    "start_time": "2023-01-03T16:52:06.038Z"
   },
   {
    "duration": 21,
    "start_time": "2023-01-03T16:52:06.058Z"
   },
   {
    "duration": 96,
    "start_time": "2023-01-03T16:52:06.081Z"
   },
   {
    "duration": 0,
    "start_time": "2023-01-03T16:52:06.181Z"
   },
   {
    "duration": 0,
    "start_time": "2023-01-03T16:52:06.182Z"
   },
   {
    "duration": 0,
    "start_time": "2023-01-03T16:52:06.183Z"
   },
   {
    "duration": 0,
    "start_time": "2023-01-03T16:52:06.184Z"
   },
   {
    "duration": 0,
    "start_time": "2023-01-03T16:52:06.186Z"
   },
   {
    "duration": 0,
    "start_time": "2023-01-03T16:52:06.187Z"
   },
   {
    "duration": 0,
    "start_time": "2023-01-03T16:52:06.188Z"
   },
   {
    "duration": 0,
    "start_time": "2023-01-03T16:52:06.189Z"
   },
   {
    "duration": 0,
    "start_time": "2023-01-03T16:52:06.190Z"
   },
   {
    "duration": 0,
    "start_time": "2023-01-03T16:52:06.191Z"
   },
   {
    "duration": 0,
    "start_time": "2023-01-03T16:52:06.192Z"
   },
   {
    "duration": 0,
    "start_time": "2023-01-03T16:52:06.193Z"
   },
   {
    "duration": 0,
    "start_time": "2023-01-03T16:52:06.194Z"
   },
   {
    "duration": 0,
    "start_time": "2023-01-03T16:52:06.195Z"
   },
   {
    "duration": 0,
    "start_time": "2023-01-03T16:52:06.196Z"
   },
   {
    "duration": 0,
    "start_time": "2023-01-03T16:52:06.197Z"
   },
   {
    "duration": 0,
    "start_time": "2023-01-03T16:52:06.198Z"
   },
   {
    "duration": 0,
    "start_time": "2023-01-03T16:52:06.199Z"
   },
   {
    "duration": 0,
    "start_time": "2023-01-03T16:52:06.200Z"
   },
   {
    "duration": 0,
    "start_time": "2023-01-03T16:52:06.201Z"
   },
   {
    "duration": 0,
    "start_time": "2023-01-03T16:52:06.202Z"
   },
   {
    "duration": 0,
    "start_time": "2023-01-03T16:52:06.203Z"
   },
   {
    "duration": 0,
    "start_time": "2023-01-03T16:52:06.236Z"
   },
   {
    "duration": 0,
    "start_time": "2023-01-03T16:52:06.237Z"
   },
   {
    "duration": 0,
    "start_time": "2023-01-03T16:52:06.238Z"
   },
   {
    "duration": 0,
    "start_time": "2023-01-03T16:52:06.239Z"
   },
   {
    "duration": 0,
    "start_time": "2023-01-03T16:52:06.240Z"
   },
   {
    "duration": 0,
    "start_time": "2023-01-03T16:52:06.241Z"
   },
   {
    "duration": 0,
    "start_time": "2023-01-03T16:52:06.243Z"
   },
   {
    "duration": 0,
    "start_time": "2023-01-03T16:52:06.244Z"
   },
   {
    "duration": 0,
    "start_time": "2023-01-03T16:52:06.245Z"
   },
   {
    "duration": 0,
    "start_time": "2023-01-03T16:52:06.246Z"
   },
   {
    "duration": 0,
    "start_time": "2023-01-03T16:52:06.247Z"
   },
   {
    "duration": 0,
    "start_time": "2023-01-03T16:52:06.248Z"
   },
   {
    "duration": 0,
    "start_time": "2023-01-03T16:52:06.249Z"
   },
   {
    "duration": 0,
    "start_time": "2023-01-03T16:52:06.250Z"
   },
   {
    "duration": 0,
    "start_time": "2023-01-03T16:52:06.251Z"
   },
   {
    "duration": 0,
    "start_time": "2023-01-03T16:52:06.252Z"
   },
   {
    "duration": 0,
    "start_time": "2023-01-03T16:52:06.253Z"
   },
   {
    "duration": 0,
    "start_time": "2023-01-03T16:52:06.254Z"
   },
   {
    "duration": 0,
    "start_time": "2023-01-03T16:52:06.255Z"
   },
   {
    "duration": 0,
    "start_time": "2023-01-03T16:52:06.256Z"
   },
   {
    "duration": 0,
    "start_time": "2023-01-03T16:52:06.257Z"
   },
   {
    "duration": 0,
    "start_time": "2023-01-03T16:52:06.258Z"
   },
   {
    "duration": 0,
    "start_time": "2023-01-03T16:52:06.259Z"
   },
   {
    "duration": 0,
    "start_time": "2023-01-03T16:52:06.260Z"
   },
   {
    "duration": 0,
    "start_time": "2023-01-03T16:52:06.261Z"
   },
   {
    "duration": 0,
    "start_time": "2023-01-03T16:52:06.262Z"
   },
   {
    "duration": 0,
    "start_time": "2023-01-03T16:52:06.263Z"
   },
   {
    "duration": 0,
    "start_time": "2023-01-03T16:52:06.264Z"
   },
   {
    "duration": 0,
    "start_time": "2023-01-03T16:52:06.265Z"
   },
   {
    "duration": 0,
    "start_time": "2023-01-03T16:52:06.266Z"
   },
   {
    "duration": 15,
    "start_time": "2023-01-03T16:57:26.806Z"
   },
   {
    "duration": 18,
    "start_time": "2023-01-03T16:57:41.611Z"
   },
   {
    "duration": 14,
    "start_time": "2023-01-03T16:57:55.299Z"
   },
   {
    "duration": 15,
    "start_time": "2023-01-03T16:58:25.114Z"
   },
   {
    "duration": 5,
    "start_time": "2023-01-03T16:58:35.737Z"
   },
   {
    "duration": 548,
    "start_time": "2023-01-03T16:58:55.125Z"
   },
   {
    "duration": 17,
    "start_time": "2023-01-03T16:58:55.675Z"
   },
   {
    "duration": 33,
    "start_time": "2023-01-03T16:58:55.694Z"
   },
   {
    "duration": 22,
    "start_time": "2023-01-03T16:58:55.734Z"
   },
   {
    "duration": 30,
    "start_time": "2023-01-03T16:58:55.758Z"
   },
   {
    "duration": 24,
    "start_time": "2023-01-03T16:58:55.790Z"
   },
   {
    "duration": 33,
    "start_time": "2023-01-03T16:58:55.816Z"
   },
   {
    "duration": 13,
    "start_time": "2023-01-03T16:58:55.851Z"
   },
   {
    "duration": 30,
    "start_time": "2023-01-03T16:58:55.866Z"
   },
   {
    "duration": 18,
    "start_time": "2023-01-03T16:58:55.899Z"
   },
   {
    "duration": 434,
    "start_time": "2023-01-03T16:58:55.919Z"
   },
   {
    "duration": 24,
    "start_time": "2023-01-03T16:58:56.355Z"
   },
   {
    "duration": 54,
    "start_time": "2023-01-03T16:58:56.381Z"
   },
   {
    "duration": 7,
    "start_time": "2023-01-03T16:58:56.438Z"
   },
   {
    "duration": 46,
    "start_time": "2023-01-03T16:58:56.447Z"
   },
   {
    "duration": 28,
    "start_time": "2023-01-03T16:58:56.495Z"
   },
   {
    "duration": 33,
    "start_time": "2023-01-03T16:58:56.525Z"
   },
   {
    "duration": 27,
    "start_time": "2023-01-03T16:58:56.561Z"
   },
   {
    "duration": 267,
    "start_time": "2023-01-03T16:58:56.590Z"
   },
   {
    "duration": 11,
    "start_time": "2023-01-03T16:58:56.859Z"
   },
   {
    "duration": 242,
    "start_time": "2023-01-03T16:58:56.873Z"
   },
   {
    "duration": 7,
    "start_time": "2023-01-03T16:58:57.118Z"
   },
   {
    "duration": 154,
    "start_time": "2023-01-03T16:58:57.134Z"
   },
   {
    "duration": 3,
    "start_time": "2023-01-03T16:58:57.289Z"
   },
   {
    "duration": 392,
    "start_time": "2023-01-03T16:58:57.294Z"
   },
   {
    "duration": 15,
    "start_time": "2023-01-03T16:58:57.688Z"
   },
   {
    "duration": 21,
    "start_time": "2023-01-03T16:58:57.705Z"
   },
   {
    "duration": 29,
    "start_time": "2023-01-03T16:58:57.735Z"
   },
   {
    "duration": 860,
    "start_time": "2023-01-03T16:58:57.766Z"
   },
   {
    "duration": 175,
    "start_time": "2023-01-03T16:58:58.628Z"
   },
   {
    "duration": 2,
    "start_time": "2023-01-03T16:58:58.805Z"
   },
   {
    "duration": 37,
    "start_time": "2023-01-03T16:58:58.809Z"
   },
   {
    "duration": 31,
    "start_time": "2023-01-03T16:58:58.847Z"
   },
   {
    "duration": 18,
    "start_time": "2023-01-03T16:58:58.880Z"
   },
   {
    "duration": 19,
    "start_time": "2023-01-03T16:58:58.900Z"
   },
   {
    "duration": 13,
    "start_time": "2023-01-03T16:58:58.921Z"
   },
   {
    "duration": 23,
    "start_time": "2023-01-03T16:58:58.936Z"
   },
   {
    "duration": 19,
    "start_time": "2023-01-03T16:58:58.962Z"
   },
   {
    "duration": 17,
    "start_time": "2023-01-03T16:58:58.984Z"
   },
   {
    "duration": 22,
    "start_time": "2023-01-03T16:58:59.003Z"
   },
   {
    "duration": 31,
    "start_time": "2023-01-03T16:58:59.026Z"
   },
   {
    "duration": 16,
    "start_time": "2023-01-03T16:58:59.059Z"
   },
   {
    "duration": 21,
    "start_time": "2023-01-03T16:58:59.077Z"
   },
   {
    "duration": 23,
    "start_time": "2023-01-03T16:58:59.100Z"
   },
   {
    "duration": 29,
    "start_time": "2023-01-03T16:58:59.125Z"
   },
   {
    "duration": 11,
    "start_time": "2023-01-03T16:58:59.156Z"
   },
   {
    "duration": 12,
    "start_time": "2023-01-03T16:58:59.168Z"
   },
   {
    "duration": 20,
    "start_time": "2023-01-03T16:58:59.183Z"
   },
   {
    "duration": 33,
    "start_time": "2023-01-03T16:58:59.205Z"
   },
   {
    "duration": 19,
    "start_time": "2023-01-03T16:58:59.240Z"
   },
   {
    "duration": 9,
    "start_time": "2023-01-03T16:58:59.261Z"
   },
   {
    "duration": 475,
    "start_time": "2023-01-03T16:58:59.272Z"
   },
   {
    "duration": 15,
    "start_time": "2023-01-03T16:58:59.749Z"
   },
   {
    "duration": 26,
    "start_time": "2023-01-03T16:58:59.766Z"
   },
   {
    "duration": 28,
    "start_time": "2023-01-03T16:58:59.794Z"
   },
   {
    "duration": 20,
    "start_time": "2023-01-03T16:58:59.824Z"
   },
   {
    "duration": 10,
    "start_time": "2023-01-03T16:59:25.776Z"
   },
   {
    "duration": 20,
    "start_time": "2023-01-03T17:00:46.999Z"
   },
   {
    "duration": 29,
    "start_time": "2023-01-03T17:00:54.541Z"
   },
   {
    "duration": 30,
    "start_time": "2023-01-03T17:01:11.619Z"
   },
   {
    "duration": 547,
    "start_time": "2023-01-03T17:01:19.732Z"
   },
   {
    "duration": 18,
    "start_time": "2023-01-03T17:01:20.282Z"
   },
   {
    "duration": 39,
    "start_time": "2023-01-03T17:01:20.301Z"
   },
   {
    "duration": 23,
    "start_time": "2023-01-03T17:01:20.344Z"
   },
   {
    "duration": 20,
    "start_time": "2023-01-03T17:01:20.369Z"
   },
   {
    "duration": 11,
    "start_time": "2023-01-03T17:01:20.391Z"
   },
   {
    "duration": 41,
    "start_time": "2023-01-03T17:01:20.404Z"
   },
   {
    "duration": 20,
    "start_time": "2023-01-03T17:01:20.447Z"
   },
   {
    "duration": 26,
    "start_time": "2023-01-03T17:01:20.468Z"
   },
   {
    "duration": 31,
    "start_time": "2023-01-03T17:01:20.498Z"
   },
   {
    "duration": 411,
    "start_time": "2023-01-03T17:01:20.531Z"
   },
   {
    "duration": 23,
    "start_time": "2023-01-03T17:01:20.944Z"
   },
   {
    "duration": 24,
    "start_time": "2023-01-03T17:01:20.968Z"
   },
   {
    "duration": 10,
    "start_time": "2023-01-03T17:01:20.993Z"
   },
   {
    "duration": 51,
    "start_time": "2023-01-03T17:01:21.005Z"
   },
   {
    "duration": 24,
    "start_time": "2023-01-03T17:01:21.058Z"
   },
   {
    "duration": 22,
    "start_time": "2023-01-03T17:01:21.084Z"
   },
   {
    "duration": 37,
    "start_time": "2023-01-03T17:01:21.107Z"
   },
   {
    "duration": 231,
    "start_time": "2023-01-03T17:01:21.146Z"
   },
   {
    "duration": 10,
    "start_time": "2023-01-03T17:01:21.380Z"
   },
   {
    "duration": 219,
    "start_time": "2023-01-03T17:01:21.392Z"
   },
   {
    "duration": 6,
    "start_time": "2023-01-03T17:01:21.613Z"
   },
   {
    "duration": 175,
    "start_time": "2023-01-03T17:01:21.621Z"
   },
   {
    "duration": 3,
    "start_time": "2023-01-03T17:01:21.797Z"
   },
   {
    "duration": 396,
    "start_time": "2023-01-03T17:01:21.802Z"
   },
   {
    "duration": 13,
    "start_time": "2023-01-03T17:01:22.200Z"
   },
   {
    "duration": 11,
    "start_time": "2023-01-03T17:01:22.215Z"
   },
   {
    "duration": 13,
    "start_time": "2023-01-03T17:01:22.238Z"
   },
   {
    "duration": 13,
    "start_time": "2023-01-03T17:01:22.253Z"
   },
   {
    "duration": 191,
    "start_time": "2023-01-03T17:01:22.268Z"
   },
   {
    "duration": 3,
    "start_time": "2023-01-03T17:01:22.461Z"
   },
   {
    "duration": 41,
    "start_time": "2023-01-03T17:01:22.465Z"
   },
   {
    "duration": 24,
    "start_time": "2023-01-03T17:01:22.508Z"
   },
   {
    "duration": 23,
    "start_time": "2023-01-03T17:01:22.534Z"
   },
   {
    "duration": 28,
    "start_time": "2023-01-03T17:01:22.559Z"
   },
   {
    "duration": 24,
    "start_time": "2023-01-03T17:01:22.588Z"
   },
   {
    "duration": 16,
    "start_time": "2023-01-03T17:01:22.614Z"
   },
   {
    "duration": 21,
    "start_time": "2023-01-03T17:01:22.632Z"
   },
   {
    "duration": 26,
    "start_time": "2023-01-03T17:01:22.655Z"
   },
   {
    "duration": 11,
    "start_time": "2023-01-03T17:01:22.683Z"
   },
   {
    "duration": 15,
    "start_time": "2023-01-03T17:01:22.696Z"
   },
   {
    "duration": 5,
    "start_time": "2023-01-03T17:01:22.713Z"
   },
   {
    "duration": 15,
    "start_time": "2023-01-03T17:01:22.720Z"
   },
   {
    "duration": 12,
    "start_time": "2023-01-03T17:01:22.737Z"
   },
   {
    "duration": 12,
    "start_time": "2023-01-03T17:01:22.750Z"
   },
   {
    "duration": 13,
    "start_time": "2023-01-03T17:01:22.764Z"
   },
   {
    "duration": 10,
    "start_time": "2023-01-03T17:01:22.780Z"
   },
   {
    "duration": 15,
    "start_time": "2023-01-03T17:01:22.792Z"
   },
   {
    "duration": 30,
    "start_time": "2023-01-03T17:01:22.809Z"
   },
   {
    "duration": 29,
    "start_time": "2023-01-03T17:01:22.840Z"
   },
   {
    "duration": 9,
    "start_time": "2023-01-03T17:01:22.871Z"
   },
   {
    "duration": 436,
    "start_time": "2023-01-03T17:01:22.882Z"
   },
   {
    "duration": 21,
    "start_time": "2023-01-03T17:01:23.320Z"
   },
   {
    "duration": 16,
    "start_time": "2023-01-03T17:01:23.343Z"
   },
   {
    "duration": 4,
    "start_time": "2023-01-03T17:01:23.360Z"
   },
   {
    "duration": 11,
    "start_time": "2023-01-03T17:01:23.366Z"
   },
   {
    "duration": 10,
    "start_time": "2023-01-03T17:02:36.217Z"
   },
   {
    "duration": 10,
    "start_time": "2023-01-03T17:02:48.101Z"
   },
   {
    "duration": 9,
    "start_time": "2023-01-03T17:02:53.044Z"
   },
   {
    "duration": 11,
    "start_time": "2023-01-03T17:02:58.056Z"
   },
   {
    "duration": 9,
    "start_time": "2023-01-03T17:03:01.132Z"
   },
   {
    "duration": 8,
    "start_time": "2023-01-03T17:03:30.571Z"
   },
   {
    "duration": 7,
    "start_time": "2023-01-03T17:03:41.702Z"
   },
   {
    "duration": 6,
    "start_time": "2023-01-03T17:03:44.562Z"
   },
   {
    "duration": 491,
    "start_time": "2023-01-03T17:03:49.646Z"
   },
   {
    "duration": 17,
    "start_time": "2023-01-03T17:03:50.140Z"
   },
   {
    "duration": 31,
    "start_time": "2023-01-03T17:03:50.160Z"
   },
   {
    "duration": 7,
    "start_time": "2023-01-03T17:03:50.193Z"
   },
   {
    "duration": 46,
    "start_time": "2023-01-03T17:03:50.202Z"
   },
   {
    "duration": 9,
    "start_time": "2023-01-03T17:03:50.251Z"
   },
   {
    "duration": 25,
    "start_time": "2023-01-03T17:03:50.262Z"
   },
   {
    "duration": 6,
    "start_time": "2023-01-03T17:03:50.289Z"
   },
   {
    "duration": 45,
    "start_time": "2023-01-03T17:03:50.297Z"
   },
   {
    "duration": 13,
    "start_time": "2023-01-03T17:03:50.344Z"
   },
   {
    "duration": 382,
    "start_time": "2023-01-03T17:03:50.359Z"
   },
   {
    "duration": 28,
    "start_time": "2023-01-03T17:03:50.743Z"
   },
   {
    "duration": 36,
    "start_time": "2023-01-03T17:03:50.773Z"
   },
   {
    "duration": 28,
    "start_time": "2023-01-03T17:03:50.811Z"
   },
   {
    "duration": 27,
    "start_time": "2023-01-03T17:03:50.841Z"
   },
   {
    "duration": 18,
    "start_time": "2023-01-03T17:03:50.870Z"
   },
   {
    "duration": 27,
    "start_time": "2023-01-03T17:03:50.891Z"
   },
   {
    "duration": 36,
    "start_time": "2023-01-03T17:03:50.920Z"
   },
   {
    "duration": 226,
    "start_time": "2023-01-03T17:03:50.958Z"
   },
   {
    "duration": 7,
    "start_time": "2023-01-03T17:03:51.186Z"
   },
   {
    "duration": 166,
    "start_time": "2023-01-03T17:03:51.195Z"
   },
   {
    "duration": 5,
    "start_time": "2023-01-03T17:03:51.363Z"
   },
   {
    "duration": 146,
    "start_time": "2023-01-03T17:03:51.369Z"
   },
   {
    "duration": 2,
    "start_time": "2023-01-03T17:03:51.517Z"
   },
   {
    "duration": 370,
    "start_time": "2023-01-03T17:03:51.521Z"
   },
   {
    "duration": 11,
    "start_time": "2023-01-03T17:03:51.892Z"
   },
   {
    "duration": 8,
    "start_time": "2023-01-03T17:03:51.905Z"
   },
   {
    "duration": 11,
    "start_time": "2023-01-03T17:03:51.936Z"
   },
   {
    "duration": 7,
    "start_time": "2023-01-03T17:03:51.948Z"
   },
   {
    "duration": 179,
    "start_time": "2023-01-03T17:03:51.957Z"
   },
   {
    "duration": 3,
    "start_time": "2023-01-03T17:03:52.138Z"
   },
   {
    "duration": 27,
    "start_time": "2023-01-03T17:03:52.143Z"
   },
   {
    "duration": 12,
    "start_time": "2023-01-03T17:03:52.172Z"
   },
   {
    "duration": 10,
    "start_time": "2023-01-03T17:03:52.186Z"
   },
   {
    "duration": 10,
    "start_time": "2023-01-03T17:03:52.197Z"
   },
   {
    "duration": 27,
    "start_time": "2023-01-03T17:03:52.209Z"
   },
   {
    "duration": 14,
    "start_time": "2023-01-03T17:03:52.238Z"
   },
   {
    "duration": 12,
    "start_time": "2023-01-03T17:03:52.254Z"
   },
   {
    "duration": 15,
    "start_time": "2023-01-03T17:03:52.267Z"
   },
   {
    "duration": 14,
    "start_time": "2023-01-03T17:03:52.283Z"
   },
   {
    "duration": 13,
    "start_time": "2023-01-03T17:03:52.298Z"
   },
   {
    "duration": 2,
    "start_time": "2023-01-03T17:03:52.313Z"
   },
   {
    "duration": 22,
    "start_time": "2023-01-03T17:03:52.317Z"
   },
   {
    "duration": 9,
    "start_time": "2023-01-03T17:03:52.341Z"
   },
   {
    "duration": 10,
    "start_time": "2023-01-03T17:03:52.352Z"
   },
   {
    "duration": 13,
    "start_time": "2023-01-03T17:03:52.364Z"
   },
   {
    "duration": 9,
    "start_time": "2023-01-03T17:03:52.379Z"
   },
   {
    "duration": 20,
    "start_time": "2023-01-03T17:03:52.391Z"
   },
   {
    "duration": 24,
    "start_time": "2023-01-03T17:03:52.414Z"
   },
   {
    "duration": 18,
    "start_time": "2023-01-03T17:03:52.441Z"
   },
   {
    "duration": 11,
    "start_time": "2023-01-03T17:03:52.463Z"
   },
   {
    "duration": 460,
    "start_time": "2023-01-03T17:03:52.476Z"
   },
   {
    "duration": 14,
    "start_time": "2023-01-03T17:03:52.937Z"
   },
   {
    "duration": 24,
    "start_time": "2023-01-03T17:03:52.953Z"
   },
   {
    "duration": 20,
    "start_time": "2023-01-03T17:03:52.978Z"
   },
   {
    "duration": 10,
    "start_time": "2023-01-03T17:03:53.000Z"
   },
   {
    "duration": 9,
    "start_time": "2023-01-03T17:04:17.677Z"
   },
   {
    "duration": 12,
    "start_time": "2023-01-03T17:06:29.333Z"
   },
   {
    "duration": 469,
    "start_time": "2023-01-03T17:06:38.765Z"
   },
   {
    "duration": 18,
    "start_time": "2023-01-03T17:06:39.236Z"
   },
   {
    "duration": 29,
    "start_time": "2023-01-03T17:06:39.256Z"
   },
   {
    "duration": 21,
    "start_time": "2023-01-03T17:06:39.287Z"
   },
   {
    "duration": 44,
    "start_time": "2023-01-03T17:06:39.311Z"
   },
   {
    "duration": 20,
    "start_time": "2023-01-03T17:06:39.357Z"
   },
   {
    "duration": 27,
    "start_time": "2023-01-03T17:06:39.379Z"
   },
   {
    "duration": 14,
    "start_time": "2023-01-03T17:06:39.408Z"
   },
   {
    "duration": 31,
    "start_time": "2023-01-03T17:06:39.424Z"
   },
   {
    "duration": 25,
    "start_time": "2023-01-03T17:06:39.457Z"
   },
   {
    "duration": 402,
    "start_time": "2023-01-03T17:06:39.484Z"
   },
   {
    "duration": 21,
    "start_time": "2023-01-03T17:06:39.888Z"
   },
   {
    "duration": 51,
    "start_time": "2023-01-03T17:06:39.911Z"
   },
   {
    "duration": 6,
    "start_time": "2023-01-03T17:06:39.967Z"
   },
   {
    "duration": 38,
    "start_time": "2023-01-03T17:06:39.974Z"
   },
   {
    "duration": 35,
    "start_time": "2023-01-03T17:06:40.014Z"
   },
   {
    "duration": 53,
    "start_time": "2023-01-03T17:06:40.051Z"
   },
   {
    "duration": 23,
    "start_time": "2023-01-03T17:06:40.106Z"
   },
   {
    "duration": 191,
    "start_time": "2023-01-03T17:06:40.131Z"
   },
   {
    "duration": 14,
    "start_time": "2023-01-03T17:06:40.324Z"
   },
   {
    "duration": 155,
    "start_time": "2023-01-03T17:06:40.339Z"
   },
   {
    "duration": 5,
    "start_time": "2023-01-03T17:06:40.496Z"
   },
   {
    "duration": 140,
    "start_time": "2023-01-03T17:06:40.503Z"
   },
   {
    "duration": 2,
    "start_time": "2023-01-03T17:06:40.645Z"
   },
   {
    "duration": 350,
    "start_time": "2023-01-03T17:06:40.649Z"
   },
   {
    "duration": 12,
    "start_time": "2023-01-03T17:06:41.000Z"
   },
   {
    "duration": 5,
    "start_time": "2023-01-03T17:06:41.013Z"
   },
   {
    "duration": 21,
    "start_time": "2023-01-03T17:06:41.019Z"
   },
   {
    "duration": 7,
    "start_time": "2023-01-03T17:06:41.041Z"
   },
   {
    "duration": 162,
    "start_time": "2023-01-03T17:06:41.049Z"
   },
   {
    "duration": 2,
    "start_time": "2023-01-03T17:06:41.213Z"
   },
   {
    "duration": 27,
    "start_time": "2023-01-03T17:06:41.217Z"
   },
   {
    "duration": 12,
    "start_time": "2023-01-03T17:06:41.247Z"
   },
   {
    "duration": 12,
    "start_time": "2023-01-03T17:06:41.260Z"
   },
   {
    "duration": 10,
    "start_time": "2023-01-03T17:06:41.273Z"
   },
   {
    "duration": 9,
    "start_time": "2023-01-03T17:06:41.284Z"
   },
   {
    "duration": 5,
    "start_time": "2023-01-03T17:06:41.295Z"
   },
   {
    "duration": 12,
    "start_time": "2023-01-03T17:06:41.301Z"
   },
   {
    "duration": 8,
    "start_time": "2023-01-03T17:06:41.314Z"
   },
   {
    "duration": 17,
    "start_time": "2023-01-03T17:06:41.323Z"
   },
   {
    "duration": 14,
    "start_time": "2023-01-03T17:06:41.344Z"
   },
   {
    "duration": 5,
    "start_time": "2023-01-03T17:06:41.359Z"
   },
   {
    "duration": 9,
    "start_time": "2023-01-03T17:06:41.365Z"
   },
   {
    "duration": 6,
    "start_time": "2023-01-03T17:06:41.375Z"
   },
   {
    "duration": 7,
    "start_time": "2023-01-03T17:06:41.383Z"
   },
   {
    "duration": 6,
    "start_time": "2023-01-03T17:06:41.391Z"
   },
   {
    "duration": 37,
    "start_time": "2023-01-03T17:06:41.398Z"
   },
   {
    "duration": 10,
    "start_time": "2023-01-03T17:06:41.437Z"
   },
   {
    "duration": 11,
    "start_time": "2023-01-03T17:06:41.448Z"
   },
   {
    "duration": 10,
    "start_time": "2023-01-03T17:06:41.461Z"
   },
   {
    "duration": 7,
    "start_time": "2023-01-03T17:06:41.473Z"
   },
   {
    "duration": 425,
    "start_time": "2023-01-03T17:06:41.481Z"
   },
   {
    "duration": 13,
    "start_time": "2023-01-03T17:06:41.908Z"
   },
   {
    "duration": 26,
    "start_time": "2023-01-03T17:06:41.922Z"
   },
   {
    "duration": 16,
    "start_time": "2023-01-03T17:06:41.949Z"
   },
   {
    "duration": 10,
    "start_time": "2023-01-03T17:06:41.967Z"
   },
   {
    "duration": 98,
    "start_time": "2023-01-03T17:11:55.257Z"
   },
   {
    "duration": 14,
    "start_time": "2023-01-03T17:12:19.317Z"
   },
   {
    "duration": 11,
    "start_time": "2023-01-03T17:12:44.473Z"
   },
   {
    "duration": 10,
    "start_time": "2023-01-03T17:12:49.519Z"
   },
   {
    "duration": 500,
    "start_time": "2023-01-03T17:12:54.224Z"
   },
   {
    "duration": 17,
    "start_time": "2023-01-03T17:12:54.726Z"
   },
   {
    "duration": 44,
    "start_time": "2023-01-03T17:12:54.745Z"
   },
   {
    "duration": 19,
    "start_time": "2023-01-03T17:12:54.791Z"
   },
   {
    "duration": 18,
    "start_time": "2023-01-03T17:12:54.811Z"
   },
   {
    "duration": 18,
    "start_time": "2023-01-03T17:12:54.831Z"
   },
   {
    "duration": 23,
    "start_time": "2023-01-03T17:12:54.851Z"
   },
   {
    "duration": 14,
    "start_time": "2023-01-03T17:12:54.875Z"
   },
   {
    "duration": 35,
    "start_time": "2023-01-03T17:12:54.891Z"
   },
   {
    "duration": 42,
    "start_time": "2023-01-03T17:12:54.928Z"
   },
   {
    "duration": 437,
    "start_time": "2023-01-03T17:12:54.972Z"
   },
   {
    "duration": 29,
    "start_time": "2023-01-03T17:12:55.411Z"
   },
   {
    "duration": 28,
    "start_time": "2023-01-03T17:12:55.442Z"
   },
   {
    "duration": 10,
    "start_time": "2023-01-03T17:12:55.472Z"
   },
   {
    "duration": 44,
    "start_time": "2023-01-03T17:12:55.483Z"
   },
   {
    "duration": 27,
    "start_time": "2023-01-03T17:12:55.529Z"
   },
   {
    "duration": 36,
    "start_time": "2023-01-03T17:12:55.558Z"
   },
   {
    "duration": 24,
    "start_time": "2023-01-03T17:12:55.596Z"
   },
   {
    "duration": 219,
    "start_time": "2023-01-03T17:12:55.621Z"
   },
   {
    "duration": 9,
    "start_time": "2023-01-03T17:12:55.842Z"
   },
   {
    "duration": 205,
    "start_time": "2023-01-03T17:12:55.852Z"
   },
   {
    "duration": 6,
    "start_time": "2023-01-03T17:12:56.059Z"
   },
   {
    "duration": 160,
    "start_time": "2023-01-03T17:12:56.067Z"
   },
   {
    "duration": 3,
    "start_time": "2023-01-03T17:12:56.235Z"
   },
   {
    "duration": 387,
    "start_time": "2023-01-03T17:12:56.239Z"
   },
   {
    "duration": 15,
    "start_time": "2023-01-03T17:12:56.627Z"
   },
   {
    "duration": 14,
    "start_time": "2023-01-03T17:12:56.644Z"
   },
   {
    "duration": 33,
    "start_time": "2023-01-03T17:12:56.662Z"
   },
   {
    "duration": 22,
    "start_time": "2023-01-03T17:12:56.697Z"
   },
   {
    "duration": 208,
    "start_time": "2023-01-03T17:12:56.721Z"
   },
   {
    "duration": 5,
    "start_time": "2023-01-03T17:12:56.931Z"
   },
   {
    "duration": 33,
    "start_time": "2023-01-03T17:12:56.937Z"
   },
   {
    "duration": 20,
    "start_time": "2023-01-03T17:12:56.971Z"
   },
   {
    "duration": 17,
    "start_time": "2023-01-03T17:12:56.993Z"
   },
   {
    "duration": 23,
    "start_time": "2023-01-03T17:12:57.011Z"
   },
   {
    "duration": 16,
    "start_time": "2023-01-03T17:12:57.035Z"
   },
   {
    "duration": 6,
    "start_time": "2023-01-03T17:12:57.053Z"
   },
   {
    "duration": 15,
    "start_time": "2023-01-03T17:12:57.061Z"
   },
   {
    "duration": 14,
    "start_time": "2023-01-03T17:12:57.078Z"
   },
   {
    "duration": 14,
    "start_time": "2023-01-03T17:12:57.094Z"
   },
   {
    "duration": 18,
    "start_time": "2023-01-03T17:12:57.110Z"
   },
   {
    "duration": 14,
    "start_time": "2023-01-03T17:12:57.130Z"
   },
   {
    "duration": 34,
    "start_time": "2023-01-03T17:12:57.146Z"
   },
   {
    "duration": 27,
    "start_time": "2023-01-03T17:12:57.182Z"
   },
   {
    "duration": 16,
    "start_time": "2023-01-03T17:12:57.210Z"
   },
   {
    "duration": 21,
    "start_time": "2023-01-03T17:12:57.228Z"
   },
   {
    "duration": 14,
    "start_time": "2023-01-03T17:12:57.251Z"
   },
   {
    "duration": 24,
    "start_time": "2023-01-03T17:12:57.266Z"
   },
   {
    "duration": 23,
    "start_time": "2023-01-03T17:12:57.292Z"
   },
   {
    "duration": 55,
    "start_time": "2023-01-03T17:12:57.317Z"
   },
   {
    "duration": 17,
    "start_time": "2023-01-03T17:12:57.375Z"
   },
   {
    "duration": 469,
    "start_time": "2023-01-03T17:12:57.393Z"
   },
   {
    "duration": 16,
    "start_time": "2023-01-03T17:12:57.864Z"
   },
   {
    "duration": 25,
    "start_time": "2023-01-03T17:12:57.882Z"
   },
   {
    "duration": 24,
    "start_time": "2023-01-03T17:12:57.909Z"
   },
   {
    "duration": 17,
    "start_time": "2023-01-03T17:12:57.935Z"
   },
   {
    "duration": 577,
    "start_time": "2023-01-03T17:36:17.679Z"
   },
   {
    "duration": 25,
    "start_time": "2023-01-03T17:36:18.259Z"
   },
   {
    "duration": 45,
    "start_time": "2023-01-03T17:36:18.292Z"
   },
   {
    "duration": 17,
    "start_time": "2023-01-03T17:36:18.340Z"
   },
   {
    "duration": 18,
    "start_time": "2023-01-03T17:36:18.361Z"
   },
   {
    "duration": 15,
    "start_time": "2023-01-03T17:36:18.382Z"
   },
   {
    "duration": 47,
    "start_time": "2023-01-03T17:36:18.399Z"
   },
   {
    "duration": 6,
    "start_time": "2023-01-03T17:36:18.448Z"
   },
   {
    "duration": 119,
    "start_time": "2023-01-03T17:36:18.457Z"
   },
   {
    "duration": 0,
    "start_time": "2023-01-03T17:36:18.580Z"
   },
   {
    "duration": 0,
    "start_time": "2023-01-03T17:36:18.581Z"
   },
   {
    "duration": 0,
    "start_time": "2023-01-03T17:36:18.582Z"
   },
   {
    "duration": 0,
    "start_time": "2023-01-03T17:36:18.585Z"
   },
   {
    "duration": 0,
    "start_time": "2023-01-03T17:36:18.586Z"
   },
   {
    "duration": 0,
    "start_time": "2023-01-03T17:36:18.587Z"
   },
   {
    "duration": 0,
    "start_time": "2023-01-03T17:36:18.589Z"
   },
   {
    "duration": 0,
    "start_time": "2023-01-03T17:36:18.590Z"
   },
   {
    "duration": 0,
    "start_time": "2023-01-03T17:36:18.592Z"
   },
   {
    "duration": 0,
    "start_time": "2023-01-03T17:36:18.594Z"
   },
   {
    "duration": 0,
    "start_time": "2023-01-03T17:36:18.595Z"
   },
   {
    "duration": 0,
    "start_time": "2023-01-03T17:36:18.597Z"
   },
   {
    "duration": 0,
    "start_time": "2023-01-03T17:36:18.598Z"
   },
   {
    "duration": 0,
    "start_time": "2023-01-03T17:36:18.599Z"
   },
   {
    "duration": 0,
    "start_time": "2023-01-03T17:36:18.636Z"
   },
   {
    "duration": 0,
    "start_time": "2023-01-03T17:36:18.638Z"
   },
   {
    "duration": 0,
    "start_time": "2023-01-03T17:36:18.639Z"
   },
   {
    "duration": 0,
    "start_time": "2023-01-03T17:36:18.640Z"
   },
   {
    "duration": 0,
    "start_time": "2023-01-03T17:36:18.641Z"
   },
   {
    "duration": 0,
    "start_time": "2023-01-03T17:36:18.643Z"
   },
   {
    "duration": 0,
    "start_time": "2023-01-03T17:36:18.645Z"
   },
   {
    "duration": 0,
    "start_time": "2023-01-03T17:36:18.646Z"
   },
   {
    "duration": 0,
    "start_time": "2023-01-03T17:36:18.648Z"
   },
   {
    "duration": 0,
    "start_time": "2023-01-03T17:36:18.648Z"
   },
   {
    "duration": 0,
    "start_time": "2023-01-03T17:36:18.649Z"
   },
   {
    "duration": 0,
    "start_time": "2023-01-03T17:36:18.650Z"
   },
   {
    "duration": 0,
    "start_time": "2023-01-03T17:36:18.652Z"
   },
   {
    "duration": 0,
    "start_time": "2023-01-03T17:36:18.653Z"
   },
   {
    "duration": 0,
    "start_time": "2023-01-03T17:36:18.654Z"
   },
   {
    "duration": 0,
    "start_time": "2023-01-03T17:36:18.655Z"
   },
   {
    "duration": 0,
    "start_time": "2023-01-03T17:36:18.657Z"
   },
   {
    "duration": 0,
    "start_time": "2023-01-03T17:36:18.658Z"
   },
   {
    "duration": 0,
    "start_time": "2023-01-03T17:36:18.660Z"
   },
   {
    "duration": 0,
    "start_time": "2023-01-03T17:36:18.661Z"
   },
   {
    "duration": 0,
    "start_time": "2023-01-03T17:36:18.663Z"
   },
   {
    "duration": 0,
    "start_time": "2023-01-03T17:36:18.664Z"
   },
   {
    "duration": 0,
    "start_time": "2023-01-03T17:36:18.665Z"
   },
   {
    "duration": 0,
    "start_time": "2023-01-03T17:36:18.666Z"
   },
   {
    "duration": 0,
    "start_time": "2023-01-03T17:36:18.668Z"
   },
   {
    "duration": 0,
    "start_time": "2023-01-03T17:36:18.669Z"
   },
   {
    "duration": 0,
    "start_time": "2023-01-03T17:36:18.671Z"
   },
   {
    "duration": 0,
    "start_time": "2023-01-03T17:36:18.672Z"
   },
   {
    "duration": 0,
    "start_time": "2023-01-03T17:36:18.674Z"
   },
   {
    "duration": 0,
    "start_time": "2023-01-03T17:36:18.675Z"
   },
   {
    "duration": 0,
    "start_time": "2023-01-03T17:36:18.736Z"
   },
   {
    "duration": 0,
    "start_time": "2023-01-03T17:36:18.744Z"
   },
   {
    "duration": 0,
    "start_time": "2023-01-03T17:36:18.746Z"
   },
   {
    "duration": 0,
    "start_time": "2023-01-03T17:36:18.747Z"
   },
   {
    "duration": 25,
    "start_time": "2023-01-03T17:36:58.033Z"
   },
   {
    "duration": 405,
    "start_time": "2023-01-03T17:42:15.079Z"
   },
   {
    "duration": 194,
    "start_time": "2023-01-03T17:42:24.471Z"
   },
   {
    "duration": 146,
    "start_time": "2023-01-03T17:42:40.184Z"
   },
   {
    "duration": 207,
    "start_time": "2023-01-03T17:43:02.808Z"
   },
   {
    "duration": 186,
    "start_time": "2023-01-03T17:43:16.426Z"
   },
   {
    "duration": 46,
    "start_time": "2023-01-03T17:46:12.946Z"
   },
   {
    "duration": 216,
    "start_time": "2023-01-03T17:46:33.998Z"
   },
   {
    "duration": 169,
    "start_time": "2023-01-03T17:49:45.723Z"
   },
   {
    "duration": 213,
    "start_time": "2023-01-03T17:52:46.715Z"
   },
   {
    "duration": 159,
    "start_time": "2023-01-03T17:54:00.964Z"
   },
   {
    "duration": 146,
    "start_time": "2023-01-03T17:56:00.363Z"
   },
   {
    "duration": 175,
    "start_time": "2023-01-03T17:56:22.202Z"
   },
   {
    "duration": 159,
    "start_time": "2023-01-03T17:56:30.069Z"
   },
   {
    "duration": 190,
    "start_time": "2023-01-03T18:00:54.867Z"
   },
   {
    "duration": 136,
    "start_time": "2023-01-03T18:07:35.620Z"
   },
   {
    "duration": 24,
    "start_time": "2023-01-03T18:07:38.519Z"
   },
   {
    "duration": 24,
    "start_time": "2023-01-03T18:07:40.573Z"
   },
   {
    "duration": 27,
    "start_time": "2023-01-03T18:08:36.904Z"
   },
   {
    "duration": 23,
    "start_time": "2023-01-03T18:10:03.559Z"
   },
   {
    "duration": 885,
    "start_time": "2023-01-03T18:10:19.677Z"
   },
   {
    "duration": 608,
    "start_time": "2023-01-03T18:10:25.820Z"
   },
   {
    "duration": 1106,
    "start_time": "2023-01-03T18:10:32.509Z"
   },
   {
    "duration": 197,
    "start_time": "2023-01-03T18:15:41.939Z"
   },
   {
    "duration": 480,
    "start_time": "2023-01-03T18:16:34.522Z"
   },
   {
    "duration": 19,
    "start_time": "2023-01-03T18:16:35.004Z"
   },
   {
    "duration": 25,
    "start_time": "2023-01-03T18:16:35.025Z"
   },
   {
    "duration": 9,
    "start_time": "2023-01-03T18:16:35.052Z"
   },
   {
    "duration": 14,
    "start_time": "2023-01-03T18:16:35.064Z"
   },
   {
    "duration": 13,
    "start_time": "2023-01-03T18:16:35.080Z"
   },
   {
    "duration": 24,
    "start_time": "2023-01-03T18:16:35.095Z"
   },
   {
    "duration": 15,
    "start_time": "2023-01-03T18:16:35.121Z"
   },
   {
    "duration": 25,
    "start_time": "2023-01-03T18:16:35.137Z"
   },
   {
    "duration": 14,
    "start_time": "2023-01-03T18:16:35.164Z"
   },
   {
    "duration": 498,
    "start_time": "2023-01-03T18:17:19.273Z"
   },
   {
    "duration": 18,
    "start_time": "2023-01-03T18:17:19.773Z"
   },
   {
    "duration": 44,
    "start_time": "2023-01-03T18:17:19.792Z"
   },
   {
    "duration": 17,
    "start_time": "2023-01-03T18:17:19.837Z"
   },
   {
    "duration": 22,
    "start_time": "2023-01-03T18:17:19.857Z"
   },
   {
    "duration": 14,
    "start_time": "2023-01-03T18:17:19.881Z"
   },
   {
    "duration": 37,
    "start_time": "2023-01-03T18:17:19.896Z"
   },
   {
    "duration": 10,
    "start_time": "2023-01-03T18:17:19.934Z"
   },
   {
    "duration": 30,
    "start_time": "2023-01-03T18:17:19.945Z"
   },
   {
    "duration": 31,
    "start_time": "2023-01-03T18:17:19.977Z"
   },
   {
    "duration": 460,
    "start_time": "2023-01-03T18:17:20.010Z"
   },
   {
    "duration": 149,
    "start_time": "2023-01-03T18:17:20.472Z"
   },
   {
    "duration": 29,
    "start_time": "2023-01-03T18:17:20.623Z"
   },
   {
    "duration": 1266,
    "start_time": "2023-01-03T18:17:20.655Z"
   },
   {
    "duration": 0,
    "start_time": "2023-01-03T18:17:21.923Z"
   },
   {
    "duration": 0,
    "start_time": "2023-01-03T18:17:21.924Z"
   },
   {
    "duration": 1,
    "start_time": "2023-01-03T18:17:21.925Z"
   },
   {
    "duration": 0,
    "start_time": "2023-01-03T18:17:21.927Z"
   },
   {
    "duration": 0,
    "start_time": "2023-01-03T18:17:21.928Z"
   },
   {
    "duration": 0,
    "start_time": "2023-01-03T18:17:21.930Z"
   },
   {
    "duration": 0,
    "start_time": "2023-01-03T18:17:21.931Z"
   },
   {
    "duration": 0,
    "start_time": "2023-01-03T18:17:21.932Z"
   },
   {
    "duration": 0,
    "start_time": "2023-01-03T18:17:21.933Z"
   },
   {
    "duration": 0,
    "start_time": "2023-01-03T18:17:21.934Z"
   },
   {
    "duration": 0,
    "start_time": "2023-01-03T18:17:21.935Z"
   },
   {
    "duration": 0,
    "start_time": "2023-01-03T18:17:21.937Z"
   },
   {
    "duration": 0,
    "start_time": "2023-01-03T18:17:21.938Z"
   },
   {
    "duration": 0,
    "start_time": "2023-01-03T18:17:21.939Z"
   },
   {
    "duration": 0,
    "start_time": "2023-01-03T18:17:21.940Z"
   },
   {
    "duration": 0,
    "start_time": "2023-01-03T18:17:21.941Z"
   },
   {
    "duration": 0,
    "start_time": "2023-01-03T18:17:21.942Z"
   },
   {
    "duration": 0,
    "start_time": "2023-01-03T18:17:21.943Z"
   },
   {
    "duration": 0,
    "start_time": "2023-01-03T18:17:21.945Z"
   },
   {
    "duration": 0,
    "start_time": "2023-01-03T18:17:21.946Z"
   },
   {
    "duration": 0,
    "start_time": "2023-01-03T18:17:21.947Z"
   },
   {
    "duration": 0,
    "start_time": "2023-01-03T18:17:21.948Z"
   },
   {
    "duration": 0,
    "start_time": "2023-01-03T18:17:21.949Z"
   },
   {
    "duration": 0,
    "start_time": "2023-01-03T18:17:21.950Z"
   },
   {
    "duration": 0,
    "start_time": "2023-01-03T18:17:21.952Z"
   },
   {
    "duration": 1,
    "start_time": "2023-01-03T18:17:21.952Z"
   },
   {
    "duration": 1,
    "start_time": "2023-01-03T18:17:21.953Z"
   },
   {
    "duration": 0,
    "start_time": "2023-01-03T18:17:21.955Z"
   },
   {
    "duration": 0,
    "start_time": "2023-01-03T18:17:21.956Z"
   },
   {
    "duration": 0,
    "start_time": "2023-01-03T18:17:21.957Z"
   },
   {
    "duration": 0,
    "start_time": "2023-01-03T18:17:21.957Z"
   },
   {
    "duration": 0,
    "start_time": "2023-01-03T18:17:21.958Z"
   },
   {
    "duration": 0,
    "start_time": "2023-01-03T18:17:21.960Z"
   },
   {
    "duration": 1,
    "start_time": "2023-01-03T18:17:21.960Z"
   },
   {
    "duration": 0,
    "start_time": "2023-01-03T18:17:21.961Z"
   },
   {
    "duration": 0,
    "start_time": "2023-01-03T18:17:21.963Z"
   },
   {
    "duration": 0,
    "start_time": "2023-01-03T18:17:21.964Z"
   },
   {
    "duration": 0,
    "start_time": "2023-01-03T18:17:21.965Z"
   },
   {
    "duration": 0,
    "start_time": "2023-01-03T18:17:21.966Z"
   },
   {
    "duration": 0,
    "start_time": "2023-01-03T18:17:21.967Z"
   },
   {
    "duration": 0,
    "start_time": "2023-01-03T18:17:21.968Z"
   },
   {
    "duration": 0,
    "start_time": "2023-01-03T18:17:21.969Z"
   },
   {
    "duration": 0,
    "start_time": "2023-01-03T18:17:21.970Z"
   },
   {
    "duration": 24,
    "start_time": "2023-01-03T18:20:16.864Z"
   },
   {
    "duration": 31,
    "start_time": "2023-01-03T18:22:53.173Z"
   },
   {
    "duration": 30,
    "start_time": "2023-01-03T18:23:08.941Z"
   },
   {
    "duration": 22,
    "start_time": "2023-01-03T18:23:18.208Z"
   },
   {
    "duration": 544,
    "start_time": "2023-01-03T18:30:05.250Z"
   },
   {
    "duration": 16,
    "start_time": "2023-01-03T18:30:05.796Z"
   },
   {
    "duration": 30,
    "start_time": "2023-01-03T18:30:05.813Z"
   },
   {
    "duration": 20,
    "start_time": "2023-01-03T18:30:05.845Z"
   },
   {
    "duration": 16,
    "start_time": "2023-01-03T18:30:05.868Z"
   },
   {
    "duration": 10,
    "start_time": "2023-01-03T18:30:05.885Z"
   },
   {
    "duration": 40,
    "start_time": "2023-01-03T18:30:05.897Z"
   },
   {
    "duration": 10,
    "start_time": "2023-01-03T18:30:05.939Z"
   },
   {
    "duration": 25,
    "start_time": "2023-01-03T18:30:05.951Z"
   },
   {
    "duration": 20,
    "start_time": "2023-01-03T18:30:05.978Z"
   },
   {
    "duration": 444,
    "start_time": "2023-01-03T18:30:06.000Z"
   },
   {
    "duration": 162,
    "start_time": "2023-01-03T18:30:06.446Z"
   },
   {
    "duration": 31,
    "start_time": "2023-01-03T18:30:06.609Z"
   },
   {
    "duration": 30,
    "start_time": "2023-01-03T18:30:06.643Z"
   },
   {
    "duration": 5,
    "start_time": "2023-01-03T18:30:06.675Z"
   },
   {
    "duration": 54,
    "start_time": "2023-01-03T18:30:06.682Z"
   },
   {
    "duration": 34,
    "start_time": "2023-01-03T18:30:06.739Z"
   },
   {
    "duration": 37,
    "start_time": "2023-01-03T18:30:06.775Z"
   },
   {
    "duration": 32,
    "start_time": "2023-01-03T18:30:06.814Z"
   },
   {
    "duration": 225,
    "start_time": "2023-01-03T18:30:06.848Z"
   },
   {
    "duration": 9,
    "start_time": "2023-01-03T18:30:07.074Z"
   },
   {
    "duration": 197,
    "start_time": "2023-01-03T18:30:07.084Z"
   },
   {
    "duration": 6,
    "start_time": "2023-01-03T18:30:07.282Z"
   },
   {
    "duration": 225,
    "start_time": "2023-01-03T18:30:07.290Z"
   },
   {
    "duration": 4,
    "start_time": "2023-01-03T18:30:07.517Z"
   },
   {
    "duration": 338,
    "start_time": "2023-01-03T18:30:07.523Z"
   },
   {
    "duration": 11,
    "start_time": "2023-01-03T18:30:07.863Z"
   },
   {
    "duration": 15,
    "start_time": "2023-01-03T18:30:07.876Z"
   },
   {
    "duration": 21,
    "start_time": "2023-01-03T18:30:07.893Z"
   },
   {
    "duration": 28,
    "start_time": "2023-01-03T18:30:07.915Z"
   },
   {
    "duration": 211,
    "start_time": "2023-01-03T18:30:07.945Z"
   },
   {
    "duration": 3,
    "start_time": "2023-01-03T18:30:08.158Z"
   },
   {
    "duration": 24,
    "start_time": "2023-01-03T18:30:08.163Z"
   },
   {
    "duration": 12,
    "start_time": "2023-01-03T18:30:08.188Z"
   },
   {
    "duration": 22,
    "start_time": "2023-01-03T18:30:08.202Z"
   },
   {
    "duration": 17,
    "start_time": "2023-01-03T18:30:08.225Z"
   },
   {
    "duration": 25,
    "start_time": "2023-01-03T18:30:08.244Z"
   },
   {
    "duration": 6,
    "start_time": "2023-01-03T18:30:08.271Z"
   },
   {
    "duration": 13,
    "start_time": "2023-01-03T18:30:08.279Z"
   },
   {
    "duration": 14,
    "start_time": "2023-01-03T18:30:08.294Z"
   },
   {
    "duration": 19,
    "start_time": "2023-01-03T18:30:08.312Z"
   },
   {
    "duration": 9,
    "start_time": "2023-01-03T18:30:08.333Z"
   },
   {
    "duration": 6,
    "start_time": "2023-01-03T18:30:08.344Z"
   },
   {
    "duration": 15,
    "start_time": "2023-01-03T18:30:08.352Z"
   },
   {
    "duration": 10,
    "start_time": "2023-01-03T18:30:08.369Z"
   },
   {
    "duration": 10,
    "start_time": "2023-01-03T18:30:08.381Z"
   },
   {
    "duration": 16,
    "start_time": "2023-01-03T18:30:08.392Z"
   },
   {
    "duration": 9,
    "start_time": "2023-01-03T18:30:08.410Z"
   },
   {
    "duration": 20,
    "start_time": "2023-01-03T18:30:08.421Z"
   },
   {
    "duration": 22,
    "start_time": "2023-01-03T18:30:08.443Z"
   },
   {
    "duration": 13,
    "start_time": "2023-01-03T18:30:08.467Z"
   },
   {
    "duration": 10,
    "start_time": "2023-01-03T18:30:08.482Z"
   },
   {
    "duration": 465,
    "start_time": "2023-01-03T18:30:08.494Z"
   },
   {
    "duration": 14,
    "start_time": "2023-01-03T18:30:08.961Z"
   },
   {
    "duration": 20,
    "start_time": "2023-01-03T18:30:08.978Z"
   },
   {
    "duration": 12,
    "start_time": "2023-01-03T18:30:09.001Z"
   },
   {
    "duration": 14,
    "start_time": "2023-01-03T18:30:09.015Z"
   },
   {
    "duration": 213,
    "start_time": "2023-01-03T18:40:31.424Z"
   },
   {
    "duration": 308,
    "start_time": "2023-01-03T18:40:47.171Z"
   },
   {
    "duration": 314,
    "start_time": "2023-01-03T18:41:12.933Z"
   },
   {
    "duration": 366,
    "start_time": "2023-01-03T18:41:17.824Z"
   },
   {
    "duration": 2,
    "start_time": "2023-01-03T18:41:43.664Z"
   },
   {
    "duration": 285,
    "start_time": "2023-01-03T18:41:52.654Z"
   },
   {
    "duration": 676,
    "start_time": "2023-01-03T18:53:01.253Z"
   },
   {
    "duration": 575,
    "start_time": "2023-01-03T18:53:14.928Z"
   },
   {
    "duration": 544,
    "start_time": "2023-01-03T18:53:48.285Z"
   },
   {
    "duration": 629,
    "start_time": "2023-01-03T18:54:00.895Z"
   },
   {
    "duration": 14,
    "start_time": "2023-01-03T18:55:31.386Z"
   },
   {
    "duration": 44,
    "start_time": "2023-01-04T14:02:29.725Z"
   },
   {
    "duration": 582,
    "start_time": "2023-01-04T14:02:36.218Z"
   },
   {
    "duration": 15,
    "start_time": "2023-01-04T14:02:36.802Z"
   },
   {
    "duration": 20,
    "start_time": "2023-01-04T14:02:36.818Z"
   },
   {
    "duration": 9,
    "start_time": "2023-01-04T14:02:36.840Z"
   },
   {
    "duration": 12,
    "start_time": "2023-01-04T14:02:36.850Z"
   },
   {
    "duration": 6,
    "start_time": "2023-01-04T14:02:36.863Z"
   },
   {
    "duration": 45,
    "start_time": "2023-01-04T14:02:36.870Z"
   },
   {
    "duration": 4,
    "start_time": "2023-01-04T14:02:36.917Z"
   },
   {
    "duration": 20,
    "start_time": "2023-01-04T14:02:36.922Z"
   },
   {
    "duration": 15,
    "start_time": "2023-01-04T14:02:36.944Z"
   },
   {
    "duration": 576,
    "start_time": "2023-01-04T14:02:36.961Z"
   },
   {
    "duration": 135,
    "start_time": "2023-01-04T14:02:37.539Z"
   },
   {
    "duration": 29,
    "start_time": "2023-01-04T14:02:37.676Z"
   },
   {
    "duration": 21,
    "start_time": "2023-01-04T14:02:37.707Z"
   },
   {
    "duration": 5,
    "start_time": "2023-01-04T14:02:37.730Z"
   },
   {
    "duration": 27,
    "start_time": "2023-01-04T14:02:37.736Z"
   },
   {
    "duration": 18,
    "start_time": "2023-01-04T14:02:37.765Z"
   },
   {
    "duration": 33,
    "start_time": "2023-01-04T14:02:37.784Z"
   },
   {
    "duration": 22,
    "start_time": "2023-01-04T14:02:37.819Z"
   },
   {
    "duration": 3,
    "start_time": "2023-01-04T14:02:37.842Z"
   },
   {
    "duration": 266,
    "start_time": "2023-01-04T14:02:37.846Z"
   },
   {
    "duration": 7,
    "start_time": "2023-01-04T14:02:38.114Z"
   },
   {
    "duration": 211,
    "start_time": "2023-01-04T14:02:38.123Z"
   },
   {
    "duration": 4,
    "start_time": "2023-01-04T14:02:38.336Z"
   },
   {
    "duration": 157,
    "start_time": "2023-01-04T14:02:38.342Z"
   },
   {
    "duration": 3,
    "start_time": "2023-01-04T14:02:38.504Z"
   },
   {
    "duration": 528,
    "start_time": "2023-01-04T14:02:38.509Z"
   },
   {
    "duration": 11,
    "start_time": "2023-01-04T14:02:39.041Z"
   },
   {
    "duration": 2,
    "start_time": "2023-01-04T14:02:39.053Z"
   },
   {
    "duration": 13,
    "start_time": "2023-01-04T14:02:39.057Z"
   },
   {
    "duration": 5,
    "start_time": "2023-01-04T14:02:39.071Z"
   },
   {
    "duration": 165,
    "start_time": "2023-01-04T14:02:39.077Z"
   },
   {
    "duration": 3,
    "start_time": "2023-01-04T14:02:39.244Z"
   },
   {
    "duration": 19,
    "start_time": "2023-01-04T14:02:39.249Z"
   },
   {
    "duration": 6,
    "start_time": "2023-01-04T14:02:39.270Z"
   },
   {
    "duration": 31,
    "start_time": "2023-01-04T14:02:39.278Z"
   },
   {
    "duration": 10,
    "start_time": "2023-01-04T14:02:39.310Z"
   },
   {
    "duration": 7,
    "start_time": "2023-01-04T14:02:39.321Z"
   },
   {
    "duration": 2,
    "start_time": "2023-01-04T14:02:39.330Z"
   },
   {
    "duration": 8,
    "start_time": "2023-01-04T14:02:39.334Z"
   },
   {
    "duration": 7,
    "start_time": "2023-01-04T14:02:39.343Z"
   },
   {
    "duration": 6,
    "start_time": "2023-01-04T14:02:39.352Z"
   },
   {
    "duration": 6,
    "start_time": "2023-01-04T14:02:39.360Z"
   },
   {
    "duration": 6,
    "start_time": "2023-01-04T14:02:39.367Z"
   },
   {
    "duration": 10,
    "start_time": "2023-01-04T14:02:39.405Z"
   },
   {
    "duration": 11,
    "start_time": "2023-01-04T14:02:39.417Z"
   },
   {
    "duration": 6,
    "start_time": "2023-01-04T14:02:39.430Z"
   },
   {
    "duration": 7,
    "start_time": "2023-01-04T14:02:39.438Z"
   },
   {
    "duration": 5,
    "start_time": "2023-01-04T14:02:39.446Z"
   },
   {
    "duration": 1258,
    "start_time": "2023-01-04T14:02:39.453Z"
   },
   {
    "duration": 0,
    "start_time": "2023-01-04T14:02:40.712Z"
   },
   {
    "duration": 0,
    "start_time": "2023-01-04T14:02:40.713Z"
   },
   {
    "duration": 0,
    "start_time": "2023-01-04T14:02:40.715Z"
   },
   {
    "duration": 0,
    "start_time": "2023-01-04T14:02:40.715Z"
   },
   {
    "duration": 0,
    "start_time": "2023-01-04T14:02:40.716Z"
   },
   {
    "duration": 0,
    "start_time": "2023-01-04T14:02:40.717Z"
   },
   {
    "duration": 0,
    "start_time": "2023-01-04T14:02:40.718Z"
   },
   {
    "duration": 0,
    "start_time": "2023-01-04T14:02:40.719Z"
   },
   {
    "duration": 0,
    "start_time": "2023-01-04T14:02:40.720Z"
   },
   {
    "duration": 6,
    "start_time": "2023-01-04T14:03:34.837Z"
   },
   {
    "duration": 6,
    "start_time": "2023-01-04T14:04:00.698Z"
   },
   {
    "duration": 9,
    "start_time": "2023-01-04T14:05:05.077Z"
   },
   {
    "duration": 484,
    "start_time": "2023-01-04T14:05:29.995Z"
   },
   {
    "duration": 16,
    "start_time": "2023-01-04T14:05:30.481Z"
   },
   {
    "duration": 48,
    "start_time": "2023-01-04T14:05:30.499Z"
   },
   {
    "duration": 34,
    "start_time": "2023-01-04T14:05:30.549Z"
   },
   {
    "duration": 0,
    "start_time": "2023-01-04T14:05:30.587Z"
   },
   {
    "duration": 0,
    "start_time": "2023-01-04T14:05:30.589Z"
   },
   {
    "duration": 0,
    "start_time": "2023-01-04T14:05:30.589Z"
   },
   {
    "duration": 0,
    "start_time": "2023-01-04T14:05:30.591Z"
   },
   {
    "duration": 0,
    "start_time": "2023-01-04T14:05:30.592Z"
   },
   {
    "duration": 0,
    "start_time": "2023-01-04T14:05:30.593Z"
   },
   {
    "duration": 0,
    "start_time": "2023-01-04T14:05:30.594Z"
   },
   {
    "duration": 0,
    "start_time": "2023-01-04T14:05:30.595Z"
   },
   {
    "duration": 0,
    "start_time": "2023-01-04T14:05:30.596Z"
   },
   {
    "duration": 0,
    "start_time": "2023-01-04T14:05:30.597Z"
   },
   {
    "duration": 0,
    "start_time": "2023-01-04T14:05:30.598Z"
   },
   {
    "duration": 0,
    "start_time": "2023-01-04T14:05:30.599Z"
   },
   {
    "duration": 0,
    "start_time": "2023-01-04T14:05:30.600Z"
   },
   {
    "duration": 0,
    "start_time": "2023-01-04T14:05:30.601Z"
   },
   {
    "duration": 0,
    "start_time": "2023-01-04T14:05:30.602Z"
   },
   {
    "duration": 0,
    "start_time": "2023-01-04T14:05:30.603Z"
   },
   {
    "duration": 0,
    "start_time": "2023-01-04T14:05:30.604Z"
   },
   {
    "duration": 0,
    "start_time": "2023-01-04T14:05:30.605Z"
   },
   {
    "duration": 0,
    "start_time": "2023-01-04T14:05:30.606Z"
   },
   {
    "duration": 0,
    "start_time": "2023-01-04T14:05:30.607Z"
   },
   {
    "duration": 0,
    "start_time": "2023-01-04T14:05:30.608Z"
   },
   {
    "duration": 0,
    "start_time": "2023-01-04T14:05:30.609Z"
   },
   {
    "duration": 0,
    "start_time": "2023-01-04T14:05:30.610Z"
   },
   {
    "duration": 0,
    "start_time": "2023-01-04T14:05:30.611Z"
   },
   {
    "duration": 0,
    "start_time": "2023-01-04T14:05:30.612Z"
   },
   {
    "duration": 0,
    "start_time": "2023-01-04T14:05:30.613Z"
   },
   {
    "duration": 0,
    "start_time": "2023-01-04T14:05:30.614Z"
   },
   {
    "duration": 0,
    "start_time": "2023-01-04T14:05:30.615Z"
   },
   {
    "duration": 0,
    "start_time": "2023-01-04T14:05:30.616Z"
   },
   {
    "duration": 0,
    "start_time": "2023-01-04T14:05:30.617Z"
   },
   {
    "duration": 0,
    "start_time": "2023-01-04T14:05:30.618Z"
   },
   {
    "duration": 0,
    "start_time": "2023-01-04T14:05:30.619Z"
   },
   {
    "duration": 0,
    "start_time": "2023-01-04T14:05:30.620Z"
   },
   {
    "duration": 0,
    "start_time": "2023-01-04T14:05:30.621Z"
   },
   {
    "duration": 0,
    "start_time": "2023-01-04T14:05:30.622Z"
   },
   {
    "duration": 0,
    "start_time": "2023-01-04T14:05:30.623Z"
   },
   {
    "duration": 0,
    "start_time": "2023-01-04T14:05:30.624Z"
   },
   {
    "duration": 0,
    "start_time": "2023-01-04T14:05:30.626Z"
   },
   {
    "duration": 0,
    "start_time": "2023-01-04T14:05:30.627Z"
   },
   {
    "duration": 0,
    "start_time": "2023-01-04T14:05:30.628Z"
   },
   {
    "duration": 0,
    "start_time": "2023-01-04T14:05:30.629Z"
   },
   {
    "duration": 0,
    "start_time": "2023-01-04T14:05:30.630Z"
   },
   {
    "duration": 0,
    "start_time": "2023-01-04T14:05:30.631Z"
   },
   {
    "duration": 0,
    "start_time": "2023-01-04T14:05:30.632Z"
   },
   {
    "duration": 0,
    "start_time": "2023-01-04T14:05:30.633Z"
   },
   {
    "duration": 0,
    "start_time": "2023-01-04T14:05:30.634Z"
   },
   {
    "duration": 0,
    "start_time": "2023-01-04T14:05:30.635Z"
   },
   {
    "duration": 0,
    "start_time": "2023-01-04T14:05:30.637Z"
   },
   {
    "duration": 0,
    "start_time": "2023-01-04T14:05:30.638Z"
   },
   {
    "duration": 0,
    "start_time": "2023-01-04T14:05:30.639Z"
   },
   {
    "duration": 0,
    "start_time": "2023-01-04T14:05:30.641Z"
   },
   {
    "duration": 0,
    "start_time": "2023-01-04T14:05:30.642Z"
   },
   {
    "duration": 0,
    "start_time": "2023-01-04T14:05:30.643Z"
   },
   {
    "duration": 0,
    "start_time": "2023-01-04T14:05:30.705Z"
   },
   {
    "duration": 0,
    "start_time": "2023-01-04T14:05:30.706Z"
   },
   {
    "duration": 421,
    "start_time": "2023-01-04T14:05:57.365Z"
   },
   {
    "duration": 14,
    "start_time": "2023-01-04T14:05:57.787Z"
   },
   {
    "duration": 19,
    "start_time": "2023-01-04T14:05:57.803Z"
   },
   {
    "duration": 10,
    "start_time": "2023-01-04T14:05:57.823Z"
   },
   {
    "duration": 0,
    "start_time": "2023-01-04T14:05:57.836Z"
   },
   {
    "duration": 0,
    "start_time": "2023-01-04T14:05:57.837Z"
   },
   {
    "duration": 0,
    "start_time": "2023-01-04T14:05:57.838Z"
   },
   {
    "duration": 0,
    "start_time": "2023-01-04T14:05:57.839Z"
   },
   {
    "duration": 0,
    "start_time": "2023-01-04T14:05:57.840Z"
   },
   {
    "duration": 0,
    "start_time": "2023-01-04T14:05:57.841Z"
   },
   {
    "duration": 0,
    "start_time": "2023-01-04T14:05:57.842Z"
   },
   {
    "duration": 0,
    "start_time": "2023-01-04T14:05:57.843Z"
   },
   {
    "duration": 0,
    "start_time": "2023-01-04T14:05:57.844Z"
   },
   {
    "duration": 0,
    "start_time": "2023-01-04T14:05:57.845Z"
   },
   {
    "duration": 0,
    "start_time": "2023-01-04T14:05:57.846Z"
   },
   {
    "duration": 0,
    "start_time": "2023-01-04T14:05:57.846Z"
   },
   {
    "duration": 0,
    "start_time": "2023-01-04T14:05:57.847Z"
   },
   {
    "duration": 0,
    "start_time": "2023-01-04T14:05:57.848Z"
   },
   {
    "duration": 0,
    "start_time": "2023-01-04T14:05:57.849Z"
   },
   {
    "duration": 0,
    "start_time": "2023-01-04T14:05:57.850Z"
   },
   {
    "duration": 0,
    "start_time": "2023-01-04T14:05:57.851Z"
   },
   {
    "duration": 0,
    "start_time": "2023-01-04T14:05:57.852Z"
   },
   {
    "duration": 0,
    "start_time": "2023-01-04T14:05:57.853Z"
   },
   {
    "duration": 0,
    "start_time": "2023-01-04T14:05:57.854Z"
   },
   {
    "duration": 0,
    "start_time": "2023-01-04T14:05:57.854Z"
   },
   {
    "duration": 0,
    "start_time": "2023-01-04T14:05:57.855Z"
   },
   {
    "duration": 0,
    "start_time": "2023-01-04T14:05:57.856Z"
   },
   {
    "duration": 0,
    "start_time": "2023-01-04T14:05:57.857Z"
   },
   {
    "duration": 0,
    "start_time": "2023-01-04T14:05:57.858Z"
   },
   {
    "duration": 0,
    "start_time": "2023-01-04T14:05:57.859Z"
   },
   {
    "duration": 0,
    "start_time": "2023-01-04T14:05:57.904Z"
   },
   {
    "duration": 0,
    "start_time": "2023-01-04T14:05:57.905Z"
   },
   {
    "duration": 0,
    "start_time": "2023-01-04T14:05:57.906Z"
   },
   {
    "duration": 0,
    "start_time": "2023-01-04T14:05:57.907Z"
   },
   {
    "duration": 0,
    "start_time": "2023-01-04T14:05:57.908Z"
   },
   {
    "duration": 0,
    "start_time": "2023-01-04T14:05:57.909Z"
   },
   {
    "duration": 0,
    "start_time": "2023-01-04T14:05:57.910Z"
   },
   {
    "duration": 0,
    "start_time": "2023-01-04T14:05:57.911Z"
   },
   {
    "duration": 0,
    "start_time": "2023-01-04T14:05:57.912Z"
   },
   {
    "duration": 0,
    "start_time": "2023-01-04T14:05:57.913Z"
   },
   {
    "duration": 0,
    "start_time": "2023-01-04T14:05:57.914Z"
   },
   {
    "duration": 0,
    "start_time": "2023-01-04T14:05:57.915Z"
   },
   {
    "duration": 0,
    "start_time": "2023-01-04T14:05:57.916Z"
   },
   {
    "duration": 0,
    "start_time": "2023-01-04T14:05:57.917Z"
   },
   {
    "duration": 0,
    "start_time": "2023-01-04T14:05:57.917Z"
   },
   {
    "duration": 0,
    "start_time": "2023-01-04T14:05:57.918Z"
   },
   {
    "duration": 0,
    "start_time": "2023-01-04T14:05:57.919Z"
   },
   {
    "duration": 0,
    "start_time": "2023-01-04T14:05:57.920Z"
   },
   {
    "duration": 0,
    "start_time": "2023-01-04T14:05:57.921Z"
   },
   {
    "duration": 0,
    "start_time": "2023-01-04T14:05:57.922Z"
   },
   {
    "duration": 0,
    "start_time": "2023-01-04T14:05:57.923Z"
   },
   {
    "duration": 0,
    "start_time": "2023-01-04T14:05:57.924Z"
   },
   {
    "duration": 0,
    "start_time": "2023-01-04T14:05:57.925Z"
   },
   {
    "duration": 0,
    "start_time": "2023-01-04T14:05:57.926Z"
   },
   {
    "duration": 0,
    "start_time": "2023-01-04T14:05:57.927Z"
   },
   {
    "duration": 0,
    "start_time": "2023-01-04T14:05:57.928Z"
   },
   {
    "duration": 0,
    "start_time": "2023-01-04T14:05:57.929Z"
   },
   {
    "duration": 0,
    "start_time": "2023-01-04T14:05:57.930Z"
   },
   {
    "duration": 0,
    "start_time": "2023-01-04T14:05:57.930Z"
   },
   {
    "duration": 3,
    "start_time": "2023-01-04T14:06:27.453Z"
   },
   {
    "duration": 433,
    "start_time": "2023-01-04T14:06:41.140Z"
   },
   {
    "duration": 13,
    "start_time": "2023-01-04T14:06:41.576Z"
   },
   {
    "duration": 18,
    "start_time": "2023-01-04T14:06:41.591Z"
   },
   {
    "duration": 13,
    "start_time": "2023-01-04T14:06:41.610Z"
   },
   {
    "duration": 14,
    "start_time": "2023-01-04T14:06:41.625Z"
   },
   {
    "duration": 6,
    "start_time": "2023-01-04T14:06:41.640Z"
   },
   {
    "duration": 13,
    "start_time": "2023-01-04T14:06:41.647Z"
   },
   {
    "duration": 5,
    "start_time": "2023-01-04T14:06:41.661Z"
   },
   {
    "duration": 50,
    "start_time": "2023-01-04T14:06:41.667Z"
   },
   {
    "duration": 14,
    "start_time": "2023-01-04T14:06:41.718Z"
   },
   {
    "duration": 385,
    "start_time": "2023-01-04T14:06:41.734Z"
   },
   {
    "duration": 135,
    "start_time": "2023-01-04T14:06:42.121Z"
   },
   {
    "duration": 22,
    "start_time": "2023-01-04T14:06:42.258Z"
   },
   {
    "duration": 36,
    "start_time": "2023-01-04T14:06:42.282Z"
   },
   {
    "duration": 5,
    "start_time": "2023-01-04T14:06:42.319Z"
   },
   {
    "duration": 26,
    "start_time": "2023-01-04T14:06:42.326Z"
   },
   {
    "duration": 13,
    "start_time": "2023-01-04T14:06:42.354Z"
   },
   {
    "duration": 20,
    "start_time": "2023-01-04T14:06:42.369Z"
   },
   {
    "duration": 23,
    "start_time": "2023-01-04T14:06:42.404Z"
   },
   {
    "duration": 3,
    "start_time": "2023-01-04T14:06:42.429Z"
   },
   {
    "duration": 271,
    "start_time": "2023-01-04T14:06:42.434Z"
   },
   {
    "duration": 8,
    "start_time": "2023-01-04T14:06:42.707Z"
   },
   {
    "duration": 145,
    "start_time": "2023-01-04T14:06:42.717Z"
   },
   {
    "duration": 5,
    "start_time": "2023-01-04T14:06:42.864Z"
   },
   {
    "duration": 174,
    "start_time": "2023-01-04T14:06:42.871Z"
   },
   {
    "duration": 3,
    "start_time": "2023-01-04T14:06:43.047Z"
   },
   {
    "duration": 481,
    "start_time": "2023-01-04T14:06:43.052Z"
   },
   {
    "duration": 13,
    "start_time": "2023-01-04T14:06:43.535Z"
   },
   {
    "duration": 2,
    "start_time": "2023-01-04T14:06:43.550Z"
   },
   {
    "duration": 12,
    "start_time": "2023-01-04T14:06:43.554Z"
   },
   {
    "duration": 6,
    "start_time": "2023-01-04T14:06:43.568Z"
   },
   {
    "duration": 181,
    "start_time": "2023-01-04T14:06:43.575Z"
   },
   {
    "duration": 2,
    "start_time": "2023-01-04T14:06:43.758Z"
   },
   {
    "duration": 22,
    "start_time": "2023-01-04T14:06:43.762Z"
   },
   {
    "duration": 21,
    "start_time": "2023-01-04T14:06:43.785Z"
   },
   {
    "duration": 6,
    "start_time": "2023-01-04T14:06:43.807Z"
   },
   {
    "duration": 10,
    "start_time": "2023-01-04T14:06:43.814Z"
   },
   {
    "duration": 7,
    "start_time": "2023-01-04T14:06:43.826Z"
   },
   {
    "duration": 16,
    "start_time": "2023-01-04T14:06:43.835Z"
   },
   {
    "duration": 9,
    "start_time": "2023-01-04T14:06:43.852Z"
   },
   {
    "duration": 9,
    "start_time": "2023-01-04T14:06:43.865Z"
   },
   {
    "duration": 23,
    "start_time": "2023-01-04T14:06:43.876Z"
   },
   {
    "duration": 19,
    "start_time": "2023-01-04T14:06:43.901Z"
   },
   {
    "duration": 5,
    "start_time": "2023-01-04T14:06:43.921Z"
   },
   {
    "duration": 14,
    "start_time": "2023-01-04T14:06:43.927Z"
   },
   {
    "duration": 6,
    "start_time": "2023-01-04T14:06:43.942Z"
   },
   {
    "duration": 7,
    "start_time": "2023-01-04T14:06:43.949Z"
   },
   {
    "duration": 9,
    "start_time": "2023-01-04T14:06:43.957Z"
   },
   {
    "duration": 10,
    "start_time": "2023-01-04T14:06:43.967Z"
   },
   {
    "duration": 7,
    "start_time": "2023-01-04T14:06:43.979Z"
   },
   {
    "duration": 14,
    "start_time": "2023-01-04T14:06:43.987Z"
   },
   {
    "duration": 23,
    "start_time": "2023-01-04T14:06:44.003Z"
   },
   {
    "duration": 12,
    "start_time": "2023-01-04T14:06:44.027Z"
   },
   {
    "duration": 4,
    "start_time": "2023-01-04T14:06:44.040Z"
   },
   {
    "duration": 436,
    "start_time": "2023-01-04T14:06:44.046Z"
   },
   {
    "duration": 12,
    "start_time": "2023-01-04T14:06:44.483Z"
   },
   {
    "duration": 8,
    "start_time": "2023-01-04T14:06:44.505Z"
   },
   {
    "duration": 4,
    "start_time": "2023-01-04T14:06:44.515Z"
   },
   {
    "duration": 7,
    "start_time": "2023-01-04T14:06:44.521Z"
   },
   {
    "duration": 490,
    "start_time": "2023-01-04T14:08:46.986Z"
   },
   {
    "duration": 15,
    "start_time": "2023-01-04T14:08:47.478Z"
   },
   {
    "duration": 26,
    "start_time": "2023-01-04T14:08:47.494Z"
   },
   {
    "duration": 31,
    "start_time": "2023-01-04T14:08:47.522Z"
   },
   {
    "duration": 56,
    "start_time": "2023-01-04T14:08:47.554Z"
   },
   {
    "duration": 25,
    "start_time": "2023-01-04T14:08:47.612Z"
   },
   {
    "duration": 36,
    "start_time": "2023-01-04T14:08:47.638Z"
   },
   {
    "duration": 13,
    "start_time": "2023-01-04T14:08:47.675Z"
   },
   {
    "duration": 18,
    "start_time": "2023-01-04T14:08:47.690Z"
   },
   {
    "duration": 13,
    "start_time": "2023-01-04T14:08:47.711Z"
   },
   {
    "duration": 393,
    "start_time": "2023-01-04T14:08:47.725Z"
   },
   {
    "duration": 145,
    "start_time": "2023-01-04T14:08:48.120Z"
   },
   {
    "duration": 19,
    "start_time": "2023-01-04T14:08:48.266Z"
   },
   {
    "duration": 31,
    "start_time": "2023-01-04T14:08:48.286Z"
   },
   {
    "duration": 4,
    "start_time": "2023-01-04T14:08:48.319Z"
   },
   {
    "duration": 26,
    "start_time": "2023-01-04T14:08:48.324Z"
   },
   {
    "duration": 8,
    "start_time": "2023-01-04T14:08:48.351Z"
   },
   {
    "duration": 18,
    "start_time": "2023-01-04T14:08:48.360Z"
   },
   {
    "duration": 38,
    "start_time": "2023-01-04T14:08:48.380Z"
   },
   {
    "duration": 2,
    "start_time": "2023-01-04T14:08:48.419Z"
   },
   {
    "duration": 263,
    "start_time": "2023-01-04T14:08:48.423Z"
   },
   {
    "duration": 7,
    "start_time": "2023-01-04T14:08:48.687Z"
   },
   {
    "duration": 136,
    "start_time": "2023-01-04T14:08:48.704Z"
   },
   {
    "duration": 5,
    "start_time": "2023-01-04T14:08:48.841Z"
   },
   {
    "duration": 180,
    "start_time": "2023-01-04T14:08:48.847Z"
   },
   {
    "duration": 2,
    "start_time": "2023-01-04T14:08:49.029Z"
   },
   {
    "duration": 473,
    "start_time": "2023-01-04T14:08:49.033Z"
   },
   {
    "duration": 11,
    "start_time": "2023-01-04T14:08:49.510Z"
   },
   {
    "duration": 5,
    "start_time": "2023-01-04T14:08:49.522Z"
   },
   {
    "duration": 20,
    "start_time": "2023-01-04T14:08:49.528Z"
   },
   {
    "duration": 6,
    "start_time": "2023-01-04T14:08:49.549Z"
   },
   {
    "duration": 149,
    "start_time": "2023-01-04T14:08:49.557Z"
   },
   {
    "duration": 2,
    "start_time": "2023-01-04T14:08:49.708Z"
   },
   {
    "duration": 20,
    "start_time": "2023-01-04T14:08:49.712Z"
   },
   {
    "duration": 9,
    "start_time": "2023-01-04T14:08:49.733Z"
   },
   {
    "duration": 6,
    "start_time": "2023-01-04T14:08:49.744Z"
   },
   {
    "duration": 7,
    "start_time": "2023-01-04T14:08:49.752Z"
   },
   {
    "duration": 5,
    "start_time": "2023-01-04T14:08:49.761Z"
   },
   {
    "duration": 8,
    "start_time": "2023-01-04T14:08:49.767Z"
   },
   {
    "duration": 29,
    "start_time": "2023-01-04T14:08:49.776Z"
   },
   {
    "duration": 8,
    "start_time": "2023-01-04T14:08:49.807Z"
   },
   {
    "duration": 6,
    "start_time": "2023-01-04T14:08:49.816Z"
   },
   {
    "duration": 8,
    "start_time": "2023-01-04T14:08:49.823Z"
   },
   {
    "duration": 2,
    "start_time": "2023-01-04T14:08:49.832Z"
   },
   {
    "duration": 7,
    "start_time": "2023-01-04T14:08:49.836Z"
   },
   {
    "duration": 7,
    "start_time": "2023-01-04T14:08:49.844Z"
   },
   {
    "duration": 8,
    "start_time": "2023-01-04T14:08:49.853Z"
   },
   {
    "duration": 6,
    "start_time": "2023-01-04T14:08:49.863Z"
   },
   {
    "duration": 7,
    "start_time": "2023-01-04T14:08:49.904Z"
   },
   {
    "duration": 3,
    "start_time": "2023-01-04T14:08:49.912Z"
   },
   {
    "duration": 7,
    "start_time": "2023-01-04T14:08:49.916Z"
   },
   {
    "duration": 10,
    "start_time": "2023-01-04T14:08:49.925Z"
   },
   {
    "duration": 10,
    "start_time": "2023-01-04T14:08:49.936Z"
   },
   {
    "duration": 4,
    "start_time": "2023-01-04T14:08:49.947Z"
   },
   {
    "duration": 495,
    "start_time": "2023-01-04T14:08:49.952Z"
   },
   {
    "duration": 13,
    "start_time": "2023-01-04T14:08:50.448Z"
   },
   {
    "duration": 13,
    "start_time": "2023-01-04T14:08:50.462Z"
   },
   {
    "duration": 6,
    "start_time": "2023-01-04T14:08:50.476Z"
   },
   {
    "duration": 17,
    "start_time": "2023-01-04T14:08:50.483Z"
   },
   {
    "duration": 101,
    "start_time": "2023-01-04T14:23:55.256Z"
   },
   {
    "duration": 14,
    "start_time": "2023-01-04T14:24:23.847Z"
   },
   {
    "duration": 6,
    "start_time": "2023-01-04T14:24:40.742Z"
   },
   {
    "duration": 7,
    "start_time": "2023-01-04T14:26:18.976Z"
   },
   {
    "duration": 1163,
    "start_time": "2023-01-04T15:35:31.995Z"
   },
   {
    "duration": 24,
    "start_time": "2023-01-04T15:35:33.161Z"
   },
   {
    "duration": 63,
    "start_time": "2023-01-04T15:35:33.188Z"
   },
   {
    "duration": 17,
    "start_time": "2023-01-04T15:35:33.255Z"
   },
   {
    "duration": 27,
    "start_time": "2023-01-04T15:35:33.274Z"
   },
   {
    "duration": 9,
    "start_time": "2023-01-04T15:35:33.303Z"
   },
   {
    "duration": 16,
    "start_time": "2023-01-04T15:35:33.350Z"
   },
   {
    "duration": 6,
    "start_time": "2023-01-04T15:35:33.368Z"
   },
   {
    "duration": 22,
    "start_time": "2023-01-04T15:35:33.376Z"
   },
   {
    "duration": 57,
    "start_time": "2023-01-04T15:35:33.401Z"
   },
   {
    "duration": 1064,
    "start_time": "2023-01-04T15:35:33.462Z"
   },
   {
    "duration": 166,
    "start_time": "2023-01-04T15:35:34.528Z"
   },
   {
    "duration": 24,
    "start_time": "2023-01-04T15:35:34.696Z"
   },
   {
    "duration": 58,
    "start_time": "2023-01-04T15:35:34.723Z"
   },
   {
    "duration": 9,
    "start_time": "2023-01-04T15:35:34.784Z"
   },
   {
    "duration": 62,
    "start_time": "2023-01-04T15:35:34.795Z"
   },
   {
    "duration": 16,
    "start_time": "2023-01-04T15:35:34.860Z"
   },
   {
    "duration": 23,
    "start_time": "2023-01-04T15:35:34.878Z"
   },
   {
    "duration": 57,
    "start_time": "2023-01-04T15:35:34.903Z"
   },
   {
    "duration": 4,
    "start_time": "2023-01-04T15:35:34.962Z"
   },
   {
    "duration": 334,
    "start_time": "2023-01-04T15:35:34.969Z"
   },
   {
    "duration": 9,
    "start_time": "2023-01-04T15:35:35.305Z"
   },
   {
    "duration": 248,
    "start_time": "2023-01-04T15:35:35.315Z"
   },
   {
    "duration": 7,
    "start_time": "2023-01-04T15:35:35.566Z"
   },
   {
    "duration": 199,
    "start_time": "2023-01-04T15:35:35.575Z"
   },
   {
    "duration": 3,
    "start_time": "2023-01-04T15:35:35.777Z"
   },
   {
    "duration": 658,
    "start_time": "2023-01-04T15:35:35.783Z"
   },
   {
    "duration": 23,
    "start_time": "2023-01-04T15:35:36.445Z"
   },
   {
    "duration": 15,
    "start_time": "2023-01-04T15:35:36.471Z"
   },
   {
    "duration": 33,
    "start_time": "2023-01-04T15:35:36.489Z"
   },
   {
    "duration": 10,
    "start_time": "2023-01-04T15:35:36.524Z"
   },
   {
    "duration": 203,
    "start_time": "2023-01-04T15:35:36.551Z"
   },
   {
    "duration": 3,
    "start_time": "2023-01-04T15:35:36.756Z"
   },
   {
    "duration": 23,
    "start_time": "2023-01-04T15:35:36.760Z"
   },
   {
    "duration": 16,
    "start_time": "2023-01-04T15:35:36.785Z"
   },
   {
    "duration": 14,
    "start_time": "2023-01-04T15:35:36.804Z"
   },
   {
    "duration": 36,
    "start_time": "2023-01-04T15:35:36.820Z"
   },
   {
    "duration": 15,
    "start_time": "2023-01-04T15:35:36.859Z"
   },
   {
    "duration": 6,
    "start_time": "2023-01-04T15:35:36.877Z"
   },
   {
    "duration": 15,
    "start_time": "2023-01-04T15:35:36.885Z"
   },
   {
    "duration": 13,
    "start_time": "2023-01-04T15:35:36.903Z"
   },
   {
    "duration": 40,
    "start_time": "2023-01-04T15:35:36.918Z"
   },
   {
    "duration": 12,
    "start_time": "2023-01-04T15:35:36.961Z"
   },
   {
    "duration": 14,
    "start_time": "2023-01-04T15:35:36.976Z"
   },
   {
    "duration": 22,
    "start_time": "2023-01-04T15:35:36.993Z"
   },
   {
    "duration": 13,
    "start_time": "2023-01-04T15:35:37.018Z"
   },
   {
    "duration": 29,
    "start_time": "2023-01-04T15:35:37.033Z"
   },
   {
    "duration": 22,
    "start_time": "2023-01-04T15:35:37.065Z"
   },
   {
    "duration": 14,
    "start_time": "2023-01-04T15:35:37.089Z"
   },
   {
    "duration": 6,
    "start_time": "2023-01-04T15:35:37.105Z"
   },
   {
    "duration": 38,
    "start_time": "2023-01-04T15:35:37.113Z"
   },
   {
    "duration": 19,
    "start_time": "2023-01-04T15:35:37.154Z"
   },
   {
    "duration": 16,
    "start_time": "2023-01-04T15:35:37.176Z"
   },
   {
    "duration": 6,
    "start_time": "2023-01-04T15:35:37.194Z"
   },
   {
    "duration": 873,
    "start_time": "2023-01-04T15:35:37.202Z"
   },
   {
    "duration": 20,
    "start_time": "2023-01-04T15:35:38.077Z"
   },
   {
    "duration": 16,
    "start_time": "2023-01-04T15:35:38.099Z"
   },
   {
    "duration": 8,
    "start_time": "2023-01-04T15:35:38.117Z"
   },
   {
    "duration": 26,
    "start_time": "2023-01-04T15:35:38.128Z"
   },
   {
    "duration": 54,
    "start_time": "2023-01-04T18:45:23.570Z"
   },
   {
    "duration": 911,
    "start_time": "2023-01-04T18:45:29.145Z"
   },
   {
    "duration": 19,
    "start_time": "2023-01-04T18:45:30.058Z"
   },
   {
    "duration": 34,
    "start_time": "2023-01-04T18:45:30.080Z"
   },
   {
    "duration": 44,
    "start_time": "2023-01-04T18:45:30.117Z"
   },
   {
    "duration": 22,
    "start_time": "2023-01-04T18:45:30.162Z"
   },
   {
    "duration": 17,
    "start_time": "2023-01-04T18:45:30.187Z"
   },
   {
    "duration": 28,
    "start_time": "2023-01-04T18:45:30.206Z"
   },
   {
    "duration": 7,
    "start_time": "2023-01-04T18:45:30.252Z"
   },
   {
    "duration": 46,
    "start_time": "2023-01-04T18:45:30.261Z"
   },
   {
    "duration": 30,
    "start_time": "2023-01-04T18:45:30.311Z"
   },
   {
    "duration": 735,
    "start_time": "2023-01-04T18:45:30.350Z"
   },
   {
    "duration": 181,
    "start_time": "2023-01-04T18:45:31.088Z"
   },
   {
    "duration": 36,
    "start_time": "2023-01-04T18:45:31.271Z"
   },
   {
    "duration": 45,
    "start_time": "2023-01-04T18:45:31.310Z"
   },
   {
    "duration": 7,
    "start_time": "2023-01-04T18:45:31.357Z"
   },
   {
    "duration": 64,
    "start_time": "2023-01-04T18:45:31.366Z"
   },
   {
    "duration": 23,
    "start_time": "2023-01-04T18:45:31.432Z"
   },
   {
    "duration": 43,
    "start_time": "2023-01-04T18:45:31.457Z"
   },
   {
    "duration": 28,
    "start_time": "2023-01-04T18:45:31.502Z"
   },
   {
    "duration": 3,
    "start_time": "2023-01-04T18:45:31.533Z"
   },
   {
    "duration": 348,
    "start_time": "2023-01-04T18:45:31.539Z"
   },
   {
    "duration": 373,
    "start_time": "2023-01-04T18:45:31.888Z"
   },
   {
    "duration": 8,
    "start_time": "2023-01-04T18:45:32.263Z"
   },
   {
    "duration": 196,
    "start_time": "2023-01-04T18:45:32.273Z"
   },
   {
    "duration": 6,
    "start_time": "2023-01-04T18:45:32.471Z"
   },
   {
    "duration": 177,
    "start_time": "2023-01-04T18:45:32.479Z"
   },
   {
    "duration": 3,
    "start_time": "2023-01-04T18:45:32.658Z"
   },
   {
    "duration": 660,
    "start_time": "2023-01-04T18:45:32.665Z"
   },
   {
    "duration": 0,
    "start_time": "2023-01-04T18:45:33.326Z"
   },
   {
    "duration": 0,
    "start_time": "2023-01-04T18:45:33.328Z"
   },
   {
    "duration": 0,
    "start_time": "2023-01-04T18:45:33.329Z"
   },
   {
    "duration": 1,
    "start_time": "2023-01-04T18:45:33.330Z"
   },
   {
    "duration": 0,
    "start_time": "2023-01-04T18:45:33.332Z"
   },
   {
    "duration": 0,
    "start_time": "2023-01-04T18:45:33.333Z"
   },
   {
    "duration": 0,
    "start_time": "2023-01-04T18:45:33.335Z"
   },
   {
    "duration": 0,
    "start_time": "2023-01-04T18:45:33.351Z"
   },
   {
    "duration": 0,
    "start_time": "2023-01-04T18:45:33.353Z"
   },
   {
    "duration": 0,
    "start_time": "2023-01-04T18:45:33.354Z"
   },
   {
    "duration": 0,
    "start_time": "2023-01-04T18:45:33.355Z"
   },
   {
    "duration": 0,
    "start_time": "2023-01-04T18:45:33.357Z"
   },
   {
    "duration": 0,
    "start_time": "2023-01-04T18:45:33.358Z"
   },
   {
    "duration": 0,
    "start_time": "2023-01-04T18:45:33.360Z"
   },
   {
    "duration": 0,
    "start_time": "2023-01-04T18:45:33.361Z"
   },
   {
    "duration": 0,
    "start_time": "2023-01-04T18:45:33.363Z"
   },
   {
    "duration": 0,
    "start_time": "2023-01-04T18:45:33.364Z"
   },
   {
    "duration": 0,
    "start_time": "2023-01-04T18:45:33.365Z"
   },
   {
    "duration": 0,
    "start_time": "2023-01-04T18:45:33.367Z"
   },
   {
    "duration": 0,
    "start_time": "2023-01-04T18:45:33.368Z"
   },
   {
    "duration": 0,
    "start_time": "2023-01-04T18:45:33.369Z"
   },
   {
    "duration": 0,
    "start_time": "2023-01-04T18:45:33.370Z"
   },
   {
    "duration": 0,
    "start_time": "2023-01-04T18:45:33.372Z"
   },
   {
    "duration": 0,
    "start_time": "2023-01-04T18:45:33.373Z"
   },
   {
    "duration": 0,
    "start_time": "2023-01-04T18:45:33.374Z"
   },
   {
    "duration": 0,
    "start_time": "2023-01-04T18:45:33.376Z"
   },
   {
    "duration": 0,
    "start_time": "2023-01-04T18:45:33.377Z"
   },
   {
    "duration": 0,
    "start_time": "2023-01-04T18:45:33.379Z"
   },
   {
    "duration": 0,
    "start_time": "2023-01-04T18:45:33.380Z"
   },
   {
    "duration": 0,
    "start_time": "2023-01-04T18:45:33.381Z"
   },
   {
    "duration": 0,
    "start_time": "2023-01-04T18:45:33.383Z"
   },
   {
    "duration": 0,
    "start_time": "2023-01-04T18:45:33.384Z"
   },
   {
    "duration": 173,
    "start_time": "2023-01-04T18:45:57.099Z"
   },
   {
    "duration": 307,
    "start_time": "2023-01-04T18:47:23.370Z"
   },
   {
    "duration": 233,
    "start_time": "2023-01-04T18:48:29.309Z"
   },
   {
    "duration": 3,
    "start_time": "2023-01-04T18:49:30.361Z"
   },
   {
    "duration": 283,
    "start_time": "2023-01-04T18:49:32.591Z"
   },
   {
    "duration": 191,
    "start_time": "2023-01-04T18:49:35.512Z"
   },
   {
    "duration": 286,
    "start_time": "2023-01-04T18:49:53.239Z"
   },
   {
    "duration": 323,
    "start_time": "2023-01-04T18:49:59.083Z"
   },
   {
    "duration": 72,
    "start_time": "2023-01-04T18:50:11.275Z"
   },
   {
    "duration": 75,
    "start_time": "2023-01-04T18:50:15.025Z"
   },
   {
    "duration": 380,
    "start_time": "2023-01-04T18:50:39.843Z"
   },
   {
    "duration": 384,
    "start_time": "2023-01-04T18:51:12.750Z"
   },
   {
    "duration": 274,
    "start_time": "2023-01-04T18:52:38.437Z"
   },
   {
    "duration": 287,
    "start_time": "2023-01-04T18:52:43.777Z"
   },
   {
    "duration": 316,
    "start_time": "2023-01-04T18:52:47.530Z"
   },
   {
    "duration": 306,
    "start_time": "2023-01-04T18:52:49.850Z"
   },
   {
    "duration": 310,
    "start_time": "2023-01-04T18:52:52.342Z"
   },
   {
    "duration": 395,
    "start_time": "2023-01-04T18:52:59.962Z"
   },
   {
    "duration": 290,
    "start_time": "2023-01-04T18:53:10.618Z"
   },
   {
    "duration": 552,
    "start_time": "2023-01-04T18:54:42.249Z"
   },
   {
    "duration": 290,
    "start_time": "2023-01-04T18:54:55.565Z"
   },
   {
    "duration": 371,
    "start_time": "2023-01-04T18:57:18.618Z"
   },
   {
    "duration": 327,
    "start_time": "2023-01-04T18:57:25.996Z"
   },
   {
    "duration": 330,
    "start_time": "2023-01-04T18:57:59.862Z"
   },
   {
    "duration": 285,
    "start_time": "2023-01-04T18:59:16.039Z"
   },
   {
    "duration": 395,
    "start_time": "2023-01-04T18:59:24.974Z"
   },
   {
    "duration": 306,
    "start_time": "2023-01-04T18:59:29.253Z"
   },
   {
    "duration": 467,
    "start_time": "2023-01-04T19:00:32.102Z"
   },
   {
    "duration": 18,
    "start_time": "2023-01-04T19:00:32.572Z"
   },
   {
    "duration": 37,
    "start_time": "2023-01-04T19:00:32.591Z"
   },
   {
    "duration": 24,
    "start_time": "2023-01-04T19:00:32.630Z"
   },
   {
    "duration": 24,
    "start_time": "2023-01-04T19:00:32.656Z"
   },
   {
    "duration": 9,
    "start_time": "2023-01-04T19:00:32.682Z"
   },
   {
    "duration": 28,
    "start_time": "2023-01-04T19:00:32.693Z"
   },
   {
    "duration": 31,
    "start_time": "2023-01-04T19:00:32.724Z"
   },
   {
    "duration": 32,
    "start_time": "2023-01-04T19:00:32.757Z"
   },
   {
    "duration": 22,
    "start_time": "2023-01-04T19:00:32.793Z"
   },
   {
    "duration": 498,
    "start_time": "2023-01-04T19:00:32.817Z"
   },
   {
    "duration": 159,
    "start_time": "2023-01-04T19:00:33.317Z"
   },
   {
    "duration": 23,
    "start_time": "2023-01-04T19:00:33.478Z"
   },
   {
    "duration": 50,
    "start_time": "2023-01-04T19:00:33.503Z"
   },
   {
    "duration": 6,
    "start_time": "2023-01-04T19:00:33.555Z"
   },
   {
    "duration": 33,
    "start_time": "2023-01-04T19:00:33.563Z"
   },
   {
    "duration": 20,
    "start_time": "2023-01-04T19:00:33.598Z"
   },
   {
    "duration": 45,
    "start_time": "2023-01-04T19:00:33.620Z"
   },
   {
    "duration": 35,
    "start_time": "2023-01-04T19:00:33.667Z"
   },
   {
    "duration": 3,
    "start_time": "2023-01-04T19:00:33.704Z"
   },
   {
    "duration": 324,
    "start_time": "2023-01-04T19:00:33.709Z"
   },
   {
    "duration": 372,
    "start_time": "2023-01-04T19:00:34.035Z"
   },
   {
    "duration": 9,
    "start_time": "2023-01-04T19:00:34.409Z"
   },
   {
    "duration": 170,
    "start_time": "2023-01-04T19:00:34.421Z"
   },
   {
    "duration": 7,
    "start_time": "2023-01-04T19:00:34.592Z"
   },
   {
    "duration": 191,
    "start_time": "2023-01-04T19:00:34.601Z"
   },
   {
    "duration": 4,
    "start_time": "2023-01-04T19:00:34.794Z"
   },
   {
    "duration": 585,
    "start_time": "2023-01-04T19:00:34.801Z"
   },
   {
    "duration": 15,
    "start_time": "2023-01-04T19:00:35.388Z"
   },
   {
    "duration": 15,
    "start_time": "2023-01-04T19:00:35.405Z"
   },
   {
    "duration": 33,
    "start_time": "2023-01-04T19:00:35.421Z"
   },
   {
    "duration": 13,
    "start_time": "2023-01-04T19:00:35.457Z"
   },
   {
    "duration": 193,
    "start_time": "2023-01-04T19:00:35.472Z"
   },
   {
    "duration": 3,
    "start_time": "2023-01-04T19:00:35.666Z"
   },
   {
    "duration": 24,
    "start_time": "2023-01-04T19:00:35.670Z"
   },
   {
    "duration": 11,
    "start_time": "2023-01-04T19:00:35.696Z"
   },
   {
    "duration": 8,
    "start_time": "2023-01-04T19:00:35.709Z"
   },
   {
    "duration": 38,
    "start_time": "2023-01-04T19:00:35.718Z"
   },
   {
    "duration": 14,
    "start_time": "2023-01-04T19:00:35.757Z"
   },
   {
    "duration": 7,
    "start_time": "2023-01-04T19:00:35.773Z"
   },
   {
    "duration": 16,
    "start_time": "2023-01-04T19:00:35.782Z"
   },
   {
    "duration": 14,
    "start_time": "2023-01-04T19:00:35.800Z"
   },
   {
    "duration": 23,
    "start_time": "2023-01-04T19:00:35.816Z"
   },
   {
    "duration": 11,
    "start_time": "2023-01-04T19:00:35.851Z"
   },
   {
    "duration": 4,
    "start_time": "2023-01-04T19:00:35.864Z"
   },
   {
    "duration": 16,
    "start_time": "2023-01-04T19:00:35.870Z"
   },
   {
    "duration": 9,
    "start_time": "2023-01-04T19:00:35.888Z"
   },
   {
    "duration": 17,
    "start_time": "2023-01-04T19:00:35.899Z"
   },
   {
    "duration": 38,
    "start_time": "2023-01-04T19:00:35.918Z"
   },
   {
    "duration": 13,
    "start_time": "2023-01-04T19:00:35.958Z"
   },
   {
    "duration": 5,
    "start_time": "2023-01-04T19:00:35.973Z"
   },
   {
    "duration": 11,
    "start_time": "2023-01-04T19:00:35.980Z"
   },
   {
    "duration": 16,
    "start_time": "2023-01-04T19:00:35.993Z"
   },
   {
    "duration": 15,
    "start_time": "2023-01-04T19:00:36.012Z"
   },
   {
    "duration": 23,
    "start_time": "2023-01-04T19:00:36.029Z"
   },
   {
    "duration": 505,
    "start_time": "2023-01-04T19:00:36.055Z"
   },
   {
    "duration": 15,
    "start_time": "2023-01-04T19:00:36.562Z"
   },
   {
    "duration": 13,
    "start_time": "2023-01-04T19:00:36.578Z"
   },
   {
    "duration": 6,
    "start_time": "2023-01-04T19:00:36.593Z"
   },
   {
    "duration": 9,
    "start_time": "2023-01-04T19:00:36.601Z"
   },
   {
    "duration": 359,
    "start_time": "2023-01-04T19:01:03.856Z"
   },
   {
    "duration": 332,
    "start_time": "2023-01-04T19:01:20.538Z"
   },
   {
    "duration": 4,
    "start_time": "2023-01-04T20:46:49.808Z"
   },
   {
    "duration": 146,
    "start_time": "2023-01-04T20:47:39.666Z"
   },
   {
    "duration": 22,
    "start_time": "2023-01-04T20:48:03.264Z"
   },
   {
    "duration": 15,
    "start_time": "2023-01-04T20:49:29.384Z"
   },
   {
    "duration": 499,
    "start_time": "2023-01-04T20:49:40.294Z"
   },
   {
    "duration": 21,
    "start_time": "2023-01-04T20:49:40.795Z"
   },
   {
    "duration": 50,
    "start_time": "2023-01-04T20:49:40.818Z"
   },
   {
    "duration": 11,
    "start_time": "2023-01-04T20:49:40.871Z"
   },
   {
    "duration": 19,
    "start_time": "2023-01-04T20:49:40.884Z"
   },
   {
    "duration": 7,
    "start_time": "2023-01-04T20:49:40.905Z"
   },
   {
    "duration": 48,
    "start_time": "2023-01-04T20:49:40.914Z"
   },
   {
    "duration": 5,
    "start_time": "2023-01-04T20:49:40.964Z"
   },
   {
    "duration": 21,
    "start_time": "2023-01-04T20:49:40.971Z"
   },
   {
    "duration": 15,
    "start_time": "2023-01-04T20:49:40.996Z"
   },
   {
    "duration": 472,
    "start_time": "2023-01-04T20:49:41.014Z"
   },
   {
    "duration": 150,
    "start_time": "2023-01-04T20:49:41.489Z"
   },
   {
    "duration": 30,
    "start_time": "2023-01-04T20:49:41.641Z"
   },
   {
    "duration": 25,
    "start_time": "2023-01-04T20:49:41.673Z"
   },
   {
    "duration": 6,
    "start_time": "2023-01-04T20:49:41.700Z"
   },
   {
    "duration": 53,
    "start_time": "2023-01-04T20:49:41.708Z"
   },
   {
    "duration": 11,
    "start_time": "2023-01-04T20:49:41.763Z"
   },
   {
    "duration": 23,
    "start_time": "2023-01-04T20:49:41.776Z"
   },
   {
    "duration": 24,
    "start_time": "2023-01-04T20:49:41.801Z"
   },
   {
    "duration": 24,
    "start_time": "2023-01-04T20:49:41.827Z"
   },
   {
    "duration": 301,
    "start_time": "2023-01-04T20:49:41.853Z"
   },
   {
    "duration": 375,
    "start_time": "2023-01-04T20:49:42.156Z"
   },
   {
    "duration": 8,
    "start_time": "2023-01-04T20:49:42.533Z"
   },
   {
    "duration": 179,
    "start_time": "2023-01-04T20:49:42.543Z"
   },
   {
    "duration": 6,
    "start_time": "2023-01-04T20:49:42.724Z"
   },
   {
    "duration": 153,
    "start_time": "2023-01-04T20:49:42.731Z"
   },
   {
    "duration": 2,
    "start_time": "2023-01-04T20:49:42.886Z"
   },
   {
    "duration": 5,
    "start_time": "2023-01-04T20:49:42.892Z"
   },
   {
    "duration": 92,
    "start_time": "2023-01-04T20:49:42.899Z"
   },
   {
    "duration": 0,
    "start_time": "2023-01-04T20:49:42.993Z"
   },
   {
    "duration": 0,
    "start_time": "2023-01-04T20:49:42.995Z"
   },
   {
    "duration": 0,
    "start_time": "2023-01-04T20:49:42.997Z"
   },
   {
    "duration": 0,
    "start_time": "2023-01-04T20:49:42.998Z"
   },
   {
    "duration": 0,
    "start_time": "2023-01-04T20:49:43.000Z"
   },
   {
    "duration": 0,
    "start_time": "2023-01-04T20:49:43.001Z"
   },
   {
    "duration": 0,
    "start_time": "2023-01-04T20:49:43.003Z"
   },
   {
    "duration": 0,
    "start_time": "2023-01-04T20:49:43.004Z"
   },
   {
    "duration": 0,
    "start_time": "2023-01-04T20:49:43.006Z"
   },
   {
    "duration": 0,
    "start_time": "2023-01-04T20:49:43.008Z"
   },
   {
    "duration": 0,
    "start_time": "2023-01-04T20:49:43.009Z"
   },
   {
    "duration": 0,
    "start_time": "2023-01-04T20:49:43.010Z"
   },
   {
    "duration": 1,
    "start_time": "2023-01-04T20:49:43.011Z"
   },
   {
    "duration": 0,
    "start_time": "2023-01-04T20:49:43.013Z"
   },
   {
    "duration": 0,
    "start_time": "2023-01-04T20:49:43.014Z"
   },
   {
    "duration": 0,
    "start_time": "2023-01-04T20:49:43.051Z"
   },
   {
    "duration": 0,
    "start_time": "2023-01-04T20:49:43.053Z"
   },
   {
    "duration": 0,
    "start_time": "2023-01-04T20:49:43.054Z"
   },
   {
    "duration": 0,
    "start_time": "2023-01-04T20:49:43.056Z"
   },
   {
    "duration": 0,
    "start_time": "2023-01-04T20:49:43.056Z"
   },
   {
    "duration": 0,
    "start_time": "2023-01-04T20:49:43.058Z"
   },
   {
    "duration": 0,
    "start_time": "2023-01-04T20:49:43.059Z"
   },
   {
    "duration": 0,
    "start_time": "2023-01-04T20:49:43.061Z"
   },
   {
    "duration": 0,
    "start_time": "2023-01-04T20:49:43.062Z"
   },
   {
    "duration": 0,
    "start_time": "2023-01-04T20:49:43.063Z"
   },
   {
    "duration": 0,
    "start_time": "2023-01-04T20:49:43.064Z"
   },
   {
    "duration": 0,
    "start_time": "2023-01-04T20:49:43.065Z"
   },
   {
    "duration": 0,
    "start_time": "2023-01-04T20:49:43.066Z"
   },
   {
    "duration": 0,
    "start_time": "2023-01-04T20:49:43.068Z"
   },
   {
    "duration": 0,
    "start_time": "2023-01-04T20:49:43.069Z"
   },
   {
    "duration": 0,
    "start_time": "2023-01-04T20:49:43.070Z"
   },
   {
    "duration": 8,
    "start_time": "2023-01-04T20:49:58.578Z"
   },
   {
    "duration": 9,
    "start_time": "2023-01-04T20:50:19.036Z"
   },
   {
    "duration": 7,
    "start_time": "2023-01-04T20:50:30.361Z"
   },
   {
    "duration": 11,
    "start_time": "2023-01-04T20:51:01.350Z"
   },
   {
    "duration": 140,
    "start_time": "2023-01-04T20:51:58.124Z"
   },
   {
    "duration": 134,
    "start_time": "2023-01-04T20:52:13.334Z"
   },
   {
    "duration": 10,
    "start_time": "2023-01-04T20:52:20.761Z"
   },
   {
    "duration": 122,
    "start_time": "2023-01-04T20:52:42.608Z"
   },
   {
    "duration": 8,
    "start_time": "2023-01-04T20:53:14.907Z"
   },
   {
    "duration": 9,
    "start_time": "2023-01-04T20:53:29.701Z"
   },
   {
    "duration": 7,
    "start_time": "2023-01-04T20:53:39.426Z"
   },
   {
    "duration": 9,
    "start_time": "2023-01-04T20:54:21.719Z"
   },
   {
    "duration": 148,
    "start_time": "2023-01-04T20:54:42.233Z"
   },
   {
    "duration": 136,
    "start_time": "2023-01-04T20:55:03.088Z"
   },
   {
    "duration": 8,
    "start_time": "2023-01-04T20:56:29.429Z"
   },
   {
    "duration": 143,
    "start_time": "2023-01-04T20:56:44.307Z"
   },
   {
    "duration": 143,
    "start_time": "2023-01-04T20:56:58.701Z"
   },
   {
    "duration": 6,
    "start_time": "2023-01-04T20:58:52.503Z"
   },
   {
    "duration": 459,
    "start_time": "2023-01-04T20:59:03.787Z"
   },
   {
    "duration": 16,
    "start_time": "2023-01-04T20:59:04.249Z"
   },
   {
    "duration": 23,
    "start_time": "2023-01-04T20:59:04.267Z"
   },
   {
    "duration": 12,
    "start_time": "2023-01-04T20:59:04.292Z"
   },
   {
    "duration": 16,
    "start_time": "2023-01-04T20:59:04.306Z"
   },
   {
    "duration": 31,
    "start_time": "2023-01-04T20:59:04.324Z"
   },
   {
    "duration": 14,
    "start_time": "2023-01-04T20:59:04.357Z"
   },
   {
    "duration": 5,
    "start_time": "2023-01-04T20:59:04.373Z"
   },
   {
    "duration": 21,
    "start_time": "2023-01-04T20:59:04.379Z"
   },
   {
    "duration": 51,
    "start_time": "2023-01-04T20:59:04.403Z"
   },
   {
    "duration": 442,
    "start_time": "2023-01-04T20:59:04.456Z"
   },
   {
    "duration": 156,
    "start_time": "2023-01-04T20:59:04.899Z"
   },
   {
    "duration": 23,
    "start_time": "2023-01-04T20:59:05.057Z"
   },
   {
    "duration": 23,
    "start_time": "2023-01-04T20:59:05.082Z"
   },
   {
    "duration": 5,
    "start_time": "2023-01-04T20:59:05.107Z"
   },
   {
    "duration": 55,
    "start_time": "2023-01-04T20:59:05.114Z"
   },
   {
    "duration": 14,
    "start_time": "2023-01-04T20:59:05.172Z"
   },
   {
    "duration": 29,
    "start_time": "2023-01-04T20:59:05.188Z"
   },
   {
    "duration": 40,
    "start_time": "2023-01-04T20:59:05.218Z"
   },
   {
    "duration": 3,
    "start_time": "2023-01-04T20:59:05.260Z"
   },
   {
    "duration": 293,
    "start_time": "2023-01-04T20:59:05.265Z"
   },
   {
    "duration": 363,
    "start_time": "2023-01-04T20:59:05.560Z"
   },
   {
    "duration": 8,
    "start_time": "2023-01-04T20:59:05.925Z"
   },
   {
    "duration": 175,
    "start_time": "2023-01-04T20:59:05.935Z"
   },
   {
    "duration": 5,
    "start_time": "2023-01-04T20:59:06.112Z"
   },
   {
    "duration": 155,
    "start_time": "2023-01-04T20:59:06.118Z"
   },
   {
    "duration": 3,
    "start_time": "2023-01-04T20:59:06.275Z"
   },
   {
    "duration": 9,
    "start_time": "2023-01-04T20:59:06.283Z"
   },
   {
    "duration": 159,
    "start_time": "2023-01-04T20:59:06.294Z"
   },
   {
    "duration": 5,
    "start_time": "2023-01-04T20:59:06.454Z"
   },
   {
    "duration": 146,
    "start_time": "2023-01-04T20:59:06.461Z"
   },
   {
    "duration": 7,
    "start_time": "2023-01-04T20:59:06.609Z"
   },
   {
    "duration": 162,
    "start_time": "2023-01-04T20:59:06.618Z"
   },
   {
    "duration": 149,
    "start_time": "2023-01-04T20:59:06.782Z"
   },
   {
    "duration": 7,
    "start_time": "2023-01-04T20:59:06.933Z"
   },
   {
    "duration": 162,
    "start_time": "2023-01-04T20:59:06.942Z"
   },
   {
    "duration": 159,
    "start_time": "2023-01-04T20:59:07.106Z"
   },
   {
    "duration": 2,
    "start_time": "2023-01-04T20:59:07.268Z"
   },
   {
    "duration": 15,
    "start_time": "2023-01-04T20:59:07.272Z"
   },
   {
    "duration": 7,
    "start_time": "2023-01-04T20:59:07.289Z"
   },
   {
    "duration": 178,
    "start_time": "2023-01-04T20:59:07.298Z"
   },
   {
    "duration": 3,
    "start_time": "2023-01-04T20:59:07.477Z"
   },
   {
    "duration": 20,
    "start_time": "2023-01-04T20:59:07.482Z"
   },
   {
    "duration": 12,
    "start_time": "2023-01-04T20:59:07.504Z"
   },
   {
    "duration": 9,
    "start_time": "2023-01-04T20:59:07.518Z"
   },
   {
    "duration": 8,
    "start_time": "2023-01-04T20:59:07.550Z"
   },
   {
    "duration": 9,
    "start_time": "2023-01-04T20:59:07.560Z"
   },
   {
    "duration": 7,
    "start_time": "2023-01-04T20:59:07.571Z"
   },
   {
    "duration": 9,
    "start_time": "2023-01-04T20:59:07.580Z"
   },
   {
    "duration": 15,
    "start_time": "2023-01-04T20:59:07.591Z"
   },
   {
    "duration": 12,
    "start_time": "2023-01-04T20:59:07.608Z"
   },
   {
    "duration": 35,
    "start_time": "2023-01-04T20:59:07.622Z"
   },
   {
    "duration": 7,
    "start_time": "2023-01-04T20:59:07.658Z"
   },
   {
    "duration": 10,
    "start_time": "2023-01-04T20:59:07.666Z"
   },
   {
    "duration": 13,
    "start_time": "2023-01-04T20:59:07.678Z"
   },
   {
    "duration": 13,
    "start_time": "2023-01-04T20:59:07.693Z"
   },
   {
    "duration": 10,
    "start_time": "2023-01-04T20:59:07.708Z"
   },
   {
    "duration": 32,
    "start_time": "2023-01-04T20:59:07.720Z"
   },
   {
    "duration": 6,
    "start_time": "2023-01-04T20:59:07.754Z"
   },
   {
    "duration": 11,
    "start_time": "2023-01-04T20:59:07.761Z"
   },
   {
    "duration": 12,
    "start_time": "2023-01-04T20:59:07.774Z"
   },
   {
    "duration": 13,
    "start_time": "2023-01-04T20:59:07.788Z"
   },
   {
    "duration": 6,
    "start_time": "2023-01-04T20:59:07.803Z"
   },
   {
    "duration": 527,
    "start_time": "2023-01-04T20:59:07.811Z"
   },
   {
    "duration": 17,
    "start_time": "2023-01-04T20:59:08.340Z"
   },
   {
    "duration": 13,
    "start_time": "2023-01-04T20:59:08.358Z"
   },
   {
    "duration": 5,
    "start_time": "2023-01-04T20:59:08.373Z"
   },
   {
    "duration": 9,
    "start_time": "2023-01-04T20:59:08.380Z"
   },
   {
    "duration": 6,
    "start_time": "2023-01-04T20:59:16.493Z"
   },
   {
    "duration": 5,
    "start_time": "2023-01-04T20:59:48.506Z"
   },
   {
    "duration": 5,
    "start_time": "2023-01-04T21:00:14.075Z"
   },
   {
    "duration": 490,
    "start_time": "2023-01-04T21:24:38.530Z"
   },
   {
    "duration": 15,
    "start_time": "2023-01-04T21:24:39.022Z"
   },
   {
    "duration": 21,
    "start_time": "2023-01-04T21:24:39.038Z"
   },
   {
    "duration": 10,
    "start_time": "2023-01-04T21:24:39.060Z"
   },
   {
    "duration": 19,
    "start_time": "2023-01-04T21:24:39.071Z"
   },
   {
    "duration": 7,
    "start_time": "2023-01-04T21:24:39.092Z"
   },
   {
    "duration": 44,
    "start_time": "2023-01-04T21:24:39.101Z"
   },
   {
    "duration": 5,
    "start_time": "2023-01-04T21:24:39.147Z"
   },
   {
    "duration": 17,
    "start_time": "2023-01-04T21:24:39.154Z"
   },
   {
    "duration": 14,
    "start_time": "2023-01-04T21:24:39.174Z"
   },
   {
    "duration": 449,
    "start_time": "2023-01-04T21:24:39.190Z"
   },
   {
    "duration": 156,
    "start_time": "2023-01-04T21:24:39.641Z"
   },
   {
    "duration": 23,
    "start_time": "2023-01-04T21:24:39.799Z"
   },
   {
    "duration": 24,
    "start_time": "2023-01-04T21:24:39.835Z"
   },
   {
    "duration": 5,
    "start_time": "2023-01-04T21:24:39.861Z"
   },
   {
    "duration": 34,
    "start_time": "2023-01-04T21:24:39.868Z"
   },
   {
    "duration": 12,
    "start_time": "2023-01-04T21:24:39.904Z"
   },
   {
    "duration": 33,
    "start_time": "2023-01-04T21:24:39.918Z"
   },
   {
    "duration": 27,
    "start_time": "2023-01-04T21:24:39.953Z"
   },
   {
    "duration": 3,
    "start_time": "2023-01-04T21:24:39.982Z"
   },
   {
    "duration": 309,
    "start_time": "2023-01-04T21:24:39.986Z"
   },
   {
    "duration": 360,
    "start_time": "2023-01-04T21:24:40.296Z"
   },
   {
    "duration": 8,
    "start_time": "2023-01-04T21:24:40.657Z"
   },
   {
    "duration": 181,
    "start_time": "2023-01-04T21:24:40.666Z"
   },
   {
    "duration": 6,
    "start_time": "2023-01-04T21:24:40.849Z"
   },
   {
    "duration": 198,
    "start_time": "2023-01-04T21:24:40.856Z"
   },
   {
    "duration": 2,
    "start_time": "2023-01-04T21:24:41.056Z"
   },
   {
    "duration": 17,
    "start_time": "2023-01-04T21:24:41.062Z"
   },
   {
    "duration": 139,
    "start_time": "2023-01-04T21:24:41.081Z"
   },
   {
    "duration": 14,
    "start_time": "2023-01-04T21:24:41.221Z"
   },
   {
    "duration": 144,
    "start_time": "2023-01-04T21:24:41.237Z"
   },
   {
    "duration": 8,
    "start_time": "2023-01-04T21:24:41.383Z"
   },
   {
    "duration": 151,
    "start_time": "2023-01-04T21:24:41.393Z"
   },
   {
    "duration": 5,
    "start_time": "2023-01-04T21:24:41.546Z"
   },
   {
    "duration": 327,
    "start_time": "2023-01-04T21:24:41.552Z"
   },
   {
    "duration": 8,
    "start_time": "2023-01-04T21:24:41.880Z"
   },
   {
    "duration": 170,
    "start_time": "2023-01-04T21:24:41.889Z"
   },
   {
    "duration": 5,
    "start_time": "2023-01-04T21:24:42.061Z"
   },
   {
    "duration": 165,
    "start_time": "2023-01-04T21:24:42.067Z"
   },
   {
    "duration": 3,
    "start_time": "2023-01-04T21:24:42.233Z"
   },
   {
    "duration": 44,
    "start_time": "2023-01-04T21:24:42.237Z"
   },
   {
    "duration": 13,
    "start_time": "2023-01-04T21:24:42.283Z"
   },
   {
    "duration": 198,
    "start_time": "2023-01-04T21:24:42.298Z"
   },
   {
    "duration": 3,
    "start_time": "2023-01-04T21:24:42.497Z"
   },
   {
    "duration": 36,
    "start_time": "2023-01-04T21:24:42.502Z"
   },
   {
    "duration": 24,
    "start_time": "2023-01-04T21:24:42.540Z"
   },
   {
    "duration": 25,
    "start_time": "2023-01-04T21:24:42.566Z"
   },
   {
    "duration": 17,
    "start_time": "2023-01-04T21:24:42.593Z"
   },
   {
    "duration": 11,
    "start_time": "2023-01-04T21:24:42.612Z"
   },
   {
    "duration": 20,
    "start_time": "2023-01-04T21:24:42.625Z"
   },
   {
    "duration": 23,
    "start_time": "2023-01-04T21:24:42.646Z"
   },
   {
    "duration": 16,
    "start_time": "2023-01-04T21:24:42.670Z"
   },
   {
    "duration": 14,
    "start_time": "2023-01-04T21:24:42.687Z"
   },
   {
    "duration": 18,
    "start_time": "2023-01-04T21:24:42.703Z"
   },
   {
    "duration": 20,
    "start_time": "2023-01-04T21:24:42.723Z"
   },
   {
    "duration": 16,
    "start_time": "2023-01-04T21:24:42.745Z"
   },
   {
    "duration": 26,
    "start_time": "2023-01-04T21:24:42.763Z"
   },
   {
    "duration": 31,
    "start_time": "2023-01-04T21:24:42.790Z"
   },
   {
    "duration": 21,
    "start_time": "2023-01-04T21:24:42.823Z"
   },
   {
    "duration": 32,
    "start_time": "2023-01-04T21:24:42.845Z"
   },
   {
    "duration": 16,
    "start_time": "2023-01-04T21:24:42.878Z"
   },
   {
    "duration": 31,
    "start_time": "2023-01-04T21:24:42.896Z"
   },
   {
    "duration": 21,
    "start_time": "2023-01-04T21:24:42.928Z"
   },
   {
    "duration": 26,
    "start_time": "2023-01-04T21:24:42.951Z"
   },
   {
    "duration": 27,
    "start_time": "2023-01-04T21:24:42.979Z"
   },
   {
    "duration": 508,
    "start_time": "2023-01-04T21:24:43.007Z"
   },
   {
    "duration": 18,
    "start_time": "2023-01-04T21:24:43.517Z"
   },
   {
    "duration": 16,
    "start_time": "2023-01-04T21:24:43.537Z"
   },
   {
    "duration": 6,
    "start_time": "2023-01-04T21:24:43.555Z"
   },
   {
    "duration": 11,
    "start_time": "2023-01-04T21:24:43.562Z"
   },
   {
    "duration": 1102,
    "start_time": "2023-09-07T20:56:41.350Z"
   },
   {
    "duration": 1922,
    "start_time": "2023-09-07T21:04:14.915Z"
   },
   {
    "duration": 1171,
    "start_time": "2023-09-07T21:05:22.048Z"
   },
   {
    "duration": 718,
    "start_time": "2023-09-07T21:05:26.078Z"
   },
   {
    "duration": 16,
    "start_time": "2023-09-07T21:05:26.798Z"
   },
   {
    "duration": 41,
    "start_time": "2023-09-07T21:05:26.816Z"
   },
   {
    "duration": 31,
    "start_time": "2023-09-07T21:05:26.859Z"
   },
   {
    "duration": 14,
    "start_time": "2023-09-07T21:05:26.892Z"
   },
   {
    "duration": 13,
    "start_time": "2023-09-07T21:05:26.907Z"
   },
   {
    "duration": 9,
    "start_time": "2023-09-07T21:05:26.922Z"
   },
   {
    "duration": 20,
    "start_time": "2023-09-07T21:05:26.933Z"
   },
   {
    "duration": 16,
    "start_time": "2023-09-07T21:05:26.954Z"
   },
   {
    "duration": 214,
    "start_time": "2023-09-07T21:05:26.973Z"
   },
   {
    "duration": 219,
    "start_time": "2023-09-07T21:05:27.189Z"
   },
   {
    "duration": 35,
    "start_time": "2023-09-07T21:05:27.410Z"
   },
   {
    "duration": 30,
    "start_time": "2023-09-07T21:05:27.448Z"
   },
   {
    "duration": 6,
    "start_time": "2023-09-07T21:05:27.480Z"
   },
   {
    "duration": 24,
    "start_time": "2023-09-07T21:05:27.488Z"
   },
   {
    "duration": 35,
    "start_time": "2023-09-07T21:05:27.513Z"
   },
   {
    "duration": 22,
    "start_time": "2023-09-07T21:05:27.549Z"
   },
   {
    "duration": 21,
    "start_time": "2023-09-07T21:05:27.573Z"
   },
   {
    "duration": 3,
    "start_time": "2023-09-07T21:05:27.595Z"
   },
   {
    "duration": 278,
    "start_time": "2023-09-07T21:05:27.599Z"
   },
   {
    "duration": 359,
    "start_time": "2023-09-07T21:05:27.879Z"
   },
   {
    "duration": 8,
    "start_time": "2023-09-07T21:05:28.240Z"
   },
   {
    "duration": 174,
    "start_time": "2023-09-07T21:05:28.249Z"
   },
   {
    "duration": 5,
    "start_time": "2023-09-07T21:05:28.425Z"
   },
   {
    "duration": 172,
    "start_time": "2023-09-07T21:05:28.431Z"
   },
   {
    "duration": 3,
    "start_time": "2023-09-07T21:05:28.604Z"
   },
   {
    "duration": 15,
    "start_time": "2023-09-07T21:05:28.609Z"
   },
   {
    "duration": 135,
    "start_time": "2023-09-07T21:05:28.645Z"
   },
   {
    "duration": 6,
    "start_time": "2023-09-07T21:05:28.782Z"
   },
   {
    "duration": 140,
    "start_time": "2023-09-07T21:05:28.790Z"
   },
   {
    "duration": 16,
    "start_time": "2023-09-07T21:05:28.932Z"
   },
   {
    "duration": 161,
    "start_time": "2023-09-07T21:05:28.950Z"
   },
   {
    "duration": 5,
    "start_time": "2023-09-07T21:05:29.112Z"
   },
   {
    "duration": 159,
    "start_time": "2023-09-07T21:05:29.119Z"
   },
   {
    "duration": 8,
    "start_time": "2023-09-07T21:05:29.280Z"
   },
   {
    "duration": 175,
    "start_time": "2023-09-07T21:05:29.290Z"
   },
   {
    "duration": 4,
    "start_time": "2023-09-07T21:05:29.467Z"
   },
   {
    "duration": 148,
    "start_time": "2023-09-07T21:05:29.473Z"
   },
   {
    "duration": 3,
    "start_time": "2023-09-07T21:05:29.623Z"
   },
   {
    "duration": 21,
    "start_time": "2023-09-07T21:05:29.627Z"
   },
   {
    "duration": 19,
    "start_time": "2023-09-07T21:05:29.650Z"
   },
   {
    "duration": 184,
    "start_time": "2023-09-07T21:05:29.671Z"
   },
   {
    "duration": 2,
    "start_time": "2023-09-07T21:05:29.857Z"
   },
   {
    "duration": 19,
    "start_time": "2023-09-07T21:05:29.861Z"
   },
   {
    "duration": 8,
    "start_time": "2023-09-07T21:05:29.882Z"
   },
   {
    "duration": 6,
    "start_time": "2023-09-07T21:05:29.892Z"
   },
   {
    "duration": 10,
    "start_time": "2023-09-07T21:05:29.899Z"
   },
   {
    "duration": 37,
    "start_time": "2023-09-07T21:05:29.910Z"
   },
   {
    "duration": 6,
    "start_time": "2023-09-07T21:05:29.949Z"
   },
   {
    "duration": 11,
    "start_time": "2023-09-07T21:05:29.959Z"
   },
   {
    "duration": 7,
    "start_time": "2023-09-07T21:05:29.972Z"
   },
   {
    "duration": 11,
    "start_time": "2023-09-07T21:05:29.981Z"
   },
   {
    "duration": 8,
    "start_time": "2023-09-07T21:05:29.994Z"
   },
   {
    "duration": 42,
    "start_time": "2023-09-07T21:05:30.004Z"
   },
   {
    "duration": 129,
    "start_time": "2023-09-07T21:05:30.047Z"
   },
   {
    "duration": 39,
    "start_time": "2023-09-07T21:05:30.178Z"
   },
   {
    "duration": 32,
    "start_time": "2023-09-07T21:05:30.218Z"
   },
   {
    "duration": 36,
    "start_time": "2023-09-07T21:05:30.251Z"
   },
   {
    "duration": 45,
    "start_time": "2023-09-07T21:05:30.288Z"
   },
   {
    "duration": 28,
    "start_time": "2023-09-07T21:05:30.335Z"
   },
   {
    "duration": 22,
    "start_time": "2023-09-07T21:05:30.365Z"
   },
   {
    "duration": 29,
    "start_time": "2023-09-07T21:05:30.388Z"
   },
   {
    "duration": 26,
    "start_time": "2023-09-07T21:05:30.419Z"
   },
   {
    "duration": 35,
    "start_time": "2023-09-07T21:05:30.446Z"
   },
   {
    "duration": 508,
    "start_time": "2023-09-07T21:05:30.482Z"
   },
   {
    "duration": 15,
    "start_time": "2023-09-07T21:05:30.993Z"
   },
   {
    "duration": 99,
    "start_time": "2023-09-07T21:05:31.010Z"
   },
   {
    "duration": 105,
    "start_time": "2023-09-07T21:05:31.111Z"
   },
   {
    "duration": 88,
    "start_time": "2023-09-07T21:05:31.218Z"
   },
   {
    "duration": 121,
    "start_time": "2023-09-07T21:15:31.908Z"
   },
   {
    "duration": 141,
    "start_time": "2023-09-07T21:17:21.368Z"
   },
   {
    "duration": 169,
    "start_time": "2023-09-07T21:19:30.921Z"
   },
   {
    "duration": 731,
    "start_time": "2023-09-07T21:26:50.317Z"
   },
   {
    "duration": 16,
    "start_time": "2023-09-07T21:26:51.050Z"
   },
   {
    "duration": 59,
    "start_time": "2023-09-07T21:26:51.067Z"
   },
   {
    "duration": 45,
    "start_time": "2023-09-07T21:26:51.127Z"
   },
   {
    "duration": 73,
    "start_time": "2023-09-07T21:26:51.174Z"
   },
   {
    "duration": 17,
    "start_time": "2023-09-07T21:26:51.249Z"
   },
   {
    "duration": 22,
    "start_time": "2023-09-07T21:26:51.268Z"
   },
   {
    "duration": 16,
    "start_time": "2023-09-07T21:26:51.291Z"
   },
   {
    "duration": 23,
    "start_time": "2023-09-07T21:26:51.309Z"
   },
   {
    "duration": 215,
    "start_time": "2023-09-07T21:26:51.334Z"
   },
   {
    "duration": 236,
    "start_time": "2023-09-07T21:26:51.551Z"
   },
   {
    "duration": 20,
    "start_time": "2023-09-07T21:26:51.788Z"
   },
   {
    "duration": 23,
    "start_time": "2023-09-07T21:26:51.811Z"
   },
   {
    "duration": 5,
    "start_time": "2023-09-07T21:26:51.846Z"
   },
   {
    "duration": 54,
    "start_time": "2023-09-07T21:26:51.852Z"
   },
   {
    "duration": 12,
    "start_time": "2023-09-07T21:26:51.907Z"
   },
   {
    "duration": 34,
    "start_time": "2023-09-07T21:26:51.921Z"
   },
   {
    "duration": 25,
    "start_time": "2023-09-07T21:26:51.957Z"
   },
   {
    "duration": 396,
    "start_time": "2023-09-07T21:26:51.984Z"
   },
   {
    "duration": 356,
    "start_time": "2023-09-07T21:26:52.382Z"
   },
   {
    "duration": 8,
    "start_time": "2023-09-07T21:26:52.740Z"
   },
   {
    "duration": 179,
    "start_time": "2023-09-07T21:26:52.750Z"
   },
   {
    "duration": 13,
    "start_time": "2023-09-07T21:26:52.931Z"
   },
   {
    "duration": 154,
    "start_time": "2023-09-07T21:26:52.946Z"
   },
   {
    "duration": 6,
    "start_time": "2023-09-07T21:26:53.102Z"
   },
   {
    "duration": 138,
    "start_time": "2023-09-07T21:26:53.110Z"
   },
   {
    "duration": 5,
    "start_time": "2023-09-07T21:26:53.250Z"
   },
   {
    "duration": 138,
    "start_time": "2023-09-07T21:26:53.257Z"
   },
   {
    "duration": 8,
    "start_time": "2023-09-07T21:26:53.397Z"
   },
   {
    "duration": 162,
    "start_time": "2023-09-07T21:26:53.406Z"
   },
   {
    "duration": 6,
    "start_time": "2023-09-07T21:26:53.570Z"
   },
   {
    "duration": 149,
    "start_time": "2023-09-07T21:26:53.578Z"
   },
   {
    "duration": 17,
    "start_time": "2023-09-07T21:26:53.728Z"
   },
   {
    "duration": 232,
    "start_time": "2023-09-07T21:26:53.747Z"
   },
   {
    "duration": 5,
    "start_time": "2023-09-07T21:26:53.982Z"
   },
   {
    "duration": 191,
    "start_time": "2023-09-07T21:26:53.989Z"
   },
   {
    "duration": 14,
    "start_time": "2023-09-07T21:26:54.182Z"
   },
   {
    "duration": 8,
    "start_time": "2023-09-07T21:26:54.198Z"
   },
   {
    "duration": 207,
    "start_time": "2023-09-07T21:26:54.208Z"
   },
   {
    "duration": 29,
    "start_time": "2023-09-07T21:26:54.417Z"
   },
   {
    "duration": 7,
    "start_time": "2023-09-07T21:26:54.451Z"
   },
   {
    "duration": 7,
    "start_time": "2023-09-07T21:26:54.460Z"
   },
   {
    "duration": 9,
    "start_time": "2023-09-07T21:26:54.469Z"
   },
   {
    "duration": 7,
    "start_time": "2023-09-07T21:26:54.479Z"
   },
   {
    "duration": 7,
    "start_time": "2023-09-07T21:26:54.488Z"
   },
   {
    "duration": 10,
    "start_time": "2023-09-07T21:26:54.497Z"
   },
   {
    "duration": 8,
    "start_time": "2023-09-07T21:26:54.545Z"
   },
   {
    "duration": 496,
    "start_time": "2023-09-07T21:26:54.554Z"
   },
   {
    "duration": 0,
    "start_time": "2023-09-07T21:26:55.053Z"
   },
   {
    "duration": 0,
    "start_time": "2023-09-07T21:26:55.054Z"
   },
   {
    "duration": 0,
    "start_time": "2023-09-07T21:26:55.056Z"
   },
   {
    "duration": 0,
    "start_time": "2023-09-07T21:26:55.058Z"
   },
   {
    "duration": 0,
    "start_time": "2023-09-07T21:26:55.061Z"
   },
   {
    "duration": 0,
    "start_time": "2023-09-07T21:26:55.061Z"
   },
   {
    "duration": 0,
    "start_time": "2023-09-07T21:26:55.063Z"
   },
   {
    "duration": 0,
    "start_time": "2023-09-07T21:26:55.065Z"
   },
   {
    "duration": 0,
    "start_time": "2023-09-07T21:26:55.066Z"
   },
   {
    "duration": 0,
    "start_time": "2023-09-07T21:26:55.068Z"
   },
   {
    "duration": 0,
    "start_time": "2023-09-07T21:26:55.069Z"
   },
   {
    "duration": 0,
    "start_time": "2023-09-07T21:26:55.164Z"
   },
   {
    "duration": 1,
    "start_time": "2023-09-07T21:26:55.165Z"
   }
  ],
  "kernelspec": {
   "display_name": "Python 3 (ipykernel)",
   "language": "python",
   "name": "python3"
  },
  "language_info": {
   "codemirror_mode": {
    "name": "ipython",
    "version": 3
   },
   "file_extension": ".py",
   "mimetype": "text/x-python",
   "name": "python",
   "nbconvert_exporter": "python",
   "pygments_lexer": "ipython3",
   "version": "3.9.5"
  },
  "toc": {
   "base_numbering": 1,
   "nav_menu": {},
   "number_sections": true,
   "sideBar": true,
   "skip_h1_title": true,
   "title_cell": "Table of Contents",
   "title_sidebar": "Contents",
   "toc_cell": false,
   "toc_position": {},
   "toc_section_display": true,
   "toc_window_display": false
  }
 },
 "nbformat": 4,
 "nbformat_minor": 2
}
