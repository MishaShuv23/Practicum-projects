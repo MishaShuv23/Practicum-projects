{
 "cells": [
  {
   "cell_type": "markdown",
   "metadata": {},
   "source": [
    "# Анализ пользовательского поведения в мобильном приложении"
   ]
  },
  {
   "cell_type": "markdown",
   "metadata": {},
   "source": [
    "В качестве аналитика стартапа, который продаёт продукты питания, нужно разобраться, как ведут себя пользователи мобильного приложения. \n",
    "Следует изучить воронку продаж, узнать, как пользователи доходят до покупки, сколько пользователей доходит до покупки, а сколько — «застревает» на предыдущих шагах и на каких именно.\n",
    "После этого нужно исследовать результаты A/A/B-эксперимента. Дизайнеры захотели поменять шрифты во всём приложении, а менеджеры испугались, что пользователям будет непривычно. Договорились принять решение по результатам A/A/B-теста. Пользователей разбили на 3 группы: 2 контрольные со старыми шрифтами и одну экспериментальную — с новыми. Требуется выяснить, какой шрифт лучше.\n",
    "Создание двух групп A вместо одной имеет определённые преимущества. Если две контрольные группы окажутся равны, можно быть уверенным в точности проведенного тестирования. Если же между значениями A и A будут существенные различия, это поможет обнаружить факторы, которые привели к искажению результатов. Сравнение контрольных групп также помогает понять, сколько времени и данных потребуется для дальнейших тестов."
   ]
  },
  {
   "cell_type": "markdown",
   "metadata": {},
   "source": [
    "# Подготовка данных к анализу"
   ]
  },
  {
   "cell_type": "code",
   "execution_count": 1,
   "metadata": {},
   "outputs": [],
   "source": [
    "import pandas as pd\n",
    "from scipy import stats as st\n",
    "import numpy as np\n",
    "import math as mth\n",
    "import matplotlib.pyplot as plt\n",
    "import seaborn as sns"
   ]
  },
  {
   "cell_type": "code",
   "execution_count": 2,
   "metadata": {},
   "outputs": [
    {
     "data": {
      "text/html": [
       "<div>\n",
       "<style scoped>\n",
       "    .dataframe tbody tr th:only-of-type {\n",
       "        vertical-align: middle;\n",
       "    }\n",
       "\n",
       "    .dataframe tbody tr th {\n",
       "        vertical-align: top;\n",
       "    }\n",
       "\n",
       "    .dataframe thead th {\n",
       "        text-align: right;\n",
       "    }\n",
       "</style>\n",
       "<table border=\"1\" class=\"dataframe\">\n",
       "  <thead>\n",
       "    <tr style=\"text-align: right;\">\n",
       "      <th></th>\n",
       "      <th>EventName</th>\n",
       "      <th>DeviceIDHash</th>\n",
       "      <th>EventTimestamp</th>\n",
       "      <th>ExpId</th>\n",
       "    </tr>\n",
       "  </thead>\n",
       "  <tbody>\n",
       "    <tr>\n",
       "      <th>0</th>\n",
       "      <td>MainScreenAppear</td>\n",
       "      <td>4575588528974610257</td>\n",
       "      <td>1564029816</td>\n",
       "      <td>246</td>\n",
       "    </tr>\n",
       "    <tr>\n",
       "      <th>1</th>\n",
       "      <td>MainScreenAppear</td>\n",
       "      <td>7416695313311560658</td>\n",
       "      <td>1564053102</td>\n",
       "      <td>246</td>\n",
       "    </tr>\n",
       "    <tr>\n",
       "      <th>2</th>\n",
       "      <td>PaymentScreenSuccessful</td>\n",
       "      <td>3518123091307005509</td>\n",
       "      <td>1564054127</td>\n",
       "      <td>248</td>\n",
       "    </tr>\n",
       "    <tr>\n",
       "      <th>3</th>\n",
       "      <td>CartScreenAppear</td>\n",
       "      <td>3518123091307005509</td>\n",
       "      <td>1564054127</td>\n",
       "      <td>248</td>\n",
       "    </tr>\n",
       "    <tr>\n",
       "      <th>4</th>\n",
       "      <td>PaymentScreenSuccessful</td>\n",
       "      <td>6217807653094995999</td>\n",
       "      <td>1564055322</td>\n",
       "      <td>248</td>\n",
       "    </tr>\n",
       "    <tr>\n",
       "      <th>...</th>\n",
       "      <td>...</td>\n",
       "      <td>...</td>\n",
       "      <td>...</td>\n",
       "      <td>...</td>\n",
       "    </tr>\n",
       "    <tr>\n",
       "      <th>244121</th>\n",
       "      <td>MainScreenAppear</td>\n",
       "      <td>4599628364049201812</td>\n",
       "      <td>1565212345</td>\n",
       "      <td>247</td>\n",
       "    </tr>\n",
       "    <tr>\n",
       "      <th>244122</th>\n",
       "      <td>MainScreenAppear</td>\n",
       "      <td>5849806612437486590</td>\n",
       "      <td>1565212439</td>\n",
       "      <td>246</td>\n",
       "    </tr>\n",
       "    <tr>\n",
       "      <th>244123</th>\n",
       "      <td>MainScreenAppear</td>\n",
       "      <td>5746969938801999050</td>\n",
       "      <td>1565212483</td>\n",
       "      <td>246</td>\n",
       "    </tr>\n",
       "    <tr>\n",
       "      <th>244124</th>\n",
       "      <td>MainScreenAppear</td>\n",
       "      <td>5746969938801999050</td>\n",
       "      <td>1565212498</td>\n",
       "      <td>246</td>\n",
       "    </tr>\n",
       "    <tr>\n",
       "      <th>244125</th>\n",
       "      <td>OffersScreenAppear</td>\n",
       "      <td>5746969938801999050</td>\n",
       "      <td>1565212517</td>\n",
       "      <td>246</td>\n",
       "    </tr>\n",
       "  </tbody>\n",
       "</table>\n",
       "<p>244126 rows × 4 columns</p>\n",
       "</div>"
      ],
      "text/plain": [
       "                      EventName         DeviceIDHash  EventTimestamp  ExpId\n",
       "0              MainScreenAppear  4575588528974610257      1564029816    246\n",
       "1              MainScreenAppear  7416695313311560658      1564053102    246\n",
       "2       PaymentScreenSuccessful  3518123091307005509      1564054127    248\n",
       "3              CartScreenAppear  3518123091307005509      1564054127    248\n",
       "4       PaymentScreenSuccessful  6217807653094995999      1564055322    248\n",
       "...                         ...                  ...             ...    ...\n",
       "244121         MainScreenAppear  4599628364049201812      1565212345    247\n",
       "244122         MainScreenAppear  5849806612437486590      1565212439    246\n",
       "244123         MainScreenAppear  5746969938801999050      1565212483    246\n",
       "244124         MainScreenAppear  5746969938801999050      1565212498    246\n",
       "244125       OffersScreenAppear  5746969938801999050      1565212517    246\n",
       "\n",
       "[244126 rows x 4 columns]"
      ]
     },
     "execution_count": 2,
     "metadata": {},
     "output_type": "execute_result"
    }
   ],
   "source": [
    "data = pd.read_csv('/datasets/logs_exp.csv', sep = '\\t')\n",
    "data"
   ]
  },
  {
   "cell_type": "code",
   "execution_count": 3,
   "metadata": {},
   "outputs": [
    {
     "name": "stdout",
     "output_type": "stream",
     "text": [
      "<class 'pandas.core.frame.DataFrame'>\n",
      "RangeIndex: 244126 entries, 0 to 244125\n",
      "Data columns (total 4 columns):\n",
      " #   Column          Non-Null Count   Dtype \n",
      "---  ------          --------------   ----- \n",
      " 0   EventName       244126 non-null  object\n",
      " 1   DeviceIDHash    244126 non-null  int64 \n",
      " 2   EventTimestamp  244126 non-null  int64 \n",
      " 3   ExpId           244126 non-null  int64 \n",
      "dtypes: int64(3), object(1)\n",
      "memory usage: 7.5+ MB\n"
     ]
    }
   ],
   "source": [
    "data.info()"
   ]
  },
  {
   "cell_type": "markdown",
   "metadata": {},
   "source": [
    "Таблица состоит из 4 столбцов и 244126 строк.\n",
    "\n",
    "Первый столбец хранит информацию о названии действия, второй - id пользователя, третий - время события, а четвертый - номер эксперимента"
   ]
  },
  {
   "cell_type": "code",
   "execution_count": 4,
   "metadata": {},
   "outputs": [
    {
     "data": {
      "text/plain": [
       "413"
      ]
     },
     "execution_count": 4,
     "metadata": {},
     "output_type": "execute_result"
    }
   ],
   "source": [
    "data.duplicated().sum()"
   ]
  },
  {
   "cell_type": "code",
   "execution_count": 5,
   "metadata": {},
   "outputs": [],
   "source": [
    "data = data.drop_duplicates().reset_index(drop=True)"
   ]
  },
  {
   "cell_type": "code",
   "execution_count": 6,
   "metadata": {},
   "outputs": [
    {
     "data": {
      "text/html": [
       "<div>\n",
       "<style scoped>\n",
       "    .dataframe tbody tr th:only-of-type {\n",
       "        vertical-align: middle;\n",
       "    }\n",
       "\n",
       "    .dataframe tbody tr th {\n",
       "        vertical-align: top;\n",
       "    }\n",
       "\n",
       "    .dataframe thead th {\n",
       "        text-align: right;\n",
       "    }\n",
       "</style>\n",
       "<table border=\"1\" class=\"dataframe\">\n",
       "  <thead>\n",
       "    <tr style=\"text-align: right;\">\n",
       "      <th></th>\n",
       "      <th>event_name</th>\n",
       "      <th>user_id</th>\n",
       "      <th>event_time</th>\n",
       "      <th>group</th>\n",
       "    </tr>\n",
       "  </thead>\n",
       "  <tbody>\n",
       "    <tr>\n",
       "      <th>0</th>\n",
       "      <td>MainScreenAppear</td>\n",
       "      <td>4575588528974610257</td>\n",
       "      <td>1564029816</td>\n",
       "      <td>246</td>\n",
       "    </tr>\n",
       "    <tr>\n",
       "      <th>1</th>\n",
       "      <td>MainScreenAppear</td>\n",
       "      <td>7416695313311560658</td>\n",
       "      <td>1564053102</td>\n",
       "      <td>246</td>\n",
       "    </tr>\n",
       "    <tr>\n",
       "      <th>2</th>\n",
       "      <td>PaymentScreenSuccessful</td>\n",
       "      <td>3518123091307005509</td>\n",
       "      <td>1564054127</td>\n",
       "      <td>248</td>\n",
       "    </tr>\n",
       "    <tr>\n",
       "      <th>3</th>\n",
       "      <td>CartScreenAppear</td>\n",
       "      <td>3518123091307005509</td>\n",
       "      <td>1564054127</td>\n",
       "      <td>248</td>\n",
       "    </tr>\n",
       "    <tr>\n",
       "      <th>4</th>\n",
       "      <td>PaymentScreenSuccessful</td>\n",
       "      <td>6217807653094995999</td>\n",
       "      <td>1564055322</td>\n",
       "      <td>248</td>\n",
       "    </tr>\n",
       "  </tbody>\n",
       "</table>\n",
       "</div>"
      ],
      "text/plain": [
       "                event_name              user_id  event_time  group\n",
       "0         MainScreenAppear  4575588528974610257  1564029816    246\n",
       "1         MainScreenAppear  7416695313311560658  1564053102    246\n",
       "2  PaymentScreenSuccessful  3518123091307005509  1564054127    248\n",
       "3         CartScreenAppear  3518123091307005509  1564054127    248\n",
       "4  PaymentScreenSuccessful  6217807653094995999  1564055322    248"
      ]
     },
     "execution_count": 6,
     "metadata": {},
     "output_type": "execute_result"
    }
   ],
   "source": [
    "data.columns = ['event_name', 'user_id', 'event_time', 'group']\n",
    "data.head()"
   ]
  },
  {
   "cell_type": "code",
   "execution_count": 7,
   "metadata": {},
   "outputs": [
    {
     "data": {
      "text/plain": [
       "event_name    0\n",
       "user_id       0\n",
       "event_time    0\n",
       "group         0\n",
       "dtype: int64"
      ]
     },
     "execution_count": 7,
     "metadata": {},
     "output_type": "execute_result"
    }
   ],
   "source": [
    "data.isnull().sum()"
   ]
  },
  {
   "cell_type": "code",
   "execution_count": 8,
   "metadata": {},
   "outputs": [],
   "source": [
    "data['event_time'] = pd.to_datetime(data['event_time'], unit = 's')"
   ]
  },
  {
   "cell_type": "code",
   "execution_count": 9,
   "metadata": {},
   "outputs": [
    {
     "data": {
      "text/html": [
       "<div>\n",
       "<style scoped>\n",
       "    .dataframe tbody tr th:only-of-type {\n",
       "        vertical-align: middle;\n",
       "    }\n",
       "\n",
       "    .dataframe tbody tr th {\n",
       "        vertical-align: top;\n",
       "    }\n",
       "\n",
       "    .dataframe thead th {\n",
       "        text-align: right;\n",
       "    }\n",
       "</style>\n",
       "<table border=\"1\" class=\"dataframe\">\n",
       "  <thead>\n",
       "    <tr style=\"text-align: right;\">\n",
       "      <th></th>\n",
       "      <th>event_name</th>\n",
       "      <th>user_id</th>\n",
       "      <th>event_time</th>\n",
       "      <th>group</th>\n",
       "    </tr>\n",
       "  </thead>\n",
       "  <tbody>\n",
       "    <tr>\n",
       "      <th>0</th>\n",
       "      <td>MainScreenAppear</td>\n",
       "      <td>4575588528974610257</td>\n",
       "      <td>2019-07-25 04:43:36</td>\n",
       "      <td>246</td>\n",
       "    </tr>\n",
       "    <tr>\n",
       "      <th>1</th>\n",
       "      <td>MainScreenAppear</td>\n",
       "      <td>7416695313311560658</td>\n",
       "      <td>2019-07-25 11:11:42</td>\n",
       "      <td>246</td>\n",
       "    </tr>\n",
       "    <tr>\n",
       "      <th>2</th>\n",
       "      <td>PaymentScreenSuccessful</td>\n",
       "      <td>3518123091307005509</td>\n",
       "      <td>2019-07-25 11:28:47</td>\n",
       "      <td>248</td>\n",
       "    </tr>\n",
       "    <tr>\n",
       "      <th>3</th>\n",
       "      <td>CartScreenAppear</td>\n",
       "      <td>3518123091307005509</td>\n",
       "      <td>2019-07-25 11:28:47</td>\n",
       "      <td>248</td>\n",
       "    </tr>\n",
       "    <tr>\n",
       "      <th>4</th>\n",
       "      <td>PaymentScreenSuccessful</td>\n",
       "      <td>6217807653094995999</td>\n",
       "      <td>2019-07-25 11:48:42</td>\n",
       "      <td>248</td>\n",
       "    </tr>\n",
       "    <tr>\n",
       "      <th>...</th>\n",
       "      <td>...</td>\n",
       "      <td>...</td>\n",
       "      <td>...</td>\n",
       "      <td>...</td>\n",
       "    </tr>\n",
       "    <tr>\n",
       "      <th>243708</th>\n",
       "      <td>MainScreenAppear</td>\n",
       "      <td>4599628364049201812</td>\n",
       "      <td>2019-08-07 21:12:25</td>\n",
       "      <td>247</td>\n",
       "    </tr>\n",
       "    <tr>\n",
       "      <th>243709</th>\n",
       "      <td>MainScreenAppear</td>\n",
       "      <td>5849806612437486590</td>\n",
       "      <td>2019-08-07 21:13:59</td>\n",
       "      <td>246</td>\n",
       "    </tr>\n",
       "    <tr>\n",
       "      <th>243710</th>\n",
       "      <td>MainScreenAppear</td>\n",
       "      <td>5746969938801999050</td>\n",
       "      <td>2019-08-07 21:14:43</td>\n",
       "      <td>246</td>\n",
       "    </tr>\n",
       "    <tr>\n",
       "      <th>243711</th>\n",
       "      <td>MainScreenAppear</td>\n",
       "      <td>5746969938801999050</td>\n",
       "      <td>2019-08-07 21:14:58</td>\n",
       "      <td>246</td>\n",
       "    </tr>\n",
       "    <tr>\n",
       "      <th>243712</th>\n",
       "      <td>OffersScreenAppear</td>\n",
       "      <td>5746969938801999050</td>\n",
       "      <td>2019-08-07 21:15:17</td>\n",
       "      <td>246</td>\n",
       "    </tr>\n",
       "  </tbody>\n",
       "</table>\n",
       "<p>243713 rows × 4 columns</p>\n",
       "</div>"
      ],
      "text/plain": [
       "                     event_name              user_id          event_time  \\\n",
       "0              MainScreenAppear  4575588528974610257 2019-07-25 04:43:36   \n",
       "1              MainScreenAppear  7416695313311560658 2019-07-25 11:11:42   \n",
       "2       PaymentScreenSuccessful  3518123091307005509 2019-07-25 11:28:47   \n",
       "3              CartScreenAppear  3518123091307005509 2019-07-25 11:28:47   \n",
       "4       PaymentScreenSuccessful  6217807653094995999 2019-07-25 11:48:42   \n",
       "...                         ...                  ...                 ...   \n",
       "243708         MainScreenAppear  4599628364049201812 2019-08-07 21:12:25   \n",
       "243709         MainScreenAppear  5849806612437486590 2019-08-07 21:13:59   \n",
       "243710         MainScreenAppear  5746969938801999050 2019-08-07 21:14:43   \n",
       "243711         MainScreenAppear  5746969938801999050 2019-08-07 21:14:58   \n",
       "243712       OffersScreenAppear  5746969938801999050 2019-08-07 21:15:17   \n",
       "\n",
       "        group  \n",
       "0         246  \n",
       "1         246  \n",
       "2         248  \n",
       "3         248  \n",
       "4         248  \n",
       "...       ...  \n",
       "243708    247  \n",
       "243709    246  \n",
       "243710    246  \n",
       "243711    246  \n",
       "243712    246  \n",
       "\n",
       "[243713 rows x 4 columns]"
      ]
     },
     "execution_count": 9,
     "metadata": {},
     "output_type": "execute_result"
    }
   ],
   "source": [
    "data"
   ]
  },
  {
   "cell_type": "markdown",
   "metadata": {},
   "source": [
    "Добавьте столбец даты и времени, а также отдельный столбец дат"
   ]
  },
  {
   "cell_type": "code",
   "execution_count": 10,
   "metadata": {},
   "outputs": [
    {
     "data": {
      "text/html": [
       "<div>\n",
       "<style scoped>\n",
       "    .dataframe tbody tr th:only-of-type {\n",
       "        vertical-align: middle;\n",
       "    }\n",
       "\n",
       "    .dataframe tbody tr th {\n",
       "        vertical-align: top;\n",
       "    }\n",
       "\n",
       "    .dataframe thead th {\n",
       "        text-align: right;\n",
       "    }\n",
       "</style>\n",
       "<table border=\"1\" class=\"dataframe\">\n",
       "  <thead>\n",
       "    <tr style=\"text-align: right;\">\n",
       "      <th></th>\n",
       "      <th>event_name</th>\n",
       "      <th>user_id</th>\n",
       "      <th>event_time</th>\n",
       "      <th>group</th>\n",
       "      <th>event_date</th>\n",
       "    </tr>\n",
       "  </thead>\n",
       "  <tbody>\n",
       "    <tr>\n",
       "      <th>0</th>\n",
       "      <td>MainScreenAppear</td>\n",
       "      <td>4575588528974610257</td>\n",
       "      <td>2019-07-25 04:43:36</td>\n",
       "      <td>246</td>\n",
       "      <td>2019-07-25</td>\n",
       "    </tr>\n",
       "    <tr>\n",
       "      <th>1</th>\n",
       "      <td>MainScreenAppear</td>\n",
       "      <td>7416695313311560658</td>\n",
       "      <td>2019-07-25 11:11:42</td>\n",
       "      <td>246</td>\n",
       "      <td>2019-07-25</td>\n",
       "    </tr>\n",
       "    <tr>\n",
       "      <th>2</th>\n",
       "      <td>PaymentScreenSuccessful</td>\n",
       "      <td>3518123091307005509</td>\n",
       "      <td>2019-07-25 11:28:47</td>\n",
       "      <td>248</td>\n",
       "      <td>2019-07-25</td>\n",
       "    </tr>\n",
       "    <tr>\n",
       "      <th>3</th>\n",
       "      <td>CartScreenAppear</td>\n",
       "      <td>3518123091307005509</td>\n",
       "      <td>2019-07-25 11:28:47</td>\n",
       "      <td>248</td>\n",
       "      <td>2019-07-25</td>\n",
       "    </tr>\n",
       "    <tr>\n",
       "      <th>4</th>\n",
       "      <td>PaymentScreenSuccessful</td>\n",
       "      <td>6217807653094995999</td>\n",
       "      <td>2019-07-25 11:48:42</td>\n",
       "      <td>248</td>\n",
       "      <td>2019-07-25</td>\n",
       "    </tr>\n",
       "    <tr>\n",
       "      <th>...</th>\n",
       "      <td>...</td>\n",
       "      <td>...</td>\n",
       "      <td>...</td>\n",
       "      <td>...</td>\n",
       "      <td>...</td>\n",
       "    </tr>\n",
       "    <tr>\n",
       "      <th>243708</th>\n",
       "      <td>MainScreenAppear</td>\n",
       "      <td>4599628364049201812</td>\n",
       "      <td>2019-08-07 21:12:25</td>\n",
       "      <td>247</td>\n",
       "      <td>2019-08-07</td>\n",
       "    </tr>\n",
       "    <tr>\n",
       "      <th>243709</th>\n",
       "      <td>MainScreenAppear</td>\n",
       "      <td>5849806612437486590</td>\n",
       "      <td>2019-08-07 21:13:59</td>\n",
       "      <td>246</td>\n",
       "      <td>2019-08-07</td>\n",
       "    </tr>\n",
       "    <tr>\n",
       "      <th>243710</th>\n",
       "      <td>MainScreenAppear</td>\n",
       "      <td>5746969938801999050</td>\n",
       "      <td>2019-08-07 21:14:43</td>\n",
       "      <td>246</td>\n",
       "      <td>2019-08-07</td>\n",
       "    </tr>\n",
       "    <tr>\n",
       "      <th>243711</th>\n",
       "      <td>MainScreenAppear</td>\n",
       "      <td>5746969938801999050</td>\n",
       "      <td>2019-08-07 21:14:58</td>\n",
       "      <td>246</td>\n",
       "      <td>2019-08-07</td>\n",
       "    </tr>\n",
       "    <tr>\n",
       "      <th>243712</th>\n",
       "      <td>OffersScreenAppear</td>\n",
       "      <td>5746969938801999050</td>\n",
       "      <td>2019-08-07 21:15:17</td>\n",
       "      <td>246</td>\n",
       "      <td>2019-08-07</td>\n",
       "    </tr>\n",
       "  </tbody>\n",
       "</table>\n",
       "<p>243713 rows × 5 columns</p>\n",
       "</div>"
      ],
      "text/plain": [
       "                     event_name              user_id          event_time  \\\n",
       "0              MainScreenAppear  4575588528974610257 2019-07-25 04:43:36   \n",
       "1              MainScreenAppear  7416695313311560658 2019-07-25 11:11:42   \n",
       "2       PaymentScreenSuccessful  3518123091307005509 2019-07-25 11:28:47   \n",
       "3              CartScreenAppear  3518123091307005509 2019-07-25 11:28:47   \n",
       "4       PaymentScreenSuccessful  6217807653094995999 2019-07-25 11:48:42   \n",
       "...                         ...                  ...                 ...   \n",
       "243708         MainScreenAppear  4599628364049201812 2019-08-07 21:12:25   \n",
       "243709         MainScreenAppear  5849806612437486590 2019-08-07 21:13:59   \n",
       "243710         MainScreenAppear  5746969938801999050 2019-08-07 21:14:43   \n",
       "243711         MainScreenAppear  5746969938801999050 2019-08-07 21:14:58   \n",
       "243712       OffersScreenAppear  5746969938801999050 2019-08-07 21:15:17   \n",
       "\n",
       "        group  event_date  \n",
       "0         246  2019-07-25  \n",
       "1         246  2019-07-25  \n",
       "2         248  2019-07-25  \n",
       "3         248  2019-07-25  \n",
       "4         248  2019-07-25  \n",
       "...       ...         ...  \n",
       "243708    247  2019-08-07  \n",
       "243709    246  2019-08-07  \n",
       "243710    246  2019-08-07  \n",
       "243711    246  2019-08-07  \n",
       "243712    246  2019-08-07  \n",
       "\n",
       "[243713 rows x 5 columns]"
      ]
     },
     "execution_count": 10,
     "metadata": {},
     "output_type": "execute_result"
    }
   ],
   "source": [
    "data['event_date'] = data['event_time'].dt.strftime('%Y-%m-%d')\n",
    "data"
   ]
  },
  {
   "cell_type": "markdown",
   "metadata": {},
   "source": [
    "# Изучение и проверка данных"
   ]
  },
  {
   "cell_type": "markdown",
   "metadata": {},
   "source": [
    "**Сколько всего событий в логе?**"
   ]
  },
  {
   "cell_type": "code",
   "execution_count": 11,
   "metadata": {},
   "outputs": [
    {
     "data": {
      "text/plain": [
       "243713"
      ]
     },
     "execution_count": 11,
     "metadata": {},
     "output_type": "execute_result"
    }
   ],
   "source": [
    "data['event_name'].count() "
   ]
  },
  {
   "cell_type": "markdown",
   "metadata": {},
   "source": [
    "Всего в логе 243713 событий "
   ]
  },
  {
   "cell_type": "code",
   "execution_count": 12,
   "metadata": {},
   "outputs": [
    {
     "data": {
      "text/plain": [
       "5"
      ]
     },
     "execution_count": 12,
     "metadata": {},
     "output_type": "execute_result"
    }
   ],
   "source": [
    "data['event_name'].nunique()"
   ]
  },
  {
   "cell_type": "markdown",
   "metadata": {},
   "source": [
    "Всего существует 5 видов событий"
   ]
  },
  {
   "cell_type": "markdown",
   "metadata": {},
   "source": [
    "**Сколько всего пользователей в логе?**"
   ]
  },
  {
   "cell_type": "code",
   "execution_count": 13,
   "metadata": {},
   "outputs": [
    {
     "data": {
      "text/plain": [
       "7551"
      ]
     },
     "execution_count": 13,
     "metadata": {},
     "output_type": "execute_result"
    }
   ],
   "source": [
    "data['user_id'].nunique()"
   ]
  },
  {
   "cell_type": "markdown",
   "metadata": {},
   "source": [
    "Всего в логе 7551 пользователей"
   ]
  },
  {
   "cell_type": "markdown",
   "metadata": {},
   "source": [
    "**Сколько в среднем событий приходится на пользователя?**"
   ]
  },
  {
   "cell_type": "code",
   "execution_count": 14,
   "metadata": {},
   "outputs": [
    {
     "data": {
      "text/plain": [
       "32.27559263673685"
      ]
     },
     "execution_count": 14,
     "metadata": {},
     "output_type": "execute_result"
    }
   ],
   "source": [
    "data['event_name'].count() / data['user_id'].nunique()"
   ]
  },
  {
   "cell_type": "markdown",
   "metadata": {},
   "source": [
    "В среднем на одного пользователя приходится 32,3 события"
   ]
  },
  {
   "cell_type": "markdown",
   "metadata": {},
   "source": [
    "**Данными за какой период вы располагаете?**"
   ]
  },
  {
   "cell_type": "code",
   "execution_count": 15,
   "metadata": {},
   "outputs": [
    {
     "data": {
      "text/plain": [
       "Timestamp('2019-07-25 04:43:36')"
      ]
     },
     "execution_count": 15,
     "metadata": {},
     "output_type": "execute_result"
    }
   ],
   "source": [
    "data['event_time'].min()"
   ]
  },
  {
   "cell_type": "code",
   "execution_count": 16,
   "metadata": {},
   "outputs": [
    {
     "data": {
      "text/plain": [
       "Timestamp('2019-08-07 21:15:17')"
      ]
     },
     "execution_count": 16,
     "metadata": {},
     "output_type": "execute_result"
    }
   ],
   "source": [
    "data['event_time'].max()"
   ]
  },
  {
   "cell_type": "markdown",
   "metadata": {},
   "source": [
    "Мы располагаем данными с 2019-07-25 по 2019-08-07"
   ]
  },
  {
   "cell_type": "code",
   "execution_count": 17,
   "metadata": {},
   "outputs": [
    {
     "data": {
      "image/png": "[encoded data removed]",
      "text/plain": [
       "<Figure size 1080x720 with 1 Axes>"
      ]
     },
     "metadata": {
      "needs_background": "light"
     },
     "output_type": "display_data"
    }
   ],
   "source": [
    "fig = plt.figure(figsize = (15, 10))\n",
    "plt.title('График событий по дате и времени')\n",
    "plt.xlabel('Дата и время')\n",
    "plt.ylabel('События')\n",
    "data['event_time'].hist(bins = 14*24)\n",
    "\n",
    "fig.autofmt_xdate()"
   ]
  },
  {
   "cell_type": "markdown",
   "metadata": {},
   "source": [
    "По графику видно, что актульные данные полные данные появились только 2019-08-01"
   ]
  },
  {
   "cell_type": "code",
   "execution_count": 18,
   "metadata": {},
   "outputs": [
    {
     "data": {
      "text/plain": [
       "38967    2019-08-02 00:00:00\n",
       "38968    2019-08-02 00:00:08\n",
       "38969    2019-08-02 00:00:18\n",
       "38970    2019-08-02 00:00:19\n",
       "38971    2019-08-02 00:00:32\n",
       "                 ...        \n",
       "243708   2019-08-07 21:12:25\n",
       "243709   2019-08-07 21:13:59\n",
       "243710   2019-08-07 21:14:43\n",
       "243711   2019-08-07 21:14:58\n",
       "243712   2019-08-07 21:15:17\n",
       "Name: event_time, Length: 204746, dtype: datetime64[ns]"
      ]
     },
     "execution_count": 18,
     "metadata": {},
     "output_type": "execute_result"
    }
   ],
   "source": [
    "data['event_time'][data['event_date'] >= '2019-08-02']"
   ]
  },
  {
   "cell_type": "code",
   "execution_count": 19,
   "metadata": {},
   "outputs": [
    {
     "data": {
      "text/plain": [
       "<AxesSubplot:>"
      ]
     },
     "execution_count": 19,
     "metadata": {},
     "output_type": "execute_result"
    },
    {
     "data": {
      "image/png": "[encoded data removed]",
      "text/plain": [
       "<Figure size 1080x720 with 1 Axes>"
      ]
     },
     "metadata": {
      "needs_background": "light"
     },
     "output_type": "display_data"
    }
   ],
   "source": [
    "data['event_time'][data['event_date'] >= '2019-08-02'].hist(figsize = (15, 10), bins = 100)"
   ]
  },
  {
   "cell_type": "code",
   "execution_count": 20,
   "metadata": {},
   "outputs": [
    {
     "data": {
      "text/plain": [
       "<AxesSubplot:>"
      ]
     },
     "execution_count": 20,
     "metadata": {},
     "output_type": "execute_result"
    },
    {
     "data": {
      "image/png": "[encoded data removed]",
      "text/plain": [
       "<Figure size 1080x720 with 1 Axes>"
      ]
     },
     "metadata": {
      "needs_background": "light"
     },
     "output_type": "display_data"
    }
   ],
   "source": [
    "data['event_time'][data['event_date'] >= '2019-08-01'].hist(figsize = (15, 10), bins = 100)"
   ]
  },
  {
   "cell_type": "code",
   "execution_count": 21,
   "metadata": {},
   "outputs": [
    {
     "data": {
      "text/plain": [
       "<AxesSubplot:>"
      ]
     },
     "execution_count": 21,
     "metadata": {},
     "output_type": "execute_result"
    },
    {
     "data": {
      "image/png": "[encoded data removed]",
      "text/plain": [
       "<Figure size 1080x720 with 1 Axes>"
      ]
     },
     "metadata": {
      "needs_background": "light"
     },
     "output_type": "display_data"
    }
   ],
   "source": [
    "data['event_time'][data['event_date'] >= '2019-07-31'].hist(figsize = (15, 10), bins = 100)"
   ]
  },
  {
   "cell_type": "markdown",
   "metadata": {},
   "source": [
    "Действительно, актуальные данные начинаются с 2019-08-01"
   ]
  },
  {
   "cell_type": "markdown",
   "metadata": {},
   "source": [
    "**Много ли событий и пользователей вы потеряли, отбросив старые данные?**"
   ]
  },
  {
   "cell_type": "code",
   "execution_count": 22,
   "metadata": {
    "scrolled": true
   },
   "outputs": [
    {
     "data": {
      "text/html": [
       "<div>\n",
       "<style scoped>\n",
       "    .dataframe tbody tr th:only-of-type {\n",
       "        vertical-align: middle;\n",
       "    }\n",
       "\n",
       "    .dataframe tbody tr th {\n",
       "        vertical-align: top;\n",
       "    }\n",
       "\n",
       "    .dataframe thead th {\n",
       "        text-align: right;\n",
       "    }\n",
       "</style>\n",
       "<table border=\"1\" class=\"dataframe\">\n",
       "  <thead>\n",
       "    <tr style=\"text-align: right;\">\n",
       "      <th></th>\n",
       "      <th>event_name</th>\n",
       "      <th>user_id</th>\n",
       "      <th>event_time</th>\n",
       "      <th>group</th>\n",
       "      <th>event_date</th>\n",
       "    </tr>\n",
       "  </thead>\n",
       "  <tbody>\n",
       "    <tr>\n",
       "      <th>2826</th>\n",
       "      <td>Tutorial</td>\n",
       "      <td>3737462046622621720</td>\n",
       "      <td>2019-08-01 00:07:28</td>\n",
       "      <td>246</td>\n",
       "      <td>2019-08-01</td>\n",
       "    </tr>\n",
       "    <tr>\n",
       "      <th>2827</th>\n",
       "      <td>MainScreenAppear</td>\n",
       "      <td>3737462046622621720</td>\n",
       "      <td>2019-08-01 00:08:00</td>\n",
       "      <td>246</td>\n",
       "      <td>2019-08-01</td>\n",
       "    </tr>\n",
       "    <tr>\n",
       "      <th>2828</th>\n",
       "      <td>MainScreenAppear</td>\n",
       "      <td>3737462046622621720</td>\n",
       "      <td>2019-08-01 00:08:55</td>\n",
       "      <td>246</td>\n",
       "      <td>2019-08-01</td>\n",
       "    </tr>\n",
       "    <tr>\n",
       "      <th>2829</th>\n",
       "      <td>OffersScreenAppear</td>\n",
       "      <td>3737462046622621720</td>\n",
       "      <td>2019-08-01 00:08:58</td>\n",
       "      <td>246</td>\n",
       "      <td>2019-08-01</td>\n",
       "    </tr>\n",
       "    <tr>\n",
       "      <th>2830</th>\n",
       "      <td>MainScreenAppear</td>\n",
       "      <td>1433840883824088890</td>\n",
       "      <td>2019-08-01 00:08:59</td>\n",
       "      <td>247</td>\n",
       "      <td>2019-08-01</td>\n",
       "    </tr>\n",
       "    <tr>\n",
       "      <th>...</th>\n",
       "      <td>...</td>\n",
       "      <td>...</td>\n",
       "      <td>...</td>\n",
       "      <td>...</td>\n",
       "      <td>...</td>\n",
       "    </tr>\n",
       "    <tr>\n",
       "      <th>243708</th>\n",
       "      <td>MainScreenAppear</td>\n",
       "      <td>4599628364049201812</td>\n",
       "      <td>2019-08-07 21:12:25</td>\n",
       "      <td>247</td>\n",
       "      <td>2019-08-07</td>\n",
       "    </tr>\n",
       "    <tr>\n",
       "      <th>243709</th>\n",
       "      <td>MainScreenAppear</td>\n",
       "      <td>5849806612437486590</td>\n",
       "      <td>2019-08-07 21:13:59</td>\n",
       "      <td>246</td>\n",
       "      <td>2019-08-07</td>\n",
       "    </tr>\n",
       "    <tr>\n",
       "      <th>243710</th>\n",
       "      <td>MainScreenAppear</td>\n",
       "      <td>5746969938801999050</td>\n",
       "      <td>2019-08-07 21:14:43</td>\n",
       "      <td>246</td>\n",
       "      <td>2019-08-07</td>\n",
       "    </tr>\n",
       "    <tr>\n",
       "      <th>243711</th>\n",
       "      <td>MainScreenAppear</td>\n",
       "      <td>5746969938801999050</td>\n",
       "      <td>2019-08-07 21:14:58</td>\n",
       "      <td>246</td>\n",
       "      <td>2019-08-07</td>\n",
       "    </tr>\n",
       "    <tr>\n",
       "      <th>243712</th>\n",
       "      <td>OffersScreenAppear</td>\n",
       "      <td>5746969938801999050</td>\n",
       "      <td>2019-08-07 21:15:17</td>\n",
       "      <td>246</td>\n",
       "      <td>2019-08-07</td>\n",
       "    </tr>\n",
       "  </tbody>\n",
       "</table>\n",
       "<p>240887 rows × 5 columns</p>\n",
       "</div>"
      ],
      "text/plain": [
       "                event_name              user_id          event_time  group  \\\n",
       "2826              Tutorial  3737462046622621720 2019-08-01 00:07:28    246   \n",
       "2827      MainScreenAppear  3737462046622621720 2019-08-01 00:08:00    246   \n",
       "2828      MainScreenAppear  3737462046622621720 2019-08-01 00:08:55    246   \n",
       "2829    OffersScreenAppear  3737462046622621720 2019-08-01 00:08:58    246   \n",
       "2830      MainScreenAppear  1433840883824088890 2019-08-01 00:08:59    247   \n",
       "...                    ...                  ...                 ...    ...   \n",
       "243708    MainScreenAppear  4599628364049201812 2019-08-07 21:12:25    247   \n",
       "243709    MainScreenAppear  5849806612437486590 2019-08-07 21:13:59    246   \n",
       "243710    MainScreenAppear  5746969938801999050 2019-08-07 21:14:43    246   \n",
       "243711    MainScreenAppear  5746969938801999050 2019-08-07 21:14:58    246   \n",
       "243712  OffersScreenAppear  5746969938801999050 2019-08-07 21:15:17    246   \n",
       "\n",
       "        event_date  \n",
       "2826    2019-08-01  \n",
       "2827    2019-08-01  \n",
       "2828    2019-08-01  \n",
       "2829    2019-08-01  \n",
       "2830    2019-08-01  \n",
       "...            ...  \n",
       "243708  2019-08-07  \n",
       "243709  2019-08-07  \n",
       "243710  2019-08-07  \n",
       "243711  2019-08-07  \n",
       "243712  2019-08-07  \n",
       "\n",
       "[240887 rows x 5 columns]"
      ]
     },
     "execution_count": 22,
     "metadata": {},
     "output_type": "execute_result"
    }
   ],
   "source": [
    "data_new = data.query('event_date >= \"2019-08-01\"')\n",
    "data_new"
   ]
  },
  {
   "cell_type": "code",
   "execution_count": 23,
   "metadata": {},
   "outputs": [
    {
     "data": {
      "text/plain": [
       "17"
      ]
     },
     "execution_count": 23,
     "metadata": {},
     "output_type": "execute_result"
    }
   ],
   "source": [
    "data['user_id'].nunique() - data_new['user_id'].nunique()"
   ]
  },
  {
   "cell_type": "code",
   "execution_count": 24,
   "metadata": {},
   "outputs": [
    {
     "data": {
      "text/plain": [
       "99.77486425638989"
      ]
     },
     "execution_count": 24,
     "metadata": {},
     "output_type": "execute_result"
    }
   ],
   "source": [
    "data_new['user_id'].nunique()/data['user_id'].nunique()*100 #ушло совсем незначительно количество пользователей"
   ]
  },
  {
   "cell_type": "code",
   "execution_count": 25,
   "metadata": {},
   "outputs": [
    {
     "data": {
      "text/plain": [
       "0"
      ]
     },
     "execution_count": 25,
     "metadata": {},
     "output_type": "execute_result"
    }
   ],
   "source": [
    "data['event_name'].nunique() - data_new['event_name'].nunique()"
   ]
  },
  {
   "cell_type": "markdown",
   "metadata": {},
   "source": [
    "**Проверьте, что у вас есть пользователи из всех трёх экспериментальных групп.**"
   ]
  },
  {
   "cell_type": "code",
   "execution_count": 26,
   "metadata": {},
   "outputs": [
    {
     "data": {
      "text/html": [
       "<div>\n",
       "<style scoped>\n",
       "    .dataframe tbody tr th:only-of-type {\n",
       "        vertical-align: middle;\n",
       "    }\n",
       "\n",
       "    .dataframe tbody tr th {\n",
       "        vertical-align: top;\n",
       "    }\n",
       "\n",
       "    .dataframe thead th {\n",
       "        text-align: right;\n",
       "    }\n",
       "</style>\n",
       "<table border=\"1\" class=\"dataframe\">\n",
       "  <thead>\n",
       "    <tr style=\"text-align: right;\">\n",
       "      <th></th>\n",
       "      <th>event_name</th>\n",
       "      <th>user_id</th>\n",
       "      <th>event_time</th>\n",
       "      <th>group</th>\n",
       "      <th>event_date</th>\n",
       "    </tr>\n",
       "  </thead>\n",
       "  <tbody>\n",
       "    <tr>\n",
       "      <th>2826</th>\n",
       "      <td>Tutorial</td>\n",
       "      <td>3737462046622621720</td>\n",
       "      <td>2019-08-01 00:07:28</td>\n",
       "      <td>246</td>\n",
       "      <td>2019-08-01</td>\n",
       "    </tr>\n",
       "    <tr>\n",
       "      <th>2827</th>\n",
       "      <td>MainScreenAppear</td>\n",
       "      <td>3737462046622621720</td>\n",
       "      <td>2019-08-01 00:08:00</td>\n",
       "      <td>246</td>\n",
       "      <td>2019-08-01</td>\n",
       "    </tr>\n",
       "    <tr>\n",
       "      <th>2828</th>\n",
       "      <td>MainScreenAppear</td>\n",
       "      <td>3737462046622621720</td>\n",
       "      <td>2019-08-01 00:08:55</td>\n",
       "      <td>246</td>\n",
       "      <td>2019-08-01</td>\n",
       "    </tr>\n",
       "    <tr>\n",
       "      <th>2829</th>\n",
       "      <td>OffersScreenAppear</td>\n",
       "      <td>3737462046622621720</td>\n",
       "      <td>2019-08-01 00:08:58</td>\n",
       "      <td>246</td>\n",
       "      <td>2019-08-01</td>\n",
       "    </tr>\n",
       "    <tr>\n",
       "      <th>2830</th>\n",
       "      <td>MainScreenAppear</td>\n",
       "      <td>1433840883824088890</td>\n",
       "      <td>2019-08-01 00:08:59</td>\n",
       "      <td>247</td>\n",
       "      <td>2019-08-01</td>\n",
       "    </tr>\n",
       "    <tr>\n",
       "      <th>...</th>\n",
       "      <td>...</td>\n",
       "      <td>...</td>\n",
       "      <td>...</td>\n",
       "      <td>...</td>\n",
       "      <td>...</td>\n",
       "    </tr>\n",
       "    <tr>\n",
       "      <th>243708</th>\n",
       "      <td>MainScreenAppear</td>\n",
       "      <td>4599628364049201812</td>\n",
       "      <td>2019-08-07 21:12:25</td>\n",
       "      <td>247</td>\n",
       "      <td>2019-08-07</td>\n",
       "    </tr>\n",
       "    <tr>\n",
       "      <th>243709</th>\n",
       "      <td>MainScreenAppear</td>\n",
       "      <td>5849806612437486590</td>\n",
       "      <td>2019-08-07 21:13:59</td>\n",
       "      <td>246</td>\n",
       "      <td>2019-08-07</td>\n",
       "    </tr>\n",
       "    <tr>\n",
       "      <th>243710</th>\n",
       "      <td>MainScreenAppear</td>\n",
       "      <td>5746969938801999050</td>\n",
       "      <td>2019-08-07 21:14:43</td>\n",
       "      <td>246</td>\n",
       "      <td>2019-08-07</td>\n",
       "    </tr>\n",
       "    <tr>\n",
       "      <th>243711</th>\n",
       "      <td>MainScreenAppear</td>\n",
       "      <td>5746969938801999050</td>\n",
       "      <td>2019-08-07 21:14:58</td>\n",
       "      <td>246</td>\n",
       "      <td>2019-08-07</td>\n",
       "    </tr>\n",
       "    <tr>\n",
       "      <th>243712</th>\n",
       "      <td>OffersScreenAppear</td>\n",
       "      <td>5746969938801999050</td>\n",
       "      <td>2019-08-07 21:15:17</td>\n",
       "      <td>246</td>\n",
       "      <td>2019-08-07</td>\n",
       "    </tr>\n",
       "  </tbody>\n",
       "</table>\n",
       "<p>240887 rows × 5 columns</p>\n",
       "</div>"
      ],
      "text/plain": [
       "                event_name              user_id          event_time  group  \\\n",
       "2826              Tutorial  3737462046622621720 2019-08-01 00:07:28    246   \n",
       "2827      MainScreenAppear  3737462046622621720 2019-08-01 00:08:00    246   \n",
       "2828      MainScreenAppear  3737462046622621720 2019-08-01 00:08:55    246   \n",
       "2829    OffersScreenAppear  3737462046622621720 2019-08-01 00:08:58    246   \n",
       "2830      MainScreenAppear  1433840883824088890 2019-08-01 00:08:59    247   \n",
       "...                    ...                  ...                 ...    ...   \n",
       "243708    MainScreenAppear  4599628364049201812 2019-08-07 21:12:25    247   \n",
       "243709    MainScreenAppear  5849806612437486590 2019-08-07 21:13:59    246   \n",
       "243710    MainScreenAppear  5746969938801999050 2019-08-07 21:14:43    246   \n",
       "243711    MainScreenAppear  5746969938801999050 2019-08-07 21:14:58    246   \n",
       "243712  OffersScreenAppear  5746969938801999050 2019-08-07 21:15:17    246   \n",
       "\n",
       "        event_date  \n",
       "2826    2019-08-01  \n",
       "2827    2019-08-01  \n",
       "2828    2019-08-01  \n",
       "2829    2019-08-01  \n",
       "2830    2019-08-01  \n",
       "...            ...  \n",
       "243708  2019-08-07  \n",
       "243709  2019-08-07  \n",
       "243710  2019-08-07  \n",
       "243711  2019-08-07  \n",
       "243712  2019-08-07  \n",
       "\n",
       "[240887 rows x 5 columns]"
      ]
     },
     "execution_count": 26,
     "metadata": {},
     "output_type": "execute_result"
    }
   ],
   "source": [
    "data_new = data.query('event_date >= \"2019-08-01\"')\n",
    "data_new"
   ]
  },
  {
   "cell_type": "code",
   "execution_count": 27,
   "metadata": {},
   "outputs": [
    {
     "data": {
      "text/plain": [
       "3"
      ]
     },
     "execution_count": 27,
     "metadata": {},
     "output_type": "execute_result"
    }
   ],
   "source": [
    "data_new['group'].nunique()\n",
    "#остались все 3 экспериментальные группы"
   ]
  },
  {
   "cell_type": "markdown",
   "metadata": {},
   "source": [
    "# Изучите воронку событий"
   ]
  },
  {
   "cell_type": "markdown",
   "metadata": {},
   "source": [
    "**Посмотрите, какие события есть в логах, как часто они встречаются. Отсортируйте события по частоте.**"
   ]
  },
  {
   "cell_type": "code",
   "execution_count": 28,
   "metadata": {},
   "outputs": [
    {
     "data": {
      "text/html": [
       "<div>\n",
       "<style scoped>\n",
       "    .dataframe tbody tr th:only-of-type {\n",
       "        vertical-align: middle;\n",
       "    }\n",
       "\n",
       "    .dataframe tbody tr th {\n",
       "        vertical-align: top;\n",
       "    }\n",
       "\n",
       "    .dataframe thead th {\n",
       "        text-align: right;\n",
       "    }\n",
       "</style>\n",
       "<table border=\"1\" class=\"dataframe\">\n",
       "  <thead>\n",
       "    <tr style=\"text-align: right;\">\n",
       "      <th></th>\n",
       "      <th>event_name</th>\n",
       "    </tr>\n",
       "  </thead>\n",
       "  <tbody>\n",
       "    <tr>\n",
       "      <th>count</th>\n",
       "      <td>240887</td>\n",
       "    </tr>\n",
       "    <tr>\n",
       "      <th>nunique</th>\n",
       "      <td>5</td>\n",
       "    </tr>\n",
       "  </tbody>\n",
       "</table>\n",
       "</div>"
      ],
      "text/plain": [
       "         event_name\n",
       "count        240887\n",
       "nunique           5"
      ]
     },
     "execution_count": 28,
     "metadata": {},
     "output_type": "execute_result"
    }
   ],
   "source": [
    "data_new.agg({'event_name': ['count', 'nunique']})"
   ]
  },
  {
   "cell_type": "code",
   "execution_count": 29,
   "metadata": {},
   "outputs": [
    {
     "data": {
      "text/html": [
       "<div>\n",
       "<style scoped>\n",
       "    .dataframe tbody tr th:only-of-type {\n",
       "        vertical-align: middle;\n",
       "    }\n",
       "\n",
       "    .dataframe tbody tr th {\n",
       "        vertical-align: top;\n",
       "    }\n",
       "\n",
       "    .dataframe thead th {\n",
       "        text-align: right;\n",
       "    }\n",
       "</style>\n",
       "<table border=\"1\" class=\"dataframe\">\n",
       "  <thead>\n",
       "    <tr style=\"text-align: right;\">\n",
       "      <th></th>\n",
       "      <th>user_id</th>\n",
       "    </tr>\n",
       "    <tr>\n",
       "      <th>event_name</th>\n",
       "      <th></th>\n",
       "    </tr>\n",
       "  </thead>\n",
       "  <tbody>\n",
       "    <tr>\n",
       "      <th>MainScreenAppear</th>\n",
       "      <td>117328</td>\n",
       "    </tr>\n",
       "    <tr>\n",
       "      <th>OffersScreenAppear</th>\n",
       "      <td>46333</td>\n",
       "    </tr>\n",
       "    <tr>\n",
       "      <th>CartScreenAppear</th>\n",
       "      <td>42303</td>\n",
       "    </tr>\n",
       "    <tr>\n",
       "      <th>PaymentScreenSuccessful</th>\n",
       "      <td>33918</td>\n",
       "    </tr>\n",
       "    <tr>\n",
       "      <th>Tutorial</th>\n",
       "      <td>1005</td>\n",
       "    </tr>\n",
       "  </tbody>\n",
       "</table>\n",
       "</div>"
      ],
      "text/plain": [
       "                         user_id\n",
       "event_name                      \n",
       "MainScreenAppear          117328\n",
       "OffersScreenAppear         46333\n",
       "CartScreenAppear           42303\n",
       "PaymentScreenSuccessful    33918\n",
       "Tutorial                    1005"
      ]
     },
     "execution_count": 29,
     "metadata": {},
     "output_type": "execute_result"
    }
   ],
   "source": [
    "event_name_pivot = data_new.pivot_table(index = 'event_name', values = 'user_id', aggfunc = 'count')\n",
    "event_name_pivot\n",
    "event_name_pivot.sort_values(by = 'user_id', ascending = False)"
   ]
  },
  {
   "cell_type": "markdown",
   "metadata": {},
   "source": [
    "**Посчитайте, сколько пользователей совершали каждое из этих событий. Отсортируйте события по числу пользователей. Посчитайте долю пользователей, которые хоть раз совершали событие.**"
   ]
  },
  {
   "cell_type": "code",
   "execution_count": 30,
   "metadata": {},
   "outputs": [
    {
     "data": {
      "text/html": [
       "<div>\n",
       "<style scoped>\n",
       "    .dataframe tbody tr th:only-of-type {\n",
       "        vertical-align: middle;\n",
       "    }\n",
       "\n",
       "    .dataframe tbody tr th {\n",
       "        vertical-align: top;\n",
       "    }\n",
       "\n",
       "    .dataframe thead th {\n",
       "        text-align: right;\n",
       "    }\n",
       "</style>\n",
       "<table border=\"1\" class=\"dataframe\">\n",
       "  <thead>\n",
       "    <tr style=\"text-align: right;\">\n",
       "      <th></th>\n",
       "      <th>user_id</th>\n",
       "    </tr>\n",
       "    <tr>\n",
       "      <th>event_name</th>\n",
       "      <th></th>\n",
       "    </tr>\n",
       "  </thead>\n",
       "  <tbody>\n",
       "    <tr>\n",
       "      <th>MainScreenAppear</th>\n",
       "      <td>7419</td>\n",
       "    </tr>\n",
       "    <tr>\n",
       "      <th>OffersScreenAppear</th>\n",
       "      <td>4593</td>\n",
       "    </tr>\n",
       "    <tr>\n",
       "      <th>CartScreenAppear</th>\n",
       "      <td>3734</td>\n",
       "    </tr>\n",
       "    <tr>\n",
       "      <th>PaymentScreenSuccessful</th>\n",
       "      <td>3539</td>\n",
       "    </tr>\n",
       "    <tr>\n",
       "      <th>Tutorial</th>\n",
       "      <td>840</td>\n",
       "    </tr>\n",
       "  </tbody>\n",
       "</table>\n",
       "</div>"
      ],
      "text/plain": [
       "                         user_id\n",
       "event_name                      \n",
       "MainScreenAppear            7419\n",
       "OffersScreenAppear          4593\n",
       "CartScreenAppear            3734\n",
       "PaymentScreenSuccessful     3539\n",
       "Tutorial                     840"
      ]
     },
     "execution_count": 30,
     "metadata": {},
     "output_type": "execute_result"
    }
   ],
   "source": [
    "users = data_new.groupby('event_name').agg({'user_id': 'nunique'})\n",
    "users.sort_values(by = 'user_id', ascending = False)"
   ]
  },
  {
   "cell_type": "code",
   "execution_count": 31,
   "metadata": {},
   "outputs": [
    {
     "data": {
      "text/plain": [
       "7534"
      ]
     },
     "execution_count": 31,
     "metadata": {},
     "output_type": "execute_result"
    }
   ],
   "source": [
    "data_new['user_id'].nunique()"
   ]
  },
  {
   "cell_type": "code",
   "execution_count": 32,
   "metadata": {},
   "outputs": [
    {
     "data": {
      "text/html": [
       "<div>\n",
       "<style scoped>\n",
       "    .dataframe tbody tr th:only-of-type {\n",
       "        vertical-align: middle;\n",
       "    }\n",
       "\n",
       "    .dataframe tbody tr th {\n",
       "        vertical-align: top;\n",
       "    }\n",
       "\n",
       "    .dataframe thead th {\n",
       "        text-align: right;\n",
       "    }\n",
       "</style>\n",
       "<table border=\"1\" class=\"dataframe\">\n",
       "  <thead>\n",
       "    <tr style=\"text-align: right;\">\n",
       "      <th></th>\n",
       "      <th>user_id</th>\n",
       "    </tr>\n",
       "    <tr>\n",
       "      <th>event_name</th>\n",
       "      <th></th>\n",
       "    </tr>\n",
       "  </thead>\n",
       "  <tbody>\n",
       "    <tr>\n",
       "      <th>CartScreenAppear</th>\n",
       "      <td>3734</td>\n",
       "    </tr>\n",
       "    <tr>\n",
       "      <th>MainScreenAppear</th>\n",
       "      <td>7419</td>\n",
       "    </tr>\n",
       "    <tr>\n",
       "      <th>OffersScreenAppear</th>\n",
       "      <td>4593</td>\n",
       "    </tr>\n",
       "    <tr>\n",
       "      <th>PaymentScreenSuccessful</th>\n",
       "      <td>3539</td>\n",
       "    </tr>\n",
       "    <tr>\n",
       "      <th>Tutorial</th>\n",
       "      <td>840</td>\n",
       "    </tr>\n",
       "  </tbody>\n",
       "</table>\n",
       "</div>"
      ],
      "text/plain": [
       "                         user_id\n",
       "event_name                      \n",
       "CartScreenAppear            3734\n",
       "MainScreenAppear            7419\n",
       "OffersScreenAppear          4593\n",
       "PaymentScreenSuccessful     3539\n",
       "Tutorial                     840"
      ]
     },
     "execution_count": 32,
     "metadata": {},
     "output_type": "execute_result"
    }
   ],
   "source": [
    "users"
   ]
  },
  {
   "cell_type": "code",
   "execution_count": 33,
   "metadata": {},
   "outputs": [
    {
     "data": {
      "text/html": [
       "<div>\n",
       "<style scoped>\n",
       "    .dataframe tbody tr th:only-of-type {\n",
       "        vertical-align: middle;\n",
       "    }\n",
       "\n",
       "    .dataframe tbody tr th {\n",
       "        vertical-align: top;\n",
       "    }\n",
       "\n",
       "    .dataframe thead th {\n",
       "        text-align: right;\n",
       "    }\n",
       "</style>\n",
       "<table border=\"1\" class=\"dataframe\">\n",
       "  <thead>\n",
       "    <tr style=\"text-align: right;\">\n",
       "      <th></th>\n",
       "      <th>user_id</th>\n",
       "    </tr>\n",
       "    <tr>\n",
       "      <th>event_name</th>\n",
       "      <th></th>\n",
       "    </tr>\n",
       "  </thead>\n",
       "  <tbody>\n",
       "    <tr>\n",
       "      <th>MainScreenAppear</th>\n",
       "      <td>98.47</td>\n",
       "    </tr>\n",
       "    <tr>\n",
       "      <th>OffersScreenAppear</th>\n",
       "      <td>60.96</td>\n",
       "    </tr>\n",
       "    <tr>\n",
       "      <th>CartScreenAppear</th>\n",
       "      <td>49.56</td>\n",
       "    </tr>\n",
       "    <tr>\n",
       "      <th>PaymentScreenSuccessful</th>\n",
       "      <td>46.97</td>\n",
       "    </tr>\n",
       "    <tr>\n",
       "      <th>Tutorial</th>\n",
       "      <td>11.15</td>\n",
       "    </tr>\n",
       "  </tbody>\n",
       "</table>\n",
       "</div>"
      ],
      "text/plain": [
       "                         user_id\n",
       "event_name                      \n",
       "MainScreenAppear           98.47\n",
       "OffersScreenAppear         60.96\n",
       "CartScreenAppear           49.56\n",
       "PaymentScreenSuccessful    46.97\n",
       "Tutorial                   11.15"
      ]
     },
     "execution_count": 33,
     "metadata": {},
     "output_type": "execute_result"
    }
   ],
   "source": [
    "round((users/data_new['user_id'].nunique())*100, 2).sort_values(by = 'user_id', ascending = False)"
   ]
  },
  {
   "cell_type": "markdown",
   "metadata": {},
   "source": [
    "Из таблицы видно, какую долю составляют пользовтели по тем или иным действиям. Отметим, что очень мало людей проходя обучение"
   ]
  },
  {
   "cell_type": "markdown",
   "metadata": {},
   "source": [
    "**Предположите, в каком порядке происходят события. Все ли они выстраиваются в последовательную цепочку? Их не нужно учитывать при расчёте воронки.**"
   ]
  },
  {
   "cell_type": "markdown",
   "metadata": {},
   "source": [
    "Судя по предыдущей таблице и доле пользователей для каждого события, порядок такой: MainScreenAppear(главнй экран), OffersScreenAppear(окно предложения), CartScreenAppear(экран корзины), PaymentScreenSuccessful(окно оплаты), Tutorial(обучение). Выглядит логично, хотя Tutorial вряд ли должен быть последним действием. Возможно, его просто пропускают"
   ]
  },
  {
   "cell_type": "markdown",
   "metadata": {},
   "source": [
    "**По воронке событий посчитайте, какая доля пользователей проходит на следующий шаг воронки (от числа пользователей на предыдущем). То есть для последовательности событий A → B → C посчитайте отношение числа пользователей с событием B к количеству пользователей с событием A, а также отношение числа пользователей с событием C к количеству пользователей с событием B.**"
   ]
  },
  {
   "cell_type": "code",
   "execution_count": 34,
   "metadata": {},
   "outputs": [
    {
     "data": {
      "text/html": [
       "<div>\n",
       "<style scoped>\n",
       "    .dataframe tbody tr th:only-of-type {\n",
       "        vertical-align: middle;\n",
       "    }\n",
       "\n",
       "    .dataframe tbody tr th {\n",
       "        vertical-align: top;\n",
       "    }\n",
       "\n",
       "    .dataframe thead th {\n",
       "        text-align: right;\n",
       "    }\n",
       "</style>\n",
       "<table border=\"1\" class=\"dataframe\">\n",
       "  <thead>\n",
       "    <tr style=\"text-align: right;\">\n",
       "      <th></th>\n",
       "      <th>user_id</th>\n",
       "    </tr>\n",
       "    <tr>\n",
       "      <th>event_name</th>\n",
       "      <th></th>\n",
       "    </tr>\n",
       "  </thead>\n",
       "  <tbody>\n",
       "    <tr>\n",
       "      <th>MainScreenAppear</th>\n",
       "      <td>7419</td>\n",
       "    </tr>\n",
       "    <tr>\n",
       "      <th>OffersScreenAppear</th>\n",
       "      <td>4593</td>\n",
       "    </tr>\n",
       "    <tr>\n",
       "      <th>CartScreenAppear</th>\n",
       "      <td>3734</td>\n",
       "    </tr>\n",
       "    <tr>\n",
       "      <th>PaymentScreenSuccessful</th>\n",
       "      <td>3539</td>\n",
       "    </tr>\n",
       "    <tr>\n",
       "      <th>Tutorial</th>\n",
       "      <td>840</td>\n",
       "    </tr>\n",
       "  </tbody>\n",
       "</table>\n",
       "</div>"
      ],
      "text/plain": [
       "                         user_id\n",
       "event_name                      \n",
       "MainScreenAppear            7419\n",
       "OffersScreenAppear          4593\n",
       "CartScreenAppear            3734\n",
       "PaymentScreenSuccessful     3539\n",
       "Tutorial                     840"
      ]
     },
     "execution_count": 34,
     "metadata": {},
     "output_type": "execute_result"
    }
   ],
   "source": [
    "users = users.sort_values(by = 'user_id', ascending = False)\n",
    "users"
   ]
  },
  {
   "cell_type": "code",
   "execution_count": 35,
   "metadata": {},
   "outputs": [
    {
     "data": {
      "text/html": [
       "<div>\n",
       "<style scoped>\n",
       "    .dataframe tbody tr th:only-of-type {\n",
       "        vertical-align: middle;\n",
       "    }\n",
       "\n",
       "    .dataframe tbody tr th {\n",
       "        vertical-align: top;\n",
       "    }\n",
       "\n",
       "    .dataframe thead th {\n",
       "        text-align: right;\n",
       "    }\n",
       "</style>\n",
       "<table border=\"1\" class=\"dataframe\">\n",
       "  <thead>\n",
       "    <tr style=\"text-align: right;\">\n",
       "      <th></th>\n",
       "      <th>user_id</th>\n",
       "      <th>ratio</th>\n",
       "    </tr>\n",
       "    <tr>\n",
       "      <th>event_name</th>\n",
       "      <th></th>\n",
       "      <th></th>\n",
       "    </tr>\n",
       "  </thead>\n",
       "  <tbody>\n",
       "    <tr>\n",
       "      <th>MainScreenAppear</th>\n",
       "      <td>7419</td>\n",
       "      <td>NaN</td>\n",
       "    </tr>\n",
       "    <tr>\n",
       "      <th>OffersScreenAppear</th>\n",
       "      <td>4593</td>\n",
       "      <td>61.908613</td>\n",
       "    </tr>\n",
       "    <tr>\n",
       "      <th>CartScreenAppear</th>\n",
       "      <td>3734</td>\n",
       "      <td>81.297627</td>\n",
       "    </tr>\n",
       "    <tr>\n",
       "      <th>PaymentScreenSuccessful</th>\n",
       "      <td>3539</td>\n",
       "      <td>94.777718</td>\n",
       "    </tr>\n",
       "    <tr>\n",
       "      <th>Tutorial</th>\n",
       "      <td>840</td>\n",
       "      <td>23.735519</td>\n",
       "    </tr>\n",
       "  </tbody>\n",
       "</table>\n",
       "</div>"
      ],
      "text/plain": [
       "                         user_id      ratio\n",
       "event_name                                 \n",
       "MainScreenAppear            7419        NaN\n",
       "OffersScreenAppear          4593  61.908613\n",
       "CartScreenAppear            3734  81.297627\n",
       "PaymentScreenSuccessful     3539  94.777718\n",
       "Tutorial                     840  23.735519"
      ]
     },
     "execution_count": 35,
     "metadata": {},
     "output_type": "execute_result"
    }
   ],
   "source": [
    "users['ratio'] = (users['user_id']/users['user_id'].shift(1))*100\n",
    "users"
   ]
  },
  {
   "cell_type": "markdown",
   "metadata": {},
   "source": [
    "Вряд ли можно корректо оценивать Tutorial как заключительный этап. Смотря на другие этапы, можно сказать, что меньше всего пользователей переходят с главного экрана на страницу предложения."
   ]
  },
  {
   "cell_type": "markdown",
   "metadata": {},
   "source": [
    "**На каком шаге теряете больше всего пользователей?**"
   ]
  },
  {
   "cell_type": "markdown",
   "metadata": {},
   "source": [
    "Больше всего пользователей теряется при переходе с главного экрана на страницу предложения (примерно 19,4%)"
   ]
  },
  {
   "cell_type": "markdown",
   "metadata": {},
   "source": [
    "**Какая доля пользователей доходит от первого события до оплаты?**"
   ]
  },
  {
   "cell_type": "code",
   "execution_count": 36,
   "metadata": {},
   "outputs": [
    {
     "data": {
      "text/plain": [
       "47.70184661005526"
      ]
     },
     "execution_count": 36,
     "metadata": {},
     "output_type": "execute_result"
    }
   ],
   "source": [
    "3539/7419*100"
   ]
  },
  {
   "cell_type": "markdown",
   "metadata": {},
   "source": [
    "От первого события(MainScreenAppear) и до оплаты(PaymentScreenSuccessful) доходят только 47,7% пользователей"
   ]
  },
  {
   "cell_type": "markdown",
   "metadata": {},
   "source": [
    "# Изучите результаты эксперимента"
   ]
  },
  {
   "cell_type": "code",
   "execution_count": 37,
   "metadata": {},
   "outputs": [],
   "source": [
    "data_new = data.query('event_name != \"Tutorial\"')\n",
    "data_new = data.query('event_date >= \"2019-08-01\"')\n",
    "#уберем этап Tutorial из анализа"
   ]
  },
  {
   "cell_type": "markdown",
   "metadata": {},
   "source": [
    "**Сколько пользователей в каждой экспериментальной группе?**"
   ]
  },
  {
   "cell_type": "code",
   "execution_count": 38,
   "metadata": {},
   "outputs": [
    {
     "data": {
      "text/html": [
       "<div>\n",
       "<style scoped>\n",
       "    .dataframe tbody tr th:only-of-type {\n",
       "        vertical-align: middle;\n",
       "    }\n",
       "\n",
       "    .dataframe tbody tr th {\n",
       "        vertical-align: top;\n",
       "    }\n",
       "\n",
       "    .dataframe thead th {\n",
       "        text-align: right;\n",
       "    }\n",
       "</style>\n",
       "<table border=\"1\" class=\"dataframe\">\n",
       "  <thead>\n",
       "    <tr style=\"text-align: right;\">\n",
       "      <th></th>\n",
       "      <th>user_id</th>\n",
       "    </tr>\n",
       "    <tr>\n",
       "      <th>group</th>\n",
       "      <th></th>\n",
       "    </tr>\n",
       "  </thead>\n",
       "  <tbody>\n",
       "    <tr>\n",
       "      <th>246</th>\n",
       "      <td>2489</td>\n",
       "    </tr>\n",
       "    <tr>\n",
       "      <th>247</th>\n",
       "      <td>2520</td>\n",
       "    </tr>\n",
       "    <tr>\n",
       "      <th>248</th>\n",
       "      <td>2542</td>\n",
       "    </tr>\n",
       "  </tbody>\n",
       "</table>\n",
       "</div>"
      ],
      "text/plain": [
       "       user_id\n",
       "group         \n",
       "246       2489\n",
       "247       2520\n",
       "248       2542"
      ]
     },
     "execution_count": 38,
     "metadata": {},
     "output_type": "execute_result"
    }
   ],
   "source": [
    "data.groupby('group').agg({'user_id': 'nunique'})"
   ]
  },
  {
   "cell_type": "code",
   "execution_count": 39,
   "metadata": {},
   "outputs": [
    {
     "data": {
      "text/html": [
       "<div>\n",
       "<style scoped>\n",
       "    .dataframe tbody tr th:only-of-type {\n",
       "        vertical-align: middle;\n",
       "    }\n",
       "\n",
       "    .dataframe tbody tr th {\n",
       "        vertical-align: top;\n",
       "    }\n",
       "\n",
       "    .dataframe thead th {\n",
       "        text-align: right;\n",
       "    }\n",
       "</style>\n",
       "<table border=\"1\" class=\"dataframe\">\n",
       "  <thead>\n",
       "    <tr style=\"text-align: right;\">\n",
       "      <th></th>\n",
       "      <th>user_id</th>\n",
       "    </tr>\n",
       "    <tr>\n",
       "      <th>group</th>\n",
       "      <th></th>\n",
       "    </tr>\n",
       "  </thead>\n",
       "  <tbody>\n",
       "    <tr>\n",
       "      <th>246</th>\n",
       "      <td>2484</td>\n",
       "    </tr>\n",
       "    <tr>\n",
       "      <th>247</th>\n",
       "      <td>2513</td>\n",
       "    </tr>\n",
       "    <tr>\n",
       "      <th>248</th>\n",
       "      <td>2537</td>\n",
       "    </tr>\n",
       "  </tbody>\n",
       "</table>\n",
       "</div>"
      ],
      "text/plain": [
       "       user_id\n",
       "group         \n",
       "246       2484\n",
       "247       2513\n",
       "248       2537"
      ]
     },
     "execution_count": 39,
     "metadata": {},
     "output_type": "execute_result"
    }
   ],
   "source": [
    "groups = data_new.groupby('group').agg({'user_id': 'nunique'})\n",
    "groups"
   ]
  },
  {
   "cell_type": "markdown",
   "metadata": {},
   "source": [
    "**Выберите самое популярное событие. Посчитайте число пользователей, совершивших это событие в каждой из контрольных групп. Посчитайте долю пользователей, совершивших это событие. Проверьте, будет ли отличие между группами статистически достоверным. Проделайте то же самое для всех других событий (удобно обернуть проверку в отдельную функцию). Можно ли сказать, что разбиение на группы работает корректно?**"
   ]
  },
  {
   "cell_type": "markdown",
   "metadata": {},
   "source": [
    "Самое популярное событие - MainScreenAppear"
   ]
  },
  {
   "cell_type": "code",
   "execution_count": 40,
   "metadata": {},
   "outputs": [
    {
     "data": {
      "text/html": [
       "<div>\n",
       "<style scoped>\n",
       "    .dataframe tbody tr th:only-of-type {\n",
       "        vertical-align: middle;\n",
       "    }\n",
       "\n",
       "    .dataframe tbody tr th {\n",
       "        vertical-align: top;\n",
       "    }\n",
       "\n",
       "    .dataframe thead th {\n",
       "        text-align: right;\n",
       "    }\n",
       "</style>\n",
       "<table border=\"1\" class=\"dataframe\">\n",
       "  <thead>\n",
       "    <tr style=\"text-align: right;\">\n",
       "      <th></th>\n",
       "      <th></th>\n",
       "      <th>user_id</th>\n",
       "    </tr>\n",
       "    <tr>\n",
       "      <th>group</th>\n",
       "      <th>event_name</th>\n",
       "      <th></th>\n",
       "    </tr>\n",
       "  </thead>\n",
       "  <tbody>\n",
       "    <tr>\n",
       "      <th>246</th>\n",
       "      <th>MainScreenAppear</th>\n",
       "      <td>2450</td>\n",
       "    </tr>\n",
       "    <tr>\n",
       "      <th>247</th>\n",
       "      <th>MainScreenAppear</th>\n",
       "      <td>2476</td>\n",
       "    </tr>\n",
       "  </tbody>\n",
       "</table>\n",
       "</div>"
      ],
      "text/plain": [
       "                        user_id\n",
       "group event_name               \n",
       "246   MainScreenAppear     2450\n",
       "247   MainScreenAppear     2476"
      ]
     },
     "execution_count": 40,
     "metadata": {},
     "output_type": "execute_result"
    }
   ],
   "source": [
    "events_groups = data_new.groupby(['group', 'event_name']).agg({'user_id': 'nunique'})\n",
    "events_groups=events_groups.query('event_name == \"MainScreenAppear\"')\n",
    "events_groups=events_groups.query('group != 248')\n",
    "events_groups"
   ]
  },
  {
   "cell_type": "code",
   "execution_count": 41,
   "metadata": {},
   "outputs": [
    {
     "data": {
      "text/html": [
       "<div>\n",
       "<style scoped>\n",
       "    .dataframe tbody tr th:only-of-type {\n",
       "        vertical-align: middle;\n",
       "    }\n",
       "\n",
       "    .dataframe tbody tr th {\n",
       "        vertical-align: top;\n",
       "    }\n",
       "\n",
       "    .dataframe thead th {\n",
       "        text-align: right;\n",
       "    }\n",
       "</style>\n",
       "<table border=\"1\" class=\"dataframe\">\n",
       "  <thead>\n",
       "    <tr style=\"text-align: right;\">\n",
       "      <th></th>\n",
       "      <th></th>\n",
       "      <th>user_id</th>\n",
       "      <th>proportion</th>\n",
       "    </tr>\n",
       "    <tr>\n",
       "      <th>group</th>\n",
       "      <th>event_name</th>\n",
       "      <th></th>\n",
       "      <th></th>\n",
       "    </tr>\n",
       "  </thead>\n",
       "  <tbody>\n",
       "    <tr>\n",
       "      <th>246</th>\n",
       "      <th>MainScreenAppear</th>\n",
       "      <td>2450</td>\n",
       "      <td>32.519246</td>\n",
       "    </tr>\n",
       "    <tr>\n",
       "      <th>247</th>\n",
       "      <th>MainScreenAppear</th>\n",
       "      <td>2476</td>\n",
       "      <td>32.864348</td>\n",
       "    </tr>\n",
       "  </tbody>\n",
       "</table>\n",
       "</div>"
      ],
      "text/plain": [
       "                        user_id  proportion\n",
       "group event_name                           \n",
       "246   MainScreenAppear     2450   32.519246\n",
       "247   MainScreenAppear     2476   32.864348"
      ]
     },
     "execution_count": 41,
     "metadata": {},
     "output_type": "execute_result"
    }
   ],
   "source": [
    "#7534 - количество всех пользовтаелей \n",
    "events_groups['proportion'] = events_groups['user_id']/7534*100\n",
    "events_groups\n",
    "#доля пользователей, совершивших событие MainScreenAppear для группы 246 = 32,6%, а для группы 247 = 32,9%"
   ]
  },
  {
   "cell_type": "code",
   "execution_count": 42,
   "metadata": {},
   "outputs": [
    {
     "data": {
      "text/html": [
       "<div>\n",
       "<style scoped>\n",
       "    .dataframe tbody tr th:only-of-type {\n",
       "        vertical-align: middle;\n",
       "    }\n",
       "\n",
       "    .dataframe tbody tr th {\n",
       "        vertical-align: top;\n",
       "    }\n",
       "\n",
       "    .dataframe thead th {\n",
       "        text-align: right;\n",
       "    }\n",
       "</style>\n",
       "<table border=\"1\" class=\"dataframe\">\n",
       "  <thead>\n",
       "    <tr style=\"text-align: right;\">\n",
       "      <th></th>\n",
       "      <th></th>\n",
       "      <th>user_id</th>\n",
       "      <th>proportion</th>\n",
       "    </tr>\n",
       "    <tr>\n",
       "      <th>group</th>\n",
       "      <th>event_name</th>\n",
       "      <th></th>\n",
       "      <th></th>\n",
       "    </tr>\n",
       "  </thead>\n",
       "  <tbody>\n",
       "    <tr>\n",
       "      <th>246</th>\n",
       "      <th>CartScreenAppear</th>\n",
       "      <td>1266</td>\n",
       "      <td>16.803823</td>\n",
       "    </tr>\n",
       "    <tr>\n",
       "      <th>247</th>\n",
       "      <th>CartScreenAppear</th>\n",
       "      <td>1238</td>\n",
       "      <td>16.432174</td>\n",
       "    </tr>\n",
       "    <tr>\n",
       "      <th>246</th>\n",
       "      <th>MainScreenAppear</th>\n",
       "      <td>2450</td>\n",
       "      <td>32.519246</td>\n",
       "    </tr>\n",
       "    <tr>\n",
       "      <th>247</th>\n",
       "      <th>MainScreenAppear</th>\n",
       "      <td>2476</td>\n",
       "      <td>32.864348</td>\n",
       "    </tr>\n",
       "    <tr>\n",
       "      <th>246</th>\n",
       "      <th>OffersScreenAppear</th>\n",
       "      <td>1542</td>\n",
       "      <td>20.467215</td>\n",
       "    </tr>\n",
       "    <tr>\n",
       "      <th>247</th>\n",
       "      <th>OffersScreenAppear</th>\n",
       "      <td>1520</td>\n",
       "      <td>20.175206</td>\n",
       "    </tr>\n",
       "    <tr>\n",
       "      <th>246</th>\n",
       "      <th>PaymentScreenSuccessful</th>\n",
       "      <td>1200</td>\n",
       "      <td>15.927794</td>\n",
       "    </tr>\n",
       "    <tr>\n",
       "      <th>247</th>\n",
       "      <th>PaymentScreenSuccessful</th>\n",
       "      <td>1158</td>\n",
       "      <td>15.370321</td>\n",
       "    </tr>\n",
       "    <tr>\n",
       "      <th>246</th>\n",
       "      <th>Tutorial</th>\n",
       "      <td>278</td>\n",
       "      <td>3.689939</td>\n",
       "    </tr>\n",
       "    <tr>\n",
       "      <th>247</th>\n",
       "      <th>Tutorial</th>\n",
       "      <td>283</td>\n",
       "      <td>3.756305</td>\n",
       "    </tr>\n",
       "  </tbody>\n",
       "</table>\n",
       "</div>"
      ],
      "text/plain": [
       "                               user_id  proportion\n",
       "group event_name                                  \n",
       "246   CartScreenAppear            1266   16.803823\n",
       "247   CartScreenAppear            1238   16.432174\n",
       "246   MainScreenAppear            2450   32.519246\n",
       "247   MainScreenAppear            2476   32.864348\n",
       "246   OffersScreenAppear          1542   20.467215\n",
       "247   OffersScreenAppear          1520   20.175206\n",
       "246   PaymentScreenSuccessful     1200   15.927794\n",
       "247   PaymentScreenSuccessful     1158   15.370321\n",
       "246   Tutorial                     278    3.689939\n",
       "247   Tutorial                     283    3.756305"
      ]
     },
     "execution_count": 42,
     "metadata": {},
     "output_type": "execute_result"
    }
   ],
   "source": [
    "events_groups = data_new.groupby(['group', 'event_name']).agg({'user_id': 'nunique'})\n",
    "events_groups=events_groups.query('group != 248')\n",
    "events_groups\n",
    "\n",
    "events_groups['proportion'] = events_groups['user_id']/7534*100\n",
    "events_groups.sort_values(by = 'event_name')"
   ]
  },
  {
   "cell_type": "code",
   "execution_count": 43,
   "metadata": {},
   "outputs": [
    {
     "data": {
      "text/html": [
       "<div>\n",
       "<style scoped>\n",
       "    .dataframe tbody tr th:only-of-type {\n",
       "        vertical-align: middle;\n",
       "    }\n",
       "\n",
       "    .dataframe tbody tr th {\n",
       "        vertical-align: top;\n",
       "    }\n",
       "\n",
       "    .dataframe thead th {\n",
       "        text-align: right;\n",
       "    }\n",
       "</style>\n",
       "<table border=\"1\" class=\"dataframe\">\n",
       "  <thead>\n",
       "    <tr style=\"text-align: right;\">\n",
       "      <th></th>\n",
       "      <th>user_id</th>\n",
       "    </tr>\n",
       "    <tr>\n",
       "      <th>group</th>\n",
       "      <th></th>\n",
       "    </tr>\n",
       "  </thead>\n",
       "  <tbody>\n",
       "    <tr>\n",
       "      <th>246</th>\n",
       "      <td>2484</td>\n",
       "    </tr>\n",
       "    <tr>\n",
       "      <th>247</th>\n",
       "      <td>2513</td>\n",
       "    </tr>\n",
       "    <tr>\n",
       "      <th>248</th>\n",
       "      <td>2537</td>\n",
       "    </tr>\n",
       "  </tbody>\n",
       "</table>\n",
       "</div>"
      ],
      "text/plain": [
       "       user_id\n",
       "group         \n",
       "246       2484\n",
       "247       2513\n",
       "248       2537"
      ]
     },
     "execution_count": 43,
     "metadata": {},
     "output_type": "execute_result"
    }
   ],
   "source": [
    "groups #всего пользователей"
   ]
  },
  {
   "cell_type": "code",
   "execution_count": 44,
   "metadata": {},
   "outputs": [
    {
     "data": {
      "text/html": [
       "<div>\n",
       "<style scoped>\n",
       "    .dataframe tbody tr th:only-of-type {\n",
       "        vertical-align: middle;\n",
       "    }\n",
       "\n",
       "    .dataframe tbody tr th {\n",
       "        vertical-align: top;\n",
       "    }\n",
       "\n",
       "    .dataframe thead th {\n",
       "        text-align: right;\n",
       "    }\n",
       "</style>\n",
       "<table border=\"1\" class=\"dataframe\">\n",
       "  <thead>\n",
       "    <tr style=\"text-align: right;\">\n",
       "      <th></th>\n",
       "      <th>gr246</th>\n",
       "      <th>gr247</th>\n",
       "      <th>gr248</th>\n",
       "      <th>gr246_247</th>\n",
       "      <th>all_246</th>\n",
       "      <th>all_247</th>\n",
       "      <th>all_248</th>\n",
       "      <th>all_gr246_247</th>\n",
       "    </tr>\n",
       "    <tr>\n",
       "      <th>event_name</th>\n",
       "      <th></th>\n",
       "      <th></th>\n",
       "      <th></th>\n",
       "      <th></th>\n",
       "      <th></th>\n",
       "      <th></th>\n",
       "      <th></th>\n",
       "      <th></th>\n",
       "    </tr>\n",
       "  </thead>\n",
       "  <tbody>\n",
       "    <tr>\n",
       "      <th>CartScreenAppear</th>\n",
       "      <td>1266</td>\n",
       "      <td>1238</td>\n",
       "      <td>1230</td>\n",
       "      <td>2504</td>\n",
       "      <td>2484</td>\n",
       "      <td>2513</td>\n",
       "      <td>2537</td>\n",
       "      <td>4997</td>\n",
       "    </tr>\n",
       "    <tr>\n",
       "      <th>MainScreenAppear</th>\n",
       "      <td>2450</td>\n",
       "      <td>2476</td>\n",
       "      <td>2493</td>\n",
       "      <td>4926</td>\n",
       "      <td>2484</td>\n",
       "      <td>2513</td>\n",
       "      <td>2537</td>\n",
       "      <td>4997</td>\n",
       "    </tr>\n",
       "    <tr>\n",
       "      <th>OffersScreenAppear</th>\n",
       "      <td>1542</td>\n",
       "      <td>1520</td>\n",
       "      <td>1531</td>\n",
       "      <td>3062</td>\n",
       "      <td>2484</td>\n",
       "      <td>2513</td>\n",
       "      <td>2537</td>\n",
       "      <td>4997</td>\n",
       "    </tr>\n",
       "    <tr>\n",
       "      <th>PaymentScreenSuccessful</th>\n",
       "      <td>1200</td>\n",
       "      <td>1158</td>\n",
       "      <td>1181</td>\n",
       "      <td>2358</td>\n",
       "      <td>2484</td>\n",
       "      <td>2513</td>\n",
       "      <td>2537</td>\n",
       "      <td>4997</td>\n",
       "    </tr>\n",
       "  </tbody>\n",
       "</table>\n",
       "</div>"
      ],
      "text/plain": [
       "                         gr246  gr247  gr248  gr246_247  all_246  all_247  \\\n",
       "event_name                                                                  \n",
       "CartScreenAppear          1266   1238   1230       2504     2484     2513   \n",
       "MainScreenAppear          2450   2476   2493       4926     2484     2513   \n",
       "OffersScreenAppear        1542   1520   1531       3062     2484     2513   \n",
       "PaymentScreenSuccessful   1200   1158   1181       2358     2484     2513   \n",
       "\n",
       "                         all_248  all_gr246_247  \n",
       "event_name                                       \n",
       "CartScreenAppear            2537           4997  \n",
       "MainScreenAppear            2537           4997  \n",
       "OffersScreenAppear          2537           4997  \n",
       "PaymentScreenSuccessful     2537           4997  "
      ]
     },
     "execution_count": 44,
     "metadata": {},
     "output_type": "execute_result"
    }
   ],
   "source": [
    "groups_pivot = data_new.pivot_table(index = 'event_name', values = 'user_id', columns='group', aggfunc = 'nunique')\n",
    "groups_pivot = groups_pivot.query('event_name != \"Tutorial\"')\n",
    "groups_pivot.columns = ['gr246', 'gr247', 'gr248']\n",
    "groups_pivot['246+247'] = groups_pivot['gr246'] + groups_pivot['gr247']\n",
    "groups_pivot.columns = ['gr246', 'gr247', 'gr248', 'gr246_247']\n",
    "groups_pivot['all_246'] = 2484\n",
    "groups_pivot['all_247'] = 2513\n",
    "groups_pivot['all_248'] = 2537\n",
    "groups_pivot['all_gr246_247'] = 2484+2513\n",
    "\n",
    "\n",
    "groups_pivot"
   ]
  },
  {
   "cell_type": "code",
   "execution_count": 45,
   "metadata": {},
   "outputs": [
    {
     "data": {
      "text/plain": [
       "Index(['gr246', 'gr247', 'gr248', 'gr246_247', 'all_246', 'all_247', 'all_248',\n",
       "       'all_gr246_247'],\n",
       "      dtype='object')"
      ]
     },
     "execution_count": 45,
     "metadata": {},
     "output_type": "execute_result"
    }
   ],
   "source": [
    "groups_pivot.columns"
   ]
  },
  {
   "cell_type": "code",
   "execution_count": 46,
   "metadata": {},
   "outputs": [
    {
     "data": {
      "text/plain": [
       "Index(['CartScreenAppear', 'MainScreenAppear', 'OffersScreenAppear',\n",
       "       'PaymentScreenSuccessful'],\n",
       "      dtype='object', name='event_name')"
      ]
     },
     "execution_count": 46,
     "metadata": {},
     "output_type": "execute_result"
    }
   ],
   "source": [
    "groups_pivot.index"
   ]
  },
  {
   "cell_type": "markdown",
   "metadata": {},
   "source": [
    "Нулвеая гипотеза: между долями есть занчимая разница; альтернативная гипотеза: между долями нет значимой разницы"
   ]
  },
  {
   "cell_type": "code",
   "execution_count": 47,
   "metadata": {},
   "outputs": [],
   "source": [
    "def z_test(event_1, event_2, total_1, total_2, alpha):\n",
    "    share_1 = event_1 / total_1\n",
    "    share_2 = event_2 / total_2\n",
    "    share_combined = (event_1 + event_2) / (total_1 + total_2)\n",
    "    diff = share_1 - share_2\n",
    "\n",
    "    z_value = diff / (share_combined * (1 - share_combined) * (1/total_1 + 1/total_2)) ** 0.5\n",
    "    dist = st.norm(0, 1)\n",
    "    p_value = 2 * (1 - dist.cdf(abs(z_value)))\n",
    "    \n",
    "    if (p_value < alpha):\n",
    "            print(\"Отвергаем нулевую гипотезу, т.к. между долями есть значимая разница\")\n",
    "    else:\n",
    "            print(\"Не получилось отвергнуть нулевую гипотезу, т.к. нет оснований считать доли разными\")\n",
    "       "
   ]
  },
  {
   "cell_type": "code",
   "execution_count": 48,
   "metadata": {},
   "outputs": [
    {
     "name": "stdout",
     "output_type": "stream",
     "text": [
      "Не получилось отвергнуть нулевую гипотезу, т.к. нет оснований считать доли разными\n",
      "CartScreenAppear None\n",
      "**********\n",
      "Не получилось отвергнуть нулевую гипотезу, т.к. нет оснований считать доли разными\n",
      "MainScreenAppear None\n",
      "**********\n",
      "Не получилось отвергнуть нулевую гипотезу, т.к. нет оснований считать доли разными\n",
      "OffersScreenAppear None\n",
      "**********\n",
      "Не получилось отвергнуть нулевую гипотезу, т.к. нет оснований считать доли разными\n",
      "PaymentScreenSuccessful None\n",
      "**********\n"
     ]
    }
   ],
   "source": [
    "for i in groups_pivot.index:\n",
    "    print (i, z_test(groups_pivot.loc[i, 'gr246'], groups_pivot.loc[i, 'gr247'], groups_pivot.loc[i, 'all_246'], groups_pivot.loc[i, 'all_247'], 0.05))\n",
    "    print('**********')"
   ]
  },
  {
   "cell_type": "markdown",
   "metadata": {},
   "source": [
    "Во обеих контрольных группах при всех действиях нет оснований считать доли разными"
   ]
  },
  {
   "cell_type": "markdown",
   "metadata": {},
   "source": [
    "--------------"
   ]
  },
  {
   "cell_type": "markdown",
   "metadata": {},
   "source": [
    "**Аналогично поступите с группой с изменённым шрифтом. Сравните результаты с каждой из контрольных групп в отдельности по каждому событию. Сравните результаты с объединённой контрольной группой. Какие выводы из эксперимента можно сделать?**\n",
    "\n"
   ]
  },
  {
   "cell_type": "markdown",
   "metadata": {},
   "source": [
    "Нулвеая гипотеза: между долями есть занчимая разница; альтернативная гипотеза: между долями нет значимой разницы"
   ]
  },
  {
   "cell_type": "code",
   "execution_count": 49,
   "metadata": {},
   "outputs": [
    {
     "name": "stdout",
     "output_type": "stream",
     "text": [
      "Не получилось отвергнуть нулевую гипотезу, т.к. нет оснований считать доли разными\n",
      "CartScreenAppear None\n",
      "**********\n",
      "Не получилось отвергнуть нулевую гипотезу, т.к. нет оснований считать доли разными\n",
      "MainScreenAppear None\n",
      "**********\n",
      "Не получилось отвергнуть нулевую гипотезу, т.к. нет оснований считать доли разными\n",
      "OffersScreenAppear None\n",
      "**********\n",
      "Не получилось отвергнуть нулевую гипотезу, т.к. нет оснований считать доли разными\n",
      "PaymentScreenSuccessful None\n",
      "**********\n"
     ]
    }
   ],
   "source": [
    "for i in groups_pivot.index:\n",
    "    print (i, z_test(groups_pivot.loc[i, 'gr246'], groups_pivot.loc[i, 'gr248'], groups_pivot.loc[i, 'all_246'], groups_pivot.loc[i, 'all_248'], 0.05))\n",
    "    print('**********')"
   ]
  },
  {
   "cell_type": "markdown",
   "metadata": {},
   "source": [
    "Во обеих группах при всех действиях нет оснований считать доли разными"
   ]
  },
  {
   "cell_type": "code",
   "execution_count": 50,
   "metadata": {},
   "outputs": [
    {
     "name": "stdout",
     "output_type": "stream",
     "text": [
      "Не получилось отвергнуть нулевую гипотезу, т.к. нет оснований считать доли разными\n",
      "CartScreenAppear None\n",
      "**********\n",
      "Не получилось отвергнуть нулевую гипотезу, т.к. нет оснований считать доли разными\n",
      "MainScreenAppear None\n",
      "**********\n",
      "Не получилось отвергнуть нулевую гипотезу, т.к. нет оснований считать доли разными\n",
      "OffersScreenAppear None\n",
      "**********\n",
      "Не получилось отвергнуть нулевую гипотезу, т.к. нет оснований считать доли разными\n",
      "PaymentScreenSuccessful None\n",
      "**********\n"
     ]
    }
   ],
   "source": [
    "for i in groups_pivot.index:\n",
    "    print (i, z_test(groups_pivot.loc[i, 'gr247'], groups_pivot.loc[i, 'gr248'], groups_pivot.loc[i, 'all_247'], groups_pivot.loc[i, 'all_248'], 0.05))\n",
    "    print('**********')"
   ]
  },
  {
   "cell_type": "markdown",
   "metadata": {},
   "source": [
    "Во обеих группах при всех действиях нет оснований считать доли разными"
   ]
  },
  {
   "cell_type": "code",
   "execution_count": 51,
   "metadata": {},
   "outputs": [
    {
     "name": "stdout",
     "output_type": "stream",
     "text": [
      "Не получилось отвергнуть нулевую гипотезу, т.к. нет оснований считать доли разными\n",
      "CartScreenAppear None\n",
      "**********\n",
      "Не получилось отвергнуть нулевую гипотезу, т.к. нет оснований считать доли разными\n",
      "MainScreenAppear None\n",
      "**********\n",
      "Не получилось отвергнуть нулевую гипотезу, т.к. нет оснований считать доли разными\n",
      "OffersScreenAppear None\n",
      "**********\n",
      "Не получилось отвергнуть нулевую гипотезу, т.к. нет оснований считать доли разными\n",
      "PaymentScreenSuccessful None\n",
      "**********\n"
     ]
    }
   ],
   "source": [
    "for i in groups_pivot.index:\n",
    "    print (i, z_test(groups_pivot.loc[i, 'gr246_247'], groups_pivot.loc[i, 'gr248'], groups_pivot.loc[i, 'all_gr246_247'], groups_pivot.loc[i, 'all_248'], 0.05))\n",
    "    print('**********')"
   ]
  },
  {
   "cell_type": "markdown",
   "metadata": {},
   "source": [
    "При сравнении результатов экспериментальной с объединённой контрольной группой также нет оснований считать доли разными со всеми действиями."
   ]
  },
  {
   "cell_type": "markdown",
   "metadata": {},
   "source": [
    "--------------"
   ]
  },
  {
   "cell_type": "markdown",
   "metadata": {},
   "source": [
    "**Какой уровень значимости вы выбрали при проверке статистических гипотез выше? Посчитайте, сколько проверок статистических гипотез вы сделали. При уровне значимости 0.1 каждый десятый раз можно получать ложный результат. Какой уровень значимости стоит применить? Если вы хотите изменить его, проделайте предыдущие пункты и проверьте свои выводы.**"
   ]
  },
  {
   "cell_type": "code",
   "execution_count": 52,
   "metadata": {},
   "outputs": [
    {
     "name": "stdout",
     "output_type": "stream",
     "text": [
      "Отвергаем нулевую гипотезу, т.к. между долями есть значимая разница\n",
      "CartScreenAppear None\n",
      "**********\n",
      "Не получилось отвергнуть нулевую гипотезу, т.к. нет оснований считать доли разными\n",
      "MainScreenAppear None\n",
      "**********\n",
      "Не получилось отвергнуть нулевую гипотезу, т.к. нет оснований считать доли разными\n",
      "OffersScreenAppear None\n",
      "**********\n",
      "Не получилось отвергнуть нулевую гипотезу, т.к. нет оснований считать доли разными\n",
      "PaymentScreenSuccessful None\n",
      "**********\n"
     ]
    }
   ],
   "source": [
    "for i in groups_pivot.index:\n",
    "    print (i, z_test(groups_pivot.loc[i, 'gr246'], groups_pivot.loc[i, 'gr248'], groups_pivot.loc[i, 'all_246'], groups_pivot.loc[i, 'all_248'], 0.1))\n",
    "    print('**********')"
   ]
  },
  {
   "cell_type": "markdown",
   "metadata": {},
   "source": [
    "Лишь в случае с CartScreenAppear между долями наблюдается значимая разница"
   ]
  },
  {
   "cell_type": "code",
   "execution_count": 53,
   "metadata": {},
   "outputs": [
    {
     "name": "stdout",
     "output_type": "stream",
     "text": [
      "Не получилось отвергнуть нулевую гипотезу, т.к. нет оснований считать доли разными\n",
      "CartScreenAppear None\n",
      "**********\n",
      "Не получилось отвергнуть нулевую гипотезу, т.к. нет оснований считать доли разными\n",
      "MainScreenAppear None\n",
      "**********\n",
      "Не получилось отвергнуть нулевую гипотезу, т.к. нет оснований считать доли разными\n",
      "OffersScreenAppear None\n",
      "**********\n",
      "Не получилось отвергнуть нулевую гипотезу, т.к. нет оснований считать доли разными\n",
      "PaymentScreenSuccessful None\n",
      "**********\n"
     ]
    }
   ],
   "source": [
    "for i in groups_pivot.index:\n",
    "    print (i, z_test(groups_pivot.loc[i, 'gr247'], groups_pivot.loc[i, 'gr248'], groups_pivot.loc[i, 'all_247'], groups_pivot.loc[i, 'all_248'], 0.1))\n",
    "    print('**********')"
   ]
  },
  {
   "cell_type": "markdown",
   "metadata": {},
   "source": [
    "Во обеих группах при всех действиях нет оснований считать доли разными"
   ]
  },
  {
   "cell_type": "code",
   "execution_count": 54,
   "metadata": {},
   "outputs": [
    {
     "name": "stdout",
     "output_type": "stream",
     "text": [
      "Не получилось отвергнуть нулевую гипотезу, т.к. нет оснований считать доли разными\n",
      "CartScreenAppear None\n",
      "**********\n",
      "Не получилось отвергнуть нулевую гипотезу, т.к. нет оснований считать доли разными\n",
      "MainScreenAppear None\n",
      "**********\n",
      "Не получилось отвергнуть нулевую гипотезу, т.к. нет оснований считать доли разными\n",
      "OffersScreenAppear None\n",
      "**********\n",
      "Не получилось отвергнуть нулевую гипотезу, т.к. нет оснований считать доли разными\n",
      "PaymentScreenSuccessful None\n",
      "**********\n"
     ]
    }
   ],
   "source": [
    "for i in groups_pivot.index:\n",
    "    print (i, z_test(groups_pivot.loc[i, 'gr246_247'], groups_pivot.loc[i, 'gr248'], groups_pivot.loc[i, 'all_gr246_247'], groups_pivot.loc[i, 'all_248'], 0.1))\n",
    "    print('**********')"
   ]
  },
  {
   "cell_type": "markdown",
   "metadata": {},
   "source": [
    "При сравнении результатов экспериментальной с объединённой контрольной группой также нет оснований считать доли разными со всеми действиями."
   ]
  },
  {
   "cell_type": "code",
   "execution_count": 55,
   "metadata": {},
   "outputs": [
    {
     "name": "stdout",
     "output_type": "stream",
     "text": [
      "Отвергаем нулевую гипотезу, т.к. между долями есть значимая разница\n",
      "CartScreenAppear None\n",
      "**********\n",
      "Отвергаем нулевую гипотезу, т.к. между долями есть значимая разница\n",
      "MainScreenAppear None\n",
      "**********\n",
      "Отвергаем нулевую гипотезу, т.к. между долями есть значимая разница\n",
      "OffersScreenAppear None\n",
      "**********\n",
      "Отвергаем нулевую гипотезу, т.к. между долями есть значимая разница\n",
      "PaymentScreenSuccessful None\n",
      "**********\n"
     ]
    }
   ],
   "source": [
    "for i in groups_pivot.index:\n",
    "    print (i, z_test(groups_pivot.loc[i, 'gr246'], groups_pivot.loc[i, 'gr248'], groups_pivot.loc[i, 'all_246'], groups_pivot.loc[i, 'all_248'], 0.5))\n",
    "    print('**********')"
   ]
  },
  {
   "cell_type": "markdown",
   "metadata": {},
   "source": [
    "Во обеих группах при всех действиях между долями есть значимая разница"
   ]
  },
  {
   "cell_type": "code",
   "execution_count": 56,
   "metadata": {},
   "outputs": [
    {
     "name": "stdout",
     "output_type": "stream",
     "text": [
      "Не получилось отвергнуть нулевую гипотезу, т.к. нет оснований считать доли разными\n",
      "CartScreenAppear None\n",
      "**********\n",
      "Отвергаем нулевую гипотезу, т.к. между долями есть значимая разница\n",
      "MainScreenAppear None\n",
      "**********\n",
      "Не получилось отвергнуть нулевую гипотезу, т.к. нет оснований считать доли разными\n",
      "OffersScreenAppear None\n",
      "**********\n",
      "Не получилось отвергнуть нулевую гипотезу, т.к. нет оснований считать доли разными\n",
      "PaymentScreenSuccessful None\n",
      "**********\n"
     ]
    }
   ],
   "source": [
    "for i in groups_pivot.index:\n",
    "    print (i, z_test(groups_pivot.loc[i, 'gr247'], groups_pivot.loc[i, 'gr248'], groups_pivot.loc[i, 'all_247'], groups_pivot.loc[i, 'all_248'], 0.5))\n",
    "    print('**********')"
   ]
  },
  {
   "cell_type": "markdown",
   "metadata": {},
   "source": [
    "Во обеих группах лишь при MainScreenAppear между долями есть значимая разница"
   ]
  },
  {
   "cell_type": "code",
   "execution_count": 57,
   "metadata": {},
   "outputs": [
    {
     "name": "stdout",
     "output_type": "stream",
     "text": [
      "Отвергаем нулевую гипотезу, т.к. между долями есть значимая разница\n",
      "CartScreenAppear None\n",
      "**********\n",
      "Отвергаем нулевую гипотезу, т.к. между долями есть значимая разница\n",
      "MainScreenAppear None\n",
      "**********\n",
      "Отвергаем нулевую гипотезу, т.к. между долями есть значимая разница\n",
      "OffersScreenAppear None\n",
      "**********\n",
      "Не получилось отвергнуть нулевую гипотезу, т.к. нет оснований считать доли разными\n",
      "PaymentScreenSuccessful None\n",
      "**********\n"
     ]
    }
   ],
   "source": [
    "for i in groups_pivot.index:\n",
    "    print (i, z_test(groups_pivot.loc[i, 'gr246_247'], groups_pivot.loc[i, 'gr248'], groups_pivot.loc[i, 'all_gr246_247'], groups_pivot.loc[i, 'all_248'], 0.5))\n",
    "    print('**********')"
   ]
  },
  {
   "cell_type": "markdown",
   "metadata": {},
   "source": [
    "При сравнении результатов экспериментальной с объединённой контрольной группой нет оснований считать доли разными лишь при PaymentScreenSuccessful \n"
   ]
  },
  {
   "cell_type": "markdown",
   "metadata": {},
   "source": [
    "При alpha = 0.5 при сравнении контрольной группы 246 и экспериментальной группы по всем действиям наблюдается значимая разница между долями; При alpha = 0.5 при сравнении контрольной группы 247 и экспериментальной группы по всем действиям нет оснований считать доли разными кроме MainScreenAppear, тут между долями есть значимая разница; При alpha = 0.5 при сравнении объединённой контрольной группы и экспериментальной группы лишь при PaymentScreenSuccessful нет оснований считать доли разными, а по MainScreenAppear, OffersScreenAppear и CartScreenAppear между долями есть значимая разница. Стоит отметить, что 0.5 - это слишком много для alpha."
   ]
  },
  {
   "cell_type": "markdown",
   "metadata": {},
   "source": [
    "# Выводы"
   ]
  },
  {
   "cell_type": "markdown",
   "metadata": {},
   "source": [
    "Всего событий: 243713;\n",
    "В логе присутсвует 5 разных видов событий: MainScreenAppear(главнй экран), OffersScreenAppear(окно предложения), CartScreenAppear(экран корзины), PaymentScreenSuccessful(окно оплаты), Tutorial(обучение);\n",
    "Количество уникальных пользователей: 7551;\n",
    "В среднем на одного пользователя приходится 32,3 события;\n",
    "Полные актуальные данные появляются 2019-08-01, а заканчиваются 2019-08-07;\n",
    "Самое популярное событие - MainScreenAppear;\n",
    "Tutorial исключили из анализа, т.к. оно встречается крайне редко, а также оно слабо вписывается в следующую поледовательность: MainScreenAppear(главнй экран), OffersScreenAppear(окно предложения), CartScreenAppear(экран корзины), PaymentScreenSuccessful(окно оплаты).\n",
    "\n",
    "Было проведено несколько проверок статистических гипотез с уровнем значимости 0.05, однако ни одна из них не выявила значимой разницы. При уровнем значимости 0.1 лишь при сранении контрольной группы 246 и экспериментальной группы в случае с CartScreenAppear между долями наблюдается значимая разница, а во всех остальных случаях ни одна из проверок не выявила значимой разницы.\n",
    "При alpha = 0.5 при сравнении контрольной группы 246 и экспериментальной группы по всем действиям наблюдается значимая разница между долями; При alpha = 0.5 при сравнении контрольной группы 247 и экспериментальной группы по всем действиям нет оснований считать доли разными кроме MainScreenAppear, тут между долями есть значимая разница; При alpha = 0.5 при сравнении объединённой контрольной группы и экспериментальной группы лишь при PaymentScreenSuccessful нет оснований считать доли разными, а по MainScreenAppear, OffersScreenAppear и CartScreenAppear между долями есть значимая разница.\n",
    "\n",
    "Исходя из всех результатов A/A/B-теста можно сказать, что изменение шрифта особого эффекта не имеет. Следовательно, изменение шрифта вряд ли отпугнет пользователей."
   ]
  }
 ],
 "metadata": {
  "ExecuteTimeLog": [
   {
    "duration": 1385,
    "start_time": "2023-03-15T19:26:28.327Z"
   },
   {
    "duration": 100,
    "start_time": "2023-03-15T19:27:09.730Z"
   },
   {
    "duration": 288,
    "start_time": "2023-03-15T19:32:59.452Z"
   },
   {
    "duration": 130,
    "start_time": "2023-03-15T19:33:13.744Z"
   },
   {
    "duration": 300,
    "start_time": "2023-03-15T19:33:30.286Z"
   },
   {
    "duration": 296,
    "start_time": "2023-03-15T19:33:34.639Z"
   },
   {
    "duration": 276,
    "start_time": "2023-03-15T19:33:39.116Z"
   },
   {
    "duration": 318,
    "start_time": "2023-03-15T19:33:51.959Z"
   },
   {
    "duration": 303,
    "start_time": "2023-03-15T19:34:01.297Z"
   },
   {
    "duration": 131,
    "start_time": "2023-03-15T19:36:18.607Z"
   },
   {
    "duration": 290,
    "start_time": "2023-03-15T19:36:24.770Z"
   },
   {
    "duration": 161,
    "start_time": "2023-03-15T19:38:00.604Z"
   },
   {
    "duration": 580,
    "start_time": "2023-03-15T19:38:02.433Z"
   },
   {
    "duration": 22,
    "start_time": "2023-03-15T19:38:26.356Z"
   },
   {
    "duration": 72,
    "start_time": "2023-03-15T19:42:51.665Z"
   },
   {
    "duration": 53,
    "start_time": "2023-03-15T19:42:58.737Z"
   },
   {
    "duration": 77,
    "start_time": "2023-03-15T19:50:10.765Z"
   },
   {
    "duration": 3,
    "start_time": "2023-03-15T19:53:55.664Z"
   },
   {
    "duration": 8,
    "start_time": "2023-03-15T19:54:05.576Z"
   },
   {
    "duration": 16,
    "start_time": "2023-03-15T19:55:44.045Z"
   },
   {
    "duration": 16,
    "start_time": "2023-03-15T19:56:09.253Z"
   },
   {
    "duration": 63,
    "start_time": "2023-03-15T20:02:57.954Z"
   },
   {
    "duration": 46,
    "start_time": "2023-03-15T20:05:05.924Z"
   },
   {
    "duration": 12,
    "start_time": "2023-03-15T20:05:12.390Z"
   },
   {
    "duration": 52,
    "start_time": "2023-03-15T20:07:02.249Z"
   },
   {
    "duration": 12,
    "start_time": "2023-03-15T20:07:03.908Z"
   },
   {
    "duration": 612,
    "start_time": "2023-03-15T20:07:25.538Z"
   },
   {
    "duration": 22,
    "start_time": "2023-03-15T20:07:26.153Z"
   },
   {
    "duration": 83,
    "start_time": "2023-03-15T20:07:26.177Z"
   },
   {
    "duration": 109,
    "start_time": "2023-03-15T20:07:26.261Z"
   },
   {
    "duration": 8,
    "start_time": "2023-03-15T20:07:26.373Z"
   },
   {
    "duration": 18,
    "start_time": "2023-03-15T20:07:26.383Z"
   },
   {
    "duration": 34,
    "start_time": "2023-03-15T20:07:26.402Z"
   },
   {
    "duration": 15,
    "start_time": "2023-03-15T20:07:26.440Z"
   },
   {
    "duration": 57,
    "start_time": "2023-03-15T20:15:18.178Z"
   },
   {
    "duration": 31,
    "start_time": "2023-03-15T20:15:22.320Z"
   },
   {
    "duration": 973,
    "start_time": "2023-03-15T20:16:38.292Z"
   },
   {
    "duration": 610,
    "start_time": "2023-03-15T20:16:54.842Z"
   },
   {
    "duration": 23,
    "start_time": "2023-03-15T20:16:55.454Z"
   },
   {
    "duration": 82,
    "start_time": "2023-03-15T20:16:55.479Z"
   },
   {
    "duration": 94,
    "start_time": "2023-03-15T20:16:55.564Z"
   },
   {
    "duration": 8,
    "start_time": "2023-03-15T20:16:55.661Z"
   },
   {
    "duration": 14,
    "start_time": "2023-03-15T20:16:55.672Z"
   },
   {
    "duration": 8,
    "start_time": "2023-03-15T20:16:55.688Z"
   },
   {
    "duration": 41,
    "start_time": "2023-03-15T20:16:55.697Z"
   },
   {
    "duration": 993,
    "start_time": "2023-03-15T20:16:55.739Z"
   },
   {
    "duration": 82,
    "start_time": "2023-03-15T20:25:58.502Z"
   },
   {
    "duration": 25,
    "start_time": "2023-03-15T20:26:10.812Z"
   },
   {
    "duration": 26,
    "start_time": "2023-03-15T20:26:22.851Z"
   },
   {
    "duration": 551,
    "start_time": "2023-03-15T20:26:52.274Z"
   },
   {
    "duration": 34,
    "start_time": "2023-03-15T20:26:52.832Z"
   },
   {
    "duration": 85,
    "start_time": "2023-03-15T20:26:52.868Z"
   },
   {
    "duration": 91,
    "start_time": "2023-03-15T20:26:52.955Z"
   },
   {
    "duration": 8,
    "start_time": "2023-03-15T20:26:53.047Z"
   },
   {
    "duration": 16,
    "start_time": "2023-03-15T20:26:53.057Z"
   },
   {
    "duration": 8,
    "start_time": "2023-03-15T20:26:53.075Z"
   },
   {
    "duration": 11,
    "start_time": "2023-03-15T20:26:53.085Z"
   },
   {
    "duration": 968,
    "start_time": "2023-03-15T20:26:53.097Z"
   },
   {
    "duration": 88,
    "start_time": "2023-03-15T20:26:54.068Z"
   },
   {
    "duration": 28,
    "start_time": "2023-03-15T20:27:03.644Z"
   },
   {
    "duration": 18,
    "start_time": "2023-03-15T20:27:53.085Z"
   },
   {
    "duration": 15,
    "start_time": "2023-03-15T20:27:59.837Z"
   },
   {
    "duration": 46,
    "start_time": "2023-03-15T20:30:57.686Z"
   },
   {
    "duration": 5,
    "start_time": "2023-03-15T20:34:06.253Z"
   },
   {
    "duration": 9,
    "start_time": "2023-03-15T20:34:31.241Z"
   },
   {
    "duration": 17,
    "start_time": "2023-03-15T20:36:36.693Z"
   },
   {
    "duration": 16,
    "start_time": "2023-03-15T20:36:57.584Z"
   },
   {
    "duration": 35,
    "start_time": "2023-03-15T20:41:41.561Z"
   },
   {
    "duration": 35,
    "start_time": "2023-03-15T20:41:48.983Z"
   },
   {
    "duration": 25,
    "start_time": "2023-03-15T20:41:54.092Z"
   },
   {
    "duration": 600,
    "start_time": "2023-03-15T20:43:28.374Z"
   },
   {
    "duration": 26,
    "start_time": "2023-03-15T20:43:28.976Z"
   },
   {
    "duration": 90,
    "start_time": "2023-03-15T20:43:29.004Z"
   },
   {
    "duration": 96,
    "start_time": "2023-03-15T20:43:29.096Z"
   },
   {
    "duration": 7,
    "start_time": "2023-03-15T20:43:29.194Z"
   },
   {
    "duration": 37,
    "start_time": "2023-03-15T20:43:29.203Z"
   },
   {
    "duration": 8,
    "start_time": "2023-03-15T20:43:29.242Z"
   },
   {
    "duration": 12,
    "start_time": "2023-03-15T20:43:29.252Z"
   },
   {
    "duration": 919,
    "start_time": "2023-03-15T20:43:29.265Z"
   },
   {
    "duration": 12,
    "start_time": "2023-03-15T20:43:30.187Z"
   },
   {
    "duration": 67,
    "start_time": "2023-03-15T20:43:30.201Z"
   },
   {
    "duration": 12,
    "start_time": "2023-03-15T20:43:30.270Z"
   },
   {
    "duration": 56,
    "start_time": "2023-03-15T20:43:30.284Z"
   },
   {
    "duration": 36,
    "start_time": "2023-03-15T20:43:30.342Z"
   },
   {
    "duration": 35,
    "start_time": "2023-03-15T20:43:30.380Z"
   },
   {
    "duration": 38,
    "start_time": "2023-03-15T20:43:30.417Z"
   },
   {
    "duration": 58,
    "start_time": "2023-03-17T10:23:00.913Z"
   },
   {
    "duration": 902,
    "start_time": "2023-03-17T10:23:05.931Z"
   },
   {
    "duration": 19,
    "start_time": "2023-03-17T10:23:06.835Z"
   },
   {
    "duration": 77,
    "start_time": "2023-03-17T10:23:06.855Z"
   },
   {
    "duration": 91,
    "start_time": "2023-03-17T10:23:06.934Z"
   },
   {
    "duration": 8,
    "start_time": "2023-03-17T10:23:07.027Z"
   },
   {
    "duration": 20,
    "start_time": "2023-03-17T10:23:07.037Z"
   },
   {
    "duration": 15,
    "start_time": "2023-03-17T10:23:07.058Z"
   },
   {
    "duration": 52,
    "start_time": "2023-03-17T10:23:07.080Z"
   },
   {
    "duration": 1316,
    "start_time": "2023-03-17T10:23:07.139Z"
   },
   {
    "duration": 13,
    "start_time": "2023-03-17T10:23:08.457Z"
   },
   {
    "duration": 45,
    "start_time": "2023-03-17T10:23:08.480Z"
   },
   {
    "duration": 9,
    "start_time": "2023-03-17T10:23:08.527Z"
   },
   {
    "duration": 16,
    "start_time": "2023-03-17T10:23:08.538Z"
   },
   {
    "duration": 6,
    "start_time": "2023-03-17T10:23:08.580Z"
   },
   {
    "duration": 5,
    "start_time": "2023-03-17T10:23:08.588Z"
   },
   {
    "duration": 28,
    "start_time": "2023-03-17T10:23:08.595Z"
   },
   {
    "duration": 730,
    "start_time": "2023-03-17T10:23:08.624Z"
   },
   {
    "duration": 84,
    "start_time": "2023-03-17T10:29:43.343Z"
   },
   {
    "duration": 11,
    "start_time": "2023-03-17T10:30:47.544Z"
   },
   {
    "duration": 9,
    "start_time": "2023-03-17T10:30:57.623Z"
   },
   {
    "duration": 142,
    "start_time": "2023-03-17T10:32:24.593Z"
   },
   {
    "duration": 8,
    "start_time": "2023-03-17T10:32:36.162Z"
   },
   {
    "duration": 103,
    "start_time": "2023-03-17T10:33:53.598Z"
   },
   {
    "duration": 204,
    "start_time": "2023-03-17T10:34:21.914Z"
   },
   {
    "duration": 11,
    "start_time": "2023-03-17T10:35:17.398Z"
   },
   {
    "duration": 8,
    "start_time": "2023-03-17T10:35:39.739Z"
   },
   {
    "duration": 649,
    "start_time": "2023-03-17T10:38:05.075Z"
   },
   {
    "duration": 226,
    "start_time": "2023-03-17T10:38:22.011Z"
   },
   {
    "duration": 320,
    "start_time": "2023-03-17T10:38:29.620Z"
   },
   {
    "duration": 349,
    "start_time": "2023-03-17T10:45:13.962Z"
   },
   {
    "duration": 332,
    "start_time": "2023-03-17T10:45:21.607Z"
   },
   {
    "duration": 231,
    "start_time": "2023-03-17T10:51:52.630Z"
   },
   {
    "duration": 366,
    "start_time": "2023-03-17T10:52:00.998Z"
   },
   {
    "duration": 337,
    "start_time": "2023-03-17T10:52:21.926Z"
   },
   {
    "duration": 441,
    "start_time": "2023-03-17T10:52:30.169Z"
   },
   {
    "duration": 14,
    "start_time": "2023-03-17T10:54:42.424Z"
   },
   {
    "duration": 311,
    "start_time": "2023-03-17T10:55:51.710Z"
   },
   {
    "duration": 540,
    "start_time": "2023-03-17T10:56:29.327Z"
   },
   {
    "duration": 22,
    "start_time": "2023-03-17T10:56:29.869Z"
   },
   {
    "duration": 57,
    "start_time": "2023-03-17T10:56:29.892Z"
   },
   {
    "duration": 84,
    "start_time": "2023-03-17T10:56:29.951Z"
   },
   {
    "duration": 8,
    "start_time": "2023-03-17T10:56:30.037Z"
   },
   {
    "duration": 51,
    "start_time": "2023-03-17T10:56:30.046Z"
   },
   {
    "duration": 30,
    "start_time": "2023-03-17T10:56:30.099Z"
   },
   {
    "duration": 28,
    "start_time": "2023-03-17T10:56:30.131Z"
   },
   {
    "duration": 1061,
    "start_time": "2023-03-17T10:56:30.161Z"
   },
   {
    "duration": 21,
    "start_time": "2023-03-17T10:56:31.224Z"
   },
   {
    "duration": 98,
    "start_time": "2023-03-17T10:56:31.247Z"
   },
   {
    "duration": 12,
    "start_time": "2023-03-17T10:56:31.347Z"
   },
   {
    "duration": 46,
    "start_time": "2023-03-17T10:56:31.361Z"
   },
   {
    "duration": 22,
    "start_time": "2023-03-17T10:56:31.409Z"
   },
   {
    "duration": 24,
    "start_time": "2023-03-17T10:56:31.432Z"
   },
   {
    "duration": 44,
    "start_time": "2023-03-17T10:56:31.458Z"
   },
   {
    "duration": 566,
    "start_time": "2023-03-17T10:56:49.062Z"
   },
   {
    "duration": 17,
    "start_time": "2023-03-17T10:56:49.630Z"
   },
   {
    "duration": 79,
    "start_time": "2023-03-17T10:56:49.648Z"
   },
   {
    "duration": 91,
    "start_time": "2023-03-17T10:56:49.728Z"
   },
   {
    "duration": 7,
    "start_time": "2023-03-17T10:56:49.822Z"
   },
   {
    "duration": 13,
    "start_time": "2023-03-17T10:56:49.831Z"
   },
   {
    "duration": 8,
    "start_time": "2023-03-17T10:56:49.846Z"
   },
   {
    "duration": 37,
    "start_time": "2023-03-17T10:56:49.855Z"
   },
   {
    "duration": 1006,
    "start_time": "2023-03-17T10:56:49.893Z"
   },
   {
    "duration": 15,
    "start_time": "2023-03-17T10:56:50.900Z"
   },
   {
    "duration": 84,
    "start_time": "2023-03-17T10:56:50.917Z"
   },
   {
    "duration": 14,
    "start_time": "2023-03-17T10:56:51.003Z"
   },
   {
    "duration": 16,
    "start_time": "2023-03-17T10:56:51.019Z"
   },
   {
    "duration": 13,
    "start_time": "2023-03-17T10:56:51.037Z"
   },
   {
    "duration": 5,
    "start_time": "2023-03-17T10:56:51.051Z"
   },
   {
    "duration": 2,
    "start_time": "2023-03-17T10:56:51.058Z"
   },
   {
    "duration": 1267,
    "start_time": "2023-03-17T10:56:51.062Z"
   },
   {
    "duration": 719,
    "start_time": "2023-03-17T10:58:43.577Z"
   },
   {
    "duration": 31,
    "start_time": "2023-03-17T10:58:44.298Z"
   },
   {
    "duration": 96,
    "start_time": "2023-03-17T10:58:44.331Z"
   },
   {
    "duration": 81,
    "start_time": "2023-03-17T10:58:44.429Z"
   },
   {
    "duration": 10,
    "start_time": "2023-03-17T10:58:44.512Z"
   },
   {
    "duration": 16,
    "start_time": "2023-03-17T10:58:44.524Z"
   },
   {
    "duration": 8,
    "start_time": "2023-03-17T10:58:44.542Z"
   },
   {
    "duration": 12,
    "start_time": "2023-03-17T10:58:44.551Z"
   },
   {
    "duration": 1087,
    "start_time": "2023-03-17T10:58:44.580Z"
   },
   {
    "duration": 40,
    "start_time": "2023-03-17T10:58:45.669Z"
   },
   {
    "duration": 33,
    "start_time": "2023-03-17T10:58:45.713Z"
   },
   {
    "duration": 11,
    "start_time": "2023-03-17T10:58:45.747Z"
   },
   {
    "duration": 13,
    "start_time": "2023-03-17T10:58:45.759Z"
   },
   {
    "duration": 33,
    "start_time": "2023-03-17T10:58:45.773Z"
   },
   {
    "duration": 15,
    "start_time": "2023-03-17T10:58:45.808Z"
   },
   {
    "duration": 3,
    "start_time": "2023-03-17T10:58:45.825Z"
   },
   {
    "duration": 1235,
    "start_time": "2023-03-17T10:58:45.829Z"
   },
   {
    "duration": 6,
    "start_time": "2023-03-17T11:01:37.045Z"
   },
   {
    "duration": 2382,
    "start_time": "2023-03-17T11:02:30.494Z"
   },
   {
    "duration": 2045,
    "start_time": "2023-03-17T11:03:27.871Z"
   },
   {
    "duration": 17,
    "start_time": "2023-03-17T11:03:53.503Z"
   },
   {
    "duration": 23,
    "start_time": "2023-03-17T11:05:08.036Z"
   },
   {
    "duration": 38,
    "start_time": "2023-03-17T11:05:42.497Z"
   },
   {
    "duration": 239,
    "start_time": "2023-03-17T11:06:10.605Z"
   },
   {
    "duration": 240,
    "start_time": "2023-03-17T11:06:26.550Z"
   },
   {
    "duration": 252,
    "start_time": "2023-03-17T11:07:02.477Z"
   },
   {
    "duration": 380,
    "start_time": "2023-03-17T11:07:21.297Z"
   },
   {
    "duration": 425,
    "start_time": "2023-03-17T11:07:28.118Z"
   },
   {
    "duration": 339,
    "start_time": "2023-03-17T11:08:02.822Z"
   },
   {
    "duration": 25,
    "start_time": "2023-03-17T11:12:46.316Z"
   },
   {
    "duration": 23,
    "start_time": "2023-03-17T11:12:53.309Z"
   },
   {
    "duration": 12,
    "start_time": "2023-03-17T11:12:58.333Z"
   },
   {
    "duration": 14,
    "start_time": "2023-03-17T11:14:20.741Z"
   },
   {
    "duration": 16,
    "start_time": "2023-03-17T11:15:06.438Z"
   },
   {
    "duration": 12,
    "start_time": "2023-03-17T11:17:08.366Z"
   },
   {
    "duration": 1185,
    "start_time": "2023-03-17T11:20:49.135Z"
   },
   {
    "duration": 1255,
    "start_time": "2023-03-17T11:20:58.522Z"
   },
   {
    "duration": 588,
    "start_time": "2023-03-17T11:21:12.266Z"
   },
   {
    "duration": 46,
    "start_time": "2023-03-17T11:21:12.856Z"
   },
   {
    "duration": 90,
    "start_time": "2023-03-17T11:21:12.904Z"
   },
   {
    "duration": 109,
    "start_time": "2023-03-17T11:21:12.996Z"
   },
   {
    "duration": 19,
    "start_time": "2023-03-17T11:21:13.108Z"
   },
   {
    "duration": 40,
    "start_time": "2023-03-17T11:21:13.129Z"
   },
   {
    "duration": 59,
    "start_time": "2023-03-17T11:21:13.171Z"
   },
   {
    "duration": 15,
    "start_time": "2023-03-17T11:21:13.232Z"
   },
   {
    "duration": 1275,
    "start_time": "2023-03-17T11:21:13.249Z"
   },
   {
    "duration": 10,
    "start_time": "2023-03-17T11:21:14.527Z"
   },
   {
    "duration": 34,
    "start_time": "2023-03-17T11:21:14.538Z"
   },
   {
    "duration": 17,
    "start_time": "2023-03-17T11:21:14.591Z"
   },
   {
    "duration": 22,
    "start_time": "2023-03-17T11:21:14.609Z"
   },
   {
    "duration": 8,
    "start_time": "2023-03-17T11:21:14.633Z"
   },
   {
    "duration": 5,
    "start_time": "2023-03-17T11:21:14.643Z"
   },
   {
    "duration": 6,
    "start_time": "2023-03-17T11:21:14.649Z"
   },
   {
    "duration": 1092,
    "start_time": "2023-03-17T11:21:14.656Z"
   },
   {
    "duration": 17,
    "start_time": "2023-03-17T11:21:15.750Z"
   },
   {
    "duration": 356,
    "start_time": "2023-03-17T11:21:15.768Z"
   },
   {
    "duration": 386,
    "start_time": "2023-03-17T11:21:16.127Z"
   },
   {
    "duration": 312,
    "start_time": "2023-03-17T11:21:16.514Z"
   },
   {
    "duration": 14,
    "start_time": "2023-03-17T11:21:16.829Z"
   },
   {
    "duration": 16,
    "start_time": "2023-03-17T11:21:16.844Z"
   },
   {
    "duration": 1312,
    "start_time": "2023-03-17T11:21:16.862Z"
   },
   {
    "duration": 1179,
    "start_time": "2023-03-17T11:21:29.150Z"
   },
   {
    "duration": 994,
    "start_time": "2023-03-17T11:21:33.607Z"
   },
   {
    "duration": 511,
    "start_time": "2023-03-17T11:21:42.820Z"
   },
   {
    "duration": 27,
    "start_time": "2023-03-17T11:21:43.333Z"
   },
   {
    "duration": 73,
    "start_time": "2023-03-17T11:21:43.361Z"
   },
   {
    "duration": 100,
    "start_time": "2023-03-17T11:21:43.435Z"
   },
   {
    "duration": 8,
    "start_time": "2023-03-17T11:21:43.538Z"
   },
   {
    "duration": 14,
    "start_time": "2023-03-17T11:21:43.548Z"
   },
   {
    "duration": 33,
    "start_time": "2023-03-17T11:21:43.564Z"
   },
   {
    "duration": 17,
    "start_time": "2023-03-17T11:21:43.598Z"
   },
   {
    "duration": 987,
    "start_time": "2023-03-17T11:21:43.616Z"
   },
   {
    "duration": 10,
    "start_time": "2023-03-17T11:21:44.605Z"
   },
   {
    "duration": 48,
    "start_time": "2023-03-17T11:21:44.617Z"
   },
   {
    "duration": 27,
    "start_time": "2023-03-17T11:21:44.666Z"
   },
   {
    "duration": 21,
    "start_time": "2023-03-17T11:21:44.694Z"
   },
   {
    "duration": 6,
    "start_time": "2023-03-17T11:21:44.717Z"
   },
   {
    "duration": 5,
    "start_time": "2023-03-17T11:21:44.724Z"
   },
   {
    "duration": 2,
    "start_time": "2023-03-17T11:21:44.731Z"
   },
   {
    "duration": 1308,
    "start_time": "2023-03-17T11:21:44.734Z"
   },
   {
    "duration": 18,
    "start_time": "2023-03-17T11:21:46.045Z"
   },
   {
    "duration": 435,
    "start_time": "2023-03-17T11:21:46.065Z"
   },
   {
    "duration": 296,
    "start_time": "2023-03-17T11:21:46.501Z"
   },
   {
    "duration": 291,
    "start_time": "2023-03-17T11:21:46.798Z"
   },
   {
    "duration": 20,
    "start_time": "2023-03-17T11:21:47.091Z"
   },
   {
    "duration": 40,
    "start_time": "2023-03-17T11:21:47.113Z"
   },
   {
    "duration": 50,
    "start_time": "2023-03-17T11:21:47.154Z"
   },
   {
    "duration": 13,
    "start_time": "2023-03-17T11:22:14.234Z"
   },
   {
    "duration": 1286,
    "start_time": "2023-03-17T11:22:15.414Z"
   },
   {
    "duration": 539,
    "start_time": "2023-03-17T11:22:22.203Z"
   },
   {
    "duration": 17,
    "start_time": "2023-03-17T11:22:22.744Z"
   },
   {
    "duration": 70,
    "start_time": "2023-03-17T11:22:22.763Z"
   },
   {
    "duration": 90,
    "start_time": "2023-03-17T11:22:22.835Z"
   },
   {
    "duration": 8,
    "start_time": "2023-03-17T11:22:22.928Z"
   },
   {
    "duration": 25,
    "start_time": "2023-03-17T11:22:22.938Z"
   },
   {
    "duration": 26,
    "start_time": "2023-03-17T11:22:22.965Z"
   },
   {
    "duration": 25,
    "start_time": "2023-03-17T11:22:22.992Z"
   },
   {
    "duration": 1022,
    "start_time": "2023-03-17T11:22:23.019Z"
   },
   {
    "duration": 10,
    "start_time": "2023-03-17T11:22:24.042Z"
   },
   {
    "duration": 52,
    "start_time": "2023-03-17T11:22:24.054Z"
   },
   {
    "duration": 7,
    "start_time": "2023-03-17T11:22:24.108Z"
   },
   {
    "duration": 32,
    "start_time": "2023-03-17T11:22:24.117Z"
   },
   {
    "duration": 6,
    "start_time": "2023-03-17T11:22:24.152Z"
   },
   {
    "duration": 5,
    "start_time": "2023-03-17T11:22:24.160Z"
   },
   {
    "duration": 32,
    "start_time": "2023-03-17T11:22:24.167Z"
   },
   {
    "duration": 1137,
    "start_time": "2023-03-17T11:22:24.200Z"
   },
   {
    "duration": 19,
    "start_time": "2023-03-17T11:22:25.339Z"
   },
   {
    "duration": 342,
    "start_time": "2023-03-17T11:22:25.361Z"
   },
   {
    "duration": 348,
    "start_time": "2023-03-17T11:22:25.705Z"
   },
   {
    "duration": 417,
    "start_time": "2023-03-17T11:22:26.055Z"
   },
   {
    "duration": 28,
    "start_time": "2023-03-17T11:22:26.474Z"
   },
   {
    "duration": 36,
    "start_time": "2023-03-17T11:22:26.504Z"
   },
   {
    "duration": 1501,
    "start_time": "2023-03-17T11:22:26.543Z"
   },
   {
    "duration": 1141,
    "start_time": "2023-03-17T11:22:47.407Z"
   },
   {
    "duration": 526,
    "start_time": "2023-03-17T11:22:54.330Z"
   },
   {
    "duration": 17,
    "start_time": "2023-03-17T11:22:54.857Z"
   },
   {
    "duration": 99,
    "start_time": "2023-03-17T11:22:54.879Z"
   },
   {
    "duration": 81,
    "start_time": "2023-03-17T11:22:54.980Z"
   },
   {
    "duration": 8,
    "start_time": "2023-03-17T11:22:55.063Z"
   },
   {
    "duration": 53,
    "start_time": "2023-03-17T11:22:55.073Z"
   },
   {
    "duration": 22,
    "start_time": "2023-03-17T11:22:55.128Z"
   },
   {
    "duration": 22,
    "start_time": "2023-03-17T11:22:55.152Z"
   },
   {
    "duration": 1027,
    "start_time": "2023-03-17T11:22:55.175Z"
   },
   {
    "duration": 13,
    "start_time": "2023-03-17T11:22:56.207Z"
   },
   {
    "duration": 71,
    "start_time": "2023-03-17T11:22:56.222Z"
   },
   {
    "duration": 8,
    "start_time": "2023-03-17T11:22:56.298Z"
   },
   {
    "duration": 17,
    "start_time": "2023-03-17T11:22:56.308Z"
   },
   {
    "duration": 5,
    "start_time": "2023-03-17T11:22:56.327Z"
   },
   {
    "duration": 10,
    "start_time": "2023-03-17T11:22:56.334Z"
   },
   {
    "duration": 9,
    "start_time": "2023-03-17T11:22:56.346Z"
   },
   {
    "duration": 1044,
    "start_time": "2023-03-17T11:22:56.356Z"
   },
   {
    "duration": 16,
    "start_time": "2023-03-17T11:22:57.404Z"
   },
   {
    "duration": 372,
    "start_time": "2023-03-17T11:22:57.422Z"
   },
   {
    "duration": 274,
    "start_time": "2023-03-17T11:22:57.799Z"
   },
   {
    "duration": 326,
    "start_time": "2023-03-17T11:22:58.075Z"
   },
   {
    "duration": 14,
    "start_time": "2023-03-17T11:22:58.402Z"
   },
   {
    "duration": 52,
    "start_time": "2023-03-17T11:22:58.418Z"
   },
   {
    "duration": 43,
    "start_time": "2023-03-17T11:22:58.472Z"
   },
   {
    "duration": 8,
    "start_time": "2023-03-17T11:23:55.135Z"
   },
   {
    "duration": 36,
    "start_time": "2023-03-17T11:25:24.699Z"
   },
   {
    "duration": 131,
    "start_time": "2023-03-17T11:26:13.916Z"
   },
   {
    "duration": 43,
    "start_time": "2023-03-17T11:26:30.423Z"
   },
   {
    "duration": 9,
    "start_time": "2023-03-17T11:26:36.944Z"
   },
   {
    "duration": 39,
    "start_time": "2023-03-17T11:36:32.451Z"
   },
   {
    "duration": 80,
    "start_time": "2023-03-17T11:39:58.376Z"
   },
   {
    "duration": 81,
    "start_time": "2023-03-17T11:40:04.457Z"
   },
   {
    "duration": 27,
    "start_time": "2023-03-17T11:40:41.255Z"
   },
   {
    "duration": 106,
    "start_time": "2023-03-17T11:42:07.247Z"
   },
   {
    "duration": 21,
    "start_time": "2023-03-17T11:42:17.091Z"
   },
   {
    "duration": 53,
    "start_time": "2023-03-17T11:42:30.061Z"
   },
   {
    "duration": 45,
    "start_time": "2023-03-17T11:42:38.226Z"
   },
   {
    "duration": 41,
    "start_time": "2023-03-17T11:42:45.698Z"
   },
   {
    "duration": 88,
    "start_time": "2023-03-17T11:43:21.676Z"
   },
   {
    "duration": 27,
    "start_time": "2023-03-17T11:43:28.541Z"
   },
   {
    "duration": 27,
    "start_time": "2023-03-17T11:43:40.308Z"
   },
   {
    "duration": 47,
    "start_time": "2023-03-17T11:43:56.874Z"
   },
   {
    "duration": 1267,
    "start_time": "2023-03-18T08:20:55.405Z"
   },
   {
    "duration": 20,
    "start_time": "2023-03-18T08:20:56.675Z"
   },
   {
    "duration": 66,
    "start_time": "2023-03-18T08:20:56.696Z"
   },
   {
    "duration": 92,
    "start_time": "2023-03-18T08:20:56.763Z"
   },
   {
    "duration": 8,
    "start_time": "2023-03-18T08:20:56.857Z"
   },
   {
    "duration": 14,
    "start_time": "2023-03-18T08:20:56.867Z"
   },
   {
    "duration": 13,
    "start_time": "2023-03-18T08:20:56.882Z"
   },
   {
    "duration": 32,
    "start_time": "2023-03-18T08:20:56.896Z"
   },
   {
    "duration": 906,
    "start_time": "2023-03-18T08:20:56.930Z"
   },
   {
    "duration": 14,
    "start_time": "2023-03-18T08:20:57.838Z"
   },
   {
    "duration": 34,
    "start_time": "2023-03-18T08:20:57.854Z"
   },
   {
    "duration": 8,
    "start_time": "2023-03-18T08:20:57.890Z"
   },
   {
    "duration": 43,
    "start_time": "2023-03-18T08:20:57.899Z"
   },
   {
    "duration": 5,
    "start_time": "2023-03-18T08:20:57.944Z"
   },
   {
    "duration": 5,
    "start_time": "2023-03-18T08:20:57.950Z"
   },
   {
    "duration": 2,
    "start_time": "2023-03-18T08:20:57.957Z"
   },
   {
    "duration": 1485,
    "start_time": "2023-03-18T08:20:57.961Z"
   },
   {
    "duration": 22,
    "start_time": "2023-03-18T08:20:59.447Z"
   },
   {
    "duration": 334,
    "start_time": "2023-03-18T08:20:59.471Z"
   },
   {
    "duration": 337,
    "start_time": "2023-03-18T08:20:59.807Z"
   },
   {
    "duration": 421,
    "start_time": "2023-03-18T08:21:00.145Z"
   },
   {
    "duration": 16,
    "start_time": "2023-03-18T08:21:00.567Z"
   },
   {
    "duration": 83,
    "start_time": "2023-03-18T08:21:00.585Z"
   },
   {
    "duration": 8,
    "start_time": "2023-03-18T08:21:00.670Z"
   },
   {
    "duration": 59,
    "start_time": "2023-03-18T08:21:00.679Z"
   },
   {
    "duration": 38,
    "start_time": "2023-03-18T08:21:00.740Z"
   },
   {
    "duration": 77,
    "start_time": "2023-03-18T08:21:00.780Z"
   },
   {
    "duration": 7,
    "start_time": "2023-03-18T08:24:47.304Z"
   },
   {
    "duration": 6,
    "start_time": "2023-03-18T08:25:44.935Z"
   },
   {
    "duration": 11,
    "start_time": "2023-03-18T08:27:38.482Z"
   },
   {
    "duration": 14,
    "start_time": "2023-03-18T08:27:58.816Z"
   },
   {
    "duration": 108,
    "start_time": "2023-03-18T08:32:59.802Z"
   },
   {
    "duration": 12,
    "start_time": "2023-03-18T08:33:12.120Z"
   },
   {
    "duration": 12,
    "start_time": "2023-03-18T08:33:20.321Z"
   },
   {
    "duration": 4,
    "start_time": "2023-03-18T08:43:04.330Z"
   },
   {
    "duration": 7,
    "start_time": "2023-03-18T08:43:08.291Z"
   },
   {
    "duration": 5,
    "start_time": "2023-03-18T09:10:23.339Z"
   },
   {
    "duration": 4,
    "start_time": "2023-03-18T09:10:46.686Z"
   },
   {
    "duration": 6,
    "start_time": "2023-03-18T09:11:00.332Z"
   },
   {
    "duration": 4,
    "start_time": "2023-03-18T09:11:12.774Z"
   },
   {
    "duration": 4,
    "start_time": "2023-03-18T09:21:09.917Z"
   },
   {
    "duration": 3,
    "start_time": "2023-03-18T09:21:37.891Z"
   },
   {
    "duration": 36,
    "start_time": "2023-03-18T09:24:50.125Z"
   },
   {
    "duration": 34,
    "start_time": "2023-03-18T09:25:03.580Z"
   },
   {
    "duration": 34,
    "start_time": "2023-03-18T09:28:46.333Z"
   },
   {
    "duration": 63,
    "start_time": "2023-03-18T09:31:42.468Z"
   },
   {
    "duration": 55,
    "start_time": "2023-03-18T09:31:52.627Z"
   },
   {
    "duration": 564,
    "start_time": "2023-03-18T09:32:40.603Z"
   },
   {
    "duration": 21,
    "start_time": "2023-03-18T09:32:41.169Z"
   },
   {
    "duration": 82,
    "start_time": "2023-03-18T09:32:41.192Z"
   },
   {
    "duration": 88,
    "start_time": "2023-03-18T09:32:41.276Z"
   },
   {
    "duration": 8,
    "start_time": "2023-03-18T09:32:41.366Z"
   },
   {
    "duration": 26,
    "start_time": "2023-03-18T09:32:41.375Z"
   },
   {
    "duration": 12,
    "start_time": "2023-03-18T09:32:41.403Z"
   },
   {
    "duration": 31,
    "start_time": "2023-03-18T09:32:41.417Z"
   },
   {
    "duration": 932,
    "start_time": "2023-03-18T09:32:41.450Z"
   },
   {
    "duration": 15,
    "start_time": "2023-03-18T09:32:42.384Z"
   },
   {
    "duration": 48,
    "start_time": "2023-03-18T09:32:42.400Z"
   },
   {
    "duration": 9,
    "start_time": "2023-03-18T09:32:42.449Z"
   },
   {
    "duration": 17,
    "start_time": "2023-03-18T09:32:42.460Z"
   },
   {
    "duration": 5,
    "start_time": "2023-03-18T09:32:42.478Z"
   },
   {
    "duration": 5,
    "start_time": "2023-03-18T09:32:42.484Z"
   },
   {
    "duration": 2,
    "start_time": "2023-03-18T09:32:42.491Z"
   },
   {
    "duration": 1163,
    "start_time": "2023-03-18T09:32:42.495Z"
   },
   {
    "duration": 19,
    "start_time": "2023-03-18T09:32:43.660Z"
   },
   {
    "duration": 355,
    "start_time": "2023-03-18T09:32:43.680Z"
   },
   {
    "duration": 342,
    "start_time": "2023-03-18T09:32:44.041Z"
   },
   {
    "duration": 357,
    "start_time": "2023-03-18T09:32:44.385Z"
   },
   {
    "duration": 15,
    "start_time": "2023-03-18T09:32:44.743Z"
   },
   {
    "duration": 142,
    "start_time": "2023-03-18T09:32:44.760Z"
   },
   {
    "duration": 8,
    "start_time": "2023-03-18T09:32:44.903Z"
   },
   {
    "duration": 49,
    "start_time": "2023-03-18T09:32:44.913Z"
   },
   {
    "duration": 35,
    "start_time": "2023-03-18T09:32:44.964Z"
   },
   {
    "duration": 84,
    "start_time": "2023-03-18T09:32:45.001Z"
   },
   {
    "duration": 7,
    "start_time": "2023-03-18T09:32:45.088Z"
   },
   {
    "duration": 6,
    "start_time": "2023-03-18T09:32:45.097Z"
   },
   {
    "duration": 15,
    "start_time": "2023-03-18T09:32:45.104Z"
   },
   {
    "duration": 7,
    "start_time": "2023-03-18T09:32:45.141Z"
   },
   {
    "duration": 8,
    "start_time": "2023-03-18T09:32:45.150Z"
   },
   {
    "duration": 6,
    "start_time": "2023-03-18T09:32:45.160Z"
   },
   {
    "duration": 4,
    "start_time": "2023-03-18T09:32:45.168Z"
   },
   {
    "duration": 5,
    "start_time": "2023-03-18T09:32:45.173Z"
   },
   {
    "duration": 13,
    "start_time": "2023-03-18T09:32:45.179Z"
   },
   {
    "duration": 60,
    "start_time": "2023-03-18T09:32:45.193Z"
   },
   {
    "duration": 0,
    "start_time": "2023-03-18T09:32:45.255Z"
   },
   {
    "duration": 104,
    "start_time": "2023-03-18T09:33:33.902Z"
   },
   {
    "duration": 21,
    "start_time": "2023-03-18T09:36:23.494Z"
   },
   {
    "duration": 22,
    "start_time": "2023-03-18T09:36:28.748Z"
   },
   {
    "duration": 37,
    "start_time": "2023-03-18T09:36:31.259Z"
   },
   {
    "duration": 119,
    "start_time": "2023-03-18T10:03:44.969Z"
   },
   {
    "duration": 59,
    "start_time": "2023-03-18T10:07:22.890Z"
   },
   {
    "duration": 59,
    "start_time": "2023-03-18T10:07:25.210Z"
   },
   {
    "duration": 60,
    "start_time": "2023-03-18T10:07:32.143Z"
   },
   {
    "duration": 68,
    "start_time": "2023-03-18T10:09:11.581Z"
   },
   {
    "duration": 81,
    "start_time": "2023-03-18T10:09:20.613Z"
   },
   {
    "duration": 63,
    "start_time": "2023-03-18T10:09:32.309Z"
   },
   {
    "duration": 66,
    "start_time": "2023-03-18T10:09:39.880Z"
   },
   {
    "duration": 6,
    "start_time": "2023-03-18T10:12:33.395Z"
   },
   {
    "duration": 9,
    "start_time": "2023-03-18T10:12:38.484Z"
   },
   {
    "duration": 1247,
    "start_time": "2023-03-19T18:54:45.187Z"
   },
   {
    "duration": 20,
    "start_time": "2023-03-19T18:54:46.437Z"
   },
   {
    "duration": 75,
    "start_time": "2023-03-19T18:54:46.459Z"
   },
   {
    "duration": 89,
    "start_time": "2023-03-19T18:54:46.536Z"
   },
   {
    "duration": 10,
    "start_time": "2023-03-19T18:54:46.629Z"
   },
   {
    "duration": 19,
    "start_time": "2023-03-19T18:54:46.642Z"
   },
   {
    "duration": 31,
    "start_time": "2023-03-19T18:54:46.663Z"
   },
   {
    "duration": 13,
    "start_time": "2023-03-19T18:54:46.696Z"
   },
   {
    "duration": 1039,
    "start_time": "2023-03-19T18:54:46.711Z"
   },
   {
    "duration": 18,
    "start_time": "2023-03-19T18:54:47.752Z"
   },
   {
    "duration": 65,
    "start_time": "2023-03-19T18:54:47.772Z"
   },
   {
    "duration": 11,
    "start_time": "2023-03-19T18:54:47.839Z"
   },
   {
    "duration": 42,
    "start_time": "2023-03-19T18:54:47.852Z"
   },
   {
    "duration": 5,
    "start_time": "2023-03-19T18:54:47.898Z"
   },
   {
    "duration": 7,
    "start_time": "2023-03-19T18:54:47.904Z"
   },
   {
    "duration": 3,
    "start_time": "2023-03-19T18:54:47.912Z"
   },
   {
    "duration": 1501,
    "start_time": "2023-03-19T18:54:47.917Z"
   },
   {
    "duration": 23,
    "start_time": "2023-03-19T18:54:49.420Z"
   },
   {
    "duration": 384,
    "start_time": "2023-03-19T18:54:49.445Z"
   },
   {
    "duration": 351,
    "start_time": "2023-03-19T18:54:49.830Z"
   },
   {
    "duration": 437,
    "start_time": "2023-03-19T18:54:50.182Z"
   },
   {
    "duration": 23,
    "start_time": "2023-03-19T18:54:50.621Z"
   },
   {
    "duration": 72,
    "start_time": "2023-03-19T18:54:50.646Z"
   },
   {
    "duration": 8,
    "start_time": "2023-03-19T18:54:50.720Z"
   },
   {
    "duration": 63,
    "start_time": "2023-03-19T18:54:50.730Z"
   },
   {
    "duration": 36,
    "start_time": "2023-03-19T18:54:50.794Z"
   },
   {
    "duration": 77,
    "start_time": "2023-03-19T18:54:50.831Z"
   },
   {
    "duration": 7,
    "start_time": "2023-03-19T18:54:50.910Z"
   },
   {
    "duration": 11,
    "start_time": "2023-03-19T18:54:50.919Z"
   },
   {
    "duration": 37,
    "start_time": "2023-03-19T18:54:50.932Z"
   },
   {
    "duration": 7,
    "start_time": "2023-03-19T18:54:50.971Z"
   },
   {
    "duration": 24,
    "start_time": "2023-03-19T18:54:50.980Z"
   },
   {
    "duration": 12,
    "start_time": "2023-03-19T18:54:51.006Z"
   },
   {
    "duration": 6,
    "start_time": "2023-03-19T18:54:51.019Z"
   },
   {
    "duration": 4,
    "start_time": "2023-03-19T18:54:51.027Z"
   },
   {
    "duration": 10,
    "start_time": "2023-03-19T18:54:51.033Z"
   },
   {
    "duration": 29,
    "start_time": "2023-03-19T18:54:51.044Z"
   },
   {
    "duration": 39,
    "start_time": "2023-03-19T18:54:51.075Z"
   },
   {
    "duration": 140,
    "start_time": "2023-03-19T18:54:51.115Z"
   },
   {
    "duration": 77,
    "start_time": "2023-03-19T18:54:51.257Z"
   },
   {
    "duration": 9,
    "start_time": "2023-03-19T18:54:51.337Z"
   },
   {
    "duration": 101,
    "start_time": "2023-03-19T19:06:32.464Z"
   },
   {
    "duration": 113,
    "start_time": "2023-03-19T19:07:15.758Z"
   },
   {
    "duration": 110,
    "start_time": "2023-03-19T19:07:58.330Z"
   },
   {
    "duration": 74,
    "start_time": "2023-03-19T19:09:54.560Z"
   },
   {
    "duration": 87,
    "start_time": "2023-03-19T19:10:11.703Z"
   },
   {
    "duration": 108,
    "start_time": "2023-03-19T19:11:24.281Z"
   },
   {
    "duration": 109,
    "start_time": "2023-03-19T19:13:00.462Z"
   },
   {
    "duration": 104,
    "start_time": "2023-03-19T19:13:41.642Z"
   },
   {
    "duration": 120,
    "start_time": "2023-03-19T19:14:51.685Z"
   },
   {
    "duration": 97,
    "start_time": "2023-03-19T19:15:04.024Z"
   },
   {
    "duration": 105,
    "start_time": "2023-03-19T19:15:45.781Z"
   },
   {
    "duration": 4,
    "start_time": "2023-03-19T19:16:22.210Z"
   },
   {
    "duration": 102,
    "start_time": "2023-03-19T19:23:27.532Z"
   },
   {
    "duration": 80,
    "start_time": "2023-03-19T19:23:46.922Z"
   },
   {
    "duration": 72,
    "start_time": "2023-03-19T19:24:03.719Z"
   },
   {
    "duration": 14,
    "start_time": "2023-03-19T19:26:12.509Z"
   },
   {
    "duration": 541,
    "start_time": "2023-03-19T19:26:19.510Z"
   },
   {
    "duration": 19,
    "start_time": "2023-03-19T19:26:20.053Z"
   },
   {
    "duration": 65,
    "start_time": "2023-03-19T19:26:20.074Z"
   },
   {
    "duration": 85,
    "start_time": "2023-03-19T19:26:20.141Z"
   },
   {
    "duration": 7,
    "start_time": "2023-03-19T19:26:20.229Z"
   },
   {
    "duration": 16,
    "start_time": "2023-03-19T19:26:20.238Z"
   },
   {
    "duration": 8,
    "start_time": "2023-03-19T19:26:20.255Z"
   },
   {
    "duration": 32,
    "start_time": "2023-03-19T19:26:20.265Z"
   },
   {
    "duration": 919,
    "start_time": "2023-03-19T19:26:20.299Z"
   },
   {
    "duration": 12,
    "start_time": "2023-03-19T19:26:21.220Z"
   },
   {
    "duration": 39,
    "start_time": "2023-03-19T19:26:21.233Z"
   },
   {
    "duration": 20,
    "start_time": "2023-03-19T19:26:21.274Z"
   },
   {
    "duration": 16,
    "start_time": "2023-03-19T19:26:21.296Z"
   },
   {
    "duration": 4,
    "start_time": "2023-03-19T19:26:21.315Z"
   },
   {
    "duration": 4,
    "start_time": "2023-03-19T19:26:21.321Z"
   },
   {
    "duration": 4,
    "start_time": "2023-03-19T19:26:21.326Z"
   },
   {
    "duration": 1168,
    "start_time": "2023-03-19T19:26:21.331Z"
   },
   {
    "duration": 17,
    "start_time": "2023-03-19T19:26:22.501Z"
   },
   {
    "duration": 360,
    "start_time": "2023-03-19T19:26:22.519Z"
   },
   {
    "duration": 380,
    "start_time": "2023-03-19T19:26:22.881Z"
   },
   {
    "duration": 328,
    "start_time": "2023-03-19T19:26:23.263Z"
   },
   {
    "duration": 15,
    "start_time": "2023-03-19T19:26:23.593Z"
   },
   {
    "duration": 129,
    "start_time": "2023-03-19T19:26:23.609Z"
   },
   {
    "duration": 7,
    "start_time": "2023-03-19T19:26:23.740Z"
   },
   {
    "duration": 64,
    "start_time": "2023-03-19T19:26:23.748Z"
   },
   {
    "duration": 33,
    "start_time": "2023-03-19T19:26:23.813Z"
   },
   {
    "duration": 70,
    "start_time": "2023-03-19T19:26:23.847Z"
   },
   {
    "duration": 7,
    "start_time": "2023-03-19T19:26:23.919Z"
   },
   {
    "duration": 10,
    "start_time": "2023-03-19T19:26:23.927Z"
   },
   {
    "duration": 26,
    "start_time": "2023-03-19T19:26:23.938Z"
   },
   {
    "duration": 7,
    "start_time": "2023-03-19T19:26:23.965Z"
   },
   {
    "duration": 27,
    "start_time": "2023-03-19T19:26:23.974Z"
   },
   {
    "duration": 6,
    "start_time": "2023-03-19T19:26:24.003Z"
   },
   {
    "duration": 26,
    "start_time": "2023-03-19T19:26:24.010Z"
   },
   {
    "duration": 20,
    "start_time": "2023-03-19T19:26:24.037Z"
   },
   {
    "duration": 39,
    "start_time": "2023-03-19T19:26:24.058Z"
   },
   {
    "duration": 59,
    "start_time": "2023-03-19T19:26:24.099Z"
   },
   {
    "duration": 64,
    "start_time": "2023-03-19T19:26:24.160Z"
   },
   {
    "duration": 129,
    "start_time": "2023-03-19T19:26:24.226Z"
   },
   {
    "duration": 74,
    "start_time": "2023-03-19T19:26:24.356Z"
   },
   {
    "duration": 8,
    "start_time": "2023-03-19T19:26:24.434Z"
   },
   {
    "duration": 89,
    "start_time": "2023-03-19T19:26:24.444Z"
   },
   {
    "duration": 4,
    "start_time": "2023-03-19T19:26:24.535Z"
   },
   {
    "duration": 109,
    "start_time": "2023-03-19T19:26:24.541Z"
   },
   {
    "duration": 5,
    "start_time": "2023-03-19T19:26:41.963Z"
   },
   {
    "duration": 578,
    "start_time": "2023-03-19T19:26:49.504Z"
   },
   {
    "duration": 20,
    "start_time": "2023-03-19T19:26:50.084Z"
   },
   {
    "duration": 113,
    "start_time": "2023-03-19T19:26:50.106Z"
   },
   {
    "duration": 85,
    "start_time": "2023-03-19T19:26:50.222Z"
   },
   {
    "duration": 8,
    "start_time": "2023-03-19T19:26:50.309Z"
   },
   {
    "duration": 36,
    "start_time": "2023-03-19T19:26:50.318Z"
   },
   {
    "duration": 41,
    "start_time": "2023-03-19T19:26:50.355Z"
   },
   {
    "duration": 57,
    "start_time": "2023-03-19T19:26:50.398Z"
   },
   {
    "duration": 956,
    "start_time": "2023-03-19T19:26:50.456Z"
   },
   {
    "duration": 13,
    "start_time": "2023-03-19T19:26:51.414Z"
   },
   {
    "duration": 57,
    "start_time": "2023-03-19T19:26:51.428Z"
   },
   {
    "duration": 9,
    "start_time": "2023-03-19T19:26:51.486Z"
   },
   {
    "duration": 27,
    "start_time": "2023-03-19T19:26:51.496Z"
   },
   {
    "duration": 14,
    "start_time": "2023-03-19T19:26:51.525Z"
   },
   {
    "duration": 10,
    "start_time": "2023-03-19T19:26:51.541Z"
   },
   {
    "duration": 3,
    "start_time": "2023-03-19T19:26:51.553Z"
   },
   {
    "duration": 1138,
    "start_time": "2023-03-19T19:26:51.558Z"
   },
   {
    "duration": 20,
    "start_time": "2023-03-19T19:26:52.698Z"
   },
   {
    "duration": 379,
    "start_time": "2023-03-19T19:26:52.719Z"
   },
   {
    "duration": 332,
    "start_time": "2023-03-19T19:26:53.100Z"
   },
   {
    "duration": 349,
    "start_time": "2023-03-19T19:26:53.434Z"
   },
   {
    "duration": 17,
    "start_time": "2023-03-19T19:26:53.789Z"
   },
   {
    "duration": 142,
    "start_time": "2023-03-19T19:26:53.808Z"
   },
   {
    "duration": 7,
    "start_time": "2023-03-19T19:26:53.952Z"
   },
   {
    "duration": 56,
    "start_time": "2023-03-19T19:26:53.961Z"
   },
   {
    "duration": 35,
    "start_time": "2023-03-19T19:26:54.019Z"
   },
   {
    "duration": 84,
    "start_time": "2023-03-19T19:26:54.056Z"
   },
   {
    "duration": 9,
    "start_time": "2023-03-19T19:26:54.145Z"
   },
   {
    "duration": 6,
    "start_time": "2023-03-19T19:26:54.156Z"
   },
   {
    "duration": 37,
    "start_time": "2023-03-19T19:26:54.164Z"
   },
   {
    "duration": 7,
    "start_time": "2023-03-19T19:26:54.203Z"
   },
   {
    "duration": 5,
    "start_time": "2023-03-19T19:26:54.212Z"
   },
   {
    "duration": 5,
    "start_time": "2023-03-19T19:26:54.219Z"
   },
   {
    "duration": 4,
    "start_time": "2023-03-19T19:26:54.226Z"
   },
   {
    "duration": 4,
    "start_time": "2023-03-19T19:26:54.232Z"
   },
   {
    "duration": 5,
    "start_time": "2023-03-19T19:26:54.238Z"
   },
   {
    "duration": 60,
    "start_time": "2023-03-19T19:26:54.244Z"
   },
   {
    "duration": 38,
    "start_time": "2023-03-19T19:26:54.306Z"
   },
   {
    "duration": 146,
    "start_time": "2023-03-19T19:26:54.346Z"
   },
   {
    "duration": 69,
    "start_time": "2023-03-19T19:26:54.494Z"
   },
   {
    "duration": 8,
    "start_time": "2023-03-19T19:26:54.565Z"
   },
   {
    "duration": 79,
    "start_time": "2023-03-19T19:26:54.589Z"
   },
   {
    "duration": 5,
    "start_time": "2023-03-19T19:26:54.670Z"
   },
   {
    "duration": 4,
    "start_time": "2023-03-19T19:26:54.690Z"
   },
   {
    "duration": 3,
    "start_time": "2023-03-19T19:27:18.432Z"
   },
   {
    "duration": 4,
    "start_time": "2023-03-19T19:27:30.383Z"
   },
   {
    "duration": 98,
    "start_time": "2023-03-19T19:30:06.278Z"
   },
   {
    "duration": 7,
    "start_time": "2023-03-19T19:30:57.898Z"
   },
   {
    "duration": 5,
    "start_time": "2023-03-19T19:31:00.730Z"
   },
   {
    "duration": 7,
    "start_time": "2023-03-19T19:32:42.513Z"
   },
   {
    "duration": 5,
    "start_time": "2023-03-19T19:34:08.400Z"
   },
   {
    "duration": 5,
    "start_time": "2023-03-19T19:34:44.394Z"
   },
   {
    "duration": 5,
    "start_time": "2023-03-19T19:36:12.810Z"
   },
   {
    "duration": 6,
    "start_time": "2023-03-19T19:36:43.721Z"
   },
   {
    "duration": 7,
    "start_time": "2023-03-19T19:50:55.191Z"
   },
   {
    "duration": 68,
    "start_time": "2023-03-19T19:51:11.560Z"
   },
   {
    "duration": 143,
    "start_time": "2023-03-19T19:54:06.078Z"
   },
   {
    "duration": 11,
    "start_time": "2023-03-19T19:54:45.850Z"
   },
   {
    "duration": 10,
    "start_time": "2023-03-19T19:56:45.049Z"
   },
   {
    "duration": 16,
    "start_time": "2023-03-19T19:59:32.334Z"
   },
   {
    "duration": 2,
    "start_time": "2023-03-19T20:02:04.180Z"
   },
   {
    "duration": 4,
    "start_time": "2023-03-19T20:03:12.683Z"
   },
   {
    "duration": 17,
    "start_time": "2023-03-19T20:06:38.898Z"
   },
   {
    "duration": 21,
    "start_time": "2023-03-19T20:06:46.858Z"
   },
   {
    "duration": 50,
    "start_time": "2023-03-19T20:07:16.963Z"
   },
   {
    "duration": 53,
    "start_time": "2023-03-19T20:07:41.293Z"
   },
   {
    "duration": 7,
    "start_time": "2023-03-19T20:08:31.310Z"
   },
   {
    "duration": 4,
    "start_time": "2023-03-19T20:10:36.346Z"
   },
   {
    "duration": 4,
    "start_time": "2023-03-19T20:11:15.947Z"
   },
   {
    "duration": 4,
    "start_time": "2023-03-19T20:11:56.752Z"
   },
   {
    "duration": 12,
    "start_time": "2023-03-19T20:13:19.569Z"
   },
   {
    "duration": 631,
    "start_time": "2023-03-19T20:13:27.788Z"
   },
   {
    "duration": 21,
    "start_time": "2023-03-19T20:13:28.421Z"
   },
   {
    "duration": 86,
    "start_time": "2023-03-19T20:13:28.444Z"
   },
   {
    "duration": 91,
    "start_time": "2023-03-19T20:13:28.532Z"
   },
   {
    "duration": 8,
    "start_time": "2023-03-19T20:13:28.624Z"
   },
   {
    "duration": 19,
    "start_time": "2023-03-19T20:13:28.634Z"
   },
   {
    "duration": 34,
    "start_time": "2023-03-19T20:13:28.655Z"
   },
   {
    "duration": 13,
    "start_time": "2023-03-19T20:13:28.691Z"
   },
   {
    "duration": 941,
    "start_time": "2023-03-19T20:13:28.705Z"
   },
   {
    "duration": 12,
    "start_time": "2023-03-19T20:13:29.649Z"
   },
   {
    "duration": 47,
    "start_time": "2023-03-19T20:13:29.663Z"
   },
   {
    "duration": 9,
    "start_time": "2023-03-19T20:13:29.711Z"
   },
   {
    "duration": 18,
    "start_time": "2023-03-19T20:13:29.721Z"
   },
   {
    "duration": 4,
    "start_time": "2023-03-19T20:13:29.741Z"
   },
   {
    "duration": 11,
    "start_time": "2023-03-19T20:13:29.747Z"
   },
   {
    "duration": 6,
    "start_time": "2023-03-19T20:13:29.760Z"
   },
   {
    "duration": 1245,
    "start_time": "2023-03-19T20:13:29.768Z"
   },
   {
    "duration": 18,
    "start_time": "2023-03-19T20:13:31.014Z"
   },
   {
    "duration": 355,
    "start_time": "2023-03-19T20:13:31.034Z"
   },
   {
    "duration": 348,
    "start_time": "2023-03-19T20:13:31.391Z"
   },
   {
    "duration": 350,
    "start_time": "2023-03-19T20:13:31.741Z"
   },
   {
    "duration": 18,
    "start_time": "2023-03-19T20:13:32.093Z"
   },
   {
    "duration": 142,
    "start_time": "2023-03-19T20:13:32.113Z"
   },
   {
    "duration": 7,
    "start_time": "2023-03-19T20:13:32.257Z"
   },
   {
    "duration": 55,
    "start_time": "2023-03-19T20:13:32.266Z"
   },
   {
    "duration": 35,
    "start_time": "2023-03-19T20:13:32.322Z"
   },
   {
    "duration": 76,
    "start_time": "2023-03-19T20:13:32.359Z"
   },
   {
    "duration": 8,
    "start_time": "2023-03-19T20:13:32.439Z"
   },
   {
    "duration": 21,
    "start_time": "2023-03-19T20:13:32.448Z"
   },
   {
    "duration": 24,
    "start_time": "2023-03-19T20:13:32.472Z"
   },
   {
    "duration": 10,
    "start_time": "2023-03-19T20:13:32.498Z"
   },
   {
    "duration": 13,
    "start_time": "2023-03-19T20:13:32.510Z"
   },
   {
    "duration": 18,
    "start_time": "2023-03-19T20:13:32.525Z"
   },
   {
    "duration": 16,
    "start_time": "2023-03-19T20:13:32.544Z"
   },
   {
    "duration": 17,
    "start_time": "2023-03-19T20:13:32.562Z"
   },
   {
    "duration": 4,
    "start_time": "2023-03-19T20:13:32.581Z"
   },
   {
    "duration": 22,
    "start_time": "2023-03-19T20:13:32.588Z"
   },
   {
    "duration": 51,
    "start_time": "2023-03-19T20:13:32.611Z"
   },
   {
    "duration": 186,
    "start_time": "2023-03-19T20:13:32.664Z"
   },
   {
    "duration": 94,
    "start_time": "2023-03-19T20:13:32.852Z"
   },
   {
    "duration": 9,
    "start_time": "2023-03-19T20:13:32.948Z"
   },
   {
    "duration": 102,
    "start_time": "2023-03-19T20:13:32.959Z"
   },
   {
    "duration": 6,
    "start_time": "2023-03-19T20:13:33.063Z"
   },
   {
    "duration": 20,
    "start_time": "2023-03-19T20:13:33.071Z"
   },
   {
    "duration": 10,
    "start_time": "2023-03-19T20:13:33.093Z"
   },
   {
    "duration": 6,
    "start_time": "2023-03-19T20:13:33.105Z"
   },
   {
    "duration": 7,
    "start_time": "2023-03-19T20:13:33.113Z"
   },
   {
    "duration": 7,
    "start_time": "2023-03-19T20:13:33.122Z"
   },
   {
    "duration": 7,
    "start_time": "2023-03-19T20:13:33.131Z"
   },
   {
    "duration": 109,
    "start_time": "2023-03-19T20:13:33.139Z"
   },
   {
    "duration": 11,
    "start_time": "2023-03-19T20:13:33.250Z"
   },
   {
    "duration": 31,
    "start_time": "2023-03-19T20:13:33.263Z"
   },
   {
    "duration": 5,
    "start_time": "2023-03-19T20:13:33.295Z"
   },
   {
    "duration": 28,
    "start_time": "2023-03-19T20:13:33.302Z"
   },
   {
    "duration": 6,
    "start_time": "2023-03-19T20:13:33.332Z"
   },
   {
    "duration": 12,
    "start_time": "2023-03-19T20:13:33.339Z"
   },
   {
    "duration": 45,
    "start_time": "2023-03-19T20:13:33.353Z"
   },
   {
    "duration": 13,
    "start_time": "2023-03-19T20:13:54.586Z"
   },
   {
    "duration": 27,
    "start_time": "2023-03-19T20:14:16.758Z"
   },
   {
    "duration": 28,
    "start_time": "2023-03-19T20:16:34.546Z"
   },
   {
    "duration": 110,
    "start_time": "2023-03-20T10:23:16.053Z"
   },
   {
    "duration": 685,
    "start_time": "2023-03-20T11:09:36.434Z"
   },
   {
    "duration": 104,
    "start_time": "2023-03-20T11:09:37.240Z"
   },
   {
    "duration": 23,
    "start_time": "2023-03-20T11:09:37.347Z"
   },
   {
    "duration": 17,
    "start_time": "2023-03-20T11:09:37.377Z"
   },
   {
    "duration": 17,
    "start_time": "2023-03-20T11:09:37.396Z"
   },
   {
    "duration": 16,
    "start_time": "2023-03-20T11:09:37.415Z"
   },
   {
    "duration": 1136,
    "start_time": "2023-03-20T11:09:37.432Z"
   },
   {
    "duration": 21,
    "start_time": "2023-03-20T11:09:38.569Z"
   },
   {
    "duration": 58,
    "start_time": "2023-03-20T11:09:38.592Z"
   },
   {
    "duration": 13,
    "start_time": "2023-03-20T11:09:38.652Z"
   },
   {
    "duration": 26,
    "start_time": "2023-03-20T11:09:38.670Z"
   },
   {
    "duration": 17,
    "start_time": "2023-03-20T11:09:38.700Z"
   },
   {
    "duration": 32,
    "start_time": "2023-03-20T11:09:38.719Z"
   },
   {
    "duration": 28,
    "start_time": "2023-03-20T11:09:38.752Z"
   },
   {
    "duration": 1397,
    "start_time": "2023-03-20T11:09:38.782Z"
   },
   {
    "duration": 22,
    "start_time": "2023-03-20T11:09:40.183Z"
   },
   {
    "duration": 404,
    "start_time": "2023-03-20T11:09:40.206Z"
   },
   {
    "duration": 397,
    "start_time": "2023-03-20T11:09:40.612Z"
   },
   {
    "duration": 411,
    "start_time": "2023-03-20T11:09:41.011Z"
   },
   {
    "duration": 19,
    "start_time": "2023-03-20T11:09:41.424Z"
   },
   {
    "duration": 184,
    "start_time": "2023-03-20T11:09:41.445Z"
   },
   {
    "duration": 10,
    "start_time": "2023-03-20T11:09:41.631Z"
   },
   {
    "duration": 74,
    "start_time": "2023-03-20T11:09:41.643Z"
   },
   {
    "duration": 60,
    "start_time": "2023-03-20T11:09:41.720Z"
   },
   {
    "duration": 66,
    "start_time": "2023-03-20T11:09:41.782Z"
   },
   {
    "duration": 20,
    "start_time": "2023-03-20T11:09:41.850Z"
   },
   {
    "duration": 11,
    "start_time": "2023-03-20T11:09:41.873Z"
   },
   {
    "duration": 15,
    "start_time": "2023-03-20T11:09:41.886Z"
   },
   {
    "duration": 25,
    "start_time": "2023-03-20T11:09:41.903Z"
   },
   {
    "duration": 15,
    "start_time": "2023-03-20T11:09:41.930Z"
   },
   {
    "duration": 39,
    "start_time": "2023-03-20T11:09:41.948Z"
   },
   {
    "duration": 7,
    "start_time": "2023-03-20T11:09:41.989Z"
   },
   {
    "duration": 6,
    "start_time": "2023-03-20T11:09:41.998Z"
   },
   {
    "duration": 7,
    "start_time": "2023-03-20T11:09:42.005Z"
   },
   {
    "duration": 27,
    "start_time": "2023-03-20T11:09:42.014Z"
   },
   {
    "duration": 49,
    "start_time": "2023-03-20T11:09:42.043Z"
   },
   {
    "duration": 152,
    "start_time": "2023-03-20T11:09:42.094Z"
   },
   {
    "duration": 96,
    "start_time": "2023-03-20T11:09:42.248Z"
   },
   {
    "duration": 31,
    "start_time": "2023-03-20T11:09:42.348Z"
   },
   {
    "duration": 98,
    "start_time": "2023-03-20T11:09:42.382Z"
   },
   {
    "duration": 7,
    "start_time": "2023-03-20T11:09:42.482Z"
   },
   {
    "duration": 10,
    "start_time": "2023-03-20T11:09:42.490Z"
   },
   {
    "duration": 32,
    "start_time": "2023-03-20T11:09:42.501Z"
   },
   {
    "duration": 12,
    "start_time": "2023-03-20T11:09:42.535Z"
   },
   {
    "duration": 10,
    "start_time": "2023-03-20T11:09:42.549Z"
   },
   {
    "duration": 24,
    "start_time": "2023-03-20T11:09:42.562Z"
   },
   {
    "duration": 74,
    "start_time": "2023-03-20T11:09:42.588Z"
   },
   {
    "duration": 0,
    "start_time": "2023-03-20T11:09:42.665Z"
   },
   {
    "duration": 0,
    "start_time": "2023-03-20T11:09:42.668Z"
   },
   {
    "duration": 0,
    "start_time": "2023-03-20T11:09:42.670Z"
   },
   {
    "duration": 0,
    "start_time": "2023-03-20T11:09:42.671Z"
   },
   {
    "duration": 0,
    "start_time": "2023-03-20T11:09:42.672Z"
   },
   {
    "duration": 0,
    "start_time": "2023-03-20T11:09:42.673Z"
   },
   {
    "duration": 0,
    "start_time": "2023-03-20T11:09:42.675Z"
   },
   {
    "duration": 0,
    "start_time": "2023-03-20T11:09:42.679Z"
   },
   {
    "duration": 0,
    "start_time": "2023-03-20T11:09:42.680Z"
   },
   {
    "duration": 0,
    "start_time": "2023-03-20T11:09:42.681Z"
   },
   {
    "duration": 0,
    "start_time": "2023-03-20T11:09:42.683Z"
   },
   {
    "duration": 15,
    "start_time": "2023-03-20T11:10:05.011Z"
   },
   {
    "duration": 146,
    "start_time": "2023-03-20T11:10:05.035Z"
   },
   {
    "duration": 22,
    "start_time": "2023-03-20T11:10:05.184Z"
   },
   {
    "duration": 49,
    "start_time": "2023-03-20T11:10:05.209Z"
   },
   {
    "duration": 18,
    "start_time": "2023-03-20T11:10:05.260Z"
   },
   {
    "duration": 20,
    "start_time": "2023-03-20T11:10:05.281Z"
   },
   {
    "duration": 28,
    "start_time": "2023-03-20T11:10:05.304Z"
   },
   {
    "duration": 18,
    "start_time": "2023-03-20T11:10:05.335Z"
   },
   {
    "duration": 123,
    "start_time": "2023-03-20T11:10:05.355Z"
   },
   {
    "duration": 0,
    "start_time": "2023-03-20T11:10:05.480Z"
   },
   {
    "duration": 0,
    "start_time": "2023-03-20T11:10:05.484Z"
   },
   {
    "duration": 40,
    "start_time": "2023-03-20T11:10:15.020Z"
   },
   {
    "duration": 87,
    "start_time": "2023-03-20T11:10:15.063Z"
   },
   {
    "duration": 155,
    "start_time": "2023-03-20T11:13:51.627Z"
   },
   {
    "duration": 5,
    "start_time": "2023-03-20T11:13:59.716Z"
   },
   {
    "duration": 5,
    "start_time": "2023-03-20T11:14:04.318Z"
   },
   {
    "duration": 5,
    "start_time": "2023-03-20T11:14:28.281Z"
   },
   {
    "duration": 766,
    "start_time": "2023-03-20T11:17:16.149Z"
   },
   {
    "duration": 27,
    "start_time": "2023-03-20T11:17:16.917Z"
   },
   {
    "duration": 107,
    "start_time": "2023-03-20T11:17:16.946Z"
   },
   {
    "duration": 100,
    "start_time": "2023-03-20T11:17:17.056Z"
   },
   {
    "duration": 21,
    "start_time": "2023-03-20T11:17:17.159Z"
   },
   {
    "duration": 34,
    "start_time": "2023-03-20T11:17:17.182Z"
   },
   {
    "duration": 15,
    "start_time": "2023-03-20T11:17:17.218Z"
   },
   {
    "duration": 17,
    "start_time": "2023-03-20T11:17:17.237Z"
   },
   {
    "duration": 1186,
    "start_time": "2023-03-20T11:17:17.256Z"
   },
   {
    "duration": 32,
    "start_time": "2023-03-20T11:17:18.445Z"
   },
   {
    "duration": 43,
    "start_time": "2023-03-20T11:17:18.479Z"
   },
   {
    "duration": 10,
    "start_time": "2023-03-20T11:17:18.525Z"
   },
   {
    "duration": 40,
    "start_time": "2023-03-20T11:17:18.538Z"
   },
   {
    "duration": 6,
    "start_time": "2023-03-20T11:17:18.583Z"
   },
   {
    "duration": 5,
    "start_time": "2023-03-20T11:17:18.591Z"
   },
   {
    "duration": 4,
    "start_time": "2023-03-20T11:17:18.598Z"
   },
   {
    "duration": 1440,
    "start_time": "2023-03-20T11:17:18.604Z"
   },
   {
    "duration": 22,
    "start_time": "2023-03-20T11:17:20.048Z"
   },
   {
    "duration": 408,
    "start_time": "2023-03-20T11:17:20.072Z"
   },
   {
    "duration": 388,
    "start_time": "2023-03-20T11:17:20.482Z"
   },
   {
    "duration": 411,
    "start_time": "2023-03-20T11:17:20.872Z"
   },
   {
    "duration": 18,
    "start_time": "2023-03-20T11:17:21.285Z"
   },
   {
    "duration": 175,
    "start_time": "2023-03-20T11:17:21.306Z"
   },
   {
    "duration": 10,
    "start_time": "2023-03-20T11:17:21.483Z"
   },
   {
    "duration": 85,
    "start_time": "2023-03-20T11:17:21.494Z"
   },
   {
    "duration": 43,
    "start_time": "2023-03-20T11:17:21.581Z"
   },
   {
    "duration": 87,
    "start_time": "2023-03-20T11:17:21.626Z"
   },
   {
    "duration": 9,
    "start_time": "2023-03-20T11:17:21.715Z"
   },
   {
    "duration": 12,
    "start_time": "2023-03-20T11:17:21.726Z"
   },
   {
    "duration": 37,
    "start_time": "2023-03-20T11:17:21.740Z"
   },
   {
    "duration": 8,
    "start_time": "2023-03-20T11:17:21.779Z"
   },
   {
    "duration": 15,
    "start_time": "2023-03-20T11:17:21.789Z"
   },
   {
    "duration": 9,
    "start_time": "2023-03-20T11:17:21.806Z"
   },
   {
    "duration": 15,
    "start_time": "2023-03-20T11:17:21.817Z"
   },
   {
    "duration": 8,
    "start_time": "2023-03-20T11:17:21.834Z"
   },
   {
    "duration": 7,
    "start_time": "2023-03-20T11:17:21.844Z"
   },
   {
    "duration": 31,
    "start_time": "2023-03-20T11:17:21.864Z"
   },
   {
    "duration": 51,
    "start_time": "2023-03-20T11:17:21.897Z"
   },
   {
    "duration": 171,
    "start_time": "2023-03-20T11:17:21.950Z"
   },
   {
    "duration": 97,
    "start_time": "2023-03-20T11:17:22.124Z"
   },
   {
    "duration": 12,
    "start_time": "2023-03-20T11:17:22.225Z"
   },
   {
    "duration": 114,
    "start_time": "2023-03-20T11:17:22.239Z"
   },
   {
    "duration": 8,
    "start_time": "2023-03-20T11:17:22.355Z"
   },
   {
    "duration": 31,
    "start_time": "2023-03-20T11:17:22.364Z"
   },
   {
    "duration": 10,
    "start_time": "2023-03-20T11:17:22.398Z"
   },
   {
    "duration": 14,
    "start_time": "2023-03-20T11:17:22.410Z"
   },
   {
    "duration": 24,
    "start_time": "2023-03-20T11:17:22.426Z"
   },
   {
    "duration": 13,
    "start_time": "2023-03-20T11:17:22.452Z"
   },
   {
    "duration": 24,
    "start_time": "2023-03-20T11:17:22.476Z"
   },
   {
    "duration": 112,
    "start_time": "2023-03-20T11:17:22.502Z"
   },
   {
    "duration": 14,
    "start_time": "2023-03-20T11:17:22.617Z"
   },
   {
    "duration": 35,
    "start_time": "2023-03-20T11:17:22.633Z"
   },
   {
    "duration": 14,
    "start_time": "2023-03-20T11:17:22.672Z"
   },
   {
    "duration": 22,
    "start_time": "2023-03-20T11:17:22.689Z"
   },
   {
    "duration": 8,
    "start_time": "2023-03-20T11:17:22.713Z"
   },
   {
    "duration": 13,
    "start_time": "2023-03-20T11:17:22.723Z"
   },
   {
    "duration": 49,
    "start_time": "2023-03-20T11:17:22.739Z"
   },
   {
    "duration": 40,
    "start_time": "2023-03-20T11:17:22.793Z"
   },
   {
    "duration": 48,
    "start_time": "2023-03-20T11:52:21.951Z"
   },
   {
    "duration": 1306,
    "start_time": "2023-03-20T11:52:26.206Z"
   },
   {
    "duration": 20,
    "start_time": "2023-03-20T11:52:27.515Z"
   },
   {
    "duration": 76,
    "start_time": "2023-03-20T11:52:27.538Z"
   },
   {
    "duration": 106,
    "start_time": "2023-03-20T11:52:27.617Z"
   },
   {
    "duration": 9,
    "start_time": "2023-03-20T11:52:27.726Z"
   },
   {
    "duration": 29,
    "start_time": "2023-03-20T11:52:27.738Z"
   },
   {
    "duration": 11,
    "start_time": "2023-03-20T11:52:27.769Z"
   },
   {
    "duration": 44,
    "start_time": "2023-03-20T11:52:27.782Z"
   },
   {
    "duration": 1020,
    "start_time": "2023-03-20T11:52:27.828Z"
   },
   {
    "duration": 12,
    "start_time": "2023-03-20T11:52:28.851Z"
   },
   {
    "duration": 79,
    "start_time": "2023-03-20T11:52:28.865Z"
   },
   {
    "duration": 8,
    "start_time": "2023-03-20T11:52:28.946Z"
   },
   {
    "duration": 22,
    "start_time": "2023-03-20T11:52:28.956Z"
   },
   {
    "duration": 714,
    "start_time": "2023-03-20T11:52:28.981Z"
   },
   {
    "duration": 18,
    "start_time": "2023-03-20T11:52:29.699Z"
   },
   {
    "duration": 6,
    "start_time": "2023-03-20T11:52:29.719Z"
   },
   {
    "duration": 3,
    "start_time": "2023-03-20T11:52:29.727Z"
   },
   {
    "duration": 1039,
    "start_time": "2023-03-20T11:52:29.732Z"
   },
   {
    "duration": 35,
    "start_time": "2023-03-20T11:52:30.772Z"
   },
   {
    "duration": 399,
    "start_time": "2023-03-20T11:52:30.810Z"
   },
   {
    "duration": 347,
    "start_time": "2023-03-20T11:52:31.211Z"
   },
   {
    "duration": 425,
    "start_time": "2023-03-20T11:52:31.559Z"
   },
   {
    "duration": 26,
    "start_time": "2023-03-20T11:52:31.988Z"
   },
   {
    "duration": 61,
    "start_time": "2023-03-20T11:52:32.016Z"
   },
   {
    "duration": 29,
    "start_time": "2023-03-20T11:52:32.078Z"
   },
   {
    "duration": 40,
    "start_time": "2023-03-20T11:52:32.109Z"
   },
   {
    "duration": 50,
    "start_time": "2023-03-20T11:52:32.151Z"
   },
   {
    "duration": 54,
    "start_time": "2023-03-20T11:52:32.205Z"
   },
   {
    "duration": 10,
    "start_time": "2023-03-20T11:52:32.261Z"
   },
   {
    "duration": 25,
    "start_time": "2023-03-20T11:52:32.273Z"
   },
   {
    "duration": 23,
    "start_time": "2023-03-20T11:52:32.299Z"
   },
   {
    "duration": 7,
    "start_time": "2023-03-20T11:52:32.323Z"
   },
   {
    "duration": 41,
    "start_time": "2023-03-20T11:52:32.331Z"
   },
   {
    "duration": 67,
    "start_time": "2023-03-20T11:52:32.374Z"
   },
   {
    "duration": 7,
    "start_time": "2023-03-20T11:52:32.443Z"
   },
   {
    "duration": 11,
    "start_time": "2023-03-20T11:52:32.452Z"
   },
   {
    "duration": 6,
    "start_time": "2023-03-20T11:52:32.465Z"
   },
   {
    "duration": 21,
    "start_time": "2023-03-20T11:52:32.472Z"
   },
   {
    "duration": 53,
    "start_time": "2023-03-20T11:52:32.498Z"
   },
   {
    "duration": 143,
    "start_time": "2023-03-20T11:52:32.553Z"
   },
   {
    "duration": 75,
    "start_time": "2023-03-20T11:52:32.704Z"
   },
   {
    "duration": 11,
    "start_time": "2023-03-20T11:52:32.781Z"
   },
   {
    "duration": 77,
    "start_time": "2023-03-20T11:52:32.798Z"
   },
   {
    "duration": 23,
    "start_time": "2023-03-20T11:52:32.877Z"
   },
   {
    "duration": 15,
    "start_time": "2023-03-20T11:52:32.901Z"
   },
   {
    "duration": 16,
    "start_time": "2023-03-20T11:52:32.918Z"
   },
   {
    "duration": 15,
    "start_time": "2023-03-20T11:52:32.936Z"
   },
   {
    "duration": 30,
    "start_time": "2023-03-20T11:52:32.952Z"
   },
   {
    "duration": 13,
    "start_time": "2023-03-20T11:52:32.984Z"
   },
   {
    "duration": 6,
    "start_time": "2023-03-20T11:52:33.009Z"
   },
   {
    "duration": 88,
    "start_time": "2023-03-20T11:52:33.016Z"
   },
   {
    "duration": 10,
    "start_time": "2023-03-20T11:52:33.106Z"
   },
   {
    "duration": 16,
    "start_time": "2023-03-20T11:52:33.118Z"
   },
   {
    "duration": 4,
    "start_time": "2023-03-20T11:52:33.136Z"
   },
   {
    "duration": 10,
    "start_time": "2023-03-20T11:52:33.141Z"
   },
   {
    "duration": 7,
    "start_time": "2023-03-20T11:52:33.153Z"
   },
   {
    "duration": 45,
    "start_time": "2023-03-20T11:52:33.162Z"
   },
   {
    "duration": 29,
    "start_time": "2023-03-20T11:52:33.209Z"
   },
   {
    "duration": 55,
    "start_time": "2023-03-20T11:52:33.240Z"
   },
   {
    "duration": 56,
    "start_time": "2023-03-20T11:53:10.510Z"
   },
   {
    "duration": 61,
    "start_time": "2023-03-20T11:53:52.803Z"
   },
   {
    "duration": 158,
    "start_time": "2023-03-20T11:54:25.131Z"
   },
   {
    "duration": 174,
    "start_time": "2023-03-20T11:55:15.277Z"
   },
   {
    "duration": 194,
    "start_time": "2023-03-20T11:55:20.166Z"
   },
   {
    "duration": 158,
    "start_time": "2023-03-20T11:55:30.910Z"
   },
   {
    "duration": 163,
    "start_time": "2023-03-20T11:57:14.260Z"
   },
   {
    "duration": 160,
    "start_time": "2023-03-20T11:57:26.642Z"
   },
   {
    "duration": 567,
    "start_time": "2023-03-20T11:58:48.967Z"
   },
   {
    "duration": 133,
    "start_time": "2023-03-20T11:59:09.972Z"
   },
   {
    "duration": 525,
    "start_time": "2023-03-20T11:59:24.444Z"
   },
   {
    "duration": 636,
    "start_time": "2023-03-20T12:00:47.641Z"
   },
   {
    "duration": 39,
    "start_time": "2023-03-20T12:05:55.713Z"
   },
   {
    "duration": 601,
    "start_time": "2023-03-20T12:06:01.609Z"
   },
   {
    "duration": 20,
    "start_time": "2023-03-20T12:06:02.213Z"
   },
   {
    "duration": 90,
    "start_time": "2023-03-20T12:06:02.235Z"
   },
   {
    "duration": 92,
    "start_time": "2023-03-20T12:06:02.326Z"
   },
   {
    "duration": 9,
    "start_time": "2023-03-20T12:06:02.420Z"
   },
   {
    "duration": 48,
    "start_time": "2023-03-20T12:06:02.430Z"
   },
   {
    "duration": 20,
    "start_time": "2023-03-20T12:06:02.480Z"
   },
   {
    "duration": 21,
    "start_time": "2023-03-20T12:06:02.502Z"
   },
   {
    "duration": 1036,
    "start_time": "2023-03-20T12:06:02.525Z"
   },
   {
    "duration": 12,
    "start_time": "2023-03-20T12:06:03.563Z"
   },
   {
    "duration": 51,
    "start_time": "2023-03-20T12:06:03.577Z"
   },
   {
    "duration": 8,
    "start_time": "2023-03-20T12:06:03.629Z"
   },
   {
    "duration": 24,
    "start_time": "2023-03-20T12:06:03.638Z"
   },
   {
    "duration": 29,
    "start_time": "2023-03-20T12:06:03.665Z"
   },
   {
    "duration": 8,
    "start_time": "2023-03-20T12:06:03.695Z"
   },
   {
    "duration": 14,
    "start_time": "2023-03-20T12:06:03.708Z"
   },
   {
    "duration": 1507,
    "start_time": "2023-03-20T12:06:03.723Z"
   },
   {
    "duration": 20,
    "start_time": "2023-03-20T12:06:05.232Z"
   },
   {
    "duration": 382,
    "start_time": "2023-03-20T12:06:05.254Z"
   },
   {
    "duration": 412,
    "start_time": "2023-03-20T12:06:05.638Z"
   },
   {
    "duration": 412,
    "start_time": "2023-03-20T12:06:06.052Z"
   },
   {
    "duration": 36,
    "start_time": "2023-03-20T12:06:06.466Z"
   },
   {
    "duration": 88,
    "start_time": "2023-03-20T12:06:06.505Z"
   },
   {
    "duration": 58,
    "start_time": "2023-03-20T12:06:06.595Z"
   },
   {
    "duration": 9,
    "start_time": "2023-03-20T12:06:06.654Z"
   },
   {
    "duration": 95,
    "start_time": "2023-03-20T12:06:06.665Z"
   },
   {
    "duration": 45,
    "start_time": "2023-03-20T12:06:06.763Z"
   },
   {
    "duration": 56,
    "start_time": "2023-03-20T12:06:06.810Z"
   },
   {
    "duration": 11,
    "start_time": "2023-03-20T12:06:06.868Z"
   },
   {
    "duration": 7,
    "start_time": "2023-03-20T12:06:06.888Z"
   },
   {
    "duration": 18,
    "start_time": "2023-03-20T12:06:06.897Z"
   },
   {
    "duration": 8,
    "start_time": "2023-03-20T12:06:06.917Z"
   },
   {
    "duration": 4,
    "start_time": "2023-03-20T12:06:06.927Z"
   },
   {
    "duration": 4,
    "start_time": "2023-03-20T12:06:06.933Z"
   },
   {
    "duration": 4,
    "start_time": "2023-03-20T12:06:06.939Z"
   },
   {
    "duration": 48,
    "start_time": "2023-03-20T12:06:06.945Z"
   },
   {
    "duration": 15,
    "start_time": "2023-03-20T12:06:06.995Z"
   },
   {
    "duration": 18,
    "start_time": "2023-03-20T12:06:07.011Z"
   },
   {
    "duration": 36,
    "start_time": "2023-03-20T12:06:07.031Z"
   },
   {
    "duration": 154,
    "start_time": "2023-03-20T12:06:07.068Z"
   },
   {
    "duration": 86,
    "start_time": "2023-03-20T12:06:07.226Z"
   },
   {
    "duration": 9,
    "start_time": "2023-03-20T12:06:07.314Z"
   },
   {
    "duration": 86,
    "start_time": "2023-03-20T12:06:07.325Z"
   },
   {
    "duration": 6,
    "start_time": "2023-03-20T12:06:07.412Z"
   },
   {
    "duration": 7,
    "start_time": "2023-03-20T12:06:07.420Z"
   },
   {
    "duration": 9,
    "start_time": "2023-03-20T12:06:07.429Z"
   },
   {
    "duration": 15,
    "start_time": "2023-03-20T12:06:07.440Z"
   },
   {
    "duration": 7,
    "start_time": "2023-03-20T12:06:07.456Z"
   },
   {
    "duration": 7,
    "start_time": "2023-03-20T12:06:07.464Z"
   },
   {
    "duration": 17,
    "start_time": "2023-03-20T12:06:07.493Z"
   },
   {
    "duration": 74,
    "start_time": "2023-03-20T12:06:07.512Z"
   },
   {
    "duration": 19,
    "start_time": "2023-03-20T12:06:07.587Z"
   },
   {
    "duration": 10,
    "start_time": "2023-03-20T12:06:07.608Z"
   },
   {
    "duration": 5,
    "start_time": "2023-03-20T12:06:07.620Z"
   },
   {
    "duration": 7,
    "start_time": "2023-03-20T12:06:07.627Z"
   },
   {
    "duration": 5,
    "start_time": "2023-03-20T12:06:07.636Z"
   },
   {
    "duration": 47,
    "start_time": "2023-03-20T12:06:07.642Z"
   },
   {
    "duration": 30,
    "start_time": "2023-03-20T12:06:07.691Z"
   },
   {
    "duration": 25,
    "start_time": "2023-03-20T12:06:07.723Z"
   },
   {
    "duration": 6,
    "start_time": "2023-03-20T12:08:03.543Z"
   },
   {
    "duration": 33,
    "start_time": "2023-03-20T12:09:06.837Z"
   },
   {
    "duration": 605,
    "start_time": "2023-03-20T12:11:00.423Z"
   },
   {
    "duration": 22,
    "start_time": "2023-03-20T12:11:01.031Z"
   },
   {
    "duration": 131,
    "start_time": "2023-03-20T12:11:01.056Z"
   },
   {
    "duration": 88,
    "start_time": "2023-03-20T12:11:01.194Z"
   },
   {
    "duration": 19,
    "start_time": "2023-03-20T12:11:01.284Z"
   },
   {
    "duration": 49,
    "start_time": "2023-03-20T12:11:01.305Z"
   },
   {
    "duration": 60,
    "start_time": "2023-03-20T12:11:01.355Z"
   },
   {
    "duration": 29,
    "start_time": "2023-03-20T12:11:01.417Z"
   },
   {
    "duration": 986,
    "start_time": "2023-03-20T12:11:01.447Z"
   },
   {
    "duration": 14,
    "start_time": "2023-03-20T12:11:02.437Z"
   },
   {
    "duration": 55,
    "start_time": "2023-03-20T12:11:02.452Z"
   },
   {
    "duration": 9,
    "start_time": "2023-03-20T12:11:02.508Z"
   },
   {
    "duration": 50,
    "start_time": "2023-03-20T12:11:02.518Z"
   },
   {
    "duration": 35,
    "start_time": "2023-03-20T12:11:02.569Z"
   },
   {
    "duration": 45,
    "start_time": "2023-03-20T12:11:02.606Z"
   },
   {
    "duration": 13,
    "start_time": "2023-03-20T12:11:02.653Z"
   },
   {
    "duration": 1557,
    "start_time": "2023-03-20T12:11:02.668Z"
   },
   {
    "duration": 17,
    "start_time": "2023-03-20T12:11:04.226Z"
   },
   {
    "duration": 362,
    "start_time": "2023-03-20T12:11:04.245Z"
   },
   {
    "duration": 434,
    "start_time": "2023-03-20T12:11:04.608Z"
   },
   {
    "duration": 410,
    "start_time": "2023-03-20T12:11:05.045Z"
   },
   {
    "duration": 65,
    "start_time": "2023-03-20T12:11:05.457Z"
   },
   {
    "duration": 5,
    "start_time": "2023-03-20T12:11:05.523Z"
   },
   {
    "duration": 32,
    "start_time": "2023-03-20T12:11:05.530Z"
   },
   {
    "duration": 66,
    "start_time": "2023-03-20T12:11:05.564Z"
   },
   {
    "duration": 8,
    "start_time": "2023-03-20T12:11:05.632Z"
   },
   {
    "duration": 80,
    "start_time": "2023-03-20T12:11:05.642Z"
   },
   {
    "duration": 33,
    "start_time": "2023-03-20T12:11:05.726Z"
   },
   {
    "duration": 71,
    "start_time": "2023-03-20T12:11:05.761Z"
   },
   {
    "duration": 7,
    "start_time": "2023-03-20T12:11:05.833Z"
   },
   {
    "duration": 8,
    "start_time": "2023-03-20T12:11:05.842Z"
   },
   {
    "duration": 38,
    "start_time": "2023-03-20T12:11:05.852Z"
   },
   {
    "duration": 19,
    "start_time": "2023-03-20T12:11:05.893Z"
   },
   {
    "duration": 3,
    "start_time": "2023-03-20T12:11:05.914Z"
   },
   {
    "duration": 6,
    "start_time": "2023-03-20T12:11:05.919Z"
   },
   {
    "duration": 6,
    "start_time": "2023-03-20T12:11:05.926Z"
   },
   {
    "duration": 10,
    "start_time": "2023-03-20T12:11:05.933Z"
   },
   {
    "duration": 9,
    "start_time": "2023-03-20T12:11:05.944Z"
   },
   {
    "duration": 23,
    "start_time": "2023-03-20T12:11:05.954Z"
   },
   {
    "duration": 55,
    "start_time": "2023-03-20T12:11:05.979Z"
   },
   {
    "duration": 127,
    "start_time": "2023-03-20T12:11:06.036Z"
   },
   {
    "duration": 78,
    "start_time": "2023-03-20T12:11:06.165Z"
   },
   {
    "duration": 9,
    "start_time": "2023-03-20T12:11:06.245Z"
   },
   {
    "duration": 93,
    "start_time": "2023-03-20T12:11:06.256Z"
   },
   {
    "duration": 5,
    "start_time": "2023-03-20T12:11:06.350Z"
   },
   {
    "duration": 11,
    "start_time": "2023-03-20T12:11:06.357Z"
   },
   {
    "duration": 10,
    "start_time": "2023-03-20T12:11:06.369Z"
   },
   {
    "duration": 16,
    "start_time": "2023-03-20T12:11:06.381Z"
   },
   {
    "duration": 10,
    "start_time": "2023-03-20T12:11:06.400Z"
   },
   {
    "duration": 6,
    "start_time": "2023-03-20T12:11:06.411Z"
   },
   {
    "duration": 9,
    "start_time": "2023-03-20T12:11:06.419Z"
   },
   {
    "duration": 89,
    "start_time": "2023-03-20T12:11:06.429Z"
   },
   {
    "duration": 14,
    "start_time": "2023-03-20T12:11:06.520Z"
   },
   {
    "duration": 13,
    "start_time": "2023-03-20T12:11:06.536Z"
   },
   {
    "duration": 18,
    "start_time": "2023-03-20T12:11:06.551Z"
   },
   {
    "duration": 31,
    "start_time": "2023-03-20T12:11:06.571Z"
   },
   {
    "duration": 4,
    "start_time": "2023-03-20T12:11:06.607Z"
   },
   {
    "duration": 14,
    "start_time": "2023-03-20T12:11:06.613Z"
   },
   {
    "duration": 28,
    "start_time": "2023-03-20T12:11:06.629Z"
   },
   {
    "duration": 54,
    "start_time": "2023-03-20T12:11:06.658Z"
   },
   {
    "duration": 92,
    "start_time": "2023-03-20T12:25:48.561Z"
   },
   {
    "duration": 9,
    "start_time": "2023-03-20T12:26:12.257Z"
   },
   {
    "duration": 10,
    "start_time": "2023-03-20T12:26:35.354Z"
   },
   {
    "duration": 5,
    "start_time": "2023-03-20T12:26:42.098Z"
   },
   {
    "duration": 6,
    "start_time": "2023-03-20T12:26:46.859Z"
   },
   {
    "duration": 3,
    "start_time": "2023-03-20T12:30:07.537Z"
   },
   {
    "duration": 5,
    "start_time": "2023-03-20T12:30:12.395Z"
   },
   {
    "duration": 9,
    "start_time": "2023-03-20T12:30:31.644Z"
   },
   {
    "duration": 9,
    "start_time": "2023-03-20T12:30:36.198Z"
   },
   {
    "duration": 9,
    "start_time": "2023-03-20T12:30:46.318Z"
   },
   {
    "duration": 6,
    "start_time": "2023-03-20T12:30:54.423Z"
   },
   {
    "duration": 6,
    "start_time": "2023-03-20T12:31:04.666Z"
   },
   {
    "duration": 5,
    "start_time": "2023-03-20T12:31:10.897Z"
   },
   {
    "duration": 91,
    "start_time": "2023-03-20T12:31:55.218Z"
   },
   {
    "duration": 115,
    "start_time": "2023-03-20T12:32:31.390Z"
   },
   {
    "duration": 8,
    "start_time": "2023-03-20T12:32:47.611Z"
   },
   {
    "duration": 3,
    "start_time": "2023-03-20T12:33:58.671Z"
   },
   {
    "duration": 10,
    "start_time": "2023-03-20T12:33:59.675Z"
   },
   {
    "duration": 12,
    "start_time": "2023-03-20T12:35:19.494Z"
   },
   {
    "duration": 3,
    "start_time": "2023-03-20T12:35:22.477Z"
   },
   {
    "duration": 9,
    "start_time": "2023-03-20T12:35:22.898Z"
   },
   {
    "duration": 156,
    "start_time": "2023-03-20T12:35:39.977Z"
   },
   {
    "duration": 566,
    "start_time": "2023-03-20T12:36:57.983Z"
   },
   {
    "duration": 20,
    "start_time": "2023-03-20T12:36:58.551Z"
   },
   {
    "duration": 86,
    "start_time": "2023-03-20T12:36:58.573Z"
   },
   {
    "duration": 93,
    "start_time": "2023-03-20T12:36:58.662Z"
   },
   {
    "duration": 9,
    "start_time": "2023-03-20T12:36:58.757Z"
   },
   {
    "duration": 38,
    "start_time": "2023-03-20T12:36:58.768Z"
   },
   {
    "duration": 15,
    "start_time": "2023-03-20T12:36:58.808Z"
   },
   {
    "duration": 36,
    "start_time": "2023-03-20T12:36:58.824Z"
   },
   {
    "duration": 970,
    "start_time": "2023-03-20T12:36:58.861Z"
   },
   {
    "duration": 17,
    "start_time": "2023-03-20T12:36:59.834Z"
   },
   {
    "duration": 53,
    "start_time": "2023-03-20T12:36:59.853Z"
   },
   {
    "duration": 9,
    "start_time": "2023-03-20T12:36:59.908Z"
   },
   {
    "duration": 23,
    "start_time": "2023-03-20T12:36:59.919Z"
   },
   {
    "duration": 5,
    "start_time": "2023-03-20T12:36:59.944Z"
   },
   {
    "duration": 8,
    "start_time": "2023-03-20T12:36:59.951Z"
   },
   {
    "duration": 2,
    "start_time": "2023-03-20T12:36:59.988Z"
   },
   {
    "duration": 1580,
    "start_time": "2023-03-20T12:36:59.992Z"
   },
   {
    "duration": 32,
    "start_time": "2023-03-20T12:37:01.574Z"
   },
   {
    "duration": 421,
    "start_time": "2023-03-20T12:37:01.608Z"
   },
   {
    "duration": 486,
    "start_time": "2023-03-20T12:37:02.032Z"
   },
   {
    "duration": 387,
    "start_time": "2023-03-20T12:37:02.520Z"
   },
   {
    "duration": 58,
    "start_time": "2023-03-20T12:37:02.909Z"
   },
   {
    "duration": 20,
    "start_time": "2023-03-20T12:37:02.969Z"
   },
   {
    "duration": 25,
    "start_time": "2023-03-20T12:37:02.991Z"
   },
   {
    "duration": 54,
    "start_time": "2023-03-20T12:37:03.018Z"
   },
   {
    "duration": 10,
    "start_time": "2023-03-20T12:37:03.088Z"
   },
   {
    "duration": 89,
    "start_time": "2023-03-20T12:37:03.100Z"
   },
   {
    "duration": 57,
    "start_time": "2023-03-20T12:37:03.194Z"
   },
   {
    "duration": 101,
    "start_time": "2023-03-20T12:37:03.253Z"
   },
   {
    "duration": 7,
    "start_time": "2023-03-20T12:37:03.356Z"
   },
   {
    "duration": 9,
    "start_time": "2023-03-20T12:37:03.364Z"
   },
   {
    "duration": 22,
    "start_time": "2023-03-20T12:37:03.374Z"
   },
   {
    "duration": 6,
    "start_time": "2023-03-20T12:37:03.397Z"
   },
   {
    "duration": 1787,
    "start_time": "2023-03-20T12:37:03.405Z"
   },
   {
    "duration": 0,
    "start_time": "2023-03-20T12:37:05.194Z"
   },
   {
    "duration": 0,
    "start_time": "2023-03-20T12:37:05.196Z"
   },
   {
    "duration": 0,
    "start_time": "2023-03-20T12:37:05.197Z"
   },
   {
    "duration": 0,
    "start_time": "2023-03-20T12:37:05.199Z"
   },
   {
    "duration": 0,
    "start_time": "2023-03-20T12:37:05.200Z"
   },
   {
    "duration": 0,
    "start_time": "2023-03-20T12:37:05.203Z"
   },
   {
    "duration": 0,
    "start_time": "2023-03-20T12:37:05.204Z"
   },
   {
    "duration": 1,
    "start_time": "2023-03-20T12:37:05.205Z"
   },
   {
    "duration": 0,
    "start_time": "2023-03-20T12:37:05.207Z"
   },
   {
    "duration": 0,
    "start_time": "2023-03-20T12:37:05.211Z"
   },
   {
    "duration": 0,
    "start_time": "2023-03-20T12:37:05.213Z"
   },
   {
    "duration": 0,
    "start_time": "2023-03-20T12:37:05.214Z"
   },
   {
    "duration": 0,
    "start_time": "2023-03-20T12:37:05.216Z"
   },
   {
    "duration": 0,
    "start_time": "2023-03-20T12:37:05.217Z"
   },
   {
    "duration": 0,
    "start_time": "2023-03-20T12:37:05.218Z"
   },
   {
    "duration": 0,
    "start_time": "2023-03-20T12:37:05.219Z"
   },
   {
    "duration": 0,
    "start_time": "2023-03-20T12:37:05.222Z"
   },
   {
    "duration": 0,
    "start_time": "2023-03-20T12:37:05.223Z"
   },
   {
    "duration": 0,
    "start_time": "2023-03-20T12:37:05.224Z"
   },
   {
    "duration": 0,
    "start_time": "2023-03-20T12:37:05.225Z"
   },
   {
    "duration": 0,
    "start_time": "2023-03-20T12:37:05.226Z"
   },
   {
    "duration": 0,
    "start_time": "2023-03-20T12:37:05.227Z"
   },
   {
    "duration": 0,
    "start_time": "2023-03-20T12:37:05.228Z"
   },
   {
    "duration": 0,
    "start_time": "2023-03-20T12:37:05.229Z"
   },
   {
    "duration": 1,
    "start_time": "2023-03-20T12:37:05.230Z"
   },
   {
    "duration": 0,
    "start_time": "2023-03-20T12:37:05.232Z"
   },
   {
    "duration": 0,
    "start_time": "2023-03-20T12:37:05.233Z"
   },
   {
    "duration": 550,
    "start_time": "2023-03-20T12:40:47.828Z"
   },
   {
    "duration": 25,
    "start_time": "2023-03-20T12:40:48.380Z"
   },
   {
    "duration": 91,
    "start_time": "2023-03-20T12:40:48.407Z"
   },
   {
    "duration": 116,
    "start_time": "2023-03-20T12:40:48.500Z"
   },
   {
    "duration": 10,
    "start_time": "2023-03-20T12:40:48.618Z"
   },
   {
    "duration": 33,
    "start_time": "2023-03-20T12:40:48.629Z"
   },
   {
    "duration": 14,
    "start_time": "2023-03-20T12:40:48.664Z"
   },
   {
    "duration": 18,
    "start_time": "2023-03-20T12:40:48.680Z"
   },
   {
    "duration": 1003,
    "start_time": "2023-03-20T12:40:48.700Z"
   },
   {
    "duration": 21,
    "start_time": "2023-03-20T12:40:49.707Z"
   },
   {
    "duration": 66,
    "start_time": "2023-03-20T12:40:49.730Z"
   },
   {
    "duration": 12,
    "start_time": "2023-03-20T12:40:49.799Z"
   },
   {
    "duration": 27,
    "start_time": "2023-03-20T12:40:49.813Z"
   },
   {
    "duration": 6,
    "start_time": "2023-03-20T12:40:49.843Z"
   },
   {
    "duration": 6,
    "start_time": "2023-03-20T12:40:49.851Z"
   },
   {
    "duration": 4,
    "start_time": "2023-03-20T12:40:49.888Z"
   },
   {
    "duration": 1527,
    "start_time": "2023-03-20T12:40:49.894Z"
   },
   {
    "duration": 30,
    "start_time": "2023-03-20T12:40:51.424Z"
   },
   {
    "duration": 413,
    "start_time": "2023-03-20T12:40:51.456Z"
   },
   {
    "duration": 475,
    "start_time": "2023-03-20T12:40:51.871Z"
   },
   {
    "duration": 342,
    "start_time": "2023-03-20T12:40:52.348Z"
   },
   {
    "duration": 73,
    "start_time": "2023-03-20T12:40:52.694Z"
   },
   {
    "duration": 5,
    "start_time": "2023-03-20T12:40:52.769Z"
   },
   {
    "duration": 24,
    "start_time": "2023-03-20T12:40:52.789Z"
   },
   {
    "duration": 38,
    "start_time": "2023-03-20T12:40:52.814Z"
   },
   {
    "duration": 8,
    "start_time": "2023-03-20T12:40:52.853Z"
   },
   {
    "duration": 68,
    "start_time": "2023-03-20T12:40:52.862Z"
   },
   {
    "duration": 56,
    "start_time": "2023-03-20T12:40:52.933Z"
   },
   {
    "duration": 57,
    "start_time": "2023-03-20T12:40:52.991Z"
   },
   {
    "duration": 6,
    "start_time": "2023-03-20T12:40:53.050Z"
   },
   {
    "duration": 9,
    "start_time": "2023-03-20T12:40:53.058Z"
   },
   {
    "duration": 16,
    "start_time": "2023-03-20T12:40:53.089Z"
   },
   {
    "duration": 8,
    "start_time": "2023-03-20T12:40:53.107Z"
   },
   {
    "duration": 19,
    "start_time": "2023-03-20T12:40:53.117Z"
   },
   {
    "duration": 29,
    "start_time": "2023-03-20T12:40:53.138Z"
   },
   {
    "duration": 11,
    "start_time": "2023-03-20T12:40:53.169Z"
   },
   {
    "duration": 14,
    "start_time": "2023-03-20T12:40:53.182Z"
   },
   {
    "duration": 29,
    "start_time": "2023-03-20T12:40:53.198Z"
   },
   {
    "duration": 30,
    "start_time": "2023-03-20T12:40:53.229Z"
   },
   {
    "duration": 38,
    "start_time": "2023-03-20T12:40:53.261Z"
   },
   {
    "duration": 135,
    "start_time": "2023-03-20T12:40:53.300Z"
   },
   {
    "duration": 78,
    "start_time": "2023-03-20T12:40:53.438Z"
   },
   {
    "duration": 10,
    "start_time": "2023-03-20T12:40:53.518Z"
   },
   {
    "duration": 123,
    "start_time": "2023-03-20T12:40:53.530Z"
   },
   {
    "duration": 7,
    "start_time": "2023-03-20T12:40:53.654Z"
   },
   {
    "duration": 6,
    "start_time": "2023-03-20T12:40:53.663Z"
   },
   {
    "duration": 22,
    "start_time": "2023-03-20T12:40:53.671Z"
   },
   {
    "duration": 9,
    "start_time": "2023-03-20T12:40:53.695Z"
   },
   {
    "duration": 8,
    "start_time": "2023-03-20T12:40:53.706Z"
   },
   {
    "duration": 6,
    "start_time": "2023-03-20T12:40:53.716Z"
   },
   {
    "duration": 13,
    "start_time": "2023-03-20T12:40:53.724Z"
   },
   {
    "duration": 88,
    "start_time": "2023-03-20T12:40:53.743Z"
   },
   {
    "duration": 13,
    "start_time": "2023-03-20T12:40:53.833Z"
   },
   {
    "duration": 18,
    "start_time": "2023-03-20T12:40:53.849Z"
   },
   {
    "duration": 19,
    "start_time": "2023-03-20T12:40:53.869Z"
   },
   {
    "duration": 9,
    "start_time": "2023-03-20T12:40:53.890Z"
   },
   {
    "duration": 6,
    "start_time": "2023-03-20T12:40:53.900Z"
   },
   {
    "duration": 16,
    "start_time": "2023-03-20T12:40:53.908Z"
   },
   {
    "duration": 65,
    "start_time": "2023-03-20T12:40:53.925Z"
   },
   {
    "duration": 29,
    "start_time": "2023-03-20T12:40:53.992Z"
   },
   {
    "duration": 5,
    "start_time": "2023-03-20T12:46:44.132Z"
   },
   {
    "duration": 854,
    "start_time": "2023-03-20T13:06:07.994Z"
   },
   {
    "duration": 185,
    "start_time": "2023-03-20T13:06:08.850Z"
   },
   {
    "duration": 31,
    "start_time": "2023-03-20T13:06:09.037Z"
   },
   {
    "duration": 77,
    "start_time": "2023-03-20T13:06:09.071Z"
   },
   {
    "duration": 91,
    "start_time": "2023-03-20T13:06:09.150Z"
   },
   {
    "duration": 9,
    "start_time": "2023-03-20T13:06:09.243Z"
   },
   {
    "duration": 17,
    "start_time": "2023-03-20T13:06:09.254Z"
   },
   {
    "duration": 10,
    "start_time": "2023-03-20T13:06:09.289Z"
   },
   {
    "duration": 13,
    "start_time": "2023-03-20T13:06:09.301Z"
   },
   {
    "duration": 1154,
    "start_time": "2023-03-20T13:06:09.317Z"
   },
   {
    "duration": 29,
    "start_time": "2023-03-20T13:06:10.474Z"
   },
   {
    "duration": 51,
    "start_time": "2023-03-20T13:06:10.505Z"
   },
   {
    "duration": 9,
    "start_time": "2023-03-20T13:06:10.557Z"
   },
   {
    "duration": 44,
    "start_time": "2023-03-20T13:06:10.567Z"
   },
   {
    "duration": 7,
    "start_time": "2023-03-20T13:06:10.612Z"
   },
   {
    "duration": 10,
    "start_time": "2023-03-20T13:06:10.620Z"
   },
   {
    "duration": 8,
    "start_time": "2023-03-20T13:06:10.631Z"
   },
   {
    "duration": 1100,
    "start_time": "2023-03-20T13:06:10.640Z"
   },
   {
    "duration": 17,
    "start_time": "2023-03-20T13:06:11.742Z"
   },
   {
    "duration": 379,
    "start_time": "2023-03-20T13:06:11.761Z"
   },
   {
    "duration": 319,
    "start_time": "2023-03-20T13:06:12.143Z"
   },
   {
    "duration": 453,
    "start_time": "2023-03-20T13:06:12.463Z"
   },
   {
    "duration": 49,
    "start_time": "2023-03-20T13:06:12.918Z"
   },
   {
    "duration": 20,
    "start_time": "2023-03-20T13:06:12.969Z"
   },
   {
    "duration": 23,
    "start_time": "2023-03-20T13:06:12.990Z"
   },
   {
    "duration": 51,
    "start_time": "2023-03-20T13:06:13.015Z"
   },
   {
    "duration": 10,
    "start_time": "2023-03-20T13:06:13.088Z"
   },
   {
    "duration": 46,
    "start_time": "2023-03-20T13:06:13.104Z"
   },
   {
    "duration": 52,
    "start_time": "2023-03-20T13:06:13.152Z"
   },
   {
    "duration": 54,
    "start_time": "2023-03-20T13:06:13.206Z"
   },
   {
    "duration": 7,
    "start_time": "2023-03-20T13:06:13.262Z"
   },
   {
    "duration": 22,
    "start_time": "2023-03-20T13:06:13.270Z"
   },
   {
    "duration": 14,
    "start_time": "2023-03-20T13:06:13.294Z"
   },
   {
    "duration": 5,
    "start_time": "2023-03-20T13:06:13.310Z"
   },
   {
    "duration": 6,
    "start_time": "2023-03-20T13:06:13.317Z"
   },
   {
    "duration": 7,
    "start_time": "2023-03-20T13:06:13.324Z"
   },
   {
    "duration": 6,
    "start_time": "2023-03-20T13:06:13.333Z"
   },
   {
    "duration": 5,
    "start_time": "2023-03-20T13:06:13.341Z"
   },
   {
    "duration": 5,
    "start_time": "2023-03-20T13:06:13.348Z"
   },
   {
    "duration": 22,
    "start_time": "2023-03-20T13:06:13.389Z"
   },
   {
    "duration": 42,
    "start_time": "2023-03-20T13:06:13.413Z"
   },
   {
    "duration": 5,
    "start_time": "2023-03-20T13:06:13.456Z"
   },
   {
    "duration": 83,
    "start_time": "2023-03-20T13:06:13.462Z"
   },
   {
    "duration": 8,
    "start_time": "2023-03-20T13:06:13.547Z"
   },
   {
    "duration": 105,
    "start_time": "2023-03-20T13:06:13.557Z"
   },
   {
    "duration": 6,
    "start_time": "2023-03-20T13:06:13.663Z"
   },
   {
    "duration": 17,
    "start_time": "2023-03-20T13:06:13.672Z"
   },
   {
    "duration": 8,
    "start_time": "2023-03-20T13:06:13.691Z"
   },
   {
    "duration": 8,
    "start_time": "2023-03-20T13:06:13.701Z"
   },
   {
    "duration": 7,
    "start_time": "2023-03-20T13:06:13.711Z"
   },
   {
    "duration": 6,
    "start_time": "2023-03-20T13:06:13.719Z"
   },
   {
    "duration": 9,
    "start_time": "2023-03-20T13:06:13.727Z"
   },
   {
    "duration": 94,
    "start_time": "2023-03-20T13:06:13.738Z"
   },
   {
    "duration": 11,
    "start_time": "2023-03-20T13:06:13.833Z"
   },
   {
    "duration": 10,
    "start_time": "2023-03-20T13:06:13.845Z"
   },
   {
    "duration": 33,
    "start_time": "2023-03-20T13:06:13.856Z"
   },
   {
    "duration": 13,
    "start_time": "2023-03-20T13:06:13.891Z"
   },
   {
    "duration": 17,
    "start_time": "2023-03-20T13:06:13.906Z"
   },
   {
    "duration": 12,
    "start_time": "2023-03-20T13:06:13.925Z"
   },
   {
    "duration": 28,
    "start_time": "2023-03-20T13:06:13.939Z"
   },
   {
    "duration": 41,
    "start_time": "2023-03-20T13:06:13.969Z"
   },
   {
    "duration": 854,
    "start_time": "2023-03-21T09:20:24.951Z"
   },
   {
    "duration": 186,
    "start_time": "2023-03-21T09:20:25.808Z"
   },
   {
    "duration": 22,
    "start_time": "2023-03-21T09:20:25.996Z"
   },
   {
    "duration": 81,
    "start_time": "2023-03-21T09:20:26.019Z"
   },
   {
    "duration": 96,
    "start_time": "2023-03-21T09:20:26.102Z"
   },
   {
    "duration": 7,
    "start_time": "2023-03-21T09:20:26.200Z"
   },
   {
    "duration": 21,
    "start_time": "2023-03-21T09:20:26.209Z"
   },
   {
    "duration": 26,
    "start_time": "2023-03-21T09:20:26.232Z"
   },
   {
    "duration": 14,
    "start_time": "2023-03-21T09:20:26.260Z"
   },
   {
    "duration": 1074,
    "start_time": "2023-03-21T09:20:26.275Z"
   },
   {
    "duration": 19,
    "start_time": "2023-03-21T09:20:27.351Z"
   },
   {
    "duration": 45,
    "start_time": "2023-03-21T09:20:27.372Z"
   },
   {
    "duration": 8,
    "start_time": "2023-03-21T09:20:27.418Z"
   },
   {
    "duration": 29,
    "start_time": "2023-03-21T09:20:27.430Z"
   },
   {
    "duration": 6,
    "start_time": "2023-03-21T09:20:27.462Z"
   },
   {
    "duration": 13,
    "start_time": "2023-03-21T09:20:27.469Z"
   },
   {
    "duration": 7,
    "start_time": "2023-03-21T09:20:27.484Z"
   },
   {
    "duration": 1080,
    "start_time": "2023-03-21T09:20:27.493Z"
   },
   {
    "duration": 19,
    "start_time": "2023-03-21T09:20:28.574Z"
   },
   {
    "duration": 350,
    "start_time": "2023-03-21T09:20:28.594Z"
   },
   {
    "duration": 352,
    "start_time": "2023-03-21T09:20:28.946Z"
   },
   {
    "duration": 424,
    "start_time": "2023-03-21T09:20:29.300Z"
   },
   {
    "duration": 57,
    "start_time": "2023-03-21T09:20:29.726Z"
   },
   {
    "duration": 5,
    "start_time": "2023-03-21T09:20:29.785Z"
   },
   {
    "duration": 29,
    "start_time": "2023-03-21T09:20:29.791Z"
   },
   {
    "duration": 73,
    "start_time": "2023-03-21T09:20:29.822Z"
   },
   {
    "duration": 10,
    "start_time": "2023-03-21T09:20:29.897Z"
   },
   {
    "duration": 67,
    "start_time": "2023-03-21T09:20:29.909Z"
   },
   {
    "duration": 34,
    "start_time": "2023-03-21T09:20:29.978Z"
   },
   {
    "duration": 76,
    "start_time": "2023-03-21T09:20:30.014Z"
   },
   {
    "duration": 7,
    "start_time": "2023-03-21T09:20:30.091Z"
   },
   {
    "duration": 27,
    "start_time": "2023-03-21T09:20:30.100Z"
   },
   {
    "duration": 19,
    "start_time": "2023-03-21T09:20:30.129Z"
   },
   {
    "duration": 9,
    "start_time": "2023-03-21T09:20:30.150Z"
   },
   {
    "duration": 22,
    "start_time": "2023-03-21T09:20:30.161Z"
   },
   {
    "duration": 17,
    "start_time": "2023-03-21T09:20:30.185Z"
   },
   {
    "duration": 17,
    "start_time": "2023-03-21T09:20:30.204Z"
   },
   {
    "duration": 12,
    "start_time": "2023-03-21T09:20:30.223Z"
   },
   {
    "duration": 16,
    "start_time": "2023-03-21T09:20:30.237Z"
   },
   {
    "duration": 54,
    "start_time": "2023-03-21T09:20:30.255Z"
   },
   {
    "duration": 49,
    "start_time": "2023-03-21T09:20:30.313Z"
   },
   {
    "duration": 9,
    "start_time": "2023-03-21T09:20:30.364Z"
   },
   {
    "duration": 121,
    "start_time": "2023-03-21T09:20:30.375Z"
   },
   {
    "duration": 9,
    "start_time": "2023-03-21T09:20:30.498Z"
   },
   {
    "duration": 118,
    "start_time": "2023-03-21T09:20:30.509Z"
   },
   {
    "duration": 6,
    "start_time": "2023-03-21T09:20:30.629Z"
   },
   {
    "duration": 31,
    "start_time": "2023-03-21T09:20:30.637Z"
   },
   {
    "duration": 41,
    "start_time": "2023-03-21T09:20:30.670Z"
   },
   {
    "duration": 57,
    "start_time": "2023-03-21T09:20:30.713Z"
   },
   {
    "duration": 38,
    "start_time": "2023-03-21T09:20:30.771Z"
   },
   {
    "duration": 41,
    "start_time": "2023-03-21T09:20:30.811Z"
   },
   {
    "duration": 24,
    "start_time": "2023-03-21T09:20:30.854Z"
   },
   {
    "duration": 114,
    "start_time": "2023-03-21T09:20:30.880Z"
   },
   {
    "duration": 13,
    "start_time": "2023-03-21T09:20:30.996Z"
   },
   {
    "duration": 35,
    "start_time": "2023-03-21T09:20:31.011Z"
   },
   {
    "duration": 17,
    "start_time": "2023-03-21T09:20:31.048Z"
   },
   {
    "duration": 79,
    "start_time": "2023-03-21T09:20:31.067Z"
   },
   {
    "duration": 27,
    "start_time": "2023-03-21T09:20:31.148Z"
   },
   {
    "duration": 25,
    "start_time": "2023-03-21T09:20:31.177Z"
   },
   {
    "duration": 40,
    "start_time": "2023-03-21T09:20:31.204Z"
   },
   {
    "duration": 35,
    "start_time": "2023-03-21T09:20:31.248Z"
   },
   {
    "duration": 7,
    "start_time": "2023-03-21T09:22:37.374Z"
   },
   {
    "duration": 49,
    "start_time": "2023-03-21T10:44:32.915Z"
   },
   {
    "duration": 819,
    "start_time": "2023-03-21T10:44:37.527Z"
   },
   {
    "duration": 278,
    "start_time": "2023-03-21T10:44:38.348Z"
   },
   {
    "duration": 21,
    "start_time": "2023-03-21T10:44:38.628Z"
   },
   {
    "duration": 73,
    "start_time": "2023-03-21T10:44:38.650Z"
   },
   {
    "duration": 74,
    "start_time": "2023-03-21T10:44:38.725Z"
   },
   {
    "duration": 13,
    "start_time": "2023-03-21T10:44:38.801Z"
   },
   {
    "duration": 18,
    "start_time": "2023-03-21T10:44:38.815Z"
   },
   {
    "duration": 13,
    "start_time": "2023-03-21T10:44:38.834Z"
   },
   {
    "duration": 24,
    "start_time": "2023-03-21T10:44:38.849Z"
   },
   {
    "duration": 945,
    "start_time": "2023-03-21T10:44:38.874Z"
   },
   {
    "duration": 13,
    "start_time": "2023-03-21T10:44:39.821Z"
   },
   {
    "duration": 53,
    "start_time": "2023-03-21T10:44:39.835Z"
   },
   {
    "duration": 11,
    "start_time": "2023-03-21T10:44:39.890Z"
   },
   {
    "duration": 35,
    "start_time": "2023-03-21T10:44:39.904Z"
   },
   {
    "duration": 22,
    "start_time": "2023-03-21T10:44:39.940Z"
   },
   {
    "duration": 22,
    "start_time": "2023-03-21T10:44:39.963Z"
   },
   {
    "duration": 16,
    "start_time": "2023-03-21T10:44:39.987Z"
   },
   {
    "duration": 1165,
    "start_time": "2023-03-21T10:44:40.004Z"
   },
   {
    "duration": 21,
    "start_time": "2023-03-21T10:44:41.171Z"
   },
   {
    "duration": 353,
    "start_time": "2023-03-21T10:44:41.193Z"
   },
   {
    "duration": 400,
    "start_time": "2023-03-21T10:44:41.548Z"
   },
   {
    "duration": 335,
    "start_time": "2023-03-21T10:44:41.949Z"
   },
   {
    "duration": 59,
    "start_time": "2023-03-21T10:44:42.285Z"
   },
   {
    "duration": 5,
    "start_time": "2023-03-21T10:44:42.346Z"
   },
   {
    "duration": 14,
    "start_time": "2023-03-21T10:44:42.352Z"
   },
   {
    "duration": 22,
    "start_time": "2023-03-21T10:44:42.367Z"
   },
   {
    "duration": 53,
    "start_time": "2023-03-21T10:44:42.390Z"
   },
   {
    "duration": 7,
    "start_time": "2023-03-21T10:44:42.445Z"
   },
   {
    "duration": 57,
    "start_time": "2023-03-21T10:44:42.454Z"
   },
   {
    "duration": 35,
    "start_time": "2023-03-21T10:44:42.513Z"
   },
   {
    "duration": 73,
    "start_time": "2023-03-21T10:44:42.549Z"
   },
   {
    "duration": 7,
    "start_time": "2023-03-21T10:44:42.623Z"
   },
   {
    "duration": 7,
    "start_time": "2023-03-21T10:44:42.631Z"
   },
   {
    "duration": 14,
    "start_time": "2023-03-21T10:44:42.640Z"
   },
   {
    "duration": 6,
    "start_time": "2023-03-21T10:44:42.656Z"
   },
   {
    "duration": 6,
    "start_time": "2023-03-21T10:44:42.663Z"
   },
   {
    "duration": 7,
    "start_time": "2023-03-21T10:44:42.670Z"
   },
   {
    "duration": 33,
    "start_time": "2023-03-21T10:44:42.678Z"
   },
   {
    "duration": 5,
    "start_time": "2023-03-21T10:44:42.712Z"
   },
   {
    "duration": 9,
    "start_time": "2023-03-21T10:44:42.719Z"
   },
   {
    "duration": 21,
    "start_time": "2023-03-21T10:44:42.732Z"
   },
   {
    "duration": 37,
    "start_time": "2023-03-21T10:44:42.755Z"
   },
   {
    "duration": 5,
    "start_time": "2023-03-21T10:44:42.809Z"
   },
   {
    "duration": 74,
    "start_time": "2023-03-21T10:44:42.816Z"
   },
   {
    "duration": 22,
    "start_time": "2023-03-21T10:44:42.891Z"
   },
   {
    "duration": 83,
    "start_time": "2023-03-21T10:44:42.915Z"
   },
   {
    "duration": 6,
    "start_time": "2023-03-21T10:44:42.999Z"
   },
   {
    "duration": 4,
    "start_time": "2023-03-21T10:44:43.010Z"
   },
   {
    "duration": 10,
    "start_time": "2023-03-21T10:44:43.016Z"
   },
   {
    "duration": 6,
    "start_time": "2023-03-21T10:44:43.028Z"
   },
   {
    "duration": 7,
    "start_time": "2023-03-21T10:44:43.036Z"
   },
   {
    "duration": 6,
    "start_time": "2023-03-21T10:44:43.044Z"
   },
   {
    "duration": 11,
    "start_time": "2023-03-21T10:44:43.052Z"
   },
   {
    "duration": 92,
    "start_time": "2023-03-21T10:44:43.065Z"
   },
   {
    "duration": 9,
    "start_time": "2023-03-21T10:44:43.159Z"
   },
   {
    "duration": 17,
    "start_time": "2023-03-21T10:44:43.170Z"
   },
   {
    "duration": 4,
    "start_time": "2023-03-21T10:44:43.189Z"
   },
   {
    "duration": 9,
    "start_time": "2023-03-21T10:44:43.210Z"
   },
   {
    "duration": 8,
    "start_time": "2023-03-21T10:44:43.220Z"
   },
   {
    "duration": 12,
    "start_time": "2023-03-21T10:44:43.230Z"
   },
   {
    "duration": 26,
    "start_time": "2023-03-21T10:44:43.243Z"
   },
   {
    "duration": 55,
    "start_time": "2023-03-21T10:44:43.271Z"
   },
   {
    "duration": 60,
    "start_time": "2023-03-21T10:45:17.151Z"
   },
   {
    "duration": 832,
    "start_time": "2023-03-21T10:45:22.726Z"
   },
   {
    "duration": 172,
    "start_time": "2023-03-21T10:45:23.560Z"
   },
   {
    "duration": 21,
    "start_time": "2023-03-21T10:45:23.734Z"
   },
   {
    "duration": 78,
    "start_time": "2023-03-21T10:45:23.757Z"
   },
   {
    "duration": 84,
    "start_time": "2023-03-21T10:45:23.837Z"
   },
   {
    "duration": 9,
    "start_time": "2023-03-21T10:45:23.922Z"
   },
   {
    "duration": 17,
    "start_time": "2023-03-21T10:45:23.933Z"
   },
   {
    "duration": 23,
    "start_time": "2023-03-21T10:45:23.951Z"
   },
   {
    "duration": 13,
    "start_time": "2023-03-21T10:45:23.976Z"
   },
   {
    "duration": 894,
    "start_time": "2023-03-21T10:45:24.010Z"
   },
   {
    "duration": 13,
    "start_time": "2023-03-21T10:45:24.910Z"
   },
   {
    "duration": 35,
    "start_time": "2023-03-21T10:45:24.925Z"
   },
   {
    "duration": 9,
    "start_time": "2023-03-21T10:45:24.962Z"
   },
   {
    "duration": 44,
    "start_time": "2023-03-21T10:45:24.972Z"
   },
   {
    "duration": 5,
    "start_time": "2023-03-21T10:45:25.017Z"
   },
   {
    "duration": 7,
    "start_time": "2023-03-21T10:45:25.023Z"
   },
   {
    "duration": 5,
    "start_time": "2023-03-21T10:45:25.031Z"
   },
   {
    "duration": 966,
    "start_time": "2023-03-21T10:45:25.037Z"
   },
   {
    "duration": 18,
    "start_time": "2023-03-21T10:45:26.004Z"
   },
   {
    "duration": 344,
    "start_time": "2023-03-21T10:45:26.024Z"
   },
   {
    "duration": 396,
    "start_time": "2023-03-21T10:45:26.369Z"
   },
   {
    "duration": 405,
    "start_time": "2023-03-21T10:45:26.767Z"
   },
   {
    "duration": 61,
    "start_time": "2023-03-21T10:45:27.174Z"
   },
   {
    "duration": 5,
    "start_time": "2023-03-21T10:45:27.237Z"
   },
   {
    "duration": 12,
    "start_time": "2023-03-21T10:45:27.244Z"
   },
   {
    "duration": 22,
    "start_time": "2023-03-21T10:45:27.258Z"
   },
   {
    "duration": 78,
    "start_time": "2023-03-21T10:45:27.282Z"
   },
   {
    "duration": 47,
    "start_time": "2023-03-21T10:45:27.363Z"
   },
   {
    "duration": 8,
    "start_time": "2023-03-21T10:45:27.412Z"
   },
   {
    "duration": 45,
    "start_time": "2023-03-21T10:45:27.421Z"
   },
   {
    "duration": 48,
    "start_time": "2023-03-21T10:45:27.468Z"
   },
   {
    "duration": 62,
    "start_time": "2023-03-21T10:45:27.518Z"
   },
   {
    "duration": 6,
    "start_time": "2023-03-21T10:45:27.582Z"
   },
   {
    "duration": 6,
    "start_time": "2023-03-21T10:45:27.609Z"
   },
   {
    "duration": 13,
    "start_time": "2023-03-21T10:45:27.616Z"
   },
   {
    "duration": 5,
    "start_time": "2023-03-21T10:45:27.631Z"
   },
   {
    "duration": 6,
    "start_time": "2023-03-21T10:45:27.638Z"
   },
   {
    "duration": 7,
    "start_time": "2023-03-21T10:45:27.645Z"
   },
   {
    "duration": 7,
    "start_time": "2023-03-21T10:45:27.653Z"
   },
   {
    "duration": 8,
    "start_time": "2023-03-21T10:45:27.661Z"
   },
   {
    "duration": 8,
    "start_time": "2023-03-21T10:45:27.671Z"
   },
   {
    "duration": 49,
    "start_time": "2023-03-21T10:45:27.680Z"
   },
   {
    "duration": 38,
    "start_time": "2023-03-21T10:45:27.731Z"
   },
   {
    "duration": 5,
    "start_time": "2023-03-21T10:45:27.771Z"
   },
   {
    "duration": 88,
    "start_time": "2023-03-21T10:45:27.777Z"
   },
   {
    "duration": 8,
    "start_time": "2023-03-21T10:45:27.867Z"
   },
   {
    "duration": 120,
    "start_time": "2023-03-21T10:45:27.877Z"
   },
   {
    "duration": 6,
    "start_time": "2023-03-21T10:45:28.000Z"
   },
   {
    "duration": 8,
    "start_time": "2023-03-21T10:45:28.008Z"
   },
   {
    "duration": 9,
    "start_time": "2023-03-21T10:45:28.018Z"
   },
   {
    "duration": 7,
    "start_time": "2023-03-21T10:45:28.029Z"
   },
   {
    "duration": 7,
    "start_time": "2023-03-21T10:45:28.037Z"
   },
   {
    "duration": 7,
    "start_time": "2023-03-21T10:45:28.046Z"
   },
   {
    "duration": 9,
    "start_time": "2023-03-21T10:45:28.054Z"
   },
   {
    "duration": 85,
    "start_time": "2023-03-21T10:45:28.065Z"
   },
   {
    "duration": 10,
    "start_time": "2023-03-21T10:45:28.152Z"
   },
   {
    "duration": 10,
    "start_time": "2023-03-21T10:45:28.164Z"
   },
   {
    "duration": 5,
    "start_time": "2023-03-21T10:45:28.176Z"
   },
   {
    "duration": 7,
    "start_time": "2023-03-21T10:45:28.210Z"
   },
   {
    "duration": 10,
    "start_time": "2023-03-21T10:45:28.219Z"
   },
   {
    "duration": 12,
    "start_time": "2023-03-21T10:45:28.231Z"
   },
   {
    "duration": 25,
    "start_time": "2023-03-21T10:45:28.244Z"
   },
   {
    "duration": 59,
    "start_time": "2023-03-21T10:45:28.270Z"
   },
   {
    "duration": 15,
    "start_time": "2023-03-21T10:49:59.501Z"
   },
   {
    "duration": 4,
    "start_time": "2023-03-21T11:10:30.619Z"
   },
   {
    "duration": 8,
    "start_time": "2023-03-21T11:10:39.098Z"
   },
   {
    "duration": 8,
    "start_time": "2023-03-21T11:10:57.350Z"
   },
   {
    "duration": 9,
    "start_time": "2023-03-21T11:11:02.032Z"
   },
   {
    "duration": 8,
    "start_time": "2023-03-21T11:11:14.508Z"
   },
   {
    "duration": 77,
    "start_time": "2023-03-21T11:26:57.324Z"
   },
   {
    "duration": 7,
    "start_time": "2023-03-21T11:37:19.732Z"
   },
   {
    "duration": 79,
    "start_time": "2023-03-21T11:54:08.139Z"
   },
   {
    "duration": 817,
    "start_time": "2023-03-22T10:02:16.748Z"
   },
   {
    "duration": 855,
    "start_time": "2023-03-22T10:02:17.567Z"
   },
   {
    "duration": 18,
    "start_time": "2023-03-22T10:02:18.423Z"
   },
   {
    "duration": 57,
    "start_time": "2023-03-22T10:02:18.442Z"
   },
   {
    "duration": 80,
    "start_time": "2023-03-22T10:02:18.501Z"
   },
   {
    "duration": 8,
    "start_time": "2023-03-22T10:02:18.583Z"
   },
   {
    "duration": 18,
    "start_time": "2023-03-22T10:02:18.592Z"
   },
   {
    "duration": 8,
    "start_time": "2023-03-22T10:02:18.611Z"
   },
   {
    "duration": 28,
    "start_time": "2023-03-22T10:02:18.620Z"
   },
   {
    "duration": 958,
    "start_time": "2023-03-22T10:02:18.650Z"
   },
   {
    "duration": 11,
    "start_time": "2023-03-22T10:02:19.609Z"
   },
   {
    "duration": 50,
    "start_time": "2023-03-22T10:02:19.621Z"
   },
   {
    "duration": 8,
    "start_time": "2023-03-22T10:02:19.672Z"
   },
   {
    "duration": 30,
    "start_time": "2023-03-22T10:02:19.683Z"
   },
   {
    "duration": 11,
    "start_time": "2023-03-22T10:02:19.714Z"
   },
   {
    "duration": 23,
    "start_time": "2023-03-22T10:02:19.726Z"
   },
   {
    "duration": 13,
    "start_time": "2023-03-22T10:02:19.751Z"
   },
   {
    "duration": 934,
    "start_time": "2023-03-22T10:02:19.765Z"
   },
   {
    "duration": 16,
    "start_time": "2023-03-22T10:02:20.701Z"
   },
   {
    "duration": 313,
    "start_time": "2023-03-22T10:02:20.718Z"
   },
   {
    "duration": 303,
    "start_time": "2023-03-22T10:02:21.032Z"
   },
   {
    "duration": 352,
    "start_time": "2023-03-22T10:02:21.336Z"
   },
   {
    "duration": 78,
    "start_time": "2023-03-22T10:02:21.690Z"
   },
   {
    "duration": 10,
    "start_time": "2023-03-22T10:02:21.770Z"
   },
   {
    "duration": 18,
    "start_time": "2023-03-22T10:02:21.782Z"
   },
   {
    "duration": 65,
    "start_time": "2023-03-22T10:02:21.801Z"
   },
   {
    "duration": 34,
    "start_time": "2023-03-22T10:02:21.868Z"
   },
   {
    "duration": 9,
    "start_time": "2023-03-22T10:02:21.904Z"
   },
   {
    "duration": 58,
    "start_time": "2023-03-22T10:02:21.915Z"
   },
   {
    "duration": 34,
    "start_time": "2023-03-22T10:02:21.975Z"
   },
   {
    "duration": 71,
    "start_time": "2023-03-22T10:02:22.011Z"
   },
   {
    "duration": 6,
    "start_time": "2023-03-22T10:02:22.084Z"
   },
   {
    "duration": 21,
    "start_time": "2023-03-22T10:02:22.091Z"
   },
   {
    "duration": 28,
    "start_time": "2023-03-22T10:02:22.113Z"
   },
   {
    "duration": 14,
    "start_time": "2023-03-22T10:02:22.142Z"
   },
   {
    "duration": 21,
    "start_time": "2023-03-22T10:02:22.158Z"
   },
   {
    "duration": 11,
    "start_time": "2023-03-22T10:02:22.181Z"
   },
   {
    "duration": 30,
    "start_time": "2023-03-22T10:02:22.194Z"
   },
   {
    "duration": 35,
    "start_time": "2023-03-22T10:02:22.226Z"
   },
   {
    "duration": 4,
    "start_time": "2023-03-22T10:02:22.263Z"
   },
   {
    "duration": 88,
    "start_time": "2023-03-22T10:02:22.271Z"
   },
   {
    "duration": 9,
    "start_time": "2023-03-22T10:02:22.360Z"
   },
   {
    "duration": 88,
    "start_time": "2023-03-22T10:02:22.370Z"
   },
   {
    "duration": 6,
    "start_time": "2023-03-22T10:02:22.459Z"
   },
   {
    "duration": 92,
    "start_time": "2023-03-22T10:02:22.466Z"
   },
   {
    "duration": 5,
    "start_time": "2023-03-22T10:02:22.560Z"
   },
   {
    "duration": 10,
    "start_time": "2023-03-22T10:02:22.567Z"
   },
   {
    "duration": 17,
    "start_time": "2023-03-22T10:02:22.578Z"
   },
   {
    "duration": 29,
    "start_time": "2023-03-22T10:02:22.596Z"
   },
   {
    "duration": 17,
    "start_time": "2023-03-22T10:02:22.626Z"
   },
   {
    "duration": 20,
    "start_time": "2023-03-22T10:02:22.644Z"
   },
   {
    "duration": 16,
    "start_time": "2023-03-22T10:02:22.665Z"
   },
   {
    "duration": 67,
    "start_time": "2023-03-22T10:02:22.683Z"
   },
   {
    "duration": 9,
    "start_time": "2023-03-22T10:02:22.752Z"
   },
   {
    "duration": 21,
    "start_time": "2023-03-22T10:02:22.762Z"
   },
   {
    "duration": 16,
    "start_time": "2023-03-22T10:02:22.785Z"
   },
   {
    "duration": 15,
    "start_time": "2023-03-22T10:02:22.803Z"
   },
   {
    "duration": 19,
    "start_time": "2023-03-22T10:02:22.820Z"
   },
   {
    "duration": 13,
    "start_time": "2023-03-22T10:02:22.841Z"
   },
   {
    "duration": 29,
    "start_time": "2023-03-22T10:02:22.855Z"
   },
   {
    "duration": 29,
    "start_time": "2023-03-22T10:02:22.886Z"
   },
   {
    "duration": 13,
    "start_time": "2023-03-22T10:04:45.911Z"
   },
   {
    "duration": 76,
    "start_time": "2023-03-22T18:19:13.339Z"
   },
   {
    "duration": 1039,
    "start_time": "2023-03-22T18:19:17.618Z"
   },
   {
    "duration": 1028,
    "start_time": "2023-03-22T18:19:18.661Z"
   },
   {
    "duration": 35,
    "start_time": "2023-03-22T18:19:19.692Z"
   },
   {
    "duration": 97,
    "start_time": "2023-03-22T18:19:19.730Z"
   },
   {
    "duration": 125,
    "start_time": "2023-03-22T18:19:19.831Z"
   },
   {
    "duration": 11,
    "start_time": "2023-03-22T18:19:19.959Z"
   },
   {
    "duration": 27,
    "start_time": "2023-03-22T18:19:19.972Z"
   },
   {
    "duration": 12,
    "start_time": "2023-03-22T18:19:20.001Z"
   },
   {
    "duration": 41,
    "start_time": "2023-03-22T18:19:20.015Z"
   },
   {
    "duration": 1603,
    "start_time": "2023-03-22T18:19:20.058Z"
   },
   {
    "duration": 24,
    "start_time": "2023-03-22T18:19:21.664Z"
   },
   {
    "duration": 71,
    "start_time": "2023-03-22T18:19:21.690Z"
   },
   {
    "duration": 14,
    "start_time": "2023-03-22T18:19:21.764Z"
   },
   {
    "duration": 26,
    "start_time": "2023-03-22T18:19:21.782Z"
   },
   {
    "duration": 5,
    "start_time": "2023-03-22T18:19:21.811Z"
   },
   {
    "duration": 7,
    "start_time": "2023-03-22T18:19:21.841Z"
   },
   {
    "duration": 4,
    "start_time": "2023-03-22T18:19:21.851Z"
   },
   {
    "duration": 1948,
    "start_time": "2023-03-22T18:19:21.857Z"
   },
   {
    "duration": 44,
    "start_time": "2023-03-22T18:19:23.808Z"
   },
   {
    "duration": 587,
    "start_time": "2023-03-22T18:19:23.854Z"
   },
   {
    "duration": 680,
    "start_time": "2023-03-22T18:19:24.444Z"
   },
   {
    "duration": 575,
    "start_time": "2023-03-22T18:19:25.127Z"
   },
   {
    "duration": 92,
    "start_time": "2023-03-22T18:19:25.707Z"
   },
   {
    "duration": 22,
    "start_time": "2023-03-22T18:19:25.801Z"
   },
   {
    "duration": 29,
    "start_time": "2023-03-22T18:19:25.825Z"
   },
   {
    "duration": 117,
    "start_time": "2023-03-22T18:19:25.856Z"
   },
   {
    "duration": 76,
    "start_time": "2023-03-22T18:19:25.975Z"
   },
   {
    "duration": 16,
    "start_time": "2023-03-22T18:19:26.055Z"
   },
   {
    "duration": 83,
    "start_time": "2023-03-22T18:19:26.073Z"
   },
   {
    "duration": 61,
    "start_time": "2023-03-22T18:19:26.159Z"
   },
   {
    "duration": 119,
    "start_time": "2023-03-22T18:19:26.223Z"
   },
   {
    "duration": 11,
    "start_time": "2023-03-22T18:19:26.345Z"
   },
   {
    "duration": 10,
    "start_time": "2023-03-22T18:19:26.359Z"
   },
   {
    "duration": 23,
    "start_time": "2023-03-22T18:19:26.372Z"
   },
   {
    "duration": 45,
    "start_time": "2023-03-22T18:19:26.397Z"
   },
   {
    "duration": 26,
    "start_time": "2023-03-22T18:19:26.445Z"
   },
   {
    "duration": 8,
    "start_time": "2023-03-22T18:19:26.473Z"
   },
   {
    "duration": 30,
    "start_time": "2023-03-22T18:19:26.484Z"
   },
   {
    "duration": 77,
    "start_time": "2023-03-22T18:19:26.518Z"
   },
   {
    "duration": 72,
    "start_time": "2023-03-22T18:19:26.597Z"
   },
   {
    "duration": 7,
    "start_time": "2023-03-22T18:19:26.675Z"
   },
   {
    "duration": 122,
    "start_time": "2023-03-22T18:19:26.684Z"
   },
   {
    "duration": 12,
    "start_time": "2023-03-22T18:19:26.809Z"
   },
   {
    "duration": 133,
    "start_time": "2023-03-22T18:19:26.823Z"
   },
   {
    "duration": 9,
    "start_time": "2023-03-22T18:19:26.959Z"
   },
   {
    "duration": 144,
    "start_time": "2023-03-22T18:19:26.970Z"
   },
   {
    "duration": 6,
    "start_time": "2023-03-22T18:19:27.117Z"
   },
   {
    "duration": 21,
    "start_time": "2023-03-22T18:19:27.126Z"
   },
   {
    "duration": 7,
    "start_time": "2023-03-22T18:19:27.150Z"
   },
   {
    "duration": 11,
    "start_time": "2023-03-22T18:19:27.160Z"
   },
   {
    "duration": 7,
    "start_time": "2023-03-22T18:19:27.174Z"
   },
   {
    "duration": 9,
    "start_time": "2023-03-22T18:19:27.183Z"
   },
   {
    "duration": 51,
    "start_time": "2023-03-22T18:19:27.194Z"
   },
   {
    "duration": 116,
    "start_time": "2023-03-22T18:19:27.247Z"
   },
   {
    "duration": 14,
    "start_time": "2023-03-22T18:19:27.366Z"
   },
   {
    "duration": 23,
    "start_time": "2023-03-22T18:19:27.383Z"
   },
   {
    "duration": 33,
    "start_time": "2023-03-22T18:19:27.409Z"
   },
   {
    "duration": 19,
    "start_time": "2023-03-22T18:19:27.445Z"
   },
   {
    "duration": 13,
    "start_time": "2023-03-22T18:19:27.466Z"
   },
   {
    "duration": 16,
    "start_time": "2023-03-22T18:19:27.482Z"
   },
   {
    "duration": 72,
    "start_time": "2023-03-22T18:19:27.501Z"
   },
   {
    "duration": 95,
    "start_time": "2023-03-22T18:19:27.576Z"
   },
   {
    "duration": 1117,
    "start_time": "2023-03-22T18:22:33.268Z"
   },
   {
    "duration": 274,
    "start_time": "2023-03-22T18:22:34.389Z"
   },
   {
    "duration": 36,
    "start_time": "2023-03-22T18:22:34.666Z"
   },
   {
    "duration": 128,
    "start_time": "2023-03-22T18:22:34.704Z"
   },
   {
    "duration": 132,
    "start_time": "2023-03-22T18:22:34.834Z"
   },
   {
    "duration": 12,
    "start_time": "2023-03-22T18:22:34.974Z"
   },
   {
    "duration": 28,
    "start_time": "2023-03-22T18:22:34.988Z"
   },
   {
    "duration": 15,
    "start_time": "2023-03-22T18:22:35.018Z"
   },
   {
    "duration": 21,
    "start_time": "2023-03-22T18:22:35.043Z"
   },
   {
    "duration": 1346,
    "start_time": "2023-03-22T18:22:35.070Z"
   },
   {
    "duration": 31,
    "start_time": "2023-03-22T18:22:36.418Z"
   },
   {
    "duration": 50,
    "start_time": "2023-03-22T18:22:36.451Z"
   },
   {
    "duration": 10,
    "start_time": "2023-03-22T18:22:36.504Z"
   },
   {
    "duration": 37,
    "start_time": "2023-03-22T18:22:36.517Z"
   },
   {
    "duration": 7,
    "start_time": "2023-03-22T18:22:36.557Z"
   },
   {
    "duration": 10,
    "start_time": "2023-03-22T18:22:36.567Z"
   },
   {
    "duration": 14,
    "start_time": "2023-03-22T18:22:36.579Z"
   },
   {
    "duration": 1575,
    "start_time": "2023-03-22T18:22:36.596Z"
   },
   {
    "duration": 30,
    "start_time": "2023-03-22T18:22:38.173Z"
   },
   {
    "duration": 553,
    "start_time": "2023-03-22T18:22:38.205Z"
   },
   {
    "duration": 586,
    "start_time": "2023-03-22T18:22:38.761Z"
   },
   {
    "duration": 697,
    "start_time": "2023-03-22T18:22:39.350Z"
   },
   {
    "duration": 102,
    "start_time": "2023-03-22T18:22:40.050Z"
   },
   {
    "duration": 32,
    "start_time": "2023-03-22T18:22:40.158Z"
   },
   {
    "duration": 19,
    "start_time": "2023-03-22T18:22:40.193Z"
   },
   {
    "duration": 96,
    "start_time": "2023-03-22T18:22:40.218Z"
   },
   {
    "duration": 71,
    "start_time": "2023-03-22T18:22:40.317Z"
   },
   {
    "duration": 15,
    "start_time": "2023-03-22T18:22:40.393Z"
   },
   {
    "duration": 97,
    "start_time": "2023-03-22T18:22:40.411Z"
   },
   {
    "duration": 59,
    "start_time": "2023-03-22T18:22:40.511Z"
   },
   {
    "duration": 104,
    "start_time": "2023-03-22T18:22:40.572Z"
   },
   {
    "duration": 22,
    "start_time": "2023-03-22T18:22:40.679Z"
   },
   {
    "duration": 13,
    "start_time": "2023-03-22T18:22:40.708Z"
   },
   {
    "duration": 22,
    "start_time": "2023-03-22T18:22:40.724Z"
   },
   {
    "duration": 10,
    "start_time": "2023-03-22T18:22:40.748Z"
   },
   {
    "duration": 30,
    "start_time": "2023-03-22T18:22:40.760Z"
   },
   {
    "duration": 6,
    "start_time": "2023-03-22T18:22:40.793Z"
   },
   {
    "duration": 87,
    "start_time": "2023-03-22T18:22:40.801Z"
   },
   {
    "duration": 38,
    "start_time": "2023-03-22T18:22:40.891Z"
   },
   {
    "duration": 68,
    "start_time": "2023-03-22T18:22:40.938Z"
   },
   {
    "duration": 9,
    "start_time": "2023-03-22T18:22:41.012Z"
   },
   {
    "duration": 106,
    "start_time": "2023-03-22T18:22:41.032Z"
   },
   {
    "duration": 14,
    "start_time": "2023-03-22T18:22:41.141Z"
   },
   {
    "duration": 120,
    "start_time": "2023-03-22T18:22:41.158Z"
   },
   {
    "duration": 8,
    "start_time": "2023-03-22T18:22:41.280Z"
   },
   {
    "duration": 106,
    "start_time": "2023-03-22T18:22:41.290Z"
   },
   {
    "duration": 6,
    "start_time": "2023-03-22T18:22:41.398Z"
   },
   {
    "duration": 19,
    "start_time": "2023-03-22T18:22:41.406Z"
   },
   {
    "duration": 15,
    "start_time": "2023-03-22T18:22:41.433Z"
   },
   {
    "duration": 6,
    "start_time": "2023-03-22T18:22:41.465Z"
   },
   {
    "duration": 8,
    "start_time": "2023-03-22T18:22:41.473Z"
   },
   {
    "duration": 12,
    "start_time": "2023-03-22T18:22:41.484Z"
   },
   {
    "duration": 11,
    "start_time": "2023-03-22T18:22:41.498Z"
   },
   {
    "duration": 114,
    "start_time": "2023-03-22T18:22:41.510Z"
   },
   {
    "duration": 18,
    "start_time": "2023-03-22T18:22:41.625Z"
   },
   {
    "duration": 18,
    "start_time": "2023-03-22T18:22:41.645Z"
   },
   {
    "duration": 9,
    "start_time": "2023-03-22T18:22:41.666Z"
   },
   {
    "duration": 22,
    "start_time": "2023-03-22T18:22:41.678Z"
   },
   {
    "duration": 10,
    "start_time": "2023-03-22T18:22:41.702Z"
   },
   {
    "duration": 28,
    "start_time": "2023-03-22T18:22:41.715Z"
   },
   {
    "duration": 40,
    "start_time": "2023-03-22T18:22:41.746Z"
   },
   {
    "duration": 65,
    "start_time": "2023-03-22T18:22:41.787Z"
   },
   {
    "duration": 149,
    "start_time": "2023-03-22T18:29:49.278Z"
   },
   {
    "duration": 26,
    "start_time": "2023-03-22T18:38:49.900Z"
   },
   {
    "duration": 13,
    "start_time": "2023-03-22T18:39:00.610Z"
   },
   {
    "duration": 8,
    "start_time": "2023-03-22T18:39:30.022Z"
   },
   {
    "duration": 12,
    "start_time": "2023-03-22T18:40:45.382Z"
   },
   {
    "duration": 7,
    "start_time": "2023-03-22T18:40:51.025Z"
   },
   {
    "duration": 7,
    "start_time": "2023-03-22T18:40:51.496Z"
   },
   {
    "duration": 16,
    "start_time": "2023-03-22T18:40:52.158Z"
   },
   {
    "duration": 18,
    "start_time": "2023-03-22T18:40:59.990Z"
   },
   {
    "duration": 14,
    "start_time": "2023-03-22T18:41:27.087Z"
   },
   {
    "duration": 13,
    "start_time": "2023-03-22T18:41:46.688Z"
   },
   {
    "duration": 20,
    "start_time": "2023-03-22T18:41:48.157Z"
   },
   {
    "duration": 27,
    "start_time": "2023-03-22T18:41:49.137Z"
   },
   {
    "duration": 15,
    "start_time": "2023-03-22T18:44:53.524Z"
   },
   {
    "duration": 94,
    "start_time": "2023-03-22T18:45:04.242Z"
   },
   {
    "duration": 134,
    "start_time": "2023-03-22T18:45:44.998Z"
   },
   {
    "duration": 144,
    "start_time": "2023-03-22T18:45:53.263Z"
   },
   {
    "duration": 14,
    "start_time": "2023-03-22T18:46:02.689Z"
   },
   {
    "duration": 4,
    "start_time": "2023-03-22T18:47:58.535Z"
   },
   {
    "duration": 17,
    "start_time": "2023-03-22T18:49:08.688Z"
   },
   {
    "duration": 237,
    "start_time": "2023-03-22T18:49:55.226Z"
   },
   {
    "duration": 9,
    "start_time": "2023-03-22T18:50:33.358Z"
   },
   {
    "duration": 12,
    "start_time": "2023-03-22T18:51:02.559Z"
   },
   {
    "duration": 13,
    "start_time": "2023-03-22T18:51:45.997Z"
   },
   {
    "duration": 10,
    "start_time": "2023-03-22T18:52:04.353Z"
   },
   {
    "duration": 11,
    "start_time": "2023-03-22T18:52:04.855Z"
   },
   {
    "duration": 10,
    "start_time": "2023-03-22T18:52:41.595Z"
   },
   {
    "duration": 10,
    "start_time": "2023-03-22T19:05:42.570Z"
   },
   {
    "duration": 10,
    "start_time": "2023-03-22T19:06:08.469Z"
   },
   {
    "duration": 11,
    "start_time": "2023-03-22T19:08:42.190Z"
   },
   {
    "duration": 11,
    "start_time": "2023-03-22T19:08:45.847Z"
   },
   {
    "duration": 9,
    "start_time": "2023-03-22T19:08:47.966Z"
   },
   {
    "duration": 9,
    "start_time": "2023-03-22T19:09:34.223Z"
   },
   {
    "duration": 8,
    "start_time": "2023-03-22T19:09:36.198Z"
   },
   {
    "duration": 10,
    "start_time": "2023-03-22T19:09:40.380Z"
   },
   {
    "duration": 862,
    "start_time": "2023-03-22T19:12:57.156Z"
   },
   {
    "duration": 782,
    "start_time": "2023-03-22T19:12:58.020Z"
   },
   {
    "duration": 21,
    "start_time": "2023-03-22T19:12:58.804Z"
   },
   {
    "duration": 64,
    "start_time": "2023-03-22T19:12:58.826Z"
   },
   {
    "duration": 97,
    "start_time": "2023-03-22T19:12:58.892Z"
   },
   {
    "duration": 11,
    "start_time": "2023-03-22T19:12:58.992Z"
   },
   {
    "duration": 34,
    "start_time": "2023-03-22T19:12:59.006Z"
   },
   {
    "duration": 11,
    "start_time": "2023-03-22T19:12:59.043Z"
   },
   {
    "duration": 18,
    "start_time": "2023-03-22T19:12:59.057Z"
   },
   {
    "duration": 1140,
    "start_time": "2023-03-22T19:12:59.078Z"
   },
   {
    "duration": 22,
    "start_time": "2023-03-22T19:13:00.220Z"
   },
   {
    "duration": 70,
    "start_time": "2023-03-22T19:13:00.244Z"
   },
   {
    "duration": 11,
    "start_time": "2023-03-22T19:13:00.315Z"
   },
   {
    "duration": 42,
    "start_time": "2023-03-22T19:13:00.329Z"
   },
   {
    "duration": 55,
    "start_time": "2023-03-22T19:13:00.373Z"
   },
   {
    "duration": 24,
    "start_time": "2023-03-22T19:13:00.430Z"
   },
   {
    "duration": 19,
    "start_time": "2023-03-22T19:13:00.455Z"
   },
   {
    "duration": 1075,
    "start_time": "2023-03-22T19:13:00.476Z"
   },
   {
    "duration": 19,
    "start_time": "2023-03-22T19:13:01.553Z"
   },
   {
    "duration": 385,
    "start_time": "2023-03-22T19:13:01.574Z"
   },
   {
    "duration": 346,
    "start_time": "2023-03-22T19:13:01.962Z"
   },
   {
    "duration": 459,
    "start_time": "2023-03-22T19:13:02.309Z"
   },
   {
    "duration": 55,
    "start_time": "2023-03-22T19:13:02.769Z"
   },
   {
    "duration": 25,
    "start_time": "2023-03-22T19:13:02.826Z"
   },
   {
    "duration": 21,
    "start_time": "2023-03-22T19:13:02.853Z"
   },
   {
    "duration": 59,
    "start_time": "2023-03-22T19:13:02.875Z"
   },
   {
    "duration": 36,
    "start_time": "2023-03-22T19:13:02.941Z"
   },
   {
    "duration": 8,
    "start_time": "2023-03-22T19:13:02.980Z"
   },
   {
    "duration": 65,
    "start_time": "2023-03-22T19:13:02.989Z"
   },
   {
    "duration": 34,
    "start_time": "2023-03-22T19:13:03.056Z"
   },
   {
    "duration": 73,
    "start_time": "2023-03-22T19:13:03.092Z"
   },
   {
    "duration": 8,
    "start_time": "2023-03-22T19:13:03.167Z"
   },
   {
    "duration": 8,
    "start_time": "2023-03-22T19:13:03.177Z"
   },
   {
    "duration": 21,
    "start_time": "2023-03-22T19:13:03.187Z"
   },
   {
    "duration": 13,
    "start_time": "2023-03-22T19:13:03.210Z"
   },
   {
    "duration": 29,
    "start_time": "2023-03-22T19:13:03.242Z"
   },
   {
    "duration": 20,
    "start_time": "2023-03-22T19:13:03.273Z"
   },
   {
    "duration": 51,
    "start_time": "2023-03-22T19:13:03.295Z"
   },
   {
    "duration": 33,
    "start_time": "2023-03-22T19:13:03.348Z"
   },
   {
    "duration": 35,
    "start_time": "2023-03-22T19:13:03.383Z"
   },
   {
    "duration": 6,
    "start_time": "2023-03-22T19:13:03.441Z"
   },
   {
    "duration": 75,
    "start_time": "2023-03-22T19:13:03.449Z"
   },
   {
    "duration": 16,
    "start_time": "2023-03-22T19:13:03.526Z"
   },
   {
    "duration": 68,
    "start_time": "2023-03-22T19:13:03.544Z"
   },
   {
    "duration": 5,
    "start_time": "2023-03-22T19:13:03.613Z"
   },
   {
    "duration": 87,
    "start_time": "2023-03-22T19:13:03.620Z"
   },
   {
    "duration": 5,
    "start_time": "2023-03-22T19:13:03.708Z"
   },
   {
    "duration": 118,
    "start_time": "2023-03-22T19:13:03.714Z"
   },
   {
    "duration": 9,
    "start_time": "2023-03-22T19:13:03.834Z"
   },
   {
    "duration": 6,
    "start_time": "2023-03-22T19:13:03.845Z"
   },
   {
    "duration": 218,
    "start_time": "2023-03-22T19:13:03.853Z"
   },
   {
    "duration": 8,
    "start_time": "2023-03-22T19:13:04.073Z"
   },
   {
    "duration": 15,
    "start_time": "2023-03-22T19:13:04.082Z"
   },
   {
    "duration": 9,
    "start_time": "2023-03-22T19:13:04.098Z"
   },
   {
    "duration": 9,
    "start_time": "2023-03-22T19:13:04.108Z"
   },
   {
    "duration": 9,
    "start_time": "2023-03-22T19:13:04.141Z"
   },
   {
    "duration": 15,
    "start_time": "2023-03-22T19:13:04.152Z"
   },
   {
    "duration": 30,
    "start_time": "2023-03-22T19:13:04.169Z"
   },
   {
    "duration": 39,
    "start_time": "2023-03-22T19:13:04.200Z"
   },
   {
    "duration": 31,
    "start_time": "2023-03-22T19:13:04.241Z"
   },
   {
    "duration": 9,
    "start_time": "2023-03-22T19:13:04.273Z"
   },
   {
    "duration": 16,
    "start_time": "2023-03-22T19:13:04.283Z"
   },
   {
    "duration": 6,
    "start_time": "2023-03-22T19:13:04.301Z"
   },
   {
    "duration": 14,
    "start_time": "2023-03-22T19:13:04.308Z"
   },
   {
    "duration": 27,
    "start_time": "2023-03-22T19:13:04.323Z"
   },
   {
    "duration": 5,
    "start_time": "2023-03-22T19:13:04.352Z"
   },
   {
    "duration": 14,
    "start_time": "2023-03-22T19:13:04.358Z"
   },
   {
    "duration": 25,
    "start_time": "2023-03-22T19:13:04.374Z"
   },
   {
    "duration": 6,
    "start_time": "2023-03-22T19:13:04.401Z"
   },
   {
    "duration": 8,
    "start_time": "2023-03-22T19:13:04.409Z"
   },
   {
    "duration": 6,
    "start_time": "2023-03-22T19:13:04.418Z"
   },
   {
    "duration": 9,
    "start_time": "2023-03-22T19:13:04.426Z"
   },
   {
    "duration": 3,
    "start_time": "2023-03-22T19:13:04.437Z"
   },
   {
    "duration": 5,
    "start_time": "2023-03-22T19:13:04.442Z"
   },
   {
    "duration": 10,
    "start_time": "2023-03-22T19:13:04.448Z"
   },
   {
    "duration": 8,
    "start_time": "2023-03-22T19:13:04.459Z"
   },
   {
    "duration": 25,
    "start_time": "2023-03-22T19:13:04.469Z"
   },
   {
    "duration": 107,
    "start_time": "2023-03-22T19:19:36.473Z"
   },
   {
    "duration": 8,
    "start_time": "2023-03-22T19:22:30.459Z"
   },
   {
    "duration": 10,
    "start_time": "2023-03-22T19:22:36.041Z"
   },
   {
    "duration": 10,
    "start_time": "2023-03-22T19:22:41.338Z"
   },
   {
    "duration": 9,
    "start_time": "2023-03-22T19:22:48.479Z"
   },
   {
    "duration": 11,
    "start_time": "2023-03-22T19:22:52.102Z"
   },
   {
    "duration": 10,
    "start_time": "2023-03-22T19:22:56.762Z"
   },
   {
    "duration": 8,
    "start_time": "2023-03-22T19:23:04.374Z"
   },
   {
    "duration": 107,
    "start_time": "2023-03-22T19:24:07.447Z"
   },
   {
    "duration": 880,
    "start_time": "2023-03-22T19:37:55.555Z"
   },
   {
    "duration": 206,
    "start_time": "2023-03-22T19:37:56.440Z"
   },
   {
    "duration": 32,
    "start_time": "2023-03-22T19:37:56.650Z"
   },
   {
    "duration": 83,
    "start_time": "2023-03-22T19:37:56.684Z"
   },
   {
    "duration": 94,
    "start_time": "2023-03-22T19:37:56.770Z"
   },
   {
    "duration": 8,
    "start_time": "2023-03-22T19:37:56.868Z"
   },
   {
    "duration": 17,
    "start_time": "2023-03-22T19:37:56.878Z"
   },
   {
    "duration": 9,
    "start_time": "2023-03-22T19:37:56.897Z"
   },
   {
    "duration": 28,
    "start_time": "2023-03-22T19:37:56.907Z"
   },
   {
    "duration": 1053,
    "start_time": "2023-03-22T19:37:56.937Z"
   },
   {
    "duration": 13,
    "start_time": "2023-03-22T19:37:57.992Z"
   },
   {
    "duration": 61,
    "start_time": "2023-03-22T19:37:58.006Z"
   },
   {
    "duration": 10,
    "start_time": "2023-03-22T19:37:58.069Z"
   },
   {
    "duration": 16,
    "start_time": "2023-03-22T19:37:58.082Z"
   },
   {
    "duration": 14,
    "start_time": "2023-03-22T19:37:58.100Z"
   },
   {
    "duration": 15,
    "start_time": "2023-03-22T19:37:58.116Z"
   },
   {
    "duration": 17,
    "start_time": "2023-03-22T19:37:58.132Z"
   },
   {
    "duration": 1341,
    "start_time": "2023-03-22T19:37:58.151Z"
   },
   {
    "duration": 24,
    "start_time": "2023-03-22T19:37:59.494Z"
   },
   {
    "duration": 406,
    "start_time": "2023-03-22T19:37:59.519Z"
   },
   {
    "duration": 374,
    "start_time": "2023-03-22T19:37:59.927Z"
   },
   {
    "duration": 488,
    "start_time": "2023-03-22T19:38:00.303Z"
   },
   {
    "duration": 76,
    "start_time": "2023-03-22T19:38:00.793Z"
   },
   {
    "duration": 13,
    "start_time": "2023-03-22T19:38:00.871Z"
   },
   {
    "duration": 26,
    "start_time": "2023-03-22T19:38:00.886Z"
   },
   {
    "duration": 109,
    "start_time": "2023-03-22T19:38:00.915Z"
   },
   {
    "duration": 40,
    "start_time": "2023-03-22T19:38:01.026Z"
   },
   {
    "duration": 9,
    "start_time": "2023-03-22T19:38:01.069Z"
   },
   {
    "duration": 84,
    "start_time": "2023-03-22T19:38:01.079Z"
   },
   {
    "duration": 39,
    "start_time": "2023-03-22T19:38:01.166Z"
   },
   {
    "duration": 98,
    "start_time": "2023-03-22T19:38:01.207Z"
   },
   {
    "duration": 7,
    "start_time": "2023-03-22T19:38:01.307Z"
   },
   {
    "duration": 32,
    "start_time": "2023-03-22T19:38:01.315Z"
   },
   {
    "duration": 45,
    "start_time": "2023-03-22T19:38:01.352Z"
   },
   {
    "duration": 33,
    "start_time": "2023-03-22T19:38:01.398Z"
   },
   {
    "duration": 44,
    "start_time": "2023-03-22T19:38:01.433Z"
   },
   {
    "duration": 27,
    "start_time": "2023-03-22T19:38:01.479Z"
   },
   {
    "duration": 81,
    "start_time": "2023-03-22T19:38:01.508Z"
   },
   {
    "duration": 41,
    "start_time": "2023-03-22T19:38:01.591Z"
   },
   {
    "duration": 72,
    "start_time": "2023-03-22T19:38:01.644Z"
   },
   {
    "duration": 4,
    "start_time": "2023-03-22T19:38:01.721Z"
   },
   {
    "duration": 129,
    "start_time": "2023-03-22T19:38:01.727Z"
   },
   {
    "duration": 13,
    "start_time": "2023-03-22T19:38:01.858Z"
   },
   {
    "duration": 94,
    "start_time": "2023-03-22T19:38:01.873Z"
   },
   {
    "duration": 5,
    "start_time": "2023-03-22T19:38:01.969Z"
   },
   {
    "duration": 103,
    "start_time": "2023-03-22T19:38:01.976Z"
   },
   {
    "duration": 4,
    "start_time": "2023-03-22T19:38:02.081Z"
   },
   {
    "duration": 142,
    "start_time": "2023-03-22T19:38:02.087Z"
   },
   {
    "duration": 15,
    "start_time": "2023-03-22T19:38:02.231Z"
   },
   {
    "duration": 17,
    "start_time": "2023-03-22T19:38:02.254Z"
   },
   {
    "duration": 246,
    "start_time": "2023-03-22T19:38:02.274Z"
   },
   {
    "duration": 8,
    "start_time": "2023-03-22T19:38:02.522Z"
   },
   {
    "duration": 27,
    "start_time": "2023-03-22T19:38:02.532Z"
   },
   {
    "duration": 40,
    "start_time": "2023-03-22T19:38:02.564Z"
   },
   {
    "duration": 18,
    "start_time": "2023-03-22T19:38:02.606Z"
   },
   {
    "duration": 33,
    "start_time": "2023-03-22T19:38:02.626Z"
   },
   {
    "duration": 11,
    "start_time": "2023-03-22T19:38:02.661Z"
   },
   {
    "duration": 20,
    "start_time": "2023-03-22T19:38:02.674Z"
   },
   {
    "duration": 22,
    "start_time": "2023-03-22T19:38:02.696Z"
   },
   {
    "duration": 54,
    "start_time": "2023-03-22T19:38:02.719Z"
   },
   {
    "duration": 9,
    "start_time": "2023-03-22T19:38:02.775Z"
   },
   {
    "duration": 36,
    "start_time": "2023-03-22T19:38:02.785Z"
   },
   {
    "duration": 25,
    "start_time": "2023-03-22T19:38:02.822Z"
   },
   {
    "duration": 24,
    "start_time": "2023-03-22T19:38:02.849Z"
   },
   {
    "duration": 28,
    "start_time": "2023-03-22T19:38:02.874Z"
   },
   {
    "duration": 16,
    "start_time": "2023-03-22T19:38:02.905Z"
   },
   {
    "duration": 31,
    "start_time": "2023-03-22T19:38:02.923Z"
   },
   {
    "duration": 16,
    "start_time": "2023-03-22T19:38:02.956Z"
   },
   {
    "duration": 37,
    "start_time": "2023-03-22T19:38:02.974Z"
   },
   {
    "duration": 36,
    "start_time": "2023-03-22T19:38:03.013Z"
   },
   {
    "duration": 21,
    "start_time": "2023-03-22T19:38:03.051Z"
   },
   {
    "duration": 24,
    "start_time": "2023-03-22T19:38:03.074Z"
   },
   {
    "duration": 20,
    "start_time": "2023-03-22T19:38:03.100Z"
   },
   {
    "duration": 9,
    "start_time": "2023-03-22T19:38:03.122Z"
   },
   {
    "duration": 9,
    "start_time": "2023-03-22T19:38:03.133Z"
   },
   {
    "duration": 24,
    "start_time": "2023-03-22T19:38:03.143Z"
   },
   {
    "duration": 28,
    "start_time": "2023-03-22T19:38:03.172Z"
   },
   {
    "duration": 896,
    "start_time": "2023-03-22T19:39:46.003Z"
   },
   {
    "duration": 206,
    "start_time": "2023-03-22T19:39:46.902Z"
   },
   {
    "duration": 46,
    "start_time": "2023-03-22T19:39:47.111Z"
   },
   {
    "duration": 76,
    "start_time": "2023-03-22T19:39:47.159Z"
   },
   {
    "duration": 100,
    "start_time": "2023-03-22T19:39:47.247Z"
   },
   {
    "duration": 16,
    "start_time": "2023-03-22T19:39:47.349Z"
   },
   {
    "duration": 17,
    "start_time": "2023-03-22T19:39:47.368Z"
   },
   {
    "duration": 13,
    "start_time": "2023-03-22T19:39:47.386Z"
   },
   {
    "duration": 14,
    "start_time": "2023-03-22T19:39:47.401Z"
   },
   {
    "duration": 1166,
    "start_time": "2023-03-22T19:39:47.417Z"
   },
   {
    "duration": 14,
    "start_time": "2023-03-22T19:39:48.585Z"
   },
   {
    "duration": 48,
    "start_time": "2023-03-22T19:39:48.600Z"
   },
   {
    "duration": 20,
    "start_time": "2023-03-22T19:39:48.649Z"
   },
   {
    "duration": 18,
    "start_time": "2023-03-22T19:39:48.673Z"
   },
   {
    "duration": 6,
    "start_time": "2023-03-22T19:39:48.693Z"
   },
   {
    "duration": 6,
    "start_time": "2023-03-22T19:39:48.701Z"
   },
   {
    "duration": 3,
    "start_time": "2023-03-22T19:39:48.709Z"
   },
   {
    "duration": 1311,
    "start_time": "2023-03-22T19:39:48.741Z"
   },
   {
    "duration": 33,
    "start_time": "2023-03-22T19:39:50.054Z"
   },
   {
    "duration": 420,
    "start_time": "2023-03-22T19:39:50.090Z"
   },
   {
    "duration": 384,
    "start_time": "2023-03-22T19:39:50.512Z"
   },
   {
    "duration": 478,
    "start_time": "2023-03-22T19:39:50.897Z"
   },
   {
    "duration": 65,
    "start_time": "2023-03-22T19:39:51.376Z"
   },
   {
    "duration": 28,
    "start_time": "2023-03-22T19:39:51.443Z"
   },
   {
    "duration": 10,
    "start_time": "2023-03-22T19:39:51.473Z"
   },
   {
    "duration": 95,
    "start_time": "2023-03-22T19:39:51.485Z"
   },
   {
    "duration": 64,
    "start_time": "2023-03-22T19:39:51.582Z"
   },
   {
    "duration": 11,
    "start_time": "2023-03-22T19:39:51.649Z"
   },
   {
    "duration": 67,
    "start_time": "2023-03-22T19:39:51.662Z"
   },
   {
    "duration": 53,
    "start_time": "2023-03-22T19:39:51.731Z"
   },
   {
    "duration": 82,
    "start_time": "2023-03-22T19:39:51.785Z"
   },
   {
    "duration": 11,
    "start_time": "2023-03-22T19:39:51.870Z"
   },
   {
    "duration": 6,
    "start_time": "2023-03-22T19:39:51.883Z"
   },
   {
    "duration": 20,
    "start_time": "2023-03-22T19:39:51.891Z"
   },
   {
    "duration": 7,
    "start_time": "2023-03-22T19:39:51.913Z"
   },
   {
    "duration": 19,
    "start_time": "2023-03-22T19:39:51.951Z"
   },
   {
    "duration": 4,
    "start_time": "2023-03-22T19:39:51.972Z"
   },
   {
    "duration": 59,
    "start_time": "2023-03-22T19:39:51.978Z"
   },
   {
    "duration": 44,
    "start_time": "2023-03-22T19:39:52.045Z"
   },
   {
    "duration": 35,
    "start_time": "2023-03-22T19:39:52.090Z"
   },
   {
    "duration": 80,
    "start_time": "2023-03-22T19:39:52.142Z"
   },
   {
    "duration": 20,
    "start_time": "2023-03-22T19:39:52.223Z"
   },
   {
    "duration": 80,
    "start_time": "2023-03-22T19:39:52.245Z"
   },
   {
    "duration": 15,
    "start_time": "2023-03-22T19:39:52.326Z"
   },
   {
    "duration": 85,
    "start_time": "2023-03-22T19:39:52.343Z"
   },
   {
    "duration": 126,
    "start_time": "2023-03-22T19:39:52.429Z"
   },
   {
    "duration": 11,
    "start_time": "2023-03-22T19:39:52.569Z"
   },
   {
    "duration": 20,
    "start_time": "2023-03-22T19:39:52.582Z"
   },
   {
    "duration": 254,
    "start_time": "2023-03-22T19:39:52.604Z"
   },
   {
    "duration": 13,
    "start_time": "2023-03-22T19:39:52.860Z"
   },
   {
    "duration": 20,
    "start_time": "2023-03-22T19:39:52.875Z"
   },
   {
    "duration": 10,
    "start_time": "2023-03-22T19:39:52.897Z"
   },
   {
    "duration": 19,
    "start_time": "2023-03-22T19:39:52.908Z"
   },
   {
    "duration": 22,
    "start_time": "2023-03-22T19:39:52.929Z"
   },
   {
    "duration": 14,
    "start_time": "2023-03-22T19:39:52.953Z"
   },
   {
    "duration": 11,
    "start_time": "2023-03-22T19:39:52.969Z"
   },
   {
    "duration": 10,
    "start_time": "2023-03-22T19:39:52.982Z"
   },
   {
    "duration": 10,
    "start_time": "2023-03-22T19:39:52.993Z"
   },
   {
    "duration": 9,
    "start_time": "2023-03-22T19:39:53.004Z"
   },
   {
    "duration": 17,
    "start_time": "2023-03-22T19:39:53.040Z"
   },
   {
    "duration": 8,
    "start_time": "2023-03-22T19:39:53.059Z"
   },
   {
    "duration": 10,
    "start_time": "2023-03-22T19:39:53.070Z"
   },
   {
    "duration": 4,
    "start_time": "2023-03-22T19:39:53.081Z"
   },
   {
    "duration": 4,
    "start_time": "2023-03-22T19:39:53.087Z"
   },
   {
    "duration": 9,
    "start_time": "2023-03-22T19:39:53.092Z"
   },
   {
    "duration": 4,
    "start_time": "2023-03-22T19:39:53.102Z"
   },
   {
    "duration": 3,
    "start_time": "2023-03-22T19:39:53.108Z"
   },
   {
    "duration": 3,
    "start_time": "2023-03-22T19:39:53.113Z"
   },
   {
    "duration": 23,
    "start_time": "2023-03-22T19:39:53.118Z"
   },
   {
    "duration": 10,
    "start_time": "2023-03-22T19:39:53.142Z"
   },
   {
    "duration": 7,
    "start_time": "2023-03-22T19:39:53.156Z"
   },
   {
    "duration": 3,
    "start_time": "2023-03-22T19:39:53.166Z"
   },
   {
    "duration": 18,
    "start_time": "2023-03-22T19:39:53.170Z"
   },
   {
    "duration": 6,
    "start_time": "2023-03-22T19:39:53.190Z"
   },
   {
    "duration": 7,
    "start_time": "2023-03-22T19:39:53.197Z"
   },
   {
    "duration": 890,
    "start_time": "2023-03-23T10:44:16.105Z"
   },
   {
    "duration": 184,
    "start_time": "2023-03-23T10:44:16.998Z"
   },
   {
    "duration": 17,
    "start_time": "2023-03-23T10:44:17.183Z"
   },
   {
    "duration": 71,
    "start_time": "2023-03-23T10:44:17.202Z"
   },
   {
    "duration": 74,
    "start_time": "2023-03-23T10:44:17.275Z"
   },
   {
    "duration": 7,
    "start_time": "2023-03-23T10:44:17.351Z"
   },
   {
    "duration": 13,
    "start_time": "2023-03-23T10:44:17.359Z"
   },
   {
    "duration": 8,
    "start_time": "2023-03-23T10:44:17.373Z"
   },
   {
    "duration": 11,
    "start_time": "2023-03-23T10:44:17.382Z"
   },
   {
    "duration": 988,
    "start_time": "2023-03-23T10:44:17.394Z"
   },
   {
    "duration": 11,
    "start_time": "2023-03-23T10:44:18.384Z"
   },
   {
    "duration": 44,
    "start_time": "2023-03-23T10:44:18.396Z"
   },
   {
    "duration": 8,
    "start_time": "2023-03-23T10:44:18.441Z"
   },
   {
    "duration": 13,
    "start_time": "2023-03-23T10:44:18.451Z"
   },
   {
    "duration": 4,
    "start_time": "2023-03-23T10:44:18.466Z"
   },
   {
    "duration": 4,
    "start_time": "2023-03-23T10:44:18.471Z"
   },
   {
    "duration": 2,
    "start_time": "2023-03-23T10:44:18.476Z"
   },
   {
    "duration": 922,
    "start_time": "2023-03-23T10:44:18.480Z"
   },
   {
    "duration": 15,
    "start_time": "2023-03-23T10:44:19.403Z"
   },
   {
    "duration": 311,
    "start_time": "2023-03-23T10:44:19.419Z"
   },
   {
    "duration": 293,
    "start_time": "2023-03-23T10:44:19.732Z"
   },
   {
    "duration": 362,
    "start_time": "2023-03-23T10:44:20.026Z"
   },
   {
    "duration": 52,
    "start_time": "2023-03-23T10:44:20.390Z"
   },
   {
    "duration": 10,
    "start_time": "2023-03-23T10:44:20.443Z"
   },
   {
    "duration": 18,
    "start_time": "2023-03-23T10:44:20.455Z"
   },
   {
    "duration": 69,
    "start_time": "2023-03-23T10:44:20.474Z"
   },
   {
    "duration": 36,
    "start_time": "2023-03-23T10:44:20.545Z"
   },
   {
    "duration": 7,
    "start_time": "2023-03-23T10:44:20.582Z"
   },
   {
    "duration": 63,
    "start_time": "2023-03-23T10:44:20.591Z"
   },
   {
    "duration": 32,
    "start_time": "2023-03-23T10:44:20.655Z"
   },
   {
    "duration": 70,
    "start_time": "2023-03-23T10:44:20.688Z"
   },
   {
    "duration": 5,
    "start_time": "2023-03-23T10:44:20.760Z"
   },
   {
    "duration": 7,
    "start_time": "2023-03-23T10:44:20.767Z"
   },
   {
    "duration": 11,
    "start_time": "2023-03-23T10:44:20.775Z"
   },
   {
    "duration": 6,
    "start_time": "2023-03-23T10:44:20.787Z"
   },
   {
    "duration": 15,
    "start_time": "2023-03-23T10:44:20.794Z"
   },
   {
    "duration": 30,
    "start_time": "2023-03-23T10:44:20.811Z"
   },
   {
    "duration": 46,
    "start_time": "2023-03-23T10:44:20.842Z"
   },
   {
    "duration": 30,
    "start_time": "2023-03-23T10:44:20.890Z"
   },
   {
    "duration": 47,
    "start_time": "2023-03-23T10:44:20.921Z"
   },
   {
    "duration": 71,
    "start_time": "2023-03-23T10:44:20.972Z"
   },
   {
    "duration": 8,
    "start_time": "2023-03-23T10:44:21.044Z"
   },
   {
    "duration": 62,
    "start_time": "2023-03-23T10:44:21.053Z"
   },
   {
    "duration": 6,
    "start_time": "2023-03-23T10:44:21.116Z"
   },
   {
    "duration": 87,
    "start_time": "2023-03-23T10:44:21.123Z"
   },
   {
    "duration": 104,
    "start_time": "2023-03-23T10:44:21.212Z"
   },
   {
    "duration": 6,
    "start_time": "2023-03-23T10:44:21.318Z"
   },
   {
    "duration": 28,
    "start_time": "2023-03-23T10:44:21.326Z"
   },
   {
    "duration": 195,
    "start_time": "2023-03-23T10:44:21.355Z"
   },
   {
    "duration": 9,
    "start_time": "2023-03-23T10:44:21.552Z"
   },
   {
    "duration": 38,
    "start_time": "2023-03-23T10:44:21.562Z"
   },
   {
    "duration": 17,
    "start_time": "2023-03-23T10:44:21.601Z"
   },
   {
    "duration": 16,
    "start_time": "2023-03-23T10:44:21.619Z"
   },
   {
    "duration": 17,
    "start_time": "2023-03-23T10:44:21.636Z"
   },
   {
    "duration": 17,
    "start_time": "2023-03-23T10:44:21.654Z"
   },
   {
    "duration": 27,
    "start_time": "2023-03-23T10:44:21.673Z"
   },
   {
    "duration": 10,
    "start_time": "2023-03-23T10:44:21.701Z"
   },
   {
    "duration": 30,
    "start_time": "2023-03-23T10:44:21.712Z"
   },
   {
    "duration": 50,
    "start_time": "2023-03-23T10:44:21.744Z"
   },
   {
    "duration": 9,
    "start_time": "2023-03-23T10:44:21.796Z"
   },
   {
    "duration": 4,
    "start_time": "2023-03-23T10:44:21.806Z"
   },
   {
    "duration": 4,
    "start_time": "2023-03-23T10:44:21.811Z"
   },
   {
    "duration": 3,
    "start_time": "2023-03-23T10:44:21.817Z"
   },
   {
    "duration": 20,
    "start_time": "2023-03-23T10:44:21.822Z"
   },
   {
    "duration": 24,
    "start_time": "2023-03-23T10:44:21.844Z"
   },
   {
    "duration": 4,
    "start_time": "2023-03-23T10:44:21.869Z"
   },
   {
    "duration": 9,
    "start_time": "2023-03-23T10:44:21.874Z"
   },
   {
    "duration": 4,
    "start_time": "2023-03-23T10:44:21.884Z"
   },
   {
    "duration": 8,
    "start_time": "2023-03-23T10:44:21.890Z"
   },
   {
    "duration": 25,
    "start_time": "2023-03-23T10:44:21.900Z"
   },
   {
    "duration": 5,
    "start_time": "2023-03-23T10:44:21.926Z"
   },
   {
    "duration": 3,
    "start_time": "2023-03-23T10:44:21.933Z"
   },
   {
    "duration": 3,
    "start_time": "2023-03-23T10:44:21.938Z"
   },
   {
    "duration": 5,
    "start_time": "2023-03-23T10:44:21.943Z"
   },
   {
    "duration": 4,
    "start_time": "2023-03-23T10:44:21.950Z"
   },
   {
    "duration": 10,
    "start_time": "2023-03-24T19:12:29.806Z"
   },
   {
    "duration": 836,
    "start_time": "2023-03-24T19:12:34.402Z"
   },
   {
    "duration": 863,
    "start_time": "2023-03-24T19:12:35.240Z"
   },
   {
    "duration": 20,
    "start_time": "2023-03-24T19:12:36.105Z"
   },
   {
    "duration": 72,
    "start_time": "2023-03-24T19:12:36.127Z"
   },
   {
    "duration": 95,
    "start_time": "2023-03-24T19:12:36.202Z"
   },
   {
    "duration": 8,
    "start_time": "2023-03-24T19:12:36.299Z"
   },
   {
    "duration": 14,
    "start_time": "2023-03-24T19:12:36.309Z"
   },
   {
    "duration": 8,
    "start_time": "2023-03-24T19:12:36.325Z"
   },
   {
    "duration": 12,
    "start_time": "2023-03-24T19:12:36.335Z"
   },
   {
    "duration": 926,
    "start_time": "2023-03-24T19:12:36.349Z"
   },
   {
    "duration": 11,
    "start_time": "2023-03-24T19:12:37.277Z"
   },
   {
    "duration": 32,
    "start_time": "2023-03-24T19:12:37.290Z"
   },
   {
    "duration": 9,
    "start_time": "2023-03-24T19:12:37.323Z"
   },
   {
    "duration": 41,
    "start_time": "2023-03-24T19:12:37.335Z"
   },
   {
    "duration": 5,
    "start_time": "2023-03-24T19:12:37.377Z"
   },
   {
    "duration": 13,
    "start_time": "2023-03-24T19:12:37.384Z"
   },
   {
    "duration": 2,
    "start_time": "2023-03-24T19:12:37.399Z"
   },
   {
    "duration": 1228,
    "start_time": "2023-03-24T19:12:37.402Z"
   },
   {
    "duration": 21,
    "start_time": "2023-03-24T19:12:38.632Z"
   },
   {
    "duration": 367,
    "start_time": "2023-03-24T19:12:38.655Z"
   },
   {
    "duration": 420,
    "start_time": "2023-03-24T19:12:39.024Z"
   },
   {
    "duration": 332,
    "start_time": "2023-03-24T19:12:39.446Z"
   },
   {
    "duration": 50,
    "start_time": "2023-03-24T19:12:39.780Z"
   },
   {
    "duration": 12,
    "start_time": "2023-03-24T19:12:39.832Z"
   },
   {
    "duration": 32,
    "start_time": "2023-03-24T19:12:39.846Z"
   },
   {
    "duration": 52,
    "start_time": "2023-03-24T19:12:39.879Z"
   },
   {
    "duration": 48,
    "start_time": "2023-03-24T19:12:39.932Z"
   },
   {
    "duration": 7,
    "start_time": "2023-03-24T19:12:39.982Z"
   },
   {
    "duration": 38,
    "start_time": "2023-03-24T19:12:39.990Z"
   },
   {
    "duration": 55,
    "start_time": "2023-03-24T19:12:40.030Z"
   },
   {
    "duration": 58,
    "start_time": "2023-03-24T19:12:40.086Z"
   },
   {
    "duration": 8,
    "start_time": "2023-03-24T19:12:40.145Z"
   },
   {
    "duration": 22,
    "start_time": "2023-03-24T19:12:40.154Z"
   },
   {
    "duration": 14,
    "start_time": "2023-03-24T19:12:40.177Z"
   },
   {
    "duration": 7,
    "start_time": "2023-03-24T19:12:40.193Z"
   },
   {
    "duration": 11,
    "start_time": "2023-03-24T19:12:40.201Z"
   },
   {
    "duration": 8,
    "start_time": "2023-03-24T19:12:40.214Z"
   },
   {
    "duration": 71,
    "start_time": "2023-03-24T19:12:40.224Z"
   },
   {
    "duration": 35,
    "start_time": "2023-03-24T19:12:40.296Z"
   },
   {
    "duration": 51,
    "start_time": "2023-03-24T19:12:40.333Z"
   },
   {
    "duration": 103,
    "start_time": "2023-03-24T19:12:40.390Z"
   },
   {
    "duration": 11,
    "start_time": "2023-03-24T19:12:40.494Z"
   },
   {
    "duration": 96,
    "start_time": "2023-03-24T19:12:40.507Z"
   },
   {
    "duration": 6,
    "start_time": "2023-03-24T19:12:40.604Z"
   },
   {
    "duration": 81,
    "start_time": "2023-03-24T19:12:40.612Z"
   },
   {
    "duration": 4,
    "start_time": "2023-03-24T19:12:40.694Z"
   },
   {
    "duration": 108,
    "start_time": "2023-03-24T19:12:40.700Z"
   },
   {
    "duration": 7,
    "start_time": "2023-03-24T19:12:40.810Z"
   },
   {
    "duration": 7,
    "start_time": "2023-03-24T19:12:40.819Z"
   },
   {
    "duration": 201,
    "start_time": "2023-03-24T19:12:40.828Z"
   },
   {
    "duration": 10,
    "start_time": "2023-03-24T19:12:41.030Z"
   },
   {
    "duration": 14,
    "start_time": "2023-03-24T19:12:41.042Z"
   },
   {
    "duration": 21,
    "start_time": "2023-03-24T19:12:41.057Z"
   },
   {
    "duration": 14,
    "start_time": "2023-03-24T19:12:41.080Z"
   },
   {
    "duration": 13,
    "start_time": "2023-03-24T19:12:41.096Z"
   },
   {
    "duration": 11,
    "start_time": "2023-03-24T19:12:41.111Z"
   },
   {
    "duration": 10,
    "start_time": "2023-03-24T19:12:41.123Z"
   },
   {
    "duration": 19,
    "start_time": "2023-03-24T19:12:41.134Z"
   },
   {
    "duration": 25,
    "start_time": "2023-03-24T19:12:41.155Z"
   },
   {
    "duration": 16,
    "start_time": "2023-03-24T19:12:41.182Z"
   },
   {
    "duration": 16,
    "start_time": "2023-03-24T19:12:41.200Z"
   },
   {
    "duration": 9,
    "start_time": "2023-03-24T19:12:41.217Z"
   },
   {
    "duration": 13,
    "start_time": "2023-03-24T19:12:41.227Z"
   },
   {
    "duration": 7,
    "start_time": "2023-03-24T19:12:41.241Z"
   },
   {
    "duration": 9,
    "start_time": "2023-03-24T19:12:41.250Z"
   },
   {
    "duration": 6,
    "start_time": "2023-03-24T19:12:41.261Z"
   },
   {
    "duration": 9,
    "start_time": "2023-03-24T19:12:41.268Z"
   },
   {
    "duration": 4,
    "start_time": "2023-03-24T19:12:41.278Z"
   },
   {
    "duration": 4,
    "start_time": "2023-03-24T19:12:41.284Z"
   },
   {
    "duration": 3,
    "start_time": "2023-03-24T19:12:41.289Z"
   },
   {
    "duration": 4,
    "start_time": "2023-03-24T19:12:41.294Z"
   },
   {
    "duration": 4,
    "start_time": "2023-03-24T19:12:41.300Z"
   },
   {
    "duration": 3,
    "start_time": "2023-03-24T19:12:41.306Z"
   },
   {
    "duration": 4,
    "start_time": "2023-03-24T19:12:41.311Z"
   },
   {
    "duration": 15,
    "start_time": "2023-03-24T19:12:41.316Z"
   },
   {
    "duration": 10,
    "start_time": "2023-03-24T19:12:41.333Z"
   },
   {
    "duration": 62,
    "start_time": "2023-03-24T19:26:34.900Z"
   },
   {
    "duration": 72,
    "start_time": "2023-03-24T19:27:37.415Z"
   },
   {
    "duration": 85,
    "start_time": "2023-03-24T19:29:19.359Z"
   },
   {
    "duration": 86,
    "start_time": "2023-03-24T19:29:28.314Z"
   },
   {
    "duration": 1434,
    "start_time": "2023-03-24T19:30:22.950Z"
   },
   {
    "duration": 1401,
    "start_time": "2023-03-24T19:30:29.838Z"
   },
   {
    "duration": 481,
    "start_time": "2023-03-24T19:32:13.916Z"
   },
   {
    "duration": 81,
    "start_time": "2023-03-24T19:32:30.271Z"
   },
   {
    "duration": 99,
    "start_time": "2023-03-24T19:32:56.077Z"
   },
   {
    "duration": 88,
    "start_time": "2023-03-24T19:34:38.477Z"
   },
   {
    "duration": 83,
    "start_time": "2023-03-24T19:35:56.465Z"
   },
   {
    "duration": 79,
    "start_time": "2023-03-24T19:36:04.576Z"
   },
   {
    "duration": 87,
    "start_time": "2023-03-24T19:36:08.093Z"
   },
   {
    "duration": 1670,
    "start_time": "2023-03-24T19:37:10.102Z"
   },
   {
    "duration": 1901,
    "start_time": "2023-03-24T19:37:12.286Z"
   },
   {
    "duration": 1842,
    "start_time": "2023-03-24T19:37:45.041Z"
   },
   {
    "duration": 108,
    "start_time": "2023-03-24T19:37:54.275Z"
   },
   {
    "duration": 80,
    "start_time": "2023-03-24T19:38:26.307Z"
   },
   {
    "duration": 860,
    "start_time": "2023-03-24T19:41:52.466Z"
   },
   {
    "duration": 168,
    "start_time": "2023-03-24T19:41:53.328Z"
   },
   {
    "duration": 19,
    "start_time": "2023-03-24T19:41:53.498Z"
   },
   {
    "duration": 83,
    "start_time": "2023-03-24T19:41:53.518Z"
   },
   {
    "duration": 88,
    "start_time": "2023-03-24T19:41:53.603Z"
   },
   {
    "duration": 8,
    "start_time": "2023-03-24T19:41:53.693Z"
   },
   {
    "duration": 15,
    "start_time": "2023-03-24T19:41:53.703Z"
   },
   {
    "duration": 9,
    "start_time": "2023-03-24T19:41:53.719Z"
   },
   {
    "duration": 12,
    "start_time": "2023-03-24T19:41:53.730Z"
   },
   {
    "duration": 1016,
    "start_time": "2023-03-24T19:41:53.743Z"
   },
   {
    "duration": 16,
    "start_time": "2023-03-24T19:41:54.761Z"
   },
   {
    "duration": 34,
    "start_time": "2023-03-24T19:41:54.778Z"
   },
   {
    "duration": 9,
    "start_time": "2023-03-24T19:41:54.813Z"
   },
   {
    "duration": 15,
    "start_time": "2023-03-24T19:41:54.825Z"
   },
   {
    "duration": 34,
    "start_time": "2023-03-24T19:41:54.841Z"
   },
   {
    "duration": 4,
    "start_time": "2023-03-24T19:41:54.877Z"
   },
   {
    "duration": 2,
    "start_time": "2023-03-24T19:41:54.883Z"
   },
   {
    "duration": 1012,
    "start_time": "2023-03-24T19:41:54.887Z"
   },
   {
    "duration": 16,
    "start_time": "2023-03-24T19:41:55.901Z"
   },
   {
    "duration": 378,
    "start_time": "2023-03-24T19:41:55.918Z"
   },
   {
    "duration": 344,
    "start_time": "2023-03-24T19:41:56.298Z"
   },
   {
    "duration": 437,
    "start_time": "2023-03-24T19:41:56.644Z"
   },
   {
    "duration": 50,
    "start_time": "2023-03-24T19:41:57.083Z"
   },
   {
    "duration": 11,
    "start_time": "2023-03-24T19:41:57.135Z"
   },
   {
    "duration": 34,
    "start_time": "2023-03-24T19:41:57.147Z"
   },
   {
    "duration": 50,
    "start_time": "2023-03-24T19:41:57.183Z"
   },
   {
    "duration": 44,
    "start_time": "2023-03-24T19:41:57.235Z"
   },
   {
    "duration": 8,
    "start_time": "2023-03-24T19:41:57.280Z"
   },
   {
    "duration": 43,
    "start_time": "2023-03-24T19:41:57.289Z"
   },
   {
    "duration": 49,
    "start_time": "2023-03-24T19:41:57.334Z"
   },
   {
    "duration": 57,
    "start_time": "2023-03-24T19:41:57.385Z"
   },
   {
    "duration": 8,
    "start_time": "2023-03-24T19:41:57.445Z"
   },
   {
    "duration": 26,
    "start_time": "2023-03-24T19:41:57.455Z"
   },
   {
    "duration": 19,
    "start_time": "2023-03-24T19:41:57.483Z"
   },
   {
    "duration": 8,
    "start_time": "2023-03-24T19:41:57.504Z"
   },
   {
    "duration": 10,
    "start_time": "2023-03-24T19:41:57.514Z"
   },
   {
    "duration": 4,
    "start_time": "2023-03-24T19:41:57.526Z"
   },
   {
    "duration": 74,
    "start_time": "2023-03-24T19:41:57.531Z"
   },
   {
    "duration": 33,
    "start_time": "2023-03-24T19:41:57.607Z"
   },
   {
    "duration": 48,
    "start_time": "2023-03-24T19:41:57.641Z"
   },
   {
    "duration": 63,
    "start_time": "2023-03-24T19:41:57.693Z"
   },
   {
    "duration": 23,
    "start_time": "2023-03-24T19:41:57.757Z"
   },
   {
    "duration": 63,
    "start_time": "2023-03-24T19:41:57.782Z"
   },
   {
    "duration": 5,
    "start_time": "2023-03-24T19:41:57.846Z"
   },
   {
    "duration": 114,
    "start_time": "2023-03-24T19:41:57.852Z"
   },
   {
    "duration": 7,
    "start_time": "2023-03-24T19:41:57.968Z"
   },
   {
    "duration": 104,
    "start_time": "2023-03-24T19:41:57.976Z"
   },
   {
    "duration": 0,
    "start_time": "2023-03-24T19:41:58.082Z"
   },
   {
    "duration": 0,
    "start_time": "2023-03-24T19:41:58.083Z"
   },
   {
    "duration": 0,
    "start_time": "2023-03-24T19:41:58.084Z"
   },
   {
    "duration": 0,
    "start_time": "2023-03-24T19:41:58.084Z"
   },
   {
    "duration": 0,
    "start_time": "2023-03-24T19:41:58.086Z"
   },
   {
    "duration": 0,
    "start_time": "2023-03-24T19:41:58.086Z"
   },
   {
    "duration": 0,
    "start_time": "2023-03-24T19:41:58.088Z"
   },
   {
    "duration": 0,
    "start_time": "2023-03-24T19:41:58.088Z"
   },
   {
    "duration": 0,
    "start_time": "2023-03-24T19:41:58.089Z"
   },
   {
    "duration": 0,
    "start_time": "2023-03-24T19:41:58.090Z"
   },
   {
    "duration": 0,
    "start_time": "2023-03-24T19:41:58.091Z"
   },
   {
    "duration": 0,
    "start_time": "2023-03-24T19:41:58.092Z"
   },
   {
    "duration": 0,
    "start_time": "2023-03-24T19:41:58.093Z"
   },
   {
    "duration": 0,
    "start_time": "2023-03-24T19:41:58.094Z"
   },
   {
    "duration": 0,
    "start_time": "2023-03-24T19:41:58.095Z"
   },
   {
    "duration": 0,
    "start_time": "2023-03-24T19:41:58.096Z"
   },
   {
    "duration": 0,
    "start_time": "2023-03-24T19:41:58.096Z"
   },
   {
    "duration": 0,
    "start_time": "2023-03-24T19:41:58.098Z"
   },
   {
    "duration": 0,
    "start_time": "2023-03-24T19:41:58.098Z"
   },
   {
    "duration": 0,
    "start_time": "2023-03-24T19:41:58.100Z"
   },
   {
    "duration": 0,
    "start_time": "2023-03-24T19:41:58.100Z"
   },
   {
    "duration": 0,
    "start_time": "2023-03-24T19:41:58.102Z"
   },
   {
    "duration": 0,
    "start_time": "2023-03-24T19:41:58.103Z"
   },
   {
    "duration": 0,
    "start_time": "2023-03-24T19:41:58.104Z"
   },
   {
    "duration": 84,
    "start_time": "2023-03-24T19:44:17.421Z"
   },
   {
    "duration": 101,
    "start_time": "2023-03-24T19:44:23.326Z"
   },
   {
    "duration": 91,
    "start_time": "2023-03-24T19:44:28.524Z"
   },
   {
    "duration": 120,
    "start_time": "2023-03-24T19:45:04.906Z"
   },
   {
    "duration": 100,
    "start_time": "2023-03-24T19:45:09.633Z"
   },
   {
    "duration": 97,
    "start_time": "2023-03-24T19:45:31.918Z"
   },
   {
    "duration": 72,
    "start_time": "2023-03-24T20:06:46.677Z"
   },
   {
    "duration": 74,
    "start_time": "2023-03-24T20:08:40.577Z"
   },
   {
    "duration": 1688,
    "start_time": "2023-03-24T20:13:18.494Z"
   },
   {
    "duration": 1714,
    "start_time": "2023-03-24T20:13:33.958Z"
   },
   {
    "duration": 84,
    "start_time": "2023-03-24T20:13:43.032Z"
   },
   {
    "duration": 84,
    "start_time": "2023-03-24T20:14:01.439Z"
   },
   {
    "duration": 89,
    "start_time": "2023-03-24T20:15:07.338Z"
   },
   {
    "duration": 81,
    "start_time": "2023-03-24T20:15:21.628Z"
   },
   {
    "duration": 14,
    "start_time": "2023-03-24T20:24:19.127Z"
   },
   {
    "duration": 5,
    "start_time": "2023-03-24T20:24:34.002Z"
   },
   {
    "duration": 11,
    "start_time": "2023-03-24T20:24:36.374Z"
   },
   {
    "duration": 95,
    "start_time": "2023-03-24T20:27:04.017Z"
   },
   {
    "duration": 98,
    "start_time": "2023-03-24T20:27:08.329Z"
   },
   {
    "duration": 857,
    "start_time": "2023-03-24T20:27:20.053Z"
   },
   {
    "duration": 167,
    "start_time": "2023-03-24T20:27:20.913Z"
   },
   {
    "duration": 25,
    "start_time": "2023-03-24T20:27:21.082Z"
   },
   {
    "duration": 74,
    "start_time": "2023-03-24T20:27:21.110Z"
   },
   {
    "duration": 81,
    "start_time": "2023-03-24T20:27:21.185Z"
   },
   {
    "duration": 8,
    "start_time": "2023-03-24T20:27:21.276Z"
   },
   {
    "duration": 16,
    "start_time": "2023-03-24T20:27:21.286Z"
   },
   {
    "duration": 8,
    "start_time": "2023-03-24T20:27:21.304Z"
   },
   {
    "duration": 12,
    "start_time": "2023-03-24T20:27:21.313Z"
   },
   {
    "duration": 896,
    "start_time": "2023-03-24T20:27:21.328Z"
   },
   {
    "duration": 11,
    "start_time": "2023-03-24T20:27:22.225Z"
   },
   {
    "duration": 42,
    "start_time": "2023-03-24T20:27:22.238Z"
   },
   {
    "duration": 9,
    "start_time": "2023-03-24T20:27:22.281Z"
   },
   {
    "duration": 16,
    "start_time": "2023-03-24T20:27:22.292Z"
   },
   {
    "duration": 6,
    "start_time": "2023-03-24T20:27:22.309Z"
   },
   {
    "duration": 5,
    "start_time": "2023-03-24T20:27:22.317Z"
   },
   {
    "duration": 3,
    "start_time": "2023-03-24T20:27:22.323Z"
   },
   {
    "duration": 1052,
    "start_time": "2023-03-24T20:27:22.327Z"
   },
   {
    "duration": 16,
    "start_time": "2023-03-24T20:27:23.382Z"
   },
   {
    "duration": 369,
    "start_time": "2023-03-24T20:27:23.400Z"
   },
   {
    "duration": 386,
    "start_time": "2023-03-24T20:27:23.771Z"
   },
   {
    "duration": 471,
    "start_time": "2023-03-24T20:27:24.159Z"
   },
   {
    "duration": 61,
    "start_time": "2023-03-24T20:27:24.632Z"
   },
   {
    "duration": 14,
    "start_time": "2023-03-24T20:27:24.695Z"
   },
   {
    "duration": 11,
    "start_time": "2023-03-24T20:27:24.711Z"
   },
   {
    "duration": 75,
    "start_time": "2023-03-24T20:27:24.723Z"
   },
   {
    "duration": 34,
    "start_time": "2023-03-24T20:27:24.800Z"
   },
   {
    "duration": 7,
    "start_time": "2023-03-24T20:27:24.838Z"
   },
   {
    "duration": 71,
    "start_time": "2023-03-24T20:27:24.847Z"
   },
   {
    "duration": 37,
    "start_time": "2023-03-24T20:27:24.919Z"
   },
   {
    "duration": 84,
    "start_time": "2023-03-24T20:27:24.957Z"
   },
   {
    "duration": 7,
    "start_time": "2023-03-24T20:27:25.043Z"
   },
   {
    "duration": 5,
    "start_time": "2023-03-24T20:27:25.052Z"
   },
   {
    "duration": 14,
    "start_time": "2023-03-24T20:27:25.075Z"
   },
   {
    "duration": 7,
    "start_time": "2023-03-24T20:27:25.090Z"
   },
   {
    "duration": 9,
    "start_time": "2023-03-24T20:27:25.099Z"
   },
   {
    "duration": 4,
    "start_time": "2023-03-24T20:27:25.110Z"
   },
   {
    "duration": 77,
    "start_time": "2023-03-24T20:27:25.116Z"
   },
   {
    "duration": 34,
    "start_time": "2023-03-24T20:27:25.194Z"
   },
   {
    "duration": 47,
    "start_time": "2023-03-24T20:27:25.229Z"
   },
   {
    "duration": 64,
    "start_time": "2023-03-24T20:27:25.278Z"
   },
   {
    "duration": 8,
    "start_time": "2023-03-24T20:27:25.344Z"
   },
   {
    "duration": 81,
    "start_time": "2023-03-24T20:27:25.353Z"
   },
   {
    "duration": 5,
    "start_time": "2023-03-24T20:27:25.436Z"
   },
   {
    "duration": 94,
    "start_time": "2023-03-24T20:27:25.442Z"
   },
   {
    "duration": 93,
    "start_time": "2023-03-24T20:27:25.537Z"
   },
   {
    "duration": 0,
    "start_time": "2023-03-24T20:27:25.632Z"
   },
   {
    "duration": 0,
    "start_time": "2023-03-24T20:27:25.633Z"
   },
   {
    "duration": 0,
    "start_time": "2023-03-24T20:27:25.634Z"
   },
   {
    "duration": 0,
    "start_time": "2023-03-24T20:27:25.635Z"
   },
   {
    "duration": 0,
    "start_time": "2023-03-24T20:27:25.637Z"
   },
   {
    "duration": 0,
    "start_time": "2023-03-24T20:27:25.638Z"
   },
   {
    "duration": 0,
    "start_time": "2023-03-24T20:27:25.639Z"
   },
   {
    "duration": 0,
    "start_time": "2023-03-24T20:27:25.640Z"
   },
   {
    "duration": 0,
    "start_time": "2023-03-24T20:27:25.641Z"
   },
   {
    "duration": 0,
    "start_time": "2023-03-24T20:27:25.641Z"
   },
   {
    "duration": 0,
    "start_time": "2023-03-24T20:27:25.642Z"
   },
   {
    "duration": 0,
    "start_time": "2023-03-24T20:27:25.643Z"
   },
   {
    "duration": 0,
    "start_time": "2023-03-24T20:27:25.644Z"
   },
   {
    "duration": 0,
    "start_time": "2023-03-24T20:27:25.645Z"
   },
   {
    "duration": 0,
    "start_time": "2023-03-24T20:27:25.646Z"
   },
   {
    "duration": 0,
    "start_time": "2023-03-24T20:27:25.647Z"
   },
   {
    "duration": 0,
    "start_time": "2023-03-24T20:27:25.649Z"
   },
   {
    "duration": 0,
    "start_time": "2023-03-24T20:27:25.650Z"
   },
   {
    "duration": 0,
    "start_time": "2023-03-24T20:27:25.651Z"
   },
   {
    "duration": 0,
    "start_time": "2023-03-24T20:27:25.652Z"
   },
   {
    "duration": 0,
    "start_time": "2023-03-24T20:27:25.653Z"
   },
   {
    "duration": 0,
    "start_time": "2023-03-24T20:27:25.654Z"
   },
   {
    "duration": 0,
    "start_time": "2023-03-24T20:27:25.655Z"
   },
   {
    "duration": 0,
    "start_time": "2023-03-24T20:27:25.656Z"
   },
   {
    "duration": 0,
    "start_time": "2023-03-24T20:27:25.657Z"
   },
   {
    "duration": 0,
    "start_time": "2023-03-24T20:27:25.658Z"
   },
   {
    "duration": 5,
    "start_time": "2023-03-24T20:27:53.817Z"
   },
   {
    "duration": 102,
    "start_time": "2023-03-24T20:27:55.780Z"
   },
   {
    "duration": 15,
    "start_time": "2023-03-24T20:28:17.100Z"
   },
   {
    "duration": 13,
    "start_time": "2023-03-24T20:28:31.186Z"
   },
   {
    "duration": 5,
    "start_time": "2023-03-24T20:31:22.155Z"
   },
   {
    "duration": 4,
    "start_time": "2023-03-24T20:31:29.353Z"
   },
   {
    "duration": 4,
    "start_time": "2023-03-24T20:31:34.633Z"
   },
   {
    "duration": 4,
    "start_time": "2023-03-24T20:33:26.442Z"
   },
   {
    "duration": 4,
    "start_time": "2023-03-24T20:33:30.598Z"
   },
   {
    "duration": 13,
    "start_time": "2023-03-24T20:33:31.214Z"
   },
   {
    "duration": 4,
    "start_time": "2023-03-24T20:33:36.360Z"
   },
   {
    "duration": 12,
    "start_time": "2023-03-24T20:34:32.758Z"
   },
   {
    "duration": 5,
    "start_time": "2023-03-24T20:34:37.885Z"
   },
   {
    "duration": 13,
    "start_time": "2023-03-24T20:34:38.768Z"
   },
   {
    "duration": 907,
    "start_time": "2023-03-24T20:34:57.952Z"
   },
   {
    "duration": 198,
    "start_time": "2023-03-24T20:34:58.862Z"
   },
   {
    "duration": 25,
    "start_time": "2023-03-24T20:34:59.062Z"
   },
   {
    "duration": 88,
    "start_time": "2023-03-24T20:34:59.089Z"
   },
   {
    "duration": 82,
    "start_time": "2023-03-24T20:34:59.179Z"
   },
   {
    "duration": 17,
    "start_time": "2023-03-24T20:34:59.263Z"
   },
   {
    "duration": 24,
    "start_time": "2023-03-24T20:34:59.282Z"
   },
   {
    "duration": 11,
    "start_time": "2023-03-24T20:34:59.308Z"
   },
   {
    "duration": 12,
    "start_time": "2023-03-24T20:34:59.321Z"
   },
   {
    "duration": 971,
    "start_time": "2023-03-24T20:34:59.336Z"
   },
   {
    "duration": 10,
    "start_time": "2023-03-24T20:35:00.309Z"
   },
   {
    "duration": 50,
    "start_time": "2023-03-24T20:35:00.321Z"
   },
   {
    "duration": 18,
    "start_time": "2023-03-24T20:35:00.372Z"
   },
   {
    "duration": 38,
    "start_time": "2023-03-24T20:35:00.391Z"
   },
   {
    "duration": 18,
    "start_time": "2023-03-24T20:35:00.431Z"
   },
   {
    "duration": 22,
    "start_time": "2023-03-24T20:35:00.451Z"
   },
   {
    "duration": 15,
    "start_time": "2023-03-24T20:35:00.476Z"
   },
   {
    "duration": 1066,
    "start_time": "2023-03-24T20:35:00.493Z"
   },
   {
    "duration": 20,
    "start_time": "2023-03-24T20:35:01.561Z"
   },
   {
    "duration": 343,
    "start_time": "2023-03-24T20:35:01.582Z"
   },
   {
    "duration": 335,
    "start_time": "2023-03-24T20:35:01.927Z"
   },
   {
    "duration": 445,
    "start_time": "2023-03-24T20:35:02.264Z"
   },
   {
    "duration": 52,
    "start_time": "2023-03-24T20:35:02.711Z"
   },
   {
    "duration": 12,
    "start_time": "2023-03-24T20:35:02.774Z"
   },
   {
    "duration": 14,
    "start_time": "2023-03-24T20:35:02.788Z"
   },
   {
    "duration": 76,
    "start_time": "2023-03-24T20:35:02.804Z"
   },
   {
    "duration": 47,
    "start_time": "2023-03-24T20:35:02.882Z"
   },
   {
    "duration": 7,
    "start_time": "2023-03-24T20:35:02.933Z"
   },
   {
    "duration": 69,
    "start_time": "2023-03-24T20:35:02.942Z"
   },
   {
    "duration": 34,
    "start_time": "2023-03-24T20:35:03.013Z"
   },
   {
    "duration": 73,
    "start_time": "2023-03-24T20:35:03.048Z"
   },
   {
    "duration": 7,
    "start_time": "2023-03-24T20:35:03.123Z"
   },
   {
    "duration": 6,
    "start_time": "2023-03-24T20:35:03.131Z"
   },
   {
    "duration": 15,
    "start_time": "2023-03-24T20:35:03.138Z"
   },
   {
    "duration": 27,
    "start_time": "2023-03-24T20:35:03.154Z"
   },
   {
    "duration": 9,
    "start_time": "2023-03-24T20:35:03.183Z"
   },
   {
    "duration": 5,
    "start_time": "2023-03-24T20:35:03.193Z"
   },
   {
    "duration": 46,
    "start_time": "2023-03-24T20:35:03.199Z"
   },
   {
    "duration": 58,
    "start_time": "2023-03-24T20:35:03.247Z"
   },
   {
    "duration": 37,
    "start_time": "2023-03-24T20:35:03.307Z"
   },
   {
    "duration": 106,
    "start_time": "2023-03-24T20:35:03.346Z"
   },
   {
    "duration": 9,
    "start_time": "2023-03-24T20:35:03.453Z"
   },
   {
    "duration": 85,
    "start_time": "2023-03-24T20:35:03.464Z"
   },
   {
    "duration": 5,
    "start_time": "2023-03-24T20:35:03.551Z"
   },
   {
    "duration": 98,
    "start_time": "2023-03-24T20:35:03.558Z"
   },
   {
    "duration": 4,
    "start_time": "2023-03-24T20:35:03.658Z"
   },
   {
    "duration": 111,
    "start_time": "2023-03-24T20:35:03.664Z"
   },
   {
    "duration": 0,
    "start_time": "2023-03-24T20:35:03.777Z"
   },
   {
    "duration": 0,
    "start_time": "2023-03-24T20:35:03.778Z"
   },
   {
    "duration": 0,
    "start_time": "2023-03-24T20:35:03.779Z"
   },
   {
    "duration": 0,
    "start_time": "2023-03-24T20:35:03.780Z"
   },
   {
    "duration": 0,
    "start_time": "2023-03-24T20:35:03.781Z"
   },
   {
    "duration": 0,
    "start_time": "2023-03-24T20:35:03.782Z"
   },
   {
    "duration": 0,
    "start_time": "2023-03-24T20:35:03.783Z"
   },
   {
    "duration": 0,
    "start_time": "2023-03-24T20:35:03.784Z"
   },
   {
    "duration": 0,
    "start_time": "2023-03-24T20:35:03.785Z"
   },
   {
    "duration": 0,
    "start_time": "2023-03-24T20:35:03.786Z"
   },
   {
    "duration": 0,
    "start_time": "2023-03-24T20:35:03.787Z"
   },
   {
    "duration": 0,
    "start_time": "2023-03-24T20:35:03.788Z"
   },
   {
    "duration": 0,
    "start_time": "2023-03-24T20:35:03.789Z"
   },
   {
    "duration": 0,
    "start_time": "2023-03-24T20:35:03.790Z"
   },
   {
    "duration": 0,
    "start_time": "2023-03-24T20:35:03.790Z"
   },
   {
    "duration": 0,
    "start_time": "2023-03-24T20:35:03.791Z"
   },
   {
    "duration": 0,
    "start_time": "2023-03-24T20:35:03.793Z"
   },
   {
    "duration": 0,
    "start_time": "2023-03-24T20:35:03.795Z"
   },
   {
    "duration": 0,
    "start_time": "2023-03-24T20:35:03.796Z"
   },
   {
    "duration": 0,
    "start_time": "2023-03-24T20:35:03.797Z"
   },
   {
    "duration": 0,
    "start_time": "2023-03-24T20:35:03.799Z"
   },
   {
    "duration": 0,
    "start_time": "2023-03-24T20:35:03.800Z"
   },
   {
    "duration": 0,
    "start_time": "2023-03-24T20:35:03.801Z"
   },
   {
    "duration": 0,
    "start_time": "2023-03-24T20:35:03.802Z"
   },
   {
    "duration": 0,
    "start_time": "2023-03-24T20:35:03.803Z"
   },
   {
    "duration": 0,
    "start_time": "2023-03-24T20:35:03.805Z"
   },
   {
    "duration": 4,
    "start_time": "2023-03-24T20:35:21.060Z"
   },
   {
    "duration": 4,
    "start_time": "2023-03-24T20:35:21.857Z"
   },
   {
    "duration": 4,
    "start_time": "2023-03-24T20:35:29.560Z"
   },
   {
    "duration": 4,
    "start_time": "2023-03-24T20:35:29.903Z"
   },
   {
    "duration": 16,
    "start_time": "2023-03-24T20:35:30.988Z"
   },
   {
    "duration": 15,
    "start_time": "2023-03-24T20:38:16.398Z"
   },
   {
    "duration": 9,
    "start_time": "2023-03-24T20:42:47.372Z"
   },
   {
    "duration": 4,
    "start_time": "2023-03-24T20:43:04.700Z"
   },
   {
    "duration": 5,
    "start_time": "2023-03-24T20:43:28.063Z"
   },
   {
    "duration": 1880,
    "start_time": "2023-03-24T20:47:19.897Z"
   },
   {
    "duration": 55,
    "start_time": "2023-04-25T18:38:14.596Z"
   },
   {
    "duration": 839,
    "start_time": "2023-04-25T18:38:19.713Z"
   },
   {
    "duration": 899,
    "start_time": "2023-04-25T18:38:20.555Z"
   },
   {
    "duration": 20,
    "start_time": "2023-04-25T18:38:21.456Z"
   },
   {
    "duration": 69,
    "start_time": "2023-04-25T18:38:21.478Z"
   },
   {
    "duration": 92,
    "start_time": "2023-04-25T18:38:21.550Z"
   },
   {
    "duration": 8,
    "start_time": "2023-04-25T18:38:21.644Z"
   },
   {
    "duration": 46,
    "start_time": "2023-04-25T18:38:21.655Z"
   },
   {
    "duration": 14,
    "start_time": "2023-04-25T18:38:21.702Z"
   },
   {
    "duration": 15,
    "start_time": "2023-04-25T18:38:21.718Z"
   },
   {
    "duration": 1088,
    "start_time": "2023-04-25T18:38:21.735Z"
   },
   {
    "duration": 10,
    "start_time": "2023-04-25T18:38:22.825Z"
   },
   {
    "duration": 31,
    "start_time": "2023-04-25T18:38:22.837Z"
   },
   {
    "duration": 30,
    "start_time": "2023-04-25T18:38:22.870Z"
   },
   {
    "duration": 16,
    "start_time": "2023-04-25T18:38:22.905Z"
   },
   {
    "duration": 9,
    "start_time": "2023-04-25T18:38:22.923Z"
   },
   {
    "duration": 6,
    "start_time": "2023-04-25T18:38:22.934Z"
   },
   {
    "duration": 4,
    "start_time": "2023-04-25T18:38:22.941Z"
   },
   {
    "duration": 1297,
    "start_time": "2023-04-25T18:38:22.946Z"
   },
   {
    "duration": 22,
    "start_time": "2023-04-25T18:38:24.245Z"
   },
   {
    "duration": 374,
    "start_time": "2023-04-25T18:38:24.269Z"
   },
   {
    "duration": 428,
    "start_time": "2023-04-25T18:38:24.644Z"
   },
   {
    "duration": 373,
    "start_time": "2023-04-25T18:38:25.074Z"
   },
   {
    "duration": 58,
    "start_time": "2023-04-25T18:38:25.449Z"
   },
   {
    "duration": 13,
    "start_time": "2023-04-25T18:38:25.509Z"
   },
   {
    "duration": 10,
    "start_time": "2023-04-25T18:38:25.523Z"
   },
   {
    "duration": 74,
    "start_time": "2023-04-25T18:38:25.535Z"
   },
   {
    "duration": 32,
    "start_time": "2023-04-25T18:38:25.611Z"
   },
   {
    "duration": 7,
    "start_time": "2023-04-25T18:38:25.645Z"
   },
   {
    "duration": 70,
    "start_time": "2023-04-25T18:38:25.653Z"
   },
   {
    "duration": 34,
    "start_time": "2023-04-25T18:38:25.724Z"
   },
   {
    "duration": 69,
    "start_time": "2023-04-25T18:38:25.760Z"
   },
   {
    "duration": 7,
    "start_time": "2023-04-25T18:38:25.830Z"
   },
   {
    "duration": 6,
    "start_time": "2023-04-25T18:38:25.838Z"
   },
   {
    "duration": 14,
    "start_time": "2023-04-25T18:38:25.845Z"
   },
   {
    "duration": 6,
    "start_time": "2023-04-25T18:38:25.861Z"
   },
   {
    "duration": 11,
    "start_time": "2023-04-25T18:38:25.896Z"
   },
   {
    "duration": 8,
    "start_time": "2023-04-25T18:38:25.909Z"
   },
   {
    "duration": 47,
    "start_time": "2023-04-25T18:38:25.919Z"
   },
   {
    "duration": 47,
    "start_time": "2023-04-25T18:38:25.968Z"
   },
   {
    "duration": 33,
    "start_time": "2023-04-25T18:38:26.016Z"
   },
   {
    "duration": 85,
    "start_time": "2023-04-25T18:38:26.053Z"
   },
   {
    "duration": 8,
    "start_time": "2023-04-25T18:38:26.140Z"
   },
   {
    "duration": 75,
    "start_time": "2023-04-25T18:38:26.150Z"
   },
   {
    "duration": 5,
    "start_time": "2023-04-25T18:38:26.227Z"
   },
   {
    "duration": 94,
    "start_time": "2023-04-25T18:38:26.234Z"
   },
   {
    "duration": 3,
    "start_time": "2023-04-25T18:38:26.330Z"
   },
   {
    "duration": 5,
    "start_time": "2023-04-25T18:38:26.335Z"
   },
   {
    "duration": 4,
    "start_time": "2023-04-25T18:38:26.342Z"
   },
   {
    "duration": 8,
    "start_time": "2023-04-25T18:38:26.347Z"
   },
   {
    "duration": 128,
    "start_time": "2023-04-25T18:38:26.356Z"
   },
   {
    "duration": 0,
    "start_time": "2023-04-25T18:38:26.486Z"
   },
   {
    "duration": 0,
    "start_time": "2023-04-25T18:38:26.487Z"
   },
   {
    "duration": 0,
    "start_time": "2023-04-25T18:38:26.498Z"
   },
   {
    "duration": 0,
    "start_time": "2023-04-25T18:38:26.499Z"
   },
   {
    "duration": 0,
    "start_time": "2023-04-25T18:38:26.499Z"
   },
   {
    "duration": 0,
    "start_time": "2023-04-25T18:38:26.500Z"
   },
   {
    "duration": 0,
    "start_time": "2023-04-25T18:38:26.501Z"
   },
   {
    "duration": 0,
    "start_time": "2023-04-25T18:38:26.501Z"
   },
   {
    "duration": 0,
    "start_time": "2023-04-25T18:38:26.502Z"
   },
   {
    "duration": 0,
    "start_time": "2023-04-25T18:38:26.503Z"
   },
   {
    "duration": 0,
    "start_time": "2023-04-25T18:38:26.504Z"
   },
   {
    "duration": 0,
    "start_time": "2023-04-25T18:38:26.504Z"
   },
   {
    "duration": 0,
    "start_time": "2023-04-25T18:38:26.506Z"
   },
   {
    "duration": 0,
    "start_time": "2023-04-25T18:38:26.509Z"
   },
   {
    "duration": 0,
    "start_time": "2023-04-25T18:38:26.510Z"
   },
   {
    "duration": 0,
    "start_time": "2023-04-25T18:38:26.511Z"
   },
   {
    "duration": 0,
    "start_time": "2023-04-25T18:38:26.512Z"
   },
   {
    "duration": 0,
    "start_time": "2023-04-25T18:38:26.513Z"
   },
   {
    "duration": 0,
    "start_time": "2023-04-25T18:38:26.515Z"
   },
   {
    "duration": 0,
    "start_time": "2023-04-25T18:38:26.516Z"
   },
   {
    "duration": 0,
    "start_time": "2023-04-25T18:38:26.517Z"
   },
   {
    "duration": 0,
    "start_time": "2023-04-25T18:38:26.518Z"
   },
   {
    "duration": 0,
    "start_time": "2023-04-25T18:38:26.520Z"
   },
   {
    "duration": 0,
    "start_time": "2023-04-25T18:38:26.521Z"
   },
   {
    "duration": 0,
    "start_time": "2023-04-25T18:38:26.522Z"
   },
   {
    "duration": 808,
    "start_time": "2023-04-25T18:38:55.221Z"
   },
   {
    "duration": 837,
    "start_time": "2023-04-25T18:39:44.626Z"
   },
   {
    "duration": 3,
    "start_time": "2023-04-25T18:40:42.288Z"
   },
   {
    "duration": 4,
    "start_time": "2023-04-25T18:41:47.067Z"
   },
   {
    "duration": 4,
    "start_time": "2023-04-25T18:41:47.538Z"
   },
   {
    "duration": 5,
    "start_time": "2023-04-25T18:42:24.292Z"
   },
   {
    "duration": 5,
    "start_time": "2023-04-25T18:44:25.605Z"
   },
   {
    "duration": 777,
    "start_time": "2023-04-25T18:49:00.538Z"
   },
   {
    "duration": 0,
    "start_time": "2023-04-25T18:53:15.806Z"
   },
   {
    "duration": 0,
    "start_time": "2023-04-25T18:53:15.807Z"
   },
   {
    "duration": 0,
    "start_time": "2023-04-25T18:53:15.808Z"
   },
   {
    "duration": 0,
    "start_time": "2023-04-25T18:53:15.809Z"
   },
   {
    "duration": 0,
    "start_time": "2023-04-25T18:53:15.810Z"
   },
   {
    "duration": 0,
    "start_time": "2023-04-25T18:53:15.811Z"
   },
   {
    "duration": 0,
    "start_time": "2023-04-25T18:53:15.813Z"
   },
   {
    "duration": 0,
    "start_time": "2023-04-25T18:53:15.814Z"
   },
   {
    "duration": 0,
    "start_time": "2023-04-25T18:53:15.815Z"
   },
   {
    "duration": 0,
    "start_time": "2023-04-25T18:53:15.817Z"
   },
   {
    "duration": 0,
    "start_time": "2023-04-25T18:53:15.818Z"
   },
   {
    "duration": 0,
    "start_time": "2023-04-25T18:53:15.820Z"
   },
   {
    "duration": 0,
    "start_time": "2023-04-25T18:53:15.821Z"
   },
   {
    "duration": 0,
    "start_time": "2023-04-25T18:53:15.823Z"
   },
   {
    "duration": 0,
    "start_time": "2023-04-25T18:53:15.824Z"
   },
   {
    "duration": 0,
    "start_time": "2023-04-25T18:53:15.825Z"
   },
   {
    "duration": 0,
    "start_time": "2023-04-25T18:53:15.826Z"
   },
   {
    "duration": 0,
    "start_time": "2023-04-25T18:53:15.827Z"
   },
   {
    "duration": 0,
    "start_time": "2023-04-25T18:53:15.828Z"
   },
   {
    "duration": 0,
    "start_time": "2023-04-25T18:53:15.829Z"
   },
   {
    "duration": 0,
    "start_time": "2023-04-25T18:53:15.831Z"
   },
   {
    "duration": 0,
    "start_time": "2023-04-25T18:53:15.832Z"
   },
   {
    "duration": 0,
    "start_time": "2023-04-25T18:53:15.833Z"
   },
   {
    "duration": 0,
    "start_time": "2023-04-25T18:53:15.835Z"
   },
   {
    "duration": 0,
    "start_time": "2023-04-25T18:53:15.836Z"
   },
   {
    "duration": 0,
    "start_time": "2023-04-25T18:53:15.893Z"
   },
   {
    "duration": 0,
    "start_time": "2023-04-25T18:53:15.894Z"
   },
   {
    "duration": 0,
    "start_time": "2023-04-25T18:53:15.894Z"
   },
   {
    "duration": 0,
    "start_time": "2023-04-25T18:53:15.895Z"
   },
   {
    "duration": 0,
    "start_time": "2023-04-25T18:53:15.896Z"
   },
   {
    "duration": 0,
    "start_time": "2023-04-25T18:53:15.896Z"
   },
   {
    "duration": 0,
    "start_time": "2023-04-25T18:53:15.897Z"
   },
   {
    "duration": 0,
    "start_time": "2023-04-25T18:53:15.898Z"
   },
   {
    "duration": 0,
    "start_time": "2023-04-25T18:53:15.899Z"
   },
   {
    "duration": 0,
    "start_time": "2023-04-25T18:53:15.900Z"
   },
   {
    "duration": 0,
    "start_time": "2023-04-25T18:53:15.901Z"
   },
   {
    "duration": 0,
    "start_time": "2023-04-25T18:53:15.902Z"
   },
   {
    "duration": 0,
    "start_time": "2023-04-25T18:53:15.903Z"
   },
   {
    "duration": 0,
    "start_time": "2023-04-25T18:53:15.904Z"
   },
   {
    "duration": 0,
    "start_time": "2023-04-25T18:53:15.904Z"
   },
   {
    "duration": 0,
    "start_time": "2023-04-25T18:53:15.905Z"
   },
   {
    "duration": 1,
    "start_time": "2023-04-25T18:53:15.905Z"
   },
   {
    "duration": 0,
    "start_time": "2023-04-25T18:53:15.906Z"
   },
   {
    "duration": 0,
    "start_time": "2023-04-25T18:53:15.907Z"
   },
   {
    "duration": 0,
    "start_time": "2023-04-25T18:53:15.908Z"
   },
   {
    "duration": 0,
    "start_time": "2023-04-25T18:53:15.909Z"
   },
   {
    "duration": 0,
    "start_time": "2023-04-25T18:53:15.911Z"
   },
   {
    "duration": 0,
    "start_time": "2023-04-25T18:53:15.912Z"
   },
   {
    "duration": 0,
    "start_time": "2023-04-25T18:53:15.913Z"
   },
   {
    "duration": 0,
    "start_time": "2023-04-25T18:53:15.913Z"
   },
   {
    "duration": 0,
    "start_time": "2023-04-25T18:53:15.914Z"
   },
   {
    "duration": 0,
    "start_time": "2023-04-25T18:53:15.915Z"
   },
   {
    "duration": 1,
    "start_time": "2023-04-25T18:53:15.915Z"
   },
   {
    "duration": 0,
    "start_time": "2023-04-25T18:53:15.917Z"
   },
   {
    "duration": 0,
    "start_time": "2023-04-25T18:53:15.918Z"
   },
   {
    "duration": 0,
    "start_time": "2023-04-25T18:53:15.919Z"
   },
   {
    "duration": 0,
    "start_time": "2023-04-25T18:53:15.920Z"
   },
   {
    "duration": 0,
    "start_time": "2023-04-25T18:53:15.921Z"
   },
   {
    "duration": 0,
    "start_time": "2023-04-25T18:53:15.922Z"
   },
   {
    "duration": 0,
    "start_time": "2023-04-25T18:53:15.923Z"
   },
   {
    "duration": 0,
    "start_time": "2023-04-25T18:53:15.924Z"
   },
   {
    "duration": 0,
    "start_time": "2023-04-25T18:53:15.925Z"
   },
   {
    "duration": 0,
    "start_time": "2023-04-25T18:53:15.925Z"
   },
   {
    "duration": 0,
    "start_time": "2023-04-25T18:53:15.926Z"
   },
   {
    "duration": 0,
    "start_time": "2023-04-25T18:53:15.927Z"
   },
   {
    "duration": 0,
    "start_time": "2023-04-25T18:53:15.928Z"
   },
   {
    "duration": 0,
    "start_time": "2023-04-25T18:53:15.929Z"
   },
   {
    "duration": 0,
    "start_time": "2023-04-25T18:53:15.930Z"
   },
   {
    "duration": 0,
    "start_time": "2023-04-25T18:53:15.931Z"
   },
   {
    "duration": 0,
    "start_time": "2023-04-25T18:53:15.932Z"
   },
   {
    "duration": 0,
    "start_time": "2023-04-25T18:53:15.933Z"
   },
   {
    "duration": 0,
    "start_time": "2023-04-25T18:53:15.934Z"
   },
   {
    "duration": 0,
    "start_time": "2023-04-25T18:53:15.935Z"
   },
   {
    "duration": 0,
    "start_time": "2023-04-25T18:53:15.996Z"
   },
   {
    "duration": 0,
    "start_time": "2023-04-25T18:53:15.997Z"
   },
   {
    "duration": 0,
    "start_time": "2023-04-25T18:53:15.997Z"
   },
   {
    "duration": 854,
    "start_time": "2023-04-25T18:53:23.786Z"
   },
   {
    "duration": 177,
    "start_time": "2023-04-25T18:53:24.642Z"
   },
   {
    "duration": 20,
    "start_time": "2023-04-25T18:53:24.821Z"
   },
   {
    "duration": 77,
    "start_time": "2023-04-25T18:53:24.843Z"
   },
   {
    "duration": 83,
    "start_time": "2023-04-25T18:53:24.922Z"
   },
   {
    "duration": 10,
    "start_time": "2023-04-25T18:53:25.006Z"
   },
   {
    "duration": 24,
    "start_time": "2023-04-25T18:53:25.017Z"
   },
   {
    "duration": 18,
    "start_time": "2023-04-25T18:53:25.042Z"
   },
   {
    "duration": 14,
    "start_time": "2023-04-25T18:53:25.061Z"
   },
   {
    "duration": 998,
    "start_time": "2023-04-25T18:53:25.077Z"
   },
   {
    "duration": 19,
    "start_time": "2023-04-25T18:53:26.076Z"
   },
   {
    "duration": 35,
    "start_time": "2023-04-25T18:53:26.097Z"
   },
   {
    "duration": 7,
    "start_time": "2023-04-25T18:53:26.134Z"
   },
   {
    "duration": 14,
    "start_time": "2023-04-25T18:53:26.143Z"
   },
   {
    "duration": 7,
    "start_time": "2023-04-25T18:53:26.159Z"
   },
   {
    "duration": 39,
    "start_time": "2023-04-25T18:53:26.167Z"
   },
   {
    "duration": 5,
    "start_time": "2023-04-25T18:53:26.208Z"
   },
   {
    "duration": 1034,
    "start_time": "2023-04-25T18:53:26.214Z"
   },
   {
    "duration": 15,
    "start_time": "2023-04-25T18:53:27.250Z"
   },
   {
    "duration": 379,
    "start_time": "2023-04-25T18:53:27.267Z"
   },
   {
    "duration": 333,
    "start_time": "2023-04-25T18:53:27.648Z"
   },
   {
    "duration": 459,
    "start_time": "2023-04-25T18:53:27.982Z"
   },
   {
    "duration": 64,
    "start_time": "2023-04-25T18:53:28.442Z"
   },
   {
    "duration": 12,
    "start_time": "2023-04-25T18:53:28.508Z"
   },
   {
    "duration": 9,
    "start_time": "2023-04-25T18:53:28.522Z"
   },
   {
    "duration": 70,
    "start_time": "2023-04-25T18:53:28.533Z"
   },
   {
    "duration": 34,
    "start_time": "2023-04-25T18:53:28.606Z"
   },
   {
    "duration": 7,
    "start_time": "2023-04-25T18:53:28.645Z"
   },
   {
    "duration": 62,
    "start_time": "2023-04-25T18:53:28.653Z"
   },
   {
    "duration": 33,
    "start_time": "2023-04-25T18:53:28.717Z"
   },
   {
    "duration": 69,
    "start_time": "2023-04-25T18:53:28.752Z"
   },
   {
    "duration": 7,
    "start_time": "2023-04-25T18:53:28.823Z"
   },
   {
    "duration": 16,
    "start_time": "2023-04-25T18:53:28.832Z"
   },
   {
    "duration": 20,
    "start_time": "2023-04-25T18:53:28.849Z"
   },
   {
    "duration": 6,
    "start_time": "2023-04-25T18:53:28.871Z"
   },
   {
    "duration": 29,
    "start_time": "2023-04-25T18:53:28.878Z"
   },
   {
    "duration": 13,
    "start_time": "2023-04-25T18:53:28.909Z"
   },
   {
    "duration": 55,
    "start_time": "2023-04-25T18:53:28.924Z"
   },
   {
    "duration": 34,
    "start_time": "2023-04-25T18:53:28.981Z"
   },
   {
    "duration": 32,
    "start_time": "2023-04-25T18:53:29.017Z"
   },
   {
    "duration": 78,
    "start_time": "2023-04-25T18:53:29.051Z"
   },
   {
    "duration": 8,
    "start_time": "2023-04-25T18:53:29.131Z"
   },
   {
    "duration": 83,
    "start_time": "2023-04-25T18:53:29.140Z"
   },
   {
    "duration": 6,
    "start_time": "2023-04-25T18:53:29.225Z"
   },
   {
    "duration": 95,
    "start_time": "2023-04-25T18:53:29.233Z"
   },
   {
    "duration": 4,
    "start_time": "2023-04-25T18:53:29.329Z"
   },
   {
    "duration": 5,
    "start_time": "2023-04-25T18:53:29.334Z"
   },
   {
    "duration": 13,
    "start_time": "2023-04-25T18:53:29.341Z"
   },
   {
    "duration": 12,
    "start_time": "2023-04-25T18:53:29.355Z"
   },
   {
    "duration": 6,
    "start_time": "2023-04-25T18:53:29.369Z"
   },
   {
    "duration": 899,
    "start_time": "2023-04-25T18:53:29.377Z"
   },
   {
    "duration": 0,
    "start_time": "2023-04-25T18:53:30.278Z"
   },
   {
    "duration": 0,
    "start_time": "2023-04-25T18:53:30.279Z"
   },
   {
    "duration": 0,
    "start_time": "2023-04-25T18:53:30.280Z"
   },
   {
    "duration": 0,
    "start_time": "2023-04-25T18:53:30.281Z"
   },
   {
    "duration": 0,
    "start_time": "2023-04-25T18:53:30.282Z"
   },
   {
    "duration": 0,
    "start_time": "2023-04-25T18:53:30.283Z"
   },
   {
    "duration": 0,
    "start_time": "2023-04-25T18:53:30.284Z"
   },
   {
    "duration": 0,
    "start_time": "2023-04-25T18:53:30.285Z"
   },
   {
    "duration": 0,
    "start_time": "2023-04-25T18:53:30.286Z"
   },
   {
    "duration": 0,
    "start_time": "2023-04-25T18:53:30.287Z"
   },
   {
    "duration": 0,
    "start_time": "2023-04-25T18:53:30.288Z"
   },
   {
    "duration": 0,
    "start_time": "2023-04-25T18:53:30.289Z"
   },
   {
    "duration": 0,
    "start_time": "2023-04-25T18:53:30.290Z"
   },
   {
    "duration": 0,
    "start_time": "2023-04-25T18:53:30.291Z"
   },
   {
    "duration": 0,
    "start_time": "2023-04-25T18:53:30.292Z"
   },
   {
    "duration": 0,
    "start_time": "2023-04-25T18:53:30.293Z"
   },
   {
    "duration": 0,
    "start_time": "2023-04-25T18:53:30.294Z"
   },
   {
    "duration": 0,
    "start_time": "2023-04-25T18:53:30.295Z"
   },
   {
    "duration": 0,
    "start_time": "2023-04-25T18:53:30.298Z"
   },
   {
    "duration": 0,
    "start_time": "2023-04-25T18:53:30.300Z"
   },
   {
    "duration": 0,
    "start_time": "2023-04-25T18:53:30.301Z"
   },
   {
    "duration": 0,
    "start_time": "2023-04-25T18:53:30.302Z"
   },
   {
    "duration": 0,
    "start_time": "2023-04-25T18:53:30.303Z"
   },
   {
    "duration": 0,
    "start_time": "2023-04-25T18:53:30.304Z"
   },
   {
    "duration": 0,
    "start_time": "2023-04-25T18:53:30.305Z"
   },
   {
    "duration": 55,
    "start_time": "2023-04-26T09:43:43.870Z"
   },
   {
    "duration": 797,
    "start_time": "2023-04-26T09:43:51.061Z"
   },
   {
    "duration": 868,
    "start_time": "2023-04-26T09:43:51.860Z"
   },
   {
    "duration": 21,
    "start_time": "2023-04-26T09:43:52.732Z"
   },
   {
    "duration": 78,
    "start_time": "2023-04-26T09:43:52.755Z"
   },
   {
    "duration": 88,
    "start_time": "2023-04-26T09:43:52.834Z"
   },
   {
    "duration": 8,
    "start_time": "2023-04-26T09:43:52.923Z"
   },
   {
    "duration": 26,
    "start_time": "2023-04-26T09:43:52.932Z"
   },
   {
    "duration": 9,
    "start_time": "2023-04-26T09:43:52.960Z"
   },
   {
    "duration": 12,
    "start_time": "2023-04-26T09:43:52.971Z"
   },
   {
    "duration": 995,
    "start_time": "2023-04-26T09:43:52.985Z"
   },
   {
    "duration": 12,
    "start_time": "2023-04-26T09:43:53.982Z"
   },
   {
    "duration": 46,
    "start_time": "2023-04-26T09:43:53.996Z"
   },
   {
    "duration": 9,
    "start_time": "2023-04-26T09:43:54.045Z"
   },
   {
    "duration": 16,
    "start_time": "2023-04-26T09:43:54.055Z"
   },
   {
    "duration": 4,
    "start_time": "2023-04-26T09:43:54.072Z"
   },
   {
    "duration": 4,
    "start_time": "2023-04-26T09:43:54.078Z"
   },
   {
    "duration": 2,
    "start_time": "2023-04-26T09:43:54.111Z"
   },
   {
    "duration": 1206,
    "start_time": "2023-04-26T09:43:54.115Z"
   },
   {
    "duration": 22,
    "start_time": "2023-04-26T09:43:55.323Z"
   },
   {
    "duration": 361,
    "start_time": "2023-04-26T09:43:55.347Z"
   },
   {
    "duration": 408,
    "start_time": "2023-04-26T09:43:55.711Z"
   },
   {
    "duration": 349,
    "start_time": "2023-04-26T09:43:56.120Z"
   },
   {
    "duration": 61,
    "start_time": "2023-04-26T09:43:56.470Z"
   },
   {
    "duration": 11,
    "start_time": "2023-04-26T09:43:56.533Z"
   },
   {
    "duration": 12,
    "start_time": "2023-04-26T09:43:56.546Z"
   },
   {
    "duration": 82,
    "start_time": "2023-04-26T09:43:56.560Z"
   },
   {
    "duration": 43,
    "start_time": "2023-04-26T09:43:56.644Z"
   },
   {
    "duration": 9,
    "start_time": "2023-04-26T09:43:56.689Z"
   },
   {
    "duration": 44,
    "start_time": "2023-04-26T09:43:56.712Z"
   },
   {
    "duration": 33,
    "start_time": "2023-04-26T09:43:56.757Z"
   },
   {
    "duration": 73,
    "start_time": "2023-04-26T09:43:56.792Z"
   },
   {
    "duration": 7,
    "start_time": "2023-04-26T09:43:56.866Z"
   },
   {
    "duration": 7,
    "start_time": "2023-04-26T09:43:56.874Z"
   },
   {
    "duration": 34,
    "start_time": "2023-04-26T09:43:56.883Z"
   },
   {
    "duration": 7,
    "start_time": "2023-04-26T09:43:56.919Z"
   },
   {
    "duration": 9,
    "start_time": "2023-04-26T09:43:56.927Z"
   },
   {
    "duration": 10,
    "start_time": "2023-04-26T09:43:56.938Z"
   },
   {
    "duration": 62,
    "start_time": "2023-04-26T09:43:56.950Z"
   },
   {
    "duration": 33,
    "start_time": "2023-04-26T09:43:57.013Z"
   },
   {
    "duration": 36,
    "start_time": "2023-04-26T09:43:57.050Z"
   },
   {
    "duration": 87,
    "start_time": "2023-04-26T09:43:57.088Z"
   },
   {
    "duration": 9,
    "start_time": "2023-04-26T09:43:57.177Z"
   },
   {
    "duration": 82,
    "start_time": "2023-04-26T09:43:57.187Z"
   },
   {
    "duration": 6,
    "start_time": "2023-04-26T09:43:57.271Z"
   },
   {
    "duration": 99,
    "start_time": "2023-04-26T09:43:57.279Z"
   },
   {
    "duration": 4,
    "start_time": "2023-04-26T09:43:57.380Z"
   },
   {
    "duration": 6,
    "start_time": "2023-04-26T09:43:57.385Z"
   },
   {
    "duration": 4,
    "start_time": "2023-04-26T09:43:57.393Z"
   },
   {
    "duration": 5,
    "start_time": "2023-04-26T09:43:57.411Z"
   },
   {
    "duration": 112,
    "start_time": "2023-04-26T09:43:57.417Z"
   },
   {
    "duration": 0,
    "start_time": "2023-04-26T09:43:57.530Z"
   },
   {
    "duration": 0,
    "start_time": "2023-04-26T09:43:57.531Z"
   },
   {
    "duration": 0,
    "start_time": "2023-04-26T09:43:57.533Z"
   },
   {
    "duration": 0,
    "start_time": "2023-04-26T09:43:57.533Z"
   },
   {
    "duration": 0,
    "start_time": "2023-04-26T09:43:57.534Z"
   },
   {
    "duration": 0,
    "start_time": "2023-04-26T09:43:57.536Z"
   },
   {
    "duration": 0,
    "start_time": "2023-04-26T09:43:57.537Z"
   },
   {
    "duration": 0,
    "start_time": "2023-04-26T09:43:57.538Z"
   },
   {
    "duration": 0,
    "start_time": "2023-04-26T09:43:57.539Z"
   },
   {
    "duration": 0,
    "start_time": "2023-04-26T09:43:57.540Z"
   },
   {
    "duration": 0,
    "start_time": "2023-04-26T09:43:57.541Z"
   },
   {
    "duration": 0,
    "start_time": "2023-04-26T09:43:57.542Z"
   },
   {
    "duration": 0,
    "start_time": "2023-04-26T09:43:57.543Z"
   },
   {
    "duration": 0,
    "start_time": "2023-04-26T09:43:57.545Z"
   },
   {
    "duration": 0,
    "start_time": "2023-04-26T09:43:57.545Z"
   },
   {
    "duration": 0,
    "start_time": "2023-04-26T09:43:57.547Z"
   },
   {
    "duration": 0,
    "start_time": "2023-04-26T09:43:57.548Z"
   },
   {
    "duration": 0,
    "start_time": "2023-04-26T09:43:57.549Z"
   },
   {
    "duration": 0,
    "start_time": "2023-04-26T09:43:57.551Z"
   },
   {
    "duration": 0,
    "start_time": "2023-04-26T09:43:57.552Z"
   },
   {
    "duration": 0,
    "start_time": "2023-04-26T09:43:57.553Z"
   },
   {
    "duration": 0,
    "start_time": "2023-04-26T09:43:57.554Z"
   },
   {
    "duration": 0,
    "start_time": "2023-04-26T09:43:57.555Z"
   },
   {
    "duration": 0,
    "start_time": "2023-04-26T09:43:57.557Z"
   },
   {
    "duration": 0,
    "start_time": "2023-04-26T09:43:57.558Z"
   },
   {
    "duration": 0,
    "start_time": "2023-04-26T09:43:57.611Z"
   },
   {
    "duration": 0,
    "start_time": "2023-04-26T09:43:57.612Z"
   },
   {
    "duration": 5,
    "start_time": "2023-04-26T09:44:21.244Z"
   },
   {
    "duration": 55,
    "start_time": "2023-04-26T09:48:33.032Z"
   },
   {
    "duration": 49,
    "start_time": "2023-04-26T09:49:13.512Z"
   },
   {
    "duration": 51,
    "start_time": "2023-04-26T09:50:18.536Z"
   },
   {
    "duration": 46,
    "start_time": "2023-04-26T09:51:32.425Z"
   },
   {
    "duration": 10,
    "start_time": "2023-04-26T09:51:55.780Z"
   },
   {
    "duration": 14,
    "start_time": "2023-04-26T09:52:23.319Z"
   },
   {
    "duration": 11,
    "start_time": "2023-04-26T09:52:52.841Z"
   },
   {
    "duration": 975,
    "start_time": "2023-04-26T11:54:43.771Z"
   },
   {
    "duration": 637,
    "start_time": "2023-04-26T11:54:44.749Z"
   },
   {
    "duration": 20,
    "start_time": "2023-04-26T11:54:45.389Z"
   },
   {
    "duration": 88,
    "start_time": "2023-04-26T11:54:45.411Z"
   },
   {
    "duration": 124,
    "start_time": "2023-04-26T11:54:45.500Z"
   },
   {
    "duration": 8,
    "start_time": "2023-04-26T11:54:45.626Z"
   },
   {
    "duration": 38,
    "start_time": "2023-04-26T11:54:45.635Z"
   },
   {
    "duration": 40,
    "start_time": "2023-04-26T11:54:45.677Z"
   },
   {
    "duration": 28,
    "start_time": "2023-04-26T11:54:45.719Z"
   },
   {
    "duration": 1162,
    "start_time": "2023-04-26T11:54:45.750Z"
   },
   {
    "duration": 12,
    "start_time": "2023-04-26T11:54:46.914Z"
   },
   {
    "duration": 69,
    "start_time": "2023-04-26T11:54:46.928Z"
   },
   {
    "duration": 11,
    "start_time": "2023-04-26T11:54:46.999Z"
   },
   {
    "duration": 22,
    "start_time": "2023-04-26T11:54:47.012Z"
   },
   {
    "duration": 35,
    "start_time": "2023-04-26T11:54:47.036Z"
   },
   {
    "duration": 20,
    "start_time": "2023-04-26T11:54:47.080Z"
   },
   {
    "duration": 11,
    "start_time": "2023-04-26T11:54:47.102Z"
   },
   {
    "duration": 1210,
    "start_time": "2023-04-26T11:54:47.115Z"
   },
   {
    "duration": 22,
    "start_time": "2023-04-26T11:54:48.327Z"
   },
   {
    "duration": 356,
    "start_time": "2023-04-26T11:54:48.350Z"
   },
   {
    "duration": 393,
    "start_time": "2023-04-26T11:54:48.708Z"
   },
   {
    "duration": 330,
    "start_time": "2023-04-26T11:54:49.103Z"
   },
   {
    "duration": 66,
    "start_time": "2023-04-26T11:54:49.435Z"
   },
   {
    "duration": 11,
    "start_time": "2023-04-26T11:54:49.503Z"
   },
   {
    "duration": 10,
    "start_time": "2023-04-26T11:54:49.515Z"
   },
   {
    "duration": 67,
    "start_time": "2023-04-26T11:54:49.551Z"
   },
   {
    "duration": 57,
    "start_time": "2023-04-26T11:54:49.620Z"
   },
   {
    "duration": 8,
    "start_time": "2023-04-26T11:54:49.682Z"
   },
   {
    "duration": 50,
    "start_time": "2023-04-26T11:54:49.692Z"
   },
   {
    "duration": 47,
    "start_time": "2023-04-26T11:54:49.743Z"
   },
   {
    "duration": 88,
    "start_time": "2023-04-26T11:54:49.791Z"
   },
   {
    "duration": 11,
    "start_time": "2023-04-26T11:54:49.880Z"
   },
   {
    "duration": 12,
    "start_time": "2023-04-26T11:54:49.893Z"
   },
   {
    "duration": 19,
    "start_time": "2023-04-26T11:54:49.907Z"
   },
   {
    "duration": 9,
    "start_time": "2023-04-26T11:54:49.927Z"
   },
   {
    "duration": 26,
    "start_time": "2023-04-26T11:54:49.937Z"
   },
   {
    "duration": 40,
    "start_time": "2023-04-26T11:54:49.964Z"
   },
   {
    "duration": 73,
    "start_time": "2023-04-26T11:54:50.006Z"
   },
   {
    "duration": 34,
    "start_time": "2023-04-26T11:54:50.081Z"
   },
   {
    "duration": 63,
    "start_time": "2023-04-26T11:54:50.116Z"
   },
   {
    "duration": 63,
    "start_time": "2023-04-26T11:54:50.180Z"
   },
   {
    "duration": 16,
    "start_time": "2023-04-26T11:54:50.245Z"
   },
   {
    "duration": 71,
    "start_time": "2023-04-26T11:54:50.262Z"
   },
   {
    "duration": 5,
    "start_time": "2023-04-26T11:54:50.335Z"
   },
   {
    "duration": 144,
    "start_time": "2023-04-26T11:54:50.342Z"
   },
   {
    "duration": 4,
    "start_time": "2023-04-26T11:54:50.487Z"
   },
   {
    "duration": 28,
    "start_time": "2023-04-26T11:54:50.492Z"
   },
   {
    "duration": 50,
    "start_time": "2023-04-26T11:54:50.521Z"
   },
   {
    "duration": 23,
    "start_time": "2023-04-26T11:54:50.576Z"
   },
   {
    "duration": 28,
    "start_time": "2023-04-26T11:54:50.601Z"
   },
   {
    "duration": 13,
    "start_time": "2023-04-26T11:54:50.630Z"
   },
   {
    "duration": 32,
    "start_time": "2023-04-26T11:54:50.645Z"
   },
   {
    "duration": 132,
    "start_time": "2023-04-26T11:54:50.679Z"
   },
   {
    "duration": 0,
    "start_time": "2023-04-26T11:54:50.813Z"
   },
   {
    "duration": 0,
    "start_time": "2023-04-26T11:54:50.814Z"
   },
   {
    "duration": 0,
    "start_time": "2023-04-26T11:54:50.815Z"
   },
   {
    "duration": 0,
    "start_time": "2023-04-26T11:54:50.816Z"
   },
   {
    "duration": 0,
    "start_time": "2023-04-26T11:54:50.817Z"
   },
   {
    "duration": 0,
    "start_time": "2023-04-26T11:54:50.818Z"
   },
   {
    "duration": 0,
    "start_time": "2023-04-26T11:54:50.819Z"
   },
   {
    "duration": 0,
    "start_time": "2023-04-26T11:54:50.820Z"
   },
   {
    "duration": 0,
    "start_time": "2023-04-26T11:54:50.821Z"
   },
   {
    "duration": 0,
    "start_time": "2023-04-26T11:54:50.822Z"
   },
   {
    "duration": 0,
    "start_time": "2023-04-26T11:54:50.823Z"
   },
   {
    "duration": 0,
    "start_time": "2023-04-26T11:54:50.824Z"
   },
   {
    "duration": 0,
    "start_time": "2023-04-26T11:54:50.825Z"
   },
   {
    "duration": 0,
    "start_time": "2023-04-26T11:54:50.826Z"
   },
   {
    "duration": 0,
    "start_time": "2023-04-26T11:54:50.849Z"
   },
   {
    "duration": 0,
    "start_time": "2023-04-26T11:54:50.849Z"
   },
   {
    "duration": 0,
    "start_time": "2023-04-26T11:54:50.850Z"
   },
   {
    "duration": 0,
    "start_time": "2023-04-26T11:54:50.858Z"
   },
   {
    "duration": 0,
    "start_time": "2023-04-26T11:54:50.858Z"
   },
   {
    "duration": 0,
    "start_time": "2023-04-26T11:54:50.859Z"
   },
   {
    "duration": 0,
    "start_time": "2023-04-26T11:54:50.860Z"
   },
   {
    "duration": 0,
    "start_time": "2023-04-26T11:54:50.861Z"
   },
   {
    "duration": 0,
    "start_time": "2023-04-26T11:54:50.861Z"
   },
   {
    "duration": 0,
    "start_time": "2023-04-26T11:54:50.862Z"
   },
   {
    "duration": 0,
    "start_time": "2023-04-26T11:54:50.863Z"
   },
   {
    "duration": 10,
    "start_time": "2023-04-26T11:56:12.031Z"
   },
   {
    "duration": 12,
    "start_time": "2023-04-26T12:02:53.746Z"
   },
   {
    "duration": 10,
    "start_time": "2023-04-26T12:06:58.700Z"
   },
   {
    "duration": 10,
    "start_time": "2023-04-26T12:08:01.634Z"
   },
   {
    "duration": 10,
    "start_time": "2023-04-26T12:09:16.573Z"
   },
   {
    "duration": 9,
    "start_time": "2023-04-26T12:09:51.322Z"
   },
   {
    "duration": 9,
    "start_time": "2023-04-26T12:10:43.413Z"
   },
   {
    "duration": 9,
    "start_time": "2023-04-26T12:14:39.190Z"
   },
   {
    "duration": 11,
    "start_time": "2023-04-26T12:15:30.709Z"
   },
   {
    "duration": 9,
    "start_time": "2023-04-26T12:18:58.622Z"
   },
   {
    "duration": 943,
    "start_time": "2023-04-27T08:32:54.385Z"
   },
   {
    "duration": 800,
    "start_time": "2023-04-27T08:32:55.330Z"
   },
   {
    "duration": 19,
    "start_time": "2023-04-27T08:32:56.132Z"
   },
   {
    "duration": 72,
    "start_time": "2023-04-27T08:32:56.153Z"
   },
   {
    "duration": 86,
    "start_time": "2023-04-27T08:32:56.227Z"
   },
   {
    "duration": 9,
    "start_time": "2023-04-27T08:32:56.314Z"
   },
   {
    "duration": 14,
    "start_time": "2023-04-27T08:32:56.324Z"
   },
   {
    "duration": 10,
    "start_time": "2023-04-27T08:32:56.339Z"
   },
   {
    "duration": 12,
    "start_time": "2023-04-27T08:32:56.350Z"
   },
   {
    "duration": 1053,
    "start_time": "2023-04-27T08:32:56.394Z"
   },
   {
    "duration": 11,
    "start_time": "2023-04-27T08:32:57.450Z"
   },
   {
    "duration": 55,
    "start_time": "2023-04-27T08:32:57.463Z"
   },
   {
    "duration": 11,
    "start_time": "2023-04-27T08:32:57.520Z"
   },
   {
    "duration": 27,
    "start_time": "2023-04-27T08:32:57.533Z"
   },
   {
    "duration": 33,
    "start_time": "2023-04-27T08:32:57.562Z"
   },
   {
    "duration": 6,
    "start_time": "2023-04-27T08:32:57.597Z"
   },
   {
    "duration": 3,
    "start_time": "2023-04-27T08:32:57.605Z"
   },
   {
    "duration": 1330,
    "start_time": "2023-04-27T08:32:57.610Z"
   },
   {
    "duration": 20,
    "start_time": "2023-04-27T08:32:58.942Z"
   },
   {
    "duration": 386,
    "start_time": "2023-04-27T08:32:58.964Z"
   },
   {
    "duration": 489,
    "start_time": "2023-04-27T08:32:59.353Z"
   },
   {
    "duration": 372,
    "start_time": "2023-04-27T08:32:59.844Z"
   },
   {
    "duration": 58,
    "start_time": "2023-04-27T08:33:00.218Z"
   },
   {
    "duration": 28,
    "start_time": "2023-04-27T08:33:00.278Z"
   },
   {
    "duration": 32,
    "start_time": "2023-04-27T08:33:00.309Z"
   },
   {
    "duration": 75,
    "start_time": "2023-04-27T08:33:00.345Z"
   },
   {
    "duration": 44,
    "start_time": "2023-04-27T08:33:00.422Z"
   },
   {
    "duration": 23,
    "start_time": "2023-04-27T08:33:00.472Z"
   },
   {
    "duration": 71,
    "start_time": "2023-04-27T08:33:00.497Z"
   },
   {
    "duration": 38,
    "start_time": "2023-04-27T08:33:00.570Z"
   },
   {
    "duration": 59,
    "start_time": "2023-04-27T08:33:00.610Z"
   },
   {
    "duration": 24,
    "start_time": "2023-04-27T08:33:00.671Z"
   },
   {
    "duration": 32,
    "start_time": "2023-04-27T08:33:00.696Z"
   },
   {
    "duration": 39,
    "start_time": "2023-04-27T08:33:00.729Z"
   },
   {
    "duration": 12,
    "start_time": "2023-04-27T08:33:00.770Z"
   },
   {
    "duration": 43,
    "start_time": "2023-04-27T08:33:00.783Z"
   },
   {
    "duration": 23,
    "start_time": "2023-04-27T08:33:00.828Z"
   },
   {
    "duration": 68,
    "start_time": "2023-04-27T08:33:00.853Z"
   },
   {
    "duration": 35,
    "start_time": "2023-04-27T08:33:00.923Z"
   },
   {
    "duration": 51,
    "start_time": "2023-04-27T08:33:00.961Z"
   },
   {
    "duration": 79,
    "start_time": "2023-04-27T08:33:01.014Z"
   },
   {
    "duration": 13,
    "start_time": "2023-04-27T08:33:01.096Z"
   },
   {
    "duration": 99,
    "start_time": "2023-04-27T08:33:01.111Z"
   },
   {
    "duration": 5,
    "start_time": "2023-04-27T08:33:01.212Z"
   },
   {
    "duration": 99,
    "start_time": "2023-04-27T08:33:01.219Z"
   },
   {
    "duration": 4,
    "start_time": "2023-04-27T08:33:01.319Z"
   },
   {
    "duration": 35,
    "start_time": "2023-04-27T08:33:01.325Z"
   },
   {
    "duration": 21,
    "start_time": "2023-04-27T08:33:01.361Z"
   },
   {
    "duration": 55,
    "start_time": "2023-04-27T08:33:01.384Z"
   },
   {
    "duration": 24,
    "start_time": "2023-04-27T08:33:01.441Z"
   },
   {
    "duration": 37,
    "start_time": "2023-04-27T08:33:01.467Z"
   },
   {
    "duration": 31,
    "start_time": "2023-04-27T08:33:01.506Z"
   },
   {
    "duration": 26,
    "start_time": "2023-04-27T08:33:01.539Z"
   },
   {
    "duration": 26,
    "start_time": "2023-04-27T08:33:01.567Z"
   },
   {
    "duration": 52,
    "start_time": "2023-04-27T08:33:01.595Z"
   },
   {
    "duration": 50,
    "start_time": "2023-04-27T08:33:01.649Z"
   },
   {
    "duration": 58,
    "start_time": "2023-04-27T08:33:01.701Z"
   },
   {
    "duration": 34,
    "start_time": "2023-04-27T08:33:01.762Z"
   },
   {
    "duration": 4,
    "start_time": "2023-04-27T08:35:22.238Z"
   },
   {
    "duration": 10,
    "start_time": "2023-04-27T08:35:24.354Z"
   },
   {
    "duration": 11,
    "start_time": "2023-04-27T08:35:29.739Z"
   },
   {
    "duration": 10,
    "start_time": "2023-04-27T08:35:32.636Z"
   },
   {
    "duration": 10,
    "start_time": "2023-04-27T08:35:35.635Z"
   },
   {
    "duration": 5,
    "start_time": "2023-04-27T08:35:52.606Z"
   },
   {
    "duration": 10,
    "start_time": "2023-04-27T08:35:54.721Z"
   },
   {
    "duration": 12,
    "start_time": "2023-04-27T08:35:57.352Z"
   },
   {
    "duration": 10,
    "start_time": "2023-04-27T08:35:59.817Z"
   },
   {
    "duration": 10,
    "start_time": "2023-04-27T08:36:01.797Z"
   },
   {
    "duration": 54,
    "start_time": "2023-09-09T17:53:16.058Z"
   },
   {
    "duration": 7,
    "start_time": "2023-09-09T17:58:29.348Z"
   },
   {
    "duration": 1248,
    "start_time": "2023-09-09T18:04:40.646Z"
   },
   {
    "duration": 556,
    "start_time": "2023-09-09T18:04:41.897Z"
   },
   {
    "duration": 23,
    "start_time": "2023-09-09T18:04:42.455Z"
   },
   {
    "duration": 80,
    "start_time": "2023-09-09T18:04:42.480Z"
   },
   {
    "duration": 100,
    "start_time": "2023-09-09T18:04:42.562Z"
   },
   {
    "duration": 9,
    "start_time": "2023-09-09T18:04:42.664Z"
   },
   {
    "duration": 22,
    "start_time": "2023-09-09T18:04:42.675Z"
   },
   {
    "duration": 9,
    "start_time": "2023-09-09T18:04:42.700Z"
   },
   {
    "duration": 37,
    "start_time": "2023-09-09T18:04:42.711Z"
   },
   {
    "duration": 1160,
    "start_time": "2023-09-09T18:04:42.749Z"
   },
   {
    "duration": 15,
    "start_time": "2023-09-09T18:04:43.911Z"
   },
   {
    "duration": 67,
    "start_time": "2023-09-09T18:04:43.928Z"
   },
   {
    "duration": 11,
    "start_time": "2023-09-09T18:04:43.997Z"
   },
   {
    "duration": 33,
    "start_time": "2023-09-09T18:04:44.011Z"
   },
   {
    "duration": 6,
    "start_time": "2023-09-09T18:04:44.047Z"
   },
   {
    "duration": 12,
    "start_time": "2023-09-09T18:04:44.054Z"
   },
   {
    "duration": 772,
    "start_time": "2023-09-09T18:04:44.067Z"
   },
   {
    "duration": 22,
    "start_time": "2023-09-09T18:04:44.841Z"
   },
   {
    "duration": 398,
    "start_time": "2023-09-09T18:04:44.865Z"
   },
   {
    "duration": 378,
    "start_time": "2023-09-09T18:04:45.265Z"
   },
   {
    "duration": 574,
    "start_time": "2023-09-09T18:04:45.644Z"
   },
   {
    "duration": 63,
    "start_time": "2023-09-09T18:04:46.220Z"
   },
   {
    "duration": 20,
    "start_time": "2023-09-09T18:04:46.285Z"
   },
   {
    "duration": 10,
    "start_time": "2023-09-09T18:04:46.307Z"
   },
   {
    "duration": 95,
    "start_time": "2023-09-09T18:04:46.319Z"
   },
   {
    "duration": 66,
    "start_time": "2023-09-09T18:04:46.416Z"
   },
   {
    "duration": 8,
    "start_time": "2023-09-09T18:04:46.484Z"
   },
   {
    "duration": 62,
    "start_time": "2023-09-09T18:04:46.493Z"
   },
   {
    "duration": 40,
    "start_time": "2023-09-09T18:04:46.557Z"
   },
   {
    "duration": 82,
    "start_time": "2023-09-09T18:04:46.598Z"
   },
   {
    "duration": 10,
    "start_time": "2023-09-09T18:04:46.682Z"
   },
   {
    "duration": 8,
    "start_time": "2023-09-09T18:04:46.694Z"
   },
   {
    "duration": 47,
    "start_time": "2023-09-09T18:04:46.704Z"
   },
   {
    "duration": 8,
    "start_time": "2023-09-09T18:04:46.752Z"
   },
   {
    "duration": 15,
    "start_time": "2023-09-09T18:04:46.762Z"
   },
   {
    "duration": 5,
    "start_time": "2023-09-09T18:04:46.779Z"
   },
   {
    "duration": 74,
    "start_time": "2023-09-09T18:04:46.786Z"
   },
   {
    "duration": 36,
    "start_time": "2023-09-09T18:04:46.862Z"
   },
   {
    "duration": 57,
    "start_time": "2023-09-09T18:04:46.900Z"
   },
   {
    "duration": 71,
    "start_time": "2023-09-09T18:04:46.959Z"
   },
   {
    "duration": 11,
    "start_time": "2023-09-09T18:04:47.046Z"
   },
   {
    "duration": 140,
    "start_time": "2023-09-09T18:04:47.058Z"
   },
   {
    "duration": 7,
    "start_time": "2023-09-09T18:04:47.200Z"
   },
   {
    "duration": 104,
    "start_time": "2023-09-09T18:04:47.209Z"
   },
   {
    "duration": 5,
    "start_time": "2023-09-09T18:04:47.316Z"
   },
   {
    "duration": 35,
    "start_time": "2023-09-09T18:04:47.323Z"
   },
   {
    "duration": 95,
    "start_time": "2023-09-09T18:04:47.360Z"
   },
   {
    "duration": 45,
    "start_time": "2023-09-09T18:04:47.457Z"
   },
   {
    "duration": 69,
    "start_time": "2023-09-09T18:04:47.504Z"
   },
   {
    "duration": 22,
    "start_time": "2023-09-09T18:04:47.575Z"
   },
   {
    "duration": 20,
    "start_time": "2023-09-09T18:04:47.599Z"
   },
   {
    "duration": 22,
    "start_time": "2023-09-09T18:04:47.621Z"
   },
   {
    "duration": 10,
    "start_time": "2023-09-09T18:04:47.645Z"
   },
   {
    "duration": 29,
    "start_time": "2023-09-09T18:04:47.657Z"
   },
   {
    "duration": 11,
    "start_time": "2023-09-09T18:04:47.688Z"
   },
   {
    "duration": 26,
    "start_time": "2023-09-09T18:04:47.701Z"
   },
   {
    "duration": 31,
    "start_time": "2023-09-09T18:04:47.729Z"
   }
  ],
  "kernelspec": {
   "display_name": "Python 3 (ipykernel)",
   "language": "python",
   "name": "python3"
  },
  "language_info": {
   "codemirror_mode": {
    "name": "ipython",
    "version": 3
   },
   "file_extension": ".py",
   "mimetype": "text/x-python",
   "name": "python",
   "nbconvert_exporter": "python",
   "pygments_lexer": "ipython3",
   "version": "3.9.5"
  },
  "toc": {
   "base_numbering": 1,
   "nav_menu": {},
   "number_sections": false,
   "sideBar": true,
   "skip_h1_title": false,
   "title_cell": "Table of Contents",
   "title_sidebar": "Contents",
   "toc_cell": false,
   "toc_position": {
    "height": "calc(100% - 180px)",
    "left": "10px",
    "top": "150px",
    "width": "282.273px"
   },
   "toc_section_display": true,
   "toc_window_display": true
  }
 },
 "nbformat": 4,
 "nbformat_minor": 2
}
