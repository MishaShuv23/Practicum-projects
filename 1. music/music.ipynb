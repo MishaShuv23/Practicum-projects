{
 "cells": [
  {
   "cell_type": "markdown",
   "metadata": {
    "deletable": false,
    "editable": false,
    "id": "E0vqbgi9ay0H"
   },
   "source": [
    "# Яндекс Музыка"
   ]
  },
  {
   "cell_type": "markdown",
   "metadata": {
    "deletable": false,
    "editable": false,
    "id": "VUC88oWjTJw2"
   },
   "source": [
    "Сравнение Москвы и Петербурга окружено мифами. Например:\n",
    " * Москва — мегаполис, подчинённый жёсткому ритму рабочей недели;\n",
    " * Петербург — культурная столица, со своими вкусами.\n",
    "\n",
    "На данных Яндекс Музыки вы сравните поведение пользователей двух столиц.\n",
    "\n",
    "**Цель исследования** — проверьте три гипотезы:\n",
    "1. Активность пользователей зависит от дня недели. Причём в Москве и Петербурге это проявляется по-разному.\n",
    "2. В понедельник утром в Москве преобладают одни жанры, а в Петербурге — другие. Так же и вечером пятницы преобладают разные жанры — в зависимости от города. \n",
    "3. Москва и Петербург предпочитают разные жанры музыки. В Москве чаще слушают поп-музыку, в Петербурге — русский рэп.\n",
    "\n",
    "**Ход исследования**\n",
    "\n",
    "Данные о поведении пользователей вы получите из файла `yandex_music_project.csv`. О качестве данных ничего не известно. Поэтому перед проверкой гипотез понадобится обзор данных. \n",
    "\n",
    "Вы проверите данные на ошибки и оцените их влияние на исследование. Затем, на этапе предобработки вы поищете возможность исправить самые критичные ошибки данных.\n",
    " \n",
    "Таким образом, исследование пройдёт в три этапа:\n",
    " 1. Обзор данных.\n",
    " 2. Предобработка данных.\n",
    " 3. Проверка гипотез.\n",
    "\n"
   ]
  },
  {
   "cell_type": "markdown",
   "metadata": {
    "deletable": false,
    "editable": false,
    "id": "Ml1hmfXC_Zcs"
   },
   "source": [
    "## Обзор данных\n",
    "\n",
    "Составьте первое представление о данных Яндекс Музыки.\n",
    "\n",
    "\n"
   ]
  },
  {
   "cell_type": "markdown",
   "metadata": {
    "deletable": false,
    "editable": false,
    "id": "57eAOGIz_Zcs",
    "tags": [
     "start_task"
    ]
   },
   "source": [
    "**Задание 1**\n",
    "\n",
    "Основной инструмент аналитика — `pandas`. Импортируйте эту библиотеку."
   ]
  },
  {
   "cell_type": "code",
   "execution_count": 1,
   "metadata": {
    "deletable": false,
    "id": "AXN7PHPN_Zcs"
   },
   "outputs": [],
   "source": [
    "import pandas as pd "
   ]
  },
  {
   "cell_type": "markdown",
   "metadata": {
    "deletable": false,
    "editable": false,
    "id": "SG23P8tt_Zcs",
    "tags": [
     "start_task"
    ]
   },
   "source": [
    "**Задание 2**\n",
    "\n",
    "Прочитайте файл `yandex_music_project.csv` из папки `/datasets` и сохраните его в переменной `df`:"
   ]
  },
  {
   "cell_type": "code",
   "execution_count": 2,
   "metadata": {
    "deletable": false,
    "id": "fFVu7vqh_Zct"
   },
   "outputs": [],
   "source": [
    "df=pd.read_csv('/datasets/yandex_music_project.csv') "
   ]
  },
  {
   "cell_type": "markdown",
   "metadata": {
    "deletable": false,
    "editable": false,
    "id": "rDoOMd3uTqnZ",
    "tags": [
     "start_task"
    ]
   },
   "source": [
    "**Задание 3**\n",
    "\n",
    "\n",
    "Выведите на экран первые десять строк таблицы:"
   ]
  },
  {
   "cell_type": "code",
   "execution_count": 3,
   "metadata": {
    "deletable": false,
    "id": "oWTVX3gW_Zct"
   },
   "outputs": [
    {
     "data": {
      "text/html": [
       "<div>\n",
       "<style scoped>\n",
       "    .dataframe tbody tr th:only-of-type {\n",
       "        vertical-align: middle;\n",
       "    }\n",
       "\n",
       "    .dataframe tbody tr th {\n",
       "        vertical-align: top;\n",
       "    }\n",
       "\n",
       "    .dataframe thead th {\n",
       "        text-align: right;\n",
       "    }\n",
       "</style>\n",
       "<table border=\"1\" class=\"dataframe\">\n",
       "  <thead>\n",
       "    <tr style=\"text-align: right;\">\n",
       "      <th></th>\n",
       "      <th>userID</th>\n",
       "      <th>Track</th>\n",
       "      <th>artist</th>\n",
       "      <th>genre</th>\n",
       "      <th>City</th>\n",
       "      <th>time</th>\n",
       "      <th>Day</th>\n",
       "    </tr>\n",
       "  </thead>\n",
       "  <tbody>\n",
       "    <tr>\n",
       "      <th>0</th>\n",
       "      <td>FFB692EC</td>\n",
       "      <td>Kamigata To Boots</td>\n",
       "      <td>The Mass Missile</td>\n",
       "      <td>rock</td>\n",
       "      <td>Saint-Petersburg</td>\n",
       "      <td>20:28:33</td>\n",
       "      <td>Wednesday</td>\n",
       "    </tr>\n",
       "    <tr>\n",
       "      <th>1</th>\n",
       "      <td>55204538</td>\n",
       "      <td>Delayed Because of Accident</td>\n",
       "      <td>Andreas Rönnberg</td>\n",
       "      <td>rock</td>\n",
       "      <td>Moscow</td>\n",
       "      <td>14:07:09</td>\n",
       "      <td>Friday</td>\n",
       "    </tr>\n",
       "    <tr>\n",
       "      <th>2</th>\n",
       "      <td>20EC38</td>\n",
       "      <td>Funiculì funiculà</td>\n",
       "      <td>Mario Lanza</td>\n",
       "      <td>pop</td>\n",
       "      <td>Saint-Petersburg</td>\n",
       "      <td>20:58:07</td>\n",
       "      <td>Wednesday</td>\n",
       "    </tr>\n",
       "    <tr>\n",
       "      <th>3</th>\n",
       "      <td>A3DD03C9</td>\n",
       "      <td>Dragons in the Sunset</td>\n",
       "      <td>Fire + Ice</td>\n",
       "      <td>folk</td>\n",
       "      <td>Saint-Petersburg</td>\n",
       "      <td>08:37:09</td>\n",
       "      <td>Monday</td>\n",
       "    </tr>\n",
       "    <tr>\n",
       "      <th>4</th>\n",
       "      <td>E2DC1FAE</td>\n",
       "      <td>Soul People</td>\n",
       "      <td>Space Echo</td>\n",
       "      <td>dance</td>\n",
       "      <td>Moscow</td>\n",
       "      <td>08:34:34</td>\n",
       "      <td>Monday</td>\n",
       "    </tr>\n",
       "    <tr>\n",
       "      <th>5</th>\n",
       "      <td>842029A1</td>\n",
       "      <td>Преданная</td>\n",
       "      <td>IMPERVTOR</td>\n",
       "      <td>rusrap</td>\n",
       "      <td>Saint-Petersburg</td>\n",
       "      <td>13:09:41</td>\n",
       "      <td>Friday</td>\n",
       "    </tr>\n",
       "    <tr>\n",
       "      <th>6</th>\n",
       "      <td>4CB90AA5</td>\n",
       "      <td>True</td>\n",
       "      <td>Roman Messer</td>\n",
       "      <td>dance</td>\n",
       "      <td>Moscow</td>\n",
       "      <td>13:00:07</td>\n",
       "      <td>Wednesday</td>\n",
       "    </tr>\n",
       "    <tr>\n",
       "      <th>7</th>\n",
       "      <td>F03E1C1F</td>\n",
       "      <td>Feeling This Way</td>\n",
       "      <td>Polina Griffith</td>\n",
       "      <td>dance</td>\n",
       "      <td>Moscow</td>\n",
       "      <td>20:47:49</td>\n",
       "      <td>Wednesday</td>\n",
       "    </tr>\n",
       "    <tr>\n",
       "      <th>8</th>\n",
       "      <td>8FA1D3BE</td>\n",
       "      <td>И вновь продолжается бой</td>\n",
       "      <td>NaN</td>\n",
       "      <td>ruspop</td>\n",
       "      <td>Moscow</td>\n",
       "      <td>09:17:40</td>\n",
       "      <td>Friday</td>\n",
       "    </tr>\n",
       "    <tr>\n",
       "      <th>9</th>\n",
       "      <td>E772D5C0</td>\n",
       "      <td>Pessimist</td>\n",
       "      <td>NaN</td>\n",
       "      <td>dance</td>\n",
       "      <td>Saint-Petersburg</td>\n",
       "      <td>21:20:49</td>\n",
       "      <td>Wednesday</td>\n",
       "    </tr>\n",
       "  </tbody>\n",
       "</table>\n",
       "</div>"
      ],
      "text/plain": [
       "     userID                        Track            artist   genre  \\\n",
       "0  FFB692EC            Kamigata To Boots  The Mass Missile    rock   \n",
       "1  55204538  Delayed Because of Accident  Andreas Rönnberg    rock   \n",
       "2    20EC38            Funiculì funiculà       Mario Lanza     pop   \n",
       "3  A3DD03C9        Dragons in the Sunset        Fire + Ice    folk   \n",
       "4  E2DC1FAE                  Soul People        Space Echo   dance   \n",
       "5  842029A1                    Преданная         IMPERVTOR  rusrap   \n",
       "6  4CB90AA5                         True      Roman Messer   dance   \n",
       "7  F03E1C1F             Feeling This Way   Polina Griffith   dance   \n",
       "8  8FA1D3BE     И вновь продолжается бой               NaN  ruspop   \n",
       "9  E772D5C0                    Pessimist               NaN   dance   \n",
       "\n",
       "             City        time        Day  \n",
       "0  Saint-Petersburg  20:28:33  Wednesday  \n",
       "1            Moscow  14:07:09     Friday  \n",
       "2  Saint-Petersburg  20:58:07  Wednesday  \n",
       "3  Saint-Petersburg  08:37:09     Monday  \n",
       "4            Moscow  08:34:34     Monday  \n",
       "5  Saint-Petersburg  13:09:41     Friday  \n",
       "6            Moscow  13:00:07  Wednesday  \n",
       "7            Moscow  20:47:49  Wednesday  \n",
       "8            Moscow  09:17:40     Friday  \n",
       "9  Saint-Petersburg  21:20:49  Wednesday  "
      ]
     },
     "execution_count": 3,
     "metadata": {},
     "output_type": "execute_result"
    }
   ],
   "source": [
    "df.head(10) "
   ]
  },
  {
   "cell_type": "markdown",
   "metadata": {
    "deletable": false,
    "editable": false,
    "id": "EO73Kwic_Zct",
    "tags": [
     "start_task"
    ]
   },
   "source": [
    "**Задание 4**\n",
    "\n",
    "\n",
    "Одной командой получить общую информацию о таблице c помощью метода `info()`:"
   ]
  },
  {
   "cell_type": "code",
   "execution_count": 4,
   "metadata": {
    "deletable": false,
    "id": "DSf2kIb-_Zct"
   },
   "outputs": [
    {
     "name": "stdout",
     "output_type": "stream",
     "text": [
      "<class 'pandas.core.frame.DataFrame'>\n",
      "RangeIndex: 65079 entries, 0 to 65078\n",
      "Data columns (total 7 columns):\n",
      " #   Column    Non-Null Count  Dtype \n",
      "---  ------    --------------  ----- \n",
      " 0     userID  65079 non-null  object\n",
      " 1   Track     63848 non-null  object\n",
      " 2   artist    57876 non-null  object\n",
      " 3   genre     63881 non-null  object\n",
      " 4     City    65079 non-null  object\n",
      " 5   time      65079 non-null  object\n",
      " 6   Day       65079 non-null  object\n",
      "dtypes: object(7)\n",
      "memory usage: 3.5+ MB\n"
     ]
    }
   ],
   "source": [
    "df.info() "
   ]
  },
  {
   "cell_type": "markdown",
   "metadata": {
    "deletable": false,
    "editable": false,
    "id": "TaQ2Iwbr_Zct"
   },
   "source": [
    "Итак, в таблице семь столбцов. Тип данных во всех столбцах — `object`.\n",
    "\n",
    "Согласно документации к данным:\n",
    "* `userID` — идентификатор пользователя;\n",
    "* `Track` — название трека;  \n",
    "* `artist` — имя исполнителя;\n",
    "* `genre` — название жанра;\n",
    "* `City` — город пользователя;\n",
    "* `time` — время начала прослушивания;\n",
    "* `Day` — день недели.\n",
    "\n",
    "Количество значений в столбцах различается. Значит, в данных есть пропущенные значения."
   ]
  },
  {
   "cell_type": "markdown",
   "metadata": {
    "deletable": false,
    "editable": false,
    "id": "rAfziTBDmf2h",
    "tags": [
     "start_task"
    ]
   },
   "source": [
    "**Задание 5**\n",
    "\n",
    "**Вопрос со свободной формой ответа**\n",
    "\n",
    "В названиях колонок видны нарушения стиля:\n",
    "* Строчные буквы сочетаются с прописными.\n",
    "* Встречаются пробелы.\n",
    "\n",
    "Какое третье нарушение?"
   ]
  },
  {
   "cell_type": "markdown",
   "metadata": {
    "deletable": false,
    "editable": false,
    "id": "MCB6-dXG_Zct"
   },
   "source": [
    "**Выводы**\n",
    "\n",
    "В каждой строке таблицы — данные о прослушанном треке. Часть колонок описывает саму композицию: название, исполнителя и жанр. Остальные данные рассказывают о пользователе: из какого он города, когда он слушал музыку. \n",
    "\n",
    "Предварительно можно утверждать, что данных достаточно для проверки гипотез. Но встречаются пропуски в данных, а в названиях колонок — расхождения с хорошим стилем.\n",
    "\n",
    "Чтобы двигаться дальше, нужно устранить проблемы в данных."
   ]
  },
  {
   "cell_type": "markdown",
   "metadata": {
    "deletable": false,
    "editable": false,
    "id": "SjYF6Ub9_Zct"
   },
   "source": [
    "## Предобработка данных\n",
    "Исправьте стиль в заголовках столбцов, исключите пропуски. Затем проверьте данные на дубликаты."
   ]
  },
  {
   "cell_type": "markdown",
   "metadata": {
    "deletable": false,
    "editable": false,
    "id": "dIaKXr29_Zct",
    "tags": [
     "start_task"
    ]
   },
   "source": [
    "### Стиль заголовков\n",
    "\n",
    "**Задание 6**\n",
    "\n",
    "Выведите на экран названия столбцов:"
   ]
  },
  {
   "cell_type": "code",
   "execution_count": 5,
   "metadata": {
    "deletable": false,
    "id": "oKOTdF_Q_Zct"
   },
   "outputs": [
    {
     "data": {
      "text/plain": [
       "Index(['  userID', 'Track', 'artist', 'genre', '  City  ', 'time', 'Day'], dtype='object')"
      ]
     },
     "execution_count": 5,
     "metadata": {},
     "output_type": "execute_result"
    }
   ],
   "source": [
    "df.columns "
   ]
  },
  {
   "cell_type": "markdown",
   "metadata": {
    "deletable": false,
    "editable": false,
    "id": "zj5534cv_Zct",
    "tags": [
     "start_task"
    ]
   },
   "source": [
    "**Задание 7**\n",
    "\n",
    "\n",
    "Приведите названия в соответствие с хорошим стилем:\n",
    "* несколько слов в названии запишите в «змеином_регистре»,\n",
    "* все символы сделайте строчными,\n",
    "* устраните пробелы.\n",
    "\n",
    "Для этого переименуйте колонки так:\n",
    "* `'  userID'` → `'user_id'`;\n",
    "* `'Track'` → `'track'`;\n",
    "* `'  City  '` → `'city'`;\n",
    "* `'Day'` → `'day'`."
   ]
  },
  {
   "cell_type": "code",
   "execution_count": 6,
   "metadata": {
    "deletable": false,
    "id": "ISlFqs5y_Zct"
   },
   "outputs": [],
   "source": [
    "df=df.rename(columns = {'  userID':'user_id', 'Track':'track', '  City  ':'city', 'Day': 'day'}) "
   ]
  },
  {
   "cell_type": "markdown",
   "metadata": {
    "deletable": false,
    "editable": false,
    "id": "1dqbh00J_Zct",
    "tags": [
     "start_task"
    ]
   },
   "source": [
    "**Задание 8**\n",
    "\n",
    "\n",
    "Проверьте результат. Для этого ещё раз выведите на экран названия столбцов:"
   ]
  },
  {
   "cell_type": "code",
   "execution_count": 7,
   "metadata": {
    "deletable": false,
    "id": "d4NOAmTW_Zct"
   },
   "outputs": [
    {
     "data": {
      "text/plain": [
       "Index(['user_id', 'track', 'artist', 'genre', 'city', 'time', 'day'], dtype='object')"
      ]
     },
     "execution_count": 7,
     "metadata": {},
     "output_type": "execute_result"
    }
   ],
   "source": [
    "df.columns "
   ]
  },
  {
   "cell_type": "markdown",
   "metadata": {
    "deletable": false,
    "editable": false,
    "id": "5ISfbcfY_Zct",
    "tags": [
     "start_task"
    ]
   },
   "source": [
    "### Пропуски значений\n",
    "\n",
    "**Задание 9**\n",
    "\n",
    "Сначала посчитайте, сколько в таблице пропущенных значений. Для этого достаточно двух методов `pandas`:"
   ]
  },
  {
   "cell_type": "code",
   "execution_count": 8,
   "metadata": {
    "deletable": false,
    "id": "RskX29qr_Zct"
   },
   "outputs": [
    {
     "data": {
      "text/plain": [
       "user_id       0\n",
       "track      1231\n",
       "artist     7203\n",
       "genre      1198\n",
       "city          0\n",
       "time          0\n",
       "day           0\n",
       "dtype: int64"
      ]
     },
     "execution_count": 8,
     "metadata": {},
     "output_type": "execute_result"
    }
   ],
   "source": [
    "df.isna().sum() "
   ]
  },
  {
   "cell_type": "markdown",
   "metadata": {
    "deletable": false,
    "editable": false,
    "id": "qubhgnlO_Zct"
   },
   "source": [
    "Не все пропущенные значения влияют на исследование. Так в `track` и `artist` пропуски не важны для вашей работы. Достаточно заменить их явными обозначениями.\n",
    "\n",
    "Но пропуски в `genre` могут помешать сравнению музыкальных вкусов в Москве и Санкт-Петербурге. На практике было бы правильно установить причину пропусков и восстановить данные. Такой возможности нет в учебном проекте. Придётся:\n",
    "* заполнить и эти пропуски явными обозначениями;\n",
    "* оценить, насколько они повредят расчётам. "
   ]
  },
  {
   "cell_type": "markdown",
   "metadata": {
    "deletable": false,
    "editable": false,
    "id": "fSv2laPA_Zct",
    "tags": [
     "start_task"
    ]
   },
   "source": [
    "**Задание 10**\n",
    "\n",
    "Замените пропущенные значения в столбцах `track`, `artist` и `genre` на строку `'unknown'`. Для этого создайте список `columns_to_replace`, переберите его элементы циклом `for` и для каждого столбца выполните замену пропущенных значений:"
   ]
  },
  {
   "cell_type": "code",
   "execution_count": 9,
   "metadata": {
    "deletable": false,
    "id": "KplB5qWs_Zct"
   },
   "outputs": [],
   "source": [
    "columns_to_replace=['track', 'artist', 'genre']\n",
    "for column in columns_to_replace:\n",
    "    df[column]=df[column].fillna('unknown') "
   ]
  },
  {
   "cell_type": "markdown",
   "metadata": {
    "deletable": false,
    "editable": false,
    "id": "Ilsm-MZo_Zct",
    "tags": [
     "start_task"
    ]
   },
   "source": [
    "**Задание 11**\n",
    "\n",
    "Убедитесь, что в таблице не осталось пропусков. Для этого ещё раз посчитайте пропущенные значения."
   ]
  },
  {
   "cell_type": "code",
   "execution_count": 10,
   "metadata": {
    "deletable": false,
    "id": "Tq4nYRX4_Zct"
   },
   "outputs": [
    {
     "data": {
      "text/plain": [
       "user_id    0\n",
       "track      0\n",
       "artist     0\n",
       "genre      0\n",
       "city       0\n",
       "time       0\n",
       "day        0\n",
       "dtype: int64"
      ]
     },
     "execution_count": 10,
     "metadata": {},
     "output_type": "execute_result"
    }
   ],
   "source": [
    "df.isna().sum() "
   ]
  },
  {
   "cell_type": "markdown",
   "metadata": {
    "deletable": false,
    "editable": false,
    "id": "BWKRtBJ3_Zct",
    "tags": [
     "start_task"
    ]
   },
   "source": [
    "### Дубликаты\n",
    "\n",
    "**Задание 12**\n",
    "\n",
    "Посчитайте явные дубликаты в таблице одной командой:"
   ]
  },
  {
   "cell_type": "code",
   "execution_count": 11,
   "metadata": {
    "deletable": false,
    "id": "36eES_S0_Zct"
   },
   "outputs": [
    {
     "data": {
      "text/plain": [
       "3826"
      ]
     },
     "execution_count": 11,
     "metadata": {},
     "output_type": "execute_result"
    }
   ],
   "source": [
    "df.duplicated().sum() \n"
   ]
  },
  {
   "cell_type": "markdown",
   "metadata": {
    "deletable": false,
    "editable": false,
    "id": "Ot25h6XR_Zct",
    "tags": [
     "start_task"
    ]
   },
   "source": [
    "**Задание 13**\n",
    "\n",
    "Вызовите специальный метод `pandas`, чтобы удалить явные дубликаты:"
   ]
  },
  {
   "cell_type": "code",
   "execution_count": 12,
   "metadata": {
    "deletable": false,
    "id": "exFHq6tt_Zct",
    "scrolled": true
   },
   "outputs": [],
   "source": [
    "df=df.drop_duplicates() "
   ]
  },
  {
   "cell_type": "markdown",
   "metadata": {
    "deletable": false,
    "editable": false,
    "id": "Im2YwBEG_Zct",
    "tags": [
     "start_task"
    ]
   },
   "source": [
    "**Задание 14**\n",
    "\n",
    "Ещё раз посчитайте явные дубликаты в таблице — убедитесь, что полностью от них избавились:"
   ]
  },
  {
   "cell_type": "code",
   "execution_count": 13,
   "metadata": {
    "deletable": false,
    "id": "-8PuNWQ0_Zct"
   },
   "outputs": [
    {
     "data": {
      "text/plain": [
       "0"
      ]
     },
     "execution_count": 13,
     "metadata": {},
     "output_type": "execute_result"
    }
   ],
   "source": [
    "df.duplicated().sum() "
   ]
  },
  {
   "cell_type": "markdown",
   "metadata": {
    "deletable": false,
    "editable": false,
    "id": "QlFBsxAr_Zct"
   },
   "source": [
    "Теперь избавьтесь от неявных дубликатов в колонке `genre`. Например, название одного и того же жанра может быть записано немного по-разному. Такие ошибки тоже повлияют на результат исследования."
   ]
  },
  {
   "cell_type": "markdown",
   "metadata": {
    "deletable": false,
    "editable": false,
    "id": "eSjWwsOh_Zct",
    "tags": [
     "start_task"
    ]
   },
   "source": [
    "**Задание 15**\n",
    "\n",
    "Выведите на экран список уникальных названий жанров, отсортированный в алфавитном порядке. Для этого:\n",
    "1. извлеките нужный столбец датафрейма; \n",
    "2. примените к нему метод сортировки;\n",
    "3. для отсортированного столбца вызовите метод, который вернёт уникальные значения из столбца."
   ]
  },
  {
   "cell_type": "code",
   "execution_count": 14,
   "metadata": {
    "deletable": false,
    "id": "JIUcqzZN_Zct"
   },
   "outputs": [
    {
     "data": {
      "text/plain": [
       "array(['acid', 'acoustic', 'action', 'adult', 'africa', 'afrikaans',\n",
       "       'alternative', 'alternativepunk', 'ambient', 'americana',\n",
       "       'animated', 'anime', 'arabesk', 'arabic', 'arena',\n",
       "       'argentinetango', 'art', 'audiobook', 'author', 'avantgarde',\n",
       "       'axé', 'baile', 'balkan', 'beats', 'bigroom', 'black', 'bluegrass',\n",
       "       'blues', 'bollywood', 'bossa', 'brazilian', 'breakbeat', 'breaks',\n",
       "       'broadway', 'cantautori', 'cantopop', 'canzone', 'caribbean',\n",
       "       'caucasian', 'celtic', 'chamber', 'chanson', 'children', 'chill',\n",
       "       'chinese', 'choral', 'christian', 'christmas', 'classical',\n",
       "       'classicmetal', 'club', 'colombian', 'comedy', 'conjazz',\n",
       "       'contemporary', 'country', 'cuban', 'dance', 'dancehall',\n",
       "       'dancepop', 'dark', 'death', 'deep', 'deutschrock', 'deutschspr',\n",
       "       'dirty', 'disco', 'dnb', 'documentary', 'downbeat', 'downtempo',\n",
       "       'drum', 'dub', 'dubstep', 'eastern', 'easy', 'electronic',\n",
       "       'electropop', 'emo', 'entehno', 'epicmetal', 'estrada', 'ethnic',\n",
       "       'eurofolk', 'european', 'experimental', 'extrememetal', 'fado',\n",
       "       'fairytail', 'film', 'fitness', 'flamenco', 'folk', 'folklore',\n",
       "       'folkmetal', 'folkrock', 'folktronica', 'forró', 'frankreich',\n",
       "       'französisch', 'french', 'funk', 'future', 'gangsta', 'garage',\n",
       "       'german', 'ghazal', 'gitarre', 'glitch', 'gospel', 'gothic',\n",
       "       'grime', 'grunge', 'gypsy', 'handsup', \"hard'n'heavy\", 'hardcore',\n",
       "       'hardstyle', 'hardtechno', 'hip', 'hip-hop', 'hiphop',\n",
       "       'historisch', 'holiday', 'hop', 'horror', 'house', 'hymn', 'idm',\n",
       "       'independent', 'indian', 'indie', 'indipop', 'industrial',\n",
       "       'inspirational', 'instrumental', 'international', 'irish', 'jam',\n",
       "       'japanese', 'jazz', 'jewish', 'jpop', 'jungle', 'k-pop',\n",
       "       'karadeniz', 'karaoke', 'kayokyoku', 'korean', 'laiko', 'latin',\n",
       "       'latino', 'leftfield', 'local', 'lounge', 'loungeelectronic',\n",
       "       'lovers', 'malaysian', 'mandopop', 'marschmusik', 'meditative',\n",
       "       'mediterranean', 'melodic', 'metal', 'metalcore', 'mexican',\n",
       "       'middle', 'minimal', 'miscellaneous', 'modern', 'mood', 'mpb',\n",
       "       'muslim', 'native', 'neoklassik', 'neue', 'new', 'newage',\n",
       "       'newwave', 'nu', 'nujazz', 'numetal', 'oceania', 'old', 'opera',\n",
       "       'orchestral', 'other', 'piano', 'podcasts', 'pop', 'popdance',\n",
       "       'popelectronic', 'popeurodance', 'poprussian', 'post',\n",
       "       'posthardcore', 'postrock', 'power', 'progmetal', 'progressive',\n",
       "       'psychedelic', 'punjabi', 'punk', 'quebecois', 'ragga', 'ram',\n",
       "       'rancheras', 'rap', 'rave', 'reggae', 'reggaeton', 'regional',\n",
       "       'relax', 'religious', 'retro', 'rhythm', 'rnb', 'rnr', 'rock',\n",
       "       'rockabilly', 'rockalternative', 'rockindie', 'rockother',\n",
       "       'romance', 'roots', 'ruspop', 'rusrap', 'rusrock', 'russian',\n",
       "       'salsa', 'samba', 'scenic', 'schlager', 'self', 'sertanejo',\n",
       "       'shanson', 'shoegazing', 'showtunes', 'singer', 'ska', 'skarock',\n",
       "       'slow', 'smooth', 'soft', 'soul', 'soulful', 'sound', 'soundtrack',\n",
       "       'southern', 'specialty', 'speech', 'spiritual', 'sport',\n",
       "       'stonerrock', 'surf', 'swing', 'synthpop', 'synthrock',\n",
       "       'sängerportrait', 'tango', 'tanzorchester', 'taraftar', 'tatar',\n",
       "       'tech', 'techno', 'teen', 'thrash', 'top', 'traditional',\n",
       "       'tradjazz', 'trance', 'tribal', 'trip', 'triphop', 'tropical',\n",
       "       'türk', 'türkçe', 'ukrrock', 'unknown', 'urban', 'uzbek',\n",
       "       'variété', 'vi', 'videogame', 'vocal', 'western', 'world',\n",
       "       'worldbeat', 'ïîï', 'электроника'], dtype=object)"
      ]
     },
     "execution_count": 14,
     "metadata": {},
     "output_type": "execute_result"
    }
   ],
   "source": [
    "df['genre'].sort_values().unique()"
   ]
  },
  {
   "cell_type": "markdown",
   "metadata": {
    "deletable": false,
    "editable": false,
    "id": "qej-Qmuo_Zct",
    "tags": [
     "start_task"
    ]
   },
   "source": [
    "**Задание 16**\n",
    "\n",
    "Просмотрите список и найдите неявные дубликаты названия `hiphop`. Это могут быть названия с ошибками или альтернативные названия того же жанра.\n",
    "\n",
    "Вы увидите следующие неявные дубликаты:\n",
    "* *hip*,\n",
    "* *hop*,\n",
    "* *hip-hop*.\n",
    "\n",
    "Чтобы очистить от них таблицу используйте метод `replace()` с двумя аргументами: списком строк-дубликатов (включащий *hip*, *hop* и *hip-hop*) и строкой с правильным значением. Вам нужно исправить колонку `genre` в таблице `df`: заменить каждое значение из списка дубликатов на верное. Вместо `hip`, `hop` и `hip-hop` в таблице должно быть значение `hiphop`:"
   ]
  },
  {
   "cell_type": "code",
   "execution_count": 15,
   "metadata": {
    "deletable": false,
    "id": "ErNDkmns_Zct"
   },
   "outputs": [
    {
     "data": {
      "text/html": [
       "<div>\n",
       "<style scoped>\n",
       "    .dataframe tbody tr th:only-of-type {\n",
       "        vertical-align: middle;\n",
       "    }\n",
       "\n",
       "    .dataframe tbody tr th {\n",
       "        vertical-align: top;\n",
       "    }\n",
       "\n",
       "    .dataframe thead th {\n",
       "        text-align: right;\n",
       "    }\n",
       "</style>\n",
       "<table border=\"1\" class=\"dataframe\">\n",
       "  <thead>\n",
       "    <tr style=\"text-align: right;\">\n",
       "      <th></th>\n",
       "      <th>user_id</th>\n",
       "      <th>track</th>\n",
       "      <th>artist</th>\n",
       "      <th>genre</th>\n",
       "      <th>city</th>\n",
       "      <th>time</th>\n",
       "      <th>day</th>\n",
       "    </tr>\n",
       "  </thead>\n",
       "  <tbody>\n",
       "    <tr>\n",
       "      <th>0</th>\n",
       "      <td>FFB692EC</td>\n",
       "      <td>Kamigata To Boots</td>\n",
       "      <td>The Mass Missile</td>\n",
       "      <td>rock</td>\n",
       "      <td>Saint-Petersburg</td>\n",
       "      <td>20:28:33</td>\n",
       "      <td>Wednesday</td>\n",
       "    </tr>\n",
       "    <tr>\n",
       "      <th>1</th>\n",
       "      <td>55204538</td>\n",
       "      <td>Delayed Because of Accident</td>\n",
       "      <td>Andreas Rönnberg</td>\n",
       "      <td>rock</td>\n",
       "      <td>Moscow</td>\n",
       "      <td>14:07:09</td>\n",
       "      <td>Friday</td>\n",
       "    </tr>\n",
       "    <tr>\n",
       "      <th>2</th>\n",
       "      <td>20EC38</td>\n",
       "      <td>Funiculì funiculà</td>\n",
       "      <td>Mario Lanza</td>\n",
       "      <td>pop</td>\n",
       "      <td>Saint-Petersburg</td>\n",
       "      <td>20:58:07</td>\n",
       "      <td>Wednesday</td>\n",
       "    </tr>\n",
       "    <tr>\n",
       "      <th>3</th>\n",
       "      <td>A3DD03C9</td>\n",
       "      <td>Dragons in the Sunset</td>\n",
       "      <td>Fire + Ice</td>\n",
       "      <td>folk</td>\n",
       "      <td>Saint-Petersburg</td>\n",
       "      <td>08:37:09</td>\n",
       "      <td>Monday</td>\n",
       "    </tr>\n",
       "    <tr>\n",
       "      <th>4</th>\n",
       "      <td>E2DC1FAE</td>\n",
       "      <td>Soul People</td>\n",
       "      <td>Space Echo</td>\n",
       "      <td>dance</td>\n",
       "      <td>Moscow</td>\n",
       "      <td>08:34:34</td>\n",
       "      <td>Monday</td>\n",
       "    </tr>\n",
       "    <tr>\n",
       "      <th>...</th>\n",
       "      <td>...</td>\n",
       "      <td>...</td>\n",
       "      <td>...</td>\n",
       "      <td>...</td>\n",
       "      <td>...</td>\n",
       "      <td>...</td>\n",
       "      <td>...</td>\n",
       "    </tr>\n",
       "    <tr>\n",
       "      <th>65074</th>\n",
       "      <td>729CBB09</td>\n",
       "      <td>My Name</td>\n",
       "      <td>McLean</td>\n",
       "      <td>rnb</td>\n",
       "      <td>Moscow</td>\n",
       "      <td>13:32:28</td>\n",
       "      <td>Wednesday</td>\n",
       "    </tr>\n",
       "    <tr>\n",
       "      <th>65075</th>\n",
       "      <td>D08D4A55</td>\n",
       "      <td>Maybe One Day (feat. Black Spade)</td>\n",
       "      <td>Blu &amp; Exile</td>\n",
       "      <td>hiphop</td>\n",
       "      <td>Saint-Petersburg</td>\n",
       "      <td>10:00:00</td>\n",
       "      <td>Monday</td>\n",
       "    </tr>\n",
       "    <tr>\n",
       "      <th>65076</th>\n",
       "      <td>C5E3A0D5</td>\n",
       "      <td>Jalopiina</td>\n",
       "      <td>unknown</td>\n",
       "      <td>industrial</td>\n",
       "      <td>Moscow</td>\n",
       "      <td>20:09:26</td>\n",
       "      <td>Friday</td>\n",
       "    </tr>\n",
       "    <tr>\n",
       "      <th>65077</th>\n",
       "      <td>321D0506</td>\n",
       "      <td>Freight Train</td>\n",
       "      <td>Chas McDevitt</td>\n",
       "      <td>rock</td>\n",
       "      <td>Moscow</td>\n",
       "      <td>21:43:59</td>\n",
       "      <td>Friday</td>\n",
       "    </tr>\n",
       "    <tr>\n",
       "      <th>65078</th>\n",
       "      <td>3A64EF84</td>\n",
       "      <td>Tell Me Sweet Little Lies</td>\n",
       "      <td>Monica Lopez</td>\n",
       "      <td>country</td>\n",
       "      <td>Moscow</td>\n",
       "      <td>21:59:46</td>\n",
       "      <td>Friday</td>\n",
       "    </tr>\n",
       "  </tbody>\n",
       "</table>\n",
       "<p>61253 rows × 7 columns</p>\n",
       "</div>"
      ],
      "text/plain": [
       "        user_id                              track            artist  \\\n",
       "0      FFB692EC                  Kamigata To Boots  The Mass Missile   \n",
       "1      55204538        Delayed Because of Accident  Andreas Rönnberg   \n",
       "2        20EC38                  Funiculì funiculà       Mario Lanza   \n",
       "3      A3DD03C9              Dragons in the Sunset        Fire + Ice   \n",
       "4      E2DC1FAE                        Soul People        Space Echo   \n",
       "...         ...                                ...               ...   \n",
       "65074  729CBB09                            My Name            McLean   \n",
       "65075  D08D4A55  Maybe One Day (feat. Black Spade)       Blu & Exile   \n",
       "65076  C5E3A0D5                          Jalopiina           unknown   \n",
       "65077  321D0506                      Freight Train     Chas McDevitt   \n",
       "65078  3A64EF84          Tell Me Sweet Little Lies      Monica Lopez   \n",
       "\n",
       "            genre              city      time        day  \n",
       "0            rock  Saint-Petersburg  20:28:33  Wednesday  \n",
       "1            rock            Moscow  14:07:09     Friday  \n",
       "2             pop  Saint-Petersburg  20:58:07  Wednesday  \n",
       "3            folk  Saint-Petersburg  08:37:09     Monday  \n",
       "4           dance            Moscow  08:34:34     Monday  \n",
       "...           ...               ...       ...        ...  \n",
       "65074         rnb            Moscow  13:32:28  Wednesday  \n",
       "65075      hiphop  Saint-Petersburg  10:00:00     Monday  \n",
       "65076  industrial            Moscow  20:09:26     Friday  \n",
       "65077        rock            Moscow  21:43:59     Friday  \n",
       "65078     country            Moscow  21:59:46     Friday  \n",
       "\n",
       "[61253 rows x 7 columns]"
      ]
     },
     "execution_count": 15,
     "metadata": {},
     "output_type": "execute_result"
    }
   ],
   "source": [
    "duplicates=['hip', 'hop', 'hip-hop' ]\n",
    "name='hiphop'\n",
    "df['genre']=df['genre'].replace(duplicates, name)\n",
    "df"
   ]
  },
  {
   "cell_type": "markdown",
   "metadata": {
    "deletable": false,
    "editable": false,
    "id": "zQKF16_RG15m",
    "tags": [
     "start_task"
    ]
   },
   "source": [
    "**Задание 17**\n",
    "\n",
    "Проверьте, что заменили неправильные названия:\n",
    "\n",
    "*   hip,\n",
    "*   hop,\n",
    "*   hip-hop.\n",
    "\n",
    "Выведите отсортированный список уникальных значений столбца `genre`:"
   ]
  },
  {
   "cell_type": "code",
   "execution_count": 16,
   "metadata": {
    "deletable": false,
    "id": "wvixALnFG15m"
   },
   "outputs": [
    {
     "data": {
      "text/plain": [
       "array(['acid', 'acoustic', 'action', 'adult', 'africa', 'afrikaans',\n",
       "       'alternative', 'alternativepunk', 'ambient', 'americana',\n",
       "       'animated', 'anime', 'arabesk', 'arabic', 'arena',\n",
       "       'argentinetango', 'art', 'audiobook', 'author', 'avantgarde',\n",
       "       'axé', 'baile', 'balkan', 'beats', 'bigroom', 'black', 'bluegrass',\n",
       "       'blues', 'bollywood', 'bossa', 'brazilian', 'breakbeat', 'breaks',\n",
       "       'broadway', 'cantautori', 'cantopop', 'canzone', 'caribbean',\n",
       "       'caucasian', 'celtic', 'chamber', 'chanson', 'children', 'chill',\n",
       "       'chinese', 'choral', 'christian', 'christmas', 'classical',\n",
       "       'classicmetal', 'club', 'colombian', 'comedy', 'conjazz',\n",
       "       'contemporary', 'country', 'cuban', 'dance', 'dancehall',\n",
       "       'dancepop', 'dark', 'death', 'deep', 'deutschrock', 'deutschspr',\n",
       "       'dirty', 'disco', 'dnb', 'documentary', 'downbeat', 'downtempo',\n",
       "       'drum', 'dub', 'dubstep', 'eastern', 'easy', 'electronic',\n",
       "       'electropop', 'emo', 'entehno', 'epicmetal', 'estrada', 'ethnic',\n",
       "       'eurofolk', 'european', 'experimental', 'extrememetal', 'fado',\n",
       "       'fairytail', 'film', 'fitness', 'flamenco', 'folk', 'folklore',\n",
       "       'folkmetal', 'folkrock', 'folktronica', 'forró', 'frankreich',\n",
       "       'französisch', 'french', 'funk', 'future', 'gangsta', 'garage',\n",
       "       'german', 'ghazal', 'gitarre', 'glitch', 'gospel', 'gothic',\n",
       "       'grime', 'grunge', 'gypsy', 'handsup', \"hard'n'heavy\", 'hardcore',\n",
       "       'hardstyle', 'hardtechno', 'hiphop', 'historisch', 'holiday',\n",
       "       'horror', 'house', 'hymn', 'idm', 'independent', 'indian', 'indie',\n",
       "       'indipop', 'industrial', 'inspirational', 'instrumental',\n",
       "       'international', 'irish', 'jam', 'japanese', 'jazz', 'jewish',\n",
       "       'jpop', 'jungle', 'k-pop', 'karadeniz', 'karaoke', 'kayokyoku',\n",
       "       'korean', 'laiko', 'latin', 'latino', 'leftfield', 'local',\n",
       "       'lounge', 'loungeelectronic', 'lovers', 'malaysian', 'mandopop',\n",
       "       'marschmusik', 'meditative', 'mediterranean', 'melodic', 'metal',\n",
       "       'metalcore', 'mexican', 'middle', 'minimal', 'miscellaneous',\n",
       "       'modern', 'mood', 'mpb', 'muslim', 'native', 'neoklassik', 'neue',\n",
       "       'new', 'newage', 'newwave', 'nu', 'nujazz', 'numetal', 'oceania',\n",
       "       'old', 'opera', 'orchestral', 'other', 'piano', 'podcasts', 'pop',\n",
       "       'popdance', 'popelectronic', 'popeurodance', 'poprussian', 'post',\n",
       "       'posthardcore', 'postrock', 'power', 'progmetal', 'progressive',\n",
       "       'psychedelic', 'punjabi', 'punk', 'quebecois', 'ragga', 'ram',\n",
       "       'rancheras', 'rap', 'rave', 'reggae', 'reggaeton', 'regional',\n",
       "       'relax', 'religious', 'retro', 'rhythm', 'rnb', 'rnr', 'rock',\n",
       "       'rockabilly', 'rockalternative', 'rockindie', 'rockother',\n",
       "       'romance', 'roots', 'ruspop', 'rusrap', 'rusrock', 'russian',\n",
       "       'salsa', 'samba', 'scenic', 'schlager', 'self', 'sertanejo',\n",
       "       'shanson', 'shoegazing', 'showtunes', 'singer', 'ska', 'skarock',\n",
       "       'slow', 'smooth', 'soft', 'soul', 'soulful', 'sound', 'soundtrack',\n",
       "       'southern', 'specialty', 'speech', 'spiritual', 'sport',\n",
       "       'stonerrock', 'surf', 'swing', 'synthpop', 'synthrock',\n",
       "       'sängerportrait', 'tango', 'tanzorchester', 'taraftar', 'tatar',\n",
       "       'tech', 'techno', 'teen', 'thrash', 'top', 'traditional',\n",
       "       'tradjazz', 'trance', 'tribal', 'trip', 'triphop', 'tropical',\n",
       "       'türk', 'türkçe', 'ukrrock', 'unknown', 'urban', 'uzbek',\n",
       "       'variété', 'vi', 'videogame', 'vocal', 'western', 'world',\n",
       "       'worldbeat', 'ïîï', 'электроника'], dtype=object)"
      ]
     },
     "execution_count": 16,
     "metadata": {},
     "output_type": "execute_result"
    }
   ],
   "source": [
    "df['genre'].sort_values().unique() "
   ]
  },
  {
   "cell_type": "markdown",
   "metadata": {
    "deletable": false,
    "editable": false,
    "id": "jz6a9-7HQUDd"
   },
   "source": [
    "**Выводы**\n",
    "\n",
    "Предобработка обнаружила три проблемы в данных:\n",
    "\n",
    "- нарушения в стиле заголовков,\n",
    "- пропущенные значения,\n",
    "- дубликаты — явные и неявные.\n",
    "\n",
    "Вы исправили заголовки, чтобы упростить работу с таблицей. Без дубликатов исследование станет более точным.\n",
    "\n",
    "Пропущенные значения вы заменили на `'unknown'`. Ещё предстоит увидеть, не повредят ли исследованию пропуски в колонке `genre`.\n",
    "\n",
    "Теперь можно перейти к проверке гипотез. "
   ]
  },
  {
   "cell_type": "markdown",
   "metadata": {
    "deletable": false,
    "editable": false,
    "id": "WttZHXH0SqKk"
   },
   "source": [
    "## Проверка гипотез"
   ]
  },
  {
   "cell_type": "markdown",
   "metadata": {
    "deletable": false,
    "editable": false,
    "id": "Im936VVi_Zcu"
   },
   "source": [
    "### Сравнение поведения пользователей двух столиц"
   ]
  },
  {
   "cell_type": "markdown",
   "metadata": {
    "deletable": false,
    "editable": false,
    "id": "nwt_MuaL_Zcu"
   },
   "source": [
    "Первая гипотеза утверждает, что пользователи по-разному слушают музыку в Москве и Санкт-Петербурге. Проверьте это предположение по данным о трёх днях недели — понедельнике, среде и пятнице. Для этого:\n",
    "\n",
    "* Разделите пользователей Москвы и Санкт-Петербурга.\n",
    "* Сравните, сколько треков послушала каждая группа пользователей в понедельник, среду и пятницу.\n"
   ]
  },
  {
   "cell_type": "markdown",
   "metadata": {
    "deletable": false,
    "editable": false,
    "id": "8Dw_YMmT_Zcu",
    "tags": [
     "start_task"
    ]
   },
   "source": [
    "**Задание 18**\n",
    "\n",
    "Для тренировки сначала выполните каждый из расчётов по отдельности. \n",
    "\n",
    "Оцените активность пользователей в каждом городе. Сгруппируйте данные по городу и посчитайте прослушивания в каждой группе.\n",
    "\n"
   ]
  },
  {
   "cell_type": "code",
   "execution_count": 17,
   "metadata": {
    "deletable": false,
    "id": "0_Qs96oh_Zcu"
   },
   "outputs": [
    {
     "data": {
      "text/plain": [
       "city\n",
       "Moscow              42741\n",
       "Saint-Petersburg    18512\n",
       "Name: time, dtype: int64"
      ]
     },
     "execution_count": 17,
     "metadata": {},
     "output_type": "execute_result"
    }
   ],
   "source": [
    "df.groupby('city')['time'].count()"
   ]
  },
  {
   "cell_type": "markdown",
   "metadata": {
    "deletable": false,
    "editable": false,
    "id": "dzli3w8o_Zcu",
    "tags": [
     "start_task"
    ]
   },
   "source": [
    "В Москве прослушиваний больше, чем в Петербурге. Из этого не следует, что московские пользователи чаще слушают музыку. Просто самих пользователей в Москве больше.\n",
    "\n",
    "**Задание 19**\n",
    "\n",
    "Теперь сгруппируйте данные по дню недели и посчитайте прослушивания в понедельник, среду и пятницу. Учтите, что в данных есть информация о прослушиваниях только за эти дни.\n"
   ]
  },
  {
   "cell_type": "code",
   "execution_count": 18,
   "metadata": {
    "deletable": false,
    "id": "uZMKjiJz_Zcu"
   },
   "outputs": [
    {
     "data": {
      "text/plain": [
       "day\n",
       "Friday       21840\n",
       "Monday       21354\n",
       "Wednesday    18059\n",
       "Name: time, dtype: int64"
      ]
     },
     "execution_count": 18,
     "metadata": {},
     "output_type": "execute_result"
    }
   ],
   "source": [
    "df.groupby('day')['time'].count() "
   ]
  },
  {
   "cell_type": "markdown",
   "metadata": {
    "deletable": false,
    "editable": false,
    "id": "cC2tNrlL_Zcu"
   },
   "source": [
    "В среднем пользователи из двух городов менее активны по средам. Но картина может измениться, если рассмотреть каждый город в отдельности."
   ]
  },
  {
   "cell_type": "markdown",
   "metadata": {
    "deletable": false,
    "editable": false,
    "id": "POzs8bGa_Zcu",
    "tags": [
     "start_task"
    ]
   },
   "source": [
    "**Задание 20**\n",
    "\n",
    "\n",
    "Вы видели, как работает группировка по городу и по дням недели. Теперь напишите функцию, которая объединит два эти расчёта.\n",
    "\n",
    "Создайте функцию `number_tracks()`, которая посчитает прослушивания для заданного дня и города. Ей понадобятся два параметра:\n",
    "* день недели,\n",
    "* название города.\n",
    "\n",
    "В функции сохраните в переменную строки исходной таблицы, у которых значение:\n",
    "  * в колонке `day` равно параметру `day`,\n",
    "  * в колонке `city` равно параметру `city`.\n",
    "\n",
    "Для этого примените последовательную фильтрацию с логической индексацией (или сложные логические выражения в одну строку, если вы уже знакомы с ними).\n",
    "\n",
    "Затем посчитайте значения в столбце `user_id` получившейся таблицы. Результат сохраните в новую переменную. Верните эту переменную из функции."
   ]
  },
  {
   "cell_type": "code",
   "execution_count": 19,
   "metadata": {
    "deletable": false,
    "id": "Nz3GdQB1_Zcu"
   },
   "outputs": [],
   "source": [
    "def number_tracks(day, city): \n",
    "    track_list=df[df['day'] == day]\n",
    "    track_list=track_list[track_list['city'] == city]\n",
    "    track_list_count=track_list['user_id'].count()\n",
    "    return track_list_count"
   ]
  },
  {
   "cell_type": "markdown",
   "metadata": {
    "deletable": false,
    "editable": false,
    "id": "ytf7xFrFJQ2r",
    "tags": [
     "start_task"
    ]
   },
   "source": [
    "**Задание 21**\n",
    "\n",
    "Вызовите `number_tracks()` шесть раз, меняя значение параметров — так, чтобы получить данные для каждого города в каждый из трёх дней."
   ]
  },
  {
   "cell_type": "code",
   "execution_count": 20,
   "metadata": {
    "deletable": false,
    "id": "rJcRATNQ_Zcu"
   },
   "outputs": [
    {
     "data": {
      "text/plain": [
       "15740"
      ]
     },
     "execution_count": 20,
     "metadata": {},
     "output_type": "execute_result"
    }
   ],
   "source": [
    "number_tracks('Monday', 'Moscow') "
   ]
  },
  {
   "cell_type": "code",
   "execution_count": 21,
   "metadata": {
    "deletable": false,
    "id": "hq_ncZ5T_Zcu"
   },
   "outputs": [
    {
     "data": {
      "text/plain": [
       "5614"
      ]
     },
     "execution_count": 21,
     "metadata": {},
     "output_type": "execute_result"
    }
   ],
   "source": [
    "number_tracks('Monday', 'Saint-Petersburg')"
   ]
  },
  {
   "cell_type": "code",
   "execution_count": 22,
   "metadata": {
    "deletable": false,
    "id": "_NTy2VPU_Zcu"
   },
   "outputs": [
    {
     "data": {
      "text/plain": [
       "11056"
      ]
     },
     "execution_count": 22,
     "metadata": {},
     "output_type": "execute_result"
    }
   ],
   "source": [
    "number_tracks('Wednesday', 'Moscow')"
   ]
  },
  {
   "cell_type": "code",
   "execution_count": 23,
   "metadata": {
    "deletable": false,
    "id": "j2y3TAwo_Zcu"
   },
   "outputs": [
    {
     "data": {
      "text/plain": [
       "7003"
      ]
     },
     "execution_count": 23,
     "metadata": {},
     "output_type": "execute_result"
    }
   ],
   "source": [
    "number_tracks('Wednesday', 'Saint-Petersburg')"
   ]
  },
  {
   "cell_type": "code",
   "execution_count": 24,
   "metadata": {
    "deletable": false,
    "id": "vYDw5u_K_Zcu"
   },
   "outputs": [
    {
     "data": {
      "text/plain": [
       "15945"
      ]
     },
     "execution_count": 24,
     "metadata": {},
     "output_type": "execute_result"
    }
   ],
   "source": [
    "number_tracks('Friday', 'Moscow')"
   ]
  },
  {
   "cell_type": "code",
   "execution_count": 25,
   "metadata": {
    "deletable": false,
    "id": "8_yzFtW3_Zcu"
   },
   "outputs": [
    {
     "data": {
      "text/plain": [
       "5895"
      ]
     },
     "execution_count": 25,
     "metadata": {},
     "output_type": "execute_result"
    }
   ],
   "source": [
    "number_tracks('Friday', 'Saint-Petersburg')"
   ]
  },
  {
   "cell_type": "markdown",
   "metadata": {
    "deletable": false,
    "editable": false,
    "id": "7QXffbO-_Zcu",
    "tags": [
     "start_task"
    ]
   },
   "source": [
    "**Задание 22**\n",
    "\n",
    "Создайте c помощью конструктора `pd.DataFrame` таблицу, где\n",
    "* названия колонок — `['city', 'monday', 'wednesday', 'friday']`;\n",
    "* данные — результаты, которые вы получили с помощью `number_tracks`."
   ]
  },
  {
   "cell_type": "code",
   "execution_count": 26,
   "metadata": {
    "deletable": false,
    "id": "APAcLpOr_Zcu"
   },
   "outputs": [
    {
     "data": {
      "text/html": [
       "<div>\n",
       "<style scoped>\n",
       "    .dataframe tbody tr th:only-of-type {\n",
       "        vertical-align: middle;\n",
       "    }\n",
       "\n",
       "    .dataframe tbody tr th {\n",
       "        vertical-align: top;\n",
       "    }\n",
       "\n",
       "    .dataframe thead th {\n",
       "        text-align: right;\n",
       "    }\n",
       "</style>\n",
       "<table border=\"1\" class=\"dataframe\">\n",
       "  <thead>\n",
       "    <tr style=\"text-align: right;\">\n",
       "      <th></th>\n",
       "      <th>city</th>\n",
       "      <th>monday</th>\n",
       "      <th>wednesday</th>\n",
       "      <th>friday</th>\n",
       "    </tr>\n",
       "  </thead>\n",
       "  <tbody>\n",
       "    <tr>\n",
       "      <th>0</th>\n",
       "      <td>Москва</td>\n",
       "      <td>15740</td>\n",
       "      <td>11056</td>\n",
       "      <td>15945</td>\n",
       "    </tr>\n",
       "    <tr>\n",
       "      <th>1</th>\n",
       "      <td>Санкт-Петербург</td>\n",
       "      <td>5614</td>\n",
       "      <td>7003</td>\n",
       "      <td>5895</td>\n",
       "    </tr>\n",
       "  </tbody>\n",
       "</table>\n",
       "</div>"
      ],
      "text/plain": [
       "              city  monday  wednesday  friday\n",
       "0           Москва   15740      11056   15945\n",
       "1  Санкт-Петербург    5614       7003    5895"
      ]
     },
     "execution_count": 26,
     "metadata": {},
     "output_type": "execute_result"
    }
   ],
   "source": [
    "columns=['city', 'monday', 'wednesday', 'friday']\n",
    "info=pd.DataFrame(data=[['Москва', 15740, 11056, 15945], ['Санкт-Петербург', 5614, 7003, 5895]], columns=['city', 'monday', 'wednesday', 'friday'])\n",
    "info# Таблица с результатами"
   ]
  },
  {
   "cell_type": "markdown",
   "metadata": {
    "deletable": false,
    "editable": false,
    "id": "-EgPIHYu_Zcu"
   },
   "source": [
    "**Выводы**\n",
    "\n",
    "Данные показывают разницу поведения пользователей:\n",
    "\n",
    "- В Москве пик прослушиваний приходится на понедельник и пятницу, а в среду заметен спад.\n",
    "- В Петербурге, наоборот, больше слушают музыку по средам. Активность в понедельник и пятницу здесь почти в равной мере уступает среде.\n",
    "\n",
    "Значит, данные говорят в пользу первой гипотезы."
   ]
  },
  {
   "cell_type": "markdown",
   "metadata": {
    "deletable": false,
    "editable": false,
    "id": "atZAxtq4_Zcu"
   },
   "source": [
    "### Музыка в начале и в конце недели"
   ]
  },
  {
   "cell_type": "markdown",
   "metadata": {
    "deletable": false,
    "editable": false,
    "id": "eXrQqXFH_Zcu"
   },
   "source": [
    "Согласно второй гипотезе, утром в понедельник в Москве преобладают одни жанры, а в Петербурге — другие. Так же и вечером пятницы преобладают разные жанры — в зависимости от города."
   ]
  },
  {
   "cell_type": "markdown",
   "metadata": {
    "deletable": false,
    "editable": false,
    "id": "S8UcW6Hw_Zcu",
    "tags": [
     "start_task"
    ]
   },
   "source": [
    "**Задание 23**\n",
    "\n",
    "Сохраните таблицы с данными в две переменные:\n",
    "* по Москве — в `moscow_general`;\n",
    "* по Санкт-Петербургу — в `spb_general`."
   ]
  },
  {
   "cell_type": "code",
   "execution_count": 27,
   "metadata": {
    "deletable": false,
    "id": "qeaFfM_P_Zcu"
   },
   "outputs": [],
   "source": [
    "moscow_general= df[df['city']=='Moscow']"
   ]
  },
  {
   "cell_type": "code",
   "execution_count": 28,
   "metadata": {
    "deletable": false,
    "id": "ORaVRKto_Zcu"
   },
   "outputs": [],
   "source": [
    "spb_general=df[df['city']=='Saint-Petersburg'] "
   ]
  },
  {
   "cell_type": "markdown",
   "metadata": {
    "deletable": false,
    "editable": false,
    "id": "MEJV-CX2_Zcu",
    "tags": [
     "start_task"
    ]
   },
   "source": [
    "**Задание 24**\n",
    "\n",
    "Создайте функцию `genre_weekday()` с четырьмя параметрами:\n",
    "* таблица (датафрейм) с данными,\n",
    "* день недели,\n",
    "* начальная временная метка в формате 'hh:mm', \n",
    "* последняя временная метка в формате 'hh:mm'.\n",
    "\n",
    "Функция должна вернуть информацию о топ-10 жанров тех треков, которые прослушивали в указанный день, в промежутке между двумя отметками времени."
   ]
  },
  {
   "cell_type": "code",
   "execution_count": 29,
   "metadata": {
    "deletable": false,
    "id": "laJT9BYl_Zcu"
   },
   "outputs": [],
   "source": [
    "def genre_weekday(df, day, time1, time2):\n",
    "    genre_df=df[df['day']==day]\n",
    "    genre_df=genre_df[genre_df['time']>time1]\n",
    "    genre_df=genre_df[genre_df['time']<time2]\n",
    "    \n",
    "    genre_df_grouped=genre_df.groupby('genre')['genre'].count()\n",
    "    \n",
    "    genre_df_sorted=genre_df_grouped.sort_values(ascending=False)\n",
    "    \n",
    "    return genre_df_sorted[:10]"
   ]
  },
  {
   "cell_type": "markdown",
   "metadata": {
    "deletable": false,
    "editable": false,
    "id": "la2s2_PF_Zcu",
    "tags": [
     "start_task"
    ]
   },
   "source": [
    "**Задание 25**\n",
    "\n",
    "\n",
    "Cравните результаты функции `genre_weekday()` для Москвы и Санкт-Петербурга в понедельник утром (с 7:00 до 11:00) и в пятницу вечером (с 17:00 до 23:00):"
   ]
  },
  {
   "cell_type": "code",
   "execution_count": 30,
   "metadata": {
    "deletable": false,
    "id": "yz7itPUQ_Zcu"
   },
   "outputs": [
    {
     "data": {
      "text/plain": [
       "genre\n",
       "pop            781\n",
       "dance          549\n",
       "electronic     480\n",
       "rock           474\n",
       "hiphop         286\n",
       "ruspop         186\n",
       "world          181\n",
       "rusrap         175\n",
       "alternative    164\n",
       "unknown        161\n",
       "Name: genre, dtype: int64"
      ]
     },
     "execution_count": 30,
     "metadata": {},
     "output_type": "execute_result"
    }
   ],
   "source": [
    "genre_weekday(moscow_general, 'Monday', '07:00', '11:00')"
   ]
  },
  {
   "cell_type": "code",
   "execution_count": 31,
   "metadata": {
    "deletable": false,
    "id": "kwUcHPdy_Zcu"
   },
   "outputs": [
    {
     "data": {
      "text/plain": [
       "genre\n",
       "pop            218\n",
       "dance          182\n",
       "rock           162\n",
       "electronic     147\n",
       "hiphop          80\n",
       "ruspop          64\n",
       "alternative     58\n",
       "rusrap          55\n",
       "jazz            44\n",
       "classical       40\n",
       "Name: genre, dtype: int64"
      ]
     },
     "execution_count": 31,
     "metadata": {},
     "output_type": "execute_result"
    }
   ],
   "source": [
    "genre_weekday(spb_general, 'Monday', '07:00', '11:00')"
   ]
  },
  {
   "cell_type": "code",
   "execution_count": 32,
   "metadata": {
    "deletable": false,
    "id": "EzXVRE1o_Zcu"
   },
   "outputs": [
    {
     "data": {
      "text/plain": [
       "genre\n",
       "pop            713\n",
       "rock           517\n",
       "dance          495\n",
       "electronic     482\n",
       "hiphop         273\n",
       "world          208\n",
       "ruspop         170\n",
       "alternative    163\n",
       "classical      163\n",
       "rusrap         142\n",
       "Name: genre, dtype: int64"
      ]
     },
     "execution_count": 32,
     "metadata": {},
     "output_type": "execute_result"
    }
   ],
   "source": [
    "genre_weekday(moscow_general, 'Friday', '17:00', '23:00')"
   ]
  },
  {
   "cell_type": "code",
   "execution_count": 33,
   "metadata": {
    "deletable": false,
    "id": "JZaEKu5v_Zcu"
   },
   "outputs": [
    {
     "data": {
      "text/plain": [
       "genre\n",
       "pop            256\n",
       "electronic     216\n",
       "rock           216\n",
       "dance          210\n",
       "hiphop          97\n",
       "alternative     63\n",
       "jazz            61\n",
       "classical       60\n",
       "rusrap          59\n",
       "world           54\n",
       "Name: genre, dtype: int64"
      ]
     },
     "execution_count": 33,
     "metadata": {},
     "output_type": "execute_result"
    }
   ],
   "source": [
    "genre_weekday(spb_general, 'Friday', '17:00', '23:00')"
   ]
  },
  {
   "cell_type": "markdown",
   "metadata": {
    "deletable": false,
    "editable": false,
    "id": "wrCe4MNX_Zcu"
   },
   "source": [
    "**Выводы**\n",
    "\n",
    "Если сравнить топ-10 жанров в понедельник утром, можно сделать такие выводы:\n",
    "\n",
    "1. В Москве и Петербурге слушают похожую музыку. Единственное отличие — в московский рейтинг вошёл жанр “world”, а в петербургский — джаз и классика.\n",
    "\n",
    "2. В Москве пропущенных значений оказалось так много, что значение `'unknown'` заняло десятое место среди самых популярных жанров. Значит, пропущенные значения занимают существенную долю в данных и угрожают достоверности исследования.\n",
    "\n",
    "Вечер пятницы не меняет эту картину. Некоторые жанры поднимаются немного выше, другие спускаются, но в целом топ-10 остаётся тем же самым.\n",
    "\n",
    "Таким образом, вторая гипотеза подтвердилась лишь частично:\n",
    "* Пользователи слушают похожую музыку в начале недели и в конце.\n",
    "* Разница между Москвой и Петербургом не слишком выражена. В Москве чаще слушают русскую популярную музыку, в Петербурге — джаз.\n",
    "\n",
    "Однако пропуски в данных ставят под сомнение этот результат. В Москве их так много, что рейтинг топ-10 мог бы выглядеть иначе, если бы не утерянные  данные о жанрах."
   ]
  },
  {
   "cell_type": "markdown",
   "metadata": {
    "deletable": false,
    "editable": false,
    "id": "JolODAqr_Zcu"
   },
   "source": [
    "### Жанровые предпочтения в Москве и Петербурге\n",
    "\n",
    "Гипотеза: Петербург — столица рэпа, музыку этого жанра там слушают чаще, чем в Москве.  А Москва — город контрастов, в котором, тем не менее, преобладает поп-музыка."
   ]
  },
  {
   "cell_type": "markdown",
   "metadata": {
    "deletable": false,
    "editable": false,
    "id": "DlegSvaT_Zcu",
    "tags": [
     "start_task"
    ]
   },
   "source": [
    "**Задание 26**\n",
    "\n",
    "Сгруппируйте таблицу `moscow_general` по жанру и посчитайте прослушивания треков каждого жанра методом `count()`. Затем отсортируйте результат в порядке убывания и сохраните его в таблице `moscow_genres`."
   ]
  },
  {
   "cell_type": "code",
   "execution_count": 34,
   "metadata": {
    "deletable": false,
    "id": "r19lIPke_Zcu"
   },
   "outputs": [],
   "source": [
    "moscow_genres=moscow_general.groupby('genre')['genre'].count().sort_values(ascending=False)"
   ]
  },
  {
   "cell_type": "markdown",
   "metadata": {
    "deletable": false,
    "editable": false,
    "id": "6kMuomxTiIr8",
    "tags": [
     "start_task"
    ]
   },
   "source": [
    "**Задание 27**\n",
    "\n",
    "Выведите на экран первые десять строк `moscow_genres`:"
   ]
  },
  {
   "cell_type": "code",
   "execution_count": 35,
   "metadata": {
    "deletable": false,
    "id": "WhCSooF8_Zcv"
   },
   "outputs": [
    {
     "data": {
      "text/plain": [
       "genre\n",
       "pop            5892\n",
       "dance          4435\n",
       "rock           3965\n",
       "electronic     3786\n",
       "hiphop         2096\n",
       "classical      1616\n",
       "world          1432\n",
       "alternative    1379\n",
       "ruspop         1372\n",
       "rusrap         1161\n",
       "Name: genre, dtype: int64"
      ]
     },
     "execution_count": 35,
     "metadata": {},
     "output_type": "execute_result"
    }
   ],
   "source": [
    "moscow_genres.head(10)"
   ]
  },
  {
   "cell_type": "markdown",
   "metadata": {
    "deletable": false,
    "editable": false,
    "id": "cnPG2vnN_Zcv",
    "tags": [
     "start_task"
    ]
   },
   "source": [
    "**Задание 28**\n",
    "\n",
    "\n",
    "Теперь повторите то же и для Петербурга.\n",
    "\n",
    "Сгруппируйте таблицу `spb_general` по жанру. Посчитайте прослушивания треков каждого жанра. Результат отсортируйте в порядке убывания и сохраните в таблице `spb_genres`:\n"
   ]
  },
  {
   "cell_type": "code",
   "execution_count": 36,
   "metadata": {
    "deletable": false,
    "id": "gluLIpE7_Zcv"
   },
   "outputs": [],
   "source": [
    "spb_genres=spb_general.groupby('genre')['genre'].count().sort_values(ascending=False)"
   ]
  },
  {
   "cell_type": "markdown",
   "metadata": {
    "deletable": false,
    "editable": false,
    "id": "5Doha_ODgyQ8",
    "tags": [
     "start_task"
    ]
   },
   "source": [
    "**Задание 29**\n",
    "\n",
    "Выведите на экран первые десять строк `spb_genres`:"
   ]
  },
  {
   "cell_type": "code",
   "execution_count": 37,
   "metadata": {
    "deletable": false,
    "id": "uaGJHjVU_Zcv"
   },
   "outputs": [
    {
     "data": {
      "text/plain": [
       "genre\n",
       "pop            2431\n",
       "dance          1932\n",
       "rock           1879\n",
       "electronic     1736\n",
       "hiphop          960\n",
       "alternative     649\n",
       "classical       646\n",
       "rusrap          564\n",
       "ruspop          538\n",
       "world           515\n",
       "Name: genre, dtype: int64"
      ]
     },
     "execution_count": 37,
     "metadata": {},
     "output_type": "execute_result"
    }
   ],
   "source": [
    "spb_genres.head(10) "
   ]
  },
  {
   "cell_type": "markdown",
   "metadata": {
    "deletable": false,
    "editable": false,
    "id": "RY51YJYu_Zcv"
   },
   "source": [
    "**Выводы**"
   ]
  },
  {
   "cell_type": "markdown",
   "metadata": {
    "deletable": false,
    "editable": false,
    "id": "nVhnJEm__Zcv"
   },
   "source": [
    "Гипотеза частично подтвердилась:\n",
    "* Поп-музыка — самый популярный жанр в Москве, как и предполагала гипотеза. Более того, в топ-10 жанров встречается близкий жанр — русская популярная музыка.\n",
    "* Вопреки ожиданиям, рэп одинаково популярен в Москве и Петербурге. \n"
   ]
  },
  {
   "cell_type": "markdown",
   "metadata": {
    "deletable": false,
    "editable": false,
    "id": "ykKQ0N65_Zcv"
   },
   "source": [
    "## Итоги исследования"
   ]
  },
  {
   "cell_type": "markdown",
   "metadata": {
    "deletable": false,
    "editable": false,
    "id": "tjUwbHb3_Zcv"
   },
   "source": [
    "Вы проверили три гипотезы и установили:\n",
    "\n",
    "1. День недели по-разному влияет на активность пользователей в Москве и Петербурге. \n",
    "\n",
    "Первая гипотеза полностью подтвердилась.\n",
    "\n",
    "2. Музыкальные предпочтения не сильно меняются в течение недели — будь то Москва или Петербург. Небольшие различия заметны в начале недели, по понедельникам:\n",
    "* в Москве слушают музыку жанра “world”,\n",
    "* в Петербурге — джаз и классику.\n",
    "\n",
    "Таким образом, вторая гипотеза подтвердилась лишь отчасти. Этот результат мог оказаться иным, если бы не пропуски в данных.\n",
    "\n",
    "3. Во вкусах пользователей Москвы и Петербурга больше общего чем различий. Вопреки ожиданиям, предпочтения жанров в Петербурге напоминают московские.\n",
    "\n",
    "Третья гипотеза не подтвердилась. Если различия в предпочтениях и существуют, на основной массе пользователей они незаметны.\n",
    "\n",
    "**На практике исследования содержат проверки статистических гипотез.**\n",
    "Из данных одного сервиса не всегда можно сделать вывод о всех жителях города.\n",
    "Проверки статистических гипотез покажут, насколько они достоверны, исходя из имеющихся данных. \n",
    "С методами проверок гипотез вы ещё познакомитесь в следующих темах."
   ]
  }
 ],
 "metadata": {
  "ExecuteTimeLog": [
   {
    "duration": 466,
    "start_time": "2022-11-09T19:34:18.937Z"
   },
   {
    "duration": 2,
    "start_time": "2022-11-09T19:34:23.068Z"
   },
   {
    "duration": 69,
    "start_time": "2022-11-09T19:38:57.268Z"
   },
   {
    "duration": 72,
    "start_time": "2022-11-09T19:39:11.328Z"
   },
   {
    "duration": 86,
    "start_time": "2022-11-09T19:39:16.965Z"
   },
   {
    "duration": 9,
    "start_time": "2022-11-09T19:39:30.712Z"
   },
   {
    "duration": 21,
    "start_time": "2022-11-09T19:40:08.678Z"
   },
   {
    "duration": 77,
    "start_time": "2022-11-09T19:40:21.755Z"
   },
   {
    "duration": 14,
    "start_time": "2022-11-09T19:40:35.642Z"
   },
   {
    "duration": 252,
    "start_time": "2022-11-09T19:43:18.926Z"
   },
   {
    "duration": 24,
    "start_time": "2022-11-09T19:43:47.776Z"
   },
   {
    "duration": 13,
    "start_time": "2022-11-09T19:44:20.713Z"
   },
   {
    "duration": 55,
    "start_time": "2022-11-09T19:44:49.794Z"
   },
   {
    "duration": 10,
    "start_time": "2022-11-09T19:54:34.646Z"
   },
   {
    "duration": 5,
    "start_time": "2022-11-09T19:58:23.310Z"
   },
   {
    "duration": 24,
    "start_time": "2022-11-09T20:03:59.215Z"
   },
   {
    "duration": 8,
    "start_time": "2022-11-09T20:04:49.401Z"
   },
   {
    "duration": 22,
    "start_time": "2022-11-09T20:04:56.150Z"
   },
   {
    "duration": 40,
    "start_time": "2022-11-09T20:07:49.065Z"
   },
   {
    "duration": 7,
    "start_time": "2022-11-09T20:18:31.102Z"
   },
   {
    "duration": 34,
    "start_time": "2022-11-09T20:22:02.563Z"
   },
   {
    "duration": 30,
    "start_time": "2022-11-09T20:22:14.021Z"
   },
   {
    "duration": 27,
    "start_time": "2022-11-09T20:22:44.335Z"
   },
   {
    "duration": 53,
    "start_time": "2022-11-11T19:15:05.375Z"
   },
   {
    "duration": 5,
    "start_time": "2022-11-11T19:15:52.078Z"
   },
   {
    "duration": 6,
    "start_time": "2022-11-11T19:15:53.751Z"
   },
   {
    "duration": 5,
    "start_time": "2022-11-11T19:15:57.720Z"
   },
   {
    "duration": 7,
    "start_time": "2022-11-11T19:18:24.892Z"
   },
   {
    "duration": 336,
    "start_time": "2022-11-11T19:21:19.506Z"
   },
   {
    "duration": 436,
    "start_time": "2022-11-11T19:21:21.202Z"
   },
   {
    "duration": 162,
    "start_time": "2022-11-11T19:21:24.649Z"
   },
   {
    "duration": 21,
    "start_time": "2022-11-11T19:21:25.519Z"
   },
   {
    "duration": 28,
    "start_time": "2022-11-11T19:21:28.325Z"
   },
   {
    "duration": 2,
    "start_time": "2022-11-11T19:21:30.616Z"
   },
   {
    "duration": 4,
    "start_time": "2022-11-11T19:21:35.960Z"
   },
   {
    "duration": 9,
    "start_time": "2022-11-11T19:21:38.529Z"
   },
   {
    "duration": 4,
    "start_time": "2022-11-11T19:21:39.860Z"
   },
   {
    "duration": 23,
    "start_time": "2022-11-11T19:21:42.116Z"
   },
   {
    "duration": 18,
    "start_time": "2022-11-11T19:21:44.829Z"
   },
   {
    "duration": 25,
    "start_time": "2022-11-11T19:21:46.271Z"
   },
   {
    "duration": 58,
    "start_time": "2022-11-11T19:21:49.206Z"
   },
   {
    "duration": 71,
    "start_time": "2022-11-11T19:21:51.340Z"
   },
   {
    "duration": 60,
    "start_time": "2022-11-11T19:22:02.712Z"
   },
   {
    "duration": 57,
    "start_time": "2022-11-11T19:22:48.023Z"
   },
   {
    "duration": 70,
    "start_time": "2022-11-11T19:22:58.686Z"
   },
   {
    "duration": 60,
    "start_time": "2022-11-11T19:23:04.169Z"
   },
   {
    "duration": 58,
    "start_time": "2022-11-11T19:23:44.935Z"
   },
   {
    "duration": 27,
    "start_time": "2022-11-11T19:24:00.299Z"
   },
   {
    "duration": 7,
    "start_time": "2022-11-11T19:24:02.631Z"
   },
   {
    "duration": 6,
    "start_time": "2022-11-11T19:24:06.758Z"
   },
   {
    "duration": 3,
    "start_time": "2022-11-11T19:24:12.792Z"
   },
   {
    "duration": 148,
    "start_time": "2022-11-11T19:24:13.839Z"
   },
   {
    "duration": 11,
    "start_time": "2022-11-11T19:24:15.416Z"
   },
   {
    "duration": 30,
    "start_time": "2022-11-11T19:24:17.096Z"
   },
   {
    "duration": 2,
    "start_time": "2022-11-11T19:24:21.260Z"
   },
   {
    "duration": 4,
    "start_time": "2022-11-11T19:24:23.653Z"
   },
   {
    "duration": 7,
    "start_time": "2022-11-11T19:24:24.738Z"
   },
   {
    "duration": 4,
    "start_time": "2022-11-11T19:24:25.979Z"
   },
   {
    "duration": 25,
    "start_time": "2022-11-11T19:24:27.387Z"
   },
   {
    "duration": 19,
    "start_time": "2022-11-11T19:24:28.939Z"
   },
   {
    "duration": 31,
    "start_time": "2022-11-11T19:24:29.807Z"
   },
   {
    "duration": 67,
    "start_time": "2022-11-11T19:24:30.763Z"
   },
   {
    "duration": 77,
    "start_time": "2022-11-11T19:24:31.683Z"
   },
   {
    "duration": 55,
    "start_time": "2022-11-11T19:24:33.022Z"
   },
   {
    "duration": 80,
    "start_time": "2022-11-11T19:27:15.366Z"
   },
   {
    "duration": 71,
    "start_time": "2022-11-11T19:27:18.467Z"
   },
   {
    "duration": 61,
    "start_time": "2022-11-11T19:27:22.610Z"
   },
   {
    "duration": 59,
    "start_time": "2022-11-11T19:27:27.272Z"
   },
   {
    "duration": 59,
    "start_time": "2022-11-11T19:28:09.868Z"
   },
   {
    "duration": 59,
    "start_time": "2022-11-11T19:28:12.419Z"
   },
   {
    "duration": 72,
    "start_time": "2022-11-11T19:28:28.619Z"
   },
   {
    "duration": 345,
    "start_time": "2022-11-11T19:30:17.285Z"
   },
   {
    "duration": 160,
    "start_time": "2022-11-11T19:30:21.029Z"
   },
   {
    "duration": 15,
    "start_time": "2022-11-11T19:30:22.925Z"
   },
   {
    "duration": 29,
    "start_time": "2022-11-11T19:30:25.490Z"
   },
   {
    "duration": 2,
    "start_time": "2022-11-11T19:30:30.305Z"
   },
   {
    "duration": 3,
    "start_time": "2022-11-11T19:30:37.540Z"
   },
   {
    "duration": 10,
    "start_time": "2022-11-11T19:30:41.710Z"
   },
   {
    "duration": 13,
    "start_time": "2022-11-11T19:30:47.881Z"
   },
   {
    "duration": 358,
    "start_time": "2022-11-11T19:30:57.777Z"
   },
   {
    "duration": 151,
    "start_time": "2022-11-11T19:30:59.133Z"
   },
   {
    "duration": 21,
    "start_time": "2022-11-11T19:31:00.745Z"
   },
   {
    "duration": 29,
    "start_time": "2022-11-11T19:31:02.170Z"
   },
   {
    "duration": 2,
    "start_time": "2022-11-11T19:31:03.991Z"
   },
   {
    "duration": 3,
    "start_time": "2022-11-11T19:31:06.893Z"
   },
   {
    "duration": 10,
    "start_time": "2022-11-11T19:31:09.312Z"
   },
   {
    "duration": 4,
    "start_time": "2022-11-11T19:31:13.740Z"
   },
   {
    "duration": 22,
    "start_time": "2022-11-11T19:31:16.152Z"
   },
   {
    "duration": 19,
    "start_time": "2022-11-11T19:31:18.652Z"
   },
   {
    "duration": 26,
    "start_time": "2022-11-11T19:31:21.497Z"
   },
   {
    "duration": 70,
    "start_time": "2022-11-11T19:31:23.509Z"
   },
   {
    "duration": 71,
    "start_time": "2022-11-11T19:31:25.743Z"
   },
   {
    "duration": 59,
    "start_time": "2022-11-11T19:31:28.156Z"
   },
   {
    "duration": 68,
    "start_time": "2022-11-11T19:36:46.824Z"
   },
   {
    "duration": 60,
    "start_time": "2022-11-11T19:36:51.251Z"
   },
   {
    "duration": 58,
    "start_time": "2022-11-11T19:36:54.357Z"
   },
   {
    "duration": 80,
    "start_time": "2022-11-11T19:36:58.311Z"
   },
   {
    "duration": 61,
    "start_time": "2022-11-11T19:37:03.127Z"
   },
   {
    "duration": 79,
    "start_time": "2022-11-11T19:40:35.257Z"
   },
   {
    "duration": 61,
    "start_time": "2022-11-11T19:40:42.860Z"
   },
   {
    "duration": 69,
    "start_time": "2022-11-11T19:40:46.013Z"
   },
   {
    "duration": 59,
    "start_time": "2022-11-11T19:40:52.872Z"
   },
   {
    "duration": 364,
    "start_time": "2022-11-11T19:57:19.877Z"
   },
   {
    "duration": 162,
    "start_time": "2022-11-11T19:57:20.243Z"
   },
   {
    "duration": 17,
    "start_time": "2022-11-11T19:57:20.406Z"
   },
   {
    "duration": 35,
    "start_time": "2022-11-11T19:57:20.425Z"
   },
   {
    "duration": 6,
    "start_time": "2022-11-11T19:57:20.461Z"
   },
   {
    "duration": 7,
    "start_time": "2022-11-11T19:57:20.468Z"
   },
   {
    "duration": 12,
    "start_time": "2022-11-11T19:57:20.476Z"
   },
   {
    "duration": 6,
    "start_time": "2022-11-11T19:57:20.489Z"
   },
   {
    "duration": 24,
    "start_time": "2022-11-11T19:57:20.496Z"
   },
   {
    "duration": 38,
    "start_time": "2022-11-11T19:57:20.523Z"
   },
   {
    "duration": 22,
    "start_time": "2022-11-11T19:57:20.562Z"
   },
   {
    "duration": 73,
    "start_time": "2022-11-11T19:57:20.585Z"
   },
   {
    "duration": 77,
    "start_time": "2022-11-11T19:57:20.659Z"
   },
   {
    "duration": 59,
    "start_time": "2022-11-11T19:57:20.747Z"
   },
   {
    "duration": 2,
    "start_time": "2022-11-11T19:57:20.807Z"
   },
   {
    "duration": 12,
    "start_time": "2022-11-11T19:57:20.811Z"
   },
   {
    "duration": 9,
    "start_time": "2022-11-11T19:57:20.824Z"
   },
   {
    "duration": 6,
    "start_time": "2022-11-11T19:57:20.836Z"
   },
   {
    "duration": 2,
    "start_time": "2022-11-11T19:57:20.847Z"
   },
   {
    "duration": 9,
    "start_time": "2022-11-11T19:57:20.851Z"
   },
   {
    "duration": 12,
    "start_time": "2022-11-11T19:57:20.862Z"
   },
   {
    "duration": 5,
    "start_time": "2022-11-11T19:57:20.875Z"
   },
   {
    "duration": 9,
    "start_time": "2022-11-11T19:57:20.882Z"
   },
   {
    "duration": 5,
    "start_time": "2022-11-11T19:57:20.892Z"
   },
   {
    "duration": 8,
    "start_time": "2022-11-11T19:57:20.898Z"
   },
   {
    "duration": 13,
    "start_time": "2022-11-11T19:57:20.908Z"
   },
   {
    "duration": 9,
    "start_time": "2022-11-11T19:57:20.922Z"
   },
   {
    "duration": 7,
    "start_time": "2022-11-11T19:57:20.933Z"
   },
   {
    "duration": 12,
    "start_time": "2022-11-11T19:57:20.942Z"
   },
   {
    "duration": 42,
    "start_time": "2022-11-11T19:57:20.955Z"
   },
   {
    "duration": 0,
    "start_time": "2022-11-11T19:57:20.998Z"
   },
   {
    "duration": 0,
    "start_time": "2022-11-11T19:57:21.000Z"
   },
   {
    "duration": 0,
    "start_time": "2022-11-11T19:57:21.000Z"
   },
   {
    "duration": 0,
    "start_time": "2022-11-11T19:57:21.001Z"
   },
   {
    "duration": 0,
    "start_time": "2022-11-11T19:57:21.002Z"
   },
   {
    "duration": 0,
    "start_time": "2022-11-11T19:57:21.003Z"
   },
   {
    "duration": 0,
    "start_time": "2022-11-11T19:57:21.004Z"
   },
   {
    "duration": 0,
    "start_time": "2022-11-11T19:57:21.005Z"
   },
   {
    "duration": 60,
    "start_time": "2022-11-11T19:57:51.035Z"
   },
   {
    "duration": 344,
    "start_time": "2022-11-11T20:17:09.694Z"
   },
   {
    "duration": 151,
    "start_time": "2022-11-11T20:17:10.040Z"
   },
   {
    "duration": 16,
    "start_time": "2022-11-11T20:17:10.193Z"
   },
   {
    "duration": 38,
    "start_time": "2022-11-11T20:17:10.210Z"
   },
   {
    "duration": 2,
    "start_time": "2022-11-11T20:17:10.250Z"
   },
   {
    "duration": 7,
    "start_time": "2022-11-11T20:17:10.253Z"
   },
   {
    "duration": 21,
    "start_time": "2022-11-11T20:17:10.261Z"
   },
   {
    "duration": 10,
    "start_time": "2022-11-11T20:17:10.284Z"
   },
   {
    "duration": 39,
    "start_time": "2022-11-11T20:17:10.296Z"
   },
   {
    "duration": 18,
    "start_time": "2022-11-11T20:17:10.337Z"
   },
   {
    "duration": 22,
    "start_time": "2022-11-11T20:17:10.357Z"
   },
   {
    "duration": 82,
    "start_time": "2022-11-11T20:17:10.381Z"
   },
   {
    "duration": 69,
    "start_time": "2022-11-11T20:17:10.464Z"
   },
   {
    "duration": 66,
    "start_time": "2022-11-11T20:17:10.537Z"
   },
   {
    "duration": 2,
    "start_time": "2022-11-11T20:17:10.605Z"
   },
   {
    "duration": 28,
    "start_time": "2022-11-11T20:17:10.608Z"
   },
   {
    "duration": 11,
    "start_time": "2022-11-11T20:17:10.637Z"
   },
   {
    "duration": 19,
    "start_time": "2022-11-11T20:17:10.649Z"
   },
   {
    "duration": 9,
    "start_time": "2022-11-11T20:17:10.669Z"
   },
   {
    "duration": 21,
    "start_time": "2022-11-11T20:17:10.679Z"
   },
   {
    "duration": 47,
    "start_time": "2022-11-11T20:17:10.702Z"
   },
   {
    "duration": 5,
    "start_time": "2022-11-11T20:17:10.750Z"
   },
   {
    "duration": 17,
    "start_time": "2022-11-11T20:17:10.757Z"
   },
   {
    "duration": 7,
    "start_time": "2022-11-11T20:17:10.776Z"
   },
   {
    "duration": 9,
    "start_time": "2022-11-11T20:17:10.785Z"
   },
   {
    "duration": 6,
    "start_time": "2022-11-11T20:17:10.795Z"
   },
   {
    "duration": 6,
    "start_time": "2022-11-11T20:17:10.802Z"
   },
   {
    "duration": 7,
    "start_time": "2022-11-11T20:17:10.809Z"
   },
   {
    "duration": 10,
    "start_time": "2022-11-11T20:17:10.818Z"
   },
   {
    "duration": 42,
    "start_time": "2022-11-11T20:17:10.829Z"
   },
   {
    "duration": 0,
    "start_time": "2022-11-11T20:17:10.872Z"
   },
   {
    "duration": 0,
    "start_time": "2022-11-11T20:17:10.873Z"
   },
   {
    "duration": 0,
    "start_time": "2022-11-11T20:17:10.875Z"
   },
   {
    "duration": 0,
    "start_time": "2022-11-11T20:17:10.876Z"
   },
   {
    "duration": 0,
    "start_time": "2022-11-11T20:17:10.878Z"
   },
   {
    "duration": 0,
    "start_time": "2022-11-11T20:17:10.879Z"
   },
   {
    "duration": 0,
    "start_time": "2022-11-11T20:17:10.881Z"
   },
   {
    "duration": 0,
    "start_time": "2022-11-11T20:17:10.882Z"
   },
   {
    "duration": 117,
    "start_time": "2022-11-11T20:27:44.249Z"
   },
   {
    "duration": 132,
    "start_time": "2022-11-11T20:28:18.922Z"
   },
   {
    "duration": 389,
    "start_time": "2022-11-11T20:29:06.047Z"
   },
   {
    "duration": 155,
    "start_time": "2022-11-11T20:29:06.437Z"
   },
   {
    "duration": 17,
    "start_time": "2022-11-11T20:29:06.596Z"
   },
   {
    "duration": 38,
    "start_time": "2022-11-11T20:29:06.614Z"
   },
   {
    "duration": 2,
    "start_time": "2022-11-11T20:29:06.654Z"
   },
   {
    "duration": 10,
    "start_time": "2022-11-11T20:29:06.658Z"
   },
   {
    "duration": 14,
    "start_time": "2022-11-11T20:29:06.670Z"
   },
   {
    "duration": 20,
    "start_time": "2022-11-11T20:29:06.686Z"
   },
   {
    "duration": 26,
    "start_time": "2022-11-11T20:29:06.708Z"
   },
   {
    "duration": 22,
    "start_time": "2022-11-11T20:29:06.735Z"
   },
   {
    "duration": 23,
    "start_time": "2022-11-11T20:29:06.758Z"
   },
   {
    "duration": 75,
    "start_time": "2022-11-11T20:29:06.782Z"
   },
   {
    "duration": 75,
    "start_time": "2022-11-11T20:29:06.859Z"
   },
   {
    "duration": 60,
    "start_time": "2022-11-11T20:29:06.948Z"
   },
   {
    "duration": 3,
    "start_time": "2022-11-11T20:29:07.009Z"
   },
   {
    "duration": 7,
    "start_time": "2022-11-11T20:29:07.013Z"
   },
   {
    "duration": 8,
    "start_time": "2022-11-11T20:29:07.021Z"
   },
   {
    "duration": 18,
    "start_time": "2022-11-11T20:29:07.030Z"
   },
   {
    "duration": 2,
    "start_time": "2022-11-11T20:29:07.050Z"
   },
   {
    "duration": 6,
    "start_time": "2022-11-11T20:29:07.053Z"
   },
   {
    "duration": 12,
    "start_time": "2022-11-11T20:29:07.061Z"
   },
   {
    "duration": 24,
    "start_time": "2022-11-11T20:29:07.075Z"
   },
   {
    "duration": 9,
    "start_time": "2022-11-11T20:29:07.101Z"
   },
   {
    "duration": 8,
    "start_time": "2022-11-11T20:29:07.111Z"
   },
   {
    "duration": 9,
    "start_time": "2022-11-11T20:29:07.120Z"
   },
   {
    "duration": 5,
    "start_time": "2022-11-11T20:29:07.131Z"
   },
   {
    "duration": 3,
    "start_time": "2022-11-11T20:29:07.140Z"
   },
   {
    "duration": 5,
    "start_time": "2022-11-11T20:29:07.144Z"
   },
   {
    "duration": 6,
    "start_time": "2022-11-11T20:29:07.150Z"
   },
   {
    "duration": 40,
    "start_time": "2022-11-11T20:29:07.158Z"
   },
   {
    "duration": 0,
    "start_time": "2022-11-11T20:29:07.199Z"
   },
   {
    "duration": 0,
    "start_time": "2022-11-11T20:29:07.200Z"
   },
   {
    "duration": 0,
    "start_time": "2022-11-11T20:29:07.202Z"
   },
   {
    "duration": 0,
    "start_time": "2022-11-11T20:29:07.203Z"
   },
   {
    "duration": 0,
    "start_time": "2022-11-11T20:29:07.204Z"
   },
   {
    "duration": 0,
    "start_time": "2022-11-11T20:29:07.205Z"
   },
   {
    "duration": 0,
    "start_time": "2022-11-11T20:29:07.206Z"
   },
   {
    "duration": 0,
    "start_time": "2022-11-11T20:29:07.207Z"
   },
   {
    "duration": 66,
    "start_time": "2022-11-11T20:30:08.357Z"
   },
   {
    "duration": 61,
    "start_time": "2022-11-11T20:30:11.338Z"
   },
   {
    "duration": 61,
    "start_time": "2022-11-11T20:30:14.375Z"
   },
   {
    "duration": 39,
    "start_time": "2022-11-11T20:43:05.170Z"
   },
   {
    "duration": 474,
    "start_time": "2022-11-12T19:07:44.740Z"
   },
   {
    "duration": 513,
    "start_time": "2022-11-12T19:07:45.216Z"
   },
   {
    "duration": 19,
    "start_time": "2022-11-12T19:07:45.731Z"
   },
   {
    "duration": 59,
    "start_time": "2022-11-12T19:07:45.752Z"
   },
   {
    "duration": 8,
    "start_time": "2022-11-12T19:07:45.813Z"
   },
   {
    "duration": 7,
    "start_time": "2022-11-12T19:07:45.823Z"
   },
   {
    "duration": 51,
    "start_time": "2022-11-12T19:07:45.832Z"
   },
   {
    "duration": 6,
    "start_time": "2022-11-12T19:07:45.885Z"
   },
   {
    "duration": 28,
    "start_time": "2022-11-12T19:07:45.893Z"
   },
   {
    "duration": 24,
    "start_time": "2022-11-12T19:07:45.922Z"
   },
   {
    "duration": 39,
    "start_time": "2022-11-12T19:07:45.948Z"
   },
   {
    "duration": 85,
    "start_time": "2022-11-12T19:07:45.989Z"
   },
   {
    "duration": 75,
    "start_time": "2022-11-12T19:07:46.076Z"
   },
   {
    "duration": 68,
    "start_time": "2022-11-12T19:07:46.156Z"
   },
   {
    "duration": 71,
    "start_time": "2022-11-12T19:07:46.226Z"
   },
   {
    "duration": 2,
    "start_time": "2022-11-12T19:07:46.299Z"
   },
   {
    "duration": 6,
    "start_time": "2022-11-12T19:07:46.302Z"
   },
   {
    "duration": 7,
    "start_time": "2022-11-12T19:07:46.309Z"
   },
   {
    "duration": 5,
    "start_time": "2022-11-12T19:07:46.317Z"
   },
   {
    "duration": 5,
    "start_time": "2022-11-12T19:07:46.323Z"
   },
   {
    "duration": 29,
    "start_time": "2022-11-12T19:07:46.329Z"
   },
   {
    "duration": 8,
    "start_time": "2022-11-12T19:07:46.360Z"
   },
   {
    "duration": 9,
    "start_time": "2022-11-12T19:07:46.370Z"
   },
   {
    "duration": 5,
    "start_time": "2022-11-12T19:07:46.381Z"
   },
   {
    "duration": 10,
    "start_time": "2022-11-12T19:07:46.387Z"
   },
   {
    "duration": 8,
    "start_time": "2022-11-12T19:07:46.398Z"
   },
   {
    "duration": 19,
    "start_time": "2022-11-12T19:07:46.408Z"
   },
   {
    "duration": 5,
    "start_time": "2022-11-12T19:07:46.428Z"
   },
   {
    "duration": 5,
    "start_time": "2022-11-12T19:07:46.435Z"
   },
   {
    "duration": 43,
    "start_time": "2022-11-12T19:07:46.442Z"
   },
   {
    "duration": 0,
    "start_time": "2022-11-12T19:07:46.486Z"
   },
   {
    "duration": 0,
    "start_time": "2022-11-12T19:07:46.487Z"
   },
   {
    "duration": 0,
    "start_time": "2022-11-12T19:07:46.488Z"
   },
   {
    "duration": 0,
    "start_time": "2022-11-12T19:07:46.489Z"
   },
   {
    "duration": 0,
    "start_time": "2022-11-12T19:07:46.490Z"
   },
   {
    "duration": 0,
    "start_time": "2022-11-12T19:07:46.491Z"
   },
   {
    "duration": 0,
    "start_time": "2022-11-12T19:07:46.492Z"
   },
   {
    "duration": 1,
    "start_time": "2022-11-12T19:07:46.492Z"
   },
   {
    "duration": 18,
    "start_time": "2022-11-12T19:23:05.074Z"
   },
   {
    "duration": 38,
    "start_time": "2022-11-12T19:23:51.673Z"
   },
   {
    "duration": 151,
    "start_time": "2022-11-12T19:31:15.138Z"
   },
   {
    "duration": 11,
    "start_time": "2022-11-12T19:34:07.644Z"
   },
   {
    "duration": 10,
    "start_time": "2022-11-12T19:34:24.120Z"
   },
   {
    "duration": 10,
    "start_time": "2022-11-12T19:34:28.829Z"
   },
   {
    "duration": 390,
    "start_time": "2022-11-12T19:34:46.617Z"
   },
   {
    "duration": 153,
    "start_time": "2022-11-12T19:34:47.008Z"
   },
   {
    "duration": 17,
    "start_time": "2022-11-12T19:34:47.162Z"
   },
   {
    "duration": 27,
    "start_time": "2022-11-12T19:34:47.181Z"
   },
   {
    "duration": 2,
    "start_time": "2022-11-12T19:34:47.210Z"
   },
   {
    "duration": 6,
    "start_time": "2022-11-12T19:34:47.213Z"
   },
   {
    "duration": 34,
    "start_time": "2022-11-12T19:34:47.220Z"
   },
   {
    "duration": 6,
    "start_time": "2022-11-12T19:34:47.256Z"
   },
   {
    "duration": 32,
    "start_time": "2022-11-12T19:34:47.263Z"
   },
   {
    "duration": 20,
    "start_time": "2022-11-12T19:34:47.298Z"
   },
   {
    "duration": 33,
    "start_time": "2022-11-12T19:34:47.320Z"
   },
   {
    "duration": 64,
    "start_time": "2022-11-12T19:34:47.354Z"
   },
   {
    "duration": 79,
    "start_time": "2022-11-12T19:34:47.420Z"
   },
   {
    "duration": 65,
    "start_time": "2022-11-12T19:34:47.501Z"
   },
   {
    "duration": 37,
    "start_time": "2022-11-12T19:34:47.568Z"
   },
   {
    "duration": 19,
    "start_time": "2022-11-12T19:34:47.607Z"
   },
   {
    "duration": 53,
    "start_time": "2022-11-12T19:34:47.628Z"
   },
   {
    "duration": 2,
    "start_time": "2022-11-12T19:34:47.683Z"
   },
   {
    "duration": 10,
    "start_time": "2022-11-12T19:34:47.687Z"
   },
   {
    "duration": 6,
    "start_time": "2022-11-12T19:34:47.698Z"
   },
   {
    "duration": 8,
    "start_time": "2022-11-12T19:34:47.705Z"
   },
   {
    "duration": 8,
    "start_time": "2022-11-12T19:34:47.714Z"
   },
   {
    "duration": 6,
    "start_time": "2022-11-12T19:34:47.724Z"
   },
   {
    "duration": 6,
    "start_time": "2022-11-12T19:34:47.731Z"
   },
   {
    "duration": 13,
    "start_time": "2022-11-12T19:34:47.738Z"
   },
   {
    "duration": 9,
    "start_time": "2022-11-12T19:34:47.752Z"
   },
   {
    "duration": 4,
    "start_time": "2022-11-12T19:34:47.763Z"
   },
   {
    "duration": 3,
    "start_time": "2022-11-12T19:34:47.770Z"
   },
   {
    "duration": 12,
    "start_time": "2022-11-12T19:34:47.774Z"
   },
   {
    "duration": 47,
    "start_time": "2022-11-12T19:34:47.788Z"
   },
   {
    "duration": 0,
    "start_time": "2022-11-12T19:34:47.836Z"
   },
   {
    "duration": 0,
    "start_time": "2022-11-12T19:34:47.839Z"
   },
   {
    "duration": 0,
    "start_time": "2022-11-12T19:34:47.840Z"
   },
   {
    "duration": 0,
    "start_time": "2022-11-12T19:34:47.841Z"
   },
   {
    "duration": 0,
    "start_time": "2022-11-12T19:34:47.842Z"
   },
   {
    "duration": 0,
    "start_time": "2022-11-12T19:34:47.843Z"
   },
   {
    "duration": 0,
    "start_time": "2022-11-12T19:34:47.844Z"
   },
   {
    "duration": 0,
    "start_time": "2022-11-12T19:34:47.845Z"
   },
   {
    "duration": 3,
    "start_time": "2022-11-12T19:35:00.080Z"
   },
   {
    "duration": 3,
    "start_time": "2022-11-12T19:35:02.289Z"
   },
   {
    "duration": 4,
    "start_time": "2022-11-12T19:35:06.248Z"
   },
   {
    "duration": 11,
    "start_time": "2022-11-12T19:38:08.783Z"
   },
   {
    "duration": 12,
    "start_time": "2022-11-12T19:40:30.574Z"
   },
   {
    "duration": 11,
    "start_time": "2022-11-12T19:40:43.493Z"
   },
   {
    "duration": 5,
    "start_time": "2022-11-12T19:53:30.271Z"
   },
   {
    "duration": 49,
    "start_time": "2022-11-12T19:57:33.337Z"
   },
   {
    "duration": 41,
    "start_time": "2022-11-12T19:58:37.576Z"
   },
   {
    "duration": 367,
    "start_time": "2022-11-12T19:58:43.069Z"
   },
   {
    "duration": 153,
    "start_time": "2022-11-12T19:58:43.438Z"
   },
   {
    "duration": 17,
    "start_time": "2022-11-12T19:58:43.593Z"
   },
   {
    "duration": 36,
    "start_time": "2022-11-12T19:58:43.612Z"
   },
   {
    "duration": 13,
    "start_time": "2022-11-12T19:58:43.650Z"
   },
   {
    "duration": 7,
    "start_time": "2022-11-12T19:58:43.664Z"
   },
   {
    "duration": 13,
    "start_time": "2022-11-12T19:58:43.673Z"
   },
   {
    "duration": 7,
    "start_time": "2022-11-12T19:58:43.687Z"
   },
   {
    "duration": 33,
    "start_time": "2022-11-12T19:58:43.695Z"
   },
   {
    "duration": 24,
    "start_time": "2022-11-12T19:58:43.731Z"
   },
   {
    "duration": 23,
    "start_time": "2022-11-12T19:58:43.757Z"
   },
   {
    "duration": 74,
    "start_time": "2022-11-12T19:58:43.781Z"
   },
   {
    "duration": 66,
    "start_time": "2022-11-12T19:58:43.856Z"
   },
   {
    "duration": 69,
    "start_time": "2022-11-12T19:58:43.923Z"
   },
   {
    "duration": 36,
    "start_time": "2022-11-12T19:58:43.993Z"
   },
   {
    "duration": 33,
    "start_time": "2022-11-12T19:58:44.030Z"
   },
   {
    "duration": 37,
    "start_time": "2022-11-12T19:58:44.065Z"
   },
   {
    "duration": 11,
    "start_time": "2022-11-12T19:58:44.104Z"
   },
   {
    "duration": 33,
    "start_time": "2022-11-12T19:58:44.116Z"
   },
   {
    "duration": 40,
    "start_time": "2022-11-12T19:58:44.151Z"
   },
   {
    "duration": 0,
    "start_time": "2022-11-12T19:58:44.192Z"
   },
   {
    "duration": 0,
    "start_time": "2022-11-12T19:58:44.194Z"
   },
   {
    "duration": 0,
    "start_time": "2022-11-12T19:58:44.194Z"
   },
   {
    "duration": 0,
    "start_time": "2022-11-12T19:58:44.195Z"
   },
   {
    "duration": 0,
    "start_time": "2022-11-12T19:58:44.196Z"
   },
   {
    "duration": 0,
    "start_time": "2022-11-12T19:58:44.197Z"
   },
   {
    "duration": 1,
    "start_time": "2022-11-12T19:58:44.198Z"
   },
   {
    "duration": 0,
    "start_time": "2022-11-12T19:58:44.199Z"
   },
   {
    "duration": 0,
    "start_time": "2022-11-12T19:58:44.200Z"
   },
   {
    "duration": 0,
    "start_time": "2022-11-12T19:58:44.202Z"
   },
   {
    "duration": 0,
    "start_time": "2022-11-12T19:58:44.203Z"
   },
   {
    "duration": 0,
    "start_time": "2022-11-12T19:58:44.204Z"
   },
   {
    "duration": 0,
    "start_time": "2022-11-12T19:58:44.205Z"
   },
   {
    "duration": 0,
    "start_time": "2022-11-12T19:58:44.205Z"
   },
   {
    "duration": 0,
    "start_time": "2022-11-12T19:58:44.206Z"
   },
   {
    "duration": 0,
    "start_time": "2022-11-12T19:58:44.207Z"
   },
   {
    "duration": 0,
    "start_time": "2022-11-12T19:58:44.208Z"
   },
   {
    "duration": 0,
    "start_time": "2022-11-12T19:58:44.209Z"
   },
   {
    "duration": 5,
    "start_time": "2022-11-12T19:59:11.242Z"
   },
   {
    "duration": 4,
    "start_time": "2022-11-12T20:05:05.761Z"
   },
   {
    "duration": 4,
    "start_time": "2022-11-12T20:05:08.589Z"
   },
   {
    "duration": 5,
    "start_time": "2022-11-12T20:07:31.647Z"
   },
   {
    "duration": 4,
    "start_time": "2022-11-12T20:07:37.075Z"
   },
   {
    "duration": 393,
    "start_time": "2022-11-12T20:08:16.178Z"
   },
   {
    "duration": 188,
    "start_time": "2022-11-12T20:08:16.573Z"
   },
   {
    "duration": 17,
    "start_time": "2022-11-12T20:08:16.763Z"
   },
   {
    "duration": 29,
    "start_time": "2022-11-12T20:08:16.782Z"
   },
   {
    "duration": 3,
    "start_time": "2022-11-12T20:08:16.812Z"
   },
   {
    "duration": 6,
    "start_time": "2022-11-12T20:08:16.816Z"
   },
   {
    "duration": 11,
    "start_time": "2022-11-12T20:08:16.849Z"
   },
   {
    "duration": 11,
    "start_time": "2022-11-12T20:08:16.862Z"
   },
   {
    "duration": 27,
    "start_time": "2022-11-12T20:08:16.874Z"
   },
   {
    "duration": 20,
    "start_time": "2022-11-12T20:08:16.902Z"
   },
   {
    "duration": 44,
    "start_time": "2022-11-12T20:08:16.923Z"
   },
   {
    "duration": 66,
    "start_time": "2022-11-12T20:08:16.968Z"
   },
   {
    "duration": 77,
    "start_time": "2022-11-12T20:08:17.035Z"
   },
   {
    "duration": 76,
    "start_time": "2022-11-12T20:08:17.115Z"
   },
   {
    "duration": 38,
    "start_time": "2022-11-12T20:08:17.193Z"
   },
   {
    "duration": 31,
    "start_time": "2022-11-12T20:08:17.232Z"
   },
   {
    "duration": 42,
    "start_time": "2022-11-12T20:08:17.265Z"
   },
   {
    "duration": 12,
    "start_time": "2022-11-12T20:08:17.309Z"
   },
   {
    "duration": 33,
    "start_time": "2022-11-12T20:08:17.323Z"
   },
   {
    "duration": 5,
    "start_time": "2022-11-12T20:08:17.357Z"
   },
   {
    "duration": 7,
    "start_time": "2022-11-12T20:08:17.363Z"
   },
   {
    "duration": 7,
    "start_time": "2022-11-12T20:08:17.371Z"
   },
   {
    "duration": 4,
    "start_time": "2022-11-12T20:08:17.380Z"
   },
   {
    "duration": 5,
    "start_time": "2022-11-12T20:08:17.386Z"
   },
   {
    "duration": 6,
    "start_time": "2022-11-12T20:08:17.392Z"
   },
   {
    "duration": 5,
    "start_time": "2022-11-12T20:08:17.399Z"
   },
   {
    "duration": 5,
    "start_time": "2022-11-12T20:08:17.406Z"
   },
   {
    "duration": 5,
    "start_time": "2022-11-12T20:08:17.412Z"
   },
   {
    "duration": 4,
    "start_time": "2022-11-12T20:08:17.418Z"
   },
   {
    "duration": 42,
    "start_time": "2022-11-12T20:08:17.424Z"
   },
   {
    "duration": 0,
    "start_time": "2022-11-12T20:08:17.467Z"
   },
   {
    "duration": 0,
    "start_time": "2022-11-12T20:08:17.469Z"
   },
   {
    "duration": 0,
    "start_time": "2022-11-12T20:08:17.470Z"
   },
   {
    "duration": 0,
    "start_time": "2022-11-12T20:08:17.471Z"
   },
   {
    "duration": 0,
    "start_time": "2022-11-12T20:08:17.473Z"
   },
   {
    "duration": 0,
    "start_time": "2022-11-12T20:08:17.474Z"
   },
   {
    "duration": 0,
    "start_time": "2022-11-12T20:08:17.475Z"
   },
   {
    "duration": 0,
    "start_time": "2022-11-12T20:08:17.476Z"
   },
   {
    "duration": 3,
    "start_time": "2022-11-12T20:08:34.129Z"
   },
   {
    "duration": 427,
    "start_time": "2022-11-12T20:11:26.625Z"
   },
   {
    "duration": 163,
    "start_time": "2022-11-12T20:11:27.053Z"
   },
   {
    "duration": 18,
    "start_time": "2022-11-12T20:11:27.218Z"
   },
   {
    "duration": 35,
    "start_time": "2022-11-12T20:11:27.239Z"
   },
   {
    "duration": 3,
    "start_time": "2022-11-12T20:11:27.276Z"
   },
   {
    "duration": 9,
    "start_time": "2022-11-12T20:11:27.280Z"
   },
   {
    "duration": 14,
    "start_time": "2022-11-12T20:11:27.291Z"
   },
   {
    "duration": 19,
    "start_time": "2022-11-12T20:11:27.308Z"
   },
   {
    "duration": 40,
    "start_time": "2022-11-12T20:11:27.329Z"
   },
   {
    "duration": 18,
    "start_time": "2022-11-12T20:11:27.372Z"
   },
   {
    "duration": 24,
    "start_time": "2022-11-12T20:11:27.391Z"
   },
   {
    "duration": 84,
    "start_time": "2022-11-12T20:11:27.416Z"
   },
   {
    "duration": 79,
    "start_time": "2022-11-12T20:11:27.502Z"
   },
   {
    "duration": 75,
    "start_time": "2022-11-12T20:11:27.583Z"
   },
   {
    "duration": 39,
    "start_time": "2022-11-12T20:11:27.659Z"
   },
   {
    "duration": 23,
    "start_time": "2022-11-12T20:11:27.700Z"
   },
   {
    "duration": 51,
    "start_time": "2022-11-12T20:11:27.725Z"
   },
   {
    "duration": 13,
    "start_time": "2022-11-12T20:11:27.778Z"
   },
   {
    "duration": 11,
    "start_time": "2022-11-12T20:11:27.792Z"
   },
   {
    "duration": 4,
    "start_time": "2022-11-12T20:11:27.805Z"
   },
   {
    "duration": 52,
    "start_time": "2022-11-12T20:11:27.810Z"
   },
   {
    "duration": 15,
    "start_time": "2022-11-12T20:11:27.863Z"
   },
   {
    "duration": 73,
    "start_time": "2022-11-12T20:11:27.881Z"
   },
   {
    "duration": 0,
    "start_time": "2022-11-12T20:11:27.956Z"
   },
   {
    "duration": 0,
    "start_time": "2022-11-12T20:11:27.957Z"
   },
   {
    "duration": 0,
    "start_time": "2022-11-12T20:11:27.958Z"
   },
   {
    "duration": 0,
    "start_time": "2022-11-12T20:11:27.959Z"
   },
   {
    "duration": 0,
    "start_time": "2022-11-12T20:11:27.960Z"
   },
   {
    "duration": 0,
    "start_time": "2022-11-12T20:11:27.962Z"
   },
   {
    "duration": 0,
    "start_time": "2022-11-12T20:11:27.963Z"
   },
   {
    "duration": 0,
    "start_time": "2022-11-12T20:11:27.963Z"
   },
   {
    "duration": 0,
    "start_time": "2022-11-12T20:11:27.964Z"
   },
   {
    "duration": 0,
    "start_time": "2022-11-12T20:11:27.965Z"
   },
   {
    "duration": 0,
    "start_time": "2022-11-12T20:11:27.967Z"
   },
   {
    "duration": 0,
    "start_time": "2022-11-12T20:11:27.968Z"
   },
   {
    "duration": 0,
    "start_time": "2022-11-12T20:11:27.969Z"
   },
   {
    "duration": 0,
    "start_time": "2022-11-12T20:11:27.969Z"
   },
   {
    "duration": 0,
    "start_time": "2022-11-12T20:11:27.970Z"
   },
   {
    "duration": 18,
    "start_time": "2022-11-12T20:11:55.936Z"
   },
   {
    "duration": 18,
    "start_time": "2022-11-12T20:11:58.279Z"
   },
   {
    "duration": 18,
    "start_time": "2022-11-12T20:11:59.035Z"
   },
   {
    "duration": 16,
    "start_time": "2022-11-12T20:11:59.803Z"
   },
   {
    "duration": 10,
    "start_time": "2022-11-12T20:14:56.540Z"
   },
   {
    "duration": 409,
    "start_time": "2022-11-12T20:15:07.639Z"
   },
   {
    "duration": 162,
    "start_time": "2022-11-12T20:15:08.050Z"
   },
   {
    "duration": 16,
    "start_time": "2022-11-12T20:15:08.214Z"
   },
   {
    "duration": 35,
    "start_time": "2022-11-12T20:15:08.232Z"
   },
   {
    "duration": 2,
    "start_time": "2022-11-12T20:15:08.270Z"
   },
   {
    "duration": 9,
    "start_time": "2022-11-12T20:15:08.274Z"
   },
   {
    "duration": 14,
    "start_time": "2022-11-12T20:15:08.285Z"
   },
   {
    "duration": 6,
    "start_time": "2022-11-12T20:15:08.301Z"
   },
   {
    "duration": 49,
    "start_time": "2022-11-12T20:15:08.309Z"
   },
   {
    "duration": 20,
    "start_time": "2022-11-12T20:15:08.359Z"
   },
   {
    "duration": 24,
    "start_time": "2022-11-12T20:15:08.380Z"
   },
   {
    "duration": 82,
    "start_time": "2022-11-12T20:15:08.406Z"
   },
   {
    "duration": 77,
    "start_time": "2022-11-12T20:15:08.489Z"
   },
   {
    "duration": 58,
    "start_time": "2022-11-12T20:15:08.569Z"
   },
   {
    "duration": 47,
    "start_time": "2022-11-12T20:15:08.629Z"
   },
   {
    "duration": 20,
    "start_time": "2022-11-12T20:15:08.678Z"
   },
   {
    "duration": 55,
    "start_time": "2022-11-12T20:15:08.700Z"
   },
   {
    "duration": 11,
    "start_time": "2022-11-12T20:15:08.757Z"
   },
   {
    "duration": 12,
    "start_time": "2022-11-12T20:15:08.770Z"
   },
   {
    "duration": 3,
    "start_time": "2022-11-12T20:15:08.784Z"
   },
   {
    "duration": 24,
    "start_time": "2022-11-12T20:15:08.789Z"
   },
   {
    "duration": 38,
    "start_time": "2022-11-12T20:15:08.815Z"
   },
   {
    "duration": 15,
    "start_time": "2022-11-12T20:15:08.854Z"
   },
   {
    "duration": 13,
    "start_time": "2022-11-12T20:15:08.870Z"
   },
   {
    "duration": 15,
    "start_time": "2022-11-12T20:15:08.885Z"
   },
   {
    "duration": 14,
    "start_time": "2022-11-12T20:15:08.902Z"
   },
   {
    "duration": 91,
    "start_time": "2022-11-12T20:15:08.917Z"
   },
   {
    "duration": 0,
    "start_time": "2022-11-12T20:15:09.009Z"
   },
   {
    "duration": 0,
    "start_time": "2022-11-12T20:15:09.010Z"
   },
   {
    "duration": 0,
    "start_time": "2022-11-12T20:15:09.011Z"
   },
   {
    "duration": 0,
    "start_time": "2022-11-12T20:15:09.013Z"
   },
   {
    "duration": 0,
    "start_time": "2022-11-12T20:15:09.013Z"
   },
   {
    "duration": 0,
    "start_time": "2022-11-12T20:15:09.014Z"
   },
   {
    "duration": 0,
    "start_time": "2022-11-12T20:15:09.015Z"
   },
   {
    "duration": 0,
    "start_time": "2022-11-12T20:15:09.016Z"
   },
   {
    "duration": 0,
    "start_time": "2022-11-12T20:15:09.017Z"
   },
   {
    "duration": 0,
    "start_time": "2022-11-12T20:15:09.018Z"
   },
   {
    "duration": 0,
    "start_time": "2022-11-12T20:15:09.019Z"
   },
   {
    "duration": 9,
    "start_time": "2022-11-12T20:15:20.930Z"
   },
   {
    "duration": 9,
    "start_time": "2022-11-12T20:21:56.130Z"
   },
   {
    "duration": 11,
    "start_time": "2022-11-12T20:26:00.762Z"
   },
   {
    "duration": 9,
    "start_time": "2022-11-12T20:26:01.845Z"
   },
   {
    "duration": 10,
    "start_time": "2022-11-12T20:26:08.797Z"
   },
   {
    "duration": 53,
    "start_time": "2022-11-12T20:38:01.363Z"
   },
   {
    "duration": 5,
    "start_time": "2022-11-12T20:39:27.085Z"
   },
   {
    "duration": 6,
    "start_time": "2022-11-12T20:39:29.558Z"
   },
   {
    "duration": 5,
    "start_time": "2022-11-12T20:40:25.987Z"
   },
   {
    "duration": 5,
    "start_time": "2022-11-12T20:40:27.674Z"
   },
   {
    "duration": 4,
    "start_time": "2022-11-12T20:41:59.899Z"
   },
   {
    "duration": 403,
    "start_time": "2022-11-12T20:42:08.718Z"
   },
   {
    "duration": 175,
    "start_time": "2022-11-12T20:42:09.123Z"
   },
   {
    "duration": 21,
    "start_time": "2022-11-12T20:42:09.300Z"
   },
   {
    "duration": 43,
    "start_time": "2022-11-12T20:42:09.323Z"
   },
   {
    "duration": 2,
    "start_time": "2022-11-12T20:42:09.369Z"
   },
   {
    "duration": 8,
    "start_time": "2022-11-12T20:42:09.373Z"
   },
   {
    "duration": 13,
    "start_time": "2022-11-12T20:42:09.382Z"
   },
   {
    "duration": 12,
    "start_time": "2022-11-12T20:42:09.396Z"
   },
   {
    "duration": 58,
    "start_time": "2022-11-12T20:42:09.411Z"
   },
   {
    "duration": 19,
    "start_time": "2022-11-12T20:42:09.471Z"
   },
   {
    "duration": 27,
    "start_time": "2022-11-12T20:42:09.491Z"
   },
   {
    "duration": 100,
    "start_time": "2022-11-12T20:42:09.520Z"
   },
   {
    "duration": 76,
    "start_time": "2022-11-12T20:42:09.622Z"
   },
   {
    "duration": 72,
    "start_time": "2022-11-12T20:42:09.702Z"
   },
   {
    "duration": 40,
    "start_time": "2022-11-12T20:42:09.776Z"
   },
   {
    "duration": 38,
    "start_time": "2022-11-12T20:42:09.818Z"
   },
   {
    "duration": 37,
    "start_time": "2022-11-12T20:42:09.858Z"
   },
   {
    "duration": 11,
    "start_time": "2022-11-12T20:42:09.897Z"
   },
   {
    "duration": 39,
    "start_time": "2022-11-12T20:42:09.909Z"
   },
   {
    "duration": 3,
    "start_time": "2022-11-12T20:42:09.950Z"
   },
   {
    "duration": 33,
    "start_time": "2022-11-12T20:42:09.955Z"
   },
   {
    "duration": 16,
    "start_time": "2022-11-12T20:42:09.991Z"
   },
   {
    "duration": 19,
    "start_time": "2022-11-12T20:42:10.009Z"
   },
   {
    "duration": 29,
    "start_time": "2022-11-12T20:42:10.030Z"
   },
   {
    "duration": 23,
    "start_time": "2022-11-12T20:42:10.061Z"
   },
   {
    "duration": 21,
    "start_time": "2022-11-12T20:42:10.086Z"
   },
   {
    "duration": 10,
    "start_time": "2022-11-12T20:42:10.109Z"
   },
   {
    "duration": 35,
    "start_time": "2022-11-12T20:42:10.120Z"
   },
   {
    "duration": 18,
    "start_time": "2022-11-12T20:42:10.157Z"
   },
   {
    "duration": 16,
    "start_time": "2022-11-12T20:42:10.177Z"
   },
   {
    "duration": 12,
    "start_time": "2022-11-12T20:42:10.195Z"
   },
   {
    "duration": 9,
    "start_time": "2022-11-12T20:42:10.209Z"
   },
   {
    "duration": 25,
    "start_time": "2022-11-12T20:42:10.220Z"
   },
   {
    "duration": 22,
    "start_time": "2022-11-12T20:42:10.248Z"
   },
   {
    "duration": 9,
    "start_time": "2022-11-12T20:42:10.273Z"
   },
   {
    "duration": 13,
    "start_time": "2022-11-12T20:42:10.283Z"
   },
   {
    "duration": 6,
    "start_time": "2022-11-12T20:42:10.297Z"
   },
   {
    "duration": 7,
    "start_time": "2022-11-12T20:42:10.304Z"
   },
   {
    "duration": 5,
    "start_time": "2022-11-12T20:45:27.652Z"
   },
   {
    "duration": 5,
    "start_time": "2022-11-12T20:45:31.126Z"
   },
   {
    "duration": 78,
    "start_time": "2022-11-12T20:58:22.225Z"
   },
   {
    "duration": 351,
    "start_time": "2022-11-12T20:59:31.006Z"
   },
   {
    "duration": 175,
    "start_time": "2022-11-12T20:59:31.359Z"
   },
   {
    "duration": 22,
    "start_time": "2022-11-12T20:59:31.536Z"
   },
   {
    "duration": 55,
    "start_time": "2022-11-12T20:59:31.561Z"
   },
   {
    "duration": 17,
    "start_time": "2022-11-12T20:59:31.618Z"
   },
   {
    "duration": 30,
    "start_time": "2022-11-12T20:59:31.637Z"
   },
   {
    "duration": 24,
    "start_time": "2022-11-12T20:59:31.669Z"
   },
   {
    "duration": 8,
    "start_time": "2022-11-12T20:59:31.695Z"
   },
   {
    "duration": 36,
    "start_time": "2022-11-12T20:59:31.705Z"
   },
   {
    "duration": 41,
    "start_time": "2022-11-12T20:59:31.744Z"
   },
   {
    "duration": 59,
    "start_time": "2022-11-12T20:59:31.786Z"
   },
   {
    "duration": 81,
    "start_time": "2022-11-12T20:59:31.847Z"
   },
   {
    "duration": 118,
    "start_time": "2022-11-12T20:59:31.930Z"
   },
   {
    "duration": 84,
    "start_time": "2022-11-12T20:59:32.050Z"
   },
   {
    "duration": 50,
    "start_time": "2022-11-12T20:59:32.136Z"
   },
   {
    "duration": 20,
    "start_time": "2022-11-12T20:59:32.188Z"
   },
   {
    "duration": 60,
    "start_time": "2022-11-12T20:59:32.209Z"
   },
   {
    "duration": 12,
    "start_time": "2022-11-12T20:59:32.271Z"
   },
   {
    "duration": 17,
    "start_time": "2022-11-12T20:59:32.284Z"
   },
   {
    "duration": 5,
    "start_time": "2022-11-12T20:59:32.303Z"
   },
   {
    "duration": 46,
    "start_time": "2022-11-12T20:59:32.310Z"
   },
   {
    "duration": 16,
    "start_time": "2022-11-12T20:59:32.358Z"
   },
   {
    "duration": 14,
    "start_time": "2022-11-12T20:59:32.376Z"
   },
   {
    "duration": 25,
    "start_time": "2022-11-12T20:59:32.391Z"
   },
   {
    "duration": 38,
    "start_time": "2022-11-12T20:59:32.418Z"
   },
   {
    "duration": 23,
    "start_time": "2022-11-12T20:59:32.458Z"
   },
   {
    "duration": 10,
    "start_time": "2022-11-12T20:59:32.483Z"
   },
   {
    "duration": 26,
    "start_time": "2022-11-12T20:59:32.497Z"
   },
   {
    "duration": 33,
    "start_time": "2022-11-12T20:59:32.525Z"
   },
   {
    "duration": 31,
    "start_time": "2022-11-12T20:59:32.560Z"
   },
   {
    "duration": 43,
    "start_time": "2022-11-12T20:59:32.593Z"
   },
   {
    "duration": 16,
    "start_time": "2022-11-12T20:59:32.638Z"
   },
   {
    "duration": 33,
    "start_time": "2022-11-12T20:59:32.655Z"
   },
   {
    "duration": 10,
    "start_time": "2022-11-12T20:59:32.690Z"
   },
   {
    "duration": 9,
    "start_time": "2022-11-12T20:59:32.702Z"
   },
   {
    "duration": 25,
    "start_time": "2022-11-12T20:59:32.713Z"
   },
   {
    "duration": 8,
    "start_time": "2022-11-12T20:59:32.740Z"
   },
   {
    "duration": 24,
    "start_time": "2022-11-12T20:59:32.750Z"
   },
   {
    "duration": 348,
    "start_time": "2022-11-12T21:11:27.994Z"
   },
   {
    "duration": 170,
    "start_time": "2022-11-12T21:11:28.344Z"
   },
   {
    "duration": 15,
    "start_time": "2022-11-12T21:11:28.516Z"
   },
   {
    "duration": 40,
    "start_time": "2022-11-12T21:11:28.534Z"
   },
   {
    "duration": 4,
    "start_time": "2022-11-12T21:11:28.576Z"
   },
   {
    "duration": 12,
    "start_time": "2022-11-12T21:11:28.582Z"
   },
   {
    "duration": 12,
    "start_time": "2022-11-12T21:11:28.596Z"
   },
   {
    "duration": 8,
    "start_time": "2022-11-12T21:11:28.610Z"
   },
   {
    "duration": 49,
    "start_time": "2022-11-12T21:11:28.620Z"
   },
   {
    "duration": 38,
    "start_time": "2022-11-12T21:11:28.672Z"
   },
   {
    "duration": 64,
    "start_time": "2022-11-12T21:11:28.714Z"
   },
   {
    "duration": 87,
    "start_time": "2022-11-12T21:11:28.780Z"
   },
   {
    "duration": 70,
    "start_time": "2022-11-12T21:11:28.869Z"
   },
   {
    "duration": 60,
    "start_time": "2022-11-12T21:11:28.949Z"
   },
   {
    "duration": 53,
    "start_time": "2022-11-12T21:11:29.011Z"
   },
   {
    "duration": 22,
    "start_time": "2022-11-12T21:11:29.066Z"
   },
   {
    "duration": 60,
    "start_time": "2022-11-12T21:11:29.090Z"
   },
   {
    "duration": 12,
    "start_time": "2022-11-12T21:11:29.152Z"
   },
   {
    "duration": 12,
    "start_time": "2022-11-12T21:11:29.166Z"
   },
   {
    "duration": 6,
    "start_time": "2022-11-12T21:11:29.179Z"
   },
   {
    "duration": 23,
    "start_time": "2022-11-12T21:11:29.186Z"
   },
   {
    "duration": 42,
    "start_time": "2022-11-12T21:11:29.211Z"
   },
   {
    "duration": 15,
    "start_time": "2022-11-12T21:11:29.255Z"
   },
   {
    "duration": 23,
    "start_time": "2022-11-12T21:11:29.272Z"
   },
   {
    "duration": 52,
    "start_time": "2022-11-12T21:11:29.297Z"
   },
   {
    "duration": 16,
    "start_time": "2022-11-12T21:11:29.351Z"
   },
   {
    "duration": 12,
    "start_time": "2022-11-12T21:11:29.368Z"
   },
   {
    "duration": 15,
    "start_time": "2022-11-12T21:11:29.384Z"
   },
   {
    "duration": 9,
    "start_time": "2022-11-12T21:11:29.401Z"
   },
   {
    "duration": 25,
    "start_time": "2022-11-12T21:11:29.412Z"
   },
   {
    "duration": 34,
    "start_time": "2022-11-12T21:11:29.438Z"
   },
   {
    "duration": 13,
    "start_time": "2022-11-12T21:11:29.474Z"
   },
   {
    "duration": 15,
    "start_time": "2022-11-12T21:11:29.489Z"
   },
   {
    "duration": 11,
    "start_time": "2022-11-12T21:11:29.506Z"
   },
   {
    "duration": 7,
    "start_time": "2022-11-12T21:11:29.518Z"
   },
   {
    "duration": 6,
    "start_time": "2022-11-12T21:11:29.549Z"
   },
   {
    "duration": 7,
    "start_time": "2022-11-12T21:11:29.557Z"
   },
   {
    "duration": 5,
    "start_time": "2022-11-12T21:11:29.565Z"
   },
   {
    "duration": 408,
    "start_time": "2022-11-12T21:13:55.221Z"
   },
   {
    "duration": 173,
    "start_time": "2022-11-12T21:13:55.631Z"
   },
   {
    "duration": 19,
    "start_time": "2022-11-12T21:13:55.805Z"
   },
   {
    "duration": 51,
    "start_time": "2022-11-12T21:13:55.826Z"
   },
   {
    "duration": 5,
    "start_time": "2022-11-12T21:13:55.880Z"
   },
   {
    "duration": 18,
    "start_time": "2022-11-12T21:13:55.887Z"
   },
   {
    "duration": 12,
    "start_time": "2022-11-12T21:13:55.907Z"
   },
   {
    "duration": 11,
    "start_time": "2022-11-12T21:13:55.920Z"
   },
   {
    "duration": 31,
    "start_time": "2022-11-12T21:13:55.932Z"
   },
   {
    "duration": 21,
    "start_time": "2022-11-12T21:13:55.964Z"
   },
   {
    "duration": 34,
    "start_time": "2022-11-12T21:13:55.987Z"
   },
   {
    "duration": 75,
    "start_time": "2022-11-12T21:13:56.023Z"
   },
   {
    "duration": 70,
    "start_time": "2022-11-12T21:13:56.099Z"
   },
   {
    "duration": 59,
    "start_time": "2022-11-12T21:13:56.172Z"
   },
   {
    "duration": 48,
    "start_time": "2022-11-12T21:13:56.232Z"
   },
   {
    "duration": 20,
    "start_time": "2022-11-12T21:13:56.281Z"
   },
   {
    "duration": 58,
    "start_time": "2022-11-12T21:13:56.302Z"
   },
   {
    "duration": 11,
    "start_time": "2022-11-12T21:13:56.362Z"
   },
   {
    "duration": 12,
    "start_time": "2022-11-12T21:13:56.375Z"
   },
   {
    "duration": 4,
    "start_time": "2022-11-12T21:13:56.389Z"
   },
   {
    "duration": 20,
    "start_time": "2022-11-12T21:13:56.395Z"
   },
   {
    "duration": 49,
    "start_time": "2022-11-12T21:13:56.417Z"
   },
   {
    "duration": 19,
    "start_time": "2022-11-12T21:13:56.468Z"
   },
   {
    "duration": 12,
    "start_time": "2022-11-12T21:13:56.489Z"
   },
   {
    "duration": 46,
    "start_time": "2022-11-12T21:13:56.503Z"
   },
   {
    "duration": 22,
    "start_time": "2022-11-12T21:13:56.551Z"
   },
   {
    "duration": 8,
    "start_time": "2022-11-12T21:13:56.575Z"
   },
   {
    "duration": 18,
    "start_time": "2022-11-12T21:13:56.584Z"
   },
   {
    "duration": 14,
    "start_time": "2022-11-12T21:13:56.604Z"
   },
   {
    "duration": 7,
    "start_time": "2022-11-12T21:13:56.648Z"
   },
   {
    "duration": 46,
    "start_time": "2022-11-12T21:13:56.657Z"
   },
   {
    "duration": 20,
    "start_time": "2022-11-12T21:13:56.705Z"
   },
   {
    "duration": 32,
    "start_time": "2022-11-12T21:13:56.727Z"
   },
   {
    "duration": 12,
    "start_time": "2022-11-12T21:13:56.761Z"
   },
   {
    "duration": 3,
    "start_time": "2022-11-12T21:13:56.775Z"
   },
   {
    "duration": 8,
    "start_time": "2022-11-12T21:13:56.780Z"
   },
   {
    "duration": 10,
    "start_time": "2022-11-12T21:13:56.790Z"
   },
   {
    "duration": 7,
    "start_time": "2022-11-12T21:13:56.802Z"
   },
   {
    "duration": 370,
    "start_time": "2022-11-12T21:14:21.279Z"
   },
   {
    "duration": 169,
    "start_time": "2022-11-12T21:14:21.651Z"
   },
   {
    "duration": 18,
    "start_time": "2022-11-12T21:14:21.821Z"
   },
   {
    "duration": 30,
    "start_time": "2022-11-12T21:14:21.847Z"
   },
   {
    "duration": 3,
    "start_time": "2022-11-12T21:14:21.878Z"
   },
   {
    "duration": 9,
    "start_time": "2022-11-12T21:14:21.883Z"
   },
   {
    "duration": 17,
    "start_time": "2022-11-12T21:14:21.893Z"
   },
   {
    "duration": 9,
    "start_time": "2022-11-12T21:14:21.912Z"
   },
   {
    "duration": 52,
    "start_time": "2022-11-12T21:14:21.948Z"
   },
   {
    "duration": 23,
    "start_time": "2022-11-12T21:14:22.003Z"
   },
   {
    "duration": 35,
    "start_time": "2022-11-12T21:14:22.028Z"
   },
   {
    "duration": 65,
    "start_time": "2022-11-12T21:14:22.065Z"
   },
   {
    "duration": 82,
    "start_time": "2022-11-12T21:14:22.132Z"
   },
   {
    "duration": 79,
    "start_time": "2022-11-12T21:14:22.215Z"
   },
   {
    "duration": 38,
    "start_time": "2022-11-12T21:14:22.295Z"
   },
   {
    "duration": 22,
    "start_time": "2022-11-12T21:14:22.347Z"
   },
   {
    "duration": 39,
    "start_time": "2022-11-12T21:14:22.370Z"
   },
   {
    "duration": 13,
    "start_time": "2022-11-12T21:14:22.411Z"
   },
   {
    "duration": 19,
    "start_time": "2022-11-12T21:14:22.449Z"
   },
   {
    "duration": 5,
    "start_time": "2022-11-12T21:14:22.470Z"
   },
   {
    "duration": 26,
    "start_time": "2022-11-12T21:14:22.477Z"
   },
   {
    "duration": 15,
    "start_time": "2022-11-12T21:14:22.505Z"
   },
   {
    "duration": 40,
    "start_time": "2022-11-12T21:14:22.521Z"
   },
   {
    "duration": 15,
    "start_time": "2022-11-12T21:14:22.563Z"
   },
   {
    "duration": 18,
    "start_time": "2022-11-12T21:14:22.579Z"
   },
   {
    "duration": 52,
    "start_time": "2022-11-12T21:14:22.598Z"
   },
   {
    "duration": 12,
    "start_time": "2022-11-12T21:14:22.653Z"
   },
   {
    "duration": 15,
    "start_time": "2022-11-12T21:14:22.668Z"
   },
   {
    "duration": 10,
    "start_time": "2022-11-12T21:14:22.685Z"
   },
   {
    "duration": 12,
    "start_time": "2022-11-12T21:14:22.697Z"
   },
   {
    "duration": 49,
    "start_time": "2022-11-12T21:14:22.711Z"
   },
   {
    "duration": 16,
    "start_time": "2022-11-12T21:14:22.761Z"
   },
   {
    "duration": 16,
    "start_time": "2022-11-12T21:14:22.779Z"
   },
   {
    "duration": 12,
    "start_time": "2022-11-12T21:14:22.797Z"
   },
   {
    "duration": 3,
    "start_time": "2022-11-12T21:14:22.811Z"
   },
   {
    "duration": 3,
    "start_time": "2022-11-12T21:14:22.849Z"
   },
   {
    "duration": 6,
    "start_time": "2022-11-12T21:14:22.854Z"
   },
   {
    "duration": 10,
    "start_time": "2022-11-12T21:14:22.862Z"
   },
   {
    "duration": 395,
    "start_time": "2022-11-12T21:14:47.572Z"
   },
   {
    "duration": 165,
    "start_time": "2022-11-12T21:14:47.968Z"
   },
   {
    "duration": 20,
    "start_time": "2022-11-12T21:14:48.135Z"
   },
   {
    "duration": 47,
    "start_time": "2022-11-12T21:14:48.158Z"
   },
   {
    "duration": 3,
    "start_time": "2022-11-12T21:14:48.208Z"
   },
   {
    "duration": 8,
    "start_time": "2022-11-12T21:14:48.213Z"
   },
   {
    "duration": 14,
    "start_time": "2022-11-12T21:14:48.222Z"
   },
   {
    "duration": 12,
    "start_time": "2022-11-12T21:14:48.238Z"
   },
   {
    "duration": 49,
    "start_time": "2022-11-12T21:14:48.252Z"
   },
   {
    "duration": 65,
    "start_time": "2022-11-12T21:14:48.307Z"
   },
   {
    "duration": 42,
    "start_time": "2022-11-12T21:14:48.376Z"
   },
   {
    "duration": 77,
    "start_time": "2022-11-12T21:14:48.420Z"
   },
   {
    "duration": 81,
    "start_time": "2022-11-12T21:14:48.498Z"
   },
   {
    "duration": 81,
    "start_time": "2022-11-12T21:14:48.581Z"
   },
   {
    "duration": 38,
    "start_time": "2022-11-12T21:14:48.664Z"
   },
   {
    "duration": 25,
    "start_time": "2022-11-12T21:14:48.704Z"
   },
   {
    "duration": 59,
    "start_time": "2022-11-12T21:14:48.748Z"
   },
   {
    "duration": 18,
    "start_time": "2022-11-12T21:14:48.810Z"
   },
   {
    "duration": 28,
    "start_time": "2022-11-12T21:14:48.830Z"
   },
   {
    "duration": 4,
    "start_time": "2022-11-12T21:14:48.860Z"
   },
   {
    "duration": 26,
    "start_time": "2022-11-12T21:14:48.865Z"
   },
   {
    "duration": 16,
    "start_time": "2022-11-12T21:14:48.893Z"
   },
   {
    "duration": 20,
    "start_time": "2022-11-12T21:14:48.948Z"
   },
   {
    "duration": 20,
    "start_time": "2022-11-12T21:14:48.970Z"
   },
   {
    "duration": 58,
    "start_time": "2022-11-12T21:14:48.993Z"
   },
   {
    "duration": 18,
    "start_time": "2022-11-12T21:14:49.052Z"
   },
   {
    "duration": 11,
    "start_time": "2022-11-12T21:14:49.072Z"
   },
   {
    "duration": 16,
    "start_time": "2022-11-12T21:14:49.087Z"
   },
   {
    "duration": 25,
    "start_time": "2022-11-12T21:14:49.106Z"
   },
   {
    "duration": 18,
    "start_time": "2022-11-12T21:14:49.133Z"
   },
   {
    "duration": 47,
    "start_time": "2022-11-12T21:14:49.153Z"
   },
   {
    "duration": 14,
    "start_time": "2022-11-12T21:14:49.202Z"
   },
   {
    "duration": 16,
    "start_time": "2022-11-12T21:14:49.218Z"
   },
   {
    "duration": 22,
    "start_time": "2022-11-12T21:14:49.236Z"
   },
   {
    "duration": 2,
    "start_time": "2022-11-12T21:14:49.260Z"
   },
   {
    "duration": 7,
    "start_time": "2022-11-12T21:14:49.264Z"
   },
   {
    "duration": 6,
    "start_time": "2022-11-12T21:14:49.273Z"
   },
   {
    "duration": 5,
    "start_time": "2022-11-12T21:14:49.281Z"
   },
   {
    "duration": 406,
    "start_time": "2022-11-12T21:15:06.964Z"
   },
   {
    "duration": 165,
    "start_time": "2022-11-12T21:15:07.372Z"
   },
   {
    "duration": 20,
    "start_time": "2022-11-12T21:15:07.540Z"
   },
   {
    "duration": 41,
    "start_time": "2022-11-12T21:15:07.565Z"
   },
   {
    "duration": 3,
    "start_time": "2022-11-12T21:15:07.607Z"
   },
   {
    "duration": 6,
    "start_time": "2022-11-12T21:15:07.611Z"
   },
   {
    "duration": 40,
    "start_time": "2022-11-12T21:15:07.620Z"
   },
   {
    "duration": 8,
    "start_time": "2022-11-12T21:15:07.663Z"
   },
   {
    "duration": 44,
    "start_time": "2022-11-12T21:15:07.673Z"
   },
   {
    "duration": 44,
    "start_time": "2022-11-12T21:15:07.720Z"
   },
   {
    "duration": 32,
    "start_time": "2022-11-12T21:15:07.766Z"
   },
   {
    "duration": 80,
    "start_time": "2022-11-12T21:15:07.800Z"
   },
   {
    "duration": 78,
    "start_time": "2022-11-12T21:15:07.882Z"
   },
   {
    "duration": 61,
    "start_time": "2022-11-12T21:15:07.961Z"
   },
   {
    "duration": 56,
    "start_time": "2022-11-12T21:15:08.024Z"
   },
   {
    "duration": 19,
    "start_time": "2022-11-12T21:15:08.081Z"
   },
   {
    "duration": 81,
    "start_time": "2022-11-12T21:15:08.102Z"
   },
   {
    "duration": 11,
    "start_time": "2022-11-12T21:15:08.185Z"
   },
   {
    "duration": 12,
    "start_time": "2022-11-12T21:15:08.198Z"
   },
   {
    "duration": 6,
    "start_time": "2022-11-12T21:15:08.211Z"
   },
   {
    "duration": 54,
    "start_time": "2022-11-12T21:15:08.219Z"
   },
   {
    "duration": 16,
    "start_time": "2022-11-12T21:15:08.275Z"
   },
   {
    "duration": 16,
    "start_time": "2022-11-12T21:15:08.292Z"
   },
   {
    "duration": 40,
    "start_time": "2022-11-12T21:15:08.310Z"
   },
   {
    "duration": 23,
    "start_time": "2022-11-12T21:15:08.352Z"
   },
   {
    "duration": 20,
    "start_time": "2022-11-12T21:15:08.377Z"
   },
   {
    "duration": 11,
    "start_time": "2022-11-12T21:15:08.399Z"
   },
   {
    "duration": 37,
    "start_time": "2022-11-12T21:15:08.414Z"
   },
   {
    "duration": 9,
    "start_time": "2022-11-12T21:15:08.453Z"
   },
   {
    "duration": 7,
    "start_time": "2022-11-12T21:15:08.464Z"
   },
   {
    "duration": 47,
    "start_time": "2022-11-12T21:15:08.472Z"
   },
   {
    "duration": 11,
    "start_time": "2022-11-12T21:15:08.521Z"
   },
   {
    "duration": 17,
    "start_time": "2022-11-12T21:15:08.534Z"
   },
   {
    "duration": 11,
    "start_time": "2022-11-12T21:15:08.552Z"
   },
   {
    "duration": 9,
    "start_time": "2022-11-12T21:15:08.564Z"
   },
   {
    "duration": 6,
    "start_time": "2022-11-12T21:15:08.574Z"
   },
   {
    "duration": 6,
    "start_time": "2022-11-12T21:15:08.582Z"
   },
   {
    "duration": 6,
    "start_time": "2022-11-12T21:15:08.589Z"
   },
   {
    "duration": 11,
    "start_time": "2022-11-12T21:19:24.485Z"
   },
   {
    "duration": 60,
    "start_time": "2022-11-12T21:20:33.172Z"
   },
   {
    "duration": 5,
    "start_time": "2022-11-12T21:20:49.663Z"
   },
   {
    "duration": 401,
    "start_time": "2022-11-12T21:22:59.542Z"
   },
   {
    "duration": 172,
    "start_time": "2022-11-12T21:22:59.945Z"
   },
   {
    "duration": 34,
    "start_time": "2022-11-12T21:23:00.119Z"
   },
   {
    "duration": 38,
    "start_time": "2022-11-12T21:23:00.157Z"
   },
   {
    "duration": 43,
    "start_time": "2022-11-12T21:23:00.197Z"
   },
   {
    "duration": 40,
    "start_time": "2022-11-12T21:23:00.241Z"
   },
   {
    "duration": 36,
    "start_time": "2022-11-12T21:23:00.283Z"
   },
   {
    "duration": 36,
    "start_time": "2022-11-12T21:23:00.322Z"
   },
   {
    "duration": 64,
    "start_time": "2022-11-12T21:23:00.361Z"
   },
   {
    "duration": 26,
    "start_time": "2022-11-12T21:23:00.428Z"
   },
   {
    "duration": 28,
    "start_time": "2022-11-12T21:23:00.456Z"
   },
   {
    "duration": 87,
    "start_time": "2022-11-12T21:23:00.486Z"
   },
   {
    "duration": 73,
    "start_time": "2022-11-12T21:23:00.575Z"
   },
   {
    "duration": 87,
    "start_time": "2022-11-12T21:23:00.650Z"
   },
   {
    "duration": 42,
    "start_time": "2022-11-12T21:23:00.749Z"
   },
   {
    "duration": 20,
    "start_time": "2022-11-12T21:23:00.793Z"
   },
   {
    "duration": 57,
    "start_time": "2022-11-12T21:23:00.815Z"
   },
   {
    "duration": 13,
    "start_time": "2022-11-12T21:23:00.874Z"
   },
   {
    "duration": 22,
    "start_time": "2022-11-12T21:23:00.889Z"
   },
   {
    "duration": 23,
    "start_time": "2022-11-12T21:23:00.912Z"
   },
   {
    "duration": 58,
    "start_time": "2022-11-12T21:23:00.937Z"
   },
   {
    "duration": 33,
    "start_time": "2022-11-12T21:23:00.997Z"
   },
   {
    "duration": 18,
    "start_time": "2022-11-12T21:23:01.032Z"
   },
   {
    "duration": 15,
    "start_time": "2022-11-12T21:23:01.052Z"
   },
   {
    "duration": 18,
    "start_time": "2022-11-12T21:23:01.069Z"
   },
   {
    "duration": 15,
    "start_time": "2022-11-12T21:23:01.089Z"
   },
   {
    "duration": 9,
    "start_time": "2022-11-12T21:23:01.105Z"
   },
   {
    "duration": 43,
    "start_time": "2022-11-12T21:23:01.117Z"
   },
   {
    "duration": 16,
    "start_time": "2022-11-12T21:23:01.162Z"
   },
   {
    "duration": 5,
    "start_time": "2022-11-12T21:23:01.180Z"
   },
   {
    "duration": 33,
    "start_time": "2022-11-12T21:23:01.187Z"
   },
   {
    "duration": 27,
    "start_time": "2022-11-12T21:23:01.222Z"
   },
   {
    "duration": 16,
    "start_time": "2022-11-12T21:23:01.250Z"
   },
   {
    "duration": 21,
    "start_time": "2022-11-12T21:23:01.268Z"
   },
   {
    "duration": 31,
    "start_time": "2022-11-12T21:23:01.290Z"
   },
   {
    "duration": 13,
    "start_time": "2022-11-12T21:23:01.323Z"
   },
   {
    "duration": 6,
    "start_time": "2022-11-12T21:23:01.338Z"
   },
   {
    "duration": 11,
    "start_time": "2022-11-12T21:23:01.346Z"
   },
   {
    "duration": 400,
    "start_time": "2023-09-09T13:41:46.771Z"
   },
   {
    "duration": 237,
    "start_time": "2023-09-09T13:41:47.173Z"
   },
   {
    "duration": 18,
    "start_time": "2023-09-09T13:41:47.412Z"
   },
   {
    "duration": 32,
    "start_time": "2023-09-09T13:41:47.433Z"
   },
   {
    "duration": 18,
    "start_time": "2023-09-09T13:41:47.466Z"
   },
   {
    "duration": 31,
    "start_time": "2023-09-09T13:41:47.486Z"
   },
   {
    "duration": 6,
    "start_time": "2023-09-09T13:41:47.519Z"
   },
   {
    "duration": 31,
    "start_time": "2023-09-09T13:41:47.526Z"
   },
   {
    "duration": 22,
    "start_time": "2023-09-09T13:41:47.559Z"
   },
   {
    "duration": 29,
    "start_time": "2023-09-09T13:41:47.583Z"
   },
   {
    "duration": 77,
    "start_time": "2023-09-09T13:41:47.613Z"
   },
   {
    "duration": 77,
    "start_time": "2023-09-09T13:41:47.692Z"
   },
   {
    "duration": 62,
    "start_time": "2023-09-09T13:41:47.770Z"
   },
   {
    "duration": 55,
    "start_time": "2023-09-09T13:41:47.834Z"
   },
   {
    "duration": 21,
    "start_time": "2023-09-09T13:41:47.891Z"
   },
   {
    "duration": 61,
    "start_time": "2023-09-09T13:41:47.914Z"
   },
   {
    "duration": 14,
    "start_time": "2023-09-09T13:41:47.977Z"
   },
   {
    "duration": 13,
    "start_time": "2023-09-09T13:41:47.993Z"
   },
   {
    "duration": 4,
    "start_time": "2023-09-09T13:41:48.008Z"
   },
   {
    "duration": 51,
    "start_time": "2023-09-09T13:41:48.014Z"
   },
   {
    "duration": 14,
    "start_time": "2023-09-09T13:41:48.066Z"
   },
   {
    "duration": 16,
    "start_time": "2023-09-09T13:41:48.082Z"
   },
   {
    "duration": 15,
    "start_time": "2023-09-09T13:41:48.100Z"
   },
   {
    "duration": 45,
    "start_time": "2023-09-09T13:41:48.117Z"
   },
   {
    "duration": 17,
    "start_time": "2023-09-09T13:41:48.164Z"
   },
   {
    "duration": 10,
    "start_time": "2023-09-09T13:41:48.183Z"
   },
   {
    "duration": 14,
    "start_time": "2023-09-09T13:41:48.195Z"
   },
   {
    "duration": 39,
    "start_time": "2023-09-09T13:41:48.213Z"
   },
   {
    "duration": 4,
    "start_time": "2023-09-09T13:41:48.254Z"
   },
   {
    "duration": 22,
    "start_time": "2023-09-09T13:41:48.260Z"
   },
   {
    "duration": 16,
    "start_time": "2023-09-09T13:41:48.284Z"
   },
   {
    "duration": 23,
    "start_time": "2023-09-09T13:41:48.302Z"
   },
   {
    "duration": 12,
    "start_time": "2023-09-09T13:41:48.347Z"
   },
   {
    "duration": 9,
    "start_time": "2023-09-09T13:41:48.360Z"
   },
   {
    "duration": 11,
    "start_time": "2023-09-09T13:41:48.370Z"
   },
   {
    "duration": 17,
    "start_time": "2023-09-09T13:41:48.382Z"
   },
   {
    "duration": 5,
    "start_time": "2023-09-09T13:41:48.401Z"
   }
  ],
  "colab": {
   "collapsed_sections": [
    "E0vqbgi9ay0H",
    "VUC88oWjTJw2"
   ],
   "name": "automatization_template_upd4.ipynb",
   "provenance": []
  },
  "kernelspec": {
   "display_name": "Python 3 (ipykernel)",
   "language": "python",
   "name": "python3"
  },
  "language_info": {
   "codemirror_mode": {
    "name": "ipython",
    "version": 3
   },
   "file_extension": ".py",
   "mimetype": "text/x-python",
   "name": "python",
   "nbconvert_exporter": "python",
   "pygments_lexer": "ipython3",
   "version": "3.9.5"
  },
  "toc": {
   "base_numbering": 1,
   "nav_menu": {
    "height": "215px",
    "width": "403px"
   },
   "number_sections": true,
   "sideBar": true,
   "skip_h1_title": true,
   "title_cell": "Table of Contents",
   "title_sidebar": "Contents",
   "toc_cell": false,
   "toc_position": {
    "height": "calc(100% - 180px)",
    "left": "10px",
    "top": "150px",
    "width": "285.825px"
   },
   "toc_section_display": true,
   "toc_window_display": false
  }
 },
 "nbformat": 4,
 "nbformat_minor": 1
}
