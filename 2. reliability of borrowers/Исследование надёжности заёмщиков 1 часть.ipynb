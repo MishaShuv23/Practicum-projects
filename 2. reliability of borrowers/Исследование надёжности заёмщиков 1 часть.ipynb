{
 "cells": [
  {
   "cell_type": "markdown",
   "id": "c81daeeb",
   "metadata": {
    "deletable": false,
    "editable": false,
    "id": "c81daeeb"
   },
   "source": [
    "# Исследование надежности заемщиков"
   ]
  },
  {
   "cell_type": "markdown",
   "id": "-G3EJWzf62s6",
   "metadata": {
    "deletable": false,
    "editable": false,
    "id": "-G3EJWzf62s6"
   },
   "source": [
    "Это первая часть проекта, она будет проверена автоматически. Вторую часть проверит ревьюер. "
   ]
  },
  {
   "cell_type": "markdown",
   "id": "744d7639",
   "metadata": {
    "deletable": false,
    "editable": false,
    "id": "744d7639"
   },
   "source": [
    "## Откройте таблицу и изучите общую информацию о данных"
   ]
  },
  {
   "cell_type": "markdown",
   "id": "e7a14c31",
   "metadata": {
    "deletable": false,
    "editable": false,
    "id": "e7a14c31",
    "tags": [
     "start_task"
    ]
   },
   "source": [
    "**Задание 1. Импортируйте библиотеку pandas. Считайте данные из csv-файла в датафрейм и сохраните в переменную `data`. Путь к файлу:**\n",
    "\n",
    "`/datasets/data.csv`"
   ]
  },
  {
   "cell_type": "code",
   "execution_count": 1,
   "id": "7bcf75c9",
   "metadata": {
    "id": "7bcf75c9"
   },
   "outputs": [],
   "source": [
    "import pandas as pd "
   ]
  },
  {
   "cell_type": "code",
   "execution_count": 2,
   "id": "4d240ee2",
   "metadata": {
    "id": "4d240ee2"
   },
   "outputs": [],
   "source": [
    "data = pd.read_csv('/datasets/data.csv') "
   ]
  },
  {
   "cell_type": "markdown",
   "id": "b8038fe3",
   "metadata": {
    "deletable": false,
    "editable": false,
    "id": "b8038fe3",
    "tags": [
     "start_task"
    ]
   },
   "source": [
    "**Задание 2. Выведите первые 20 строчек датафрейма `data` на экран.**"
   ]
  },
  {
   "cell_type": "code",
   "execution_count": 3,
   "id": "2a7cab99",
   "metadata": {
    "id": "2a7cab99"
   },
   "outputs": [
    {
     "name": "stdout",
     "output_type": "stream",
     "text": [
      "    children  days_employed  dob_years            education  education_id  \\\n",
      "0          1   -8437.673028         42               высшее             0   \n",
      "1          1   -4024.803754         36              среднее             1   \n",
      "2          0   -5623.422610         33              Среднее             1   \n",
      "3          3   -4124.747207         32              среднее             1   \n",
      "4          0  340266.072047         53              среднее             1   \n",
      "5          0    -926.185831         27               высшее             0   \n",
      "6          0   -2879.202052         43               высшее             0   \n",
      "7          0    -152.779569         50              СРЕДНЕЕ             1   \n",
      "8          2   -6929.865299         35               ВЫСШЕЕ             0   \n",
      "9          0   -2188.756445         41              среднее             1   \n",
      "10         2   -4171.483647         36               высшее             0   \n",
      "11         0    -792.701887         40              среднее             1   \n",
      "12         0            NaN         65              среднее             1   \n",
      "13         0   -1846.641941         54  неоконченное высшее             2   \n",
      "14         0   -1844.956182         56               высшее             0   \n",
      "15         1    -972.364419         26              среднее             1   \n",
      "16         0   -1719.934226         35              среднее             1   \n",
      "17         0   -2369.999720         33               высшее             0   \n",
      "18         0  400281.136913         53              среднее             1   \n",
      "19         0  -10038.818549         48              СРЕДНЕЕ             1   \n",
      "\n",
      "       family_status  family_status_id gender income_type  debt  \\\n",
      "0    женат / замужем                 0      F   сотрудник     0   \n",
      "1    женат / замужем                 0      F   сотрудник     0   \n",
      "2    женат / замужем                 0      M   сотрудник     0   \n",
      "3    женат / замужем                 0      M   сотрудник     0   \n",
      "4   гражданский брак                 1      F   пенсионер     0   \n",
      "5   гражданский брак                 1      M   компаньон     0   \n",
      "6    женат / замужем                 0      F   компаньон     0   \n",
      "7    женат / замужем                 0      M   сотрудник     0   \n",
      "8   гражданский брак                 1      F   сотрудник     0   \n",
      "9    женат / замужем                 0      M   сотрудник     0   \n",
      "10   женат / замужем                 0      M   компаньон     0   \n",
      "11   женат / замужем                 0      F   сотрудник     0   \n",
      "12  гражданский брак                 1      M   пенсионер     0   \n",
      "13   женат / замужем                 0      F   сотрудник     0   \n",
      "14  гражданский брак                 1      F   компаньон     1   \n",
      "15   женат / замужем                 0      F   сотрудник     0   \n",
      "16   женат / замужем                 0      F   сотрудник     0   \n",
      "17  гражданский брак                 1      M   сотрудник     0   \n",
      "18    вдовец / вдова                 2      F   пенсионер     0   \n",
      "19         в разводе                 3      F   сотрудник     0   \n",
      "\n",
      "     total_income                                 purpose  \n",
      "0   253875.639453                           покупка жилья  \n",
      "1   112080.014102                 приобретение автомобиля  \n",
      "2   145885.952297                           покупка жилья  \n",
      "3   267628.550329              дополнительное образование  \n",
      "4   158616.077870                         сыграть свадьбу  \n",
      "5   255763.565419                           покупка жилья  \n",
      "6   240525.971920                       операции с жильем  \n",
      "7   135823.934197                             образование  \n",
      "8    95856.832424                   на проведение свадьбы  \n",
      "9   144425.938277                 покупка жилья для семьи  \n",
      "10  113943.491460                    покупка недвижимости  \n",
      "11   77069.234271       покупка коммерческой недвижимости  \n",
      "12            NaN                         сыграть свадьбу  \n",
      "13  130458.228857                 приобретение автомобиля  \n",
      "14  165127.911772              покупка жилой недвижимости  \n",
      "15  116820.904450  строительство собственной недвижимости  \n",
      "16  289202.704229                            недвижимость  \n",
      "17   90410.586745              строительство недвижимости  \n",
      "18   56823.777243      на покупку подержанного автомобиля  \n",
      "19  242831.107982            на покупку своего автомобиля  \n"
     ]
    }
   ],
   "source": [
    "print(data.head(20))"
   ]
  },
  {
   "cell_type": "markdown",
   "id": "1c12e233",
   "metadata": {
    "deletable": false,
    "editable": false,
    "id": "1c12e233",
    "tags": [
     "start_task"
    ]
   },
   "source": [
    "**Задание 3. Выведите основную информацию о датафрейме с помощью метода `info()`.**"
   ]
  },
  {
   "cell_type": "code",
   "execution_count": 4,
   "id": "2b757bca",
   "metadata": {
    "id": "2b757bca"
   },
   "outputs": [
    {
     "name": "stdout",
     "output_type": "stream",
     "text": [
      "<class 'pandas.core.frame.DataFrame'>\n",
      "RangeIndex: 21525 entries, 0 to 21524\n",
      "Data columns (total 12 columns):\n",
      " #   Column            Non-Null Count  Dtype  \n",
      "---  ------            --------------  -----  \n",
      " 0   children          21525 non-null  int64  \n",
      " 1   days_employed     19351 non-null  float64\n",
      " 2   dob_years         21525 non-null  int64  \n",
      " 3   education         21525 non-null  object \n",
      " 4   education_id      21525 non-null  int64  \n",
      " 5   family_status     21525 non-null  object \n",
      " 6   family_status_id  21525 non-null  int64  \n",
      " 7   gender            21525 non-null  object \n",
      " 8   income_type       21525 non-null  object \n",
      " 9   debt              21525 non-null  int64  \n",
      " 10  total_income      19351 non-null  float64\n",
      " 11  purpose           21525 non-null  object \n",
      "dtypes: float64(2), int64(5), object(5)\n",
      "memory usage: 2.0+ MB\n"
     ]
    }
   ],
   "source": [
    "data.info() "
   ]
  },
  {
   "cell_type": "markdown",
   "id": "333ec665",
   "metadata": {
    "deletable": false,
    "editable": false,
    "id": "333ec665"
   },
   "source": [
    "## Предобработка данных"
   ]
  },
  {
   "cell_type": "markdown",
   "id": "02d92d53",
   "metadata": {
    "deletable": false,
    "editable": false,
    "id": "02d92d53"
   },
   "source": [
    "### Удаление пропусков"
   ]
  },
  {
   "cell_type": "markdown",
   "id": "cd84967c",
   "metadata": {
    "deletable": false,
    "editable": false,
    "id": "cd84967c",
    "tags": [
     "start_task"
    ]
   },
   "source": [
    "**Задание 4. Выведите количество пропущенных значений для каждого столбца. Используйте комбинацию двух методов.**"
   ]
  },
  {
   "cell_type": "code",
   "execution_count": 5,
   "id": "7f9b2309",
   "metadata": {
    "id": "7f9b2309"
   },
   "outputs": [
    {
     "name": "stdout",
     "output_type": "stream",
     "text": [
      "children               0\n",
      "days_employed       2174\n",
      "dob_years              0\n",
      "education              0\n",
      "education_id           0\n",
      "family_status          0\n",
      "family_status_id       0\n",
      "gender                 0\n",
      "income_type            0\n",
      "debt                   0\n",
      "total_income        2174\n",
      "purpose                0\n",
      "dtype: int64\n"
     ]
    }
   ],
   "source": [
    "print(data.isnull().sum()) "
   ]
  },
  {
   "cell_type": "markdown",
   "id": "db86e27b",
   "metadata": {
    "deletable": false,
    "editable": false,
    "id": "db86e27b",
    "tags": [
     "start_task"
    ]
   },
   "source": [
    "**Задание 5. В двух столбцах есть пропущенные значения. Один из них — `days_employed`. Пропуски в этом столбце вы обработаете на следующем этапе. Другой столбец с пропущенными значениями — `total_income` — хранит данные о доходах. На сумму дохода сильнее всего влияет тип занятости, поэтому заполнить пропуски в этом столбце нужно медианным значением по каждому типу из столбца `income_type`. Например, у человека с типом занятости `сотрудник` пропуск в столбце `total_income` должен быть заполнен медианным доходом среди всех записей с тем же типом.**"
   ]
  },
  {
   "cell_type": "code",
   "execution_count": 6,
   "id": "42006a93",
   "metadata": {
    "id": "42006a93"
   },
   "outputs": [],
   "source": [
    "for index in data['income_type'].unique():\n",
    "    data.loc[(data['income_type'] == index) & (data['total_income'].isna()), 'total_income'] = \\\n",
    "    data.loc[(data['income_type'] == index), 'total_income'].median()"
   ]
  },
  {
   "cell_type": "markdown",
   "id": "89da5ece",
   "metadata": {
    "deletable": false,
    "editable": false,
    "id": "89da5ece"
   },
   "source": [
    "### Обработка аномальных значений"
   ]
  },
  {
   "cell_type": "markdown",
   "id": "57964554",
   "metadata": {
    "deletable": false,
    "editable": false,
    "id": "57964554",
    "tags": [
     "start_task"
    ]
   },
   "source": [
    "**Задание 6. В данных могут встречаться артефакты (аномалии) — значения, которые не отражают действительность и появились по какой-то ошибке. Таким артефактом будет отрицательное количество дней трудового стажа в столбце `days_employed`. Для реальных данных это нормально. Обработайте значения в этом столбце: замените все отрицательные значения положительными с помощью метода `abs()`.**"
   ]
  },
  {
   "cell_type": "code",
   "execution_count": 7,
   "id": "f6f055bf",
   "metadata": {
    "id": "f6f055bf"
   },
   "outputs": [],
   "source": [
    "data['days_employed'] = data['days_employed'].abs() "
   ]
  },
  {
   "cell_type": "markdown",
   "id": "6107dd2f",
   "metadata": {
    "deletable": false,
    "editable": false,
    "id": "6107dd2f",
    "tags": [
     "start_task"
    ]
   },
   "source": [
    "**Задание 7. Для каждого типа занятости выведите медианное значение трудового стажа `days_employed` в днях.**"
   ]
  },
  {
   "cell_type": "code",
   "execution_count": 8,
   "id": "85a5faf6",
   "metadata": {
    "id": "85a5faf6"
   },
   "outputs": [
    {
     "data": {
      "text/plain": [
       "income_type\n",
       "безработный        366413.652744\n",
       "в декрете            3296.759962\n",
       "госслужащий          2689.368353\n",
       "компаньон            1547.382223\n",
       "пенсионер          365213.306266\n",
       "предприниматель       520.848083\n",
       "сотрудник            1574.202821\n",
       "студент               578.751554\n",
       "Name: days_employed, dtype: float64"
      ]
     },
     "execution_count": 8,
     "metadata": {},
     "output_type": "execute_result"
    }
   ],
   "source": [
    "data.groupby('income_type')['days_employed'].median()"
   ]
  },
  {
   "cell_type": "markdown",
   "id": "38d1a030",
   "metadata": {
    "deletable": false,
    "editable": false,
    "id": "38d1a030"
   },
   "source": [
    "У двух типов (безработные и пенсионеры) получатся аномально большие значения. Исправить такие значения сложно, поэтому оставьте их как есть. Тем более этот столбец не понадобится вам для исследования."
   ]
  },
  {
   "cell_type": "markdown",
   "id": "d8a9f147",
   "metadata": {
    "deletable": false,
    "editable": false,
    "id": "d8a9f147",
    "tags": [
     "start_task"
    ]
   },
   "source": [
    "**Задание 8. Выведите перечень уникальных значений столбца `children`.**"
   ]
  },
  {
   "cell_type": "code",
   "execution_count": 9,
   "id": "ef5056eb",
   "metadata": {
    "id": "ef5056eb"
   },
   "outputs": [
    {
     "data": {
      "text/plain": [
       "array([ 1,  0,  3,  2, -1,  4, 20,  5])"
      ]
     },
     "execution_count": 9,
     "metadata": {},
     "output_type": "execute_result"
    }
   ],
   "source": [
    "data['children'].unique() "
   ]
  },
  {
   "cell_type": "markdown",
   "id": "40b9ebf2",
   "metadata": {
    "deletable": false,
    "editable": false,
    "id": "40b9ebf2",
    "tags": [
     "start_task"
    ]
   },
   "source": [
    "**Задание 9. В столбце `children` есть два аномальных значения. Удалите строки, в которых встречаются такие аномальные значения из датафрейма `data`.**"
   ]
  },
  {
   "cell_type": "code",
   "execution_count": 10,
   "id": "3ff9801d",
   "metadata": {
    "id": "3ff9801d"
   },
   "outputs": [],
   "source": [
    "data = data.loc[(data['children'] != -1) & (data['children'] != 20)]"
   ]
  },
  {
   "cell_type": "markdown",
   "id": "bbc4d0ce",
   "metadata": {
    "deletable": false,
    "editable": false,
    "id": "bbc4d0ce",
    "tags": [
     "start_task"
    ]
   },
   "source": [
    "**Задание 10. Ещё раз выведите перечень уникальных значений столбца `children`, чтобы убедиться, что артефакты удалены.**"
   ]
  },
  {
   "cell_type": "code",
   "execution_count": 11,
   "id": "ad4fa8b7",
   "metadata": {
    "id": "ad4fa8b7"
   },
   "outputs": [
    {
     "data": {
      "text/plain": [
       "array([1, 0, 3, 2, 4, 5])"
      ]
     },
     "execution_count": 11,
     "metadata": {},
     "output_type": "execute_result"
    }
   ],
   "source": [
    "data['children'].unique() "
   ]
  },
  {
   "cell_type": "markdown",
   "id": "75440b63",
   "metadata": {
    "deletable": false,
    "editable": false,
    "id": "75440b63"
   },
   "source": [
    "### Удаление пропусков (продолжение)"
   ]
  },
  {
   "cell_type": "markdown",
   "id": "f4ea573f",
   "metadata": {
    "deletable": false,
    "editable": false,
    "id": "f4ea573f",
    "tags": [
     "start_task"
    ]
   },
   "source": [
    "**Задание 11. Заполните пропуски в столбце `days_employed` медианными значениями по каждому типу занятости `income_type`.**"
   ]
  },
  {
   "cell_type": "code",
   "execution_count": 12,
   "id": "af6b1a7e",
   "metadata": {
    "id": "af6b1a7e"
   },
   "outputs": [],
   "source": [
    "for i in data['income_type'].unique():\n",
    "    data.loc[(data['income_type'] == i) & (data['days_employed'].isna()), 'days_employed'] = \\\n",
    "    data.loc[data['income_type'] == i, 'days_employed'].median()"
   ]
  },
  {
   "cell_type": "markdown",
   "id": "2753f40d",
   "metadata": {
    "deletable": false,
    "editable": false,
    "id": "2753f40d",
    "tags": [
     "start_task"
    ]
   },
   "source": [
    "**Задание 12. Убедитесь, что все пропуски заполнены. Проверьте себя и ещё раз выведите количество пропущенных значений для каждого столбца с помощью двух методов.**"
   ]
  },
  {
   "cell_type": "code",
   "execution_count": 13,
   "id": "55f78bc2",
   "metadata": {
    "id": "55f78bc2"
   },
   "outputs": [
    {
     "name": "stdout",
     "output_type": "stream",
     "text": [
      "children            0\n",
      "days_employed       0\n",
      "dob_years           0\n",
      "education           0\n",
      "education_id        0\n",
      "family_status       0\n",
      "family_status_id    0\n",
      "gender              0\n",
      "income_type         0\n",
      "debt                0\n",
      "total_income        0\n",
      "purpose             0\n",
      "dtype: int64\n"
     ]
    }
   ],
   "source": [
    "print(data.isnull().sum())"
   ]
  },
  {
   "cell_type": "markdown",
   "id": "ddc81e43",
   "metadata": {
    "deletable": false,
    "editable": false,
    "id": "ddc81e43"
   },
   "source": [
    "### Изменение типов данных"
   ]
  },
  {
   "cell_type": "markdown",
   "id": "42d19d24",
   "metadata": {
    "deletable": false,
    "editable": false,
    "id": "42d19d24",
    "tags": [
     "start_task"
    ]
   },
   "source": [
    "**Задание 13. Замените вещественный тип данных в столбце `total_income` на целочисленный с помощью метода `astype()`.**"
   ]
  },
  {
   "cell_type": "code",
   "execution_count": 14,
   "id": "920b65ad",
   "metadata": {
    "id": "920b65ad"
   },
   "outputs": [],
   "source": [
    "data['total_income'] = data['total_income'].astype(int)"
   ]
  },
  {
   "cell_type": "markdown",
   "id": "80c420ba",
   "metadata": {
    "deletable": false,
    "editable": false,
    "id": "80c420ba"
   },
   "source": [
    "### Обработка дубликатов"
   ]
  },
  {
   "cell_type": "markdown",
   "id": "dc587695",
   "metadata": {
    "deletable": false,
    "editable": false,
    "id": "dc587695",
    "tags": [
     "start_task"
    ]
   },
   "source": [
    "**Задание 14. Обработайте неявные дубликаты в столбце `education`. В этом столбце есть одни и те же значения, но записанные по-разному: с использованием заглавных и строчных букв. Приведите их к нижнему регистру.**"
   ]
  },
  {
   "cell_type": "code",
   "execution_count": 15,
   "id": "a9f8e2bf",
   "metadata": {
    "id": "a9f8e2bf"
   },
   "outputs": [],
   "source": [
    "data['education'] = data['education'].str.lower() "
   ]
  },
  {
   "cell_type": "markdown",
   "id": "9771a76c",
   "metadata": {
    "deletable": false,
    "editable": false,
    "id": "9771a76c",
    "tags": [
     "start_task"
    ]
   },
   "source": [
    "**Задание 15. Выведите на экран количество строк-дубликатов в данных. Если такие строки присутствуют, удалите их. Сбрасывать индексы после удаления строк дубликатов с помощью `reset_index(drop=True)` здесь не требуется.**"
   ]
  },
  {
   "cell_type": "code",
   "execution_count": 16,
   "id": "3ee445e4",
   "metadata": {
    "id": "3ee445e4"
   },
   "outputs": [
    {
     "data": {
      "text/plain": [
       "71"
      ]
     },
     "execution_count": 16,
     "metadata": {},
     "output_type": "execute_result"
    }
   ],
   "source": [
    "data.duplicated().sum()"
   ]
  },
  {
   "cell_type": "code",
   "execution_count": 17,
   "id": "8575fe05",
   "metadata": {
    "id": "8575fe05"
   },
   "outputs": [
    {
     "data": {
      "text/html": [
       "<div>\n",
       "<style scoped>\n",
       "    .dataframe tbody tr th:only-of-type {\n",
       "        vertical-align: middle;\n",
       "    }\n",
       "\n",
       "    .dataframe tbody tr th {\n",
       "        vertical-align: top;\n",
       "    }\n",
       "\n",
       "    .dataframe thead th {\n",
       "        text-align: right;\n",
       "    }\n",
       "</style>\n",
       "<table border=\"1\" class=\"dataframe\">\n",
       "  <thead>\n",
       "    <tr style=\"text-align: right;\">\n",
       "      <th></th>\n",
       "      <th>children</th>\n",
       "      <th>days_employed</th>\n",
       "      <th>dob_years</th>\n",
       "      <th>education</th>\n",
       "      <th>education_id</th>\n",
       "      <th>family_status</th>\n",
       "      <th>family_status_id</th>\n",
       "      <th>gender</th>\n",
       "      <th>income_type</th>\n",
       "      <th>debt</th>\n",
       "      <th>total_income</th>\n",
       "      <th>purpose</th>\n",
       "    </tr>\n",
       "  </thead>\n",
       "  <tbody>\n",
       "    <tr>\n",
       "      <th>0</th>\n",
       "      <td>1</td>\n",
       "      <td>8437.673028</td>\n",
       "      <td>42</td>\n",
       "      <td>высшее</td>\n",
       "      <td>0</td>\n",
       "      <td>женат / замужем</td>\n",
       "      <td>0</td>\n",
       "      <td>F</td>\n",
       "      <td>сотрудник</td>\n",
       "      <td>0</td>\n",
       "      <td>253875</td>\n",
       "      <td>покупка жилья</td>\n",
       "    </tr>\n",
       "    <tr>\n",
       "      <th>1</th>\n",
       "      <td>1</td>\n",
       "      <td>4024.803754</td>\n",
       "      <td>36</td>\n",
       "      <td>среднее</td>\n",
       "      <td>1</td>\n",
       "      <td>женат / замужем</td>\n",
       "      <td>0</td>\n",
       "      <td>F</td>\n",
       "      <td>сотрудник</td>\n",
       "      <td>0</td>\n",
       "      <td>112080</td>\n",
       "      <td>приобретение автомобиля</td>\n",
       "    </tr>\n",
       "    <tr>\n",
       "      <th>2</th>\n",
       "      <td>0</td>\n",
       "      <td>5623.422610</td>\n",
       "      <td>33</td>\n",
       "      <td>среднее</td>\n",
       "      <td>1</td>\n",
       "      <td>женат / замужем</td>\n",
       "      <td>0</td>\n",
       "      <td>M</td>\n",
       "      <td>сотрудник</td>\n",
       "      <td>0</td>\n",
       "      <td>145885</td>\n",
       "      <td>покупка жилья</td>\n",
       "    </tr>\n",
       "    <tr>\n",
       "      <th>3</th>\n",
       "      <td>3</td>\n",
       "      <td>4124.747207</td>\n",
       "      <td>32</td>\n",
       "      <td>среднее</td>\n",
       "      <td>1</td>\n",
       "      <td>женат / замужем</td>\n",
       "      <td>0</td>\n",
       "      <td>M</td>\n",
       "      <td>сотрудник</td>\n",
       "      <td>0</td>\n",
       "      <td>267628</td>\n",
       "      <td>дополнительное образование</td>\n",
       "    </tr>\n",
       "    <tr>\n",
       "      <th>4</th>\n",
       "      <td>0</td>\n",
       "      <td>340266.072047</td>\n",
       "      <td>53</td>\n",
       "      <td>среднее</td>\n",
       "      <td>1</td>\n",
       "      <td>гражданский брак</td>\n",
       "      <td>1</td>\n",
       "      <td>F</td>\n",
       "      <td>пенсионер</td>\n",
       "      <td>0</td>\n",
       "      <td>158616</td>\n",
       "      <td>сыграть свадьбу</td>\n",
       "    </tr>\n",
       "    <tr>\n",
       "      <th>...</th>\n",
       "      <td>...</td>\n",
       "      <td>...</td>\n",
       "      <td>...</td>\n",
       "      <td>...</td>\n",
       "      <td>...</td>\n",
       "      <td>...</td>\n",
       "      <td>...</td>\n",
       "      <td>...</td>\n",
       "      <td>...</td>\n",
       "      <td>...</td>\n",
       "      <td>...</td>\n",
       "      <td>...</td>\n",
       "    </tr>\n",
       "    <tr>\n",
       "      <th>21520</th>\n",
       "      <td>1</td>\n",
       "      <td>4529.316663</td>\n",
       "      <td>43</td>\n",
       "      <td>среднее</td>\n",
       "      <td>1</td>\n",
       "      <td>гражданский брак</td>\n",
       "      <td>1</td>\n",
       "      <td>F</td>\n",
       "      <td>компаньон</td>\n",
       "      <td>0</td>\n",
       "      <td>224791</td>\n",
       "      <td>операции с жильем</td>\n",
       "    </tr>\n",
       "    <tr>\n",
       "      <th>21521</th>\n",
       "      <td>0</td>\n",
       "      <td>343937.404131</td>\n",
       "      <td>67</td>\n",
       "      <td>среднее</td>\n",
       "      <td>1</td>\n",
       "      <td>женат / замужем</td>\n",
       "      <td>0</td>\n",
       "      <td>F</td>\n",
       "      <td>пенсионер</td>\n",
       "      <td>0</td>\n",
       "      <td>155999</td>\n",
       "      <td>сделка с автомобилем</td>\n",
       "    </tr>\n",
       "    <tr>\n",
       "      <th>21522</th>\n",
       "      <td>1</td>\n",
       "      <td>2113.346888</td>\n",
       "      <td>38</td>\n",
       "      <td>среднее</td>\n",
       "      <td>1</td>\n",
       "      <td>гражданский брак</td>\n",
       "      <td>1</td>\n",
       "      <td>M</td>\n",
       "      <td>сотрудник</td>\n",
       "      <td>1</td>\n",
       "      <td>89672</td>\n",
       "      <td>недвижимость</td>\n",
       "    </tr>\n",
       "    <tr>\n",
       "      <th>21523</th>\n",
       "      <td>3</td>\n",
       "      <td>3112.481705</td>\n",
       "      <td>38</td>\n",
       "      <td>среднее</td>\n",
       "      <td>1</td>\n",
       "      <td>женат / замужем</td>\n",
       "      <td>0</td>\n",
       "      <td>M</td>\n",
       "      <td>сотрудник</td>\n",
       "      <td>1</td>\n",
       "      <td>244093</td>\n",
       "      <td>на покупку своего автомобиля</td>\n",
       "    </tr>\n",
       "    <tr>\n",
       "      <th>21524</th>\n",
       "      <td>2</td>\n",
       "      <td>1984.507589</td>\n",
       "      <td>40</td>\n",
       "      <td>среднее</td>\n",
       "      <td>1</td>\n",
       "      <td>женат / замужем</td>\n",
       "      <td>0</td>\n",
       "      <td>F</td>\n",
       "      <td>сотрудник</td>\n",
       "      <td>0</td>\n",
       "      <td>82047</td>\n",
       "      <td>на покупку автомобиля</td>\n",
       "    </tr>\n",
       "  </tbody>\n",
       "</table>\n",
       "<p>21331 rows × 12 columns</p>\n",
       "</div>"
      ],
      "text/plain": [
       "       children  days_employed  dob_years education  education_id  \\\n",
       "0             1    8437.673028         42    высшее             0   \n",
       "1             1    4024.803754         36   среднее             1   \n",
       "2             0    5623.422610         33   среднее             1   \n",
       "3             3    4124.747207         32   среднее             1   \n",
       "4             0  340266.072047         53   среднее             1   \n",
       "...         ...            ...        ...       ...           ...   \n",
       "21520         1    4529.316663         43   среднее             1   \n",
       "21521         0  343937.404131         67   среднее             1   \n",
       "21522         1    2113.346888         38   среднее             1   \n",
       "21523         3    3112.481705         38   среднее             1   \n",
       "21524         2    1984.507589         40   среднее             1   \n",
       "\n",
       "          family_status  family_status_id gender income_type  debt  \\\n",
       "0       женат / замужем                 0      F   сотрудник     0   \n",
       "1       женат / замужем                 0      F   сотрудник     0   \n",
       "2       женат / замужем                 0      M   сотрудник     0   \n",
       "3       женат / замужем                 0      M   сотрудник     0   \n",
       "4      гражданский брак                 1      F   пенсионер     0   \n",
       "...                 ...               ...    ...         ...   ...   \n",
       "21520  гражданский брак                 1      F   компаньон     0   \n",
       "21521   женат / замужем                 0      F   пенсионер     0   \n",
       "21522  гражданский брак                 1      M   сотрудник     1   \n",
       "21523   женат / замужем                 0      M   сотрудник     1   \n",
       "21524   женат / замужем                 0      F   сотрудник     0   \n",
       "\n",
       "       total_income                       purpose  \n",
       "0            253875                 покупка жилья  \n",
       "1            112080       приобретение автомобиля  \n",
       "2            145885                 покупка жилья  \n",
       "3            267628    дополнительное образование  \n",
       "4            158616               сыграть свадьбу  \n",
       "...             ...                           ...  \n",
       "21520        224791             операции с жильем  \n",
       "21521        155999          сделка с автомобилем  \n",
       "21522         89672                  недвижимость  \n",
       "21523        244093  на покупку своего автомобиля  \n",
       "21524         82047         на покупку автомобиля  \n",
       "\n",
       "[21331 rows x 12 columns]"
      ]
     },
     "execution_count": 17,
     "metadata": {},
     "output_type": "execute_result"
    }
   ],
   "source": [
    "data.drop_duplicates() "
   ]
  },
  {
   "cell_type": "markdown",
   "id": "9904cf55",
   "metadata": {
    "deletable": false,
    "editable": false,
    "id": "9904cf55"
   },
   "source": [
    "### Категоризация данных"
   ]
  },
  {
   "cell_type": "markdown",
   "id": "72fcc8a2",
   "metadata": {
    "deletable": false,
    "editable": false,
    "id": "72fcc8a2",
    "tags": [
     "start_task"
    ]
   },
   "source": [
    "**Задание 16. На основании диапазонов, указанных ниже, создайте в датафрейме `data` столбец `total_income_category` с категориями:**\n",
    "\n",
    "- 0–30000 — `'E'`;\n",
    "- 30001–50000 — `'D'`;\n",
    "- 50001–200000 — `'C'`;\n",
    "- 200001–1000000 — `'B'`;\n",
    "- 1000001 и выше — `'A'`.\n",
    "\n",
    "\n",
    "**Например, кредитополучателю с доходом 25000 нужно назначить категорию `'E'`, а клиенту, получающему 235000, — `'B'`. Используйте собственную функцию с именем `categorize_income()` и метод `apply()`.**"
   ]
  },
  {
   "cell_type": "code",
   "execution_count": 18,
   "id": "e1771346",
   "metadata": {
    "id": "e1771346"
   },
   "outputs": [],
   "source": [
    "def categorize_income(row):\n",
    "    if 0 <= row <= 30000:\n",
    "        return 'E'\n",
    "    elif 30001 <= row <= 50000:\n",
    "        return 'D'\n",
    "    elif 50001 <= row <= 200000:\n",
    "        return 'C'\n",
    "    elif 200001 <= row <= 1000000:\n",
    "        return 'B'\n",
    "    elif row >= 1000001:\n",
    "        return 'A'"
   ]
  },
  {
   "cell_type": "code",
   "execution_count": 19,
   "id": "d5f3586d",
   "metadata": {
    "id": "d5f3586d"
   },
   "outputs": [],
   "source": [
    "data['total_income_category'] = data['total_income'].apply(categorize_income)"
   ]
  },
  {
   "cell_type": "markdown",
   "id": "dde49b5c",
   "metadata": {
    "deletable": false,
    "editable": false,
    "id": "dde49b5c",
    "tags": [
     "start_task"
    ]
   },
   "source": [
    "**Задание 17. Выведите на экран перечень уникальных целей взятия кредита из столбца `purpose`.**"
   ]
  },
  {
   "cell_type": "code",
   "execution_count": 20,
   "id": "f67ce9b3",
   "metadata": {
    "id": "f67ce9b3"
   },
   "outputs": [
    {
     "data": {
      "text/plain": [
       "array(['покупка жилья', 'приобретение автомобиля',\n",
       "       'дополнительное образование', 'сыграть свадьбу',\n",
       "       'операции с жильем', 'образование', 'на проведение свадьбы',\n",
       "       'покупка жилья для семьи', 'покупка недвижимости',\n",
       "       'покупка коммерческой недвижимости', 'покупка жилой недвижимости',\n",
       "       'строительство собственной недвижимости', 'недвижимость',\n",
       "       'строительство недвижимости', 'на покупку подержанного автомобиля',\n",
       "       'на покупку своего автомобиля',\n",
       "       'операции с коммерческой недвижимостью',\n",
       "       'строительство жилой недвижимости', 'жилье',\n",
       "       'операции со своей недвижимостью', 'автомобили',\n",
       "       'заняться образованием', 'сделка с подержанным автомобилем',\n",
       "       'получение образования', 'автомобиль', 'свадьба',\n",
       "       'получение дополнительного образования', 'покупка своего жилья',\n",
       "       'операции с недвижимостью', 'получение высшего образования',\n",
       "       'свой автомобиль', 'сделка с автомобилем',\n",
       "       'профильное образование', 'высшее образование',\n",
       "       'покупка жилья для сдачи', 'на покупку автомобиля', 'ремонт жилью',\n",
       "       'заняться высшим образованием'], dtype=object)"
      ]
     },
     "execution_count": 20,
     "metadata": {},
     "output_type": "execute_result"
    }
   ],
   "source": [
    "data['purpose'].unique()"
   ]
  },
  {
   "cell_type": "markdown",
   "id": "85d0aef0",
   "metadata": {
    "deletable": false,
    "editable": false,
    "id": "85d0aef0",
    "tags": [
     "start_task"
    ]
   },
   "source": [
    "**Задание 18. Создайте функцию, которая на основании данных из столбца `purpose` сформирует новый столбец `purpose_category`, в который войдут следующие категории:**\n",
    "\n",
    "- `'операции с автомобилем'`,\n",
    "- `'операции с недвижимостью'`,\n",
    "- `'проведение свадьбы'`,\n",
    "- `'получение образования'`.\n",
    "\n",
    "**Например, если в столбце `purpose` находится подстрока `'на покупку автомобиля'`, то в столбце `purpose_category` должна появиться строка `'операции с автомобилем'`.**\n",
    "\n",
    "**Используйте собственную функцию с именем `categorize_purpose()` и метод `apply()`. Изучите данные в столбце `purpose` и определите, какие подстроки помогут вам правильно определить категорию.**"
   ]
  },
  {
   "cell_type": "code",
   "execution_count": 21,
   "id": "e149fab4",
   "metadata": {
    "id": "e149fab4"
   },
   "outputs": [],
   "source": [
    "def categorize_purpose(row):\n",
    "    if 'автом' in row:\n",
    "        return 'операции с автомобилем'\n",
    "    elif 'недвиж' in row or 'жиль' in row:\n",
    "        return 'операции с недвижимостью'\n",
    "    elif 'свадьб' in row:\n",
    "        return 'проведение свадьбы'\n",
    "    elif 'образован' in row:\n",
    "        return 'получение образования'"
   ]
  },
  {
   "cell_type": "code",
   "execution_count": 22,
   "id": "bf36e69b",
   "metadata": {
    "id": "bf36e69b"
   },
   "outputs": [],
   "source": [
    "data['purpose_category'] = data['purpose'].apply(categorize_purpose)"
   ]
  }
 ],
 "metadata": {
  "ExecuteTimeLog": [
   {
    "duration": 48,
    "start_time": "2022-11-20T10:24:32.986Z"
   },
   {
    "duration": 6,
    "start_time": "2022-11-20T10:25:08.244Z"
   },
   {
    "duration": 7,
    "start_time": "2022-11-20T10:25:22.589Z"
   },
   {
    "duration": 382,
    "start_time": "2022-11-20T10:25:32.785Z"
   },
   {
    "duration": 332,
    "start_time": "2022-11-20T10:25:33.168Z"
   },
   {
    "duration": 2,
    "start_time": "2022-11-20T10:25:33.502Z"
   },
   {
    "duration": 5,
    "start_time": "2022-11-20T10:25:33.506Z"
   },
   {
    "duration": 5,
    "start_time": "2022-11-20T10:25:33.513Z"
   },
   {
    "duration": 5,
    "start_time": "2022-11-20T10:25:33.519Z"
   },
   {
    "duration": 18,
    "start_time": "2022-11-20T10:25:33.525Z"
   },
   {
    "duration": 5,
    "start_time": "2022-11-20T10:25:33.545Z"
   },
   {
    "duration": 6,
    "start_time": "2022-11-20T10:25:33.551Z"
   },
   {
    "duration": 3,
    "start_time": "2022-11-20T10:25:33.559Z"
   },
   {
    "duration": 8,
    "start_time": "2022-11-20T10:25:33.564Z"
   },
   {
    "duration": 20,
    "start_time": "2022-11-20T10:25:33.574Z"
   },
   {
    "duration": 7,
    "start_time": "2022-11-20T10:25:33.595Z"
   },
   {
    "duration": 6,
    "start_time": "2022-11-20T10:25:33.605Z"
   },
   {
    "duration": 16,
    "start_time": "2022-11-20T10:25:33.612Z"
   },
   {
    "duration": 11,
    "start_time": "2022-11-20T10:25:33.630Z"
   },
   {
    "duration": 10,
    "start_time": "2022-11-20T10:25:33.643Z"
   },
   {
    "duration": 9,
    "start_time": "2022-11-20T10:25:33.655Z"
   },
   {
    "duration": 28,
    "start_time": "2022-11-20T10:25:33.666Z"
   },
   {
    "duration": 11,
    "start_time": "2022-11-20T10:25:33.696Z"
   },
   {
    "duration": 17,
    "start_time": "2022-11-20T10:25:33.709Z"
   },
   {
    "duration": 7,
    "start_time": "2022-11-20T10:25:33.727Z"
   },
   {
    "duration": 10,
    "start_time": "2022-11-20T10:26:11.185Z"
   },
   {
    "duration": 14,
    "start_time": "2022-11-20T10:27:11.192Z"
   },
   {
    "duration": 16,
    "start_time": "2022-11-20T10:28:47.691Z"
   },
   {
    "duration": 17,
    "start_time": "2022-11-20T10:29:19.191Z"
   },
   {
    "duration": 68,
    "start_time": "2022-11-20T10:32:05.006Z"
   },
   {
    "duration": 405,
    "start_time": "2022-11-20T10:32:11.244Z"
   },
   {
    "duration": 83,
    "start_time": "2022-11-20T10:32:11.650Z"
   },
   {
    "duration": 12,
    "start_time": "2022-11-20T10:32:11.735Z"
   },
   {
    "duration": 38,
    "start_time": "2022-11-20T10:32:11.749Z"
   },
   {
    "duration": 76,
    "start_time": "2022-11-20T10:32:11.789Z"
   },
   {
    "duration": 0,
    "start_time": "2022-11-20T10:32:11.868Z"
   },
   {
    "duration": 0,
    "start_time": "2022-11-20T10:32:11.882Z"
   },
   {
    "duration": 0,
    "start_time": "2022-11-20T10:32:11.883Z"
   },
   {
    "duration": 0,
    "start_time": "2022-11-20T10:32:11.884Z"
   },
   {
    "duration": 0,
    "start_time": "2022-11-20T10:32:11.886Z"
   },
   {
    "duration": 0,
    "start_time": "2022-11-20T10:32:11.889Z"
   },
   {
    "duration": 0,
    "start_time": "2022-11-20T10:32:11.890Z"
   },
   {
    "duration": 0,
    "start_time": "2022-11-20T10:32:11.890Z"
   },
   {
    "duration": 0,
    "start_time": "2022-11-20T10:32:11.891Z"
   },
   {
    "duration": 0,
    "start_time": "2022-11-20T10:32:11.892Z"
   },
   {
    "duration": 0,
    "start_time": "2022-11-20T10:32:11.892Z"
   },
   {
    "duration": 0,
    "start_time": "2022-11-20T10:32:11.893Z"
   },
   {
    "duration": 0,
    "start_time": "2022-11-20T10:32:11.895Z"
   },
   {
    "duration": 0,
    "start_time": "2022-11-20T10:32:11.898Z"
   },
   {
    "duration": 0,
    "start_time": "2022-11-20T10:32:11.900Z"
   },
   {
    "duration": 0,
    "start_time": "2022-11-20T10:32:11.901Z"
   },
   {
    "duration": 0,
    "start_time": "2022-11-20T10:32:11.902Z"
   },
   {
    "duration": 8,
    "start_time": "2022-11-20T10:32:30.021Z"
   },
   {
    "duration": 41,
    "start_time": "2022-11-20T10:34:56.021Z"
   },
   {
    "duration": 8,
    "start_time": "2022-11-20T10:35:08.049Z"
   },
   {
    "duration": 376,
    "start_time": "2022-11-20T10:35:18.591Z"
   },
   {
    "duration": 84,
    "start_time": "2022-11-20T10:35:18.969Z"
   },
   {
    "duration": 9,
    "start_time": "2022-11-20T10:35:19.055Z"
   },
   {
    "duration": 20,
    "start_time": "2022-11-20T10:35:19.066Z"
   },
   {
    "duration": 78,
    "start_time": "2022-11-20T10:35:19.091Z"
   },
   {
    "duration": 0,
    "start_time": "2022-11-20T10:35:19.171Z"
   },
   {
    "duration": 0,
    "start_time": "2022-11-20T10:35:19.173Z"
   },
   {
    "duration": 0,
    "start_time": "2022-11-20T10:35:19.174Z"
   },
   {
    "duration": 0,
    "start_time": "2022-11-20T10:35:19.174Z"
   },
   {
    "duration": 0,
    "start_time": "2022-11-20T10:35:19.175Z"
   },
   {
    "duration": 0,
    "start_time": "2022-11-20T10:35:19.175Z"
   },
   {
    "duration": 0,
    "start_time": "2022-11-20T10:35:19.178Z"
   },
   {
    "duration": 0,
    "start_time": "2022-11-20T10:35:19.179Z"
   },
   {
    "duration": 0,
    "start_time": "2022-11-20T10:35:19.180Z"
   },
   {
    "duration": 0,
    "start_time": "2022-11-20T10:35:19.180Z"
   },
   {
    "duration": 0,
    "start_time": "2022-11-20T10:35:19.182Z"
   },
   {
    "duration": 0,
    "start_time": "2022-11-20T10:35:19.183Z"
   },
   {
    "duration": 0,
    "start_time": "2022-11-20T10:35:19.186Z"
   },
   {
    "duration": 0,
    "start_time": "2022-11-20T10:35:19.188Z"
   },
   {
    "duration": 0,
    "start_time": "2022-11-20T10:35:19.188Z"
   },
   {
    "duration": 0,
    "start_time": "2022-11-20T10:35:19.189Z"
   },
   {
    "duration": 0,
    "start_time": "2022-11-20T10:35:19.191Z"
   },
   {
    "duration": 29,
    "start_time": "2022-11-20T10:36:19.416Z"
   },
   {
    "duration": 8,
    "start_time": "2022-11-20T10:42:38.492Z"
   },
   {
    "duration": 8,
    "start_time": "2022-11-20T10:43:01.311Z"
   },
   {
    "duration": 354,
    "start_time": "2022-11-20T10:43:07.424Z"
   },
   {
    "duration": 75,
    "start_time": "2022-11-20T10:43:07.781Z"
   },
   {
    "duration": 9,
    "start_time": "2022-11-20T10:43:07.857Z"
   },
   {
    "duration": 16,
    "start_time": "2022-11-20T10:43:07.868Z"
   },
   {
    "duration": 61,
    "start_time": "2022-11-20T10:43:07.885Z"
   },
   {
    "duration": 0,
    "start_time": "2022-11-20T10:43:07.948Z"
   },
   {
    "duration": 0,
    "start_time": "2022-11-20T10:43:07.949Z"
   },
   {
    "duration": 0,
    "start_time": "2022-11-20T10:43:07.950Z"
   },
   {
    "duration": 0,
    "start_time": "2022-11-20T10:43:07.951Z"
   },
   {
    "duration": 1,
    "start_time": "2022-11-20T10:43:07.952Z"
   },
   {
    "duration": 0,
    "start_time": "2022-11-20T10:43:07.954Z"
   },
   {
    "duration": 0,
    "start_time": "2022-11-20T10:43:07.955Z"
   },
   {
    "duration": 0,
    "start_time": "2022-11-20T10:43:07.955Z"
   },
   {
    "duration": 0,
    "start_time": "2022-11-20T10:43:07.980Z"
   },
   {
    "duration": 0,
    "start_time": "2022-11-20T10:43:07.981Z"
   },
   {
    "duration": 0,
    "start_time": "2022-11-20T10:43:07.982Z"
   },
   {
    "duration": 0,
    "start_time": "2022-11-20T10:43:07.983Z"
   },
   {
    "duration": 0,
    "start_time": "2022-11-20T10:43:07.984Z"
   },
   {
    "duration": 0,
    "start_time": "2022-11-20T10:43:07.984Z"
   },
   {
    "duration": 0,
    "start_time": "2022-11-20T10:43:07.985Z"
   },
   {
    "duration": 0,
    "start_time": "2022-11-20T10:43:07.986Z"
   },
   {
    "duration": 0,
    "start_time": "2022-11-20T10:43:07.987Z"
   },
   {
    "duration": 42,
    "start_time": "2022-11-20T10:43:29.500Z"
   },
   {
    "duration": 83,
    "start_time": "2022-11-20T10:43:37.876Z"
   },
   {
    "duration": 10,
    "start_time": "2022-11-20T10:45:34.233Z"
   },
   {
    "duration": 46,
    "start_time": "2022-11-20T10:51:33.910Z"
   },
   {
    "duration": 57,
    "start_time": "2022-11-20T10:52:07.467Z"
   },
   {
    "duration": 363,
    "start_time": "2022-11-20T11:03:16.409Z"
   },
   {
    "duration": 73,
    "start_time": "2022-11-20T11:03:16.776Z"
   },
   {
    "duration": 9,
    "start_time": "2022-11-20T11:03:16.850Z"
   },
   {
    "duration": 30,
    "start_time": "2022-11-20T11:03:16.860Z"
   },
   {
    "duration": 25,
    "start_time": "2022-11-20T11:03:16.892Z"
   },
   {
    "duration": 75,
    "start_time": "2022-11-20T11:03:16.918Z"
   },
   {
    "duration": 0,
    "start_time": "2022-11-20T11:03:16.995Z"
   },
   {
    "duration": 0,
    "start_time": "2022-11-20T11:03:16.996Z"
   },
   {
    "duration": 0,
    "start_time": "2022-11-20T11:03:16.997Z"
   },
   {
    "duration": 0,
    "start_time": "2022-11-20T11:03:16.998Z"
   },
   {
    "duration": 0,
    "start_time": "2022-11-20T11:03:16.999Z"
   },
   {
    "duration": 0,
    "start_time": "2022-11-20T11:03:17.000Z"
   },
   {
    "duration": 0,
    "start_time": "2022-11-20T11:03:17.001Z"
   },
   {
    "duration": 0,
    "start_time": "2022-11-20T11:03:17.002Z"
   },
   {
    "duration": 0,
    "start_time": "2022-11-20T11:03:17.003Z"
   },
   {
    "duration": 0,
    "start_time": "2022-11-20T11:03:17.003Z"
   },
   {
    "duration": 0,
    "start_time": "2022-11-20T11:03:17.005Z"
   },
   {
    "duration": 0,
    "start_time": "2022-11-20T11:03:17.006Z"
   },
   {
    "duration": 0,
    "start_time": "2022-11-20T11:03:17.007Z"
   },
   {
    "duration": 0,
    "start_time": "2022-11-20T11:03:17.007Z"
   },
   {
    "duration": 0,
    "start_time": "2022-11-20T11:03:17.008Z"
   },
   {
    "duration": 0,
    "start_time": "2022-11-20T11:03:17.009Z"
   },
   {
    "duration": 34,
    "start_time": "2022-11-20T11:37:29.415Z"
   },
   {
    "duration": 15,
    "start_time": "2022-11-20T11:38:02.188Z"
   },
   {
    "duration": 8,
    "start_time": "2022-11-20T11:38:32.750Z"
   },
   {
    "duration": 409,
    "start_time": "2022-11-20T11:38:37.281Z"
   },
   {
    "duration": 77,
    "start_time": "2022-11-20T11:38:37.692Z"
   },
   {
    "duration": 11,
    "start_time": "2022-11-20T11:38:37.770Z"
   },
   {
    "duration": 25,
    "start_time": "2022-11-20T11:38:37.782Z"
   },
   {
    "duration": 8,
    "start_time": "2022-11-20T11:38:37.810Z"
   },
   {
    "duration": 31,
    "start_time": "2022-11-20T11:38:37.820Z"
   },
   {
    "duration": 2,
    "start_time": "2022-11-20T11:38:37.853Z"
   },
   {
    "duration": 6,
    "start_time": "2022-11-20T11:38:37.856Z"
   },
   {
    "duration": 5,
    "start_time": "2022-11-20T11:38:37.864Z"
   },
   {
    "duration": 6,
    "start_time": "2022-11-20T11:38:37.871Z"
   },
   {
    "duration": 9,
    "start_time": "2022-11-20T11:38:37.878Z"
   },
   {
    "duration": 9,
    "start_time": "2022-11-20T11:38:37.888Z"
   },
   {
    "duration": 6,
    "start_time": "2022-11-20T11:38:37.899Z"
   },
   {
    "duration": 9,
    "start_time": "2022-11-20T11:38:37.908Z"
   },
   {
    "duration": 5,
    "start_time": "2022-11-20T11:38:37.919Z"
   },
   {
    "duration": 5,
    "start_time": "2022-11-20T11:38:37.926Z"
   },
   {
    "duration": 4,
    "start_time": "2022-11-20T11:38:37.933Z"
   },
   {
    "duration": 10,
    "start_time": "2022-11-20T11:38:37.939Z"
   },
   {
    "duration": 6,
    "start_time": "2022-11-20T11:38:37.950Z"
   },
   {
    "duration": 5,
    "start_time": "2022-11-20T11:38:37.957Z"
   },
   {
    "duration": 5,
    "start_time": "2022-11-20T11:38:37.963Z"
   },
   {
    "duration": 10,
    "start_time": "2022-11-20T11:38:37.970Z"
   },
   {
    "duration": 60,
    "start_time": "2022-11-20T11:38:44.469Z"
   },
   {
    "duration": 396,
    "start_time": "2022-11-20T11:39:28.168Z"
   },
   {
    "duration": 76,
    "start_time": "2022-11-20T11:39:28.566Z"
   },
   {
    "duration": 10,
    "start_time": "2022-11-20T11:39:28.643Z"
   },
   {
    "duration": 21,
    "start_time": "2022-11-20T11:39:28.655Z"
   },
   {
    "duration": 14,
    "start_time": "2022-11-20T11:39:28.678Z"
   },
   {
    "duration": 40,
    "start_time": "2022-11-20T11:39:28.694Z"
   },
   {
    "duration": 0,
    "start_time": "2022-11-20T11:39:28.736Z"
   },
   {
    "duration": 0,
    "start_time": "2022-11-20T11:39:28.737Z"
   },
   {
    "duration": 0,
    "start_time": "2022-11-20T11:39:28.739Z"
   },
   {
    "duration": 0,
    "start_time": "2022-11-20T11:39:28.740Z"
   },
   {
    "duration": 0,
    "start_time": "2022-11-20T11:39:28.741Z"
   },
   {
    "duration": 0,
    "start_time": "2022-11-20T11:39:28.743Z"
   },
   {
    "duration": 0,
    "start_time": "2022-11-20T11:39:28.744Z"
   },
   {
    "duration": 0,
    "start_time": "2022-11-20T11:39:28.745Z"
   },
   {
    "duration": 0,
    "start_time": "2022-11-20T11:39:28.747Z"
   },
   {
    "duration": 0,
    "start_time": "2022-11-20T11:39:28.748Z"
   },
   {
    "duration": 1,
    "start_time": "2022-11-20T11:39:28.748Z"
   },
   {
    "duration": 0,
    "start_time": "2022-11-20T11:39:28.750Z"
   },
   {
    "duration": 0,
    "start_time": "2022-11-20T11:39:28.751Z"
   },
   {
    "duration": 0,
    "start_time": "2022-11-20T11:39:28.753Z"
   },
   {
    "duration": 0,
    "start_time": "2022-11-20T11:39:28.754Z"
   },
   {
    "duration": 0,
    "start_time": "2022-11-20T11:39:28.755Z"
   },
   {
    "duration": 41,
    "start_time": "2022-11-20T11:40:08.754Z"
   },
   {
    "duration": 416,
    "start_time": "2022-11-20T11:42:58.956Z"
   },
   {
    "duration": 71,
    "start_time": "2022-11-20T11:42:59.374Z"
   },
   {
    "duration": 9,
    "start_time": "2022-11-20T11:42:59.447Z"
   },
   {
    "duration": 19,
    "start_time": "2022-11-20T11:42:59.458Z"
   },
   {
    "duration": 9,
    "start_time": "2022-11-20T11:42:59.479Z"
   },
   {
    "duration": 46,
    "start_time": "2022-11-20T11:42:59.489Z"
   },
   {
    "duration": 0,
    "start_time": "2022-11-20T11:42:59.544Z"
   },
   {
    "duration": 0,
    "start_time": "2022-11-20T11:42:59.546Z"
   },
   {
    "duration": 0,
    "start_time": "2022-11-20T11:42:59.547Z"
   },
   {
    "duration": 0,
    "start_time": "2022-11-20T11:42:59.548Z"
   },
   {
    "duration": 0,
    "start_time": "2022-11-20T11:42:59.550Z"
   },
   {
    "duration": 0,
    "start_time": "2022-11-20T11:42:59.551Z"
   },
   {
    "duration": 0,
    "start_time": "2022-11-20T11:42:59.552Z"
   },
   {
    "duration": 0,
    "start_time": "2022-11-20T11:42:59.554Z"
   },
   {
    "duration": 0,
    "start_time": "2022-11-20T11:42:59.555Z"
   },
   {
    "duration": 0,
    "start_time": "2022-11-20T11:42:59.556Z"
   },
   {
    "duration": 0,
    "start_time": "2022-11-20T11:42:59.557Z"
   },
   {
    "duration": 0,
    "start_time": "2022-11-20T11:42:59.558Z"
   },
   {
    "duration": 0,
    "start_time": "2022-11-20T11:42:59.560Z"
   },
   {
    "duration": 0,
    "start_time": "2022-11-20T11:42:59.560Z"
   },
   {
    "duration": 0,
    "start_time": "2022-11-20T11:42:59.561Z"
   },
   {
    "duration": 0,
    "start_time": "2022-11-20T11:42:59.562Z"
   },
   {
    "duration": 67,
    "start_time": "2022-11-20T11:43:24.667Z"
   },
   {
    "duration": 43,
    "start_time": "2022-11-20T11:46:44.097Z"
   },
   {
    "duration": 50,
    "start_time": "2022-11-20T11:46:49.214Z"
   },
   {
    "duration": 14,
    "start_time": "2022-11-20T11:46:59.628Z"
   },
   {
    "duration": 41,
    "start_time": "2022-11-20T11:47:09.847Z"
   },
   {
    "duration": 11,
    "start_time": "2022-11-20T11:47:13.054Z"
   },
   {
    "duration": 4,
    "start_time": "2022-11-20T11:49:43.208Z"
   },
   {
    "duration": 46,
    "start_time": "2022-11-20T11:52:45.996Z"
   },
   {
    "duration": 9,
    "start_time": "2022-11-20T11:52:59.665Z"
   },
   {
    "duration": 28,
    "start_time": "2022-11-20T11:53:26.053Z"
   },
   {
    "duration": 36,
    "start_time": "2022-11-20T11:54:07.522Z"
   },
   {
    "duration": 371,
    "start_time": "2022-11-20T12:04:01.496Z"
   },
   {
    "duration": 72,
    "start_time": "2022-11-20T12:04:01.869Z"
   },
   {
    "duration": 10,
    "start_time": "2022-11-20T12:04:01.943Z"
   },
   {
    "duration": 18,
    "start_time": "2022-11-20T12:04:01.954Z"
   },
   {
    "duration": 8,
    "start_time": "2022-11-20T12:04:01.974Z"
   },
   {
    "duration": 34,
    "start_time": "2022-11-20T12:04:01.983Z"
   },
   {
    "duration": 45,
    "start_time": "2022-11-20T12:04:02.019Z"
   },
   {
    "duration": 0,
    "start_time": "2022-11-20T12:04:02.066Z"
   },
   {
    "duration": 0,
    "start_time": "2022-11-20T12:04:02.067Z"
   },
   {
    "duration": 0,
    "start_time": "2022-11-20T12:04:02.068Z"
   },
   {
    "duration": 0,
    "start_time": "2022-11-20T12:04:02.069Z"
   },
   {
    "duration": 0,
    "start_time": "2022-11-20T12:04:02.069Z"
   },
   {
    "duration": 0,
    "start_time": "2022-11-20T12:04:02.070Z"
   },
   {
    "duration": 0,
    "start_time": "2022-11-20T12:04:02.071Z"
   },
   {
    "duration": 0,
    "start_time": "2022-11-20T12:04:02.072Z"
   },
   {
    "duration": 0,
    "start_time": "2022-11-20T12:04:02.073Z"
   },
   {
    "duration": 0,
    "start_time": "2022-11-20T12:04:02.073Z"
   },
   {
    "duration": 0,
    "start_time": "2022-11-20T12:04:02.074Z"
   },
   {
    "duration": 0,
    "start_time": "2022-11-20T12:04:02.075Z"
   },
   {
    "duration": 0,
    "start_time": "2022-11-20T12:04:02.076Z"
   },
   {
    "duration": 0,
    "start_time": "2022-11-20T12:04:02.077Z"
   },
   {
    "duration": 0,
    "start_time": "2022-11-20T12:04:02.077Z"
   },
   {
    "duration": 73,
    "start_time": "2022-11-20T12:08:10.203Z"
   },
   {
    "duration": 4,
    "start_time": "2022-11-20T12:08:29.485Z"
   },
   {
    "duration": 350,
    "start_time": "2022-11-20T12:08:56.934Z"
   },
   {
    "duration": 77,
    "start_time": "2022-11-20T12:08:57.286Z"
   },
   {
    "duration": 10,
    "start_time": "2022-11-20T12:08:57.364Z"
   },
   {
    "duration": 15,
    "start_time": "2022-11-20T12:08:57.375Z"
   },
   {
    "duration": 8,
    "start_time": "2022-11-20T12:08:57.392Z"
   },
   {
    "duration": 40,
    "start_time": "2022-11-20T12:08:57.401Z"
   },
   {
    "duration": 10,
    "start_time": "2022-11-20T12:08:57.443Z"
   },
   {
    "duration": 22,
    "start_time": "2022-11-20T12:08:57.454Z"
   },
   {
    "duration": 4,
    "start_time": "2022-11-20T12:08:57.478Z"
   },
   {
    "duration": 11,
    "start_time": "2022-11-20T12:08:57.483Z"
   },
   {
    "duration": 12,
    "start_time": "2022-11-20T12:08:57.495Z"
   },
   {
    "duration": 7,
    "start_time": "2022-11-20T12:08:57.508Z"
   },
   {
    "duration": 7,
    "start_time": "2022-11-20T12:08:57.516Z"
   },
   {
    "duration": 5,
    "start_time": "2022-11-20T12:08:57.526Z"
   },
   {
    "duration": 7,
    "start_time": "2022-11-20T12:08:57.532Z"
   },
   {
    "duration": 7,
    "start_time": "2022-11-20T12:08:57.541Z"
   },
   {
    "duration": 5,
    "start_time": "2022-11-20T12:08:57.550Z"
   },
   {
    "duration": 5,
    "start_time": "2022-11-20T12:08:57.557Z"
   },
   {
    "duration": 5,
    "start_time": "2022-11-20T12:08:57.563Z"
   },
   {
    "duration": 5,
    "start_time": "2022-11-20T12:08:57.569Z"
   },
   {
    "duration": 16,
    "start_time": "2022-11-20T12:08:57.575Z"
   },
   {
    "duration": 13,
    "start_time": "2022-11-20T12:08:57.593Z"
   },
   {
    "duration": 4,
    "start_time": "2022-11-20T12:09:34.035Z"
   },
   {
    "duration": 82,
    "start_time": "2022-11-20T12:31:14.888Z"
   },
   {
    "duration": 332,
    "start_time": "2022-11-20T12:31:47.433Z"
   },
   {
    "duration": 71,
    "start_time": "2022-11-20T12:31:47.767Z"
   },
   {
    "duration": 9,
    "start_time": "2022-11-20T12:31:47.840Z"
   },
   {
    "duration": 14,
    "start_time": "2022-11-20T12:31:47.852Z"
   },
   {
    "duration": 8,
    "start_time": "2022-11-20T12:31:47.868Z"
   },
   {
    "duration": 35,
    "start_time": "2022-11-20T12:31:47.877Z"
   },
   {
    "duration": 4,
    "start_time": "2022-11-20T12:31:47.913Z"
   },
   {
    "duration": 11,
    "start_time": "2022-11-20T12:31:47.918Z"
   },
   {
    "duration": 2,
    "start_time": "2022-11-20T12:31:47.930Z"
   },
   {
    "duration": 5,
    "start_time": "2022-11-20T12:31:47.934Z"
   },
   {
    "duration": 5,
    "start_time": "2022-11-20T12:31:47.940Z"
   },
   {
    "duration": 4,
    "start_time": "2022-11-20T12:31:47.947Z"
   },
   {
    "duration": 24,
    "start_time": "2022-11-20T12:31:47.953Z"
   },
   {
    "duration": 3,
    "start_time": "2022-11-20T12:31:47.979Z"
   },
   {
    "duration": 8,
    "start_time": "2022-11-20T12:31:47.983Z"
   },
   {
    "duration": 4,
    "start_time": "2022-11-20T12:31:47.993Z"
   },
   {
    "duration": 11,
    "start_time": "2022-11-20T12:31:47.999Z"
   },
   {
    "duration": 5,
    "start_time": "2022-11-20T12:31:48.012Z"
   },
   {
    "duration": 4,
    "start_time": "2022-11-20T12:31:48.019Z"
   },
   {
    "duration": 5,
    "start_time": "2022-11-20T12:31:48.025Z"
   },
   {
    "duration": 7,
    "start_time": "2022-11-20T12:31:48.031Z"
   },
   {
    "duration": 12,
    "start_time": "2022-11-20T12:31:48.039Z"
   },
   {
    "duration": 61,
    "start_time": "2022-11-20T12:33:02.450Z"
   },
   {
    "duration": 409,
    "start_time": "2022-11-20T12:33:07.882Z"
   },
   {
    "duration": 82,
    "start_time": "2022-11-20T12:33:08.293Z"
   },
   {
    "duration": 9,
    "start_time": "2022-11-20T12:33:08.376Z"
   },
   {
    "duration": 17,
    "start_time": "2022-11-20T12:33:08.387Z"
   },
   {
    "duration": 9,
    "start_time": "2022-11-20T12:33:08.405Z"
   },
   {
    "duration": 34,
    "start_time": "2022-11-20T12:33:08.416Z"
   },
   {
    "duration": 3,
    "start_time": "2022-11-20T12:33:08.451Z"
   },
   {
    "duration": 86,
    "start_time": "2022-11-20T12:33:08.456Z"
   },
   {
    "duration": 0,
    "start_time": "2022-11-20T12:33:08.544Z"
   },
   {
    "duration": 0,
    "start_time": "2022-11-20T12:33:08.546Z"
   },
   {
    "duration": 0,
    "start_time": "2022-11-20T12:33:08.547Z"
   },
   {
    "duration": 0,
    "start_time": "2022-11-20T12:33:08.548Z"
   },
   {
    "duration": 0,
    "start_time": "2022-11-20T12:33:08.549Z"
   },
   {
    "duration": 0,
    "start_time": "2022-11-20T12:33:08.550Z"
   },
   {
    "duration": 0,
    "start_time": "2022-11-20T12:33:08.552Z"
   },
   {
    "duration": 0,
    "start_time": "2022-11-20T12:33:08.553Z"
   },
   {
    "duration": 0,
    "start_time": "2022-11-20T12:33:08.575Z"
   },
   {
    "duration": 0,
    "start_time": "2022-11-20T12:33:08.577Z"
   },
   {
    "duration": 0,
    "start_time": "2022-11-20T12:33:08.579Z"
   },
   {
    "duration": 0,
    "start_time": "2022-11-20T12:33:08.580Z"
   },
   {
    "duration": 0,
    "start_time": "2022-11-20T12:33:08.581Z"
   },
   {
    "duration": 0,
    "start_time": "2022-11-20T12:33:08.582Z"
   },
   {
    "duration": 11,
    "start_time": "2022-11-20T12:33:18.677Z"
   },
   {
    "duration": 6,
    "start_time": "2022-11-20T12:34:17.531Z"
   },
   {
    "duration": 6,
    "start_time": "2022-11-20T12:34:34.758Z"
   },
   {
    "duration": 336,
    "start_time": "2022-11-20T12:37:56.827Z"
   },
   {
    "duration": 72,
    "start_time": "2022-11-20T12:37:57.164Z"
   },
   {
    "duration": 9,
    "start_time": "2022-11-20T12:37:57.238Z"
   },
   {
    "duration": 17,
    "start_time": "2022-11-20T12:37:57.249Z"
   },
   {
    "duration": 9,
    "start_time": "2022-11-20T12:37:57.268Z"
   },
   {
    "duration": 31,
    "start_time": "2022-11-20T12:37:57.278Z"
   },
   {
    "duration": 3,
    "start_time": "2022-11-20T12:37:57.311Z"
   },
   {
    "duration": 14,
    "start_time": "2022-11-20T12:37:57.315Z"
   },
   {
    "duration": 3,
    "start_time": "2022-11-20T12:37:57.330Z"
   },
   {
    "duration": 5,
    "start_time": "2022-11-20T12:37:57.335Z"
   },
   {
    "duration": 6,
    "start_time": "2022-11-20T12:37:57.342Z"
   },
   {
    "duration": 19,
    "start_time": "2022-11-20T12:37:57.349Z"
   },
   {
    "duration": 2,
    "start_time": "2022-11-20T12:37:57.376Z"
   },
   {
    "duration": 8,
    "start_time": "2022-11-20T12:37:57.380Z"
   },
   {
    "duration": 4,
    "start_time": "2022-11-20T12:37:57.390Z"
   },
   {
    "duration": 4,
    "start_time": "2022-11-20T12:37:57.395Z"
   },
   {
    "duration": 4,
    "start_time": "2022-11-20T12:37:57.401Z"
   },
   {
    "duration": 6,
    "start_time": "2022-11-20T12:37:57.406Z"
   },
   {
    "duration": 7,
    "start_time": "2022-11-20T12:37:57.413Z"
   },
   {
    "duration": 11,
    "start_time": "2022-11-20T12:37:57.421Z"
   },
   {
    "duration": 7,
    "start_time": "2022-11-20T12:37:57.433Z"
   },
   {
    "duration": 5,
    "start_time": "2022-11-20T12:37:57.441Z"
   },
   {
    "duration": 3,
    "start_time": "2022-11-20T12:52:51.645Z"
   },
   {
    "duration": 3,
    "start_time": "2022-11-20T12:53:49.291Z"
   },
   {
    "duration": 43,
    "start_time": "2022-11-20T12:54:50.402Z"
   },
   {
    "duration": 10,
    "start_time": "2022-11-20T12:56:11.298Z"
   },
   {
    "duration": 371,
    "start_time": "2022-11-20T12:56:38.999Z"
   },
   {
    "duration": 74,
    "start_time": "2022-11-20T12:56:39.372Z"
   },
   {
    "duration": 11,
    "start_time": "2022-11-20T12:56:39.447Z"
   },
   {
    "duration": 18,
    "start_time": "2022-11-20T12:56:39.460Z"
   },
   {
    "duration": 13,
    "start_time": "2022-11-20T12:56:39.479Z"
   },
   {
    "duration": 42,
    "start_time": "2022-11-20T12:56:39.493Z"
   },
   {
    "duration": 5,
    "start_time": "2022-11-20T12:56:39.539Z"
   },
   {
    "duration": 30,
    "start_time": "2022-11-20T12:56:39.546Z"
   },
   {
    "duration": 5,
    "start_time": "2022-11-20T12:56:39.578Z"
   },
   {
    "duration": 21,
    "start_time": "2022-11-20T12:56:39.586Z"
   },
   {
    "duration": 6,
    "start_time": "2022-11-20T12:56:39.609Z"
   },
   {
    "duration": 9,
    "start_time": "2022-11-20T12:56:39.616Z"
   },
   {
    "duration": 9,
    "start_time": "2022-11-20T12:56:39.627Z"
   },
   {
    "duration": 11,
    "start_time": "2022-11-20T12:56:39.638Z"
   },
   {
    "duration": 7,
    "start_time": "2022-11-20T12:56:39.651Z"
   },
   {
    "duration": 6,
    "start_time": "2022-11-20T12:56:39.659Z"
   },
   {
    "duration": 5,
    "start_time": "2022-11-20T12:56:39.666Z"
   },
   {
    "duration": 4,
    "start_time": "2022-11-20T12:56:39.673Z"
   },
   {
    "duration": 5,
    "start_time": "2022-11-20T12:56:39.679Z"
   },
   {
    "duration": 4,
    "start_time": "2022-11-20T12:56:39.686Z"
   },
   {
    "duration": 4,
    "start_time": "2022-11-20T12:56:39.691Z"
   },
   {
    "duration": 4,
    "start_time": "2022-11-20T12:56:39.697Z"
   },
   {
    "duration": 19,
    "start_time": "2022-11-20T13:05:44.754Z"
   },
   {
    "duration": 4,
    "start_time": "2022-11-20T13:07:22.437Z"
   },
   {
    "duration": 75,
    "start_time": "2022-11-21T18:17:07.636Z"
   },
   {
    "duration": 362,
    "start_time": "2022-11-21T18:17:16.531Z"
   },
   {
    "duration": 143,
    "start_time": "2022-11-21T18:17:16.895Z"
   },
   {
    "duration": 11,
    "start_time": "2022-11-21T18:17:17.040Z"
   },
   {
    "duration": 17,
    "start_time": "2022-11-21T18:17:17.053Z"
   },
   {
    "duration": 9,
    "start_time": "2022-11-21T18:17:17.072Z"
   },
   {
    "duration": 37,
    "start_time": "2022-11-21T18:17:17.083Z"
   },
   {
    "duration": 4,
    "start_time": "2022-11-21T18:17:17.122Z"
   },
   {
    "duration": 34,
    "start_time": "2022-11-21T18:17:17.128Z"
   },
   {
    "duration": 5,
    "start_time": "2022-11-21T18:17:17.163Z"
   },
   {
    "duration": 11,
    "start_time": "2022-11-21T18:17:17.169Z"
   },
   {
    "duration": 4,
    "start_time": "2022-11-21T18:17:17.181Z"
   },
   {
    "duration": 95,
    "start_time": "2022-11-21T18:17:17.187Z"
   },
   {
    "duration": 0,
    "start_time": "2022-11-21T18:17:17.286Z"
   },
   {
    "duration": 0,
    "start_time": "2022-11-21T18:17:17.287Z"
   },
   {
    "duration": 0,
    "start_time": "2022-11-21T18:17:17.289Z"
   },
   {
    "duration": 0,
    "start_time": "2022-11-21T18:17:17.290Z"
   },
   {
    "duration": 0,
    "start_time": "2022-11-21T18:17:17.292Z"
   },
   {
    "duration": 0,
    "start_time": "2022-11-21T18:17:17.293Z"
   },
   {
    "duration": 0,
    "start_time": "2022-11-21T18:17:17.295Z"
   },
   {
    "duration": 0,
    "start_time": "2022-11-21T18:17:17.296Z"
   },
   {
    "duration": 0,
    "start_time": "2022-11-21T18:17:17.298Z"
   },
   {
    "duration": 0,
    "start_time": "2022-11-21T18:17:17.299Z"
   },
   {
    "duration": 5,
    "start_time": "2022-11-21T18:20:13.386Z"
   },
   {
    "duration": 4,
    "start_time": "2022-11-21T18:20:47.784Z"
   },
   {
    "duration": 368,
    "start_time": "2022-11-21T18:23:36.427Z"
   },
   {
    "duration": 73,
    "start_time": "2022-11-21T18:23:36.797Z"
   },
   {
    "duration": 10,
    "start_time": "2022-11-21T18:23:36.872Z"
   },
   {
    "duration": 22,
    "start_time": "2022-11-21T18:23:36.884Z"
   },
   {
    "duration": 8,
    "start_time": "2022-11-21T18:23:36.909Z"
   },
   {
    "duration": 68,
    "start_time": "2022-11-21T18:23:36.919Z"
   },
   {
    "duration": 4,
    "start_time": "2022-11-21T18:23:36.989Z"
   },
   {
    "duration": 20,
    "start_time": "2022-11-21T18:23:36.995Z"
   },
   {
    "duration": 5,
    "start_time": "2022-11-21T18:23:37.017Z"
   },
   {
    "duration": 10,
    "start_time": "2022-11-21T18:23:37.023Z"
   },
   {
    "duration": 5,
    "start_time": "2022-11-21T18:23:37.034Z"
   },
   {
    "duration": 418,
    "start_time": "2022-11-21T18:26:04.570Z"
   },
   {
    "duration": 77,
    "start_time": "2022-11-21T18:26:04.990Z"
   },
   {
    "duration": 12,
    "start_time": "2022-11-21T18:26:05.069Z"
   },
   {
    "duration": 21,
    "start_time": "2022-11-21T18:26:05.083Z"
   },
   {
    "duration": 11,
    "start_time": "2022-11-21T18:26:05.106Z"
   },
   {
    "duration": 40,
    "start_time": "2022-11-21T18:26:05.119Z"
   },
   {
    "duration": 5,
    "start_time": "2022-11-21T18:26:05.179Z"
   },
   {
    "duration": 29,
    "start_time": "2022-11-21T18:26:05.186Z"
   },
   {
    "duration": 12,
    "start_time": "2022-11-21T18:26:05.217Z"
   },
   {
    "duration": 11,
    "start_time": "2022-11-21T18:26:05.232Z"
   },
   {
    "duration": 6,
    "start_time": "2022-11-21T18:26:05.245Z"
   },
   {
    "duration": 32,
    "start_time": "2022-11-21T18:59:01.996Z"
   },
   {
    "duration": 34,
    "start_time": "2022-11-21T18:59:08.739Z"
   },
   {
    "duration": 98,
    "start_time": "2022-11-21T19:03:54.037Z"
   },
   {
    "duration": 17,
    "start_time": "2022-11-21T19:05:54.084Z"
   },
   {
    "duration": 56,
    "start_time": "2022-11-21T19:07:04.023Z"
   },
   {
    "duration": 10,
    "start_time": "2022-11-21T19:07:34.973Z"
   },
   {
    "duration": 8,
    "start_time": "2022-11-21T19:08:23.596Z"
   },
   {
    "duration": 19,
    "start_time": "2022-11-21T19:08:37.028Z"
   },
   {
    "duration": 16,
    "start_time": "2022-11-21T19:08:49.838Z"
   },
   {
    "duration": 1063,
    "start_time": "2022-11-21T19:27:07.261Z"
   },
   {
    "duration": 9,
    "start_time": "2022-11-21T19:30:05.093Z"
   },
   {
    "duration": 3,
    "start_time": "2022-11-21T19:32:39.602Z"
   },
   {
    "duration": 12,
    "start_time": "2022-11-21T19:32:58.416Z"
   },
   {
    "duration": 419,
    "start_time": "2022-11-21T19:33:07.563Z"
   },
   {
    "duration": 75,
    "start_time": "2022-11-21T19:33:07.984Z"
   },
   {
    "duration": 10,
    "start_time": "2022-11-21T19:33:08.061Z"
   },
   {
    "duration": 40,
    "start_time": "2022-11-21T19:33:08.073Z"
   },
   {
    "duration": 22,
    "start_time": "2022-11-21T19:33:08.114Z"
   },
   {
    "duration": 48,
    "start_time": "2022-11-21T19:33:08.138Z"
   },
   {
    "duration": 4,
    "start_time": "2022-11-21T19:33:08.188Z"
   },
   {
    "duration": 41,
    "start_time": "2022-11-21T19:33:08.193Z"
   },
   {
    "duration": 21,
    "start_time": "2022-11-21T19:33:08.236Z"
   },
   {
    "duration": 42,
    "start_time": "2022-11-21T19:33:08.260Z"
   },
   {
    "duration": 29,
    "start_time": "2022-11-21T19:33:08.304Z"
   },
   {
    "duration": 62,
    "start_time": "2022-11-21T19:33:08.335Z"
   },
   {
    "duration": 10,
    "start_time": "2022-11-21T19:33:08.399Z"
   },
   {
    "duration": 31,
    "start_time": "2022-11-21T19:33:08.410Z"
   },
   {
    "duration": 32,
    "start_time": "2022-11-21T19:33:08.443Z"
   },
   {
    "duration": 41,
    "start_time": "2022-11-21T19:33:08.477Z"
   },
   {
    "duration": 36,
    "start_time": "2022-11-21T19:33:08.519Z"
   },
   {
    "duration": 3,
    "start_time": "2022-11-21T19:33:08.557Z"
   },
   {
    "duration": 38,
    "start_time": "2022-11-21T19:33:08.562Z"
   },
   {
    "duration": 15,
    "start_time": "2022-11-21T19:33:08.602Z"
   },
   {
    "duration": 26,
    "start_time": "2022-11-21T19:33:08.619Z"
   },
   {
    "duration": 12,
    "start_time": "2022-11-21T19:33:08.647Z"
   },
   {
    "duration": 7,
    "start_time": "2022-11-21T19:33:49.924Z"
   },
   {
    "duration": 69,
    "start_time": "2022-11-21T19:48:54.724Z"
   },
   {
    "duration": 89,
    "start_time": "2022-11-21T19:49:05.101Z"
   },
   {
    "duration": 7,
    "start_time": "2022-11-21T19:49:08.585Z"
   },
   {
    "duration": 414,
    "start_time": "2022-11-21T19:49:14.586Z"
   },
   {
    "duration": 77,
    "start_time": "2022-11-21T19:49:15.002Z"
   },
   {
    "duration": 12,
    "start_time": "2022-11-21T19:49:15.081Z"
   },
   {
    "duration": 17,
    "start_time": "2022-11-21T19:49:15.095Z"
   },
   {
    "duration": 8,
    "start_time": "2022-11-21T19:49:15.115Z"
   },
   {
    "duration": 53,
    "start_time": "2022-11-21T19:49:15.125Z"
   },
   {
    "duration": 3,
    "start_time": "2022-11-21T19:49:15.180Z"
   },
   {
    "duration": 17,
    "start_time": "2022-11-21T19:49:15.184Z"
   },
   {
    "duration": 5,
    "start_time": "2022-11-21T19:49:15.202Z"
   },
   {
    "duration": 10,
    "start_time": "2022-11-21T19:49:15.209Z"
   },
   {
    "duration": 9,
    "start_time": "2022-11-21T19:49:15.220Z"
   },
   {
    "duration": 62,
    "start_time": "2022-11-21T19:49:15.231Z"
   },
   {
    "duration": 8,
    "start_time": "2022-11-21T19:49:15.295Z"
   },
   {
    "duration": 5,
    "start_time": "2022-11-21T19:49:15.306Z"
   },
   {
    "duration": 14,
    "start_time": "2022-11-21T19:49:15.313Z"
   },
   {
    "duration": 21,
    "start_time": "2022-11-21T19:49:15.329Z"
   },
   {
    "duration": 55,
    "start_time": "2022-11-21T19:49:15.352Z"
   },
   {
    "duration": 3,
    "start_time": "2022-11-21T19:49:15.409Z"
   },
   {
    "duration": 11,
    "start_time": "2022-11-21T19:49:15.414Z"
   },
   {
    "duration": 6,
    "start_time": "2022-11-21T19:49:15.427Z"
   },
   {
    "duration": 73,
    "start_time": "2022-11-21T19:49:15.434Z"
   },
   {
    "duration": 0,
    "start_time": "2022-11-21T19:49:15.509Z"
   },
   {
    "duration": 409,
    "start_time": "2022-11-21T19:50:05.941Z"
   },
   {
    "duration": 75,
    "start_time": "2022-11-21T19:50:06.352Z"
   },
   {
    "duration": 10,
    "start_time": "2022-11-21T19:50:06.428Z"
   },
   {
    "duration": 36,
    "start_time": "2022-11-21T19:50:06.441Z"
   },
   {
    "duration": 15,
    "start_time": "2022-11-21T19:50:06.479Z"
   },
   {
    "duration": 57,
    "start_time": "2022-11-21T19:50:06.496Z"
   },
   {
    "duration": 3,
    "start_time": "2022-11-21T19:50:06.555Z"
   },
   {
    "duration": 26,
    "start_time": "2022-11-21T19:50:06.559Z"
   },
   {
    "duration": 8,
    "start_time": "2022-11-21T19:50:06.587Z"
   },
   {
    "duration": 10,
    "start_time": "2022-11-21T19:50:06.598Z"
   },
   {
    "duration": 7,
    "start_time": "2022-11-21T19:50:06.610Z"
   },
   {
    "duration": 44,
    "start_time": "2022-11-21T19:50:06.619Z"
   },
   {
    "duration": 17,
    "start_time": "2022-11-21T19:50:06.664Z"
   },
   {
    "duration": 12,
    "start_time": "2022-11-21T19:50:06.683Z"
   },
   {
    "duration": 14,
    "start_time": "2022-11-21T19:50:06.697Z"
   },
   {
    "duration": 22,
    "start_time": "2022-11-21T19:50:06.712Z"
   },
   {
    "duration": 47,
    "start_time": "2022-11-21T19:50:06.736Z"
   },
   {
    "duration": 4,
    "start_time": "2022-11-21T19:50:06.785Z"
   },
   {
    "duration": 22,
    "start_time": "2022-11-21T19:50:06.790Z"
   },
   {
    "duration": 6,
    "start_time": "2022-11-21T19:50:06.814Z"
   },
   {
    "duration": 16,
    "start_time": "2022-11-21T19:50:06.822Z"
   },
   {
    "duration": 24,
    "start_time": "2022-11-21T19:50:06.840Z"
   }
  ],
  "colab": {
   "provenance": []
  },
  "kernelspec": {
   "display_name": "Python 3 (ipykernel)",
   "language": "python",
   "name": "python3"
  },
  "language_info": {
   "codemirror_mode": {
    "name": "ipython",
    "version": 3
   },
   "file_extension": ".py",
   "mimetype": "text/x-python",
   "name": "python",
   "nbconvert_exporter": "python",
   "pygments_lexer": "ipython3",
   "version": "3.9.5"
  },
  "toc": {
   "base_numbering": 1,
   "nav_menu": {},
   "number_sections": true,
   "sideBar": true,
   "skip_h1_title": true,
   "title_cell": "Table of Contents",
   "title_sidebar": "Contents",
   "toc_cell": false,
   "toc_position": {},
   "toc_section_display": true,
   "toc_window_display": false
  }
 },
 "nbformat": 4,
 "nbformat_minor": 5
}
