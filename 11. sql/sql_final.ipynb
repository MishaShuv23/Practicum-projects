{
 "cells": [
  {
   "cell_type": "markdown",
   "metadata": {},
   "source": [
    "# Проект по SQL. Сервис для чтения книг по подписке. "
   ]
  },
  {
   "cell_type": "markdown",
   "metadata": {},
   "source": [
    "В рамках исследования нужно проанализировать базу данных, которая содержит информацию о книгах, издательствах, авторах, а также пользовательские обзоры книг. Дано 5 таблицы: books(данные о книгах), authors(данные об авторах), publishers(данные об издательствах), ratings(данные о пользовательских оценках книг), reviews(данные о пользовательских обзорах).\n",
    "\n",
    "Требуется:\n",
    "1. Посчитать, сколько книг вышло после 1 января 2000 года;\n",
    "2. Для каждой книги посчитать количество обзоров и среднюю оценку;\n",
    "3. Определить издательство, которое выпустило наибольшее число книг толще 50 страниц — так вы исключите из анализа брошюры;\n",
    "4. Определить автора с самой высокой средней оценкой книг — учитывайте только книги с 50 и более оценками;\n",
    "5. Посчитать среднее количество обзоров от пользователей, которые поставили больше 48 оценок."
   ]
  },
  {
   "cell_type": "markdown",
   "metadata": {},
   "source": [
    "## Предпросмотр и предобработка данных"
   ]
  },
  {
   "cell_type": "code",
   "execution_count": 1,
   "metadata": {},
   "outputs": [
    {
     "data": {
      "text/html": [
       "<div>\n",
       "<style scoped>\n",
       "    .dataframe tbody tr th:only-of-type {\n",
       "        vertical-align: middle;\n",
       "    }\n",
       "\n",
       "    .dataframe tbody tr th {\n",
       "        vertical-align: top;\n",
       "    }\n",
       "\n",
       "    .dataframe thead th {\n",
       "        text-align: right;\n",
       "    }\n",
       "</style>\n",
       "<table border=\"1\" class=\"dataframe\">\n",
       "  <thead>\n",
       "    <tr style=\"text-align: right;\">\n",
       "      <th></th>\n",
       "      <th>book_id</th>\n",
       "      <th>author_id</th>\n",
       "      <th>title</th>\n",
       "      <th>num_pages</th>\n",
       "      <th>publication_date</th>\n",
       "      <th>publisher_id</th>\n",
       "    </tr>\n",
       "  </thead>\n",
       "  <tbody>\n",
       "    <tr>\n",
       "      <th>0</th>\n",
       "      <td>1</td>\n",
       "      <td>546</td>\n",
       "      <td>'Salem's Lot</td>\n",
       "      <td>594</td>\n",
       "      <td>2005-11-01</td>\n",
       "      <td>93</td>\n",
       "    </tr>\n",
       "    <tr>\n",
       "      <th>1</th>\n",
       "      <td>2</td>\n",
       "      <td>465</td>\n",
       "      <td>1 000 Places to See Before You Die</td>\n",
       "      <td>992</td>\n",
       "      <td>2003-05-22</td>\n",
       "      <td>336</td>\n",
       "    </tr>\n",
       "    <tr>\n",
       "      <th>2</th>\n",
       "      <td>3</td>\n",
       "      <td>407</td>\n",
       "      <td>13 Little Blue Envelopes (Little Blue Envelope...</td>\n",
       "      <td>322</td>\n",
       "      <td>2010-12-21</td>\n",
       "      <td>135</td>\n",
       "    </tr>\n",
       "    <tr>\n",
       "      <th>3</th>\n",
       "      <td>4</td>\n",
       "      <td>82</td>\n",
       "      <td>1491: New Revelations of the Americas Before C...</td>\n",
       "      <td>541</td>\n",
       "      <td>2006-10-10</td>\n",
       "      <td>309</td>\n",
       "    </tr>\n",
       "    <tr>\n",
       "      <th>4</th>\n",
       "      <td>5</td>\n",
       "      <td>125</td>\n",
       "      <td>1776</td>\n",
       "      <td>386</td>\n",
       "      <td>2006-07-04</td>\n",
       "      <td>268</td>\n",
       "    </tr>\n",
       "    <tr>\n",
       "      <th>...</th>\n",
       "      <td>...</td>\n",
       "      <td>...</td>\n",
       "      <td>...</td>\n",
       "      <td>...</td>\n",
       "      <td>...</td>\n",
       "      <td>...</td>\n",
       "    </tr>\n",
       "    <tr>\n",
       "      <th>995</th>\n",
       "      <td>996</td>\n",
       "      <td>571</td>\n",
       "      <td>Wyrd Sisters (Discworld  #6; Witches #2)</td>\n",
       "      <td>265</td>\n",
       "      <td>2001-02-06</td>\n",
       "      <td>147</td>\n",
       "    </tr>\n",
       "    <tr>\n",
       "      <th>996</th>\n",
       "      <td>997</td>\n",
       "      <td>454</td>\n",
       "      <td>Xenocide (Ender's Saga  #3)</td>\n",
       "      <td>592</td>\n",
       "      <td>1996-07-15</td>\n",
       "      <td>297</td>\n",
       "    </tr>\n",
       "    <tr>\n",
       "      <th>997</th>\n",
       "      <td>998</td>\n",
       "      <td>201</td>\n",
       "      <td>Year of Wonders</td>\n",
       "      <td>358</td>\n",
       "      <td>2002-04-30</td>\n",
       "      <td>212</td>\n",
       "    </tr>\n",
       "    <tr>\n",
       "      <th>998</th>\n",
       "      <td>999</td>\n",
       "      <td>94</td>\n",
       "      <td>You Suck (A Love Story  #2)</td>\n",
       "      <td>328</td>\n",
       "      <td>2007-01-16</td>\n",
       "      <td>331</td>\n",
       "    </tr>\n",
       "    <tr>\n",
       "      <th>999</th>\n",
       "      <td>1000</td>\n",
       "      <td>509</td>\n",
       "      <td>Zen and the Art of Motorcycle Maintenance: An ...</td>\n",
       "      <td>540</td>\n",
       "      <td>2006-04-25</td>\n",
       "      <td>143</td>\n",
       "    </tr>\n",
       "  </tbody>\n",
       "</table>\n",
       "<p>1000 rows × 6 columns</p>\n",
       "</div>"
      ],
      "text/plain": [
       "     book_id  author_id                                              title  \\\n",
       "0          1        546                                       'Salem's Lot   \n",
       "1          2        465                 1 000 Places to See Before You Die   \n",
       "2          3        407  13 Little Blue Envelopes (Little Blue Envelope...   \n",
       "3          4         82  1491: New Revelations of the Americas Before C...   \n",
       "4          5        125                                               1776   \n",
       "..       ...        ...                                                ...   \n",
       "995      996        571           Wyrd Sisters (Discworld  #6; Witches #2)   \n",
       "996      997        454                        Xenocide (Ender's Saga  #3)   \n",
       "997      998        201                                    Year of Wonders   \n",
       "998      999         94                        You Suck (A Love Story  #2)   \n",
       "999     1000        509  Zen and the Art of Motorcycle Maintenance: An ...   \n",
       "\n",
       "     num_pages publication_date  publisher_id  \n",
       "0          594       2005-11-01            93  \n",
       "1          992       2003-05-22           336  \n",
       "2          322       2010-12-21           135  \n",
       "3          541       2006-10-10           309  \n",
       "4          386       2006-07-04           268  \n",
       "..         ...              ...           ...  \n",
       "995        265       2001-02-06           147  \n",
       "996        592       1996-07-15           297  \n",
       "997        358       2002-04-30           212  \n",
       "998        328       2007-01-16           331  \n",
       "999        540       2006-04-25           143  \n",
       "\n",
       "[1000 rows x 6 columns]"
      ]
     },
     "execution_count": 1,
     "metadata": {},
     "output_type": "execute_result"
    }
   ],
   "source": [
    "# импортируем библиотеки\n",
    "import pandas as pd\n",
    "from sqlalchemy import text, create_engine\n",
    "# устанавливаем параметры\n",
    "db_config = {'user': 'praktikum_student', # имя пользователя\n",
    "'pwd': 'Sdf4$2;d-d30pp', # пароль\n",
    "'host': 'rc1b-wcoijxj3yxfsf3fs.mdb.yandexcloud.net',\n",
    "'port': 6432, # порт подключения\n",
    "'db': 'data-analyst-final-project-db'} # название базы данных\n",
    "connection_string = 'postgresql://{user}:{pwd}@{host}:{port}/{db}'.format(**db_config)\n",
    "# сохраняем коннектор\n",
    "engine = create_engine(connection_string, connect_args={'sslmode':'require'})\n",
    "# чтобы выполнить SQL-запрос, используем Pandas\n",
    "query = '''SELECT * FROM books'''\n",
    "con=engine.connect()\n",
    "books = pd.io.sql.read_sql(sql=text(query), con = con)\n",
    "books"
   ]
  },
  {
   "cell_type": "code",
   "execution_count": 2,
   "metadata": {},
   "outputs": [
    {
     "name": "stdout",
     "output_type": "stream",
     "text": [
      "<class 'pandas.core.frame.DataFrame'>\n",
      "RangeIndex: 1000 entries, 0 to 999\n",
      "Data columns (total 6 columns):\n",
      " #   Column            Non-Null Count  Dtype \n",
      "---  ------            --------------  ----- \n",
      " 0   book_id           1000 non-null   int64 \n",
      " 1   author_id         1000 non-null   int64 \n",
      " 2   title             1000 non-null   object\n",
      " 3   num_pages         1000 non-null   int64 \n",
      " 4   publication_date  1000 non-null   object\n",
      " 5   publisher_id      1000 non-null   int64 \n",
      "dtypes: int64(4), object(2)\n",
      "memory usage: 47.0+ KB\n"
     ]
    }
   ],
   "source": [
    "books.info()"
   ]
  },
  {
   "cell_type": "code",
   "execution_count": 3,
   "metadata": {},
   "outputs": [],
   "source": [
    "books['publication_date'] = pd.to_datetime(books['publication_date'])"
   ]
  },
  {
   "cell_type": "code",
   "execution_count": 4,
   "metadata": {},
   "outputs": [
    {
     "data": {
      "text/plain": [
       "0"
      ]
     },
     "execution_count": 4,
     "metadata": {},
     "output_type": "execute_result"
    }
   ],
   "source": [
    "books.duplicated().sum()\n",
    "#дубликатов нет"
   ]
  },
  {
   "cell_type": "code",
   "execution_count": 5,
   "metadata": {},
   "outputs": [
    {
     "data": {
      "text/plain": [
       "999"
      ]
     },
     "execution_count": 5,
     "metadata": {},
     "output_type": "execute_result"
    }
   ],
   "source": [
    "books['title'].nunique()"
   ]
  },
  {
   "cell_type": "code",
   "execution_count": 6,
   "metadata": {},
   "outputs": [
    {
     "data": {
      "text/html": [
       "<div>\n",
       "<style scoped>\n",
       "    .dataframe tbody tr th:only-of-type {\n",
       "        vertical-align: middle;\n",
       "    }\n",
       "\n",
       "    .dataframe tbody tr th {\n",
       "        vertical-align: top;\n",
       "    }\n",
       "\n",
       "    .dataframe thead th {\n",
       "        text-align: right;\n",
       "    }\n",
       "</style>\n",
       "<table border=\"1\" class=\"dataframe\">\n",
       "  <thead>\n",
       "    <tr style=\"text-align: right;\">\n",
       "      <th></th>\n",
       "      <th>author_id</th>\n",
       "      <th>author</th>\n",
       "    </tr>\n",
       "  </thead>\n",
       "  <tbody>\n",
       "    <tr>\n",
       "      <th>0</th>\n",
       "      <td>1</td>\n",
       "      <td>A.S. Byatt</td>\n",
       "    </tr>\n",
       "    <tr>\n",
       "      <th>1</th>\n",
       "      <td>2</td>\n",
       "      <td>Aesop/Laura Harris/Laura Gibbs</td>\n",
       "    </tr>\n",
       "    <tr>\n",
       "      <th>2</th>\n",
       "      <td>3</td>\n",
       "      <td>Agatha Christie</td>\n",
       "    </tr>\n",
       "    <tr>\n",
       "      <th>3</th>\n",
       "      <td>4</td>\n",
       "      <td>Alan Brennert</td>\n",
       "    </tr>\n",
       "    <tr>\n",
       "      <th>4</th>\n",
       "      <td>5</td>\n",
       "      <td>Alan Moore/David   Lloyd</td>\n",
       "    </tr>\n",
       "    <tr>\n",
       "      <th>...</th>\n",
       "      <td>...</td>\n",
       "      <td>...</td>\n",
       "    </tr>\n",
       "    <tr>\n",
       "      <th>631</th>\n",
       "      <td>632</td>\n",
       "      <td>William Strunk Jr./E.B. White</td>\n",
       "    </tr>\n",
       "    <tr>\n",
       "      <th>632</th>\n",
       "      <td>633</td>\n",
       "      <td>Zadie Smith</td>\n",
       "    </tr>\n",
       "    <tr>\n",
       "      <th>633</th>\n",
       "      <td>634</td>\n",
       "      <td>Zilpha Keatley Snyder</td>\n",
       "    </tr>\n",
       "    <tr>\n",
       "      <th>634</th>\n",
       "      <td>635</td>\n",
       "      <td>Zora Neale Hurston</td>\n",
       "    </tr>\n",
       "    <tr>\n",
       "      <th>635</th>\n",
       "      <td>636</td>\n",
       "      <td>Åsne Seierstad/Ingrid Christopherson</td>\n",
       "    </tr>\n",
       "  </tbody>\n",
       "</table>\n",
       "<p>636 rows × 2 columns</p>\n",
       "</div>"
      ],
      "text/plain": [
       "     author_id                                author\n",
       "0            1                            A.S. Byatt\n",
       "1            2        Aesop/Laura Harris/Laura Gibbs\n",
       "2            3                       Agatha Christie\n",
       "3            4                         Alan Brennert\n",
       "4            5              Alan Moore/David   Lloyd\n",
       "..         ...                                   ...\n",
       "631        632         William Strunk Jr./E.B. White\n",
       "632        633                           Zadie Smith\n",
       "633        634                 Zilpha Keatley Snyder\n",
       "634        635                    Zora Neale Hurston\n",
       "635        636  Åsne Seierstad/Ingrid Christopherson\n",
       "\n",
       "[636 rows x 2 columns]"
      ]
     },
     "execution_count": 6,
     "metadata": {},
     "output_type": "execute_result"
    }
   ],
   "source": [
    "query = '''SELECT * FROM authors'''\n",
    "con=engine.connect()\n",
    "authors = pd.io.sql.read_sql(sql=text(query), con = con)\n",
    "authors"
   ]
  },
  {
   "cell_type": "code",
   "execution_count": 7,
   "metadata": {},
   "outputs": [
    {
     "name": "stdout",
     "output_type": "stream",
     "text": [
      "<class 'pandas.core.frame.DataFrame'>\n",
      "RangeIndex: 636 entries, 0 to 635\n",
      "Data columns (total 2 columns):\n",
      " #   Column     Non-Null Count  Dtype \n",
      "---  ------     --------------  ----- \n",
      " 0   author_id  636 non-null    int64 \n",
      " 1   author     636 non-null    object\n",
      "dtypes: int64(1), object(1)\n",
      "memory usage: 10.1+ KB\n"
     ]
    }
   ],
   "source": [
    "authors.info()"
   ]
  },
  {
   "cell_type": "code",
   "execution_count": 8,
   "metadata": {},
   "outputs": [
    {
     "data": {
      "text/plain": [
       "0"
      ]
     },
     "execution_count": 8,
     "metadata": {},
     "output_type": "execute_result"
    }
   ],
   "source": [
    "authors.duplicated().sum()\n",
    "#дубликатов нет"
   ]
  },
  {
   "cell_type": "code",
   "execution_count": 9,
   "metadata": {},
   "outputs": [
    {
     "data": {
      "text/html": [
       "<div>\n",
       "<style scoped>\n",
       "    .dataframe tbody tr th:only-of-type {\n",
       "        vertical-align: middle;\n",
       "    }\n",
       "\n",
       "    .dataframe tbody tr th {\n",
       "        vertical-align: top;\n",
       "    }\n",
       "\n",
       "    .dataframe thead th {\n",
       "        text-align: right;\n",
       "    }\n",
       "</style>\n",
       "<table border=\"1\" class=\"dataframe\">\n",
       "  <thead>\n",
       "    <tr style=\"text-align: right;\">\n",
       "      <th></th>\n",
       "      <th>publisher_id</th>\n",
       "      <th>publisher</th>\n",
       "    </tr>\n",
       "  </thead>\n",
       "  <tbody>\n",
       "    <tr>\n",
       "      <th>0</th>\n",
       "      <td>1</td>\n",
       "      <td>Ace</td>\n",
       "    </tr>\n",
       "    <tr>\n",
       "      <th>1</th>\n",
       "      <td>2</td>\n",
       "      <td>Ace Book</td>\n",
       "    </tr>\n",
       "    <tr>\n",
       "      <th>2</th>\n",
       "      <td>3</td>\n",
       "      <td>Ace Books</td>\n",
       "    </tr>\n",
       "    <tr>\n",
       "      <th>3</th>\n",
       "      <td>4</td>\n",
       "      <td>Ace Hardcover</td>\n",
       "    </tr>\n",
       "    <tr>\n",
       "      <th>4</th>\n",
       "      <td>5</td>\n",
       "      <td>Addison Wesley Publishing Company</td>\n",
       "    </tr>\n",
       "    <tr>\n",
       "      <th>...</th>\n",
       "      <td>...</td>\n",
       "      <td>...</td>\n",
       "    </tr>\n",
       "    <tr>\n",
       "      <th>335</th>\n",
       "      <td>336</td>\n",
       "      <td>Workman Publishing Company</td>\n",
       "    </tr>\n",
       "    <tr>\n",
       "      <th>336</th>\n",
       "      <td>337</td>\n",
       "      <td>Wyatt Book</td>\n",
       "    </tr>\n",
       "    <tr>\n",
       "      <th>337</th>\n",
       "      <td>338</td>\n",
       "      <td>Yale University Press</td>\n",
       "    </tr>\n",
       "    <tr>\n",
       "      <th>338</th>\n",
       "      <td>339</td>\n",
       "      <td>Yearling</td>\n",
       "    </tr>\n",
       "    <tr>\n",
       "      <th>339</th>\n",
       "      <td>340</td>\n",
       "      <td>Yearling Books</td>\n",
       "    </tr>\n",
       "  </tbody>\n",
       "</table>\n",
       "<p>340 rows × 2 columns</p>\n",
       "</div>"
      ],
      "text/plain": [
       "     publisher_id                          publisher\n",
       "0               1                                Ace\n",
       "1               2                           Ace Book\n",
       "2               3                          Ace Books\n",
       "3               4                      Ace Hardcover\n",
       "4               5  Addison Wesley Publishing Company\n",
       "..            ...                                ...\n",
       "335           336         Workman Publishing Company\n",
       "336           337                         Wyatt Book\n",
       "337           338              Yale University Press\n",
       "338           339                           Yearling\n",
       "339           340                     Yearling Books\n",
       "\n",
       "[340 rows x 2 columns]"
      ]
     },
     "execution_count": 9,
     "metadata": {},
     "output_type": "execute_result"
    }
   ],
   "source": [
    "query = '''SELECT * FROM publishers'''\n",
    "con=engine.connect()\n",
    "publishers = pd.io.sql.read_sql(sql=text(query), con = con)\n",
    "publishers"
   ]
  },
  {
   "cell_type": "code",
   "execution_count": 10,
   "metadata": {},
   "outputs": [
    {
     "name": "stdout",
     "output_type": "stream",
     "text": [
      "<class 'pandas.core.frame.DataFrame'>\n",
      "RangeIndex: 340 entries, 0 to 339\n",
      "Data columns (total 2 columns):\n",
      " #   Column        Non-Null Count  Dtype \n",
      "---  ------        --------------  ----- \n",
      " 0   publisher_id  340 non-null    int64 \n",
      " 1   publisher     340 non-null    object\n",
      "dtypes: int64(1), object(1)\n",
      "memory usage: 5.4+ KB\n"
     ]
    }
   ],
   "source": [
    "publishers.info()"
   ]
  },
  {
   "cell_type": "code",
   "execution_count": 11,
   "metadata": {},
   "outputs": [
    {
     "data": {
      "text/plain": [
       "0"
      ]
     },
     "execution_count": 11,
     "metadata": {},
     "output_type": "execute_result"
    }
   ],
   "source": [
    "publishers.duplicated().sum()\n",
    "#дубликатов нет"
   ]
  },
  {
   "cell_type": "code",
   "execution_count": 12,
   "metadata": {},
   "outputs": [
    {
     "data": {
      "text/html": [
       "<div>\n",
       "<style scoped>\n",
       "    .dataframe tbody tr th:only-of-type {\n",
       "        vertical-align: middle;\n",
       "    }\n",
       "\n",
       "    .dataframe tbody tr th {\n",
       "        vertical-align: top;\n",
       "    }\n",
       "\n",
       "    .dataframe thead th {\n",
       "        text-align: right;\n",
       "    }\n",
       "</style>\n",
       "<table border=\"1\" class=\"dataframe\">\n",
       "  <thead>\n",
       "    <tr style=\"text-align: right;\">\n",
       "      <th></th>\n",
       "      <th>rating_id</th>\n",
       "      <th>book_id</th>\n",
       "      <th>username</th>\n",
       "      <th>rating</th>\n",
       "    </tr>\n",
       "  </thead>\n",
       "  <tbody>\n",
       "    <tr>\n",
       "      <th>0</th>\n",
       "      <td>1</td>\n",
       "      <td>1</td>\n",
       "      <td>ryanfranco</td>\n",
       "      <td>4</td>\n",
       "    </tr>\n",
       "    <tr>\n",
       "      <th>1</th>\n",
       "      <td>2</td>\n",
       "      <td>1</td>\n",
       "      <td>grantpatricia</td>\n",
       "      <td>2</td>\n",
       "    </tr>\n",
       "    <tr>\n",
       "      <th>2</th>\n",
       "      <td>3</td>\n",
       "      <td>1</td>\n",
       "      <td>brandtandrea</td>\n",
       "      <td>5</td>\n",
       "    </tr>\n",
       "    <tr>\n",
       "      <th>3</th>\n",
       "      <td>4</td>\n",
       "      <td>2</td>\n",
       "      <td>lorichen</td>\n",
       "      <td>3</td>\n",
       "    </tr>\n",
       "    <tr>\n",
       "      <th>4</th>\n",
       "      <td>5</td>\n",
       "      <td>2</td>\n",
       "      <td>mariokeller</td>\n",
       "      <td>2</td>\n",
       "    </tr>\n",
       "    <tr>\n",
       "      <th>...</th>\n",
       "      <td>...</td>\n",
       "      <td>...</td>\n",
       "      <td>...</td>\n",
       "      <td>...</td>\n",
       "    </tr>\n",
       "    <tr>\n",
       "      <th>6451</th>\n",
       "      <td>6452</td>\n",
       "      <td>1000</td>\n",
       "      <td>carolrodriguez</td>\n",
       "      <td>4</td>\n",
       "    </tr>\n",
       "    <tr>\n",
       "      <th>6452</th>\n",
       "      <td>6453</td>\n",
       "      <td>1000</td>\n",
       "      <td>wendy18</td>\n",
       "      <td>4</td>\n",
       "    </tr>\n",
       "    <tr>\n",
       "      <th>6453</th>\n",
       "      <td>6454</td>\n",
       "      <td>1000</td>\n",
       "      <td>jarvispaul</td>\n",
       "      <td>5</td>\n",
       "    </tr>\n",
       "    <tr>\n",
       "      <th>6454</th>\n",
       "      <td>6455</td>\n",
       "      <td>1000</td>\n",
       "      <td>zross</td>\n",
       "      <td>2</td>\n",
       "    </tr>\n",
       "    <tr>\n",
       "      <th>6455</th>\n",
       "      <td>6456</td>\n",
       "      <td>1000</td>\n",
       "      <td>fharris</td>\n",
       "      <td>5</td>\n",
       "    </tr>\n",
       "  </tbody>\n",
       "</table>\n",
       "<p>6456 rows × 4 columns</p>\n",
       "</div>"
      ],
      "text/plain": [
       "      rating_id  book_id        username  rating\n",
       "0             1        1      ryanfranco       4\n",
       "1             2        1   grantpatricia       2\n",
       "2             3        1    brandtandrea       5\n",
       "3             4        2        lorichen       3\n",
       "4             5        2     mariokeller       2\n",
       "...         ...      ...             ...     ...\n",
       "6451       6452     1000  carolrodriguez       4\n",
       "6452       6453     1000         wendy18       4\n",
       "6453       6454     1000      jarvispaul       5\n",
       "6454       6455     1000           zross       2\n",
       "6455       6456     1000         fharris       5\n",
       "\n",
       "[6456 rows x 4 columns]"
      ]
     },
     "execution_count": 12,
     "metadata": {},
     "output_type": "execute_result"
    }
   ],
   "source": [
    "query = '''SELECT * FROM ratings'''\n",
    "con=engine.connect()\n",
    "ratings = pd.io.sql.read_sql(sql=text(query), con = con)\n",
    "ratings"
   ]
  },
  {
   "cell_type": "code",
   "execution_count": 13,
   "metadata": {},
   "outputs": [
    {
     "name": "stdout",
     "output_type": "stream",
     "text": [
      "<class 'pandas.core.frame.DataFrame'>\n",
      "RangeIndex: 6456 entries, 0 to 6455\n",
      "Data columns (total 4 columns):\n",
      " #   Column     Non-Null Count  Dtype \n",
      "---  ------     --------------  ----- \n",
      " 0   rating_id  6456 non-null   int64 \n",
      " 1   book_id    6456 non-null   int64 \n",
      " 2   username   6456 non-null   object\n",
      " 3   rating     6456 non-null   int64 \n",
      "dtypes: int64(3), object(1)\n",
      "memory usage: 201.9+ KB\n"
     ]
    }
   ],
   "source": [
    "ratings.info()"
   ]
  },
  {
   "cell_type": "code",
   "execution_count": 14,
   "metadata": {},
   "outputs": [
    {
     "data": {
      "text/plain": [
       "0"
      ]
     },
     "execution_count": 14,
     "metadata": {},
     "output_type": "execute_result"
    }
   ],
   "source": [
    "ratings.duplicated().sum()\n",
    "#дубликатов нет"
   ]
  },
  {
   "cell_type": "code",
   "execution_count": 15,
   "metadata": {},
   "outputs": [
    {
     "data": {
      "text/html": [
       "<div>\n",
       "<style scoped>\n",
       "    .dataframe tbody tr th:only-of-type {\n",
       "        vertical-align: middle;\n",
       "    }\n",
       "\n",
       "    .dataframe tbody tr th {\n",
       "        vertical-align: top;\n",
       "    }\n",
       "\n",
       "    .dataframe thead th {\n",
       "        text-align: right;\n",
       "    }\n",
       "</style>\n",
       "<table border=\"1\" class=\"dataframe\">\n",
       "  <thead>\n",
       "    <tr style=\"text-align: right;\">\n",
       "      <th></th>\n",
       "      <th>review_id</th>\n",
       "      <th>book_id</th>\n",
       "      <th>username</th>\n",
       "      <th>text</th>\n",
       "    </tr>\n",
       "  </thead>\n",
       "  <tbody>\n",
       "    <tr>\n",
       "      <th>0</th>\n",
       "      <td>1</td>\n",
       "      <td>1</td>\n",
       "      <td>brandtandrea</td>\n",
       "      <td>Mention society tell send professor analysis. ...</td>\n",
       "    </tr>\n",
       "    <tr>\n",
       "      <th>1</th>\n",
       "      <td>2</td>\n",
       "      <td>1</td>\n",
       "      <td>ryanfranco</td>\n",
       "      <td>Foot glass pretty audience hit themselves. Amo...</td>\n",
       "    </tr>\n",
       "    <tr>\n",
       "      <th>2</th>\n",
       "      <td>3</td>\n",
       "      <td>2</td>\n",
       "      <td>lorichen</td>\n",
       "      <td>Listen treat keep worry. Miss husband tax but ...</td>\n",
       "    </tr>\n",
       "    <tr>\n",
       "      <th>3</th>\n",
       "      <td>4</td>\n",
       "      <td>3</td>\n",
       "      <td>johnsonamanda</td>\n",
       "      <td>Finally month interesting blue could nature cu...</td>\n",
       "    </tr>\n",
       "    <tr>\n",
       "      <th>4</th>\n",
       "      <td>5</td>\n",
       "      <td>3</td>\n",
       "      <td>scotttamara</td>\n",
       "      <td>Nation purpose heavy give wait song will. List...</td>\n",
       "    </tr>\n",
       "    <tr>\n",
       "      <th>...</th>\n",
       "      <td>...</td>\n",
       "      <td>...</td>\n",
       "      <td>...</td>\n",
       "      <td>...</td>\n",
       "    </tr>\n",
       "    <tr>\n",
       "      <th>2788</th>\n",
       "      <td>2789</td>\n",
       "      <td>999</td>\n",
       "      <td>martinadam</td>\n",
       "      <td>Later hospital turn easy community. Fact same ...</td>\n",
       "    </tr>\n",
       "    <tr>\n",
       "      <th>2789</th>\n",
       "      <td>2790</td>\n",
       "      <td>1000</td>\n",
       "      <td>wknight</td>\n",
       "      <td>Change lose answer close pressure. Spend so now.</td>\n",
       "    </tr>\n",
       "    <tr>\n",
       "      <th>2790</th>\n",
       "      <td>2791</td>\n",
       "      <td>1000</td>\n",
       "      <td>carolrodriguez</td>\n",
       "      <td>Authority go who television entire hair guy po...</td>\n",
       "    </tr>\n",
       "    <tr>\n",
       "      <th>2791</th>\n",
       "      <td>2792</td>\n",
       "      <td>1000</td>\n",
       "      <td>wendy18</td>\n",
       "      <td>Or western offer wonder ask. More hear phone f...</td>\n",
       "    </tr>\n",
       "    <tr>\n",
       "      <th>2792</th>\n",
       "      <td>2793</td>\n",
       "      <td>1000</td>\n",
       "      <td>jarvispaul</td>\n",
       "      <td>Republican staff bit eat material measure plan...</td>\n",
       "    </tr>\n",
       "  </tbody>\n",
       "</table>\n",
       "<p>2793 rows × 4 columns</p>\n",
       "</div>"
      ],
      "text/plain": [
       "      review_id  book_id        username  \\\n",
       "0             1        1    brandtandrea   \n",
       "1             2        1      ryanfranco   \n",
       "2             3        2        lorichen   \n",
       "3             4        3   johnsonamanda   \n",
       "4             5        3     scotttamara   \n",
       "...         ...      ...             ...   \n",
       "2788       2789      999      martinadam   \n",
       "2789       2790     1000         wknight   \n",
       "2790       2791     1000  carolrodriguez   \n",
       "2791       2792     1000         wendy18   \n",
       "2792       2793     1000      jarvispaul   \n",
       "\n",
       "                                                   text  \n",
       "0     Mention society tell send professor analysis. ...  \n",
       "1     Foot glass pretty audience hit themselves. Amo...  \n",
       "2     Listen treat keep worry. Miss husband tax but ...  \n",
       "3     Finally month interesting blue could nature cu...  \n",
       "4     Nation purpose heavy give wait song will. List...  \n",
       "...                                                 ...  \n",
       "2788  Later hospital turn easy community. Fact same ...  \n",
       "2789   Change lose answer close pressure. Spend so now.  \n",
       "2790  Authority go who television entire hair guy po...  \n",
       "2791  Or western offer wonder ask. More hear phone f...  \n",
       "2792  Republican staff bit eat material measure plan...  \n",
       "\n",
       "[2793 rows x 4 columns]"
      ]
     },
     "execution_count": 15,
     "metadata": {},
     "output_type": "execute_result"
    }
   ],
   "source": [
    "query = '''SELECT * FROM reviews'''\n",
    "con=engine.connect()\n",
    "reviews = pd.io.sql.read_sql(sql=text(query), con = con)\n",
    "reviews"
   ]
  },
  {
   "cell_type": "code",
   "execution_count": 16,
   "metadata": {},
   "outputs": [
    {
     "name": "stdout",
     "output_type": "stream",
     "text": [
      "<class 'pandas.core.frame.DataFrame'>\n",
      "RangeIndex: 2793 entries, 0 to 2792\n",
      "Data columns (total 4 columns):\n",
      " #   Column     Non-Null Count  Dtype \n",
      "---  ------     --------------  ----- \n",
      " 0   review_id  2793 non-null   int64 \n",
      " 1   book_id    2793 non-null   int64 \n",
      " 2   username   2793 non-null   object\n",
      " 3   text       2793 non-null   object\n",
      "dtypes: int64(2), object(2)\n",
      "memory usage: 87.4+ KB\n"
     ]
    }
   ],
   "source": [
    "reviews.info()"
   ]
  },
  {
   "cell_type": "code",
   "execution_count": 17,
   "metadata": {},
   "outputs": [
    {
     "data": {
      "text/plain": [
       "0"
      ]
     },
     "execution_count": 17,
     "metadata": {},
     "output_type": "execute_result"
    }
   ],
   "source": [
    "reviews.duplicated().sum()\n",
    "#дубликатов нет"
   ]
  },
  {
   "cell_type": "markdown",
   "metadata": {},
   "source": [
    "## Задания"
   ]
  },
  {
   "cell_type": "markdown",
   "metadata": {},
   "source": [
    "### Посчитайте, сколько книг вышло после 1 января 2000 года "
   ]
  },
  {
   "cell_type": "code",
   "execution_count": 18,
   "metadata": {},
   "outputs": [
    {
     "data": {
      "text/html": [
       "<div>\n",
       "<style scoped>\n",
       "    .dataframe tbody tr th:only-of-type {\n",
       "        vertical-align: middle;\n",
       "    }\n",
       "\n",
       "    .dataframe tbody tr th {\n",
       "        vertical-align: top;\n",
       "    }\n",
       "\n",
       "    .dataframe thead th {\n",
       "        text-align: right;\n",
       "    }\n",
       "</style>\n",
       "<table border=\"1\" class=\"dataframe\">\n",
       "  <thead>\n",
       "    <tr style=\"text-align: right;\">\n",
       "      <th></th>\n",
       "      <th>count</th>\n",
       "    </tr>\n",
       "  </thead>\n",
       "  <tbody>\n",
       "    <tr>\n",
       "      <th>0</th>\n",
       "      <td>821</td>\n",
       "    </tr>\n",
       "  </tbody>\n",
       "</table>\n",
       "</div>"
      ],
      "text/plain": [
       "   count\n",
       "0    821"
      ]
     },
     "execution_count": 18,
     "metadata": {},
     "output_type": "execute_result"
    }
   ],
   "source": [
    "query = '''SELECT COUNT(book_id) \n",
    "           FROM books \n",
    "           WHERE EXTRACT(YEAR FROM CAST (publication_date AS timestamp)) >= 2000\n",
    "           '''\n",
    "con=engine.connect()\n",
    "pd.io.sql.read_sql(sql=text(query), con = con)"
   ]
  },
  {
   "cell_type": "markdown",
   "metadata": {},
   "source": [
    "После 1 января 2000 года вышло 821 книга"
   ]
  },
  {
   "cell_type": "markdown",
   "metadata": {},
   "source": [
    "### Для каждой книги посчитайте количество обзоров и среднюю оценку"
   ]
  },
  {
   "cell_type": "code",
   "execution_count": 19,
   "metadata": {},
   "outputs": [
    {
     "data": {
      "text/html": [
       "<div>\n",
       "<style scoped>\n",
       "    .dataframe tbody tr th:only-of-type {\n",
       "        vertical-align: middle;\n",
       "    }\n",
       "\n",
       "    .dataframe tbody tr th {\n",
       "        vertical-align: top;\n",
       "    }\n",
       "\n",
       "    .dataframe thead th {\n",
       "        text-align: right;\n",
       "    }\n",
       "</style>\n",
       "<table border=\"1\" class=\"dataframe\">\n",
       "  <thead>\n",
       "    <tr style=\"text-align: right;\">\n",
       "      <th></th>\n",
       "      <th>book_id</th>\n",
       "      <th>title</th>\n",
       "      <th>num_of_reviews</th>\n",
       "      <th>avg_rating</th>\n",
       "    </tr>\n",
       "  </thead>\n",
       "  <tbody>\n",
       "    <tr>\n",
       "      <th>0</th>\n",
       "      <td>948</td>\n",
       "      <td>Twilight (Twilight  #1)</td>\n",
       "      <td>7</td>\n",
       "      <td>3.66</td>\n",
       "    </tr>\n",
       "    <tr>\n",
       "      <th>1</th>\n",
       "      <td>750</td>\n",
       "      <td>The Hobbit  or There and Back Again</td>\n",
       "      <td>6</td>\n",
       "      <td>4.13</td>\n",
       "    </tr>\n",
       "    <tr>\n",
       "      <th>2</th>\n",
       "      <td>673</td>\n",
       "      <td>The Catcher in the Rye</td>\n",
       "      <td>6</td>\n",
       "      <td>3.83</td>\n",
       "    </tr>\n",
       "    <tr>\n",
       "      <th>3</th>\n",
       "      <td>302</td>\n",
       "      <td>Harry Potter and the Prisoner of Azkaban (Harr...</td>\n",
       "      <td>6</td>\n",
       "      <td>4.41</td>\n",
       "    </tr>\n",
       "    <tr>\n",
       "      <th>4</th>\n",
       "      <td>299</td>\n",
       "      <td>Harry Potter and the Chamber of Secrets (Harry...</td>\n",
       "      <td>6</td>\n",
       "      <td>4.29</td>\n",
       "    </tr>\n",
       "    <tr>\n",
       "      <th>...</th>\n",
       "      <td>...</td>\n",
       "      <td>...</td>\n",
       "      <td>...</td>\n",
       "      <td>...</td>\n",
       "    </tr>\n",
       "    <tr>\n",
       "      <th>995</th>\n",
       "      <td>221</td>\n",
       "      <td>Essential Tales and Poems</td>\n",
       "      <td>0</td>\n",
       "      <td>4.00</td>\n",
       "    </tr>\n",
       "    <tr>\n",
       "      <th>996</th>\n",
       "      <td>387</td>\n",
       "      <td>Leonardo's Notebooks</td>\n",
       "      <td>0</td>\n",
       "      <td>4.00</td>\n",
       "    </tr>\n",
       "    <tr>\n",
       "      <th>997</th>\n",
       "      <td>672</td>\n",
       "      <td>The Cat in the Hat and Other Dr. Seuss Favorites</td>\n",
       "      <td>0</td>\n",
       "      <td>5.00</td>\n",
       "    </tr>\n",
       "    <tr>\n",
       "      <th>998</th>\n",
       "      <td>83</td>\n",
       "      <td>Anne Rice's The Vampire Lestat: A Graphic Novel</td>\n",
       "      <td>0</td>\n",
       "      <td>3.67</td>\n",
       "    </tr>\n",
       "    <tr>\n",
       "      <th>999</th>\n",
       "      <td>808</td>\n",
       "      <td>The Natural Way to Draw</td>\n",
       "      <td>0</td>\n",
       "      <td>3.00</td>\n",
       "    </tr>\n",
       "  </tbody>\n",
       "</table>\n",
       "<p>1000 rows × 4 columns</p>\n",
       "</div>"
      ],
      "text/plain": [
       "     book_id                                              title  \\\n",
       "0        948                            Twilight (Twilight  #1)   \n",
       "1        750                The Hobbit  or There and Back Again   \n",
       "2        673                             The Catcher in the Rye   \n",
       "3        302  Harry Potter and the Prisoner of Azkaban (Harr...   \n",
       "4        299  Harry Potter and the Chamber of Secrets (Harry...   \n",
       "..       ...                                                ...   \n",
       "995      221                          Essential Tales and Poems   \n",
       "996      387                               Leonardo's Notebooks   \n",
       "997      672   The Cat in the Hat and Other Dr. Seuss Favorites   \n",
       "998       83    Anne Rice's The Vampire Lestat: A Graphic Novel   \n",
       "999      808                            The Natural Way to Draw   \n",
       "\n",
       "     num_of_reviews  avg_rating  \n",
       "0                 7        3.66  \n",
       "1                 6        4.13  \n",
       "2                 6        3.83  \n",
       "3                 6        4.41  \n",
       "4                 6        4.29  \n",
       "..              ...         ...  \n",
       "995               0        4.00  \n",
       "996               0        4.00  \n",
       "997               0        5.00  \n",
       "998               0        3.67  \n",
       "999               0        3.00  \n",
       "\n",
       "[1000 rows x 4 columns]"
      ]
     },
     "execution_count": 19,
     "metadata": {},
     "output_type": "execute_result"
    }
   ],
   "source": [
    "query = '''SELECT b.book_id,\n",
    "                  b.title,\n",
    "                  COUNT(DISTINCT r.review_id) num_of_reviews,\n",
    "                  ROUND (AVG(rt.rating), 2) avg_rating\n",
    "           FROM books b\n",
    "           INNER JOIN ratings rt ON b.book_id = rt.book_id\n",
    "           LEFT JOIN reviews r ON b.book_id = r.book_id\n",
    "           GROUP BY b.book_id, b.title\n",
    "           ORDER BY COUNT(r.review_id) DESC\n",
    "           '''\n",
    "con=engine.connect()\n",
    "pd.io.sql.read_sql(sql=text(query), con = con)"
   ]
  },
  {
   "cell_type": "markdown",
   "metadata": {},
   "source": [
    "Больше всего ревью было сделано на книгу Twilight (Twilight #1) - в два раза больше чем, на книгу The Hobbit or There and Back Again, которая занимает 2 место"
   ]
  },
  {
   "cell_type": "markdown",
   "metadata": {},
   "source": [
    "### Определите издательство, которое выпустило наибольшее число книг толще 50 страниц — так вы исключите из анализа брошюры"
   ]
  },
  {
   "cell_type": "code",
   "execution_count": 20,
   "metadata": {},
   "outputs": [
    {
     "data": {
      "text/html": [
       "<div>\n",
       "<style scoped>\n",
       "    .dataframe tbody tr th:only-of-type {\n",
       "        vertical-align: middle;\n",
       "    }\n",
       "\n",
       "    .dataframe tbody tr th {\n",
       "        vertical-align: top;\n",
       "    }\n",
       "\n",
       "    .dataframe thead th {\n",
       "        text-align: right;\n",
       "    }\n",
       "</style>\n",
       "<table border=\"1\" class=\"dataframe\">\n",
       "  <thead>\n",
       "    <tr style=\"text-align: right;\">\n",
       "      <th></th>\n",
       "      <th>publisher</th>\n",
       "      <th>count</th>\n",
       "    </tr>\n",
       "  </thead>\n",
       "  <tbody>\n",
       "    <tr>\n",
       "      <th>0</th>\n",
       "      <td>Penguin Books</td>\n",
       "      <td>42</td>\n",
       "    </tr>\n",
       "    <tr>\n",
       "      <th>1</th>\n",
       "      <td>Vintage</td>\n",
       "      <td>31</td>\n",
       "    </tr>\n",
       "    <tr>\n",
       "      <th>2</th>\n",
       "      <td>Grand Central Publishing</td>\n",
       "      <td>25</td>\n",
       "    </tr>\n",
       "    <tr>\n",
       "      <th>3</th>\n",
       "      <td>Penguin Classics</td>\n",
       "      <td>24</td>\n",
       "    </tr>\n",
       "    <tr>\n",
       "      <th>4</th>\n",
       "      <td>Bantam</td>\n",
       "      <td>19</td>\n",
       "    </tr>\n",
       "  </tbody>\n",
       "</table>\n",
       "</div>"
      ],
      "text/plain": [
       "                  publisher  count\n",
       "0             Penguin Books     42\n",
       "1                   Vintage     31\n",
       "2  Grand Central Publishing     25\n",
       "3          Penguin Classics     24\n",
       "4                    Bantam     19"
      ]
     },
     "execution_count": 20,
     "metadata": {},
     "output_type": "execute_result"
    }
   ],
   "source": [
    "query = '''SELECT p.publisher,\n",
    "                  COUNT(b.book_id)\n",
    "           FROM publishers p\n",
    "           JOIN books b ON p.publisher_id = b.publisher_id\n",
    "           WHERE b.num_pages > 50\n",
    "           GROUP BY p.publisher\n",
    "           ORDER BY COUNT(b.book_id) DESC\n",
    "           LIMIT 5\n",
    "           '''\n",
    "con=engine.connect()\n",
    "pd.io.sql.read_sql(sql=text(query), con = con)"
   ]
  },
  {
   "cell_type": "markdown",
   "metadata": {},
   "source": [
    "Издательством, которое выпустило наибольшее число книг толще 50 страниц стало Penguin Books"
   ]
  },
  {
   "cell_type": "markdown",
   "metadata": {},
   "source": [
    "### Определите автора с самой высокой средней оценкой книг — учитывайте только книги с 50 и более оценками;"
   ]
  },
  {
   "cell_type": "code",
   "execution_count": 21,
   "metadata": {},
   "outputs": [
    {
     "data": {
      "text/html": [
       "<div>\n",
       "<style scoped>\n",
       "    .dataframe tbody tr th:only-of-type {\n",
       "        vertical-align: middle;\n",
       "    }\n",
       "\n",
       "    .dataframe tbody tr th {\n",
       "        vertical-align: top;\n",
       "    }\n",
       "\n",
       "    .dataframe thead th {\n",
       "        text-align: right;\n",
       "    }\n",
       "</style>\n",
       "<table border=\"1\" class=\"dataframe\">\n",
       "  <thead>\n",
       "    <tr style=\"text-align: right;\">\n",
       "      <th></th>\n",
       "      <th>author</th>\n",
       "      <th>avg_rating</th>\n",
       "      <th>num_of_estimations</th>\n",
       "    </tr>\n",
       "  </thead>\n",
       "  <tbody>\n",
       "    <tr>\n",
       "      <th>0</th>\n",
       "      <td>J.K. Rowling/Mary GrandPré</td>\n",
       "      <td>4.29</td>\n",
       "      <td>310</td>\n",
       "    </tr>\n",
       "    <tr>\n",
       "      <th>1</th>\n",
       "      <td>Markus Zusak/Cao Xuân Việt Khương</td>\n",
       "      <td>4.26</td>\n",
       "      <td>53</td>\n",
       "    </tr>\n",
       "    <tr>\n",
       "      <th>2</th>\n",
       "      <td>J.R.R. Tolkien</td>\n",
       "      <td>4.25</td>\n",
       "      <td>162</td>\n",
       "    </tr>\n",
       "    <tr>\n",
       "      <th>3</th>\n",
       "      <td>Louisa May Alcott</td>\n",
       "      <td>4.19</td>\n",
       "      <td>52</td>\n",
       "    </tr>\n",
       "    <tr>\n",
       "      <th>4</th>\n",
       "      <td>Rick Riordan</td>\n",
       "      <td>4.08</td>\n",
       "      <td>62</td>\n",
       "    </tr>\n",
       "  </tbody>\n",
       "</table>\n",
       "</div>"
      ],
      "text/plain": [
       "                              author  avg_rating  num_of_estimations\n",
       "0         J.K. Rowling/Mary GrandPré        4.29                 310\n",
       "1  Markus Zusak/Cao Xuân Việt Khương        4.26                  53\n",
       "2                     J.R.R. Tolkien        4.25                 162\n",
       "3                  Louisa May Alcott        4.19                  52\n",
       "4                       Rick Riordan        4.08                  62"
      ]
     },
     "execution_count": 21,
     "metadata": {},
     "output_type": "execute_result"
    }
   ],
   "source": [
    "query = '''SELECT author,\n",
    "                  ROUND (AVG(rt.rating), 2) avg_rating,\n",
    "                  COUNT(rt.rating_id) num_of_estimations\n",
    "           FROM authors a\n",
    "           LEFT JOIN books b ON a.author_id = b.author_id\n",
    "           LEFT JOIN ratings rt ON b.book_id = rt.book_id\n",
    "           WHERE b.book_id IN\n",
    "                           (SELECT b.book_id\n",
    "                            FROM books b\n",
    "                            JOIN ratings rt ON b.book_id=rt.book_id\n",
    "                            GROUP BY b.book_id\n",
    "                            HAVING COUNT(rt.rating_id)>=50)\n",
    "           GROUP BY author\n",
    "           ORDER BY AVG(rt.rating) DESC\n",
    "           LIMIT 5\n",
    "           '''\n",
    "con=engine.connect()\n",
    "pd.io.sql.read_sql(sql=text(query), con = con)"
   ]
  },
  {
   "cell_type": "markdown",
   "metadata": {},
   "source": [
    "Авторы с самой высокой средней оценкой книг - это J.K. Rowling и Mary GrandPré"
   ]
  },
  {
   "cell_type": "markdown",
   "metadata": {},
   "source": [
    "### Посчитайте среднее количество обзоров от пользователей, которые поставили больше 48 оценок "
   ]
  },
  {
   "cell_type": "code",
   "execution_count": 22,
   "metadata": {},
   "outputs": [
    {
     "data": {
      "text/html": [
       "<div>\n",
       "<style scoped>\n",
       "    .dataframe tbody tr th:only-of-type {\n",
       "        vertical-align: middle;\n",
       "    }\n",
       "\n",
       "    .dataframe tbody tr th {\n",
       "        vertical-align: top;\n",
       "    }\n",
       "\n",
       "    .dataframe thead th {\n",
       "        text-align: right;\n",
       "    }\n",
       "</style>\n",
       "<table border=\"1\" class=\"dataframe\">\n",
       "  <thead>\n",
       "    <tr style=\"text-align: right;\">\n",
       "      <th></th>\n",
       "      <th>avg</th>\n",
       "    </tr>\n",
       "  </thead>\n",
       "  <tbody>\n",
       "    <tr>\n",
       "      <th>0</th>\n",
       "      <td>24.0</td>\n",
       "    </tr>\n",
       "  </tbody>\n",
       "</table>\n",
       "</div>"
      ],
      "text/plain": [
       "    avg\n",
       "0  24.0"
      ]
     },
     "execution_count": 22,
     "metadata": {},
     "output_type": "execute_result"
    }
   ],
   "source": [
    "query ='''SELECT AVG(users_cnt) \n",
    "          FROM (SELECT COUNT(r.review_id) users_cnt\n",
    "          FROM reviews r \n",
    "          WHERE username IN (SELECT rt.username\n",
    "          FROM ratings rt\n",
    "          GROUP BY rt.username\n",
    "          HAVING COUNT(rt.username) > 48)\n",
    "          GROUP BY username) rt\n",
    "          '''\n",
    "con=engine.connect()\n",
    "pd.io.sql.read_sql(sql=text(query), con = con)"
   ]
  },
  {
   "cell_type": "markdown",
   "metadata": {},
   "source": [
    "Среднее количество обзоров от пользователей, которые поставили больше 48 оценок равняется 24"
   ]
  },
  {
   "cell_type": "markdown",
   "metadata": {},
   "source": [
    "## Вывод"
   ]
  },
  {
   "cell_type": "markdown",
   "metadata": {},
   "source": [
    "В рамках исследования бл проведен анализ базы данных, которая содержит информацию о книгах, издательствах, авторах, а также пользовательские обзоры книг. Ответы на основные вопросы исследования дали понять, что:\n",
    "1. В базе хранится 821 книга, которые вышли после 1 января 2000 года\n",
    "2. Больше всего обозревали следующие книги: Twilight (Twilight #1), The Hobbit or There and Back Again, The Catcher in the Rye\n",
    "3. Издательством, которое выпустило наибольшее число книг толще 50 страниц стало Penguin Books. Книги с количеством страниц меньше 50 являются брошюрами \n",
    "4. Автор с самой высокой средней оценкой книг - это Diana Gabaldon, его оценка - 4,3\n",
    "5. Среднее количество обзоров от пользователей, которые поставили больше 48 оценок равняется 24"
   ]
  },
  {
   "cell_type": "markdown",
   "metadata": {},
   "source": [
    "Рекомендации бизнесу:\n",
    "1. Стоит увеличить выбор книг, предстваленных в сервисе.\n",
    "2. Имеет смысл выкладывать на сервисе книги авторов с самыми высокими оценками\n",
    "3. Можно сделать специальные предложения с продажей книг, у которых есть несколько частей"
   ]
  }
 ],
 "metadata": {
  "ExecuteTimeLog": [
   {
    "duration": 15023,
    "start_time": "2023-07-22T13:23:48.652Z"
   },
   {
    "duration": 153,
    "start_time": "2023-07-22T13:28:32.421Z"
   },
   {
    "duration": 55,
    "start_time": "2023-07-22T13:29:42.018Z"
   },
   {
    "duration": 56,
    "start_time": "2023-07-22T13:30:18.023Z"
   },
   {
    "duration": 57,
    "start_time": "2023-07-22T13:30:41.113Z"
   },
   {
    "duration": 130,
    "start_time": "2023-07-22T13:32:50.792Z"
   },
   {
    "duration": 129,
    "start_time": "2023-07-22T13:33:13.163Z"
   },
   {
    "duration": 67,
    "start_time": "2023-07-22T13:33:19.176Z"
   },
   {
    "duration": 167,
    "start_time": "2023-07-22T13:33:28.568Z"
   },
   {
    "duration": 178,
    "start_time": "2023-07-22T13:40:36.803Z"
   },
   {
    "duration": 176,
    "start_time": "2023-07-22T13:41:51.294Z"
   },
   {
    "duration": 7,
    "start_time": "2023-07-22T13:45:42.163Z"
   },
   {
    "duration": 18264,
    "start_time": "2023-07-22T13:45:48.508Z"
   },
   {
    "duration": 71,
    "start_time": "2023-07-22T13:46:06.774Z"
   },
   {
    "duration": 0,
    "start_time": "2023-07-22T13:46:06.847Z"
   },
   {
    "duration": 0,
    "start_time": "2023-07-22T13:46:06.848Z"
   },
   {
    "duration": 0,
    "start_time": "2023-07-22T13:46:06.849Z"
   },
   {
    "duration": 0,
    "start_time": "2023-07-22T13:46:06.850Z"
   },
   {
    "duration": 0,
    "start_time": "2023-07-22T13:46:06.852Z"
   },
   {
    "duration": 267,
    "start_time": "2023-07-22T13:46:27.546Z"
   },
   {
    "duration": 10,
    "start_time": "2023-07-22T13:46:29.060Z"
   },
   {
    "duration": 296,
    "start_time": "2023-07-22T13:46:48.171Z"
   },
   {
    "duration": 10,
    "start_time": "2023-07-22T13:46:48.691Z"
   },
   {
    "duration": 5,
    "start_time": "2023-07-22T13:49:09.081Z"
   },
   {
    "duration": 8,
    "start_time": "2023-07-22T13:49:47.779Z"
   },
   {
    "duration": 6,
    "start_time": "2023-07-22T13:49:59.950Z"
   },
   {
    "duration": 188,
    "start_time": "2023-07-22T13:50:21.082Z"
   },
   {
    "duration": 10,
    "start_time": "2023-07-22T13:50:36.220Z"
   },
   {
    "duration": 6,
    "start_time": "2023-07-22T13:51:00.305Z"
   },
   {
    "duration": 50,
    "start_time": "2023-07-22T13:51:17.160Z"
   },
   {
    "duration": 10,
    "start_time": "2023-07-22T13:51:29.350Z"
   },
   {
    "duration": 5,
    "start_time": "2023-07-22T13:54:52.401Z"
   },
   {
    "duration": 111,
    "start_time": "2023-07-22T13:55:07.818Z"
   },
   {
    "duration": 12,
    "start_time": "2023-07-22T13:55:17.891Z"
   },
   {
    "duration": 6,
    "start_time": "2023-07-22T13:55:38.512Z"
   },
   {
    "duration": 120,
    "start_time": "2023-07-22T13:56:31.122Z"
   },
   {
    "duration": 99,
    "start_time": "2023-07-22T13:56:42.040Z"
   },
   {
    "duration": 104,
    "start_time": "2023-07-22T13:56:50.213Z"
   },
   {
    "duration": 10,
    "start_time": "2023-07-22T14:01:00.586Z"
   },
   {
    "duration": 6,
    "start_time": "2023-07-22T14:01:19.090Z"
   },
   {
    "duration": 17250,
    "start_time": "2023-07-22T14:03:20.381Z"
   },
   {
    "duration": 12,
    "start_time": "2023-07-22T14:03:37.632Z"
   },
   {
    "duration": 17,
    "start_time": "2023-07-22T14:03:37.646Z"
   },
   {
    "duration": 9,
    "start_time": "2023-07-22T14:03:37.666Z"
   },
   {
    "duration": 174,
    "start_time": "2023-07-22T14:03:37.677Z"
   },
   {
    "duration": 9,
    "start_time": "2023-07-22T14:03:37.852Z"
   },
   {
    "duration": 9,
    "start_time": "2023-07-22T14:03:37.862Z"
   },
   {
    "duration": 62,
    "start_time": "2023-07-22T14:03:37.873Z"
   },
   {
    "duration": 8,
    "start_time": "2023-07-22T14:03:37.937Z"
   },
   {
    "duration": 9,
    "start_time": "2023-07-22T14:03:37.947Z"
   },
   {
    "duration": 103,
    "start_time": "2023-07-22T14:03:37.958Z"
   },
   {
    "duration": 8,
    "start_time": "2023-07-22T14:03:38.063Z"
   },
   {
    "duration": 14,
    "start_time": "2023-07-22T14:03:38.073Z"
   },
   {
    "duration": 86,
    "start_time": "2023-07-22T14:03:38.089Z"
   },
   {
    "duration": 9,
    "start_time": "2023-07-22T14:03:38.176Z"
   },
   {
    "duration": 10,
    "start_time": "2023-07-22T14:03:38.186Z"
   },
   {
    "duration": 55,
    "start_time": "2023-07-22T14:03:38.197Z"
   },
   {
    "duration": 140,
    "start_time": "2023-07-22T14:26:22.114Z"
   },
   {
    "duration": 87,
    "start_time": "2023-07-22T14:30:24.533Z"
   },
   {
    "duration": 195,
    "start_time": "2023-07-22T14:32:29.143Z"
   },
   {
    "duration": 100,
    "start_time": "2023-07-22T14:33:23.024Z"
   },
   {
    "duration": 5,
    "start_time": "2023-07-22T14:34:14.766Z"
   },
   {
    "duration": 15106,
    "start_time": "2023-07-22T14:34:31.740Z"
   },
   {
    "duration": 15,
    "start_time": "2023-07-22T14:34:46.847Z"
   },
   {
    "duration": 9,
    "start_time": "2023-07-22T14:34:46.864Z"
   },
   {
    "duration": 16,
    "start_time": "2023-07-22T14:34:46.875Z"
   },
   {
    "duration": 5,
    "start_time": "2023-07-22T14:34:46.893Z"
   },
   {
    "duration": 186,
    "start_time": "2023-07-22T14:34:46.899Z"
   },
   {
    "duration": 10,
    "start_time": "2023-07-22T14:34:47.086Z"
   },
   {
    "duration": 13,
    "start_time": "2023-07-22T14:34:47.098Z"
   },
   {
    "duration": 71,
    "start_time": "2023-07-22T14:34:47.112Z"
   },
   {
    "duration": 9,
    "start_time": "2023-07-22T14:34:47.185Z"
   },
   {
    "duration": 31,
    "start_time": "2023-07-22T14:34:47.196Z"
   },
   {
    "duration": 136,
    "start_time": "2023-07-22T14:34:47.229Z"
   },
   {
    "duration": 12,
    "start_time": "2023-07-22T14:34:47.367Z"
   },
   {
    "duration": 12,
    "start_time": "2023-07-22T14:34:47.384Z"
   },
   {
    "duration": 104,
    "start_time": "2023-07-22T14:34:47.398Z"
   },
   {
    "duration": 14,
    "start_time": "2023-07-22T14:34:47.504Z"
   },
   {
    "duration": 24,
    "start_time": "2023-07-22T14:34:47.520Z"
   },
   {
    "duration": 77,
    "start_time": "2023-07-22T14:34:47.545Z"
   },
   {
    "duration": 74,
    "start_time": "2023-07-22T14:34:47.625Z"
   },
   {
    "duration": 132,
    "start_time": "2023-07-22T14:36:23.657Z"
   },
   {
    "duration": 102,
    "start_time": "2023-07-22T14:39:37.068Z"
   },
   {
    "duration": 175,
    "start_time": "2023-07-22T15:04:45.015Z"
   },
   {
    "duration": 62,
    "start_time": "2023-07-22T15:05:26.868Z"
   },
   {
    "duration": 180,
    "start_time": "2023-07-22T15:05:58.442Z"
   },
   {
    "duration": 150,
    "start_time": "2023-07-22T15:06:31.553Z"
   },
   {
    "duration": 178,
    "start_time": "2023-07-22T15:06:42.672Z"
   },
   {
    "duration": 52,
    "start_time": "2023-07-22T15:06:51.645Z"
   },
   {
    "duration": 64,
    "start_time": "2023-07-22T15:07:03.365Z"
   },
   {
    "duration": 2,
    "start_time": "2023-07-22T16:08:19.574Z"
   },
   {
    "duration": 5,
    "start_time": "2023-07-22T16:08:30.762Z"
   },
   {
    "duration": 3,
    "start_time": "2023-07-22T16:08:32.576Z"
   },
   {
    "duration": 18593,
    "start_time": "2023-07-22T16:08:36.963Z"
   },
   {
    "duration": 16,
    "start_time": "2023-07-22T16:08:55.558Z"
   },
   {
    "duration": 6,
    "start_time": "2023-07-22T16:08:55.576Z"
   },
   {
    "duration": 19,
    "start_time": "2023-07-22T16:08:55.584Z"
   },
   {
    "duration": 22,
    "start_time": "2023-07-22T16:08:55.606Z"
   },
   {
    "duration": 238,
    "start_time": "2023-07-22T16:08:55.630Z"
   },
   {
    "duration": 9,
    "start_time": "2023-07-22T16:08:55.870Z"
   },
   {
    "duration": 9,
    "start_time": "2023-07-22T16:08:55.881Z"
   },
   {
    "duration": 87,
    "start_time": "2023-07-22T16:08:55.891Z"
   },
   {
    "duration": 12,
    "start_time": "2023-07-22T16:08:55.980Z"
   },
   {
    "duration": 16,
    "start_time": "2023-07-22T16:08:55.994Z"
   },
   {
    "duration": 141,
    "start_time": "2023-07-22T16:08:56.012Z"
   },
   {
    "duration": 12,
    "start_time": "2023-07-22T16:08:56.155Z"
   },
   {
    "duration": 28,
    "start_time": "2023-07-22T16:08:56.169Z"
   },
   {
    "duration": 134,
    "start_time": "2023-07-22T16:08:56.199Z"
   },
   {
    "duration": 17,
    "start_time": "2023-07-22T16:08:56.335Z"
   },
   {
    "duration": 42,
    "start_time": "2023-07-22T16:08:56.358Z"
   },
   {
    "duration": 83,
    "start_time": "2023-07-22T16:08:56.402Z"
   },
   {
    "duration": 90,
    "start_time": "2023-07-22T16:08:56.489Z"
   },
   {
    "duration": 66,
    "start_time": "2023-07-22T16:08:56.581Z"
   },
   {
    "duration": 5,
    "start_time": "2023-07-22T16:08:56.652Z"
   },
   {
    "duration": 9,
    "start_time": "2023-07-22T16:08:56.661Z"
   },
   {
    "duration": 153,
    "start_time": "2023-07-22T16:11:38.229Z"
   },
   {
    "duration": 88,
    "start_time": "2023-07-22T16:12:42.222Z"
   },
   {
    "duration": 169,
    "start_time": "2023-07-22T16:20:47.914Z"
   },
   {
    "duration": 215,
    "start_time": "2023-07-22T16:23:05.326Z"
   },
   {
    "duration": 215,
    "start_time": "2023-07-22T16:24:33.808Z"
   },
   {
    "duration": 82,
    "start_time": "2023-07-22T16:24:48.713Z"
   },
   {
    "duration": 84,
    "start_time": "2023-07-22T16:25:32.364Z"
   },
   {
    "duration": 83,
    "start_time": "2023-07-22T16:26:03.979Z"
   },
   {
    "duration": 198,
    "start_time": "2023-07-22T16:27:21.243Z"
   },
   {
    "duration": 175,
    "start_time": "2023-07-22T16:28:23.828Z"
   },
   {
    "duration": 211,
    "start_time": "2023-07-22T16:28:32.472Z"
   },
   {
    "duration": 70,
    "start_time": "2023-07-22T16:29:00.851Z"
   },
   {
    "duration": 83,
    "start_time": "2023-07-22T16:29:07.120Z"
   },
   {
    "duration": 91,
    "start_time": "2023-07-22T16:30:19.821Z"
   },
   {
    "duration": 77,
    "start_time": "2023-07-22T16:30:24.256Z"
   },
   {
    "duration": 195,
    "start_time": "2023-07-22T16:30:38.517Z"
   },
   {
    "duration": 234,
    "start_time": "2023-07-22T16:43:25.894Z"
   },
   {
    "duration": 73,
    "start_time": "2023-07-22T16:43:40.633Z"
   },
   {
    "duration": 91,
    "start_time": "2023-07-22T16:44:10.973Z"
   },
   {
    "duration": 95,
    "start_time": "2023-07-22T16:44:18.739Z"
   },
   {
    "duration": 78,
    "start_time": "2023-07-22T16:44:21.687Z"
   },
   {
    "duration": 130,
    "start_time": "2023-07-22T16:48:39.659Z"
   },
   {
    "duration": 70,
    "start_time": "2023-07-22T16:50:34.960Z"
   },
   {
    "duration": 3,
    "start_time": "2023-07-22T16:52:37.902Z"
   },
   {
    "duration": 75,
    "start_time": "2023-07-22T16:52:48.308Z"
   },
   {
    "duration": 78,
    "start_time": "2023-07-22T16:52:58.696Z"
   },
   {
    "duration": 86,
    "start_time": "2023-07-22T16:53:33.166Z"
   },
   {
    "duration": 68,
    "start_time": "2023-07-22T16:57:22.494Z"
   },
   {
    "duration": 62,
    "start_time": "2023-07-22T16:57:42.759Z"
   },
   {
    "duration": 63,
    "start_time": "2023-07-22T16:57:51.959Z"
   },
   {
    "duration": 206,
    "start_time": "2023-07-22T16:58:47.563Z"
   },
   {
    "duration": 214,
    "start_time": "2023-07-22T16:59:16.993Z"
   },
   {
    "duration": 91,
    "start_time": "2023-07-22T17:07:49.296Z"
   },
   {
    "duration": 77,
    "start_time": "2023-07-22T17:08:38.088Z"
   },
   {
    "duration": 83,
    "start_time": "2023-07-22T17:08:44.387Z"
   },
   {
    "duration": 10,
    "start_time": "2023-07-22T17:09:30.748Z"
   },
   {
    "duration": 6,
    "start_time": "2023-07-22T17:10:06.555Z"
   },
   {
    "duration": 12,
    "start_time": "2023-07-22T17:10:24.805Z"
   },
   {
    "duration": 75,
    "start_time": "2023-07-22T17:12:06.789Z"
   },
   {
    "duration": 106,
    "start_time": "2023-07-22T17:14:08.313Z"
   },
   {
    "duration": 98,
    "start_time": "2023-07-22T17:14:34.928Z"
   },
   {
    "duration": 90,
    "start_time": "2023-07-22T17:19:17.813Z"
   },
   {
    "duration": 238,
    "start_time": "2023-07-22T17:19:59.111Z"
   },
   {
    "duration": 187,
    "start_time": "2023-07-22T17:20:12.858Z"
   },
   {
    "duration": 231,
    "start_time": "2023-07-22T17:20:22.421Z"
   },
   {
    "duration": 99,
    "start_time": "2023-07-22T17:21:07.001Z"
   },
   {
    "duration": 86,
    "start_time": "2023-07-22T17:21:18.712Z"
   },
   {
    "duration": 80,
    "start_time": "2023-07-22T17:21:45.578Z"
   },
   {
    "duration": 67,
    "start_time": "2023-07-22T17:22:00.229Z"
   },
   {
    "duration": 0,
    "start_time": "2023-07-22T17:22:35.278Z"
   },
   {
    "duration": 17417,
    "start_time": "2023-07-22T17:22:48.456Z"
   },
   {
    "duration": 10,
    "start_time": "2023-07-22T17:23:05.874Z"
   },
   {
    "duration": 78,
    "start_time": "2023-07-22T17:23:05.886Z"
   },
   {
    "duration": 43,
    "start_time": "2023-07-22T17:23:05.966Z"
   },
   {
    "duration": 5,
    "start_time": "2023-07-22T17:23:06.011Z"
   },
   {
    "duration": 228,
    "start_time": "2023-07-22T17:23:06.018Z"
   },
   {
    "duration": 21,
    "start_time": "2023-07-22T17:23:06.248Z"
   },
   {
    "duration": 26,
    "start_time": "2023-07-22T17:23:06.270Z"
   },
   {
    "duration": 126,
    "start_time": "2023-07-22T17:23:06.298Z"
   },
   {
    "duration": 15,
    "start_time": "2023-07-22T17:23:06.426Z"
   },
   {
    "duration": 29,
    "start_time": "2023-07-22T17:23:06.443Z"
   },
   {
    "duration": 125,
    "start_time": "2023-07-22T17:23:06.474Z"
   },
   {
    "duration": 10,
    "start_time": "2023-07-22T17:23:06.601Z"
   },
   {
    "duration": 14,
    "start_time": "2023-07-22T17:23:06.613Z"
   },
   {
    "duration": 153,
    "start_time": "2023-07-22T17:23:06.628Z"
   },
   {
    "duration": 11,
    "start_time": "2023-07-22T17:23:06.783Z"
   },
   {
    "duration": 32,
    "start_time": "2023-07-22T17:23:06.796Z"
   },
   {
    "duration": 97,
    "start_time": "2023-07-22T17:23:06.830Z"
   },
   {
    "duration": 82,
    "start_time": "2023-07-22T17:23:06.929Z"
   },
   {
    "duration": 73,
    "start_time": "2023-07-22T17:23:07.013Z"
   },
   {
    "duration": 73,
    "start_time": "2023-07-22T17:23:07.088Z"
   },
   {
    "duration": 64,
    "start_time": "2023-07-22T17:23:07.163Z"
   },
   {
    "duration": 9,
    "start_time": "2023-07-22T17:23:07.229Z"
   },
   {
    "duration": 109,
    "start_time": "2023-07-22T17:23:07.239Z"
   },
   {
    "duration": 160,
    "start_time": "2023-07-22T17:23:07.351Z"
   },
   {
    "duration": 0,
    "start_time": "2023-07-22T17:23:07.513Z"
   },
   {
    "duration": 0,
    "start_time": "2023-07-22T17:23:07.514Z"
   },
   {
    "duration": 87,
    "start_time": "2023-07-22T17:23:28.918Z"
   },
   {
    "duration": 160,
    "start_time": "2023-07-22T17:24:56.070Z"
   },
   {
    "duration": 9,
    "start_time": "2023-07-22T17:25:21.128Z"
   },
   {
    "duration": 3,
    "start_time": "2023-07-22T17:30:03.409Z"
   },
   {
    "duration": 228,
    "start_time": "2023-07-22T17:30:18.294Z"
   },
   {
    "duration": 70,
    "start_time": "2023-07-22T17:30:59.363Z"
   },
   {
    "duration": 193,
    "start_time": "2023-07-22T17:37:16.011Z"
   },
   {
    "duration": 144,
    "start_time": "2023-07-22T17:37:25.671Z"
   },
   {
    "duration": 72,
    "start_time": "2023-07-22T17:37:38.190Z"
   },
   {
    "duration": 100,
    "start_time": "2023-07-22T17:39:15.789Z"
   },
   {
    "duration": 57,
    "start_time": "2023-07-22T17:39:53.202Z"
   },
   {
    "duration": 60,
    "start_time": "2023-07-22T17:42:27.950Z"
   },
   {
    "duration": 90,
    "start_time": "2023-07-22T17:44:58.802Z"
   },
   {
    "duration": 76,
    "start_time": "2023-07-22T17:45:29.993Z"
   },
   {
    "duration": 67,
    "start_time": "2023-07-22T17:45:45.550Z"
   },
   {
    "duration": 55,
    "start_time": "2023-07-22T17:46:01.796Z"
   },
   {
    "duration": 86,
    "start_time": "2023-07-22T17:46:07.383Z"
   },
   {
    "duration": 69,
    "start_time": "2023-07-22T17:46:17.872Z"
   },
   {
    "duration": 68,
    "start_time": "2023-07-22T17:46:29.418Z"
   },
   {
    "duration": 55,
    "start_time": "2023-07-22T17:46:48.375Z"
   },
   {
    "duration": 69,
    "start_time": "2023-07-22T17:47:02.884Z"
   },
   {
    "duration": 18646,
    "start_time": "2023-07-22T18:46:38.212Z"
   },
   {
    "duration": 14,
    "start_time": "2023-07-22T18:46:56.862Z"
   },
   {
    "duration": 28,
    "start_time": "2023-07-22T18:46:56.881Z"
   },
   {
    "duration": 71,
    "start_time": "2023-07-22T18:46:56.911Z"
   },
   {
    "duration": 25,
    "start_time": "2023-07-22T18:46:56.984Z"
   },
   {
    "duration": 272,
    "start_time": "2023-07-22T18:46:57.011Z"
   },
   {
    "duration": 10,
    "start_time": "2023-07-22T18:46:57.284Z"
   },
   {
    "duration": 8,
    "start_time": "2023-07-22T18:46:57.295Z"
   },
   {
    "duration": 100,
    "start_time": "2023-07-22T18:46:57.304Z"
   },
   {
    "duration": 12,
    "start_time": "2023-07-22T18:46:57.408Z"
   },
   {
    "duration": 86,
    "start_time": "2023-07-22T18:46:57.422Z"
   },
   {
    "duration": 434,
    "start_time": "2023-07-22T18:46:57.509Z"
   },
   {
    "duration": 20,
    "start_time": "2023-07-22T18:46:57.944Z"
   },
   {
    "duration": 40,
    "start_time": "2023-07-22T18:46:57.966Z"
   },
   {
    "duration": 161,
    "start_time": "2023-07-22T18:46:58.008Z"
   },
   {
    "duration": 15,
    "start_time": "2023-07-22T18:46:58.180Z"
   },
   {
    "duration": 16,
    "start_time": "2023-07-22T18:46:58.197Z"
   },
   {
    "duration": 99,
    "start_time": "2023-07-22T18:46:58.215Z"
   },
   {
    "duration": 165,
    "start_time": "2023-07-22T18:46:58.316Z"
   },
   {
    "duration": 76,
    "start_time": "2023-07-22T18:46:58.482Z"
   },
   {
    "duration": 78,
    "start_time": "2023-07-22T18:46:58.561Z"
   },
   {
    "duration": 75,
    "start_time": "2023-07-22T18:46:58.641Z"
   },
   {
    "duration": 23261,
    "start_time": "2023-07-23T03:26:55.774Z"
   },
   {
    "duration": 10,
    "start_time": "2023-07-23T03:27:19.037Z"
   },
   {
    "duration": 21,
    "start_time": "2023-07-23T03:27:19.048Z"
   },
   {
    "duration": 33,
    "start_time": "2023-07-23T03:27:19.071Z"
   },
   {
    "duration": 10,
    "start_time": "2023-07-23T03:27:19.107Z"
   },
   {
    "duration": 209,
    "start_time": "2023-07-23T03:27:19.118Z"
   },
   {
    "duration": 9,
    "start_time": "2023-07-23T03:27:19.329Z"
   },
   {
    "duration": 24,
    "start_time": "2023-07-23T03:27:19.340Z"
   },
   {
    "duration": 86,
    "start_time": "2023-07-23T03:27:19.365Z"
   },
   {
    "duration": 10,
    "start_time": "2023-07-23T03:27:19.453Z"
   },
   {
    "duration": 23,
    "start_time": "2023-07-23T03:27:19.465Z"
   },
   {
    "duration": 125,
    "start_time": "2023-07-23T03:27:19.490Z"
   },
   {
    "duration": 22,
    "start_time": "2023-07-23T03:27:19.617Z"
   },
   {
    "duration": 15,
    "start_time": "2023-07-23T03:27:19.642Z"
   },
   {
    "duration": 106,
    "start_time": "2023-07-23T03:27:19.658Z"
   },
   {
    "duration": 11,
    "start_time": "2023-07-23T03:27:19.766Z"
   },
   {
    "duration": 26,
    "start_time": "2023-07-23T03:27:19.778Z"
   },
   {
    "duration": 110,
    "start_time": "2023-07-23T03:27:19.805Z"
   },
   {
    "duration": 72,
    "start_time": "2023-07-23T03:27:19.916Z"
   },
   {
    "duration": 55,
    "start_time": "2023-07-23T03:27:19.990Z"
   },
   {
    "duration": 60,
    "start_time": "2023-07-23T03:27:20.046Z"
   },
   {
    "duration": 58,
    "start_time": "2023-07-23T03:27:20.107Z"
   },
   {
    "duration": 62,
    "start_time": "2023-07-23T03:28:44.806Z"
   },
   {
    "duration": 168,
    "start_time": "2023-07-23T03:29:13.212Z"
   },
   {
    "duration": 159,
    "start_time": "2023-07-23T03:29:22.416Z"
   },
   {
    "duration": 174,
    "start_time": "2023-07-23T03:30:36.939Z"
   },
   {
    "duration": 170,
    "start_time": "2023-07-23T03:30:44.314Z"
   },
   {
    "duration": 58,
    "start_time": "2023-07-23T03:30:48.084Z"
   },
   {
    "duration": 58,
    "start_time": "2023-07-23T03:31:07.175Z"
   },
   {
    "duration": 51,
    "start_time": "2023-07-23T03:31:26.837Z"
   },
   {
    "duration": 53,
    "start_time": "2023-07-23T03:31:46.833Z"
   },
   {
    "duration": 53,
    "start_time": "2023-07-23T03:31:59.610Z"
   },
   {
    "duration": 93,
    "start_time": "2023-07-23T03:32:19.307Z"
   },
   {
    "duration": 55,
    "start_time": "2023-07-23T03:32:28.205Z"
   },
   {
    "duration": 89,
    "start_time": "2023-07-23T03:33:12.668Z"
   },
   {
    "duration": 97,
    "start_time": "2023-07-23T03:33:27.204Z"
   },
   {
    "duration": 5,
    "start_time": "2023-07-23T03:33:40.557Z"
   },
   {
    "duration": 89,
    "start_time": "2023-07-23T03:35:52.840Z"
   },
   {
    "duration": 4,
    "start_time": "2023-07-23T03:35:56.993Z"
   },
   {
    "duration": 50,
    "start_time": "2023-07-23T03:38:45.245Z"
   },
   {
    "duration": 50,
    "start_time": "2023-07-23T03:38:48.063Z"
   },
   {
    "duration": 48,
    "start_time": "2023-07-23T08:44:41.528Z"
   },
   {
    "duration": 17614,
    "start_time": "2023-07-23T08:44:46.788Z"
   },
   {
    "duration": 13,
    "start_time": "2023-07-23T08:45:04.404Z"
   },
   {
    "duration": 9,
    "start_time": "2023-07-23T08:45:04.418Z"
   },
   {
    "duration": 19,
    "start_time": "2023-07-23T08:45:04.429Z"
   },
   {
    "duration": 21,
    "start_time": "2023-07-23T08:45:04.451Z"
   },
   {
    "duration": 64,
    "start_time": "2023-07-23T08:45:04.474Z"
   },
   {
    "duration": 10,
    "start_time": "2023-07-23T08:45:04.539Z"
   },
   {
    "duration": 9,
    "start_time": "2023-07-23T08:45:04.551Z"
   },
   {
    "duration": 17,
    "start_time": "2023-07-23T08:45:04.562Z"
   },
   {
    "duration": 9,
    "start_time": "2023-07-23T08:45:04.580Z"
   },
   {
    "duration": 20,
    "start_time": "2023-07-23T08:45:04.590Z"
   },
   {
    "duration": 41,
    "start_time": "2023-07-23T08:45:04.612Z"
   },
   {
    "duration": 9,
    "start_time": "2023-07-23T08:45:04.655Z"
   },
   {
    "duration": 15,
    "start_time": "2023-07-23T08:45:04.667Z"
   },
   {
    "duration": 20,
    "start_time": "2023-07-23T08:45:04.684Z"
   },
   {
    "duration": 10,
    "start_time": "2023-07-23T08:45:04.706Z"
   },
   {
    "duration": 23,
    "start_time": "2023-07-23T08:45:04.718Z"
   },
   {
    "duration": 17,
    "start_time": "2023-07-23T08:45:04.742Z"
   },
   {
    "duration": 60,
    "start_time": "2023-07-23T08:45:04.760Z"
   },
   {
    "duration": 13,
    "start_time": "2023-07-23T08:45:04.823Z"
   },
   {
    "duration": 21,
    "start_time": "2023-07-23T08:45:04.837Z"
   },
   {
    "duration": 14,
    "start_time": "2023-07-23T08:45:04.860Z"
   },
   {
    "duration": 10,
    "start_time": "2023-07-23T08:46:35.197Z"
   },
   {
    "duration": 11,
    "start_time": "2023-07-23T08:46:43.108Z"
   },
   {
    "duration": 89,
    "start_time": "2023-07-23T08:46:52.404Z"
   },
   {
    "duration": 21,
    "start_time": "2023-07-23T08:47:01.752Z"
   },
   {
    "duration": 73,
    "start_time": "2023-07-23T08:47:24.003Z"
   },
   {
    "duration": 57,
    "start_time": "2023-07-23T08:52:51.311Z"
   },
   {
    "duration": 28,
    "start_time": "2023-07-23T08:53:10.652Z"
   },
   {
    "duration": 35,
    "start_time": "2023-07-23T08:57:45.632Z"
   },
   {
    "duration": 27,
    "start_time": "2023-07-23T08:58:29.463Z"
   },
   {
    "duration": 28,
    "start_time": "2023-07-23T08:58:49.500Z"
   },
   {
    "duration": 26,
    "start_time": "2023-07-23T08:59:11.711Z"
   },
   {
    "duration": 28,
    "start_time": "2023-07-23T08:59:27.271Z"
   },
   {
    "duration": 30,
    "start_time": "2023-07-23T09:00:29.550Z"
   },
   {
    "duration": 17,
    "start_time": "2023-07-23T09:04:51.772Z"
   },
   {
    "duration": 17,
    "start_time": "2023-07-23T09:06:19.150Z"
   },
   {
    "duration": 18,
    "start_time": "2023-07-23T09:06:35.301Z"
   },
   {
    "duration": 18,
    "start_time": "2023-07-23T09:06:42.375Z"
   },
   {
    "duration": 8651,
    "start_time": "2023-07-23T09:16:29.274Z"
   },
   {
    "duration": 12,
    "start_time": "2023-07-23T09:16:37.927Z"
   },
   {
    "duration": 33,
    "start_time": "2023-07-23T09:16:37.940Z"
   },
   {
    "duration": 19,
    "start_time": "2023-07-23T09:16:37.974Z"
   },
   {
    "duration": 4,
    "start_time": "2023-07-23T09:16:37.995Z"
   },
   {
    "duration": 72,
    "start_time": "2023-07-23T09:16:38.000Z"
   },
   {
    "duration": 9,
    "start_time": "2023-07-23T09:16:38.074Z"
   },
   {
    "duration": 8,
    "start_time": "2023-07-23T09:16:38.084Z"
   },
   {
    "duration": 19,
    "start_time": "2023-07-23T09:16:38.094Z"
   },
   {
    "duration": 10,
    "start_time": "2023-07-23T09:16:38.115Z"
   },
   {
    "duration": 12,
    "start_time": "2023-07-23T09:16:38.126Z"
   },
   {
    "duration": 37,
    "start_time": "2023-07-23T09:16:38.139Z"
   },
   {
    "duration": 10,
    "start_time": "2023-07-23T09:16:38.177Z"
   },
   {
    "duration": 7,
    "start_time": "2023-07-23T09:16:38.189Z"
   },
   {
    "duration": 34,
    "start_time": "2023-07-23T09:16:38.198Z"
   },
   {
    "duration": 9,
    "start_time": "2023-07-23T09:16:38.234Z"
   },
   {
    "duration": 10,
    "start_time": "2023-07-23T09:16:38.245Z"
   },
   {
    "duration": 14,
    "start_time": "2023-07-23T09:16:38.256Z"
   },
   {
    "duration": 26,
    "start_time": "2023-07-23T09:16:38.271Z"
   },
   {
    "duration": 24,
    "start_time": "2023-07-23T09:16:38.299Z"
   },
   {
    "duration": 15,
    "start_time": "2023-07-23T09:16:38.324Z"
   },
   {
    "duration": 29,
    "start_time": "2023-07-23T09:16:38.341Z"
   },
   {
    "duration": 57,
    "start_time": "2023-07-23T21:54:03.485Z"
   },
   {
    "duration": 18218,
    "start_time": "2023-07-23T21:54:10.543Z"
   },
   {
    "duration": 12,
    "start_time": "2023-07-23T21:54:28.763Z"
   },
   {
    "duration": 22,
    "start_time": "2023-07-23T21:54:28.776Z"
   },
   {
    "duration": 40,
    "start_time": "2023-07-23T21:54:28.800Z"
   },
   {
    "duration": 5,
    "start_time": "2023-07-23T21:54:28.842Z"
   },
   {
    "duration": 201,
    "start_time": "2023-07-23T21:54:28.848Z"
   },
   {
    "duration": 11,
    "start_time": "2023-07-23T21:54:29.050Z"
   },
   {
    "duration": 9,
    "start_time": "2023-07-23T21:54:29.063Z"
   },
   {
    "duration": 72,
    "start_time": "2023-07-23T21:54:29.074Z"
   },
   {
    "duration": 10,
    "start_time": "2023-07-23T21:54:29.148Z"
   },
   {
    "duration": 15,
    "start_time": "2023-07-23T21:54:29.159Z"
   },
   {
    "duration": 135,
    "start_time": "2023-07-23T21:54:29.176Z"
   },
   {
    "duration": 14,
    "start_time": "2023-07-23T21:54:29.314Z"
   },
   {
    "duration": 25,
    "start_time": "2023-07-23T21:54:29.329Z"
   },
   {
    "duration": 107,
    "start_time": "2023-07-23T21:54:29.355Z"
   },
   {
    "duration": 9,
    "start_time": "2023-07-23T21:54:29.464Z"
   },
   {
    "duration": 9,
    "start_time": "2023-07-23T21:54:29.475Z"
   },
   {
    "duration": 63,
    "start_time": "2023-07-23T21:54:29.485Z"
   },
   {
    "duration": 76,
    "start_time": "2023-07-23T21:54:29.549Z"
   },
   {
    "duration": 60,
    "start_time": "2023-07-23T21:54:29.626Z"
   },
   {
    "duration": 84,
    "start_time": "2023-07-23T21:54:29.689Z"
   },
   {
    "duration": 74,
    "start_time": "2023-07-23T21:54:29.775Z"
   },
   {
    "duration": 109,
    "start_time": "2023-07-23T21:59:21.645Z"
   },
   {
    "duration": 123,
    "start_time": "2023-07-23T22:00:57.494Z"
   },
   {
    "duration": 110,
    "start_time": "2023-07-23T22:01:02.360Z"
   },
   {
    "duration": 121,
    "start_time": "2023-07-23T22:02:40.997Z"
   },
   {
    "duration": 76,
    "start_time": "2023-07-23T22:07:44.363Z"
   },
   {
    "duration": 122,
    "start_time": "2023-07-23T22:08:05.432Z"
   },
   {
    "duration": 114,
    "start_time": "2023-07-23T22:08:55.250Z"
   },
   {
    "duration": 19956,
    "start_time": "2023-07-23T22:12:23.130Z"
   },
   {
    "duration": 18,
    "start_time": "2023-07-23T22:12:43.089Z"
   },
   {
    "duration": 40,
    "start_time": "2023-07-23T22:12:43.109Z"
   },
   {
    "duration": 10,
    "start_time": "2023-07-23T22:12:43.152Z"
   },
   {
    "duration": 6,
    "start_time": "2023-07-23T22:12:43.166Z"
   },
   {
    "duration": 204,
    "start_time": "2023-07-23T22:12:43.173Z"
   },
   {
    "duration": 10,
    "start_time": "2023-07-23T22:12:43.379Z"
   },
   {
    "duration": 9,
    "start_time": "2023-07-23T22:12:43.391Z"
   },
   {
    "duration": 101,
    "start_time": "2023-07-23T22:12:43.408Z"
   },
   {
    "duration": 18,
    "start_time": "2023-07-23T22:12:43.511Z"
   },
   {
    "duration": 16,
    "start_time": "2023-07-23T22:12:43.534Z"
   },
   {
    "duration": 147,
    "start_time": "2023-07-23T22:12:43.552Z"
   },
   {
    "duration": 22,
    "start_time": "2023-07-23T22:12:43.702Z"
   },
   {
    "duration": 32,
    "start_time": "2023-07-23T22:12:43.732Z"
   },
   {
    "duration": 130,
    "start_time": "2023-07-23T22:12:43.766Z"
   },
   {
    "duration": 17,
    "start_time": "2023-07-23T22:12:43.898Z"
   },
   {
    "duration": 41,
    "start_time": "2023-07-23T22:12:43.917Z"
   },
   {
    "duration": 98,
    "start_time": "2023-07-23T22:12:43.960Z"
   },
   {
    "duration": 81,
    "start_time": "2023-07-23T22:12:44.060Z"
   },
   {
    "duration": 57,
    "start_time": "2023-07-23T22:12:44.143Z"
   },
   {
    "duration": 79,
    "start_time": "2023-07-23T22:12:44.202Z"
   },
   {
    "duration": 84,
    "start_time": "2023-07-23T22:12:44.283Z"
   }
  ],
  "kernelspec": {
   "display_name": "Python 3 (ipykernel)",
   "language": "python",
   "name": "python3"
  },
  "language_info": {
   "codemirror_mode": {
    "name": "ipython",
    "version": 3
   },
   "file_extension": ".py",
   "mimetype": "text/x-python",
   "name": "python",
   "nbconvert_exporter": "python",
   "pygments_lexer": "ipython3",
   "version": "3.9.5"
  },
  "toc": {
   "base_numbering": 1,
   "nav_menu": {},
   "number_sections": true,
   "sideBar": true,
   "skip_h1_title": true,
   "title_cell": "Table of Contents",
   "title_sidebar": "Contents",
   "toc_cell": false,
   "toc_position": {},
   "toc_section_display": true,
   "toc_window_display": false
  }
 },
 "nbformat": 4,
 "nbformat_minor": 2
}
